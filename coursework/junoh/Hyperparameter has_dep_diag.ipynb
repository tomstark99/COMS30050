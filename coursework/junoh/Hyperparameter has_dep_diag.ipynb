{
 "cells": [
  {
   "cell_type": "markdown",
   "metadata": {
    "colab_type": "text",
    "id": "view-in-github"
   },
   "source": [
    "<a href=\"https://colab.research.google.com/github/7201krap/PYTHON_applied_data_science/blob/main/apr17.ipynb\" target=\"_parent\"><img src=\"https://colab.research.google.com/assets/colab-badge.svg\" alt=\"Open In Colab\"/></a>"
   ]
  },
  {
   "cell_type": "code",
   "execution_count": 14,
   "metadata": {
    "id": "Wq5KSVa266mI"
   },
   "outputs": [],
   "source": [
    "from sklearn import datasets\n",
    "\n",
    "# How are we going to use evaluate the performance? \n",
    "# 1. accuracy\n",
    "from sklearn import metrics\n",
    "# 2. f1 score \n",
    "from sklearn.metrics import f1_score\n",
    "\n",
    "# Machine learning models \n",
    "\n",
    "# Linear Regression \n",
    "# url : https://scikit-learn.org/stable/modules/generated/sklearn.linear_model.LinearRegression.html\n",
    "from sklearn.linear_model import LinearRegression\n",
    "\n",
    "# SVM\n",
    "# url: https://scikit-learn.org/stable/modules/generated/sklearn.svm.SVC.html\n",
    "from sklearn import svm\n",
    "\n",
    "# KNN \n",
    "# url: https://scikit-learn.org/stable/modules/generated/sklearn.neighbors.KNeighborsClassifier.html\n",
    "from sklearn.neighbors import KNeighborsClassifier\n",
    "\n",
    "# Decision Tree\n",
    "# url: https://scikit-learn.org/stable/modules/generated/sklearn.tree.DecisionTreeClassifier.html\n",
    "from sklearn.tree import DecisionTreeClassifier\n",
    "\n",
    "# Random Forest \n",
    "# url: https://scikit-learn.org/stable/modules/generated/sklearn.ensemble.RandomForestClassifier.html\n",
    "from sklearn.ensemble import RandomForestClassifier\n",
    "\n",
    "# Logistic Classifier\n",
    "from sklearn.linear_model import LogisticRegression\n",
    "\n",
    "from sklearn.model_selection import RepeatedStratifiedKFold\n",
    "from sklearn.model_selection import GridSearchCV\n",
    "\n",
    "from sklearn.model_selection import learning_curve, RandomizedSearchCV, GridSearchCV\n",
    "from sklearn.model_selection import train_test_split, KFold\n",
    "from sklearn.datasets import make_classification\n",
    "from sklearn.pipeline import make_pipeline\n",
    "from sklearn.preprocessing import StandardScaler\n",
    "\n",
    "import numpy as np\n",
    "import matplotlib.pyplot as plt\n",
    "\n",
    "# PCA \n",
    "from sklearn.decomposition import PCA \n",
    "\n",
    "# Linear Regression\n",
    "from sklearn.model_selection import train_test_split\n",
    "from sklearn.linear_model import LinearRegression\n",
    "from sklearn.metrics import mean_squared_error, r2_score\n",
    "\n",
    "import pandas as pd\n",
    "import matplotlib.pyplot as plt\n",
    "import numpy as np\n",
    "\n",
    "import seaborn as sns"
   ]
  },
  {
   "cell_type": "markdown",
   "metadata": {
    "id": "zfY4HfYs66mZ"
   },
   "source": [
    "Here, I use cancer dataset for tutorials.\n",
    "It can be simply changed to another dataset"
   ]
  },
  {
   "cell_type": "markdown",
   "metadata": {
    "id": "xC7DkowR66mb"
   },
   "source": [
    "## Machine learning algorithms that we are going to use\n",
    "\n",
    "- SVM\n",
    "\n",
    "- Random Forest \n",
    "\n",
    "- Decision Tree \n",
    "\n",
    "- Softmax \n",
    "\n",
    "- KNN "
   ]
  },
  {
   "cell_type": "markdown",
   "metadata": {
    "id": "62-J3jg866md"
   },
   "source": [
    "## Preprocess all data\n",
    "https://www.datacamp.com/community/tutorials/svm-classification-scikit-learn-python"
   ]
  },
  {
   "cell_type": "code",
   "execution_count": 15,
   "metadata": {
    "colab": {
     "base_uri": "https://localhost:8080/"
    },
    "id": "ViAMxGXO66me",
    "outputId": "9b5b5a38-21a1-4c43-876b-648c7cb5935f"
   },
   "outputs": [],
   "source": [
    "sampled_has_dep_diag = pd.read_csv('sampled_has_dep_diag.csv')\n",
    "\n",
    "target = sampled_has_dep_diag['has_dep_diag'].copy()\n",
    "\n",
    "data = sampled_has_dep_diag.copy()\n",
    "del data['has_dep_diag']"
   ]
  },
  {
   "cell_type": "code",
   "execution_count": 16,
   "metadata": {
    "colab": {
     "base_uri": "https://localhost:8080/"
    },
    "id": "kRy5hoST66mk",
    "outputId": "4cee2042-5e18-4841-9638-a1fd3c313937"
   },
   "outputs": [
    {
     "data": {
      "text/html": [
       "<div>\n",
       "<style scoped>\n",
       "    .dataframe tbody tr th:only-of-type {\n",
       "        vertical-align: middle;\n",
       "    }\n",
       "\n",
       "    .dataframe tbody tr th {\n",
       "        vertical-align: top;\n",
       "    }\n",
       "\n",
       "    .dataframe thead th {\n",
       "        text-align: right;\n",
       "    }\n",
       "</style>\n",
       "<table border=\"1\" class=\"dataframe\">\n",
       "  <thead>\n",
       "    <tr style=\"text-align: right;\">\n",
       "      <th></th>\n",
       "      <th>comp_week</th>\n",
       "      <th>comp_wend</th>\n",
       "      <th>text_week</th>\n",
       "      <th>text_wend</th>\n",
       "      <th>tv_week</th>\n",
       "      <th>tv_wend</th>\n",
       "    </tr>\n",
       "  </thead>\n",
       "  <tbody>\n",
       "    <tr>\n",
       "      <th>0</th>\n",
       "      <td>3</td>\n",
       "      <td>3</td>\n",
       "      <td>2</td>\n",
       "      <td>3</td>\n",
       "      <td>1</td>\n",
       "      <td>2</td>\n",
       "    </tr>\n",
       "    <tr>\n",
       "      <th>1</th>\n",
       "      <td>2</td>\n",
       "      <td>2</td>\n",
       "      <td>2</td>\n",
       "      <td>2</td>\n",
       "      <td>3</td>\n",
       "      <td>3</td>\n",
       "    </tr>\n",
       "    <tr>\n",
       "      <th>2</th>\n",
       "      <td>1</td>\n",
       "      <td>2</td>\n",
       "      <td>1</td>\n",
       "      <td>1</td>\n",
       "      <td>1</td>\n",
       "      <td>0</td>\n",
       "    </tr>\n",
       "    <tr>\n",
       "      <th>3</th>\n",
       "      <td>2</td>\n",
       "      <td>3</td>\n",
       "      <td>3</td>\n",
       "      <td>3</td>\n",
       "      <td>2</td>\n",
       "      <td>1</td>\n",
       "    </tr>\n",
       "    <tr>\n",
       "      <th>4</th>\n",
       "      <td>3</td>\n",
       "      <td>3</td>\n",
       "      <td>0</td>\n",
       "      <td>0</td>\n",
       "      <td>1</td>\n",
       "      <td>3</td>\n",
       "    </tr>\n",
       "    <tr>\n",
       "      <th>...</th>\n",
       "      <td>...</td>\n",
       "      <td>...</td>\n",
       "      <td>...</td>\n",
       "      <td>...</td>\n",
       "      <td>...</td>\n",
       "      <td>...</td>\n",
       "    </tr>\n",
       "    <tr>\n",
       "      <th>626</th>\n",
       "      <td>3</td>\n",
       "      <td>3</td>\n",
       "      <td>3</td>\n",
       "      <td>3</td>\n",
       "      <td>3</td>\n",
       "      <td>3</td>\n",
       "    </tr>\n",
       "    <tr>\n",
       "      <th>627</th>\n",
       "      <td>2</td>\n",
       "      <td>2</td>\n",
       "      <td>3</td>\n",
       "      <td>3</td>\n",
       "      <td>2</td>\n",
       "      <td>2</td>\n",
       "    </tr>\n",
       "    <tr>\n",
       "      <th>628</th>\n",
       "      <td>2</td>\n",
       "      <td>0</td>\n",
       "      <td>1</td>\n",
       "      <td>1</td>\n",
       "      <td>1</td>\n",
       "      <td>2</td>\n",
       "    </tr>\n",
       "    <tr>\n",
       "      <th>629</th>\n",
       "      <td>2</td>\n",
       "      <td>2</td>\n",
       "      <td>1</td>\n",
       "      <td>1</td>\n",
       "      <td>1</td>\n",
       "      <td>2</td>\n",
       "    </tr>\n",
       "    <tr>\n",
       "      <th>630</th>\n",
       "      <td>1</td>\n",
       "      <td>2</td>\n",
       "      <td>1</td>\n",
       "      <td>1</td>\n",
       "      <td>2</td>\n",
       "      <td>2</td>\n",
       "    </tr>\n",
       "  </tbody>\n",
       "</table>\n",
       "<p>631 rows × 6 columns</p>\n",
       "</div>"
      ],
      "text/plain": [
       "     comp_week  comp_wend  text_week  text_wend  tv_week  tv_wend\n",
       "0            3          3          2          3        1        2\n",
       "1            2          2          2          2        3        3\n",
       "2            1          2          1          1        1        0\n",
       "3            2          3          3          3        2        1\n",
       "4            3          3          0          0        1        3\n",
       "..         ...        ...        ...        ...      ...      ...\n",
       "626          3          3          3          3        3        3\n",
       "627          2          2          3          3        2        2\n",
       "628          2          0          1          1        1        2\n",
       "629          2          2          1          1        1        2\n",
       "630          1          2          1          1        2        2\n",
       "\n",
       "[631 rows x 6 columns]"
      ]
     },
     "execution_count": 16,
     "metadata": {},
     "output_type": "execute_result"
    }
   ],
   "source": [
    "data"
   ]
  },
  {
   "cell_type": "code",
   "execution_count": 17,
   "metadata": {},
   "outputs": [
    {
     "data": {
      "text/plain": [
       "0      1\n",
       "1      1\n",
       "2      0\n",
       "3      0\n",
       "4      1\n",
       "      ..\n",
       "626    1\n",
       "627    0\n",
       "628    0\n",
       "629    0\n",
       "630    0\n",
       "Name: has_dep_diag, Length: 631, dtype: int64"
      ]
     },
     "execution_count": 17,
     "metadata": {},
     "output_type": "execute_result"
    }
   ],
   "source": [
    "target"
   ]
  },
  {
   "cell_type": "markdown",
   "metadata": {},
   "source": [
    "## Generate Train and Test - Others"
   ]
  },
  {
   "cell_type": "code",
   "execution_count": 18,
   "metadata": {},
   "outputs": [],
   "source": [
    "X_train, X_test, y_train, y_test = train_test_split(data, target, test_size=0.3, random_state=1)  # 70% training and 30% test"
   ]
  },
  {
   "cell_type": "markdown",
   "metadata": {
    "id": "_e11X_yx-iD6"
   },
   "source": [
    "## SVM"
   ]
  },
  {
   "cell_type": "code",
   "execution_count": 19,
   "metadata": {
    "id": "6OI7vUWZHrIi"
   },
   "outputs": [],
   "source": [
    "folds = KFold(n_splits = 5, shuffle = True, random_state = 1)"
   ]
  },
  {
   "cell_type": "code",
   "execution_count": 20,
   "metadata": {
    "id": "_fKIxVbX66mn"
   },
   "outputs": [],
   "source": [
    "svm_hyper_params = [ \n",
    "                        {\n",
    "                        'gamma': np.logspace(-4, -1, 4),\n",
    "                        'C': np.logspace(-3, 1, 5),\n",
    "                        'kernel': ['linear', 'poly', 'rbf', 'sigmoid']\n",
    "                        }\n",
    "                    ]\n",
    "\n",
    "# specify model\n",
    "svm_model = svm.SVC(random_state=1)\n",
    "\n",
    "# set up GridSearchCV()\n",
    "svm_model_cv = GridSearchCV(estimator = svm_model, \n",
    "                            param_grid = svm_hyper_params, \n",
    "                            scoring= 'accuracy', \n",
    "                            cv = folds, \n",
    "                            verbose = 2,\n",
    "                            return_train_score=True,\n",
    "                            n_jobs=2)      "
   ]
  },
  {
   "cell_type": "code",
   "execution_count": 21,
   "metadata": {
    "colab": {
     "base_uri": "https://localhost:8080/"
    },
    "id": "Adbbt5c866mo",
    "outputId": "f9cd69a3-f5e0-4ab1-81f3-a5ef5f6467f8"
   },
   "outputs": [
    {
     "name": "stdout",
     "output_type": "stream",
     "text": [
      "Fitting 5 folds for each of 80 candidates, totalling 400 fits\n",
      "best hyper parameters {'C': 0.1, 'gamma': 0.1, 'kernel': 'poly'}\n"
     ]
    }
   ],
   "source": [
    "# fit the model\n",
    "svm_model_cv.fit(X_train, y_train)\n",
    "print(\"best hyper parameters\", svm_model_cv.best_params_)\n",
    "svm_y_pred = svm_model_cv.predict(X_test)"
   ]
  },
  {
   "cell_type": "code",
   "execution_count": 22,
   "metadata": {
    "colab": {
     "base_uri": "https://localhost:8080/"
    },
    "id": "dst30cYtOZ29",
    "outputId": "5e584a0f-1c84-48d6-b033-331259225641"
   },
   "outputs": [
    {
     "name": "stdout",
     "output_type": "stream",
     "text": [
      "Accuracy: 0.6421052631578947\n",
      "F1 score macro: 0.391025641025641\n",
      "F1 score weighted: 0.5021592442645074\n"
     ]
    }
   ],
   "source": [
    "# accuracy \n",
    "print(\"Accuracy:\", metrics.accuracy_score(y_test, svm_y_pred))\n",
    "# f1 score \n",
    "print(\"F1 score macro:\", f1_score(y_test, svm_y_pred, average='macro'))\n",
    "print(\"F1 score weighted:\", f1_score(y_test, svm_y_pred, average='weighted'))"
   ]
  },
  {
   "cell_type": "markdown",
   "metadata": {
    "id": "ETvDxUzl-oXC"
   },
   "source": [
    "## Logistic Regression"
   ]
  },
  {
   "cell_type": "code",
   "execution_count": 23,
   "metadata": {
    "id": "aez9Ik2M-pXl"
   },
   "outputs": [],
   "source": [
    "log_hyper_params = [ \n",
    "                        {\n",
    "                        'C': np.logspace(-4, 2, 7),\n",
    "                        'solver' : ['newton-cg', 'lbfgs', 'liblinear', 'sag', 'saga'],\n",
    "                        'penalty' : ['l1', 'l2', 'elasticnet', 'none'],\n",
    "                        'multi_class' : ['auto', 'ovr', 'multinomial']\n",
    "                        }\n",
    "                    ]\n",
    "\n",
    "# specify model\n",
    "log_model = LogisticRegression(random_state=1)\n",
    "\n",
    "# set up GridSearchCV()\n",
    "log_model_cv = GridSearchCV(estimator = log_model, \n",
    "                            param_grid = log_hyper_params, \n",
    "                            scoring= 'accuracy', \n",
    "                            cv = folds, \n",
    "                            verbose = 2,\n",
    "                            return_train_score=True,\n",
    "                            n_jobs=-1)      "
   ]
  },
  {
   "cell_type": "code",
   "execution_count": 24,
   "metadata": {
    "colab": {
     "base_uri": "https://localhost:8080/"
    },
    "collapsed": true,
    "id": "8IuHlIl-NsT6",
    "outputId": "89af544a-87e7-4616-e493-a11372b8cb1e"
   },
   "outputs": [
    {
     "name": "stdout",
     "output_type": "stream",
     "text": [
      "Fitting 5 folds for each of 420 candidates, totalling 2100 fits\n",
      "best hyper parameters {'C': 1.0, 'multi_class': 'auto', 'penalty': 'l1', 'solver': 'saga'}\n"
     ]
    },
    {
     "name": "stderr",
     "output_type": "stream",
     "text": [
      "/home/jhpark/.local/lib/python3.8/site-packages/sklearn/model_selection/_search.py:918: UserWarning: One or more of the test scores are non-finite: [       nan        nan 0.60556691        nan 0.60556691 0.60556691\n",
      " 0.60556691 0.60556691 0.60556691 0.60556691        nan        nan\n",
      "        nan        nan        nan 0.61468335 0.61468335        nan\n",
      " 0.61468335 0.61468335        nan        nan 0.60556691        nan\n",
      " 0.60556691 0.60556691 0.60556691 0.60556691 0.60556691 0.60556691\n",
      "        nan        nan        nan        nan        nan 0.61468335\n",
      " 0.61468335        nan 0.61468335 0.61468335        nan        nan\n",
      "        nan        nan 0.60556691 0.60556691 0.60556691        nan\n",
      " 0.60556691 0.60556691        nan        nan        nan        nan\n",
      "        nan 0.61468335 0.61468335        nan 0.61468335 0.61468335\n",
      "        nan        nan 0.60556691        nan 0.60556691 0.60556691\n",
      " 0.60556691 0.60556691 0.60556691 0.60556691        nan        nan\n",
      "        nan        nan        nan 0.61468335 0.61468335        nan\n",
      " 0.61468335 0.61468335        nan        nan 0.60556691        nan\n",
      " 0.60556691 0.60556691 0.60556691 0.60556691 0.60556691 0.60556691\n",
      "        nan        nan        nan        nan        nan 0.61468335\n",
      " 0.61468335        nan 0.61468335 0.61468335        nan        nan\n",
      "        nan        nan 0.60556691 0.60556691 0.60556691        nan\n",
      " 0.60556691 0.60556691        nan        nan        nan        nan\n",
      "        nan 0.61468335 0.61468335        nan 0.61468335 0.61468335\n",
      "        nan        nan 0.60556691        nan 0.60556691 0.60556691\n",
      " 0.60556691 0.60556691 0.60556691 0.60556691        nan        nan\n",
      "        nan        nan        nan 0.61468335 0.61468335        nan\n",
      " 0.61468335 0.61468335        nan        nan 0.60556691        nan\n",
      " 0.60556691 0.60556691 0.60556691 0.60556691 0.60556691 0.60556691\n",
      "        nan        nan        nan        nan        nan 0.61468335\n",
      " 0.61468335        nan 0.61468335 0.61468335        nan        nan\n",
      "        nan        nan 0.60556691 0.60329418 0.60329418        nan\n",
      " 0.60329418 0.60329418        nan        nan        nan        nan\n",
      "        nan 0.61468335 0.61468335        nan 0.61468335 0.61468335\n",
      "        nan        nan 0.60556691        nan 0.60556691 0.60561798\n",
      " 0.60561798 0.60337079 0.60561798 0.60561798        nan        nan\n",
      "        nan        nan        nan 0.61468335 0.61468335        nan\n",
      " 0.61468335 0.61468335        nan        nan 0.60556691        nan\n",
      " 0.60556691 0.60561798 0.60561798 0.60337079 0.60561798 0.60561798\n",
      "        nan        nan        nan        nan        nan 0.61468335\n",
      " 0.61468335        nan 0.61468335 0.61468335        nan        nan\n",
      "        nan        nan 0.60556691 0.6192288  0.6192288         nan\n",
      " 0.6192288  0.6192288         nan        nan        nan        nan\n",
      "        nan 0.61468335 0.61468335        nan 0.61468335 0.61468335\n",
      "        nan        nan 0.60561798        nan 0.62152707 0.61243616\n",
      " 0.61243616 0.61468335 0.61243616 0.61243616        nan        nan\n",
      "        nan        nan        nan 0.61468335 0.61468335        nan\n",
      " 0.61468335 0.61468335        nan        nan 0.60561798        nan\n",
      " 0.62152707 0.61243616 0.61243616 0.61468335 0.61243616 0.61243616\n",
      "        nan        nan        nan        nan        nan 0.61468335\n",
      " 0.61468335        nan 0.61468335 0.61468335        nan        nan\n",
      "        nan        nan 0.62152707 0.61243616 0.61243616        nan\n",
      " 0.61243616 0.61243616        nan        nan        nan        nan\n",
      "        nan 0.61468335 0.61468335        nan 0.61468335 0.61468335\n",
      "        nan        nan 0.61468335        nan 0.61468335 0.61468335\n",
      " 0.61468335 0.61468335 0.61468335 0.61468335        nan        nan\n",
      "        nan        nan        nan 0.61468335 0.61468335        nan\n",
      " 0.61468335 0.61468335        nan        nan 0.61468335        nan\n",
      " 0.61468335 0.61468335 0.61468335 0.61468335 0.61468335 0.61468335\n",
      "        nan        nan        nan        nan        nan 0.61468335\n",
      " 0.61468335        nan 0.61468335 0.61468335        nan        nan\n",
      "        nan        nan 0.61468335 0.61468335 0.61468335        nan\n",
      " 0.61468335 0.61468335        nan        nan        nan        nan\n",
      "        nan 0.61468335 0.61468335        nan 0.61468335 0.61468335\n",
      "        nan        nan 0.61468335        nan 0.61468335 0.61468335\n",
      " 0.61468335 0.61468335 0.61468335 0.61468335        nan        nan\n",
      "        nan        nan        nan 0.61468335 0.61468335        nan\n",
      " 0.61468335 0.61468335        nan        nan 0.61468335        nan\n",
      " 0.61468335 0.61468335 0.61468335 0.61468335 0.61468335 0.61468335\n",
      "        nan        nan        nan        nan        nan 0.61468335\n",
      " 0.61468335        nan 0.61468335 0.61468335        nan        nan\n",
      "        nan        nan 0.61468335 0.61468335 0.61468335        nan\n",
      " 0.61468335 0.61468335        nan        nan        nan        nan\n",
      "        nan 0.61468335 0.61468335        nan 0.61468335 0.61468335]\n",
      "  warnings.warn(\n",
      "/home/jhpark/.local/lib/python3.8/site-packages/sklearn/model_selection/_search.py:918: UserWarning: One or more of the train scores are non-finite: [       nan        nan 0.60545004        nan 0.60545004 0.60545004\n",
      " 0.60545004 0.60545004 0.60545004 0.60545004        nan        nan\n",
      "        nan        nan        nan 0.61112381 0.61112381        nan\n",
      " 0.61112381 0.61112381        nan        nan 0.60545004        nan\n",
      " 0.60545004 0.60545004 0.60545004 0.60545004 0.60545004 0.60545004\n",
      "        nan        nan        nan        nan        nan 0.61112381\n",
      " 0.61112381        nan 0.61112381 0.61112381        nan        nan\n",
      "        nan        nan 0.60545004 0.60545004 0.60545004        nan\n",
      " 0.60545004 0.60545004        nan        nan        nan        nan\n",
      "        nan 0.61112381 0.61112381        nan 0.61112381 0.61112381\n",
      "        nan        nan 0.60545004        nan 0.60545004 0.60545004\n",
      " 0.60545004 0.60545004 0.60545004 0.60545004        nan        nan\n",
      "        nan        nan        nan 0.61112381 0.61112381        nan\n",
      " 0.61112381 0.61112381        nan        nan 0.60545004        nan\n",
      " 0.60545004 0.60545004 0.60545004 0.60545004 0.60545004 0.60545004\n",
      "        nan        nan        nan        nan        nan 0.61112381\n",
      " 0.61112381        nan 0.61112381 0.61112381        nan        nan\n",
      "        nan        nan 0.60545004 0.60545004 0.60545004        nan\n",
      " 0.60545004 0.60545004        nan        nan        nan        nan\n",
      "        nan 0.61112381 0.61112381        nan 0.61112381 0.61112381\n",
      "        nan        nan 0.60545004        nan 0.60545004 0.60545004\n",
      " 0.60545004 0.60771633 0.60545004 0.60545004        nan        nan\n",
      "        nan        nan        nan 0.61112381 0.61112381        nan\n",
      " 0.61112381 0.61112381        nan        nan 0.60545004        nan\n",
      " 0.60545004 0.60545004 0.60545004 0.60771633 0.60545004 0.60545004\n",
      "        nan        nan        nan        nan        nan 0.61112381\n",
      " 0.61112381        nan 0.61112381 0.61112381        nan        nan\n",
      "        nan        nan 0.60545004 0.60714815 0.60714815        nan\n",
      " 0.60714815 0.60714815        nan        nan        nan        nan\n",
      "        nan 0.61112381 0.61112381        nan 0.61112381 0.61112381\n",
      "        nan        nan 0.60545004        nan 0.60545004 0.6133901\n",
      " 0.6133901  0.60942409 0.6133901  0.6133901         nan        nan\n",
      "        nan        nan        nan 0.61112381 0.61112381        nan\n",
      " 0.61112381 0.61112381        nan        nan 0.60545004        nan\n",
      " 0.60545004 0.6133901  0.6133901  0.60942409 0.6133901  0.6133901\n",
      "        nan        nan        nan        nan        nan 0.61112381\n",
      " 0.61112381        nan 0.61112381 0.61112381        nan        nan\n",
      "        nan        nan 0.60545004 0.60999388 0.60999388        nan\n",
      " 0.60999388 0.60999388        nan        nan        nan        nan\n",
      "        nan 0.61112381 0.61112381        nan 0.61112381 0.61112381\n",
      "        nan        nan 0.60942892        nan 0.60885752 0.61112381\n",
      " 0.61112381 0.61169199 0.61112381 0.61112381        nan        nan\n",
      "        nan        nan        nan 0.61112381 0.61112381        nan\n",
      " 0.61112381 0.61112381        nan        nan 0.60942892        nan\n",
      " 0.60885752 0.61112381 0.61112381 0.61169199 0.61112381 0.61112381\n",
      "        nan        nan        nan        nan        nan 0.61112381\n",
      " 0.61112381        nan 0.61112381 0.61112381        nan        nan\n",
      "        nan        nan 0.60885752 0.61112542 0.61112542        nan\n",
      " 0.61112542 0.61112542        nan        nan        nan        nan\n",
      "        nan 0.61112381 0.61112381        nan 0.61112381 0.61112381\n",
      "        nan        nan 0.61055724        nan 0.61169199 0.61112542\n",
      " 0.61112542 0.61055724 0.61112542 0.61112542        nan        nan\n",
      "        nan        nan        nan 0.61112381 0.61112381        nan\n",
      " 0.61112381 0.61112381        nan        nan 0.61055724        nan\n",
      " 0.61169199 0.61112542 0.61112542 0.61055724 0.61112542 0.61112542\n",
      "        nan        nan        nan        nan        nan 0.61112381\n",
      " 0.61112381        nan 0.61112381 0.61112381        nan        nan\n",
      "        nan        nan 0.61169199 0.61112381 0.61112381        nan\n",
      " 0.61112381 0.61112381        nan        nan        nan        nan\n",
      "        nan 0.61112381 0.61112381        nan 0.61112381 0.61112381\n",
      "        nan        nan 0.61112381        nan 0.61112381 0.61112381\n",
      " 0.61112381 0.61112381 0.61112381 0.61112381        nan        nan\n",
      "        nan        nan        nan 0.61112381 0.61112381        nan\n",
      " 0.61112381 0.61112381        nan        nan 0.61112381        nan\n",
      " 0.61112381 0.61112381 0.61112381 0.61112381 0.61112381 0.61112381\n",
      "        nan        nan        nan        nan        nan 0.61112381\n",
      " 0.61112381        nan 0.61112381 0.61112381        nan        nan\n",
      "        nan        nan 0.61112381 0.61112381 0.61112381        nan\n",
      " 0.61112381 0.61112381        nan        nan        nan        nan\n",
      "        nan 0.61112381 0.61112381        nan 0.61112381 0.61112381]\n",
      "  warnings.warn(\n"
     ]
    }
   ],
   "source": [
    "# fit the model\n",
    "log_model_cv.fit(X_train, y_train)\n",
    "print(\"best hyper parameters\", log_model_cv.best_params_)\n",
    "log_y_pred = log_model_cv.predict(X_test)"
   ]
  },
  {
   "cell_type": "code",
   "execution_count": 25,
   "metadata": {
    "colab": {
     "base_uri": "https://localhost:8080/"
    },
    "id": "_exbf-RzOXNt",
    "outputId": "f19406c3-2b7a-4210-e00c-7532e07c53d6"
   },
   "outputs": [
    {
     "name": "stdout",
     "output_type": "stream",
     "text": [
      "Accuracy: 0.6210526315789474\n",
      "F1 score macro: 0.4589463692453725\n",
      "F1 score weighted: 0.5431169285339594\n",
      "F1 score binary: 0.1627906976744186\n"
     ]
    }
   ],
   "source": [
    "# accuracy \n",
    "print(\"Accuracy:\", metrics.accuracy_score(y_test, log_y_pred))\n",
    "# f1 score \n",
    "print(\"F1 score macro:\", f1_score(y_test, log_y_pred, average='macro'))\n",
    "print(\"F1 score weighted:\", f1_score(y_test, log_y_pred, average='weighted'))\n",
    "print(\"F1 score binary:\", f1_score(y_test, log_y_pred, average='binary'))"
   ]
  },
  {
   "cell_type": "markdown",
   "metadata": {
    "id": "YqbhZSoBeXRl"
   },
   "source": [
    "## KNN"
   ]
  },
  {
   "cell_type": "code",
   "execution_count": 26,
   "metadata": {
    "id": "jVLvCwD6eX0V"
   },
   "outputs": [],
   "source": [
    "knn_hyper_params = [ \n",
    "                        {\n",
    "                        'weights' : ['uniform', 'distance'],\n",
    "                        'algorithm' : ['auto', 'ball_tree', 'kd_tree', 'brute'],\n",
    "                        'leaf_size' : np.linspace(2, 100, 10, dtype=int)\n",
    "                        }\n",
    "                    ]\n",
    "\n",
    "# specify model\n",
    "\n",
    "# THIS SECTION SHOULD BE CHANGED.\n",
    "# n_neighbors  SHOULD BE MODIFIED TO ANOTHER VALUE DEPENDING ON THE TARGET VALUE.\n",
    "knn_model = KNeighborsClassifier(n_neighbors=len(target.unique()))\n",
    "\n",
    "# set up GridSearchCV()\n",
    "knn_model_cv = GridSearchCV(estimator = knn_model, \n",
    "                            param_grid = knn_hyper_params, \n",
    "                            scoring= 'accuracy', \n",
    "                            cv = folds, \n",
    "                            verbose = 2,\n",
    "                            return_train_score=True,\n",
    "                            n_jobs=-1)      "
   ]
  },
  {
   "cell_type": "code",
   "execution_count": 27,
   "metadata": {
    "colab": {
     "base_uri": "https://localhost:8080/"
    },
    "id": "EcMHH1dQeeL7",
    "outputId": "d9f051b5-9791-42a7-80d6-f0b269e98d9b"
   },
   "outputs": [
    {
     "name": "stdout",
     "output_type": "stream",
     "text": [
      "Fitting 5 folds for each of 80 candidates, totalling 400 fits\n",
      "best hyper parameters {'algorithm': 'ball_tree', 'leaf_size': 2, 'weights': 'uniform'}\n"
     ]
    }
   ],
   "source": [
    "# fit the model\n",
    "knn_model_cv.fit(X_train, y_train)\n",
    "print(\"best hyper parameters\", knn_model_cv.best_params_)\n",
    "knn_y_pred = knn_model_cv.predict(X_test)"
   ]
  },
  {
   "cell_type": "code",
   "execution_count": 28,
   "metadata": {
    "colab": {
     "base_uri": "https://localhost:8080/"
    },
    "id": "ktnU_aaHefQI",
    "outputId": "319cc175-2394-4892-a699-8f5dfb002d53"
   },
   "outputs": [
    {
     "name": "stdout",
     "output_type": "stream",
     "text": [
      "Accuracy: 0.5789473684210527\n",
      "F1 score macro: 0.48257080610021785\n",
      "F1 score weighted: 0.5460382983602797\n",
      "F1 score binary: 0.25925925925925924\n"
     ]
    }
   ],
   "source": [
    "# accuracy \n",
    "print(\"Accuracy:\", metrics.accuracy_score(y_test, knn_y_pred))\n",
    "# f1 score \n",
    "print(\"F1 score macro:\", f1_score(y_test, knn_y_pred, average='macro'))\n",
    "print(\"F1 score weighted:\", f1_score(y_test, knn_y_pred, average='weighted'))\n",
    "print(\"F1 score binary:\", f1_score(y_test, knn_y_pred, average='binary'))"
   ]
  },
  {
   "cell_type": "markdown",
   "metadata": {
    "id": "jahcKkHG6vsu"
   },
   "source": [
    "## Random Forest"
   ]
  },
  {
   "cell_type": "code",
   "execution_count": null,
   "metadata": {
    "id": "E6aZiFiL6wwy"
   },
   "outputs": [],
   "source": [
    "rf_hyper_params = [ \n",
    "                        {\n",
    "                            'n_estimators' : [int(x) for x in np.linspace(5, 50, 5)],\n",
    "                            'criterion' : ['gini', 'entropy'],\n",
    "                            'max_depth' : [int(x) for x in np.linspace(2, 50, 5)],\n",
    "                            'min_samples_split' : [int(x) for x in np.linspace(2, 50, 5)],\n",
    "                            'min_samples_leaf' : [int(x) for x in np.linspace(2, 50, 5)],\n",
    "                            'max_features' : ['auto', 'sqrt', 'log2'],\n",
    "                            'bootstrap' : [True, False]\n",
    "\n",
    "                        }\n",
    "                    ]\n",
    "\n",
    "# specify model\n",
    "\n",
    "# THIS SECTION SHOULD BE CHANGED.\n",
    "# n_neighbors  SHOULD BE MODIFIED TO ANOTHER VALUE DEPENDING ON THE TARGET VALUE.\n",
    "rf_model = RandomForestClassifier(random_state=1)\n",
    "\n",
    "# set up GridSearchCV()\n",
    "rf_model_cv = GridSearchCV(estimator = rf_model, \n",
    "                            param_grid = rf_hyper_params, \n",
    "                            scoring= 'accuracy', \n",
    "                            cv = folds, \n",
    "                            verbose = 2,\n",
    "                            return_train_score=True,\n",
    "                            n_jobs=-1)      "
   ]
  },
  {
   "cell_type": "code",
   "execution_count": null,
   "metadata": {
    "colab": {
     "base_uri": "https://localhost:8080/"
    },
    "id": "D-c5q0cB-7qj",
    "outputId": "eb5f8016-e3ab-4e0a-ff22-ad623d3c7223"
   },
   "outputs": [],
   "source": [
    "# fit the model\n",
    "rf_model_cv.fit(X_train, y_train)\n",
    "print(\"best hyper parameters\", rf_model_cv.best_params_)\n",
    "rf_y_pred = rf_model_cv.predict(X_test)"
   ]
  },
  {
   "cell_type": "code",
   "execution_count": null,
   "metadata": {
    "colab": {
     "base_uri": "https://localhost:8080/"
    },
    "id": "RZ-D9E2Z-8zW",
    "outputId": "218b35ed-7985-4860-8fa3-e0f4cb0f37e3"
   },
   "outputs": [],
   "source": [
    "# accuracy \n",
    "print(\"Accuracy:\", metrics.accuracy_score(y_test, rf_y_pred))\n",
    "# f1 score \n",
    "print(\"F1 score macro:\", f1_score(y_test, rf_y_pred, average='macro'))\n",
    "print(\"F1 score weighted:\", f1_score(y_test, rf_y_pred, average='weighted'))\n",
    "print(\"F1 score binary:\", f1_score(y_test, rf_y_pred, average='binary'))\n"
   ]
  },
  {
   "cell_type": "code",
   "execution_count": null,
   "metadata": {
    "id": "sVjOy739_CNe"
   },
   "outputs": [],
   "source": []
  },
  {
   "cell_type": "code",
   "execution_count": null,
   "metadata": {},
   "outputs": [],
   "source": []
  }
 ],
 "metadata": {
  "colab": {
   "collapsed_sections": [],
   "include_colab_link": true,
   "name": "apr17.ipynb",
   "provenance": []
  },
  "kernelspec": {
   "display_name": "Python 3",
   "language": "python",
   "name": "python3"
  },
  "language_info": {
   "codemirror_mode": {
    "name": "ipython",
    "version": 3
   },
   "file_extension": ".py",
   "mimetype": "text/x-python",
   "name": "python",
   "nbconvert_exporter": "python",
   "pygments_lexer": "ipython3",
   "version": "3.8.5"
  }
 },
 "nbformat": 4,
 "nbformat_minor": 1
}
