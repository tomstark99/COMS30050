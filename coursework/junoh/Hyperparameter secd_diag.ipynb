{
 "cells": [
  {
   "cell_type": "markdown",
   "metadata": {
    "colab_type": "text",
    "id": "view-in-github"
   },
   "source": [
    "<a href=\"https://colab.research.google.com/github/7201krap/PYTHON_applied_data_science/blob/main/apr17.ipynb\" target=\"_parent\"><img src=\"https://colab.research.google.com/assets/colab-badge.svg\" alt=\"Open In Colab\"/></a>"
   ]
  },
  {
   "cell_type": "code",
   "execution_count": 5,
   "metadata": {
    "id": "Wq5KSVa266mI"
   },
   "outputs": [],
   "source": [
    "from sklearn import datasets\n",
    "\n",
    "# How are we going to use evaluate the performance? \n",
    "# 1. accuracy\n",
    "from sklearn import metrics\n",
    "# 2. f1 score \n",
    "from sklearn.metrics import f1_score\n",
    "\n",
    "# Machine learning models \n",
    "\n",
    "# Linear Regression \n",
    "# url : https://scikit-learn.org/stable/modules/generated/sklearn.linear_model.LinearRegression.html\n",
    "from sklearn.linear_model import LinearRegression\n",
    "\n",
    "# SVM\n",
    "# url: https://scikit-learn.org/stable/modules/generated/sklearn.svm.SVC.html\n",
    "from sklearn import svm\n",
    "\n",
    "# KNN \n",
    "# url: https://scikit-learn.org/stable/modules/generated/sklearn.neighbors.KNeighborsClassifier.html\n",
    "from sklearn.neighbors import KNeighborsClassifier\n",
    "\n",
    "# Decision Tree\n",
    "# url: https://scikit-learn.org/stable/modules/generated/sklearn.tree.DecisionTreeClassifier.html\n",
    "from sklearn.tree import DecisionTreeClassifier\n",
    "\n",
    "# Random Forest \n",
    "# url: https://scikit-learn.org/stable/modules/generated/sklearn.ensemble.RandomForestClassifier.html\n",
    "from sklearn.ensemble import RandomForestClassifier\n",
    "\n",
    "# Logistic Classifier\n",
    "from sklearn.linear_model import LogisticRegression\n",
    "\n",
    "from sklearn.model_selection import RepeatedStratifiedKFold\n",
    "from sklearn.model_selection import GridSearchCV\n",
    "\n",
    "from sklearn.model_selection import learning_curve, RandomizedSearchCV, GridSearchCV\n",
    "from sklearn.model_selection import train_test_split, KFold\n",
    "from sklearn.datasets import make_classification\n",
    "from sklearn.pipeline import make_pipeline\n",
    "from sklearn.preprocessing import StandardScaler\n",
    "\n",
    "import numpy as np\n",
    "import matplotlib.pyplot as plt\n",
    "\n",
    "# PCA \n",
    "from sklearn.decomposition import PCA \n",
    "\n",
    "# Linear Regression\n",
    "from sklearn.model_selection import train_test_split\n",
    "from sklearn.linear_model import LinearRegression\n",
    "from sklearn.metrics import mean_squared_error, r2_score\n",
    "\n",
    "import pandas as pd\n",
    "import matplotlib.pyplot as plt\n",
    "import numpy as np\n",
    "\n",
    "import seaborn as sns"
   ]
  },
  {
   "cell_type": "markdown",
   "metadata": {
    "id": "zfY4HfYs66mZ"
   },
   "source": [
    "Here, I use cancer dataset for tutorials.\n",
    "It can be simply changed to another dataset"
   ]
  },
  {
   "cell_type": "markdown",
   "metadata": {
    "id": "xC7DkowR66mb"
   },
   "source": [
    "## Machine learning algorithms that we are going to use\n",
    "\n",
    "- SVM\n",
    "\n",
    "- Random Forest \n",
    "\n",
    "- Decision Tree \n",
    "\n",
    "- Softmax \n",
    "\n",
    "- KNN "
   ]
  },
  {
   "cell_type": "markdown",
   "metadata": {
    "id": "62-J3jg866md"
   },
   "source": [
    "## Preprocess all data\n",
    "https://www.datacamp.com/community/tutorials/svm-classification-scikit-learn-python"
   ]
  },
  {
   "cell_type": "code",
   "execution_count": 6,
   "metadata": {
    "colab": {
     "base_uri": "https://localhost:8080/"
    },
    "id": "ViAMxGXO66me",
    "outputId": "9b5b5a38-21a1-4c43-876b-648c7cb5935f"
   },
   "outputs": [],
   "source": [
    "sampled_secd_diag = pd.read_csv('sampled_secd_diag.csv')\n",
    "\n",
    "target = sampled_secd_diag['secd_diag'].copy()\n",
    "\n",
    "data = sampled_secd_diag.copy()\n",
    "del data['secd_diag']"
   ]
  },
  {
   "cell_type": "code",
   "execution_count": 7,
   "metadata": {
    "colab": {
     "base_uri": "https://localhost:8080/"
    },
    "id": "kRy5hoST66mk",
    "outputId": "4cee2042-5e18-4841-9638-a1fd3c313937"
   },
   "outputs": [
    {
     "data": {
      "text/html": [
       "<div>\n",
       "<style scoped>\n",
       "    .dataframe tbody tr th:only-of-type {\n",
       "        vertical-align: middle;\n",
       "    }\n",
       "\n",
       "    .dataframe tbody tr th {\n",
       "        vertical-align: top;\n",
       "    }\n",
       "\n",
       "    .dataframe thead th {\n",
       "        text-align: right;\n",
       "    }\n",
       "</style>\n",
       "<table border=\"1\" class=\"dataframe\">\n",
       "  <thead>\n",
       "    <tr style=\"text-align: right;\">\n",
       "      <th></th>\n",
       "      <th>comp_week</th>\n",
       "      <th>comp_wend</th>\n",
       "      <th>text_week</th>\n",
       "      <th>text_wend</th>\n",
       "      <th>tv_week</th>\n",
       "      <th>tv_wend</th>\n",
       "    </tr>\n",
       "  </thead>\n",
       "  <tbody>\n",
       "    <tr>\n",
       "      <th>0</th>\n",
       "      <td>1</td>\n",
       "      <td>2</td>\n",
       "      <td>1</td>\n",
       "      <td>1</td>\n",
       "      <td>2</td>\n",
       "      <td>2</td>\n",
       "    </tr>\n",
       "    <tr>\n",
       "      <th>1</th>\n",
       "      <td>1</td>\n",
       "      <td>1</td>\n",
       "      <td>2</td>\n",
       "      <td>3</td>\n",
       "      <td>2</td>\n",
       "      <td>2</td>\n",
       "    </tr>\n",
       "    <tr>\n",
       "      <th>2</th>\n",
       "      <td>3</td>\n",
       "      <td>3</td>\n",
       "      <td>1</td>\n",
       "      <td>1</td>\n",
       "      <td>3</td>\n",
       "      <td>3</td>\n",
       "    </tr>\n",
       "    <tr>\n",
       "      <th>3</th>\n",
       "      <td>1</td>\n",
       "      <td>3</td>\n",
       "      <td>0</td>\n",
       "      <td>1</td>\n",
       "      <td>0</td>\n",
       "      <td>2</td>\n",
       "    </tr>\n",
       "    <tr>\n",
       "      <th>4</th>\n",
       "      <td>3</td>\n",
       "      <td>3</td>\n",
       "      <td>2</td>\n",
       "      <td>2</td>\n",
       "      <td>2</td>\n",
       "      <td>2</td>\n",
       "    </tr>\n",
       "    <tr>\n",
       "      <th>...</th>\n",
       "      <td>...</td>\n",
       "      <td>...</td>\n",
       "      <td>...</td>\n",
       "      <td>...</td>\n",
       "      <td>...</td>\n",
       "      <td>...</td>\n",
       "    </tr>\n",
       "    <tr>\n",
       "      <th>567</th>\n",
       "      <td>3</td>\n",
       "      <td>0</td>\n",
       "      <td>3</td>\n",
       "      <td>3</td>\n",
       "      <td>0</td>\n",
       "      <td>0</td>\n",
       "    </tr>\n",
       "    <tr>\n",
       "      <th>568</th>\n",
       "      <td>3</td>\n",
       "      <td>1</td>\n",
       "      <td>3</td>\n",
       "      <td>3</td>\n",
       "      <td>1</td>\n",
       "      <td>1</td>\n",
       "    </tr>\n",
       "    <tr>\n",
       "      <th>569</th>\n",
       "      <td>3</td>\n",
       "      <td>3</td>\n",
       "      <td>1</td>\n",
       "      <td>1</td>\n",
       "      <td>2</td>\n",
       "      <td>2</td>\n",
       "    </tr>\n",
       "    <tr>\n",
       "      <th>570</th>\n",
       "      <td>1</td>\n",
       "      <td>3</td>\n",
       "      <td>3</td>\n",
       "      <td>3</td>\n",
       "      <td>1</td>\n",
       "      <td>2</td>\n",
       "    </tr>\n",
       "    <tr>\n",
       "      <th>571</th>\n",
       "      <td>3</td>\n",
       "      <td>3</td>\n",
       "      <td>1</td>\n",
       "      <td>1</td>\n",
       "      <td>1</td>\n",
       "      <td>2</td>\n",
       "    </tr>\n",
       "  </tbody>\n",
       "</table>\n",
       "<p>572 rows × 6 columns</p>\n",
       "</div>"
      ],
      "text/plain": [
       "     comp_week  comp_wend  text_week  text_wend  tv_week  tv_wend\n",
       "0            1          2          1          1        2        2\n",
       "1            1          1          2          3        2        2\n",
       "2            3          3          1          1        3        3\n",
       "3            1          3          0          1        0        2\n",
       "4            3          3          2          2        2        2\n",
       "..         ...        ...        ...        ...      ...      ...\n",
       "567          3          0          3          3        0        0\n",
       "568          3          1          3          3        1        1\n",
       "569          3          3          1          1        2        2\n",
       "570          1          3          3          3        1        2\n",
       "571          3          3          1          1        1        2\n",
       "\n",
       "[572 rows x 6 columns]"
      ]
     },
     "execution_count": 7,
     "metadata": {},
     "output_type": "execute_result"
    }
   ],
   "source": [
    "data"
   ]
  },
  {
   "cell_type": "code",
   "execution_count": 8,
   "metadata": {},
   "outputs": [
    {
     "data": {
      "text/plain": [
       "0      0.0\n",
       "1      2.0\n",
       "2      0.0\n",
       "3      1.0\n",
       "4      2.0\n",
       "      ... \n",
       "567    0.0\n",
       "568    0.0\n",
       "569    0.0\n",
       "570    2.0\n",
       "571    4.0\n",
       "Name: secd_diag, Length: 572, dtype: float64"
      ]
     },
     "execution_count": 8,
     "metadata": {},
     "output_type": "execute_result"
    }
   ],
   "source": [
    "target"
   ]
  },
  {
   "cell_type": "markdown",
   "metadata": {},
   "source": [
    "## Generate Train and Test - Others"
   ]
  },
  {
   "cell_type": "code",
   "execution_count": 9,
   "metadata": {},
   "outputs": [],
   "source": [
    "X_train, X_test, y_train, y_test = train_test_split(data, target, test_size=0.3, random_state=1)  # 70% training and 30% test"
   ]
  },
  {
   "cell_type": "markdown",
   "metadata": {
    "id": "_e11X_yx-iD6"
   },
   "source": [
    "## SVM"
   ]
  },
  {
   "cell_type": "code",
   "execution_count": 10,
   "metadata": {
    "id": "6OI7vUWZHrIi"
   },
   "outputs": [],
   "source": [
    "folds = KFold(n_splits = 5, shuffle = True, random_state = 1)"
   ]
  },
  {
   "cell_type": "code",
   "execution_count": 11,
   "metadata": {
    "id": "_fKIxVbX66mn"
   },
   "outputs": [],
   "source": [
    "svm_hyper_params = [ \n",
    "                        {\n",
    "                        'gamma': np.logspace(-4, -1, 4),\n",
    "                        'C': np.logspace(-3, 1, 5),\n",
    "                        'kernel': ['linear', 'poly', 'rbf', 'sigmoid']\n",
    "                        }\n",
    "                    ]\n",
    "\n",
    "# specify model\n",
    "svm_model = svm.SVC(random_state=1)\n",
    "\n",
    "# set up GridSearchCV()\n",
    "svm_model_cv = GridSearchCV(estimator = svm_model, \n",
    "                            param_grid = svm_hyper_params, \n",
    "                            scoring= 'accuracy', \n",
    "                            cv = folds, \n",
    "                            verbose = 2,\n",
    "                            return_train_score=True,\n",
    "                            n_jobs=2)      "
   ]
  },
  {
   "cell_type": "code",
   "execution_count": 12,
   "metadata": {
    "colab": {
     "base_uri": "https://localhost:8080/"
    },
    "id": "Adbbt5c866mo",
    "outputId": "f9cd69a3-f5e0-4ab1-81f3-a5ef5f6467f8"
   },
   "outputs": [
    {
     "name": "stdout",
     "output_type": "stream",
     "text": [
      "Fitting 5 folds for each of 80 candidates, totalling 400 fits\n",
      "best hyper parameters {'C': 0.001, 'gamma': 0.0001, 'kernel': 'linear'}\n"
     ]
    }
   ],
   "source": [
    "# fit the model\n",
    "svm_model_cv.fit(X_train, y_train)\n",
    "print(\"best hyper parameters\", svm_model_cv.best_params_)\n",
    "svm_y_pred = svm_model_cv.predict(X_test)"
   ]
  },
  {
   "cell_type": "code",
   "execution_count": 13,
   "metadata": {
    "colab": {
     "base_uri": "https://localhost:8080/"
    },
    "id": "dst30cYtOZ29",
    "outputId": "5e584a0f-1c84-48d6-b033-331259225641"
   },
   "outputs": [
    {
     "name": "stdout",
     "output_type": "stream",
     "text": [
      "Accuracy: 0.42441860465116277\n",
      "F1 score macro: 0.06621315192743765\n",
      "F1 score weighted: 0.25291884195538683\n"
     ]
    }
   ],
   "source": [
    "# accuracy \n",
    "print(\"Accuracy:\", metrics.accuracy_score(y_test, svm_y_pred))\n",
    "# f1 score \n",
    "print(\"F1 score macro:\", f1_score(y_test, svm_y_pred, average='macro'))\n",
    "print(\"F1 score weighted:\", f1_score(y_test, svm_y_pred, average='weighted'))"
   ]
  },
  {
   "cell_type": "markdown",
   "metadata": {
    "id": "ETvDxUzl-oXC"
   },
   "source": [
    "## Logistic Regression"
   ]
  },
  {
   "cell_type": "code",
   "execution_count": 14,
   "metadata": {
    "id": "aez9Ik2M-pXl"
   },
   "outputs": [],
   "source": [
    "log_hyper_params = [ \n",
    "                        {\n",
    "                        'C': np.logspace(-4, 2, 7),\n",
    "                        'solver' : ['newton-cg', 'lbfgs', 'liblinear', 'sag', 'saga'],\n",
    "                        'penalty' : ['l1', 'l2', 'elasticnet', 'none'],\n",
    "                        'multi_class' : ['auto', 'ovr', 'multinomial']\n",
    "                        }\n",
    "                    ]\n",
    "\n",
    "# specify model\n",
    "log_model = LogisticRegression(random_state=1)\n",
    "\n",
    "# set up GridSearchCV()\n",
    "log_model_cv = GridSearchCV(estimator = log_model, \n",
    "                            param_grid = log_hyper_params, \n",
    "                            scoring= 'accuracy', \n",
    "                            cv = folds, \n",
    "                            verbose = 2,\n",
    "                            return_train_score=True,\n",
    "                            n_jobs=-1)      "
   ]
  },
  {
   "cell_type": "code",
   "execution_count": 15,
   "metadata": {
    "colab": {
     "base_uri": "https://localhost:8080/"
    },
    "id": "8IuHlIl-NsT6",
    "outputId": "89af544a-87e7-4616-e493-a11372b8cb1e"
   },
   "outputs": [
    {
     "name": "stdout",
     "output_type": "stream",
     "text": [
      "Fitting 5 folds for each of 420 candidates, totalling 2100 fits\n",
      "best hyper parameters {'C': 0.1, 'multi_class': 'auto', 'penalty': 'l1', 'solver': 'liblinear'}\n"
     ]
    },
    {
     "name": "stderr",
     "output_type": "stream",
     "text": [
      "/home/jhpark/.local/lib/python3.8/site-packages/sklearn/model_selection/_search.py:918: UserWarning: One or more of the test scores are non-finite: [   nan    nan 0.4425    nan 0.4425 0.4425 0.4425 0.4425 0.4425 0.4425\n",
      "    nan    nan    nan    nan    nan 0.425  0.425     nan 0.425  0.425\n",
      "    nan    nan 0.4425    nan 0.4425 0.4425 0.4425 0.4425 0.4425 0.4425\n",
      "    nan    nan    nan    nan    nan 0.425  0.425     nan 0.425  0.425\n",
      "    nan    nan    nan    nan 0.4425 0.4425 0.4425    nan 0.4425 0.4425\n",
      "    nan    nan    nan    nan    nan 0.425  0.425     nan 0.425  0.425\n",
      "    nan    nan 0.4425    nan 0.4425 0.4425 0.4425 0.4425 0.4425 0.4425\n",
      "    nan    nan    nan    nan    nan 0.425  0.425     nan 0.425  0.425\n",
      "    nan    nan 0.4425    nan 0.4425 0.4425 0.4425 0.4425 0.4425 0.4425\n",
      "    nan    nan    nan    nan    nan 0.425  0.425     nan 0.425  0.425\n",
      "    nan    nan    nan    nan 0.4425 0.4425 0.4425    nan 0.4425 0.4425\n",
      "    nan    nan    nan    nan    nan 0.425  0.425     nan 0.425  0.425\n",
      "    nan    nan 0.4425    nan 0.4425 0.4425 0.4425 0.4425 0.4425 0.4425\n",
      "    nan    nan    nan    nan    nan 0.425  0.425     nan 0.425  0.425\n",
      "    nan    nan 0.4425    nan 0.4425 0.4425 0.4425 0.4425 0.4425 0.4425\n",
      "    nan    nan    nan    nan    nan 0.425  0.425     nan 0.425  0.425\n",
      "    nan    nan    nan    nan 0.4425 0.4425 0.4425    nan 0.4425 0.4425\n",
      "    nan    nan    nan    nan    nan 0.425  0.425     nan 0.425  0.425\n",
      "    nan    nan 0.445     nan 0.4425 0.43   0.4275 0.4375 0.43   0.43\n",
      "    nan    nan    nan    nan    nan 0.425  0.425     nan 0.425  0.425\n",
      "    nan    nan 0.445     nan 0.4425 0.4325 0.4325 0.4375 0.4325 0.4325\n",
      "    nan    nan    nan    nan    nan 0.425  0.425     nan 0.425  0.425\n",
      "    nan    nan    nan    nan 0.4425 0.43   0.4275    nan 0.43   0.43\n",
      "    nan    nan    nan    nan    nan 0.425  0.425     nan 0.425  0.425\n",
      "    nan    nan 0.43      nan 0.4275 0.425  0.425  0.4275 0.425  0.425\n",
      "    nan    nan    nan    nan    nan 0.425  0.425     nan 0.425  0.425\n",
      "    nan    nan 0.43      nan 0.43   0.425  0.425  0.4275 0.425  0.425\n",
      "    nan    nan    nan    nan    nan 0.425  0.425     nan 0.425  0.425\n",
      "    nan    nan    nan    nan 0.4275 0.425  0.425     nan 0.425  0.425\n",
      "    nan    nan    nan    nan    nan 0.425  0.425     nan 0.425  0.425\n",
      "    nan    nan 0.425     nan 0.425  0.425  0.425  0.425  0.425  0.425\n",
      "    nan    nan    nan    nan    nan 0.425  0.425     nan 0.425  0.425\n",
      "    nan    nan 0.425     nan 0.425  0.425  0.425  0.425  0.425  0.425\n",
      "    nan    nan    nan    nan    nan 0.425  0.425     nan 0.425  0.425\n",
      "    nan    nan    nan    nan 0.425  0.425  0.425     nan 0.425  0.425\n",
      "    nan    nan    nan    nan    nan 0.425  0.425     nan 0.425  0.425\n",
      "    nan    nan 0.425     nan 0.425  0.425  0.425  0.425  0.425  0.425\n",
      "    nan    nan    nan    nan    nan 0.425  0.425     nan 0.425  0.425\n",
      "    nan    nan 0.425     nan 0.425  0.425  0.425  0.425  0.425  0.425\n",
      "    nan    nan    nan    nan    nan 0.425  0.425     nan 0.425  0.425\n",
      "    nan    nan    nan    nan 0.425  0.425  0.425     nan 0.425  0.425\n",
      "    nan    nan    nan    nan    nan 0.425  0.425     nan 0.425  0.425 ]\n",
      "  warnings.warn(\n",
      "/home/jhpark/.local/lib/python3.8/site-packages/sklearn/model_selection/_search.py:918: UserWarning: One or more of the train scores are non-finite: [     nan      nan 0.4425        nan 0.4425   0.4425   0.4425   0.4425\n",
      " 0.4425   0.4425        nan      nan      nan      nan      nan 0.445625\n",
      " 0.444375      nan 0.443125 0.443125      nan      nan 0.4425        nan\n",
      " 0.4425   0.4425   0.4425   0.4425   0.4425   0.4425        nan      nan\n",
      "      nan      nan      nan 0.44625  0.44625       nan 0.44375  0.44375\n",
      "      nan      nan      nan      nan 0.4425   0.4425   0.4425        nan\n",
      " 0.4425   0.4425        nan      nan      nan      nan      nan 0.445625\n",
      " 0.444375      nan 0.443125 0.443125      nan      nan 0.4425        nan\n",
      " 0.4425   0.4425   0.4425   0.4425   0.4425   0.4425        nan      nan\n",
      "      nan      nan      nan 0.445625 0.444375      nan 0.443125 0.443125\n",
      "      nan      nan 0.4425        nan 0.4425   0.4425   0.4425   0.4425\n",
      " 0.4425   0.4425        nan      nan      nan      nan      nan 0.44625\n",
      " 0.44625       nan 0.44375  0.44375       nan      nan      nan      nan\n",
      " 0.4425   0.4425   0.4425        nan 0.4425   0.4425        nan      nan\n",
      "      nan      nan      nan 0.445625 0.444375      nan 0.443125 0.443125\n",
      "      nan      nan 0.4425        nan 0.4425   0.4425   0.4425   0.4425\n",
      " 0.4425   0.4425        nan      nan      nan      nan      nan 0.445625\n",
      " 0.444375      nan 0.443125 0.443125      nan      nan 0.4425        nan\n",
      " 0.4425   0.4425   0.4425   0.4425   0.4425   0.4425        nan      nan\n",
      "      nan      nan      nan 0.44625  0.44625       nan 0.44375  0.44375\n",
      "      nan      nan      nan      nan 0.4425   0.4425   0.4425        nan\n",
      " 0.4425   0.4425        nan      nan      nan      nan      nan 0.445625\n",
      " 0.444375      nan 0.443125 0.443125      nan      nan 0.4425        nan\n",
      " 0.4425   0.4425   0.4425   0.441875 0.4425   0.4425        nan      nan\n",
      "      nan      nan      nan 0.445625 0.444375      nan 0.443125 0.443125\n",
      "      nan      nan 0.4425        nan 0.4425   0.443125 0.443125 0.441875\n",
      " 0.443125 0.443125      nan      nan      nan      nan      nan 0.44625\n",
      " 0.44625       nan 0.44375  0.44375       nan      nan      nan      nan\n",
      " 0.4425   0.4425   0.4425        nan 0.4425   0.4425        nan      nan\n",
      "      nan      nan      nan 0.445625 0.444375      nan 0.443125 0.443125\n",
      "      nan      nan 0.4425        nan 0.4425   0.4425   0.443125 0.44375\n",
      " 0.4425   0.4425        nan      nan      nan      nan      nan 0.445625\n",
      " 0.444375      nan 0.443125 0.443125      nan      nan 0.4425        nan\n",
      " 0.441875 0.445    0.445    0.44375  0.445    0.445         nan      nan\n",
      "      nan      nan      nan 0.44625  0.44625       nan 0.44375  0.44375\n",
      "      nan      nan      nan      nan 0.4425   0.4425   0.443125      nan\n",
      " 0.4425   0.4425        nan      nan      nan      nan      nan 0.445625\n",
      " 0.444375      nan 0.443125 0.443125      nan      nan 0.44375       nan\n",
      " 0.443125 0.44375  0.444375 0.44375  0.44375  0.44375       nan      nan\n",
      "      nan      nan      nan 0.445625 0.444375      nan 0.443125 0.443125\n",
      "      nan      nan 0.44375       nan 0.44375  0.44375  0.44375  0.44375\n",
      " 0.44375  0.44375       nan      nan      nan      nan      nan 0.44625\n",
      " 0.44625       nan 0.44375  0.44375       nan      nan      nan      nan\n",
      " 0.443125 0.44375  0.444375      nan 0.44375  0.44375       nan      nan\n",
      "      nan      nan      nan 0.445625 0.444375      nan 0.443125 0.443125\n",
      "      nan      nan 0.445625      nan 0.443125 0.445625 0.444375 0.44375\n",
      " 0.443125 0.443125      nan      nan      nan      nan      nan 0.445625\n",
      " 0.444375      nan 0.443125 0.443125      nan      nan 0.445625      nan\n",
      " 0.44375  0.444375 0.444375 0.44375  0.44375  0.44375       nan      nan\n",
      "      nan      nan      nan 0.44625  0.44625       nan 0.44375  0.44375\n",
      "      nan      nan      nan      nan 0.443125 0.445625 0.444375      nan\n",
      " 0.443125 0.443125      nan      nan      nan      nan      nan 0.445625\n",
      " 0.444375      nan 0.443125 0.443125]\n",
      "  warnings.warn(\n"
     ]
    }
   ],
   "source": [
    "# fit the model\n",
    "log_model_cv.fit(X_train, y_train)\n",
    "print(\"best hyper parameters\", log_model_cv.best_params_)\n",
    "log_y_pred = log_model_cv.predict(X_test)"
   ]
  },
  {
   "cell_type": "code",
   "execution_count": 16,
   "metadata": {
    "colab": {
     "base_uri": "https://localhost:8080/"
    },
    "id": "_exbf-RzOXNt",
    "outputId": "f19406c3-2b7a-4210-e00c-7532e07c53d6"
   },
   "outputs": [
    {
     "name": "stdout",
     "output_type": "stream",
     "text": [
      "Accuracy: 0.42441860465116277\n",
      "F1 score macro: 0.06621315192743765\n",
      "F1 score weighted: 0.25291884195538683\n"
     ]
    }
   ],
   "source": [
    "# accuracy \n",
    "print(\"Accuracy:\", metrics.accuracy_score(y_test, log_y_pred))\n",
    "# f1 score \n",
    "print(\"F1 score macro:\", f1_score(y_test, log_y_pred, average='macro'))\n",
    "print(\"F1 score weighted:\", f1_score(y_test, log_y_pred, average='weighted'))"
   ]
  },
  {
   "cell_type": "markdown",
   "metadata": {
    "id": "YqbhZSoBeXRl"
   },
   "source": [
    "## KNN"
   ]
  },
  {
   "cell_type": "code",
   "execution_count": 17,
   "metadata": {
    "id": "jVLvCwD6eX0V"
   },
   "outputs": [],
   "source": [
    "knn_hyper_params = [ \n",
    "                        {\n",
    "                        'weights' : ['uniform', 'distance'],\n",
    "                        'algorithm' : ['auto', 'ball_tree', 'kd_tree', 'brute'],\n",
    "                        'leaf_size' : np.linspace(2, 100, 10, dtype=int)\n",
    "                        }\n",
    "                    ]\n",
    "\n",
    "# specify model\n",
    "\n",
    "# THIS SECTION SHOULD BE CHANGED.\n",
    "# n_neighbors  SHOULD BE MODIFIED TO ANOTHER VALUE DEPENDING ON THE TARGET VALUE.\n",
    "knn_model = KNeighborsClassifier(n_neighbors=len(target.unique()))\n",
    "\n",
    "# set up GridSearchCV()\n",
    "knn_model_cv = GridSearchCV(estimator = knn_model, \n",
    "                            param_grid = knn_hyper_params, \n",
    "                            scoring= 'accuracy', \n",
    "                            cv = folds, \n",
    "                            verbose = 2,\n",
    "                            return_train_score=True,\n",
    "                            n_jobs=-1)      "
   ]
  },
  {
   "cell_type": "code",
   "execution_count": 18,
   "metadata": {
    "colab": {
     "base_uri": "https://localhost:8080/"
    },
    "id": "EcMHH1dQeeL7",
    "outputId": "d9f051b5-9791-42a7-80d6-f0b269e98d9b"
   },
   "outputs": [
    {
     "name": "stdout",
     "output_type": "stream",
     "text": [
      "Fitting 5 folds for each of 80 candidates, totalling 400 fits\n",
      "best hyper parameters {'algorithm': 'ball_tree', 'leaf_size': 12, 'weights': 'uniform'}\n"
     ]
    }
   ],
   "source": [
    "# fit the model\n",
    "knn_model_cv.fit(X_train, y_train)\n",
    "print(\"best hyper parameters\", knn_model_cv.best_params_)\n",
    "knn_y_pred = knn_model_cv.predict(X_test)"
   ]
  },
  {
   "cell_type": "code",
   "execution_count": 19,
   "metadata": {
    "colab": {
     "base_uri": "https://localhost:8080/"
    },
    "id": "ktnU_aaHefQI",
    "outputId": "319cc175-2394-4892-a699-8f5dfb002d53"
   },
   "outputs": [
    {
     "name": "stdout",
     "output_type": "stream",
     "text": [
      "Accuracy: 0.42441860465116277\n",
      "F1 score macro: 0.09837079655169173\n",
      "F1 score weighted: 0.2983511964377421\n"
     ]
    }
   ],
   "source": [
    "# accuracy \n",
    "print(\"Accuracy:\", metrics.accuracy_score(y_test, knn_y_pred))\n",
    "# f1 score \n",
    "print(\"F1 score macro:\", f1_score(y_test, knn_y_pred, average='macro'))\n",
    "print(\"F1 score weighted:\", f1_score(y_test, knn_y_pred, average='weighted'))"
   ]
  },
  {
   "cell_type": "code",
   "execution_count": null,
   "metadata": {
    "id": "Ljw0F7jfgShR"
   },
   "outputs": [],
   "source": []
  },
  {
   "cell_type": "markdown",
   "metadata": {
    "id": "jahcKkHG6vsu"
   },
   "source": [
    "## Random Forest"
   ]
  },
  {
   "cell_type": "code",
   "execution_count": 17,
   "metadata": {
    "id": "E6aZiFiL6wwy"
   },
   "outputs": [],
   "source": [
    "rf_hyper_params = [ \n",
    "                        {\n",
    "                            'n_estimators' : [int(x) for x in np.linspace(5, 50, 5)],\n",
    "                            'criterion' : ['gini', 'entropy'],\n",
    "                            'max_depth' : [int(x) for x in np.linspace(2, 50, 5)],\n",
    "                            'min_samples_split' : [int(x) for x in np.linspace(2, 50, 5)],\n",
    "                            'min_samples_leaf' : [int(x) for x in np.linspace(2, 50, 5)],\n",
    "                            'max_features' : ['auto', 'sqrt', 'log2'],\n",
    "                            'bootstrap' : [True, False]\n",
    "\n",
    "                        }\n",
    "                    ]\n",
    "\n",
    "# specify model\n",
    "\n",
    "# THIS SECTION SHOULD BE CHANGED.\n",
    "# n_neighbors  SHOULD BE MODIFIED TO ANOTHER VALUE DEPENDING ON THE TARGET VALUE.\n",
    "rf_model = RandomForestClassifier(random_state=1)\n",
    "\n",
    "# set up GridSearchCV()\n",
    "rf_model_cv = GridSearchCV(estimator = rf_model, \n",
    "                            param_grid = rf_hyper_params, \n",
    "                            scoring= 'accuracy', \n",
    "                            cv = folds, \n",
    "                            verbose = 2,\n",
    "                            return_train_score=True,\n",
    "                            n_jobs=-1)      "
   ]
  },
  {
   "cell_type": "code",
   "execution_count": null,
   "metadata": {
    "colab": {
     "base_uri": "https://localhost:8080/"
    },
    "id": "D-c5q0cB-7qj",
    "outputId": "eb5f8016-e3ab-4e0a-ff22-ad623d3c7223"
   },
   "outputs": [
    {
     "name": "stdout",
     "output_type": "stream",
     "text": [
      "Fitting 10 folds for each of 120000 candidates, totalling 1200000 fits\n"
     ]
    },
    {
     "name": "stderr",
     "output_type": "stream",
     "text": [
      "[Parallel(n_jobs=-1)]: Using backend LokyBackend with 8 concurrent workers.\n",
      "[Parallel(n_jobs=-1)]: Done  34 tasks      | elapsed:    1.4s\n",
      "[Parallel(n_jobs=-1)]: Done 186 tasks      | elapsed:   15.7s\n",
      "[Parallel(n_jobs=-1)]: Done 389 tasks      | elapsed:   34.1s\n",
      "[Parallel(n_jobs=-1)]: Done 672 tasks      | elapsed:   58.4s\n",
      "[Parallel(n_jobs=-1)]: Done 1037 tasks      | elapsed:  1.5min\n",
      "[Parallel(n_jobs=-1)]: Done 1482 tasks      | elapsed:  2.2min\n",
      "[Parallel(n_jobs=-1)]: Done 2009 tasks      | elapsed:  3.0min\n",
      "[Parallel(n_jobs=-1)]: Done 2616 tasks      | elapsed:  4.0min\n",
      "[Parallel(n_jobs=-1)]: Done 3305 tasks      | elapsed:  5.1min\n"
     ]
    }
   ],
   "source": [
    "# fit the model\n",
    "rf_model_cv.fit(X_train, y_train)\n",
    "print(\"best hyper parameters\", rf_model_cv.best_params_)\n",
    "rf_y_pred = rf_model_cv.predict(X_test)"
   ]
  },
  {
   "cell_type": "code",
   "execution_count": null,
   "metadata": {
    "colab": {
     "base_uri": "https://localhost:8080/"
    },
    "id": "RZ-D9E2Z-8zW",
    "outputId": "218b35ed-7985-4860-8fa3-e0f4cb0f37e3"
   },
   "outputs": [],
   "source": [
    "# accuracy \n",
    "print(\"Accuracy:\", metrics.accuracy_score(y_test, rf_y_pred))\n",
    "# f1 score \n",
    "print(\"F1 score macro:\", f1_score(y_test, rf_y_pred, average='macro'))\n",
    "print(\"F1 score weighted:\", f1_score(y_test, rf_y_pred, average='weighted'))"
   ]
  },
  {
   "cell_type": "code",
   "execution_count": null,
   "metadata": {
    "id": "sVjOy739_CNe"
   },
   "outputs": [],
   "source": []
  }
 ],
 "metadata": {
  "colab": {
   "collapsed_sections": [],
   "include_colab_link": true,
   "name": "apr17.ipynb",
   "provenance": []
  },
  "kernelspec": {
   "display_name": "Python 3",
   "language": "python",
   "name": "python3"
  },
  "language_info": {
   "codemirror_mode": {
    "name": "ipython",
    "version": 3
   },
   "file_extension": ".py",
   "mimetype": "text/x-python",
   "name": "python",
   "nbconvert_exporter": "python",
   "pygments_lexer": "ipython3",
   "version": "3.8.5"
  }
 },
 "nbformat": 4,
 "nbformat_minor": 1
}
