{
 "cells": [
  {
   "cell_type": "code",
   "execution_count": 1,
   "metadata": {},
   "outputs": [],
   "source": [
    "import pandas as pd\n",
    "import matplotlib.pyplot as plt\n",
    "import numpy as np\n",
    "\n",
    "from sklearn.model_selection import train_test_split\n",
    "from sklearn.linear_model import LinearRegression\n",
    "from sklearn.metrics import mean_squared_error, r2_score"
   ]
  },
  {
   "cell_type": "code",
   "execution_count": 2,
   "metadata": {},
   "outputs": [],
   "source": [
    "data = pd.read_csv(\"processed_data.csv\")"
   ]
  },
  {
   "cell_type": "code",
   "execution_count": 3,
   "metadata": {},
   "outputs": [
    {
     "data": {
      "text/html": [
       "<div>\n",
       "<style scoped>\n",
       "    .dataframe tbody tr th:only-of-type {\n",
       "        vertical-align: middle;\n",
       "    }\n",
       "\n",
       "    .dataframe tbody tr th {\n",
       "        vertical-align: top;\n",
       "    }\n",
       "\n",
       "    .dataframe thead th {\n",
       "        text-align: right;\n",
       "    }\n",
       "</style>\n",
       "<table border=\"1\" class=\"dataframe\">\n",
       "  <thead>\n",
       "    <tr style=\"text-align: right;\">\n",
       "      <th></th>\n",
       "      <th>X</th>\n",
       "      <th>flag</th>\n",
       "      <th>alon_week</th>\n",
       "      <th>alon_wend</th>\n",
       "      <th>child_bull</th>\n",
       "      <th>comp_house</th>\n",
       "      <th>comp_noint_bed_16</th>\n",
       "      <th>comp_int_bed_16</th>\n",
       "      <th>comp_week</th>\n",
       "      <th>comp_wend</th>\n",
       "      <th>...</th>\n",
       "      <th>talk_phon_wend</th>\n",
       "      <th>text_week</th>\n",
       "      <th>text_wend</th>\n",
       "      <th>tran_week</th>\n",
       "      <th>tran_wend</th>\n",
       "      <th>tv_week</th>\n",
       "      <th>tv_wend</th>\n",
       "      <th>weight_16</th>\n",
       "      <th>work_week</th>\n",
       "      <th>work_wend</th>\n",
       "    </tr>\n",
       "  </thead>\n",
       "  <tbody>\n",
       "    <tr>\n",
       "      <th>0</th>\n",
       "      <td>1</td>\n",
       "      <td>synthetic</td>\n",
       "      <td>1-2 hours</td>\n",
       "      <td>1-2 hours</td>\n",
       "      <td>No</td>\n",
       "      <td>Yes</td>\n",
       "      <td>NaN</td>\n",
       "      <td>NaN</td>\n",
       "      <td>1-2 hours</td>\n",
       "      <td>1-2 hours</td>\n",
       "      <td>...</td>\n",
       "      <td>Any at all</td>\n",
       "      <td>Less than 1 hour</td>\n",
       "      <td>Less than 1 hour</td>\n",
       "      <td>Less than 1 hour</td>\n",
       "      <td>Less than 1 hour</td>\n",
       "      <td>1-2 hours</td>\n",
       "      <td>1-2 hours</td>\n",
       "      <td>59.294132</td>\n",
       "      <td>3 or more hours</td>\n",
       "      <td>3 or more hours</td>\n",
       "    </tr>\n",
       "    <tr>\n",
       "      <th>1</th>\n",
       "      <td>2</td>\n",
       "      <td>synthetic</td>\n",
       "      <td>NaN</td>\n",
       "      <td>NaN</td>\n",
       "      <td>NaN</td>\n",
       "      <td>NaN</td>\n",
       "      <td>NaN</td>\n",
       "      <td>NaN</td>\n",
       "      <td>NaN</td>\n",
       "      <td>NaN</td>\n",
       "      <td>...</td>\n",
       "      <td>NaN</td>\n",
       "      <td>NaN</td>\n",
       "      <td>NaN</td>\n",
       "      <td>NaN</td>\n",
       "      <td>NaN</td>\n",
       "      <td>NaN</td>\n",
       "      <td>NaN</td>\n",
       "      <td>NaN</td>\n",
       "      <td>NaN</td>\n",
       "      <td>NaN</td>\n",
       "    </tr>\n",
       "    <tr>\n",
       "      <th>2</th>\n",
       "      <td>3</td>\n",
       "      <td>synthetic</td>\n",
       "      <td>NaN</td>\n",
       "      <td>NaN</td>\n",
       "      <td>NaN</td>\n",
       "      <td>NaN</td>\n",
       "      <td>NaN</td>\n",
       "      <td>NaN</td>\n",
       "      <td>NaN</td>\n",
       "      <td>NaN</td>\n",
       "      <td>...</td>\n",
       "      <td>NaN</td>\n",
       "      <td>NaN</td>\n",
       "      <td>NaN</td>\n",
       "      <td>NaN</td>\n",
       "      <td>NaN</td>\n",
       "      <td>NaN</td>\n",
       "      <td>NaN</td>\n",
       "      <td>NaN</td>\n",
       "      <td>NaN</td>\n",
       "      <td>NaN</td>\n",
       "    </tr>\n",
       "    <tr>\n",
       "      <th>3</th>\n",
       "      <td>4</td>\n",
       "      <td>synthetic</td>\n",
       "      <td>NaN</td>\n",
       "      <td>NaN</td>\n",
       "      <td>NaN</td>\n",
       "      <td>NaN</td>\n",
       "      <td>NaN</td>\n",
       "      <td>NaN</td>\n",
       "      <td>NaN</td>\n",
       "      <td>NaN</td>\n",
       "      <td>...</td>\n",
       "      <td>NaN</td>\n",
       "      <td>NaN</td>\n",
       "      <td>NaN</td>\n",
       "      <td>NaN</td>\n",
       "      <td>NaN</td>\n",
       "      <td>NaN</td>\n",
       "      <td>NaN</td>\n",
       "      <td>49.812426</td>\n",
       "      <td>NaN</td>\n",
       "      <td>NaN</td>\n",
       "    </tr>\n",
       "    <tr>\n",
       "      <th>4</th>\n",
       "      <td>5</td>\n",
       "      <td>synthetic</td>\n",
       "      <td>1-2 hours</td>\n",
       "      <td>3 or more hours</td>\n",
       "      <td>No</td>\n",
       "      <td>NaN</td>\n",
       "      <td>Yes</td>\n",
       "      <td>NaN</td>\n",
       "      <td>1-2 hours</td>\n",
       "      <td>Less than 1 hour</td>\n",
       "      <td>...</td>\n",
       "      <td>Not at all</td>\n",
       "      <td>Not at all</td>\n",
       "      <td>Not at all</td>\n",
       "      <td>Less than 1 hour</td>\n",
       "      <td>Less than 1 hour</td>\n",
       "      <td>1-2 hours</td>\n",
       "      <td>3 or more hours</td>\n",
       "      <td>62.270030</td>\n",
       "      <td>1-2 hours</td>\n",
       "      <td>1-2 hours</td>\n",
       "    </tr>\n",
       "    <tr>\n",
       "      <th>...</th>\n",
       "      <td>...</td>\n",
       "      <td>...</td>\n",
       "      <td>...</td>\n",
       "      <td>...</td>\n",
       "      <td>...</td>\n",
       "      <td>...</td>\n",
       "      <td>...</td>\n",
       "      <td>...</td>\n",
       "      <td>...</td>\n",
       "      <td>...</td>\n",
       "      <td>...</td>\n",
       "      <td>...</td>\n",
       "      <td>...</td>\n",
       "      <td>...</td>\n",
       "      <td>...</td>\n",
       "      <td>...</td>\n",
       "      <td>...</td>\n",
       "      <td>...</td>\n",
       "      <td>...</td>\n",
       "      <td>...</td>\n",
       "      <td>...</td>\n",
       "    </tr>\n",
       "    <tr>\n",
       "      <th>13729</th>\n",
       "      <td>13730</td>\n",
       "      <td>synthetic</td>\n",
       "      <td>NaN</td>\n",
       "      <td>NaN</td>\n",
       "      <td>NaN</td>\n",
       "      <td>NaN</td>\n",
       "      <td>NaN</td>\n",
       "      <td>NaN</td>\n",
       "      <td>NaN</td>\n",
       "      <td>NaN</td>\n",
       "      <td>...</td>\n",
       "      <td>NaN</td>\n",
       "      <td>NaN</td>\n",
       "      <td>NaN</td>\n",
       "      <td>NaN</td>\n",
       "      <td>NaN</td>\n",
       "      <td>NaN</td>\n",
       "      <td>NaN</td>\n",
       "      <td>NaN</td>\n",
       "      <td>NaN</td>\n",
       "      <td>NaN</td>\n",
       "    </tr>\n",
       "    <tr>\n",
       "      <th>13730</th>\n",
       "      <td>13731</td>\n",
       "      <td>synthetic</td>\n",
       "      <td>1-2 hours</td>\n",
       "      <td>3 or more hours</td>\n",
       "      <td>No</td>\n",
       "      <td>NaN</td>\n",
       "      <td>NaN</td>\n",
       "      <td>NaN</td>\n",
       "      <td>1-2 hours</td>\n",
       "      <td>1-2 hours</td>\n",
       "      <td>...</td>\n",
       "      <td>Not at all</td>\n",
       "      <td>Less than 1 hour</td>\n",
       "      <td>Less than 1 hour</td>\n",
       "      <td>Less than 1 hour</td>\n",
       "      <td>Less than 1 hour</td>\n",
       "      <td>3 or more hours</td>\n",
       "      <td>3 or more hours</td>\n",
       "      <td>NaN</td>\n",
       "      <td>1-2 hours</td>\n",
       "      <td>1-2 hours</td>\n",
       "    </tr>\n",
       "    <tr>\n",
       "      <th>13731</th>\n",
       "      <td>13732</td>\n",
       "      <td>synthetic</td>\n",
       "      <td>1-2 hours</td>\n",
       "      <td>1-2 hours</td>\n",
       "      <td>No</td>\n",
       "      <td>NaN</td>\n",
       "      <td>NaN</td>\n",
       "      <td>NaN</td>\n",
       "      <td>1-2 hours</td>\n",
       "      <td>1-2 hours</td>\n",
       "      <td>...</td>\n",
       "      <td>Any at all</td>\n",
       "      <td>1-2 hours</td>\n",
       "      <td>1-2 hours</td>\n",
       "      <td>1 or more hours</td>\n",
       "      <td>1 or more hours</td>\n",
       "      <td>3 or more hours</td>\n",
       "      <td>3 or more hours</td>\n",
       "      <td>58.075832</td>\n",
       "      <td>Less than 1 hour</td>\n",
       "      <td>Less than 1 hour</td>\n",
       "    </tr>\n",
       "    <tr>\n",
       "      <th>13732</th>\n",
       "      <td>13733</td>\n",
       "      <td>synthetic</td>\n",
       "      <td>Less than 1 hour</td>\n",
       "      <td>1-2 hours</td>\n",
       "      <td>No</td>\n",
       "      <td>Yes</td>\n",
       "      <td>NaN</td>\n",
       "      <td>NaN</td>\n",
       "      <td>Less than 1 hour</td>\n",
       "      <td>1-2 hours</td>\n",
       "      <td>...</td>\n",
       "      <td>Any at all</td>\n",
       "      <td>1-2 hours</td>\n",
       "      <td>1-2 hours</td>\n",
       "      <td>Less than 1 hour</td>\n",
       "      <td>Less than 1 hour</td>\n",
       "      <td>Not at all</td>\n",
       "      <td>Less than 1 hour</td>\n",
       "      <td>NaN</td>\n",
       "      <td>Less than 1 hour</td>\n",
       "      <td>1-2 hours</td>\n",
       "    </tr>\n",
       "    <tr>\n",
       "      <th>13733</th>\n",
       "      <td>13734</td>\n",
       "      <td>synthetic</td>\n",
       "      <td>NaN</td>\n",
       "      <td>NaN</td>\n",
       "      <td>NaN</td>\n",
       "      <td>NaN</td>\n",
       "      <td>NaN</td>\n",
       "      <td>NaN</td>\n",
       "      <td>NaN</td>\n",
       "      <td>NaN</td>\n",
       "      <td>...</td>\n",
       "      <td>NaN</td>\n",
       "      <td>NaN</td>\n",
       "      <td>NaN</td>\n",
       "      <td>NaN</td>\n",
       "      <td>NaN</td>\n",
       "      <td>NaN</td>\n",
       "      <td>NaN</td>\n",
       "      <td>70.732913</td>\n",
       "      <td>NaN</td>\n",
       "      <td>NaN</td>\n",
       "    </tr>\n",
       "  </tbody>\n",
       "</table>\n",
       "<p>13734 rows × 44 columns</p>\n",
       "</div>"
      ],
      "text/plain": [
       "           X       flag         alon_week        alon_wend child_bull  \\\n",
       "0          1  synthetic         1-2 hours        1-2 hours         No   \n",
       "1          2  synthetic               NaN              NaN        NaN   \n",
       "2          3  synthetic               NaN              NaN        NaN   \n",
       "3          4  synthetic               NaN              NaN        NaN   \n",
       "4          5  synthetic         1-2 hours  3 or more hours         No   \n",
       "...      ...        ...               ...              ...        ...   \n",
       "13729  13730  synthetic               NaN              NaN        NaN   \n",
       "13730  13731  synthetic         1-2 hours  3 or more hours         No   \n",
       "13731  13732  synthetic         1-2 hours        1-2 hours         No   \n",
       "13732  13733  synthetic  Less than 1 hour        1-2 hours         No   \n",
       "13733  13734  synthetic               NaN              NaN        NaN   \n",
       "\n",
       "      comp_house comp_noint_bed_16 comp_int_bed_16         comp_week  \\\n",
       "0            Yes               NaN             NaN         1-2 hours   \n",
       "1            NaN               NaN             NaN               NaN   \n",
       "2            NaN               NaN             NaN               NaN   \n",
       "3            NaN               NaN             NaN               NaN   \n",
       "4            NaN               Yes             NaN         1-2 hours   \n",
       "...          ...               ...             ...               ...   \n",
       "13729        NaN               NaN             NaN               NaN   \n",
       "13730        NaN               NaN             NaN         1-2 hours   \n",
       "13731        NaN               NaN             NaN         1-2 hours   \n",
       "13732        Yes               NaN             NaN  Less than 1 hour   \n",
       "13733        NaN               NaN             NaN               NaN   \n",
       "\n",
       "              comp_wend  ... talk_phon_wend         text_week  \\\n",
       "0             1-2 hours  ...     Any at all  Less than 1 hour   \n",
       "1                   NaN  ...            NaN               NaN   \n",
       "2                   NaN  ...            NaN               NaN   \n",
       "3                   NaN  ...            NaN               NaN   \n",
       "4      Less than 1 hour  ...     Not at all        Not at all   \n",
       "...                 ...  ...            ...               ...   \n",
       "13729               NaN  ...            NaN               NaN   \n",
       "13730         1-2 hours  ...     Not at all  Less than 1 hour   \n",
       "13731         1-2 hours  ...     Any at all         1-2 hours   \n",
       "13732         1-2 hours  ...     Any at all         1-2 hours   \n",
       "13733               NaN  ...            NaN               NaN   \n",
       "\n",
       "              text_wend         tran_week         tran_wend          tv_week  \\\n",
       "0      Less than 1 hour  Less than 1 hour  Less than 1 hour        1-2 hours   \n",
       "1                   NaN               NaN               NaN              NaN   \n",
       "2                   NaN               NaN               NaN              NaN   \n",
       "3                   NaN               NaN               NaN              NaN   \n",
       "4            Not at all  Less than 1 hour  Less than 1 hour        1-2 hours   \n",
       "...                 ...               ...               ...              ...   \n",
       "13729               NaN               NaN               NaN              NaN   \n",
       "13730  Less than 1 hour  Less than 1 hour  Less than 1 hour  3 or more hours   \n",
       "13731         1-2 hours   1 or more hours   1 or more hours  3 or more hours   \n",
       "13732         1-2 hours  Less than 1 hour  Less than 1 hour       Not at all   \n",
       "13733               NaN               NaN               NaN              NaN   \n",
       "\n",
       "                tv_wend  weight_16         work_week         work_wend  \n",
       "0             1-2 hours  59.294132   3 or more hours   3 or more hours  \n",
       "1                   NaN        NaN               NaN               NaN  \n",
       "2                   NaN        NaN               NaN               NaN  \n",
       "3                   NaN  49.812426               NaN               NaN  \n",
       "4       3 or more hours  62.270030         1-2 hours         1-2 hours  \n",
       "...                 ...        ...               ...               ...  \n",
       "13729               NaN        NaN               NaN               NaN  \n",
       "13730   3 or more hours        NaN         1-2 hours         1-2 hours  \n",
       "13731   3 or more hours  58.075832  Less than 1 hour  Less than 1 hour  \n",
       "13732  Less than 1 hour        NaN  Less than 1 hour         1-2 hours  \n",
       "13733               NaN  70.732913               NaN               NaN  \n",
       "\n",
       "[13734 rows x 44 columns]"
      ]
     },
     "execution_count": 3,
     "metadata": {},
     "output_type": "execute_result"
    }
   ],
   "source": [
    "data"
   ]
  },
  {
   "cell_type": "code",
   "execution_count": 4,
   "metadata": {},
   "outputs": [],
   "source": [
    "targets_dep_score = data[['dep_score']]\n",
    "\n",
    "r2_list = []"
   ]
  },
  {
   "cell_type": "markdown",
   "metadata": {},
   "source": [
    "\n",
    "\n",
    "\n",
    "\n",
    "# Category A"
   ]
  },
  {
   "cell_type": "markdown",
   "metadata": {},
   "source": [
    "### Regression: comp_week - dep_score"
   ]
  },
  {
   "cell_type": "code",
   "execution_count": 5,
   "metadata": {},
   "outputs": [
    {
     "name": "stdout",
     "output_type": "stream",
     "text": [
      "RMSE value:  0.9422264200974844\n",
      "R2 value:  -0.004149344358364004\n"
     ]
    },
    {
     "data": {
      "image/png": "[encoded data removed]",
      "text/plain": [
       "<Figure size 504x504 with 1 Axes>"
      ]
     },
     "metadata": {
      "needs_background": "light"
     },
     "output_type": "display_data"
    }
   ],
   "source": [
    "features_comp_week = data[['comp_week']].copy()\n",
    "\n",
    "features_comp_week.loc[features_comp_week['comp_week'] == 'Not at all', 'comp_week'] = 0\n",
    "features_comp_week.loc[features_comp_week['comp_week'] == 'Less than 1 hour', 'comp_week'] = 1\n",
    "features_comp_week.loc[features_comp_week['comp_week'] == '1-2 hours', 'comp_week'] = 2\n",
    "features_comp_week.loc[features_comp_week['comp_week'] == '3 or more hours', 'comp_week'] = 3\n",
    "\n",
    "features_comp_week['dep_score'] = targets_dep_score\n",
    "features_comp_week = features_comp_week.dropna(axis=0)\n",
    "\n",
    "X_train, X_test, y_train, y_test = train_test_split(features_comp_week[['comp_week']], features_comp_week[['dep_score']], test_size=0.2, random_state=48)\n",
    "\n",
    "lin_reg = LinearRegression()\n",
    "lin_reg.fit(X_train, y_train)\n",
    "\n",
    "y_pred = lin_reg.predict(X_test)\n",
    "\n",
    "mse = mean_squared_error(y_test, y_pred)\n",
    "rmse = np.sqrt(mse)\n",
    "r2_point = r2_score(y_test, y_pred)\n",
    "r2_list.append(('A - comp_week', r2_point))\n",
    "\n",
    "fig, ax = plt.subplots(figsize=(7,7))\n",
    "ax.scatter(X_train, y_train)\n",
    "ax.plot(X_test, y_pred, 'r-')\n",
    "ax.set_title('comp_week - dep_score')\n",
    "ax.set_xlabel('comp_week')\n",
    "ax.set_ylabel('dep_score')\n",
    "\n",
    "print(\"RMSE value: \", rmse)\n",
    "print(\"R2 value: \", r2_point)"
   ]
  },
  {
   "cell_type": "markdown",
   "metadata": {},
   "source": [
    "### Regression: comp_wend - dep_score"
   ]
  },
  {
   "cell_type": "code",
   "execution_count": 6,
   "metadata": {},
   "outputs": [
    {
     "name": "stdout",
     "output_type": "stream",
     "text": [
      "RMSE value:  0.9637553915478693\n",
      "R2 value:  -0.0015259889486427536\n"
     ]
    },
    {
     "data": {
      "image/png": "[encoded data removed]",
      "text/plain": [
       "<Figure size 504x504 with 1 Axes>"
      ]
     },
     "metadata": {
      "needs_background": "light"
     },
     "output_type": "display_data"
    }
   ],
   "source": [
    "features_comp_wend = data[['comp_wend']].copy()\n",
    "\n",
    "features_comp_wend.loc[features_comp_wend['comp_wend'] == 'Not at all', 'comp_wend'] = 0\n",
    "features_comp_wend.loc[features_comp_wend['comp_wend'] == 'Less than 1 hour', 'comp_wend'] = 1\n",
    "features_comp_wend.loc[features_comp_wend['comp_wend'] == '1-2 hours', 'comp_wend'] = 2\n",
    "features_comp_wend.loc[features_comp_wend['comp_wend'] == '3 or more hours', 'comp_wend'] = 3\n",
    "\n",
    "features_comp_wend['dep_score'] = targets_dep_score\n",
    "features_comp_wend = features_comp_wend.dropna(axis=0)\n",
    "\n",
    "X_train, X_test, y_train, y_test = train_test_split(features_comp_wend[['comp_wend']], features_comp_wend[['dep_score']], test_size=0.2, random_state=48)\n",
    "\n",
    "lin_reg = LinearRegression()\n",
    "lin_reg.fit(X_train, y_train)\n",
    "\n",
    "y_pred = lin_reg.predict(X_test)\n",
    "\n",
    "mse = mean_squared_error(y_test, y_pred)\n",
    "rmse = np.sqrt(mse)\n",
    "r2_point = r2_score(y_test, y_pred)\n",
    "r2_list.append(('A - comp_wend', r2_point))\n",
    "\n",
    "fig, ax = plt.subplots(figsize=(7,7))\n",
    "ax.scatter(X_train, y_train)\n",
    "ax.plot(X_test, y_pred, 'r-')\n",
    "ax.set_title('comep_wend - dep_score')\n",
    "ax.set_xlabel('comp_wend')\n",
    "ax.set_ylabel('dep_score')\n",
    "\n",
    "print(\"RMSE value: \", rmse)\n",
    "print(\"R2 value: \", r2_point)"
   ]
  },
  {
   "cell_type": "markdown",
   "metadata": {},
   "source": [
    "### Regression: text_week - dep_score"
   ]
  },
  {
   "cell_type": "code",
   "execution_count": 7,
   "metadata": {},
   "outputs": [
    {
     "name": "stdout",
     "output_type": "stream",
     "text": [
      "RMSE value:  0.8585575266528782\n",
      "R2 value:  -0.002119851201400458\n"
     ]
    },
    {
     "data": {
      "image/png": "[encoded data removed]",
      "text/plain": [
       "<Figure size 504x504 with 1 Axes>"
      ]
     },
     "metadata": {
      "needs_background": "light"
     },
     "output_type": "display_data"
    }
   ],
   "source": [
    "features_text_week = data[['text_week']].copy()\n",
    "\n",
    "features_text_week.loc[features_text_week['text_week'] == 'Not at all', 'text_week'] = 0\n",
    "features_text_week.loc[features_text_week['text_week'] == 'Less than 1 hour', 'text_week'] = 1\n",
    "features_text_week.loc[features_text_week['text_week'] == '1-2 hours', 'text_week'] = 2\n",
    "features_text_week.loc[features_text_week['text_week'] == '3 or more hours', 'text_week'] = 3\n",
    "\n",
    "features_text_week['dep_score'] = targets_dep_score\n",
    "features_text_week = features_text_week.dropna(axis=0)\n",
    "\n",
    "X_train, X_test, y_train, y_test = train_test_split(features_text_week[['text_week']], features_text_week[['dep_score']], test_size=0.2, random_state=48)\n",
    "\n",
    "lin_reg = LinearRegression()\n",
    "lin_reg.fit(X_train, y_train)\n",
    "\n",
    "y_pred = lin_reg.predict(X_test)\n",
    "\n",
    "mse = mean_squared_error(y_test, y_pred)\n",
    "rmse = np.sqrt(mse)\n",
    "r2_point = r2_score(y_test, y_pred)\n",
    "r2_list.append(('A - text_week', r2_point))\n",
    "\n",
    "fig, ax = plt.subplots(figsize=(7,7))\n",
    "ax.scatter(X_train, y_train)\n",
    "ax.plot(X_test, y_pred, 'r-')\n",
    "ax.set_title('text_week - dep_score')\n",
    "ax.set_xlabel('text_week')\n",
    "ax.set_ylabel('dep_score')\n",
    "\n",
    "print(\"RMSE value: \", rmse)\n",
    "print(\"R2 value: \", r2_point)"
   ]
  },
  {
   "cell_type": "markdown",
   "metadata": {},
   "source": [
    "### Regression: text_wend - dep_score"
   ]
  },
  {
   "cell_type": "code",
   "execution_count": 8,
   "metadata": {},
   "outputs": [
    {
     "name": "stdout",
     "output_type": "stream",
     "text": [
      "RMSE value:  1.0008928108715485\n",
      "R2 value:  -0.006511103153964637\n"
     ]
    },
    {
     "data": {
      "image/png": "[encoded data removed]",
      "text/plain": [
       "<Figure size 504x504 with 1 Axes>"
      ]
     },
     "metadata": {
      "needs_background": "light"
     },
     "output_type": "display_data"
    }
   ],
   "source": [
    "features_text_wend = data[['text_wend']].copy()\n",
    "\n",
    "features_text_wend.loc[features_text_wend['text_wend'] == 'Not at all', 'text_wend'] = 0\n",
    "features_text_wend.loc[features_text_wend['text_wend'] == 'Less than 1 hour', 'text_wend'] = 1\n",
    "features_text_wend.loc[features_text_wend['text_wend'] == '1-2 hours', 'text_wend'] = 2\n",
    "features_text_wend.loc[features_text_wend['text_wend'] == '3 or more hours', 'text_wend'] = 3\n",
    "\n",
    "features_text_wend['dep_score'] = targets_dep_score\n",
    "features_text_wend = features_text_wend.dropna(axis=0)\n",
    "\n",
    "X_train, X_test, y_train, y_test = train_test_split(features_text_wend[['text_wend']], features_text_wend[['dep_score']], test_size=0.2, random_state=48)\n",
    "\n",
    "lin_reg = LinearRegression()\n",
    "lin_reg.fit(X_train, y_train)\n",
    "\n",
    "y_pred = lin_reg.predict(X_test)\n",
    "\n",
    "mse = mean_squared_error(y_test, y_pred)\n",
    "rmse = np.sqrt(mse)\n",
    "r2_point = r2_score(y_test, y_pred)\n",
    "r2_list.append(('A - text_wend', r2_point))\n",
    "\n",
    "fig, ax = plt.subplots(figsize=(7,7))\n",
    "ax.scatter(X_train, y_train)\n",
    "ax.plot(X_test, y_pred, 'r-')\n",
    "ax.set_title('text_wend - dep_score')\n",
    "ax.set_xlabel('text_wend')\n",
    "ax.set_ylabel('dep_score')\n",
    "\n",
    "print(\"RMSE value: \", rmse)\n",
    "print(\"R2 value: \", r2_point)"
   ]
  },
  {
   "cell_type": "markdown",
   "metadata": {},
   "source": [
    "### Regression: tv_week - dep_score"
   ]
  },
  {
   "cell_type": "code",
   "execution_count": 9,
   "metadata": {},
   "outputs": [
    {
     "name": "stdout",
     "output_type": "stream",
     "text": [
      "RMSE value:  0.9623934045536822\n",
      "R2 value:  -0.0007080338062335212\n"
     ]
    },
    {
     "data": {
      "image/png": "[encoded data removed]",
      "text/plain": [
       "<Figure size 504x504 with 1 Axes>"
      ]
     },
     "metadata": {
      "needs_background": "light"
     },
     "output_type": "display_data"
    }
   ],
   "source": [
    "features_tv_week = data[['tv_week']].copy()\n",
    "\n",
    "features_tv_week.loc[features_tv_week['tv_week'] == 'Not at all', 'tv_week'] = 0\n",
    "features_tv_week.loc[features_tv_week['tv_week'] == 'Less than 1 hour', 'tv_week'] = 1\n",
    "features_tv_week.loc[features_tv_week['tv_week'] == '1-2 hours', 'tv_week'] = 2\n",
    "features_tv_week.loc[features_tv_week['tv_week'] == '3 or more hours', 'tv_week'] = 3\n",
    "\n",
    "features_tv_week['dep_score'] = targets_dep_score\n",
    "features_tv_week = features_tv_week.dropna(axis=0)\n",
    "\n",
    "X_train, X_test, y_train, y_test = train_test_split(features_tv_week[['tv_week']], features_tv_week[['dep_score']], test_size=0.2, random_state=48)\n",
    "\n",
    "lin_reg = LinearRegression()\n",
    "lin_reg.fit(X_train, y_train)\n",
    "\n",
    "y_pred = lin_reg.predict(X_test)\n",
    "\n",
    "mse = mean_squared_error(y_test, y_pred)\n",
    "rmse = np.sqrt(mse)\n",
    "r2_point = r2_score(y_test, y_pred)\n",
    "r2_list.append(('A - tv_week', r2_point))\n",
    "\n",
    "fig, ax = plt.subplots(figsize=(7,7))\n",
    "ax.scatter(X_train, y_train)\n",
    "ax.plot(X_test, y_pred, 'r-')\n",
    "ax.set_title('tv_week - dep_score')\n",
    "ax.set_xlabel('tv_week')\n",
    "ax.set_ylabel('dep_score')\n",
    "\n",
    "print(\"RMSE value: \", rmse)\n",
    "print(\"R2 value: \", r2_point)"
   ]
  },
  {
   "cell_type": "markdown",
   "metadata": {},
   "source": [
    "### Regression: tv_wend - dep_score"
   ]
  },
  {
   "cell_type": "code",
   "execution_count": 10,
   "metadata": {},
   "outputs": [
    {
     "name": "stdout",
     "output_type": "stream",
     "text": [
      "RMSE value:  0.9825821284689044\n",
      "R2 value:  -0.005969176034351653\n"
     ]
    },
    {
     "data": {
      "image/png": "[encoded data removed]",
      "text/plain": [
       "<Figure size 504x504 with 1 Axes>"
      ]
     },
     "metadata": {
      "needs_background": "light"
     },
     "output_type": "display_data"
    }
   ],
   "source": [
    "features_tv_wend = data[['tv_wend']].copy()\n",
    "\n",
    "features_tv_wend.loc[features_tv_wend['tv_wend'] == 'Not at all', 'tv_wend'] = 0\n",
    "features_tv_wend.loc[features_tv_wend['tv_wend'] == 'Less than 1 hour', 'tv_wend'] = 1\n",
    "features_tv_wend.loc[features_tv_wend['tv_wend'] == '1-2 hours', 'tv_wend'] = 2\n",
    "features_tv_wend.loc[features_tv_wend['tv_wend'] == '3 or more hours', 'tv_wend'] = 3\n",
    "\n",
    "features_tv_wend['dep_score'] = targets_dep_score\n",
    "features_tv_wend = features_tv_wend.dropna(axis=0)\n",
    "\n",
    "X_train, X_test, y_train, y_test = train_test_split(features_tv_wend[['tv_wend']], features_tv_wend[['dep_score']], test_size=0.2, random_state=48)\n",
    "\n",
    "lin_reg = LinearRegression()\n",
    "lin_reg.fit(X_train, y_train)\n",
    "\n",
    "y_pred = lin_reg.predict(X_test)\n",
    "\n",
    "mse = mean_squared_error(y_test, y_pred)\n",
    "rmse = np.sqrt(mse)\n",
    "r2_point = r2_score(y_test, y_pred)\n",
    "r2_list.append(('A - tv_wend', r2_point))\n",
    "\n",
    "fig, ax = plt.subplots(figsize=(7,7))\n",
    "ax.scatter(X_train, y_train)\n",
    "ax.plot(X_test, y_pred, 'r-')\n",
    "ax.set_title('tv_wend - dep_score')\n",
    "ax.set_xlabel('tv_wend')\n",
    "ax.set_ylabel('dep_score')\n",
    "\n",
    "print(\"RMSE value: \", rmse)\n",
    "print(\"R2 value: \", r2_point)"
   ]
  },
  {
   "cell_type": "markdown",
   "metadata": {},
   "source": [
    "# Category C"
   ]
  },
  {
   "cell_type": "markdown",
   "metadata": {},
   "source": [
    "### Regression: dep_band_15 - dep_score"
   ]
  },
  {
   "cell_type": "code",
   "execution_count": 11,
   "metadata": {},
   "outputs": [
    {
     "name": "stdout",
     "output_type": "stream",
     "text": [
      "RMSE value:  0.8287705008310363\n",
      "R2 value:  -0.01767519660704564\n"
     ]
    },
    {
     "data": {
      "image/png": "[encoded data removed]",
      "text/plain": [
       "<Figure size 504x504 with 1 Axes>"
      ]
     },
     "metadata": {
      "needs_background": "light"
     },
     "output_type": "display_data"
    }
   ],
   "source": [
    "features_dep_band_15 = data[['dep_band_15']].copy()\n",
    "\n",
    "features_dep_band_15.loc[features_dep_band_15['dep_band_15'] == '<0.1%', 'dep_band_15'] = 0\n",
    "features_dep_band_15.loc[features_dep_band_15['dep_band_15'] == '~0.5%', 'dep_band_15'] = 1\n",
    "features_dep_band_15.loc[features_dep_band_15['dep_band_15'] == '~15%', 'dep_band_15'] = 2\n",
    "features_dep_band_15.loc[features_dep_band_15['dep_band_15'] == '~50%', 'dep_band_15'] = 3\n",
    "features_dep_band_15.loc[features_dep_band_15['dep_band_15'] == '>70%', 'dep_band_15'] = 4\n",
    "\n",
    "features_dep_band_15['dep_score'] = targets_dep_score\n",
    "features_dep_band_15 = features_dep_band_15.dropna(axis=0)\n",
    "\n",
    "X_train, X_test, y_train, y_test = train_test_split(features_dep_band_15[['dep_band_15']], features_dep_band_15[['dep_score']], test_size=0.2, random_state=48)\n",
    "\n",
    "lin_reg = LinearRegression()\n",
    "lin_reg.fit(X_train, y_train)\n",
    "\n",
    "y_pred = lin_reg.predict(X_test)\n",
    "\n",
    "mse = mean_squared_error(y_test, y_pred)\n",
    "rmse = np.sqrt(mse)\n",
    "r2_point = r2_score(y_test, y_pred)\n",
    "r2_list.append(('C - dep_band_15', r2_point))\n",
    "\n",
    "fig, ax = plt.subplots(figsize=(7,7))\n",
    "ax.scatter(X_train, y_train)\n",
    "ax.plot(X_test, y_pred, 'r-')\n",
    "ax.set_title('dep_band_15 - dep_score')\n",
    "ax.set_xlabel('dep_band_15')\n",
    "ax.set_ylabel('dep_score')\n",
    "\n",
    "print(\"RMSE value: \", rmse)\n",
    "print(\"R2 value: \", r2_point)"
   ]
  },
  {
   "cell_type": "markdown",
   "metadata": {},
   "source": [
    "# Category B"
   ]
  },
  {
   "cell_type": "markdown",
   "metadata": {},
   "source": [
    "### Regression: comp_house - dep_score"
   ]
  },
  {
   "cell_type": "code",
   "execution_count": 12,
   "metadata": {},
   "outputs": [
    {
     "name": "stdout",
     "output_type": "stream",
     "text": [
      "RMSE value:  1.199374139440744\n",
      "R2 value:  -0.014453814377797691\n"
     ]
    },
    {
     "data": {
      "image/png": "[encoded data removed]",
      "text/plain": [
       "<Figure size 504x504 with 1 Axes>"
      ]
     },
     "metadata": {
      "needs_background": "light"
     },
     "output_type": "display_data"
    }
   ],
   "source": [
    "features_comp_house = data[['comp_house']].copy()\n",
    "\n",
    "features_comp_house.loc[features_comp_house['comp_house'] == 'Yes', 'comp_house'] = 1\n",
    "features_comp_house.loc[features_comp_house['comp_house'] == 'No', 'comp_house'] = 0\n",
    "\n",
    "features_comp_house['dep_score'] = targets_dep_score\n",
    "features_comp_house = features_comp_house.dropna(axis=0)\n",
    "\n",
    "X_train, X_test, y_train, y_test = train_test_split(features_comp_house[['comp_house']], features_comp_house[['dep_score']], test_size=0.2, random_state=48)\n",
    "\n",
    "lin_reg = LinearRegression()\n",
    "lin_reg.fit(X_train, y_train)\n",
    "\n",
    "y_pred = lin_reg.predict(X_test)\n",
    "\n",
    "mse = mean_squared_error(y_test, y_pred)\n",
    "rmse = np.sqrt(mse)\n",
    "r2_point = r2_score(y_test, y_pred)\n",
    "r2_list.append(('B - comp_house', r2_point))\n",
    "\n",
    "fig, ax = plt.subplots(figsize=(7,7))\n",
    "ax.scatter(X_train, y_train)\n",
    "ax.plot(X_test, y_pred, 'r-')\n",
    "ax.set_title('comp_house - dep_score')\n",
    "ax.set_xlabel('comp_house')\n",
    "ax.set_ylabel('dep_score')\n",
    "\n",
    "print(\"RMSE value: \", rmse)\n",
    "print(\"R2 value: \", r2_point)"
   ]
  },
  {
   "cell_type": "markdown",
   "metadata": {},
   "source": [
    "### Regression: comp_int_bed_16 - dep_score"
   ]
  },
  {
   "cell_type": "code",
   "execution_count": 13,
   "metadata": {},
   "outputs": [
    {
     "name": "stdout",
     "output_type": "stream",
     "text": [
      "RMSE value:  0.9237639140562237\n",
      "R2 value:  -0.00024188325432428215\n"
     ]
    },
    {
     "data": {
      "image/png": "[encoded data removed]",
      "text/plain": [
       "<Figure size 504x504 with 1 Axes>"
      ]
     },
     "metadata": {
      "needs_background": "light"
     },
     "output_type": "display_data"
    }
   ],
   "source": [
    "features_comp_int_bed_16 = data[['comp_int_bed_16']].copy()\n",
    "\n",
    "features_comp_int_bed_16.loc[features_comp_int_bed_16['comp_int_bed_16'] == 'Yes', 'comp_int_bed_16'] = 1\n",
    "features_comp_int_bed_16.loc[features_comp_int_bed_16['comp_int_bed_16'] == 'No', 'comp_int_bed_16'] = 0\n",
    "\n",
    "features_comp_int_bed_16['dep_score'] = targets_dep_score\n",
    "features_comp_int_bed_16 = features_comp_int_bed_16.dropna(axis=0)\n",
    "\n",
    "X_train, X_test, y_train, y_test = train_test_split(features_comp_int_bed_16[['comp_int_bed_16']], features_comp_int_bed_16[['dep_score']], test_size=0.2, random_state=48)\n",
    "\n",
    "lin_reg = LinearRegression()\n",
    "lin_reg.fit(X_train, y_train)\n",
    "\n",
    "y_pred = lin_reg.predict(X_test)\n",
    "\n",
    "mse = mean_squared_error(y_test, y_pred)\n",
    "rmse = np.sqrt(mse)\n",
    "r2_point = r2_score(y_test, y_pred)\n",
    "r2_list.append(('B - comp_int_bed_16', r2_point))\n",
    "\n",
    "fig, ax = plt.subplots(figsize=(7,7))\n",
    "ax.scatter(X_train, y_train)\n",
    "ax.plot(X_test, y_pred, 'r-')\n",
    "ax.set_title('comp_int_bed_16 - dep_score')\n",
    "ax.set_xlabel('comp_int_bed_16')\n",
    "ax.set_ylabel('dep_score')\n",
    "\n",
    "print(\"RMSE value: \", rmse)\n",
    "print(\"R2 value: \", r2_point)"
   ]
  },
  {
   "cell_type": "markdown",
   "metadata": {},
   "source": [
    "### Regression: comp_noint_bed_16 - dep_score"
   ]
  },
  {
   "cell_type": "code",
   "execution_count": 14,
   "metadata": {},
   "outputs": [
    {
     "name": "stdout",
     "output_type": "stream",
     "text": [
      "RMSE value:  0.8755219525969892\n",
      "R2 value:  -0.00018096226414976435\n"
     ]
    },
    {
     "data": {
      "image/png": "[encoded data removed]",
      "text/plain": [
       "<Figure size 504x504 with 1 Axes>"
      ]
     },
     "metadata": {
      "needs_background": "light"
     },
     "output_type": "display_data"
    }
   ],
   "source": [
    "features_comp_noint_bed_16 = data[['comp_noint_bed_16']].copy()\n",
    "\n",
    "features_comp_noint_bed_16.loc[features_comp_noint_bed_16['comp_noint_bed_16'] == 'Yes', 'comp_noint_bed_16'] = 1\n",
    "features_comp_noint_bed_16.loc[features_comp_noint_bed_16['comp_noint_bed_16'] == 'No', 'comp_noint_bed_16'] = 0\n",
    "\n",
    "features_comp_noint_bed_16['dep_score'] = targets_dep_score\n",
    "features_comp_noint_bed_16 = features_comp_noint_bed_16.dropna(axis=0)\n",
    "\n",
    "X_train, X_test, y_train, y_test = train_test_split(features_comp_noint_bed_16[['comp_noint_bed_16']], features_comp_noint_bed_16[['dep_score']], test_size=0.2, random_state=48)\n",
    "\n",
    "lin_reg = LinearRegression()\n",
    "lin_reg.fit(X_train, y_train)\n",
    "\n",
    "y_pred = lin_reg.predict(X_test)\n",
    "\n",
    "mse = mean_squared_error(y_test, y_pred)\n",
    "rmse = np.sqrt(mse)\n",
    "r2_point = r2_score(y_test, y_pred)\n",
    "r2_list.append(('B - comp_noint_bed_16', r2_point))\n",
    "\n",
    "fig, ax = plt.subplots(figsize=(7,7))\n",
    "ax.scatter(X_train, y_train)\n",
    "ax.plot(X_test, y_pred, 'r-')\n",
    "ax.set_title('comp_noint_bed_16 - dep_score')\n",
    "ax.set_xlabel('comp_noint_bed_16')\n",
    "ax.set_ylabel('dep_score')\n",
    "\n",
    "print(\"RMSE value: \", rmse)\n",
    "print(\"R2 value: \", r2_point)"
   ]
  },
  {
   "cell_type": "markdown",
   "metadata": {},
   "source": [
    "# Category D"
   ]
  },
  {
   "cell_type": "markdown",
   "metadata": {},
   "source": [
    "### Regression: alon_week - dep_score"
   ]
  },
  {
   "cell_type": "code",
   "execution_count": 15,
   "metadata": {},
   "outputs": [
    {
     "name": "stdout",
     "output_type": "stream",
     "text": [
      "RMSE value:  0.9181504291298487\n",
      "R2 value:  -0.004305520260552198\n"
     ]
    },
    {
     "data": {
      "image/png": "[encoded data removed]",
      "text/plain": [
       "<Figure size 504x504 with 1 Axes>"
      ]
     },
     "metadata": {
      "needs_background": "light"
     },
     "output_type": "display_data"
    }
   ],
   "source": [
    "features_alon_week = data[['alon_week']].copy()\n",
    "\n",
    "features_alon_week.loc[features_alon_week['alon_week'] == 'Not at all', 'alon_week'] = 0\n",
    "features_alon_week.loc[features_alon_week['alon_week'] == 'Less than 1 hour', 'alon_week'] = 1\n",
    "features_alon_week.loc[features_alon_week['alon_week'] == '1-2 hours', 'alon_week'] = 2\n",
    "features_alon_week.loc[features_alon_week['alon_week'] == '3 or more hours', 'alon_week'] = 3\n",
    "\n",
    "features_alon_week['dep_score'] = targets_dep_score\n",
    "features_alon_week = features_alon_week.dropna(axis=0)\n",
    "\n",
    "X_train, X_test, y_train, y_test = train_test_split(features_alon_week[['alon_week']], features_alon_week[['dep_score']], test_size=0.2, random_state=48)\n",
    "\n",
    "lin_reg = LinearRegression()\n",
    "lin_reg.fit(X_train, y_train)\n",
    "\n",
    "y_pred = lin_reg.predict(X_test)\n",
    "\n",
    "mse = mean_squared_error(y_test, y_pred)\n",
    "rmse = np.sqrt(mse)\n",
    "r2_point = r2_score(y_test, y_pred)\n",
    "r2_list.append(('D - alon_week', r2_point))\n",
    "\n",
    "fig, ax = plt.subplots(figsize=(7,7))\n",
    "ax.scatter(X_train, y_train)\n",
    "ax.plot(X_test, y_pred, 'r-')\n",
    "ax.set_title('alon_week - dep_score')\n",
    "ax.set_xlabel('alon_week')\n",
    "ax.set_ylabel('dep_score')\n",
    "\n",
    "print(\"RMSE value: \", rmse)\n",
    "print(\"R2 value: \", r2_point)"
   ]
  },
  {
   "cell_type": "markdown",
   "metadata": {},
   "source": [
    "### Regression: alon_wend - dep_score"
   ]
  },
  {
   "cell_type": "code",
   "execution_count": 16,
   "metadata": {},
   "outputs": [
    {
     "name": "stdout",
     "output_type": "stream",
     "text": [
      "RMSE value:  0.9391553719111189\n",
      "R2 value:  -0.0038164151795199164\n"
     ]
    },
    {
     "data": {
      "image/png": "[encoded data removed]",
      "text/plain": [
       "<Figure size 504x504 with 1 Axes>"
      ]
     },
     "metadata": {
      "needs_background": "light"
     },
     "output_type": "display_data"
    }
   ],
   "source": [
    "features_alon_wend = data[['alon_wend']].copy()\n",
    "\n",
    "features_alon_wend.loc[features_alon_wend['alon_wend'] == 'Not at all', 'alon_wend'] = 0\n",
    "features_alon_wend.loc[features_alon_wend['alon_wend'] == 'Less than 1 hour', 'alon_wend'] = 1\n",
    "features_alon_wend.loc[features_alon_wend['alon_wend'] == '1-2 hours', 'alon_wend'] = 2\n",
    "features_alon_wend.loc[features_alon_wend['alon_wend'] == '3 or more hours', 'alon_wend'] = 3\n",
    "\n",
    "features_alon_wend['dep_score'] = targets_dep_score\n",
    "features_alon_wend = features_alon_wend.dropna(axis=0)\n",
    "\n",
    "X_train, X_test, y_train, y_test = train_test_split(features_alon_wend[['alon_wend']], features_alon_wend[['dep_score']], test_size=0.2, random_state=48)\n",
    "\n",
    "lin_reg = LinearRegression()\n",
    "lin_reg.fit(X_train, y_train)\n",
    "\n",
    "y_pred = lin_reg.predict(X_test)\n",
    "\n",
    "mse = mean_squared_error(y_test, y_pred)\n",
    "rmse = np.sqrt(mse)\n",
    "r2_point = r2_score(y_test, y_pred)\n",
    "r2_list.append(('D - alon_wend', r2_point))\n",
    "\n",
    "fig, ax = plt.subplots(figsize=(7,7))\n",
    "ax.scatter(X_train, y_train)\n",
    "ax.plot(X_test, y_pred, 'r-')\n",
    "ax.set_title('alon_wend - dep_score')\n",
    "ax.set_xlabel('alon_wend')\n",
    "ax.set_ylabel('dep_score')\n",
    "\n",
    "print(\"RMSE value: \", rmse)\n",
    "print(\"R2 value: \", r2_point)"
   ]
  },
  {
   "cell_type": "markdown",
   "metadata": {},
   "source": [
    "### Regression: child_bull - dep_score"
   ]
  },
  {
   "cell_type": "code",
   "execution_count": 17,
   "metadata": {},
   "outputs": [
    {
     "name": "stdout",
     "output_type": "stream",
     "text": [
      "RMSE value:  0.9023045771137627\n",
      "R2 value:  0.0018023423023250107\n"
     ]
    },
    {
     "data": {
      "image/png": "[encoded data removed]",
      "text/plain": [
       "<Figure size 504x504 with 1 Axes>"
      ]
     },
     "metadata": {
      "needs_background": "light"
     },
     "output_type": "display_data"
    }
   ],
   "source": [
    "features_child_bull = data[['child_bull']].copy()\n",
    "\n",
    "features_child_bull.loc[features_child_bull['child_bull'] == 'Yes', 'child_bull'] = 1\n",
    "features_child_bull.loc[features_child_bull['child_bull'] == 'No', 'child_bull'] = 0\n",
    "\n",
    "features_child_bull['dep_score'] = targets_dep_score\n",
    "features_child_bull = features_child_bull.dropna(axis=0)\n",
    "\n",
    "X_train, X_test, y_train, y_test = train_test_split(features_child_bull[['child_bull']], features_child_bull[['dep_score']], test_size=0.2, random_state=48)\n",
    "\n",
    "lin_reg = LinearRegression()\n",
    "lin_reg.fit(X_train, y_train)\n",
    "\n",
    "y_pred = lin_reg.predict(X_test)\n",
    "\n",
    "mse = mean_squared_error(y_test, y_pred)\n",
    "rmse = np.sqrt(mse)\n",
    "r2_point = r2_score(y_test, y_pred)\n",
    "r2_list.append(('D - child_bull', r2_point))\n",
    "\n",
    "fig, ax = plt.subplots(figsize=(7,7))\n",
    "ax.scatter(X_train, y_train)\n",
    "ax.plot(X_test, y_pred, 'r-')\n",
    "ax.set_title('child_bull - dep_score')\n",
    "ax.set_xlabel('child_bull')\n",
    "ax.set_ylabel('dep_score')\n",
    "\n",
    "print(\"RMSE value: \", rmse)\n",
    "print(\"R2 value: \", r2_point)"
   ]
  },
  {
   "cell_type": "markdown",
   "metadata": {},
   "source": [
    "### Regression: height_16 - dep_score"
   ]
  },
  {
   "cell_type": "code",
   "execution_count": 18,
   "metadata": {},
   "outputs": [
    {
     "name": "stdout",
     "output_type": "stream",
     "text": [
      "RMSE value:  0.8955979821881903\n",
      "R2 value:  -0.00011923157900328718\n"
     ]
    },
    {
     "data": {
      "image/png": "[encoded data removed]",
      "text/plain": [
       "<Figure size 504x504 with 1 Axes>"
      ]
     },
     "metadata": {
      "needs_background": "light"
     },
     "output_type": "display_data"
    }
   ],
   "source": [
    "features_height_16 = data[['height_16']].copy()\n",
    "\n",
    "features_height_16['dep_score'] = targets_dep_score\n",
    "features_height_16 = features_height_16.dropna(axis=0)\n",
    "\n",
    "X_train, X_test, y_train, y_test = train_test_split(features_height_16[['height_16']], features_height_16[['dep_score']], test_size=0.2, random_state=48)\n",
    "\n",
    "lin_reg = LinearRegression()\n",
    "lin_reg.fit(X_train, y_train)\n",
    "\n",
    "y_pred = lin_reg.predict(X_test)\n",
    "\n",
    "mse = mean_squared_error(y_test, y_pred)\n",
    "rmse = np.sqrt(mse)\n",
    "r2_point = r2_score(y_test, y_pred)\n",
    "r2_list.append(('D - height_16', r2_point))\n",
    "\n",
    "fig, ax = plt.subplots(figsize=(7,7))\n",
    "ax.scatter(X_train, y_train)\n",
    "ax.plot(X_test, y_pred, 'r-')\n",
    "ax.set_title('height_16 - dep_score')\n",
    "ax.set_xlabel('height_16')\n",
    "ax.set_ylabel('dep_score')\n",
    "\n",
    "print(\"RMSE value: \", rmse)\n",
    "print(\"R2 value: \", r2_point)"
   ]
  },
  {
   "cell_type": "markdown",
   "metadata": {},
   "source": [
    "### Regression: weight_16 - dep_score"
   ]
  },
  {
   "cell_type": "code",
   "execution_count": 19,
   "metadata": {},
   "outputs": [
    {
     "name": "stdout",
     "output_type": "stream",
     "text": [
      "RMSE value:  0.9322418697967314\n",
      "R2 value:  -0.0017947670397782112\n"
     ]
    },
    {
     "data": {
      "image/png": "[encoded data removed]",
      "text/plain": [
       "<Figure size 504x504 with 1 Axes>"
      ]
     },
     "metadata": {
      "needs_background": "light"
     },
     "output_type": "display_data"
    }
   ],
   "source": [
    "features_weight_16 = data[['weight_16']].copy()\n",
    "\n",
    "features_weight_16['dep_score'] = targets_dep_score\n",
    "features_weight_16 = features_weight_16.dropna(axis=0)\n",
    "\n",
    "X_train, X_test, y_train, y_test = train_test_split(features_weight_16[['weight_16']], features_weight_16[['dep_score']], test_size=0.2, random_state=48)\n",
    "\n",
    "lin_reg = LinearRegression()\n",
    "lin_reg.fit(X_train, y_train)\n",
    "\n",
    "y_pred = lin_reg.predict(X_test)\n",
    "\n",
    "mse = mean_squared_error(y_test, y_pred)\n",
    "rmse = np.sqrt(mse)\n",
    "r2_point = r2_score(y_test, y_pred)\n",
    "r2_list.append(('D - weight_16', r2_point))\n",
    "\n",
    "fig, ax = plt.subplots(figsize=(7,7))\n",
    "ax.scatter(X_train, y_train)\n",
    "ax.plot(X_test, y_pred, 'r-')\n",
    "ax.set_title('weight_16 - dep_score')\n",
    "ax.set_xlabel('weight_16')\n",
    "ax.set_ylabel('dep_score')\n",
    "\n",
    "print(\"RMSE value: \", rmse)\n",
    "print(\"R2 value: \", r2_point)"
   ]
  },
  {
   "cell_type": "markdown",
   "metadata": {},
   "source": [
    "### Regression: work_week - dep_score"
   ]
  },
  {
   "cell_type": "code",
   "execution_count": 20,
   "metadata": {},
   "outputs": [
    {
     "name": "stdout",
     "output_type": "stream",
     "text": [
      "RMSE value:  0.9007624794767713\n",
      "R2 value:  0.0011654228574775605\n"
     ]
    },
    {
     "data": {
      "image/png": "[encoded data removed]",
      "text/plain": [
       "<Figure size 504x504 with 1 Axes>"
      ]
     },
     "metadata": {
      "needs_background": "light"
     },
     "output_type": "display_data"
    }
   ],
   "source": [
    "features_work_week = data[['work_week']].copy()\n",
    "\n",
    "features_work_week.loc[features_work_week['work_week'] == 'Not at all', 'work_week'] = 0\n",
    "features_work_week.loc[features_work_week['work_week'] == 'Less than 1 hour', 'work_week'] = 1\n",
    "features_work_week.loc[features_work_week['work_week'] == '1-2 hours', 'work_week'] = 2\n",
    "features_work_week.loc[features_work_week['work_week'] == '3 or more hours', 'work_week'] = 3\n",
    "\n",
    "features_work_week['dep_score'] = targets_dep_score\n",
    "features_work_week = features_work_week.dropna(axis=0)\n",
    "\n",
    "X_train, X_test, y_train, y_test = train_test_split(features_work_week[['work_week']], features_work_week[['dep_score']], test_size=0.2, random_state=48)\n",
    "\n",
    "lin_reg = LinearRegression()\n",
    "lin_reg.fit(X_train, y_train)\n",
    "\n",
    "y_pred = lin_reg.predict(X_test)\n",
    "\n",
    "mse = mean_squared_error(y_test, y_pred)\n",
    "rmse = np.sqrt(mse)\n",
    "r2_point = r2_score(y_test, y_pred)\n",
    "r2_list.append(('D - work_week', r2_point))\n",
    "\n",
    "fig, ax = plt.subplots(figsize=(7,7))\n",
    "ax.scatter(X_train, y_train)\n",
    "ax.plot(X_test, y_pred, 'r-')\n",
    "ax.set_title('work_week - dep_score')\n",
    "ax.set_xlabel('work_week')\n",
    "ax.set_ylabel('dep_score')\n",
    "\n",
    "print(\"RMSE value: \", rmse)\n",
    "print(\"R2 value: \", r2_point)"
   ]
  },
  {
   "cell_type": "markdown",
   "metadata": {},
   "source": [
    "### Regression: work_wend - dep_score"
   ]
  },
  {
   "cell_type": "code",
   "execution_count": 21,
   "metadata": {},
   "outputs": [
    {
     "name": "stdout",
     "output_type": "stream",
     "text": [
      "RMSE value:  0.985409663783173\n",
      "R2 value:  -0.005868264425537673\n"
     ]
    },
    {
     "data": {
      "image/png": "[encoded data removed]",
      "text/plain": [
       "<Figure size 504x504 with 1 Axes>"
      ]
     },
     "metadata": {
      "needs_background": "light"
     },
     "output_type": "display_data"
    }
   ],
   "source": [
    "features_work_wend = data[['work_wend']].copy()\n",
    "\n",
    "features_work_wend.loc[features_work_wend['work_wend'] == 'Not at all', 'work_wend'] = 0\n",
    "features_work_wend.loc[features_work_wend['work_wend'] == 'Less than 1 hour', 'work_wend'] = 1\n",
    "features_work_wend.loc[features_work_wend['work_wend'] == '1-2 hours', 'work_wend'] = 2\n",
    "features_work_wend.loc[features_work_wend['work_wend'] == '3 or more hours', 'work_wend'] = 3\n",
    "\n",
    "features_work_wend['dep_score'] = targets_dep_score\n",
    "features_work_wend = features_work_wend.dropna(axis=0)\n",
    "\n",
    "X_train, X_test, y_train, y_test = train_test_split(features_work_wend[['work_wend']], features_work_wend[['dep_score']], test_size=0.2, random_state=48)\n",
    "\n",
    "lin_reg = LinearRegression()\n",
    "lin_reg.fit(X_train, y_train)\n",
    "\n",
    "y_pred = lin_reg.predict(X_test)\n",
    "\n",
    "mse = mean_squared_error(y_test, y_pred)\n",
    "rmse = np.sqrt(mse)\n",
    "r2_point = r2_score(y_test, y_pred)\n",
    "r2_list.append(('D - work_wend', r2_point))\n",
    "\n",
    "fig, ax = plt.subplots(figsize=(7,7))\n",
    "ax.scatter(X_train, y_train)\n",
    "ax.plot(X_test, y_pred, 'r-')\n",
    "ax.set_title('work_wend - dep_score')\n",
    "ax.set_xlabel('work_wend')\n",
    "ax.set_ylabel('dep_score')\n",
    "\n",
    "print(\"RMSE value: \", rmse)\n",
    "print(\"R2 value: \", r2_point)"
   ]
  },
  {
   "cell_type": "markdown",
   "metadata": {},
   "source": [
    "# Category B & D"
   ]
  },
  {
   "cell_type": "markdown",
   "metadata": {},
   "source": [
    "### Regression: draw_week - dep_score"
   ]
  },
  {
   "cell_type": "code",
   "execution_count": 22,
   "metadata": {},
   "outputs": [
    {
     "name": "stdout",
     "output_type": "stream",
     "text": [
      "RMSE value:  0.9040821075740935\n",
      "R2 value:  -0.00214558766415629\n"
     ]
    },
    {
     "data": {
      "image/png": "[encoded data removed]",
      "text/plain": [
       "<Figure size 504x504 with 1 Axes>"
      ]
     },
     "metadata": {
      "needs_background": "light"
     },
     "output_type": "display_data"
    }
   ],
   "source": [
    "features_draw_week = data[['draw_week']].copy()\n",
    "\n",
    "features_draw_week.loc[features_draw_week['draw_week'] == 'Not at all', 'draw_week'] = 0\n",
    "features_draw_week.loc[features_draw_week['draw_week'] == 'Less than 1 hour', 'draw_week'] = 1\n",
    "features_draw_week.loc[features_draw_week['draw_week'] == '1 or more hours', 'draw_week'] = 2\n",
    "\n",
    "features_draw_week['dep_score'] = targets_dep_score\n",
    "features_draw_week = features_draw_week.dropna(axis=0)\n",
    "\n",
    "X_train, X_test, y_train, y_test = train_test_split(features_draw_week[['draw_week']], features_draw_week[['dep_score']], test_size=0.2, random_state=48)\n",
    "\n",
    "lin_reg = LinearRegression()\n",
    "lin_reg.fit(X_train, y_train)\n",
    "\n",
    "y_pred = lin_reg.predict(X_test)\n",
    "\n",
    "mse = mean_squared_error(y_test, y_pred)\n",
    "rmse = np.sqrt(mse)\n",
    "r2_point = r2_score(y_test, y_pred)\n",
    "r2_list.append(('B&D - draw_week', r2_point))\n",
    "\n",
    "fig, ax = plt.subplots(figsize=(7,7))\n",
    "ax.scatter(X_train, y_train)\n",
    "ax.plot(X_test, y_pred, 'r-')\n",
    "ax.set_title('draw_week - dep_score')\n",
    "ax.set_xlabel('draw_week')\n",
    "ax.set_ylabel('dep_score')\n",
    "\n",
    "print(\"RMSE value: \", rmse)\n",
    "print(\"R2 value: \", r2_point)"
   ]
  },
  {
   "cell_type": "markdown",
   "metadata": {},
   "source": [
    "### Regression: draw_wend - dep_score"
   ]
  },
  {
   "cell_type": "code",
   "execution_count": 23,
   "metadata": {},
   "outputs": [
    {
     "name": "stdout",
     "output_type": "stream",
     "text": [
      "RMSE value:  0.9613283084690936\n",
      "R2 value:  -0.00051374650386804\n"
     ]
    },
    {
     "data": {
      "image/png": "[encoded data removed]",
      "text/plain": [
       "<Figure size 504x504 with 1 Axes>"
      ]
     },
     "metadata": {
      "needs_background": "light"
     },
     "output_type": "display_data"
    }
   ],
   "source": [
    "features_draw_wend = data[['draw_wend']].copy()\n",
    "\n",
    "features_draw_wend.loc[features_draw_wend['draw_wend'] == 'Not at all', 'draw_wend'] = 0\n",
    "features_draw_wend.loc[features_draw_wend['draw_wend'] == 'Less than 1 hour', 'draw_wend'] = 1\n",
    "features_draw_wend.loc[features_draw_wend['draw_wend'] == '1 or more hours', 'draw_wend'] = 2\n",
    "\n",
    "features_draw_wend['dep_score'] = targets_dep_score\n",
    "features_draw_wend = features_draw_wend.dropna(axis=0)\n",
    "\n",
    "X_train, X_test, y_train, y_test = train_test_split(features_draw_wend[['draw_wend']], features_draw_wend[['dep_score']], test_size=0.2, random_state=48)\n",
    "\n",
    "lin_reg = LinearRegression()\n",
    "lin_reg.fit(X_train, y_train)\n",
    "\n",
    "y_pred = lin_reg.predict(X_test)\n",
    "\n",
    "mse = mean_squared_error(y_test, y_pred)\n",
    "rmse = np.sqrt(mse)\n",
    "r2_point = r2_score(y_test, y_pred)\n",
    "r2_list.append(('B&D - draw_wend', r2_point))\n",
    "\n",
    "fig, ax = plt.subplots(figsize=(7,7))\n",
    "ax.scatter(X_train, y_train)\n",
    "ax.plot(X_test, y_pred, 'r-')\n",
    "ax.set_title('draw_wend - dep_score')\n",
    "ax.set_xlabel('draw_wend')\n",
    "ax.set_ylabel('dep_score')\n",
    "\n",
    "print(\"RMSE value: \", rmse)\n",
    "print(\"R2 value: \", r2_point)"
   ]
  },
  {
   "cell_type": "markdown",
   "metadata": {},
   "source": [
    "### Regression: exercise - dep_score"
   ]
  },
  {
   "cell_type": "code",
   "execution_count": 24,
   "metadata": {},
   "outputs": [
    {
     "name": "stdout",
     "output_type": "stream",
     "text": [
      "RMSE value:  0.9011707341079468\n",
      "R2 value:  -0.0006879238670631782\n"
     ]
    },
    {
     "data": {
      "image/png": "[encoded data removed]",
      "text/plain": [
       "<Figure size 504x504 with 1 Axes>"
      ]
     },
     "metadata": {
      "needs_background": "light"
     },
     "output_type": "display_data"
    }
   ],
   "source": [
    "features_exercise = data[['exercise']].copy()\n",
    "\n",
    "features_exercise.loc[features_exercise['exercise'] == 'Never', 'exercise'] = 0\n",
    "features_exercise.loc[features_exercise['exercise'] == 'Less than once a month', 'exercise'] = 1\n",
    "features_exercise.loc[features_exercise['exercise'] == '1-3 times a month', 'exercise'] = 2\n",
    "features_exercise.loc[features_exercise['exercise'] == '1-4 times a week', 'exercise'] = 3\n",
    "features_exercise.loc[features_exercise['exercise'] == '5 or more times a week', 'exercise'] = 4\n",
    "\n",
    "features_exercise['dep_score'] = targets_dep_score\n",
    "features_exercise = features_exercise.dropna(axis=0)\n",
    "\n",
    "X_train, X_test, y_train, y_test = train_test_split(features_exercise[['exercise']], features_exercise[['dep_score']], test_size=0.2, random_state=48)\n",
    "\n",
    "lin_reg = LinearRegression()\n",
    "lin_reg.fit(X_train, y_train)\n",
    "\n",
    "y_pred = lin_reg.predict(X_test)\n",
    "\n",
    "mse = mean_squared_error(y_test, y_pred)\n",
    "rmse = np.sqrt(mse)\n",
    "r2_point = r2_score(y_test, y_pred)\n",
    "r2_list.append(('B&D - exercise', r2_point))\n",
    "\n",
    "fig, ax = plt.subplots(figsize=(7,7))\n",
    "ax.scatter(X_train, y_train)\n",
    "ax.plot(X_test, y_pred, 'r-')\n",
    "ax.set_title('exercise - dep_score')\n",
    "ax.set_xlabel('exercise')\n",
    "ax.set_ylabel('dep_score')\n",
    "\n",
    "print(\"RMSE value: \", rmse)\n",
    "print(\"R2 value: \", r2_point)"
   ]
  },
  {
   "cell_type": "markdown",
   "metadata": {},
   "source": [
    "### Regression: musi_week - dep_score"
   ]
  },
  {
   "cell_type": "code",
   "execution_count": 25,
   "metadata": {},
   "outputs": [
    {
     "name": "stdout",
     "output_type": "stream",
     "text": [
      "RMSE value:  0.9192119658108654\n",
      "R2 value:  0.0005017912285016912\n"
     ]
    },
    {
     "data": {
      "image/png": "[encoded data removed]",
      "text/plain": [
       "<Figure size 504x504 with 1 Axes>"
      ]
     },
     "metadata": {
      "needs_background": "light"
     },
     "output_type": "display_data"
    }
   ],
   "source": [
    "features_musi_week = data[['musi_week']].copy()\n",
    "\n",
    "features_musi_week.loc[features_musi_week['musi_week'] == 'Not at all', 'musi_week'] = 0\n",
    "features_musi_week.loc[features_musi_week['musi_week'] == 'Any at all', 'musi_week'] = 1\n",
    "\n",
    "features_musi_week['dep_score'] = targets_dep_score\n",
    "features_musi_week = features_musi_week.dropna(axis=0)\n",
    "\n",
    "X_train, X_test, y_train, y_test = train_test_split(features_musi_week[['musi_week']], features_musi_week[['dep_score']], test_size=0.2, random_state=48)\n",
    "\n",
    "lin_reg = LinearRegression()\n",
    "lin_reg.fit(X_train, y_train)\n",
    "\n",
    "y_pred = lin_reg.predict(X_test)\n",
    "\n",
    "mse = mean_squared_error(y_test, y_pred)\n",
    "rmse = np.sqrt(mse)\n",
    "r2_point = r2_score(y_test, y_pred)\n",
    "r2_list.append(('B&D - musi_week', r2_point))\n",
    "\n",
    "fig, ax = plt.subplots(figsize=(7,7))\n",
    "ax.scatter(X_train, y_train)\n",
    "ax.plot(X_test, y_pred, 'r-')\n",
    "ax.set_title('musi_week - dep_score')\n",
    "ax.set_xlabel('musi_week')\n",
    "ax.set_ylabel('dep_score')\n",
    "\n",
    "print(\"RMSE value: \", rmse)\n",
    "print(\"R2 value: \", r2_point)"
   ]
  },
  {
   "cell_type": "markdown",
   "metadata": {},
   "source": [
    "### Regression: musi_wend - dep_score"
   ]
  },
  {
   "cell_type": "code",
   "execution_count": 26,
   "metadata": {},
   "outputs": [
    {
     "name": "stdout",
     "output_type": "stream",
     "text": [
      "RMSE value:  0.9279298131214648\n",
      "R2 value:  0.0013265392758829986\n"
     ]
    },
    {
     "data": {
      "image/png": "[encoded data removed]",
      "text/plain": [
       "<Figure size 504x504 with 1 Axes>"
      ]
     },
     "metadata": {
      "needs_background": "light"
     },
     "output_type": "display_data"
    }
   ],
   "source": [
    "features_musi_wend = data[['musi_wend']].copy()\n",
    "\n",
    "features_musi_wend.loc[features_musi_wend['musi_wend'] == 'Not at all', 'musi_wend'] = 0\n",
    "features_musi_wend.loc[features_musi_wend['musi_wend'] == 'Any at all', 'musi_wend'] = 1\n",
    "\n",
    "features_musi_wend['dep_score'] = targets_dep_score\n",
    "features_musi_wend = features_musi_wend.dropna(axis=0)\n",
    "\n",
    "X_train, X_test, y_train, y_test = train_test_split(features_musi_wend[['musi_wend']], features_musi_wend[['dep_score']], test_size=0.2, random_state=48)\n",
    "\n",
    "lin_reg = LinearRegression()\n",
    "lin_reg.fit(X_train, y_train)\n",
    "\n",
    "y_pred = lin_reg.predict(X_test)\n",
    "\n",
    "mse = mean_squared_error(y_test, y_pred)\n",
    "rmse = np.sqrt(mse)\n",
    "r2_point = r2_score(y_test, y_pred)\n",
    "r2_list.append(('B&D - musi_wend', r2_point))\n",
    "\n",
    "fig, ax = plt.subplots(figsize=(7,7))\n",
    "ax.scatter(X_train, y_train)\n",
    "ax.plot(X_test, y_pred, 'r-')\n",
    "ax.set_title('musi_wend - dep_score')\n",
    "ax.set_xlabel('musi_wend')\n",
    "ax.set_ylabel('dep_score')\n",
    "\n",
    "print(\"RMSE value: \", rmse)\n",
    "print(\"R2 value: \", r2_point)"
   ]
  },
  {
   "cell_type": "markdown",
   "metadata": {},
   "source": [
    "### Regression: out_sum_week - dep_score"
   ]
  },
  {
   "cell_type": "code",
   "execution_count": 27,
   "metadata": {},
   "outputs": [
    {
     "name": "stdout",
     "output_type": "stream",
     "text": [
      "RMSE value:  0.8801247400738834\n",
      "R2 value:  -0.006305286719340053\n"
     ]
    },
    {
     "data": {
      "image/png": "[encoded data removed]",
      "text/plain": [
       "<Figure size 504x504 with 1 Axes>"
      ]
     },
     "metadata": {
      "needs_background": "light"
     },
     "output_type": "display_data"
    }
   ],
   "source": [
    "features_out_sum_week = data[['out_sum_week']].copy()\n",
    "\n",
    "features_out_sum_week.loc[features_out_sum_week['out_sum_week'] == 'Less than 3 hours', 'out_sum_week'] = 0\n",
    "features_out_sum_week.loc[features_out_sum_week['out_sum_week'] == '3 or more hours', 'out_sum_week'] = 1\n",
    "\n",
    "features_out_sum_week['dep_score'] = targets_dep_score\n",
    "features_out_sum_week = features_out_sum_week.dropna(axis=0)\n",
    "\n",
    "X_train, X_test, y_train, y_test = train_test_split(features_out_sum_week[['out_sum_week']], features_out_sum_week[['dep_score']], test_size=0.2, random_state=48)\n",
    "\n",
    "lin_reg = LinearRegression()\n",
    "lin_reg.fit(X_train, y_train)\n",
    "\n",
    "y_pred = lin_reg.predict(X_test)\n",
    "\n",
    "mse = mean_squared_error(y_test, y_pred)\n",
    "rmse = np.sqrt(mse)\n",
    "r2_point = r2_score(y_test, y_pred)\n",
    "r2_list.append(('B&D - out_sum_week', r2_point))\n",
    "\n",
    "fig, ax = plt.subplots(figsize=(7,7))\n",
    "ax.scatter(X_train, y_train)\n",
    "ax.plot(X_test, y_pred, 'r-')\n",
    "ax.set_title('out_sum_week - dep_score')\n",
    "ax.set_xlabel('out_sum_week')\n",
    "ax.set_ylabel('dep_score')\n",
    "\n",
    "print(\"RMSE value: \", rmse)\n",
    "print(\"R2 value: \", r2_point)"
   ]
  },
  {
   "cell_type": "markdown",
   "metadata": {},
   "source": [
    "### Regression: out_sum_wend - dep_score"
   ]
  },
  {
   "cell_type": "code",
   "execution_count": 28,
   "metadata": {},
   "outputs": [
    {
     "name": "stdout",
     "output_type": "stream",
     "text": [
      "RMSE value:  0.895804470986483\n",
      "R2 value:  9.803052115120447e-05\n"
     ]
    },
    {
     "data": {
      "image/png": "[encoded data removed]",
      "text/plain": [
       "<Figure size 504x504 with 1 Axes>"
      ]
     },
     "metadata": {
      "needs_background": "light"
     },
     "output_type": "display_data"
    }
   ],
   "source": [
    "features_out_sum_wend = data[['out_sum_wend']].copy()\n",
    "\n",
    "features_out_sum_wend.loc[features_out_sum_wend['out_sum_wend'] == 'Less than 3 hours', 'out_sum_wend'] = 0\n",
    "features_out_sum_wend.loc[features_out_sum_wend['out_sum_wend'] == '3 or more hours', 'out_sum_wend'] = 1\n",
    "\n",
    "features_out_sum_wend['dep_score'] = targets_dep_score\n",
    "features_out_sum_wend = features_out_sum_wend.dropna(axis=0)\n",
    "\n",
    "X_train, X_test, y_train, y_test = train_test_split(features_out_sum_wend[['out_sum_wend']], features_out_sum_wend[['dep_score']], test_size=0.2, random_state=48)\n",
    "\n",
    "lin_reg = LinearRegression()\n",
    "lin_reg.fit(X_train, y_train)\n",
    "\n",
    "y_pred = lin_reg.predict(X_test)\n",
    "\n",
    "mse = mean_squared_error(y_test, y_pred)\n",
    "rmse = np.sqrt(mse)\n",
    "r2_point = r2_score(y_test, y_pred)\n",
    "r2_list.append(('B&D - out_sum_wend', r2_point))\n",
    "\n",
    "fig, ax = plt.subplots(figsize=(7,7))\n",
    "ax.scatter(X_train, y_train)\n",
    "ax.plot(X_test, y_pred, 'r-')\n",
    "ax.set_title('out_sum_wend - dep_score')\n",
    "ax.set_xlabel('out_sum_wend')\n",
    "ax.set_ylabel('dep_score')\n",
    "\n",
    "print(\"RMSE value: \", rmse)\n",
    "print(\"R2 value: \", r2_point)"
   ]
  },
  {
   "cell_type": "markdown",
   "metadata": {},
   "source": [
    "### Regression: out_win_week - dep_score"
   ]
  },
  {
   "cell_type": "code",
   "execution_count": 29,
   "metadata": {},
   "outputs": [
    {
     "name": "stdout",
     "output_type": "stream",
     "text": [
      "RMSE value:  0.8700488822022128\n",
      "R2 value:  -0.016042527741590096\n"
     ]
    },
    {
     "data": {
      "image/png": "[encoded data removed]",
      "text/plain": [
       "<Figure size 504x504 with 1 Axes>"
      ]
     },
     "metadata": {
      "needs_background": "light"
     },
     "output_type": "display_data"
    }
   ],
   "source": [
    "features_out_win_week = data[['out_win_week']].copy()\n",
    "\n",
    "features_out_win_week.loc[features_out_win_week['out_win_week'] == 'Less than 1 hour', 'out_win_week'] = 0\n",
    "features_out_win_week.loc[features_out_win_week['out_win_week'] == '1-2 hours', 'out_win_week'] = 1\n",
    "features_out_win_week.loc[features_out_win_week['out_win_week'] == '3 or more hours', 'out_win_week'] = 2\n",
    "\n",
    "features_out_win_week['dep_score'] = targets_dep_score\n",
    "features_out_win_week = features_out_win_week.dropna(axis=0)\n",
    "\n",
    "X_train, X_test, y_train, y_test = train_test_split(features_out_win_week[['out_win_week']], features_out_win_week[['dep_score']], test_size=0.2, random_state=48)\n",
    "\n",
    "lin_reg = LinearRegression()\n",
    "lin_reg.fit(X_train, y_train)\n",
    "\n",
    "y_pred = lin_reg.predict(X_test)\n",
    "\n",
    "mse = mean_squared_error(y_test, y_pred)\n",
    "rmse = np.sqrt(mse)\n",
    "r2_point = r2_score(y_test, y_pred)\n",
    "r2_list.append(('B&D - out_win_week', r2_point))\n",
    "\n",
    "fig, ax = plt.subplots(figsize=(7,7))\n",
    "ax.scatter(X_train, y_train)\n",
    "ax.plot(X_test, y_pred, 'r-')\n",
    "ax.set_title('out_win_week - dep_score')\n",
    "ax.set_xlabel('out_win_week')\n",
    "ax.set_ylabel('dep_score')\n",
    "\n",
    "print(\"RMSE value: \", rmse)\n",
    "print(\"R2 value: \", r2_point)"
   ]
  },
  {
   "cell_type": "markdown",
   "metadata": {},
   "source": [
    "### Regression: out_win_wend - dep_score"
   ]
  },
  {
   "cell_type": "code",
   "execution_count": 30,
   "metadata": {},
   "outputs": [
    {
     "name": "stdout",
     "output_type": "stream",
     "text": [
      "RMSE value:  0.9885082722457019\n",
      "R2 value:  -0.0066294209271555715\n"
     ]
    },
    {
     "data": {
      "image/png": "[encoded data removed]",
      "text/plain": [
       "<Figure size 504x504 with 1 Axes>"
      ]
     },
     "metadata": {
      "needs_background": "light"
     },
     "output_type": "display_data"
    }
   ],
   "source": [
    "features_out_win_wend = data[['out_win_wend']].copy()\n",
    "\n",
    "features_out_win_wend.loc[features_out_win_wend['out_win_wend'] == 'Less than 1 hour', 'out_win_wend'] = 0\n",
    "features_out_win_wend.loc[features_out_win_wend['out_win_wend'] == '1-2 hours', 'out_win_wend'] = 1\n",
    "features_out_win_wend.loc[features_out_win_wend['out_win_wend'] == '3 or more hours', 'out_win_wend'] = 2\n",
    "\n",
    "features_out_win_wend['dep_score'] = targets_dep_score\n",
    "features_out_win_wend = features_out_win_wend.dropna(axis=0)\n",
    "\n",
    "X_train, X_test, y_train, y_test = train_test_split(features_out_win_wend[['out_win_wend']], features_out_win_wend[['dep_score']], test_size=0.2, random_state=48)\n",
    "\n",
    "lin_reg = LinearRegression()\n",
    "lin_reg.fit(X_train, y_train)\n",
    "\n",
    "y_pred = lin_reg.predict(X_test)\n",
    "\n",
    "mse = mean_squared_error(y_test, y_pred)\n",
    "rmse = np.sqrt(mse)\n",
    "r2_point = r2_score(y_test, y_pred)\n",
    "r2_list.append(('B&D - out_win_wend', r2_point))\n",
    "\n",
    "fig, ax = plt.subplots(figsize=(7,7))\n",
    "ax.scatter(X_train, y_train)\n",
    "ax.plot(X_test, y_pred, 'r-')\n",
    "ax.set_title('out_win_wend - dep_score')\n",
    "ax.set_xlabel('out_win_wend')\n",
    "ax.set_ylabel('dep_score')\n",
    "\n",
    "print(\"RMSE value: \", rmse)\n",
    "print(\"R2 value: \", r2_point)"
   ]
  },
  {
   "cell_type": "markdown",
   "metadata": {},
   "source": [
    "### Regression: play_week - dep_score"
   ]
  },
  {
   "cell_type": "code",
   "execution_count": 31,
   "metadata": {},
   "outputs": [
    {
     "name": "stdout",
     "output_type": "stream",
     "text": [
      "RMSE value:  0.9221670539096828\n",
      "R2 value:  0.0015274090836461252\n"
     ]
    },
    {
     "data": {
      "image/png": "[encoded data removed]",
      "text/plain": [
       "<Figure size 504x504 with 1 Axes>"
      ]
     },
     "metadata": {
      "needs_background": "light"
     },
     "output_type": "display_data"
    }
   ],
   "source": [
    "features_play_week = data[['play_week']].copy()\n",
    "\n",
    "features_play_week.loc[features_play_week['play_week'] == 'Less than 3 hours', 'play_week'] = 0\n",
    "features_play_week.loc[features_play_week['play_week'] == '3 or more hours', 'play_week'] = 1\n",
    "\n",
    "features_play_week['dep_score'] = targets_dep_score\n",
    "features_play_week = features_play_week.dropna(axis=0)\n",
    "\n",
    "X_train, X_test, y_train, y_test = train_test_split(features_play_week[['play_week']], features_play_week[['dep_score']], test_size=0.2, random_state=48)\n",
    "\n",
    "lin_reg = LinearRegression()\n",
    "lin_reg.fit(X_train, y_train)\n",
    "\n",
    "y_pred = lin_reg.predict(X_test)\n",
    "\n",
    "mse = mean_squared_error(y_test, y_pred)\n",
    "rmse = np.sqrt(mse)\n",
    "r2_point = r2_score(y_test, y_pred)\n",
    "r2_list.append(('B&D - play_week', r2_point))\n",
    "\n",
    "fig, ax = plt.subplots(figsize=(7,7))\n",
    "ax.scatter(X_train, y_train)\n",
    "ax.plot(X_test, y_pred, 'r-')\n",
    "ax.set_title('play_week - dep_score')\n",
    "ax.set_xlabel('play_week')\n",
    "ax.set_ylabel('dep_score')\n",
    "\n",
    "print(\"RMSE value: \", rmse)\n",
    "print(\"R2 value: \", r2_point)"
   ]
  },
  {
   "cell_type": "markdown",
   "metadata": {},
   "source": [
    "### Regression: play_wend - dep_score"
   ]
  },
  {
   "cell_type": "code",
   "execution_count": 32,
   "metadata": {},
   "outputs": [
    {
     "name": "stdout",
     "output_type": "stream",
     "text": [
      "RMSE value:  0.9692525399859466\n",
      "R2 value:  -0.003170941934932614\n"
     ]
    },
    {
     "data": {
      "image/png": "[encoded data removed]",
      "text/plain": [
       "<Figure size 504x504 with 1 Axes>"
      ]
     },
     "metadata": {
      "needs_background": "light"
     },
     "output_type": "display_data"
    }
   ],
   "source": [
    "features_play_wend = data[['play_wend']].copy()\n",
    "\n",
    "features_play_wend.loc[features_play_wend['play_wend'] == 'Less than 3 hours', 'play_wend'] = 0\n",
    "features_play_wend.loc[features_play_wend['play_wend'] == '3 or more hours', 'play_wend'] = 1\n",
    "\n",
    "features_play_wend['dep_score'] = targets_dep_score\n",
    "features_play_wend = features_play_wend.dropna(axis=0)\n",
    "\n",
    "X_train, X_test, y_train, y_test = train_test_split(features_play_wend[['play_wend']], features_play_wend[['dep_score']], test_size=0.2, random_state=48)\n",
    "\n",
    "lin_reg = LinearRegression()\n",
    "lin_reg.fit(X_train, y_train)\n",
    "\n",
    "y_pred = lin_reg.predict(X_test)\n",
    "\n",
    "mse = mean_squared_error(y_test, y_pred)\n",
    "rmse = np.sqrt(mse)\n",
    "r2_point = r2_score(y_test, y_pred)\n",
    "r2_list.append(('B&D - play_wend', r2_point))\n",
    "\n",
    "fig, ax = plt.subplots(figsize=(7,7))\n",
    "ax.scatter(X_train, y_train)\n",
    "ax.plot(X_test, y_pred, 'r-')\n",
    "ax.set_title('play_wend - dep_score')\n",
    "ax.set_xlabel('play_wend')\n",
    "ax.set_ylabel('dep_score')\n",
    "\n",
    "print(\"RMSE value: \", rmse)\n",
    "print(\"R2 value: \", r2_point)"
   ]
  },
  {
   "cell_type": "markdown",
   "metadata": {},
   "source": [
    "### Regression: read_week - dep_score"
   ]
  },
  {
   "cell_type": "code",
   "execution_count": 33,
   "metadata": {},
   "outputs": [
    {
     "name": "stdout",
     "output_type": "stream",
     "text": [
      "RMSE value:  0.9950076896022888\n",
      "R2 value:  -0.001381215860486229\n"
     ]
    },
    {
     "data": {
      "image/png": "[encoded data removed]",
      "text/plain": [
       "<Figure size 504x504 with 1 Axes>"
      ]
     },
     "metadata": {
      "needs_background": "light"
     },
     "output_type": "display_data"
    }
   ],
   "source": [
    "features_read_week = data[['read_week']].copy()\n",
    "\n",
    "features_read_week.loc[features_read_week['read_week'] == 'Not at all', 'read_week'] = 0\n",
    "features_read_week.loc[features_read_week['read_week'] == 'Less than 1 hour', 'read_week'] = 1\n",
    "features_read_week.loc[features_read_week['read_week'] == '1 or more hours', 'read_week'] = 2\n",
    "\n",
    "features_read_week['dep_score'] = targets_dep_score\n",
    "features_read_week = features_read_week.dropna(axis=0)\n",
    "\n",
    "X_train, X_test, y_train, y_test = train_test_split(features_read_week[['read_week']], features_read_week[['dep_score']], test_size=0.2, random_state=48)\n",
    "\n",
    "lin_reg = LinearRegression()\n",
    "lin_reg.fit(X_train, y_train)\n",
    "\n",
    "y_pred = lin_reg.predict(X_test)\n",
    "\n",
    "mse = mean_squared_error(y_test, y_pred)\n",
    "rmse = np.sqrt(mse)\n",
    "r2_point = r2_score(y_test, y_pred)\n",
    "r2_list.append(('B&D - read_week', r2_point))\n",
    "\n",
    "fig, ax = plt.subplots(figsize=(7,7))\n",
    "ax.scatter(X_train, y_train)\n",
    "ax.plot(X_test, y_pred, 'r-')\n",
    "ax.set_title('read_week - dep_score')\n",
    "ax.set_xlabel('read_week')\n",
    "ax.set_ylabel('dep_score')\n",
    "\n",
    "print(\"RMSE value: \", rmse)\n",
    "print(\"R2 value: \", r2_point)"
   ]
  },
  {
   "cell_type": "markdown",
   "metadata": {},
   "source": [
    "### Regression: read_wend - dep_score"
   ]
  },
  {
   "cell_type": "code",
   "execution_count": 34,
   "metadata": {},
   "outputs": [
    {
     "name": "stdout",
     "output_type": "stream",
     "text": [
      "RMSE value:  0.840038640313796\n",
      "R2 value:  -0.006175685069462533\n"
     ]
    },
    {
     "data": {
      "image/png": "[encoded data removed]",
      "text/plain": [
       "<Figure size 504x504 with 1 Axes>"
      ]
     },
     "metadata": {
      "needs_background": "light"
     },
     "output_type": "display_data"
    }
   ],
   "source": [
    "features_read_wend = data[['read_wend']].copy()\n",
    "\n",
    "features_read_wend.loc[features_read_wend['read_wend'] == 'Not at all', 'read_wend'] = 0\n",
    "features_read_wend.loc[features_read_wend['read_wend'] == 'Less than 1 hour', 'read_wend'] = 1\n",
    "features_read_wend.loc[features_read_wend['read_wend'] == '1 or more hours', 'read_wend'] = 2\n",
    "\n",
    "features_read_wend['dep_score'] = targets_dep_score\n",
    "features_read_wend = features_read_wend.dropna(axis=0)\n",
    "\n",
    "X_train, X_test, y_train, y_test = train_test_split(features_read_wend[['read_wend']], features_read_wend[['dep_score']], test_size=0.2, random_state=48)\n",
    "\n",
    "lin_reg = LinearRegression()\n",
    "lin_reg.fit(X_train, y_train)\n",
    "\n",
    "y_pred = lin_reg.predict(X_test)\n",
    "\n",
    "mse = mean_squared_error(y_test, y_pred)\n",
    "rmse = np.sqrt(mse)\n",
    "r2_point = r2_score(y_test, y_pred)\n",
    "r2_list.append(('B&D - read_wend', r2_point))\n",
    "\n",
    "fig, ax = plt.subplots(figsize=(7,7))\n",
    "ax.scatter(X_train, y_train)\n",
    "ax.plot(X_test, y_pred, 'r-')\n",
    "ax.set_title('read_wend - dep_score')\n",
    "ax.set_xlabel('read_wend')\n",
    "ax.set_ylabel('dep_score')\n",
    "\n",
    "print(\"RMSE value: \", rmse)\n",
    "print(\"R2 value: \", r2_point)"
   ]
  },
  {
   "cell_type": "markdown",
   "metadata": {},
   "source": [
    "### Regression: talk_mob_week - dep_score"
   ]
  },
  {
   "cell_type": "code",
   "execution_count": 35,
   "metadata": {},
   "outputs": [
    {
     "name": "stdout",
     "output_type": "stream",
     "text": [
      "RMSE value:  0.9740853918473205\n",
      "R2 value:  -0.0013292368528459164\n"
     ]
    },
    {
     "data": {
      "image/png": "[encoded data removed]",
      "text/plain": [
       "<Figure size 504x504 with 1 Axes>"
      ]
     },
     "metadata": {
      "needs_background": "light"
     },
     "output_type": "display_data"
    }
   ],
   "source": [
    "features_talk_mob_week = data[['talk_mob_week']].copy()\n",
    "\n",
    "features_talk_mob_week.loc[features_talk_mob_week['talk_mob_week'] == 'Not at all', 'talk_mob_week'] = 0\n",
    "features_talk_mob_week.loc[features_talk_mob_week['talk_mob_week'] == 'Less than 1 hour', 'talk_mob_week'] = 1\n",
    "features_talk_mob_week.loc[features_talk_mob_week['talk_mob_week'] == '1 or more hours', 'talk_mob_week'] = 2\n",
    "\n",
    "features_talk_mob_week['dep_score'] = targets_dep_score\n",
    "features_talk_mob_week = features_talk_mob_week.dropna(axis=0)\n",
    "\n",
    "X_train, X_test, y_train, y_test = train_test_split(features_talk_mob_week[['talk_mob_week']], features_talk_mob_week[['dep_score']], test_size=0.2, random_state=48)\n",
    "\n",
    "lin_reg = LinearRegression()\n",
    "lin_reg.fit(X_train, y_train)\n",
    "\n",
    "y_pred = lin_reg.predict(X_test)\n",
    "\n",
    "mse = mean_squared_error(y_test, y_pred)\n",
    "rmse = np.sqrt(mse)\n",
    "r2_point = r2_score(y_test, y_pred)\n",
    "r2_list.append(('B&D - talk_mob_week', r2_point))\n",
    "\n",
    "fig, ax = plt.subplots(figsize=(7,7))\n",
    "ax.scatter(X_train, y_train)\n",
    "ax.plot(X_test, y_pred, 'r-')\n",
    "ax.set_title('talk_mob_week - dep_score')\n",
    "ax.set_xlabel('talk_mob_week')\n",
    "ax.set_ylabel('dep_score')\n",
    "\n",
    "print(\"RMSE value: \", rmse)\n",
    "print(\"R2 value: \", r2_point)"
   ]
  },
  {
   "cell_type": "markdown",
   "metadata": {},
   "source": [
    "### Regression: talk_mob_wend - dep_score"
   ]
  },
  {
   "cell_type": "code",
   "execution_count": 36,
   "metadata": {},
   "outputs": [
    {
     "name": "stdout",
     "output_type": "stream",
     "text": [
      "RMSE value:  0.990816891793204\n",
      "R2 value:  -0.00817003602256361\n"
     ]
    },
    {
     "data": {
      "image/png": "[encoded data removed]",
      "text/plain": [
       "<Figure size 504x504 with 1 Axes>"
      ]
     },
     "metadata": {
      "needs_background": "light"
     },
     "output_type": "display_data"
    }
   ],
   "source": [
    "features_talk_mob_wend = data[['talk_mob_wend']].copy()\n",
    "\n",
    "features_talk_mob_wend.loc[features_talk_mob_wend['talk_mob_wend'] == 'Not at all', 'talk_mob_wend'] = 0\n",
    "features_talk_mob_wend.loc[features_talk_mob_wend['talk_mob_wend'] == 'Less than 1 hour', 'talk_mob_wend'] = 1\n",
    "features_talk_mob_wend.loc[features_talk_mob_wend['talk_mob_wend'] == '1 or more hours', 'talk_mob_wend'] = 2\n",
    "\n",
    "features_talk_mob_wend['dep_score'] = targets_dep_score\n",
    "features_talk_mob_wend = features_talk_mob_wend.dropna(axis=0)\n",
    "\n",
    "X_train, X_test, y_train, y_test = train_test_split(features_talk_mob_wend[['talk_mob_wend']], features_talk_mob_wend[['dep_score']], test_size=0.2, random_state=48)\n",
    "\n",
    "lin_reg = LinearRegression()\n",
    "lin_reg.fit(X_train, y_train)\n",
    "\n",
    "y_pred = lin_reg.predict(X_test)\n",
    "\n",
    "mse = mean_squared_error(y_test, y_pred)\n",
    "rmse = np.sqrt(mse)\n",
    "r2_point = r2_score(y_test, y_pred)\n",
    "r2_list.append(('B&D - talk_mob_wend', r2_point))\n",
    "\n",
    "fig, ax = plt.subplots(figsize=(7,7))\n",
    "ax.scatter(X_train, y_train)\n",
    "ax.plot(X_test, y_pred, 'r-')\n",
    "ax.set_title('talk_mob_wend - dep_score')\n",
    "ax.set_xlabel('talk_mob_wend')\n",
    "ax.set_ylabel('dep_score')\n",
    "\n",
    "print(\"RMSE value: \", rmse)\n",
    "print(\"R2 value: \", r2_point)"
   ]
  },
  {
   "cell_type": "markdown",
   "metadata": {},
   "source": [
    "### Regression: talk_phon_week - dep_score"
   ]
  },
  {
   "cell_type": "code",
   "execution_count": 37,
   "metadata": {},
   "outputs": [
    {
     "name": "stdout",
     "output_type": "stream",
     "text": [
      "RMSE value:  0.8990166428264892\n",
      "R2 value:  -0.0014066511144195104\n"
     ]
    },
    {
     "data": {
      "image/png": "[encoded data removed]",
      "text/plain": [
       "<Figure size 504x504 with 1 Axes>"
      ]
     },
     "metadata": {
      "needs_background": "light"
     },
     "output_type": "display_data"
    }
   ],
   "source": [
    "features_talk_phon_week = data[['talk_phon_week']].copy()\n",
    "\n",
    "features_talk_phon_week.loc[features_talk_phon_week['talk_phon_week'] == 'Not at all', 'talk_phon_week'] = 0\n",
    "features_talk_phon_week.loc[features_talk_phon_week['talk_phon_week'] == 'Any at all', 'talk_phon_week'] = 1\n",
    "\n",
    "features_talk_phon_week['dep_score'] = targets_dep_score\n",
    "features_talk_phon_week = features_talk_phon_week.dropna(axis=0)\n",
    "\n",
    "X_train, X_test, y_train, y_test = train_test_split(features_talk_phon_week[['talk_phon_week']], features_talk_phon_week[['dep_score']], test_size=0.2, random_state=48)\n",
    "\n",
    "lin_reg = LinearRegression()\n",
    "lin_reg.fit(X_train, y_train)\n",
    "\n",
    "y_pred = lin_reg.predict(X_test)\n",
    "\n",
    "mse = mean_squared_error(y_test, y_pred)\n",
    "rmse = np.sqrt(mse)\n",
    "r2_point = r2_score(y_test, y_pred)\n",
    "r2_list.append(('B&D - talk_phon_week', r2_point))\n",
    "\n",
    "fig, ax = plt.subplots(figsize=(7,7))\n",
    "ax.scatter(X_train, y_train)\n",
    "ax.plot(X_test, y_pred, 'r-')\n",
    "ax.set_title('talk_phon_week - dep_score')\n",
    "ax.set_xlabel('talk_phon_week')\n",
    "ax.set_ylabel('dep_score')\n",
    "\n",
    "print(\"RMSE value: \", rmse)\n",
    "print(\"R2 value: \", r2_point)"
   ]
  },
  {
   "cell_type": "markdown",
   "metadata": {},
   "source": [
    "### Regression: talk_phon_wend - dep_score"
   ]
  },
  {
   "cell_type": "code",
   "execution_count": 41,
   "metadata": {},
   "outputs": [
    {
     "name": "stdout",
     "output_type": "stream",
     "text": [
      "RMSE value:  0.9638805193061636\n",
      "R2 value:  -0.0009039790201388342\n"
     ]
    },
    {
     "data": {
      "image/png": "[encoded data removed]",
      "text/plain": [
       "<Figure size 504x504 with 1 Axes>"
      ]
     },
     "metadata": {
      "needs_background": "light"
     },
     "output_type": "display_data"
    }
   ],
   "source": [
    "features_talk_phon_wend = data[['talk_phon_wend']].copy()\n",
    "\n",
    "features_talk_phon_wend.loc[features_talk_phon_wend['talk_phon_wend'] == 'Not at all', 'talk_phon_wend'] = 0\n",
    "features_talk_phon_wend.loc[features_talk_phon_wend['talk_phon_wend'] == 'Any at all', 'talk_phon_wend'] = 1\n",
    "\n",
    "features_talk_phon_wend['dep_score'] = targets_dep_score\n",
    "features_talk_phon_wend = features_talk_phon_wend.dropna(axis=0)\n",
    "\n",
    "X_train, X_test, y_train, y_test = train_test_split(features_talk_phon_wend[['talk_phon_wend']], features_talk_phon_wend[['dep_score']], test_size=0.2, random_state=48)\n",
    "\n",
    "lin_reg = LinearRegression()\n",
    "lin_reg.fit(X_train, y_train)\n",
    "\n",
    "y_pred = lin_reg.predict(X_test)\n",
    "\n",
    "mse = mean_squared_error(y_test, y_pred)\n",
    "rmse = np.sqrt(mse)\n",
    "r2_point = r2_score(y_test, y_pred)\n",
    "r2_list.append(('B&D - talk_phon_wend', r2_point))\n",
    "\n",
    "fig, ax = plt.subplots(figsize=(7,7))\n",
    "ax.scatter(X_train, y_train)\n",
    "ax.plot(X_test, y_pred, 'r-')\n",
    "ax.set_title('talk_phon_wend - dep_score')\n",
    "ax.set_xlabel('talk_phon_wend')\n",
    "ax.set_ylabel('dep_score')\n",
    "\n",
    "print(\"RMSE value: \", rmse)\n",
    "print(\"R2 value: \", r2_point)"
   ]
  },
  {
   "cell_type": "code",
   "execution_count": 39,
   "metadata": {},
   "outputs": [
    {
     "name": "stdout",
     "output_type": "stream",
     "text": [
      "R2 sorted list\n",
      "\n",
      "D - child_bull 0.0018023423023250107\n",
      "B&D - play_week 0.0015274090836461252\n",
      "B&D - musi_wend 0.0013265392758829986\n",
      "D - work_week 0.0011654228574775605\n",
      "B&D - musi_week 0.0005017912285016912\n",
      "B&D - out_sum_wend 9.803052115120447e-05\n",
      "D - height_16 -0.00011923157900328718\n",
      "B - comp_noint_bed_16 -0.00018096226414976435\n",
      "B - comp_int_bed_16 -0.00024188325432428215\n",
      "B&D - draw_wend -0.00051374650386804\n",
      "B&D - exercise -0.0006879238670631782\n",
      "A - tv_week -0.0007080338062335212\n",
      "B&D - talk_phon_wend -0.0009039790201388342\n",
      "B&D - talk_mob_week -0.0013292368528459164\n",
      "B&D - read_week -0.001381215860486229\n",
      "B&D - talk_phon_week -0.0014066511144195104\n",
      "A - comp_wend -0.0015259889486427536\n",
      "D - weight_16 -0.0017947670397782112\n",
      "A - text_week -0.002119851201400458\n",
      "B&D - draw_week -0.00214558766415629\n",
      "B&D - play_wend -0.003170941934932614\n",
      "D - alon_wend -0.0038164151795199164\n",
      "A - comp_week -0.004149344358364004\n",
      "D - alon_week -0.004305520260552198\n",
      "D - work_wend -0.005868264425537673\n",
      "A - tv_wend -0.005969176034351653\n",
      "B&D - read_wend -0.006175685069462533\n",
      "B&D - out_sum_week -0.006305286719340053\n",
      "A - text_wend -0.006511103153964637\n",
      "B&D - out_win_wend -0.0066294209271555715\n",
      "B&D - talk_mob_wend -0.00817003602256361\n",
      "B - comp_house -0.014453814377797691\n",
      "B&D - out_win_week -0.016042527741590096\n",
      "C - dep_band_15 -0.01767519660704564\n"
     ]
    }
   ],
   "source": [
    "r2_list.sort(key=lambda x:-x[1])\n",
    "print(\"R2 sorted list\\n\")\n",
    "for x, y in r2_list:\n",
    "    print(x, y)"
   ]
  }
 ],
 "metadata": {
  "kernelspec": {
   "display_name": "Python 3",
   "language": "python",
   "name": "python3"
  },
  "language_info": {
   "codemirror_mode": {
    "name": "ipython",
    "version": 3
   },
   "file_extension": ".py",
   "mimetype": "text/x-python",
   "name": "python",
   "nbconvert_exporter": "python",
   "pygments_lexer": "ipython3",
   "version": "3.8.5"
  }
 },
 "nbformat": 4,
 "nbformat_minor": 4
}
