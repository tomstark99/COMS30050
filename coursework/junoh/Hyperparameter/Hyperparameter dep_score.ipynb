{
 "cells": [
  {
   "cell_type": "markdown",
   "metadata": {
    "colab_type": "text",
    "id": "view-in-github"
   },
   "source": [
    "<a href=\"https://colab.research.google.com/github/7201krap/PYTHON_applied_data_science/blob/main/apr17.ipynb\" target=\"_parent\"><img src=\"https://colab.research.google.com/assets/colab-badge.svg\" alt=\"Open In Colab\"/></a>"
   ]
  },
  {
   "cell_type": "code",
   "execution_count": 45,
   "metadata": {
    "id": "Wq5KSVa266mI"
   },
   "outputs": [],
   "source": [
    "from sklearn import datasets\n",
    "\n",
    "# How are we going to use evaluate the performance? \n",
    "# 1. accuracy\n",
    "from sklearn import metrics\n",
    "# 2. f1 score \n",
    "from sklearn.metrics import f1_score\n",
    "\n",
    "# Machine learning models \n",
    "\n",
    "# Linear Regression \n",
    "# url : https://scikit-learn.org/stable/modules/generated/sklearn.linear_model.LinearRegression.html\n",
    "from sklearn.linear_model import LinearRegression\n",
    "\n",
    "# SVM\n",
    "# url: https://scikit-learn.org/stable/modules/generated/sklearn.svm.SVC.html\n",
    "from sklearn import svm\n",
    "\n",
    "# KNN \n",
    "# url: https://scikit-learn.org/stable/modules/generated/sklearn.neighbors.KNeighborsClassifier.html\n",
    "from sklearn.neighbors import KNeighborsClassifier\n",
    "\n",
    "# Decision Tree\n",
    "# url: https://scikit-learn.org/stable/modules/generated/sklearn.tree.DecisionTreeClassifier.html\n",
    "from sklearn.tree import DecisionTreeClassifier\n",
    "\n",
    "# Random Forest \n",
    "# url: https://scikit-learn.org/stable/modules/generated/sklearn.ensemble.RandomForestClassifier.html\n",
    "from sklearn.ensemble import RandomForestClassifier\n",
    "\n",
    "# Logistic Classifier\n",
    "from sklearn.linear_model import LogisticRegression\n",
    "\n",
    "from sklearn.model_selection import RepeatedStratifiedKFold\n",
    "from sklearn.model_selection import GridSearchCV\n",
    "\n",
    "from sklearn.model_selection import learning_curve, RandomizedSearchCV, GridSearchCV\n",
    "from sklearn.model_selection import train_test_split, KFold\n",
    "from sklearn.datasets import make_classification\n",
    "from sklearn.pipeline import make_pipeline\n",
    "from sklearn.preprocessing import StandardScaler\n",
    "\n",
    "import numpy as np\n",
    "import matplotlib.pyplot as plt\n",
    "\n",
    "# PCA \n",
    "from sklearn.decomposition import PCA \n",
    "\n",
    "# Linear Regression\n",
    "from sklearn.model_selection import train_test_split\n",
    "from sklearn.linear_model import LinearRegression\n",
    "from sklearn.metrics import mean_squared_error, r2_score\n",
    "\n",
    "import pandas as pd\n",
    "import matplotlib.pyplot as plt\n",
    "import numpy as np\n",
    "\n",
    "import seaborn as sns"
   ]
  },
  {
   "cell_type": "markdown",
   "metadata": {
    "id": "zfY4HfYs66mZ"
   },
   "source": [
    "Here, I use cancer dataset for tutorials.\n",
    "It can be simply changed to another dataset"
   ]
  },
  {
   "cell_type": "markdown",
   "metadata": {
    "id": "xC7DkowR66mb"
   },
   "source": [
    "## Machine learning algorithms that we are going to use\n",
    "\n",
    "- SVM\n",
    "\n",
    "- Random Forest \n",
    "\n",
    "- Decision Tree \n",
    "\n",
    "- Softmax \n",
    "\n",
    "- KNN "
   ]
  },
  {
   "cell_type": "markdown",
   "metadata": {
    "id": "62-J3jg866md"
   },
   "source": [
    "## Preprocess all data\n",
    "https://www.datacamp.com/community/tutorials/svm-classification-scikit-learn-python"
   ]
  },
  {
   "cell_type": "code",
   "execution_count": 46,
   "metadata": {
    "colab": {
     "base_uri": "https://localhost:8080/"
    },
    "id": "ViAMxGXO66me",
    "outputId": "9b5b5a38-21a1-4c43-876b-648c7cb5935f"
   },
   "outputs": [],
   "source": [
    "sampled_dep_score = pd.read_csv('sampled_dep_score.csv')\n",
    "\n",
    "target = sampled_dep_score['dep_score'].copy()\n",
    "\n",
    "data = sampled_dep_score.copy()\n",
    "del data['dep_score']"
   ]
  },
  {
   "cell_type": "code",
   "execution_count": 47,
   "metadata": {
    "colab": {
     "base_uri": "https://localhost:8080/"
    },
    "id": "kRy5hoST66mk",
    "outputId": "4cee2042-5e18-4841-9638-a1fd3c313937"
   },
   "outputs": [
    {
     "data": {
      "text/html": [
       "<div>\n",
       "<style scoped>\n",
       "    .dataframe tbody tr th:only-of-type {\n",
       "        vertical-align: middle;\n",
       "    }\n",
       "\n",
       "    .dataframe tbody tr th {\n",
       "        vertical-align: top;\n",
       "    }\n",
       "\n",
       "    .dataframe thead th {\n",
       "        text-align: right;\n",
       "    }\n",
       "</style>\n",
       "<table border=\"1\" class=\"dataframe\">\n",
       "  <thead>\n",
       "    <tr style=\"text-align: right;\">\n",
       "      <th></th>\n",
       "      <th>comp_week</th>\n",
       "      <th>comp_wend</th>\n",
       "      <th>text_week</th>\n",
       "      <th>text_wend</th>\n",
       "      <th>tv_week</th>\n",
       "      <th>tv_wend</th>\n",
       "    </tr>\n",
       "  </thead>\n",
       "  <tbody>\n",
       "    <tr>\n",
       "      <th>0</th>\n",
       "      <td>2</td>\n",
       "      <td>1</td>\n",
       "      <td>1</td>\n",
       "      <td>1</td>\n",
       "      <td>2</td>\n",
       "      <td>1</td>\n",
       "    </tr>\n",
       "    <tr>\n",
       "      <th>1</th>\n",
       "      <td>2</td>\n",
       "      <td>2</td>\n",
       "      <td>1</td>\n",
       "      <td>1</td>\n",
       "      <td>2</td>\n",
       "      <td>2</td>\n",
       "    </tr>\n",
       "    <tr>\n",
       "      <th>2</th>\n",
       "      <td>1</td>\n",
       "      <td>1</td>\n",
       "      <td>1</td>\n",
       "      <td>1</td>\n",
       "      <td>2</td>\n",
       "      <td>3</td>\n",
       "    </tr>\n",
       "    <tr>\n",
       "      <th>3</th>\n",
       "      <td>3</td>\n",
       "      <td>3</td>\n",
       "      <td>2</td>\n",
       "      <td>2</td>\n",
       "      <td>1</td>\n",
       "      <td>1</td>\n",
       "    </tr>\n",
       "    <tr>\n",
       "      <th>4</th>\n",
       "      <td>1</td>\n",
       "      <td>1</td>\n",
       "      <td>1</td>\n",
       "      <td>1</td>\n",
       "      <td>2</td>\n",
       "      <td>2</td>\n",
       "    </tr>\n",
       "    <tr>\n",
       "      <th>...</th>\n",
       "      <td>...</td>\n",
       "      <td>...</td>\n",
       "      <td>...</td>\n",
       "      <td>...</td>\n",
       "      <td>...</td>\n",
       "      <td>...</td>\n",
       "    </tr>\n",
       "    <tr>\n",
       "      <th>1199</th>\n",
       "      <td>1</td>\n",
       "      <td>2</td>\n",
       "      <td>1</td>\n",
       "      <td>1</td>\n",
       "      <td>2</td>\n",
       "      <td>2</td>\n",
       "    </tr>\n",
       "    <tr>\n",
       "      <th>1200</th>\n",
       "      <td>0</td>\n",
       "      <td>2</td>\n",
       "      <td>1</td>\n",
       "      <td>2</td>\n",
       "      <td>2</td>\n",
       "      <td>3</td>\n",
       "    </tr>\n",
       "    <tr>\n",
       "      <th>1201</th>\n",
       "      <td>2</td>\n",
       "      <td>2</td>\n",
       "      <td>2</td>\n",
       "      <td>2</td>\n",
       "      <td>2</td>\n",
       "      <td>2</td>\n",
       "    </tr>\n",
       "    <tr>\n",
       "      <th>1202</th>\n",
       "      <td>2</td>\n",
       "      <td>2</td>\n",
       "      <td>2</td>\n",
       "      <td>2</td>\n",
       "      <td>2</td>\n",
       "      <td>2</td>\n",
       "    </tr>\n",
       "    <tr>\n",
       "      <th>1203</th>\n",
       "      <td>2</td>\n",
       "      <td>1</td>\n",
       "      <td>3</td>\n",
       "      <td>3</td>\n",
       "      <td>3</td>\n",
       "      <td>2</td>\n",
       "    </tr>\n",
       "  </tbody>\n",
       "</table>\n",
       "<p>1204 rows × 6 columns</p>\n",
       "</div>"
      ],
      "text/plain": [
       "      comp_week  comp_wend  text_week  text_wend  tv_week  tv_wend\n",
       "0             2          1          1          1        2        1\n",
       "1             2          2          1          1        2        2\n",
       "2             1          1          1          1        2        3\n",
       "3             3          3          2          2        1        1\n",
       "4             1          1          1          1        2        2\n",
       "...         ...        ...        ...        ...      ...      ...\n",
       "1199          1          2          1          1        2        2\n",
       "1200          0          2          1          2        2        3\n",
       "1201          2          2          2          2        2        2\n",
       "1202          2          2          2          2        2        2\n",
       "1203          2          1          3          3        3        2\n",
       "\n",
       "[1204 rows x 6 columns]"
      ]
     },
     "execution_count": 47,
     "metadata": {},
     "output_type": "execute_result"
    }
   ],
   "source": [
    "data"
   ]
  },
  {
   "cell_type": "code",
   "execution_count": 67,
   "metadata": {},
   "outputs": [
    {
     "data": {
      "text/plain": [
       "0       0.0\n",
       "1       3.0\n",
       "2       4.0\n",
       "3       2.0\n",
       "4       2.0\n",
       "       ... \n",
       "1199    1.0\n",
       "1200    3.0\n",
       "1201    0.0\n",
       "1202    3.0\n",
       "1203    1.0\n",
       "Name: dep_score, Length: 1204, dtype: float64"
      ]
     },
     "execution_count": 67,
     "metadata": {},
     "output_type": "execute_result"
    }
   ],
   "source": [
    "target"
   ]
  },
  {
   "cell_type": "markdown",
   "metadata": {
    "id": "oQEM30_bAYBx"
   },
   "source": [
    "## PCA section"
   ]
  },
  {
   "cell_type": "code",
   "execution_count": 49,
   "metadata": {
    "id": "GAigdJRIAYHW"
   },
   "outputs": [
    {
     "data": {
      "image/png": "[encoded data removed]",
      "text/plain": [
       "<Figure size 771.875x720 with 1 Axes>"
      ]
     },
     "metadata": {
      "needs_background": "light"
     },
     "output_type": "display_data"
    }
   ],
   "source": [
    "pca = PCA(n_components=2, random_state=1)\n",
    "pca_data = pca.fit_transform(data)\n",
    "\n",
    "data_with_labels = np.vstack((pca_data.T, target)).T\n",
    "pca_df = pd.DataFrame(data=data_with_labels, columns=('1st_PC', '2nd_PC', 'labels'))\n",
    "sns.FacetGrid(pca_df, hue='labels', height=10).map(plt.scatter, '1st_PC', '2nd_PC').add_legend()\n",
    "plt.show()"
   ]
  },
  {
   "cell_type": "code",
   "execution_count": 50,
   "metadata": {},
   "outputs": [
    {
     "data": {
      "text/html": [
       "<div>\n",
       "<style scoped>\n",
       "    .dataframe tbody tr th:only-of-type {\n",
       "        vertical-align: middle;\n",
       "    }\n",
       "\n",
       "    .dataframe tbody tr th {\n",
       "        vertical-align: top;\n",
       "    }\n",
       "\n",
       "    .dataframe thead th {\n",
       "        text-align: right;\n",
       "    }\n",
       "</style>\n",
       "<table border=\"1\" class=\"dataframe\">\n",
       "  <thead>\n",
       "    <tr style=\"text-align: right;\">\n",
       "      <th></th>\n",
       "      <th>1st_PC</th>\n",
       "      <th>2nd_PC</th>\n",
       "      <th>labels</th>\n",
       "    </tr>\n",
       "  </thead>\n",
       "  <tbody>\n",
       "    <tr>\n",
       "      <th>0</th>\n",
       "      <td>1.034521</td>\n",
       "      <td>0.837540</td>\n",
       "      <td>0.0</td>\n",
       "    </tr>\n",
       "    <tr>\n",
       "      <th>1</th>\n",
       "      <td>0.720279</td>\n",
       "      <td>-0.155544</td>\n",
       "      <td>3.0</td>\n",
       "    </tr>\n",
       "    <tr>\n",
       "      <th>2</th>\n",
       "      <td>0.846385</td>\n",
       "      <td>0.617093</td>\n",
       "      <td>4.0</td>\n",
       "    </tr>\n",
       "    <tr>\n",
       "      <th>3</th>\n",
       "      <td>-0.565650</td>\n",
       "      <td>-0.170844</td>\n",
       "      <td>2.0</td>\n",
       "    </tr>\n",
       "    <tr>\n",
       "      <th>4</th>\n",
       "      <td>1.011437</td>\n",
       "      <td>0.990386</td>\n",
       "      <td>2.0</td>\n",
       "    </tr>\n",
       "    <tr>\n",
       "      <th>...</th>\n",
       "      <td>...</td>\n",
       "      <td>...</td>\n",
       "      <td>...</td>\n",
       "    </tr>\n",
       "    <tr>\n",
       "      <th>1199</th>\n",
       "      <td>0.862247</td>\n",
       "      <td>0.370596</td>\n",
       "      <td>1.0</td>\n",
       "    </tr>\n",
       "    <tr>\n",
       "      <th>1200</th>\n",
       "      <td>0.160962</td>\n",
       "      <td>0.737013</td>\n",
       "      <td>3.0</td>\n",
       "    </tr>\n",
       "    <tr>\n",
       "      <th>1201</th>\n",
       "      <td>-0.619690</td>\n",
       "      <td>0.274068</td>\n",
       "      <td>0.0</td>\n",
       "    </tr>\n",
       "    <tr>\n",
       "      <th>1202</th>\n",
       "      <td>-0.619690</td>\n",
       "      <td>0.274068</td>\n",
       "      <td>3.0</td>\n",
       "    </tr>\n",
       "    <tr>\n",
       "      <th>1203</th>\n",
       "      <td>-1.990614</td>\n",
       "      <td>0.995746</td>\n",
       "      <td>1.0</td>\n",
       "    </tr>\n",
       "  </tbody>\n",
       "</table>\n",
       "<p>1204 rows × 3 columns</p>\n",
       "</div>"
      ],
      "text/plain": [
       "        1st_PC    2nd_PC  labels\n",
       "0     1.034521  0.837540     0.0\n",
       "1     0.720279 -0.155544     3.0\n",
       "2     0.846385  0.617093     4.0\n",
       "3    -0.565650 -0.170844     2.0\n",
       "4     1.011437  0.990386     2.0\n",
       "...        ...       ...     ...\n",
       "1199  0.862247  0.370596     1.0\n",
       "1200  0.160962  0.737013     3.0\n",
       "1201 -0.619690  0.274068     0.0\n",
       "1202 -0.619690  0.274068     3.0\n",
       "1203 -1.990614  0.995746     1.0\n",
       "\n",
       "[1204 rows x 3 columns]"
      ]
     },
     "execution_count": 50,
     "metadata": {},
     "output_type": "execute_result"
    }
   ],
   "source": [
    "pca_df"
   ]
  },
  {
   "cell_type": "markdown",
   "metadata": {
    "id": "uAgdPNf0AjSY"
   },
   "source": [
    "## Generate Train and Test - Linear Regression"
   ]
  },
  {
   "cell_type": "code",
   "execution_count": 51,
   "metadata": {},
   "outputs": [],
   "source": [
    "from sklearn.model_selection import train_test_split\n",
    "\n",
    "X_pca_train, X_pca_test, y_pca_train, y_pca_test = train_test_split(pca_data, target, test_size=0.3, random_state=1)  # 70% training and 30% test"
   ]
  },
  {
   "cell_type": "markdown",
   "metadata": {
    "id": "KQSN89RnAWeQ"
   },
   "source": [
    "## Linear Regression"
   ]
  },
  {
   "cell_type": "code",
   "execution_count": 52,
   "metadata": {
    "id": "x-apCQo0GZl2"
   },
   "outputs": [
    {
     "name": "stdout",
     "output_type": "stream",
     "text": [
      "RMSE value:  1.2193985244882242\n",
      "R2 value:  -0.006475293394414772\n"
     ]
    }
   ],
   "source": [
    "lin_reg = LinearRegression()\n",
    "lin_reg.fit(X_pca_train, y_pca_train)\n",
    "\n",
    "y_pca_pred = lin_reg.predict(X_pca_test)\n",
    "\n",
    "mse = mean_squared_error(y_pca_test, y_pca_pred)\n",
    "rmse = np.sqrt(mse)\n",
    "r2_point = r2_score(y_pca_test, y_pca_pred)\n",
    "\n",
    "\n",
    "print(\"RMSE value: \", rmse)\n",
    "print(\"R2 value: \", r2_point)"
   ]
  },
  {
   "cell_type": "markdown",
   "metadata": {},
   "source": [
    "## Generate Train and Test - Other Algorithms"
   ]
  },
  {
   "cell_type": "code",
   "execution_count": 53,
   "metadata": {},
   "outputs": [],
   "source": [
    "X_train, X_test, y_train, y_test = train_test_split(data, target, test_size=0.3, random_state=1)  # 70% training and 30% test"
   ]
  },
  {
   "cell_type": "markdown",
   "metadata": {
    "id": "_e11X_yx-iD6"
   },
   "source": [
    "## SVM"
   ]
  },
  {
   "cell_type": "code",
   "execution_count": 54,
   "metadata": {
    "id": "6OI7vUWZHrIi"
   },
   "outputs": [],
   "source": [
    "folds = KFold(n_splits = 5, shuffle = True, random_state = 1)"
   ]
  },
  {
   "cell_type": "code",
   "execution_count": 55,
   "metadata": {},
   "outputs": [
    {
     "name": "stdout",
     "output_type": "stream",
     "text": [
      "5\n",
      "5\n"
     ]
    }
   ],
   "source": [
    "print(len(np.logspace(-4, 0, 5)))\n",
    "print(len(np.logspace(-3, 1, 5)))"
   ]
  },
  {
   "cell_type": "code",
   "execution_count": 56,
   "metadata": {
    "id": "_fKIxVbX66mn"
   },
   "outputs": [],
   "source": [
    "svm_hyper_params = [ \n",
    "                        {\n",
    "                        'gamma': np.logspace(-4, -1, 4),\n",
    "                        'C': np.logspace(-3, 1, 5),\n",
    "                        'kernel': ['linear', 'poly', 'rbf', 'sigmoid']\n",
    "                        }\n",
    "                    ]\n",
    "\n",
    "# specify model\n",
    "svm_model = svm.SVC(random_state=1)\n",
    "\n",
    "# set up GridSearchCV()\n",
    "svm_model_cv = GridSearchCV(estimator = svm_model, \n",
    "                            param_grid = svm_hyper_params, \n",
    "                            scoring= 'accuracy', \n",
    "                            cv = folds, \n",
    "                            verbose = 2,\n",
    "                            return_train_score=True,\n",
    "                            n_jobs=2)      "
   ]
  },
  {
   "cell_type": "code",
   "execution_count": 57,
   "metadata": {
    "colab": {
     "base_uri": "https://localhost:8080/"
    },
    "id": "Adbbt5c866mo",
    "outputId": "f9cd69a3-f5e0-4ab1-81f3-a5ef5f6467f8"
   },
   "outputs": [
    {
     "name": "stdout",
     "output_type": "stream",
     "text": [
      "Fitting 5 folds for each of 80 candidates, totalling 400 fits\n",
      "best hyper parameters {'C': 0.1, 'gamma': 0.1, 'kernel': 'sigmoid'}\n"
     ]
    }
   ],
   "source": [
    "# fit the model\n",
    "svm_model_cv.fit(X_train, y_train)\n",
    "print(\"best hyper parameters\", svm_model_cv.best_params_)\n",
    "svm_y_pred = svm_model_cv.predict(X_test)"
   ]
  },
  {
   "cell_type": "code",
   "execution_count": 58,
   "metadata": {
    "colab": {
     "base_uri": "https://localhost:8080/"
    },
    "id": "dst30cYtOZ29",
    "outputId": "5e584a0f-1c84-48d6-b033-331259225641"
   },
   "outputs": [
    {
     "name": "stdout",
     "output_type": "stream",
     "text": [
      "Accuracy: 0.4143646408839779\n",
      "F1 score macro: 0.12120632979130037\n",
      "F1 score weighted: 0.2593503673034273\n"
     ]
    }
   ],
   "source": [
    "# accuracy \n",
    "print(\"Accuracy:\", metrics.accuracy_score(y_test, svm_y_pred))\n",
    "# f1 score \n",
    "print(\"F1 score macro:\", f1_score(y_test, svm_y_pred, average='macro'))\n",
    "print(\"F1 score weighted:\", f1_score(y_test, svm_y_pred, average='weighted'))"
   ]
  },
  {
   "cell_type": "markdown",
   "metadata": {
    "id": "ETvDxUzl-oXC"
   },
   "source": [
    "## Logistic Regression"
   ]
  },
  {
   "cell_type": "code",
   "execution_count": 59,
   "metadata": {
    "id": "aez9Ik2M-pXl"
   },
   "outputs": [],
   "source": [
    "log_hyper_params = [ \n",
    "                        {\n",
    "                        'C': np.logspace(-4, 2, 7),\n",
    "                        'solver' : ['newton-cg', 'lbfgs', 'liblinear', 'sag', 'saga'],\n",
    "                        'penalty' : ['l1', 'l2', 'elasticnet', 'none'],\n",
    "                        'multi_class' : ['auto', 'ovr', 'multinomial']\n",
    "                        }\n",
    "                    ]\n",
    "\n",
    "# specify model\n",
    "log_model = LogisticRegression(random_state=1)\n",
    "\n",
    "# set up GridSearchCV()\n",
    "log_model_cv = GridSearchCV(estimator = log_model, \n",
    "                            param_grid = log_hyper_params, \n",
    "                            scoring= 'accuracy', \n",
    "                            cv = folds, \n",
    "                            verbose = 2,\n",
    "                            return_train_score=True,\n",
    "                            n_jobs=-1)      "
   ]
  },
  {
   "cell_type": "code",
   "execution_count": 60,
   "metadata": {
    "colab": {
     "base_uri": "https://localhost:8080/"
    },
    "collapsed": true,
    "id": "8IuHlIl-NsT6",
    "outputId": "89af544a-87e7-4616-e493-a11372b8cb1e"
   },
   "outputs": [
    {
     "name": "stdout",
     "output_type": "stream",
     "text": [
      "Fitting 5 folds for each of 420 candidates, totalling 2100 fits\n",
      "best hyper parameters {'C': 0.0001, 'multi_class': 'auto', 'penalty': 'l1', 'solver': 'liblinear'}\n"
     ]
    },
    {
     "name": "stderr",
     "output_type": "stream",
     "text": [
      "/home/jhpark/.local/lib/python3.8/site-packages/sklearn/model_selection/_search.py:918: UserWarning: One or more of the test scores are non-finite: [       nan        nan 0.40743872        nan 0.40743872 0.40743872\n",
      " 0.40743872 0.40743872 0.40743872 0.40743872        nan        nan\n",
      "        nan        nan        nan 0.4026275  0.4026275         nan\n",
      " 0.4026275  0.4026275         nan        nan 0.40743872        nan\n",
      " 0.40743872 0.40743872 0.40743872 0.40743872 0.40743872 0.40743872\n",
      "        nan        nan        nan        nan        nan 0.40263454\n",
      " 0.40263454        nan 0.40263454 0.40263454        nan        nan\n",
      "        nan        nan 0.40743872 0.40743872 0.40743872        nan\n",
      " 0.40743872 0.40743872        nan        nan        nan        nan\n",
      "        nan 0.4026275  0.4026275         nan 0.4026275  0.4026275\n",
      "        nan        nan 0.40743872        nan 0.40743872 0.40743872\n",
      " 0.40743872 0.40743872 0.40743872 0.40743872        nan        nan\n",
      "        nan        nan        nan 0.4026275  0.4026275         nan\n",
      " 0.4026275  0.4026275         nan        nan 0.40743872        nan\n",
      " 0.40743872 0.40743872 0.40743872 0.40743872 0.40743872 0.40743872\n",
      "        nan        nan        nan        nan        nan 0.40263454\n",
      " 0.40263454        nan 0.40263454 0.40263454        nan        nan\n",
      "        nan        nan 0.40743872 0.40743872 0.40743872        nan\n",
      " 0.40743872 0.40743872        nan        nan        nan        nan\n",
      "        nan 0.4026275  0.4026275         nan 0.4026275  0.4026275\n",
      "        nan        nan 0.40624119        nan 0.40743872 0.40505776\n",
      " 0.40505776 0.40624119 0.40505776 0.40505776        nan        nan\n",
      "        nan        nan        nan 0.4026275  0.4026275         nan\n",
      " 0.4026275  0.4026275         nan        nan 0.40624119        nan\n",
      " 0.40743872 0.40743872 0.40743872 0.40624119 0.40743872 0.40743872\n",
      "        nan        nan        nan        nan        nan 0.40263454\n",
      " 0.40263454        nan 0.40263454 0.40263454        nan        nan\n",
      "        nan        nan 0.40743872 0.40505776 0.40505776        nan\n",
      " 0.40505776 0.40505776        nan        nan        nan        nan\n",
      "        nan 0.4026275  0.4026275         nan 0.4026275  0.4026275\n",
      "        nan        nan 0.40386729        nan 0.40743872 0.40620597\n",
      " 0.40620597 0.40502254 0.40620597 0.40620597        nan        nan\n",
      "        nan        nan        nan 0.4026275  0.4026275         nan\n",
      " 0.4026275  0.4026275         nan        nan 0.40386729        nan\n",
      " 0.40743872 0.40620597 0.40620597 0.40502254 0.40620597 0.40620597\n",
      "        nan        nan        nan        nan        nan 0.40263454\n",
      " 0.40263454        nan 0.40263454 0.40263454        nan        nan\n",
      "        nan        nan 0.40743872 0.40620597 0.40620597        nan\n",
      " 0.40620597 0.40620597        nan        nan        nan        nan\n",
      "        nan 0.4026275  0.4026275         nan 0.4026275  0.4026275\n",
      "        nan        nan 0.40621302        nan 0.40738941 0.40144407\n",
      " 0.40144407 0.40621302 0.40144407 0.40144407        nan        nan\n",
      "        nan        nan        nan 0.4026275  0.4026275         nan\n",
      " 0.4026275  0.4026275         nan        nan 0.40621302        nan\n",
      " 0.40739645 0.40263454 0.40263454 0.40621302 0.40263454 0.40263454\n",
      "        nan        nan        nan        nan        nan 0.40263454\n",
      " 0.40263454        nan 0.40263454 0.40263454        nan        nan\n",
      "        nan        nan 0.40738941 0.40144407 0.40144407        nan\n",
      " 0.40144407 0.40144407        nan        nan        nan        nan\n",
      "        nan 0.4026275  0.4026275         nan 0.4026275  0.4026275\n",
      "        nan        nan 0.40263454        nan 0.4026275  0.4026275\n",
      " 0.4026275  0.40263454 0.4026275  0.4026275         nan        nan\n",
      "        nan        nan        nan 0.4026275  0.4026275         nan\n",
      " 0.4026275  0.4026275         nan        nan 0.40263454        nan\n",
      " 0.40263454 0.40263454 0.40263454 0.40263454 0.40263454 0.40263454\n",
      "        nan        nan        nan        nan        nan 0.40263454\n",
      " 0.40263454        nan 0.40263454 0.40263454        nan        nan\n",
      "        nan        nan 0.4026275  0.4026275  0.4026275         nan\n",
      " 0.4026275  0.4026275         nan        nan        nan        nan\n",
      "        nan 0.4026275  0.4026275         nan 0.4026275  0.4026275\n",
      "        nan        nan 0.40263454        nan 0.4026275  0.4026275\n",
      " 0.4026275  0.40263454 0.4026275  0.4026275         nan        nan\n",
      "        nan        nan        nan 0.4026275  0.4026275         nan\n",
      " 0.4026275  0.4026275         nan        nan 0.40263454        nan\n",
      " 0.40263454 0.40263454 0.40263454 0.40263454 0.40263454 0.40263454\n",
      "        nan        nan        nan        nan        nan 0.40263454\n",
      " 0.40263454        nan 0.40263454 0.40263454        nan        nan\n",
      "        nan        nan 0.4026275  0.4026275  0.4026275         nan\n",
      " 0.4026275  0.4026275         nan        nan        nan        nan\n",
      "        nan 0.4026275  0.4026275         nan 0.4026275  0.4026275 ]\n",
      "  warnings.warn(\n",
      "/home/jhpark/.local/lib/python3.8/site-packages/sklearn/model_selection/_search.py:918: UserWarning: One or more of the train scores are non-finite: [       nan        nan 0.40736813        nan 0.40736813 0.40736813\n",
      " 0.40736813 0.40736813 0.40736813 0.40736813        nan        nan\n",
      "        nan        nan        nan 0.40558595 0.40558595        nan\n",
      " 0.40558595 0.40558595        nan        nan 0.40736813        nan\n",
      " 0.40736813 0.40736813 0.40736813 0.40736813 0.40736813 0.40736813\n",
      "        nan        nan        nan        nan        nan 0.40677378\n",
      " 0.40677378        nan 0.40677378 0.40677378        nan        nan\n",
      "        nan        nan 0.40736813 0.40736813 0.40736813        nan\n",
      " 0.40736813 0.40736813        nan        nan        nan        nan\n",
      "        nan 0.40558595 0.40558595        nan 0.40558595 0.40558595\n",
      "        nan        nan 0.40736813        nan 0.40736813 0.40736813\n",
      " 0.40736813 0.40736813 0.40736813 0.40736813        nan        nan\n",
      "        nan        nan        nan 0.40558595 0.40558595        nan\n",
      " 0.40558595 0.40558595        nan        nan 0.40736813        nan\n",
      " 0.40736813 0.40736813 0.40736813 0.40736813 0.40736813 0.40736813\n",
      "        nan        nan        nan        nan        nan 0.40677378\n",
      " 0.40677378        nan 0.40677378 0.40677378        nan        nan\n",
      "        nan        nan 0.40736813 0.40736813 0.40736813        nan\n",
      " 0.40736813 0.40736813        nan        nan        nan        nan\n",
      "        nan 0.40558595 0.40558595        nan 0.40558595 0.40558595\n",
      "        nan        nan 0.40855508        nan 0.40736813 0.4100392\n",
      " 0.4100392  0.40736769 0.4100392  0.4100392         nan        nan\n",
      "        nan        nan        nan 0.40558595 0.40558595        nan\n",
      " 0.40558595 0.40558595        nan        nan 0.40855508        nan\n",
      " 0.40736813 0.40736813 0.40736813 0.40736769 0.40736813 0.40736813\n",
      "        nan        nan        nan        nan        nan 0.40677378\n",
      " 0.40677378        nan 0.40677378 0.40677378        nan        nan\n",
      "        nan        nan 0.40736813 0.4100392  0.4100392         nan\n",
      " 0.4100392  0.4100392         nan        nan        nan        nan\n",
      "        nan 0.40558595 0.40558595        nan 0.40558595 0.40558595\n",
      "        nan        nan 0.40736813        nan 0.40736813 0.40796072\n",
      " 0.40796072 0.40796161 0.40796072 0.40796072        nan        nan\n",
      "        nan        nan        nan 0.40558595 0.40558595        nan\n",
      " 0.40558595 0.40558595        nan        nan 0.40736813        nan\n",
      " 0.40736813 0.40677246 0.40677246 0.40796161 0.40677246 0.40677246\n",
      "        nan        nan        nan        nan        nan 0.40677378\n",
      " 0.40677378        nan 0.40677378 0.40677378        nan        nan\n",
      "        nan        nan 0.40736813 0.40796072 0.40796072        nan\n",
      " 0.40796072 0.40796072        nan        nan        nan        nan\n",
      "        nan 0.40558595 0.40558595        nan 0.40558595 0.40558595\n",
      "        nan        nan 0.40677334        nan 0.40736593 0.40588269\n",
      " 0.40588269 0.40588225 0.40588269 0.40588269        nan        nan\n",
      "        nan        nan        nan 0.40558595 0.40558595        nan\n",
      " 0.40558595 0.40558595        nan        nan 0.40677334        nan\n",
      " 0.40647616 0.40707052 0.40707052 0.40588225 0.40707052 0.40707052\n",
      "        nan        nan        nan        nan        nan 0.40677378\n",
      " 0.40677378        nan 0.40677378 0.40677378        nan        nan\n",
      "        nan        nan 0.40736593 0.40588269 0.40588269        nan\n",
      " 0.40588269 0.40588269        nan        nan        nan        nan\n",
      "        nan 0.40558595 0.40558595        nan 0.40558595 0.40558595\n",
      "        nan        nan 0.40647704        nan 0.40558551 0.40558595\n",
      " 0.40558595 0.40677378 0.40558595 0.40558595        nan        nan\n",
      "        nan        nan        nan 0.40558595 0.40558595        nan\n",
      " 0.40558595 0.40558595        nan        nan 0.40647704        nan\n",
      " 0.40647704 0.40677378 0.40677378 0.40677378 0.40677378 0.40677378\n",
      "        nan        nan        nan        nan        nan 0.40677378\n",
      " 0.40677378        nan 0.40677378 0.40677378        nan        nan\n",
      "        nan        nan 0.40558551 0.40558595 0.40558595        nan\n",
      " 0.40558595 0.40558595        nan        nan        nan        nan\n",
      "        nan 0.40558595 0.40558595        nan 0.40558595 0.40558595\n",
      "        nan        nan 0.40677378        nan 0.40558595 0.40558595\n",
      " 0.40558595 0.40677378 0.40558595 0.40558595        nan        nan\n",
      "        nan        nan        nan 0.40558595 0.40558595        nan\n",
      " 0.40558595 0.40558595        nan        nan 0.40677378        nan\n",
      " 0.40677378 0.40677378 0.40677378 0.40677378 0.40677378 0.40677378\n",
      "        nan        nan        nan        nan        nan 0.40677378\n",
      " 0.40677378        nan 0.40677378 0.40677378        nan        nan\n",
      "        nan        nan 0.40558595 0.40558595 0.40558595        nan\n",
      " 0.40558595 0.40558595        nan        nan        nan        nan\n",
      "        nan 0.40558595 0.40558595        nan 0.40558595 0.40558595]\n",
      "  warnings.warn(\n"
     ]
    }
   ],
   "source": [
    "# fit the model\n",
    "log_model_cv.fit(X_train, y_train)\n",
    "print(\"best hyper parameters\", log_model_cv.best_params_)\n",
    "log_y_pred = log_model_cv.predict(X_test)"
   ]
  },
  {
   "cell_type": "code",
   "execution_count": 61,
   "metadata": {
    "colab": {
     "base_uri": "https://localhost:8080/"
    },
    "id": "_exbf-RzOXNt",
    "outputId": "f19406c3-2b7a-4210-e00c-7532e07c53d6"
   },
   "outputs": [
    {
     "name": "stdout",
     "output_type": "stream",
     "text": [
      "Accuracy: 0.43370165745856354\n",
      "F1 score macro: 0.12100192678227362\n",
      "F1 score weighted: 0.2623936810057591\n"
     ]
    }
   ],
   "source": [
    "# accuracy \n",
    "print(\"Accuracy:\", metrics.accuracy_score(y_test, log_y_pred))\n",
    "# f1 score \n",
    "print(\"F1 score macro:\", f1_score(y_test, log_y_pred, average='macro'))\n",
    "print(\"F1 score weighted:\", f1_score(y_test, log_y_pred, average='weighted'))"
   ]
  },
  {
   "cell_type": "markdown",
   "metadata": {
    "id": "YqbhZSoBeXRl"
   },
   "source": [
    "## KNN"
   ]
  },
  {
   "cell_type": "code",
   "execution_count": 68,
   "metadata": {
    "id": "jVLvCwD6eX0V"
   },
   "outputs": [],
   "source": [
    "knn_hyper_params = [ \n",
    "                        {\n",
    "                        'weights' : ['uniform', 'distance'],\n",
    "                        'algorithm' : ['auto', 'ball_tree', 'kd_tree', 'brute'],\n",
    "                        'leaf_size' : np.linspace(2, 100, 10, dtype=int)\n",
    "                        }\n",
    "                    ]\n",
    "\n",
    "# specify model\n",
    "\n",
    "# THIS SECTION SHOULD BE CHANGED.\n",
    "# n_neighbors  SHOULD BE MODIFIED TO ANOTHER VALUE DEPENDING ON THE TARGET VALUE.\n",
    "knn_model = KNeighborsClassifier(n_neighbors=len(target.unique()))\n",
    "\n",
    "# set up GridSearchCV()\n",
    "knn_model_cv = GridSearchCV(estimator = knn_model, \n",
    "                            param_grid = knn_hyper_params, \n",
    "                            scoring= 'accuracy', \n",
    "                            cv = folds, \n",
    "                            verbose = 2,\n",
    "                            return_train_score=True,\n",
    "                            n_jobs=-1)      "
   ]
  },
  {
   "cell_type": "code",
   "execution_count": 69,
   "metadata": {
    "colab": {
     "base_uri": "https://localhost:8080/"
    },
    "id": "EcMHH1dQeeL7",
    "outputId": "d9f051b5-9791-42a7-80d6-f0b269e98d9b"
   },
   "outputs": [
    {
     "name": "stdout",
     "output_type": "stream",
     "text": [
      "Fitting 5 folds for each of 80 candidates, totalling 400 fits\n",
      "best hyper parameters {'algorithm': 'brute', 'leaf_size': 2, 'weights': 'uniform'}\n"
     ]
    }
   ],
   "source": [
    "# fit the model\n",
    "knn_model_cv.fit(X_train, y_train)\n",
    "print(\"best hyper parameters\", knn_model_cv.best_params_)\n",
    "knn_y_pred = knn_model_cv.predict(X_test)"
   ]
  },
  {
   "cell_type": "code",
   "execution_count": 70,
   "metadata": {
    "colab": {
     "base_uri": "https://localhost:8080/"
    },
    "id": "ktnU_aaHefQI",
    "outputId": "319cc175-2394-4892-a699-8f5dfb002d53"
   },
   "outputs": [
    {
     "name": "stdout",
     "output_type": "stream",
     "text": [
      "Accuracy: 0.3674033149171271\n",
      "F1 score macro: 0.18503451676528598\n",
      "F1 score weighted: 0.3017895639681657\n"
     ]
    }
   ],
   "source": [
    "# accuracy \n",
    "print(\"Accuracy:\", metrics.accuracy_score(y_test, knn_y_pred))\n",
    "# f1 score \n",
    "print(\"F1 score macro:\", f1_score(y_test, knn_y_pred, average='macro'))\n",
    "print(\"F1 score weighted:\", f1_score(y_test, knn_y_pred, average='weighted'))"
   ]
  },
  {
   "cell_type": "markdown",
   "metadata": {
    "id": "jahcKkHG6vsu"
   },
   "source": [
    "## Random Forest"
   ]
  },
  {
   "cell_type": "code",
   "execution_count": 71,
   "metadata": {
    "id": "E6aZiFiL6wwy"
   },
   "outputs": [],
   "source": [
    "rf_hyper_params = [ \n",
    "                        {\n",
    "                            'n_estimators' : [int(x) for x in np.linspace(5, 50, 5)],\n",
    "                            'criterion' : ['gini', 'entropy'],\n",
    "                            'max_depth' : [int(x) for x in np.linspace(2, 50, 5)],\n",
    "                            'min_samples_split' : [int(x) for x in np.linspace(2, 50, 5)],\n",
    "                            'min_samples_leaf' : [int(x) for x in np.linspace(2, 50, 5)],\n",
    "                            'max_features' : ['auto', 'sqrt', 'log2'],\n",
    "                            'bootstrap' : [True, False]\n",
    "\n",
    "                        }\n",
    "                    ]\n",
    "\n",
    "# specify model\n",
    "\n",
    "# THIS SECTION SHOULD BE CHANGED.\n",
    "# n_neighbors  SHOULD BE MODIFIED TO ANOTHER VALUE DEPENDING ON THE TARGET VALUE.\n",
    "rf_model = RandomForestClassifier(random_state=1)\n",
    "\n",
    "# set up GridSearchCV()\n",
    "rf_model_cv = GridSearchCV(estimator = rf_model, \n",
    "                            param_grid = rf_hyper_params, \n",
    "                            scoring= 'accuracy', \n",
    "                            cv = folds, \n",
    "                            verbose = 2,\n",
    "                            return_train_score=True,\n",
    "                            n_jobs=-1)      "
   ]
  },
  {
   "cell_type": "code",
   "execution_count": 72,
   "metadata": {
    "colab": {
     "base_uri": "https://localhost:8080/"
    },
    "id": "D-c5q0cB-7qj",
    "outputId": "eb5f8016-e3ab-4e0a-ff22-ad623d3c7223"
   },
   "outputs": [
    {
     "name": "stdout",
     "output_type": "stream",
     "text": [
      "Fitting 5 folds for each of 7500 candidates, totalling 37500 fits\n",
      "best hyper parameters {'bootstrap': False, 'criterion': 'gini', 'max_depth': 14, 'max_features': 'auto', 'min_samples_leaf': 38, 'min_samples_split': 2, 'n_estimators': 5}\n"
     ]
    }
   ],
   "source": [
    "# fit the model\n",
    "rf_model_cv.fit(X_train, y_train)\n",
    "print(\"best hyper parameters\", rf_model_cv.best_params_)\n",
    "rf_y_pred = rf_model_cv.predict(X_test)"
   ]
  },
  {
   "cell_type": "code",
   "execution_count": 73,
   "metadata": {
    "colab": {
     "base_uri": "https://localhost:8080/"
    },
    "id": "RZ-D9E2Z-8zW",
    "outputId": "218b35ed-7985-4860-8fa3-e0f4cb0f37e3"
   },
   "outputs": [
    {
     "name": "stdout",
     "output_type": "stream",
     "text": [
      "Accuracy: 0.4116022099447514\n",
      "F1 score: 0.41160220994475144\n"
     ]
    }
   ],
   "source": [
    "# accuracy \n",
    "print(\"Accuracy:\", metrics.accuracy_score(y_test, rf_y_pred))\n",
    "# f1 score \n",
    "print(\"F1 score macro:\", f1_score(y_test, rf_y_pred, average='macro'))\n",
    "print(\"F1 score weighted:\", f1_score(y_test, rf_y_pred, average='weighted'))"
   ]
  },
  {
   "cell_type": "code",
   "execution_count": null,
   "metadata": {
    "id": "sVjOy739_CNe"
   },
   "outputs": [],
   "source": []
  }
 ],
 "metadata": {
  "colab": {
   "collapsed_sections": [],
   "include_colab_link": true,
   "name": "apr17.ipynb",
   "provenance": []
  },
  "kernelspec": {
   "display_name": "Python 3",
   "language": "python",
   "name": "python3"
  },
  "language_info": {
   "codemirror_mode": {
    "name": "ipython",
    "version": 3
   },
   "file_extension": ".py",
   "mimetype": "text/x-python",
   "name": "python",
   "nbconvert_exporter": "python",
   "pygments_lexer": "ipython3",
   "version": "3.8.5"
  }
 },
 "nbformat": 4,
 "nbformat_minor": 1
}
