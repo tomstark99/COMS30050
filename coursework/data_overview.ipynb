{
 "cells": [
  {
   "cell_type": "code",
   "execution_count": 1,
   "metadata": {},
   "outputs": [],
   "source": [
    "import pandas as pd\n",
    "import matplotlib.pyplot as plt\n",
    "import numpy as np"
   ]
  },
  {
   "cell_type": "code",
   "execution_count": 2,
   "metadata": {},
   "outputs": [],
   "source": [
    "data = pd.read_csv(\"data/processed_data.csv\")"
   ]
  },
  {
   "cell_type": "code",
   "execution_count": 3,
   "metadata": {},
   "outputs": [
    {
     "data": {
      "text/html": [
       "<div>\n",
       "<style scoped>\n",
       "    .dataframe tbody tr th:only-of-type {\n",
       "        vertical-align: middle;\n",
       "    }\n",
       "\n",
       "    .dataframe tbody tr th {\n",
       "        vertical-align: top;\n",
       "    }\n",
       "\n",
       "    .dataframe thead th {\n",
       "        text-align: right;\n",
       "    }\n",
       "</style>\n",
       "<table border=\"1\" class=\"dataframe\">\n",
       "  <thead>\n",
       "    <tr style=\"text-align: right;\">\n",
       "      <th></th>\n",
       "      <th>X</th>\n",
       "      <th>flag</th>\n",
       "      <th>alon_week</th>\n",
       "      <th>alon_wend</th>\n",
       "      <th>child_bull</th>\n",
       "      <th>comp_house</th>\n",
       "      <th>comp_noint_bed_16</th>\n",
       "      <th>comp_int_bed_16</th>\n",
       "      <th>comp_week</th>\n",
       "      <th>comp_wend</th>\n",
       "      <th>...</th>\n",
       "      <th>talk_phon_wend</th>\n",
       "      <th>text_week</th>\n",
       "      <th>text_wend</th>\n",
       "      <th>tran_week</th>\n",
       "      <th>tran_wend</th>\n",
       "      <th>tv_week</th>\n",
       "      <th>tv_wend</th>\n",
       "      <th>weight_16</th>\n",
       "      <th>work_week</th>\n",
       "      <th>work_wend</th>\n",
       "    </tr>\n",
       "  </thead>\n",
       "  <tbody>\n",
       "    <tr>\n",
       "      <th>0</th>\n",
       "      <td>1</td>\n",
       "      <td>synthetic</td>\n",
       "      <td>1-2 hours</td>\n",
       "      <td>1-2 hours</td>\n",
       "      <td>No</td>\n",
       "      <td>Yes</td>\n",
       "      <td>NaN</td>\n",
       "      <td>NaN</td>\n",
       "      <td>1-2 hours</td>\n",
       "      <td>1-2 hours</td>\n",
       "      <td>...</td>\n",
       "      <td>Any at all</td>\n",
       "      <td>Less than 1 hour</td>\n",
       "      <td>Less than 1 hour</td>\n",
       "      <td>Less than 1 hour</td>\n",
       "      <td>Less than 1 hour</td>\n",
       "      <td>1-2 hours</td>\n",
       "      <td>1-2 hours</td>\n",
       "      <td>59.294132</td>\n",
       "      <td>3 or more hours</td>\n",
       "      <td>3 or more hours</td>\n",
       "    </tr>\n",
       "    <tr>\n",
       "      <th>1</th>\n",
       "      <td>2</td>\n",
       "      <td>synthetic</td>\n",
       "      <td>NaN</td>\n",
       "      <td>NaN</td>\n",
       "      <td>NaN</td>\n",
       "      <td>NaN</td>\n",
       "      <td>NaN</td>\n",
       "      <td>NaN</td>\n",
       "      <td>NaN</td>\n",
       "      <td>NaN</td>\n",
       "      <td>...</td>\n",
       "      <td>NaN</td>\n",
       "      <td>NaN</td>\n",
       "      <td>NaN</td>\n",
       "      <td>NaN</td>\n",
       "      <td>NaN</td>\n",
       "      <td>NaN</td>\n",
       "      <td>NaN</td>\n",
       "      <td>NaN</td>\n",
       "      <td>NaN</td>\n",
       "      <td>NaN</td>\n",
       "    </tr>\n",
       "    <tr>\n",
       "      <th>2</th>\n",
       "      <td>3</td>\n",
       "      <td>synthetic</td>\n",
       "      <td>NaN</td>\n",
       "      <td>NaN</td>\n",
       "      <td>NaN</td>\n",
       "      <td>NaN</td>\n",
       "      <td>NaN</td>\n",
       "      <td>NaN</td>\n",
       "      <td>NaN</td>\n",
       "      <td>NaN</td>\n",
       "      <td>...</td>\n",
       "      <td>NaN</td>\n",
       "      <td>NaN</td>\n",
       "      <td>NaN</td>\n",
       "      <td>NaN</td>\n",
       "      <td>NaN</td>\n",
       "      <td>NaN</td>\n",
       "      <td>NaN</td>\n",
       "      <td>NaN</td>\n",
       "      <td>NaN</td>\n",
       "      <td>NaN</td>\n",
       "    </tr>\n",
       "    <tr>\n",
       "      <th>3</th>\n",
       "      <td>4</td>\n",
       "      <td>synthetic</td>\n",
       "      <td>NaN</td>\n",
       "      <td>NaN</td>\n",
       "      <td>NaN</td>\n",
       "      <td>NaN</td>\n",
       "      <td>NaN</td>\n",
       "      <td>NaN</td>\n",
       "      <td>NaN</td>\n",
       "      <td>NaN</td>\n",
       "      <td>...</td>\n",
       "      <td>NaN</td>\n",
       "      <td>NaN</td>\n",
       "      <td>NaN</td>\n",
       "      <td>NaN</td>\n",
       "      <td>NaN</td>\n",
       "      <td>NaN</td>\n",
       "      <td>NaN</td>\n",
       "      <td>49.812426</td>\n",
       "      <td>NaN</td>\n",
       "      <td>NaN</td>\n",
       "    </tr>\n",
       "    <tr>\n",
       "      <th>4</th>\n",
       "      <td>5</td>\n",
       "      <td>synthetic</td>\n",
       "      <td>1-2 hours</td>\n",
       "      <td>3 or more hours</td>\n",
       "      <td>No</td>\n",
       "      <td>NaN</td>\n",
       "      <td>Yes</td>\n",
       "      <td>NaN</td>\n",
       "      <td>1-2 hours</td>\n",
       "      <td>Less than 1 hour</td>\n",
       "      <td>...</td>\n",
       "      <td>Not at all</td>\n",
       "      <td>Not at all</td>\n",
       "      <td>Not at all</td>\n",
       "      <td>Less than 1 hour</td>\n",
       "      <td>Less than 1 hour</td>\n",
       "      <td>1-2 hours</td>\n",
       "      <td>3 or more hours</td>\n",
       "      <td>62.270030</td>\n",
       "      <td>1-2 hours</td>\n",
       "      <td>1-2 hours</td>\n",
       "    </tr>\n",
       "    <tr>\n",
       "      <th>...</th>\n",
       "      <td>...</td>\n",
       "      <td>...</td>\n",
       "      <td>...</td>\n",
       "      <td>...</td>\n",
       "      <td>...</td>\n",
       "      <td>...</td>\n",
       "      <td>...</td>\n",
       "      <td>...</td>\n",
       "      <td>...</td>\n",
       "      <td>...</td>\n",
       "      <td>...</td>\n",
       "      <td>...</td>\n",
       "      <td>...</td>\n",
       "      <td>...</td>\n",
       "      <td>...</td>\n",
       "      <td>...</td>\n",
       "      <td>...</td>\n",
       "      <td>...</td>\n",
       "      <td>...</td>\n",
       "      <td>...</td>\n",
       "      <td>...</td>\n",
       "    </tr>\n",
       "    <tr>\n",
       "      <th>13729</th>\n",
       "      <td>13730</td>\n",
       "      <td>synthetic</td>\n",
       "      <td>NaN</td>\n",
       "      <td>NaN</td>\n",
       "      <td>NaN</td>\n",
       "      <td>NaN</td>\n",
       "      <td>NaN</td>\n",
       "      <td>NaN</td>\n",
       "      <td>NaN</td>\n",
       "      <td>NaN</td>\n",
       "      <td>...</td>\n",
       "      <td>NaN</td>\n",
       "      <td>NaN</td>\n",
       "      <td>NaN</td>\n",
       "      <td>NaN</td>\n",
       "      <td>NaN</td>\n",
       "      <td>NaN</td>\n",
       "      <td>NaN</td>\n",
       "      <td>NaN</td>\n",
       "      <td>NaN</td>\n",
       "      <td>NaN</td>\n",
       "    </tr>\n",
       "    <tr>\n",
       "      <th>13730</th>\n",
       "      <td>13731</td>\n",
       "      <td>synthetic</td>\n",
       "      <td>1-2 hours</td>\n",
       "      <td>3 or more hours</td>\n",
       "      <td>No</td>\n",
       "      <td>NaN</td>\n",
       "      <td>NaN</td>\n",
       "      <td>NaN</td>\n",
       "      <td>1-2 hours</td>\n",
       "      <td>1-2 hours</td>\n",
       "      <td>...</td>\n",
       "      <td>Not at all</td>\n",
       "      <td>Less than 1 hour</td>\n",
       "      <td>Less than 1 hour</td>\n",
       "      <td>Less than 1 hour</td>\n",
       "      <td>Less than 1 hour</td>\n",
       "      <td>3 or more hours</td>\n",
       "      <td>3 or more hours</td>\n",
       "      <td>NaN</td>\n",
       "      <td>1-2 hours</td>\n",
       "      <td>1-2 hours</td>\n",
       "    </tr>\n",
       "    <tr>\n",
       "      <th>13731</th>\n",
       "      <td>13732</td>\n",
       "      <td>synthetic</td>\n",
       "      <td>1-2 hours</td>\n",
       "      <td>1-2 hours</td>\n",
       "      <td>No</td>\n",
       "      <td>NaN</td>\n",
       "      <td>NaN</td>\n",
       "      <td>NaN</td>\n",
       "      <td>1-2 hours</td>\n",
       "      <td>1-2 hours</td>\n",
       "      <td>...</td>\n",
       "      <td>Any at all</td>\n",
       "      <td>1-2 hours</td>\n",
       "      <td>1-2 hours</td>\n",
       "      <td>1 or more hours</td>\n",
       "      <td>1 or more hours</td>\n",
       "      <td>3 or more hours</td>\n",
       "      <td>3 or more hours</td>\n",
       "      <td>58.075832</td>\n",
       "      <td>Less than 1 hour</td>\n",
       "      <td>Less than 1 hour</td>\n",
       "    </tr>\n",
       "    <tr>\n",
       "      <th>13732</th>\n",
       "      <td>13733</td>\n",
       "      <td>synthetic</td>\n",
       "      <td>Less than 1 hour</td>\n",
       "      <td>1-2 hours</td>\n",
       "      <td>No</td>\n",
       "      <td>Yes</td>\n",
       "      <td>NaN</td>\n",
       "      <td>NaN</td>\n",
       "      <td>Less than 1 hour</td>\n",
       "      <td>1-2 hours</td>\n",
       "      <td>...</td>\n",
       "      <td>Any at all</td>\n",
       "      <td>1-2 hours</td>\n",
       "      <td>1-2 hours</td>\n",
       "      <td>Less than 1 hour</td>\n",
       "      <td>Less than 1 hour</td>\n",
       "      <td>Not at all</td>\n",
       "      <td>Less than 1 hour</td>\n",
       "      <td>NaN</td>\n",
       "      <td>Less than 1 hour</td>\n",
       "      <td>1-2 hours</td>\n",
       "    </tr>\n",
       "    <tr>\n",
       "      <th>13733</th>\n",
       "      <td>13734</td>\n",
       "      <td>synthetic</td>\n",
       "      <td>NaN</td>\n",
       "      <td>NaN</td>\n",
       "      <td>NaN</td>\n",
       "      <td>NaN</td>\n",
       "      <td>NaN</td>\n",
       "      <td>NaN</td>\n",
       "      <td>NaN</td>\n",
       "      <td>NaN</td>\n",
       "      <td>...</td>\n",
       "      <td>NaN</td>\n",
       "      <td>NaN</td>\n",
       "      <td>NaN</td>\n",
       "      <td>NaN</td>\n",
       "      <td>NaN</td>\n",
       "      <td>NaN</td>\n",
       "      <td>NaN</td>\n",
       "      <td>70.732913</td>\n",
       "      <td>NaN</td>\n",
       "      <td>NaN</td>\n",
       "    </tr>\n",
       "  </tbody>\n",
       "</table>\n",
       "<p>13734 rows × 44 columns</p>\n",
       "</div>"
      ],
      "text/plain": [
       "           X       flag         alon_week        alon_wend child_bull  \\\n",
       "0          1  synthetic         1-2 hours        1-2 hours         No   \n",
       "1          2  synthetic               NaN              NaN        NaN   \n",
       "2          3  synthetic               NaN              NaN        NaN   \n",
       "3          4  synthetic               NaN              NaN        NaN   \n",
       "4          5  synthetic         1-2 hours  3 or more hours         No   \n",
       "...      ...        ...               ...              ...        ...   \n",
       "13729  13730  synthetic               NaN              NaN        NaN   \n",
       "13730  13731  synthetic         1-2 hours  3 or more hours         No   \n",
       "13731  13732  synthetic         1-2 hours        1-2 hours         No   \n",
       "13732  13733  synthetic  Less than 1 hour        1-2 hours         No   \n",
       "13733  13734  synthetic               NaN              NaN        NaN   \n",
       "\n",
       "      comp_house comp_noint_bed_16 comp_int_bed_16         comp_week  \\\n",
       "0            Yes               NaN             NaN         1-2 hours   \n",
       "1            NaN               NaN             NaN               NaN   \n",
       "2            NaN               NaN             NaN               NaN   \n",
       "3            NaN               NaN             NaN               NaN   \n",
       "4            NaN               Yes             NaN         1-2 hours   \n",
       "...          ...               ...             ...               ...   \n",
       "13729        NaN               NaN             NaN               NaN   \n",
       "13730        NaN               NaN             NaN         1-2 hours   \n",
       "13731        NaN               NaN             NaN         1-2 hours   \n",
       "13732        Yes               NaN             NaN  Less than 1 hour   \n",
       "13733        NaN               NaN             NaN               NaN   \n",
       "\n",
       "              comp_wend  ... talk_phon_wend         text_week  \\\n",
       "0             1-2 hours  ...     Any at all  Less than 1 hour   \n",
       "1                   NaN  ...            NaN               NaN   \n",
       "2                   NaN  ...            NaN               NaN   \n",
       "3                   NaN  ...            NaN               NaN   \n",
       "4      Less than 1 hour  ...     Not at all        Not at all   \n",
       "...                 ...  ...            ...               ...   \n",
       "13729               NaN  ...            NaN               NaN   \n",
       "13730         1-2 hours  ...     Not at all  Less than 1 hour   \n",
       "13731         1-2 hours  ...     Any at all         1-2 hours   \n",
       "13732         1-2 hours  ...     Any at all         1-2 hours   \n",
       "13733               NaN  ...            NaN               NaN   \n",
       "\n",
       "              text_wend         tran_week         tran_wend          tv_week  \\\n",
       "0      Less than 1 hour  Less than 1 hour  Less than 1 hour        1-2 hours   \n",
       "1                   NaN               NaN               NaN              NaN   \n",
       "2                   NaN               NaN               NaN              NaN   \n",
       "3                   NaN               NaN               NaN              NaN   \n",
       "4            Not at all  Less than 1 hour  Less than 1 hour        1-2 hours   \n",
       "...                 ...               ...               ...              ...   \n",
       "13729               NaN               NaN               NaN              NaN   \n",
       "13730  Less than 1 hour  Less than 1 hour  Less than 1 hour  3 or more hours   \n",
       "13731         1-2 hours   1 or more hours   1 or more hours  3 or more hours   \n",
       "13732         1-2 hours  Less than 1 hour  Less than 1 hour       Not at all   \n",
       "13733               NaN               NaN               NaN              NaN   \n",
       "\n",
       "                tv_wend  weight_16         work_week         work_wend  \n",
       "0             1-2 hours  59.294132   3 or more hours   3 or more hours  \n",
       "1                   NaN        NaN               NaN               NaN  \n",
       "2                   NaN        NaN               NaN               NaN  \n",
       "3                   NaN  49.812426               NaN               NaN  \n",
       "4       3 or more hours  62.270030         1-2 hours         1-2 hours  \n",
       "...                 ...        ...               ...               ...  \n",
       "13729               NaN        NaN               NaN               NaN  \n",
       "13730   3 or more hours        NaN         1-2 hours         1-2 hours  \n",
       "13731   3 or more hours  58.075832  Less than 1 hour  Less than 1 hour  \n",
       "13732  Less than 1 hour        NaN  Less than 1 hour         1-2 hours  \n",
       "13733               NaN  70.732913               NaN               NaN  \n",
       "\n",
       "[13734 rows x 44 columns]"
      ]
     },
     "execution_count": 3,
     "metadata": {},
     "output_type": "execute_result"
    }
   ],
   "source": [
    "data"
   ]
  },
  {
   "cell_type": "markdown",
   "metadata": {},
   "source": [
    "### Target values : dep_score, dep_thoughts, has_dep_diag, prim_diag, secd_diag"
   ]
  },
  {
   "cell_type": "markdown",
   "metadata": {},
   "source": [
    "### Definitions:\n",
    "#### dep_score : Child's depression score on CIS-R.\n",
    "- Higher scores indicate higher levels of depressive symptomatology.  They were scored following: +1 if less/no enjoyment with life during the past week, +1 if depressed for >3day in past week, +1 if depressed for >3hr in any day of past week, +1 if unable to be cheered up. See CIS-R Descriptive Summary for details.\n",
    "\n",
    "#### dep_thoughts : Child's number of depressive thoughts on CIS-R. \n",
    "- Higher scores indicate higher levels of depressive thoughts. There were scored following: +1 if feelings of needless guilt, +1 if feelings of low self-esteem, +1 if feelings of hopelessness, +1 if felt that life not worth living, +1 if thought seriously about suicide. See CIS-R Descriptive Summary for details.\n",
    "\n",
    "#### has_dep_diag : Child has ICD-10 diagnosis of depression\n",
    "- Calculated from their Revised Computerised Interview Schedule (CIS-R) score. See CIS-R Descriptive Summary for more information.\n",
    "\n",
    "#### prim_diag : Child's primary diagnosis in accordance with ICD-10 criteria.\n",
    "- Primary diagnosis was determined using the CIS-R. 0 = none, 1 = mild neurosis, 2 = mild GAD, 3 = OCD, 4 = mixed anxiety and depression, 5 = specific phobia, 6 = social phobia, 7 = agoraphobia, 8 = GAD, 9 = panic disorder, 10 = mild depression, 11 = moderate depression, 12 = severe depression\n",
    "\n",
    "#### secd_diag : Child's secondary diagnosis in accordance with ICD-10.\n",
    "- Secondary diagnosis was determined using the CIS-R. 0 = none, 1 = mild neurosis, 2 = mild GAD, 3 = OCD, 4 = mixed anxiety and depression, 5 = specific phobia, 6 = social phobia, 7 = agoraphobia, 8 = GAD, 9 = panic disorder, 10 = mild depression, 11 = moderate depression, 12 = severe depression"
   ]
  },
  {
   "cell_type": "markdown",
   "metadata": {},
   "source": [
    "### Extract only target values"
   ]
  },
  {
   "cell_type": "code",
   "execution_count": 4,
   "metadata": {},
   "outputs": [],
   "source": [
    "# 'targets' contains all target columns \n",
    "targets = data[['dep_score', 'dep_thoughts', 'has_dep_diag', 'prim_diag', 'secd_diag']]"
   ]
  },
  {
   "cell_type": "code",
   "execution_count": 5,
   "metadata": {},
   "outputs": [
    {
     "data": {
      "text/html": [
       "<div>\n",
       "<style scoped>\n",
       "    .dataframe tbody tr th:only-of-type {\n",
       "        vertical-align: middle;\n",
       "    }\n",
       "\n",
       "    .dataframe tbody tr th {\n",
       "        vertical-align: top;\n",
       "    }\n",
       "\n",
       "    .dataframe thead th {\n",
       "        text-align: right;\n",
       "    }\n",
       "</style>\n",
       "<table border=\"1\" class=\"dataframe\">\n",
       "  <thead>\n",
       "    <tr style=\"text-align: right;\">\n",
       "      <th></th>\n",
       "      <th>dep_score</th>\n",
       "      <th>dep_thoughts</th>\n",
       "      <th>has_dep_diag</th>\n",
       "      <th>prim_diag</th>\n",
       "      <th>secd_diag</th>\n",
       "    </tr>\n",
       "  </thead>\n",
       "  <tbody>\n",
       "    <tr>\n",
       "      <th>0</th>\n",
       "      <td>0.0</td>\n",
       "      <td>NaN</td>\n",
       "      <td>No ICD-10 diagnosis of depression</td>\n",
       "      <td>0.0</td>\n",
       "      <td>0.0</td>\n",
       "    </tr>\n",
       "    <tr>\n",
       "      <th>1</th>\n",
       "      <td>NaN</td>\n",
       "      <td>NaN</td>\n",
       "      <td>NaN</td>\n",
       "      <td>NaN</td>\n",
       "      <td>NaN</td>\n",
       "    </tr>\n",
       "    <tr>\n",
       "      <th>2</th>\n",
       "      <td>NaN</td>\n",
       "      <td>NaN</td>\n",
       "      <td>NaN</td>\n",
       "      <td>NaN</td>\n",
       "      <td>NaN</td>\n",
       "    </tr>\n",
       "    <tr>\n",
       "      <th>3</th>\n",
       "      <td>NaN</td>\n",
       "      <td>NaN</td>\n",
       "      <td>NaN</td>\n",
       "      <td>NaN</td>\n",
       "      <td>NaN</td>\n",
       "    </tr>\n",
       "    <tr>\n",
       "      <th>4</th>\n",
       "      <td>NaN</td>\n",
       "      <td>NaN</td>\n",
       "      <td>NaN</td>\n",
       "      <td>NaN</td>\n",
       "      <td>NaN</td>\n",
       "    </tr>\n",
       "    <tr>\n",
       "      <th>...</th>\n",
       "      <td>...</td>\n",
       "      <td>...</td>\n",
       "      <td>...</td>\n",
       "      <td>...</td>\n",
       "      <td>...</td>\n",
       "    </tr>\n",
       "    <tr>\n",
       "      <th>13729</th>\n",
       "      <td>NaN</td>\n",
       "      <td>NaN</td>\n",
       "      <td>NaN</td>\n",
       "      <td>NaN</td>\n",
       "      <td>NaN</td>\n",
       "    </tr>\n",
       "    <tr>\n",
       "      <th>13730</th>\n",
       "      <td>NaN</td>\n",
       "      <td>NaN</td>\n",
       "      <td>NaN</td>\n",
       "      <td>NaN</td>\n",
       "      <td>NaN</td>\n",
       "    </tr>\n",
       "    <tr>\n",
       "      <th>13731</th>\n",
       "      <td>NaN</td>\n",
       "      <td>NaN</td>\n",
       "      <td>NaN</td>\n",
       "      <td>NaN</td>\n",
       "      <td>NaN</td>\n",
       "    </tr>\n",
       "    <tr>\n",
       "      <th>13732</th>\n",
       "      <td>0.0</td>\n",
       "      <td>NaN</td>\n",
       "      <td>No ICD-10 diagnosis of depression</td>\n",
       "      <td>0.0</td>\n",
       "      <td>0.0</td>\n",
       "    </tr>\n",
       "    <tr>\n",
       "      <th>13733</th>\n",
       "      <td>NaN</td>\n",
       "      <td>NaN</td>\n",
       "      <td>NaN</td>\n",
       "      <td>NaN</td>\n",
       "      <td>NaN</td>\n",
       "    </tr>\n",
       "  </tbody>\n",
       "</table>\n",
       "<p>13734 rows × 5 columns</p>\n",
       "</div>"
      ],
      "text/plain": [
       "       dep_score  dep_thoughts                        has_dep_diag  prim_diag  \\\n",
       "0            0.0           NaN   No ICD-10 diagnosis of depression        0.0   \n",
       "1            NaN           NaN                                 NaN        NaN   \n",
       "2            NaN           NaN                                 NaN        NaN   \n",
       "3            NaN           NaN                                 NaN        NaN   \n",
       "4            NaN           NaN                                 NaN        NaN   \n",
       "...          ...           ...                                 ...        ...   \n",
       "13729        NaN           NaN                                 NaN        NaN   \n",
       "13730        NaN           NaN                                 NaN        NaN   \n",
       "13731        NaN           NaN                                 NaN        NaN   \n",
       "13732        0.0           NaN   No ICD-10 diagnosis of depression        0.0   \n",
       "13733        NaN           NaN                                 NaN        NaN   \n",
       "\n",
       "       secd_diag  \n",
       "0            0.0  \n",
       "1            NaN  \n",
       "2            NaN  \n",
       "3            NaN  \n",
       "4            NaN  \n",
       "...          ...  \n",
       "13729        NaN  \n",
       "13730        NaN  \n",
       "13731        NaN  \n",
       "13732        0.0  \n",
       "13733        NaN  \n",
       "\n",
       "[13734 rows x 5 columns]"
      ]
     },
     "execution_count": 5,
     "metadata": {},
     "output_type": "execute_result"
    }
   ],
   "source": [
    "targets"
   ]
  },
  {
   "cell_type": "code",
   "execution_count": 6,
   "metadata": {},
   "outputs": [],
   "source": [
    "targets_dep_score    = targets[['dep_score']]\n",
    "targets_dep_thoughts = targets[['dep_thoughts']]\n",
    "targets_has_dep_diag = targets[['has_dep_diag']]\n",
    "targets_prim_diag    = targets[['prim_diag']]\n",
    "targets_secd_diag    = targets[['secd_diag']]"
   ]
  },
  {
   "cell_type": "code",
   "execution_count": 7,
   "metadata": {},
   "outputs": [],
   "source": [
    "# drop all NaN values\n",
    "targets_dep_score = targets_dep_score.dropna()\n",
    "targets_dep_thoughts = targets_dep_thoughts.dropna()\n",
    "targets_has_dep_diag = targets_has_dep_diag.dropna()\n",
    "targets_prim_diag = targets_prim_diag.dropna()\n",
    "targets_secd_diag = targets_secd_diag.dropna()"
   ]
  },
  {
   "cell_type": "code",
   "execution_count": 8,
   "metadata": {},
   "outputs": [],
   "source": [
    "targets_dep_score.reset_index(drop=True, inplace=True)\n",
    "targets_dep_thoughts.reset_index(drop=True, inplace=True)\n",
    "targets_has_dep_diag.reset_index(drop=True, inplace=True)\n",
    "targets_prim_diag.reset_index(drop=True, inplace=True)\n",
    "targets_secd_diag.reset_index(drop=True, inplace=True)"
   ]
  },
  {
   "cell_type": "code",
   "execution_count": 9,
   "metadata": {},
   "outputs": [
    {
     "name": "stdout",
     "output_type": "stream",
     "text": [
      "4513\n",
      "1805\n",
      "4513\n",
      "4513\n",
      "4513\n"
     ]
    }
   ],
   "source": [
    "print(targets_dep_score.shape[0])\n",
    "print(targets_dep_thoughts.shape[0])\n",
    "print(targets_has_dep_diag.shape[0])\n",
    "print(targets_prim_diag.shape[0])\n",
    "print(targets_secd_diag.shape[0])"
   ]
  },
  {
   "cell_type": "markdown",
   "metadata": {},
   "source": [
    "### Visualisation: dep_score"
   ]
  },
  {
   "cell_type": "code",
   "execution_count": 10,
   "metadata": {},
   "outputs": [
    {
     "data": {
      "image/png": "[encoded data removed]",
      "text/plain": [
       "<Figure size 432x288 with 1 Axes>"
      ]
     },
     "metadata": {
      "needs_background": "light"
     },
     "output_type": "display_data"
    },
    {
     "data": {
      "image/png": "[encoded data removed]",
      "text/plain": [
       "<Figure size 504x504 with 1 Axes>"
      ]
     },
     "metadata": {
      "needs_background": "light"
     },
     "output_type": "display_data"
    }
   ],
   "source": [
    "plt.scatter(np.linspace(0, targets_dep_score.shape[0]-1, targets_dep_score.shape[0]), targets_dep_score['dep_score'])\n",
    "plt.title('dep_score distribution')\n",
    "plt.show()\n",
    "\n",
    "# another way\n",
    "# targets_dep_score.loc[targets_dep_score.dep_score == 0.0, 'dep_score'].count()\n",
    "score0 = (targets_dep_score.dep_score == 0.0).sum()\n",
    "score1 = (targets_dep_score.dep_score == 1.0).sum()\n",
    "score2 = (targets_dep_score.dep_score == 2.0).sum()\n",
    "score3 = (targets_dep_score.dep_score == 3.0).sum()\n",
    "score4 = (targets_dep_score.dep_score == 4.0).sum()\n",
    "\n",
    "fig, ax = plt.subplots(figsize=(7,7))\n",
    "\n",
    "for i,j in zip([0,1,2,3,4], [score0, score1, score2, score3, score4]):\n",
    "    ax.annotate(str(round(j, 2)),xy=(i,j))\n",
    "    \n",
    "ax.scatter([0,1,2,3,4], [score0, score1, score2, score3, score4], label='dep_score', marker='o', c='red')\n",
    "ax.set_title('dep_score')\n",
    "ax.set_xlabel('score')\n",
    "ax.set_ylabel('count')\n",
    "ax.grid()\n",
    "\n",
    "assert targets_dep_score.shape[0] == np.sum([score0, score1, score2, score3, score4])"
   ]
  },
  {
   "cell_type": "code",
   "execution_count": 11,
   "metadata": {},
   "outputs": [
    {
     "name": "stdout",
     "output_type": "stream",
     "text": [
      "dep_score_mean:  0.43762463992909373\n",
      "dep_score_median:  0.0\n",
      "dep_score_standard_deviation:  0.9280200501145589\n"
     ]
    }
   ],
   "source": [
    "# This data would be meaningless but added to see the trend\n",
    "np_dep_score = targets_dep_score['dep_score']\n",
    "\n",
    "dep_score_mean = np.mean(np_dep_score)\n",
    "dep_score_median = np.median(np_dep_score)\n",
    "dep_score_sd = np.std(np_dep_score)\n",
    "print(\"dep_score_mean: \", dep_score_mean)\n",
    "print(\"dep_score_median: \", dep_score_median)\n",
    "print(\"dep_score_standard_deviation: \", dep_score_sd)"
   ]
  },
  {
   "cell_type": "markdown",
   "metadata": {},
   "source": [
    "### Visualisation: dep_thoughts"
   ]
  },
  {
   "cell_type": "code",
   "execution_count": 12,
   "metadata": {},
   "outputs": [
    {
     "data": {
      "image/png": "[encoded data removed]",
      "text/plain": [
       "<Figure size 432x288 with 1 Axes>"
      ]
     },
     "metadata": {
      "needs_background": "light"
     },
     "output_type": "display_data"
    },
    {
     "data": {
      "image/png": "[encoded data removed]",
      "text/plain": [
       "<Figure size 504x504 with 1 Axes>"
      ]
     },
     "metadata": {
      "needs_background": "light"
     },
     "output_type": "display_data"
    }
   ],
   "source": [
    "# modify here\n",
    "plt.scatter(np.linspace(0, targets_dep_thoughts.shape[0]-1, targets_dep_thoughts.shape[0]), targets_dep_thoughts['dep_thoughts'])\n",
    "# modify here\n",
    "plt.title('dep_thoughts distribution')\n",
    "plt.show()\n",
    "\n",
    "# another way\n",
    "# targets_dep_score.loc[targets_dep_score.dep_score == 0.0, 'dep_score'].count()\n",
    "\n",
    "# modify here\n",
    "score0 = (targets_dep_thoughts.dep_thoughts == 0.0).sum()\n",
    "score1 = (targets_dep_thoughts.dep_thoughts == 1.0).sum()\n",
    "score2 = (targets_dep_thoughts.dep_thoughts == 2.0).sum()\n",
    "score3 = (targets_dep_thoughts.dep_thoughts == 3.0).sum()\n",
    "score4 = (targets_dep_thoughts.dep_thoughts == 4.0).sum()\n",
    "score5 = (targets_dep_thoughts.dep_thoughts == 5.0).sum()\n",
    "\n",
    "fig, ax = plt.subplots(figsize=(7,7))\n",
    "\n",
    "# modify here\n",
    "for i,j in zip([0,1,2,3,4,5], [score0, score1, score2, score3, score4, score5]):\n",
    "    ax.annotate(str(round(j, 2)),xy=(i,j))\n",
    "\n",
    "# modify here\n",
    "ax.scatter([0,1,2,3,4,5], [score0, score1, score2, score3, score4, score5], label='dep_thoughts', marker='o', c='red')\n",
    "ax.set_title('dep_thoughts')\n",
    "ax.set_xlabel('score')\n",
    "ax.set_ylabel('count')\n",
    "ax.grid()\n",
    "\n",
    "# modify here\n",
    "assert targets_dep_thoughts.shape[0] == np.sum([score0, score1, score2, score3, score4, score5])"
   ]
  },
  {
   "cell_type": "code",
   "execution_count": 13,
   "metadata": {},
   "outputs": [
    {
     "name": "stdout",
     "output_type": "stream",
     "text": [
      "dep_score_mean:  1.932409972299169\n",
      "dep_score_median:  1.0\n",
      "dep_thoughts_sd:  1.326849102597559\n"
     ]
    }
   ],
   "source": [
    "np_dep_thoughts = targets_dep_thoughts['dep_thoughts']\n",
    "\n",
    "dep_thoughts_mean = np.mean(np_dep_thoughts)\n",
    "dep_thoughts_median = np.median(np_dep_thoughts)\n",
    "dep_thoughts_sd = np.std(np_dep_thoughts)\n",
    "print(\"dep_score_mean: \", dep_thoughts_mean)\n",
    "print(\"dep_score_median: \", dep_thoughts_median)\n",
    "print(\"dep_thoughts_sd: \", dep_thoughts_sd)"
   ]
  },
  {
   "cell_type": "markdown",
   "metadata": {},
   "source": [
    "### Visualisation: has_dep_diag"
   ]
  },
  {
   "cell_type": "code",
   "execution_count": 14,
   "metadata": {},
   "outputs": [
    {
     "data": {
      "image/png": "[encoded data removed]",
      "text/plain": [
       "<Figure size 432x288 with 1 Axes>"
      ]
     },
     "metadata": {
      "needs_background": "light"
     },
     "output_type": "display_data"
    },
    {
     "data": {
      "image/png": "[encoded data removed]",
      "text/plain": [
       "<Figure size 504x504 with 1 Axes>"
      ]
     },
     "metadata": {
      "needs_background": "light"
     },
     "output_type": "display_data"
    }
   ],
   "source": [
    "# modify here\n",
    "plt.scatter(np.linspace(0, targets_has_dep_diag.shape[0]-1, targets_has_dep_diag.shape[0]), targets_has_dep_diag['has_dep_diag'])\n",
    "# modify here\n",
    "plt.title('has_dep_diag distribution')\n",
    "plt.show()\n",
    "\n",
    "# another way\n",
    "# targets_dep_score.loc[targets_dep_score.dep_score == 0.0, 'dep_score'].count()\n",
    "\n",
    "# modify here\n",
    "score0 = (targets_has_dep_diag.has_dep_diag == ' No ICD-10 diagnosis of depression').sum()\n",
    "score1 = (targets_has_dep_diag.has_dep_diag == 'Yes ICD-10 diagnosis of depression').sum()\n",
    "\n",
    "fig, ax = plt.subplots(figsize=(7,7))\n",
    "\n",
    "# modify here\n",
    "for i,j in zip([0,1], [score0, score1]):\n",
    "    ax.annotate(str(round(j, 2)),xy=(i,j))\n",
    "\n",
    "# modify here\n",
    "ax.scatter([0,1], [score0, score1], label='has_dep_diag', marker='o', c='red')\n",
    "ax.set_title('has_dep_diag')\n",
    "ax.set_xlabel('score')\n",
    "ax.set_ylabel('count')\n",
    "ax.grid()\n",
    "\n",
    "# modify here\n",
    "assert targets_has_dep_diag.shape[0] == np.sum([score0, score1])"
   ]
  },
  {
   "cell_type": "markdown",
   "metadata": {},
   "source": [
    "### Visualisation: targets_prim_diag"
   ]
  },
  {
   "cell_type": "code",
   "execution_count": 15,
   "metadata": {},
   "outputs": [
    {
     "data": {
      "image/png": "[encoded data removed]",
      "text/plain": [
       "<Figure size 432x288 with 1 Axes>"
      ]
     },
     "metadata": {
      "needs_background": "light"
     },
     "output_type": "display_data"
    },
    {
     "data": {
      "image/png": "[encoded data removed]",
      "text/plain": [
       "<Figure size 504x504 with 1 Axes>"
      ]
     },
     "metadata": {
      "needs_background": "light"
     },
     "output_type": "display_data"
    }
   ],
   "source": [
    "# modify here\n",
    "plt.scatter(np.linspace(0, targets_prim_diag.shape[0]-1, targets_prim_diag.shape[0]), targets_prim_diag['prim_diag'])\n",
    "# modify here\n",
    "plt.title('prim_diag distribution')\n",
    "plt.show()\n",
    "\n",
    "# another way\n",
    "# targets_dep_score.loc[targets_dep_score.dep_score == 0.0, 'dep_score'].count()\n",
    "\n",
    "# modify here\n",
    "score0  = (targets_prim_diag.prim_diag == 0).sum()\n",
    "score1  = (targets_prim_diag.prim_diag == 1).sum()\n",
    "score2  = (targets_prim_diag.prim_diag == 2).sum()\n",
    "score3  = (targets_prim_diag.prim_diag == 3).sum()\n",
    "score4  = (targets_prim_diag.prim_diag == 4).sum()\n",
    "score5  = (targets_prim_diag.prim_diag == 5).sum()\n",
    "score6  = (targets_prim_diag.prim_diag == 6).sum()\n",
    "score7  = (targets_prim_diag.prim_diag == 7).sum()\n",
    "score8  = (targets_prim_diag.prim_diag == 8).sum()\n",
    "score9  = (targets_prim_diag.prim_diag == 9).sum()\n",
    "score10 = (targets_prim_diag.prim_diag == 10).sum()\n",
    "score11 = (targets_prim_diag.prim_diag == 11).sum()\n",
    "score12 = (targets_prim_diag.prim_diag == 12).sum()\n",
    "\n",
    "fig, ax = plt.subplots(figsize=(7,7))\n",
    "\n",
    "# modify here\n",
    "for i,j in zip([0,1,2,3,4,5,6,7,8,9,10,11,12], [score0, score1, score2, score3, score4, score5, score6, score7, score8, score9, score10, score11, score12]):\n",
    "    ax.annotate(str(round(j, 2)),xy=(i,j))\n",
    "\n",
    "# modify here\n",
    "ax.scatter([0,1,2,3,4,5,6,7,8,9,10,11,12], [score0, score1, score2, score3, score4, score5, score6, score7, score8, score9, score10, score11, score12], label='prim_diag', marker='o', c='red')\n",
    "ax.set_title('prim_diag')\n",
    "ax.set_xlabel('score')\n",
    "ax.set_ylabel('count')\n",
    "ax.grid()\n",
    "\n",
    "# modify here\n",
    "assert targets_prim_diag.shape[0] == np.sum([score0, score1, score2, score3, score4, score5, score6, score7, score8, score9, score10, score11, score12])"
   ]
  },
  {
   "cell_type": "code",
   "execution_count": 16,
   "metadata": {},
   "outputs": [
    {
     "name": "stdout",
     "output_type": "stream",
     "text": [
      "prim_diag_mean:  1.3015732328827831\n",
      "prim_diag_median:  0.0\n",
      "prim_diag_sd:  3.19998057100116\n"
     ]
    }
   ],
   "source": [
    "np_prim_diag = targets_prim_diag['prim_diag']\n",
    "\n",
    "prim_diag_mean = np.mean(np_prim_diag)\n",
    "prim_diag_median = np.median(np_prim_diag)\n",
    "prim_diag_sd = np.std(np_prim_diag)\n",
    "print(\"prim_diag_mean: \", prim_diag_mean)\n",
    "print(\"prim_diag_median: \", prim_diag_median)\n",
    "print(\"prim_diag_sd: \", prim_diag_sd)"
   ]
  },
  {
   "cell_type": "markdown",
   "metadata": {},
   "source": [
    "### Visualisation: targets_secd_diag"
   ]
  },
  {
   "cell_type": "code",
   "execution_count": 17,
   "metadata": {},
   "outputs": [
    {
     "data": {
      "image/png": "[encoded data removed]",
      "text/plain": [
       "<Figure size 432x288 with 1 Axes>"
      ]
     },
     "metadata": {
      "needs_background": "light"
     },
     "output_type": "display_data"
    },
    {
     "data": {
      "image/png": "[encoded data removed]",
      "text/plain": [
       "<Figure size 504x504 with 1 Axes>"
      ]
     },
     "metadata": {
      "needs_background": "light"
     },
     "output_type": "display_data"
    }
   ],
   "source": [
    "# modify here\n",
    "plt.scatter(np.linspace(0, targets_secd_diag.shape[0]-1, targets_secd_diag.shape[0]), targets_secd_diag['secd_diag'])\n",
    "# modify here\n",
    "plt.title('secd_diag distribution')\n",
    "plt.show()\n",
    "\n",
    "# another way\n",
    "# targets_dep_score.loc[targets_dep_score.dep_score == 0.0, 'dep_score'].count()\n",
    "\n",
    "# modify here\n",
    "score0  = (targets_secd_diag.secd_diag == 0).sum()\n",
    "score1  = (targets_secd_diag.secd_diag == 1).sum()\n",
    "score2  = (targets_secd_diag.secd_diag == 2).sum()\n",
    "score3  = (targets_secd_diag.secd_diag == 3).sum()\n",
    "score4  = (targets_secd_diag.secd_diag == 4).sum()\n",
    "score5  = (targets_secd_diag.secd_diag == 5).sum()\n",
    "score6  = (targets_secd_diag.secd_diag == 6).sum()\n",
    "score7  = (targets_secd_diag.secd_diag == 7).sum()\n",
    "score8  = (targets_secd_diag.secd_diag == 8).sum()\n",
    "score9  = (targets_secd_diag.secd_diag == 9).sum()\n",
    "\n",
    "fig, ax = plt.subplots(figsize=(7,7))\n",
    "\n",
    "# modify here\n",
    "for i,j in zip([0,1,2,3,4,5,6,7,8,9], [score0, score1, score2, score3, score4, score5, score6, score7, score8, score9]):\n",
    "    ax.annotate(str(round(j, 2)),xy=(i,j))\n",
    "\n",
    "# modify here\n",
    "ax.scatter([0,1,2,3,4,5,6,7,8,9], [score0, score1, score2, score3, score4, score5, score6, score7, score8, score9], label='secd_diag', marker='o', c='red')\n",
    "ax.set_title('secd_diag')\n",
    "ax.set_xlabel('score')\n",
    "ax.set_ylabel('count')\n",
    "ax.grid()\n",
    "\n",
    "# modify here\n",
    "assert targets_secd_diag.shape[0] == np.sum([score0, score1, score2, score3, score4, score5, score6, score7, score8, score9])"
   ]
  },
  {
   "cell_type": "code",
   "execution_count": 18,
   "metadata": {},
   "outputs": [
    {
     "name": "stdout",
     "output_type": "stream",
     "text": [
      "dep_score_mean:  0.417682251274097\n",
      "dep_score_median:  0.0\n",
      "sd of secd_diag:  1.514511309357139\n"
     ]
    }
   ],
   "source": [
    "np_secd_diag = targets_secd_diag['secd_diag']\n",
    "\n",
    "secd_diag_mean = np.mean(np_secd_diag)\n",
    "secd_diag_median = np.median(np_secd_diag)\n",
    "secd_diag_sd = np.std(np_secd_diag)\n",
    "print(\"dep_score_mean: \", secd_diag_mean)\n",
    "print(\"dep_score_median: \", secd_diag_median)\n",
    "print(\"sd of secd_diag: \", secd_diag_sd)"
   ]
  },
  {
   "cell_type": "code",
   "execution_count": 19,
   "metadata": {},
   "outputs": [],
   "source": [
    "from sklearn.linear_model import LinearRegression\n",
    "from sklearn.preprocessing import OneHotEncoder\n",
    "\n",
    "enc = OneHotEncoder()\n",
    "reg = LinearRegression()"
   ]
  },
  {
   "cell_type": "code",
   "execution_count": 20,
   "metadata": {},
   "outputs": [],
   "source": [
    "# X contains the data that are not the targets\n",
    "X = data.drop(['dep_score', 'dep_thoughts', 'has_dep_diag', 'prim_diag', 'secd_diag'], axis=1)"
   ]
  },
  {
   "cell_type": "code",
   "execution_count": 56,
   "metadata": {},
   "outputs": [],
   "source": [
    "X.dtypes\n",
    "\n",
    "# for purpose of testing, only using columns with a numerical datatype since OneHotEncoder is not working for me\n",
    "\n",
    "X_drop = X[['height_16','panic_score','weight_16']]\n",
    "height_16 = X_drop['height_16'].dropna()\n",
    "panic_score = X_drop['panic_score'].dropna()\n",
    "weight_16 = X_drop['weight_16'].dropna()\n",
    "\n",
    "height_16.reset_index(drop=True, inplace=True)\n",
    "panic_score.reset_index(drop=True, inplace=True)\n",
    "weight_16.reset_index(drop=True, inplace=True)\n",
    "\n",
    "# dropping non float columns and columns with less than 4513 entries \n",
    "X_train = pd.DataFrame(np.column_stack([height_16[:4513], panic_score, weight_16[:4513]]), columns=['height_16','panic_score','weight_16'])\n",
    "Y_train = pd.DataFrame(np.column_stack([targets_dep_score, targets_prim_diag, targets_secd_diag]), columns=['dep_score','prim_diag','secd_diag'])"
   ]
  },
  {
   "cell_type": "code",
   "execution_count": 57,
   "metadata": {},
   "outputs": [],
   "source": [
    "# columns = np.array([])\n",
    "\n",
    "# alon_week = X[\"alon_week\"]\n",
    "\n",
    "# alon_week = alon_week.dropna()\n",
    "# alon_week.reset_index(drop=True, inplace=True)"
   ]
  },
  {
   "cell_type": "code",
   "execution_count": 58,
   "metadata": {},
   "outputs": [],
   "source": [
    "# labels = np.column_stack((alon_week.unique().reshape(3,1), [1,2,3]))\n",
    "\n",
    "# alon_week = np.array([alon_week]).reshape(-1,1)\n",
    "\n",
    "# enc.fit(labels)\n",
    "# enc.fit(X)\n",
    "# xd = enc.transform(alon_week).toarray()"
   ]
  },
  {
   "cell_type": "code",
   "execution_count": 68,
   "metadata": {},
   "outputs": [
    {
     "data": {
      "text/plain": [
       "LinearRegression(copy_X=True, fit_intercept=True, n_jobs=None, normalize=False)"
      ]
     },
     "execution_count": 68,
     "metadata": {},
     "output_type": "execute_result"
    }
   ],
   "source": [
    "X_t = X_train[:100]\n",
    "Y_t = Y_train[:100]\n",
    "reg.fit(X_t,Y_t)"
   ]
  },
  {
   "cell_type": "code",
   "execution_count": 69,
   "metadata": {},
   "outputs": [],
   "source": [
    "X_test = X_train[100:]\n",
    "\n",
    "Y_real = Y_train[100:]\n",
    "Y_test = reg.predict(X_test)"
   ]
  },
  {
   "cell_type": "code",
   "execution_count": 108,
   "metadata": {},
   "outputs": [
    {
     "data": {
      "text/plain": [
       "Text(0, 0.5, 'count')"
      ]
     },
     "execution_count": 108,
     "metadata": {},
     "output_type": "execute_result"
    },
    {
     "data": {
      "image/png": "[encoded data removed]",
      "text/plain": [
       "<Figure size 504x504 with 1 Axes>"
      ]
     },
     "metadata": {
      "needs_background": "light"
     },
     "output_type": "display_data"
    }
   ],
   "source": [
    "fig, ax = plt.subplots(figsize=(7,7))\n",
    "\n",
    "# targets_dep_score.loc[targets_dep_score.dep_score == 0.0, 'dep_score'].count()\n",
    "t_score0 = len([round(x) for x in Y_test[:,0] if round(x) == 0.0])\n",
    "t_score1 = len([round(x) for x in Y_test[:,0] if round(x) == 1.0])\n",
    "t_score2 = len([round(x) for x in Y_test[:,0] if round(x) == 2.0])\n",
    "t_score3 = len([round(x) for x in Y_test[:,0] if round(x) == 3.0])\n",
    "t_score4 = len([round(x) for x in Y_test[:,0] if round(x) == 4.0])\n",
    "\n",
    "r_score0 = (Y_real.dep_score == 0.0).sum()\n",
    "r_score1 = (Y_real.dep_score == 1.0).sum()\n",
    "r_score2 = (Y_real.dep_score == 2.0).sum()\n",
    "r_score3 = (Y_real.dep_score == 3.0).sum()\n",
    "r_score4 = (Y_real.dep_score == 4.0).sum()\n",
    "\n",
    "for i,j in zip([0,1,2,3,4], [t_score0, t_score1, t_score2, t_score3, t_score4]):\n",
    "    ax.annotate(str(round(j, 2)),xy=(i,j))\n",
    "    \n",
    "for i,j in zip([0,1,2,3,4], [r_score0, r_score1, r_score2, r_score3, r_score4]):\n",
    "    ax.annotate(str(round(j, 2)),xy=(i,j))\n",
    "    \n",
    "ax.plot([0,1,2,3,4], [r_score0, r_score1, r_score2, r_score3, r_score4], label='dep_score_r', marker='o', c='red')\n",
    "ax.plot([0,1,2,3,4], [t_score0, t_score1, t_score2, t_score3, t_score4], label='dep_score_t', marker='o', c='blue')\n",
    "ax.set_title('dep_score')\n",
    "ax.set_xlabel('score')\n",
    "ax.set_ylabel('count')\n",
    "\n",
    "# ax.plot(np.linspace(0, Y_test.shape[0]-1, Y_test.shape[0]), Y_test[:,0])\n",
    "# ax.plot(np.linspace(0, Y_real.shape[0]-1, Y_real.shape[0]), Y_real['dep_score'])\n",
    "# ax.label = 'dep score'\n",
    "\n",
    "# ax.show"
   ]
  },
  {
   "cell_type": "code",
   "execution_count": null,
   "metadata": {},
   "outputs": [],
   "source": []
  }
 ],
 "metadata": {
  "kernelspec": {
   "display_name": "Python 3",
   "language": "python",
   "name": "python3"
  },
  "language_info": {
   "codemirror_mode": {
    "name": "ipython",
    "version": 3
   },
   "file_extension": ".py",
   "mimetype": "text/x-python",
   "name": "python",
   "nbconvert_exporter": "python",
   "pygments_lexer": "ipython3",
   "version": "3.8.5"
  }
 },
 "nbformat": 4,
 "nbformat_minor": 4
}
