{
 "cells": [
  {
   "cell_type": "code",
   "execution_count": 59,
   "metadata": {},
   "outputs": [],
   "source": [
    "from sklearn import datasets\n",
    "\n",
    "# How are we going to use evaluate the performance? \n",
    "# 1. accuracy\n",
    "from sklearn import metrics\n",
    "# 2. f1 score \n",
    "from sklearn.metrics import f1_score\n",
    "\n",
    "# Machine learning models \n",
    "\n",
    "# Linear Regression \n",
    "# url : https://scikit-learn.org/stable/modules/generated/sklearn.linear_model.LinearRegression.html\n",
    "from sklearn.linear_model import LinearRegression\n",
    "\n",
    "# SVM\n",
    "# url: https://scikit-learn.org/stable/modules/generated/sklearn.svm.SVC.html\n",
    "from sklearn import svm\n",
    "\n",
    "# KNN \n",
    "# url: https://scikit-learn.org/stable/modules/generated/sklearn.neighbors.KNeighborsClassifier.html\n",
    "from sklearn.neighbors import KNeighborsClassifier\n",
    "\n",
    "# Decision Tree\n",
    "# url: https://scikit-learn.org/stable/modules/generated/sklearn.tree.DecisionTreeClassifier.html\n",
    "from sklearn.tree import DecisionTreeClassifier\n",
    "\n",
    "# Random Forest \n",
    "# url: https://scikit-learn.org/stable/modules/generated/sklearn.ensemble.RandomForestClassifier.html\n",
    "from sklearn.ensemble import RandomForestClassifier\n",
    "\n",
    "# Logistic Classifier\n",
    "from sklearn.linear_model import LogisticRegression\n",
    "\n",
    "from sklearn.model_selection import RepeatedStratifiedKFold\n",
    "from sklearn.model_selection import GridSearchCV\n",
    "\n",
    "from sklearn.model_selection import learning_curve, RandomizedSearchCV, GridSearchCV\n",
    "from sklearn.model_selection import train_test_split, KFold\n",
    "from sklearn.datasets import make_classification\n",
    "from sklearn.pipeline import make_pipeline\n",
    "from sklearn.preprocessing import StandardScaler\n",
    "\n",
    "import numpy as np\n",
    "import matplotlib.pyplot as plt\n",
    "\n",
    "# PCA \n",
    "from sklearn.decomposition import PCA \n",
    "\n",
    "# Linear Regression\n",
    "from sklearn.model_selection import train_test_split\n",
    "from sklearn.linear_model import LinearRegression\n",
    "from sklearn.metrics import mean_squared_error, r2_score\n",
    "\n",
    "import pandas as pd\n",
    "import matplotlib.pyplot as plt\n",
    "import numpy as np\n",
    "\n",
    "import seaborn as sns\n",
    "\n",
    "from sklearn.model_selection import learning_curve\n",
    "\n",
    "from sklearn.metrics import classification_report"
   ]
  },
  {
   "cell_type": "markdown",
   "metadata": {},
   "source": [
    "# Preprocessing"
   ]
  },
  {
   "cell_type": "code",
   "execution_count": 60,
   "metadata": {},
   "outputs": [],
   "source": [
    "total_dep_score = pd.read_csv('../data/0&1/total_dep_score.csv')\n",
    "\n",
    "X_t = total_dep_score.copy()\n",
    "del X_t['dep_score']\n",
    "\n",
    "y_t = total_dep_score['dep_score']"
   ]
  },
  {
   "cell_type": "code",
   "execution_count": 61,
   "metadata": {},
   "outputs": [
    {
     "data": {
      "text/plain": [
       "0.0    2339\n",
       "1.0     704\n",
       "Name: dep_score, dtype: int64"
      ]
     },
     "execution_count": 61,
     "metadata": {},
     "output_type": "execute_result"
    }
   ],
   "source": [
    "y_t.value_counts() "
   ]
  },
  {
   "cell_type": "code",
   "execution_count": 62,
   "metadata": {},
   "outputs": [
    {
     "data": {
      "text/plain": [
       "0.7686493591850148"
      ]
     },
     "execution_count": 62,
     "metadata": {},
     "output_type": "execute_result"
    }
   ],
   "source": [
    "2339 / (2339 + 704) "
   ]
  },
  {
   "cell_type": "code",
   "execution_count": 63,
   "metadata": {},
   "outputs": [
    {
     "name": "stdout",
     "output_type": "stream",
     "text": [
      "      comp_week  comp_wend  text_week  text_wend  tv_week  tv_wend\n",
      "0             2          2          1          1        2        2\n",
      "1             2          1          1          1        2        3\n",
      "2             3          3          3          1        2        2\n",
      "3             1          2          1          1        1        2\n",
      "4             2          3          0          0        2        2\n",
      "...         ...        ...        ...        ...      ...      ...\n",
      "3038          3          3          2          2        2        3\n",
      "3039          2          3          1          1        1        2\n",
      "3040          0          0          0          0        2        0\n",
      "3041          2          3          1          1        1        2\n",
      "3042          1          2          2          2        0        1\n",
      "\n",
      "[3043 rows x 6 columns]\n",
      "0       0.0\n",
      "1       0.0\n",
      "2       0.0\n",
      "3       0.0\n",
      "4       0.0\n",
      "       ... \n",
      "3038    0.0\n",
      "3039    0.0\n",
      "3040    0.0\n",
      "3041    1.0\n",
      "3042    0.0\n",
      "Name: dep_score, Length: 3043, dtype: float64\n"
     ]
    }
   ],
   "source": [
    "print(X_t)\n",
    "print(y_t)"
   ]
  },
  {
   "cell_type": "code",
   "execution_count": 64,
   "metadata": {},
   "outputs": [],
   "source": [
    "sampled_dep_score = pd.read_csv('../data/0&1/sampled_dep_score.csv')\n",
    "\n",
    "X_s = sampled_dep_score.copy()\n",
    "del X_s['dep_score']\n",
    "\n",
    "y_s = sampled_dep_score['dep_score']"
   ]
  },
  {
   "cell_type": "code",
   "execution_count": 65,
   "metadata": {},
   "outputs": [
    {
     "data": {
      "text/plain": [
       "0.0    704\n",
       "1.0    704\n",
       "Name: dep_score, dtype: int64"
      ]
     },
     "execution_count": 65,
     "metadata": {},
     "output_type": "execute_result"
    }
   ],
   "source": [
    "y_s.value_counts()"
   ]
  },
  {
   "cell_type": "code",
   "execution_count": 66,
   "metadata": {},
   "outputs": [
    {
     "name": "stdout",
     "output_type": "stream",
     "text": [
      "      comp_week  comp_wend  text_week  text_wend  tv_week  tv_wend\n",
      "0             3          3          0          0        2        2\n",
      "1             1          2          1          1        3        2\n",
      "2             3          3          1          1        2        2\n",
      "3             2          2          1          1        2        2\n",
      "4             1          1          1          1        2        3\n",
      "...         ...        ...        ...        ...      ...      ...\n",
      "1403          2          3          3          3        3        3\n",
      "1404          3          2          2          2        1        1\n",
      "1405          1          3          2          3        2        2\n",
      "1406          2          3          1          1        2        2\n",
      "1407          3          2          1          1        2        2\n",
      "\n",
      "[1408 rows x 6 columns]\n",
      "0       0.0\n",
      "1       1.0\n",
      "2       1.0\n",
      "3       1.0\n",
      "4       1.0\n",
      "       ... \n",
      "1403    0.0\n",
      "1404    1.0\n",
      "1405    1.0\n",
      "1406    0.0\n",
      "1407    1.0\n",
      "Name: dep_score, Length: 1408, dtype: float64\n"
     ]
    }
   ],
   "source": [
    "print(X_s)\n",
    "print(y_s)"
   ]
  },
  {
   "cell_type": "code",
   "execution_count": 67,
   "metadata": {},
   "outputs": [],
   "source": [
    "folds = KFold(n_splits = 5, shuffle = True, random_state = 1)"
   ]
  },
  {
   "cell_type": "markdown",
   "metadata": {},
   "source": [
    "# 1. total"
   ]
  },
  {
   "cell_type": "code",
   "execution_count": 68,
   "metadata": {},
   "outputs": [],
   "source": [
    "X_train, X_test, y_train, y_test = train_test_split(X_t, y_t, test_size=0.3, random_state=1)  # 70% training and 30% test"
   ]
  },
  {
   "cell_type": "markdown",
   "metadata": {},
   "source": [
    "## SVM"
   ]
  },
  {
   "cell_type": "code",
   "execution_count": 69,
   "metadata": {},
   "outputs": [],
   "source": [
    "svm_hyper_params = [ \n",
    "                        {\n",
    "                        'gamma': np.logspace(-4, -1, 4),\n",
    "                        'C': np.logspace(-3, 1, 5),\n",
    "                        'kernel': ['linear', 'poly', 'rbf', 'sigmoid']\n",
    "                        }\n",
    "                    ]\n",
    "\n",
    "# specify model\n",
    "svm_model = svm.SVC(random_state=1)\n",
    "\n",
    "# set up GridSearchCV()\n",
    "svm_model_cv = GridSearchCV(estimator = svm_model, \n",
    "                            param_grid = svm_hyper_params, \n",
    "                            scoring= 'accuracy', \n",
    "                            cv = folds, \n",
    "                            verbose = 2,\n",
    "                            return_train_score=True,\n",
    "                            n_jobs=2)      "
   ]
  },
  {
   "cell_type": "code",
   "execution_count": 70,
   "metadata": {},
   "outputs": [
    {
     "name": "stdout",
     "output_type": "stream",
     "text": [
      "Fitting 5 folds for each of 80 candidates, totalling 400 fits\n",
      "best hyper parameters {'C': 0.001, 'gamma': 0.0001, 'kernel': 'linear'}\n"
     ]
    }
   ],
   "source": [
    "# fit the model\n",
    "svm_model_cv.fit(X_train, y_train)\n",
    "print(\"best hyper parameters\", svm_model_cv.best_params_)\n",
    "svm_y_pred = svm_model_cv.predict(X_test)"
   ]
  },
  {
   "cell_type": "code",
   "execution_count": 71,
   "metadata": {},
   "outputs": [
    {
     "name": "stdout",
     "output_type": "stream",
     "text": [
      "Accuracy: 0.7842278203723987\n",
      "F1 score micro: 0.7842278203723987\n",
      "F1 score binary: 0.0\n",
      "\n",
      "classification report:\n",
      "               precision    recall  f1-score   support\n",
      "\n",
      "         0.0       0.78      1.00      0.88       716\n",
      "         1.0       0.00      0.00      0.00       197\n",
      "\n",
      "    accuracy                           0.78       913\n",
      "   macro avg       0.39      0.50      0.44       913\n",
      "weighted avg       0.62      0.78      0.69       913\n",
      "\n"
     ]
    },
    {
     "name": "stderr",
     "output_type": "stream",
     "text": [
      "/home/jhpark/.local/lib/python3.8/site-packages/sklearn/metrics/_classification.py:1245: UndefinedMetricWarning: Precision and F-score are ill-defined and being set to 0.0 in labels with no predicted samples. Use `zero_division` parameter to control this behavior.\n",
      "  _warn_prf(average, modifier, msg_start, len(result))\n",
      "/home/jhpark/.local/lib/python3.8/site-packages/sklearn/metrics/_classification.py:1245: UndefinedMetricWarning: Precision and F-score are ill-defined and being set to 0.0 in labels with no predicted samples. Use `zero_division` parameter to control this behavior.\n",
      "  _warn_prf(average, modifier, msg_start, len(result))\n",
      "/home/jhpark/.local/lib/python3.8/site-packages/sklearn/metrics/_classification.py:1245: UndefinedMetricWarning: Precision and F-score are ill-defined and being set to 0.0 in labels with no predicted samples. Use `zero_division` parameter to control this behavior.\n",
      "  _warn_prf(average, modifier, msg_start, len(result))\n"
     ]
    }
   ],
   "source": [
    "# accuracy \n",
    "print(\"Accuracy:\", metrics.accuracy_score(y_test, svm_y_pred))\n",
    "# f1 score \n",
    "print(\"F1 score micro:\", f1_score(y_test, svm_y_pred, average='micro'))\n",
    "print(\"F1 score binary:\", f1_score(y_test, svm_y_pred, average='binary'))\n",
    "\n",
    "print(\"\\nclassification report:\\n\", classification_report(y_test, svm_y_pred))"
   ]
  },
  {
   "cell_type": "code",
   "execution_count": 72,
   "metadata": {},
   "outputs": [
    {
     "name": "stdout",
     "output_type": "stream",
     "text": [
      "[learning_curve] Training set sizes: [  17  204  391  579  766  954 1141 1329 1516 1704]\n"
     ]
    },
    {
     "name": "stderr",
     "output_type": "stream",
     "text": [
      "[Parallel(n_jobs=-1)]: Using backend LokyBackend with 4 concurrent workers.\n",
      "[Parallel(n_jobs=-1)]: Done  25 out of  50 | elapsed:    2.2s remaining:    2.2s\n",
      "[Parallel(n_jobs=-1)]: Done  50 out of  50 | elapsed:    3.0s finished\n"
     ]
    },
    {
     "data": {
      "image/png": "[encoded data removed]",
      "text/plain": [
       "<Figure size 432x288 with 1 Axes>"
      ]
     },
     "metadata": {
      "needs_background": "light"
     },
     "output_type": "display_data"
    }
   ],
   "source": [
    "# ------ HERE ------\n",
    "\n",
    "# plug in suitable hyper-parameters\n",
    "\n",
    "\n",
    "# 여기만 바꾸면 된다. \n",
    "plot_model = svm.SVC(kernel='linear', C=0.001, gamma=0.0001)\n",
    "\n",
    "\n",
    "train_sizes, train_scores, val_scores = learning_curve(plot_model, \n",
    "                                                       X_train, \n",
    "                                                       y_train, \n",
    "                                                       cv=5, \n",
    "                                                       scoring='accuracy', \n",
    "                                                       n_jobs=-1, # 이거 바꾸고 싶으면 바꾸고  \n",
    "                                                       train_sizes=np.linspace(0.01, 1, 10), \n",
    "                                                       verbose=2)\n",
    "# 여기만 바꾸면 된다. \n",
    "\n",
    "\n",
    "train_mean = np.mean(train_scores, axis = 1)\n",
    "train_std = np.std(train_scores, axis=1)\n",
    "val_mean = np.mean(val_scores, axis=1)\n",
    "val_std = np.std(val_scores, axis=1)\n",
    "\n",
    "plt.plot(train_sizes, train_mean, label='Training score')\n",
    "plt.plot(train_sizes, val_mean, label='Cross-validation score')\n",
    "plt.title('Learning curve')\n",
    "plt.xlabel('Training Size')\n",
    "plt.ylabel('Accuracy score')\n",
    "plt.legend(loc='best')\n",
    "plt.show()"
   ]
  },
  {
   "cell_type": "markdown",
   "metadata": {},
   "source": [
    "## Logistic Regression"
   ]
  },
  {
   "cell_type": "code",
   "execution_count": 73,
   "metadata": {},
   "outputs": [],
   "source": [
    "log_hyper_params = [ \n",
    "                        {\n",
    "                        'C': np.logspace(-4, 2, 7),\n",
    "                        'solver' : ['newton-cg', 'lbfgs', 'liblinear', 'sag', 'saga'],\n",
    "                        'penalty' : ['l1', 'l2', 'elasticnet', 'none'],\n",
    "                        'multi_class' : ['auto', 'ovr', 'multinomial']\n",
    "                        }\n",
    "                    ]\n",
    "\n",
    "# specify model\n",
    "log_model = LogisticRegression(random_state=1)\n",
    "\n",
    "# set up GridSearchCV()\n",
    "log_model_cv = GridSearchCV(estimator = log_model, \n",
    "                            param_grid = log_hyper_params, \n",
    "                            scoring= 'accuracy', \n",
    "                            cv = folds, \n",
    "                            verbose = 2,\n",
    "                            return_train_score=True,\n",
    "                            n_jobs=-1)      "
   ]
  },
  {
   "cell_type": "code",
   "execution_count": 74,
   "metadata": {},
   "outputs": [
    {
     "name": "stdout",
     "output_type": "stream",
     "text": [
      "Fitting 5 folds for each of 420 candidates, totalling 2100 fits\n",
      "best hyper parameters {'C': 0.0001, 'multi_class': 'auto', 'penalty': 'l1', 'solver': 'liblinear'}\n"
     ]
    },
    {
     "name": "stderr",
     "output_type": "stream",
     "text": [
      "/home/jhpark/.local/lib/python3.8/site-packages/sklearn/model_selection/_search.py:918: UserWarning: One or more of the test scores are non-finite: [       nan        nan 0.76197183        nan 0.76197183 0.76197183\n",
      " 0.76197183 0.76197183 0.76197183 0.76197183        nan        nan\n",
      "        nan        nan        nan 0.76197183 0.76197183        nan\n",
      " 0.76197183 0.76197183        nan        nan 0.76197183        nan\n",
      " 0.76197183 0.76197183 0.76197183 0.76197183 0.76197183 0.76197183\n",
      "        nan        nan        nan        nan        nan 0.76197183\n",
      " 0.76197183        nan 0.76197183 0.76197183        nan        nan\n",
      "        nan        nan 0.76197183 0.76197183 0.76197183        nan\n",
      " 0.76197183 0.76197183        nan        nan        nan        nan\n",
      "        nan 0.76197183 0.76197183        nan 0.76197183 0.76197183\n",
      "        nan        nan 0.76197183        nan 0.76197183 0.76197183\n",
      " 0.76197183 0.76197183 0.76197183 0.76197183        nan        nan\n",
      "        nan        nan        nan 0.76197183 0.76197183        nan\n",
      " 0.76197183 0.76197183        nan        nan 0.76197183        nan\n",
      " 0.76197183 0.76197183 0.76197183 0.76197183 0.76197183 0.76197183\n",
      "        nan        nan        nan        nan        nan 0.76197183\n",
      " 0.76197183        nan 0.76197183 0.76197183        nan        nan\n",
      "        nan        nan 0.76197183 0.76197183 0.76197183        nan\n",
      " 0.76197183 0.76197183        nan        nan        nan        nan\n",
      "        nan 0.76197183 0.76197183        nan 0.76197183 0.76197183\n",
      "        nan        nan 0.76197183        nan 0.76197183 0.76197183\n",
      " 0.76197183 0.76197183 0.76197183 0.76197183        nan        nan\n",
      "        nan        nan        nan 0.76197183 0.76197183        nan\n",
      " 0.76197183 0.76197183        nan        nan 0.76197183        nan\n",
      " 0.76197183 0.76197183 0.76197183 0.76197183 0.76197183 0.76197183\n",
      "        nan        nan        nan        nan        nan 0.76197183\n",
      " 0.76197183        nan 0.76197183 0.76197183        nan        nan\n",
      "        nan        nan 0.76197183 0.76197183 0.76197183        nan\n",
      " 0.76197183 0.76197183        nan        nan        nan        nan\n",
      "        nan 0.76197183 0.76197183        nan 0.76197183 0.76197183\n",
      "        nan        nan 0.76197183        nan 0.76197183 0.76197183\n",
      " 0.76197183 0.76197183 0.76197183 0.76197183        nan        nan\n",
      "        nan        nan        nan 0.76197183 0.76197183        nan\n",
      " 0.76197183 0.76197183        nan        nan 0.76197183        nan\n",
      " 0.76197183 0.76197183 0.76197183 0.76197183 0.76197183 0.76197183\n",
      "        nan        nan        nan        nan        nan 0.76197183\n",
      " 0.76197183        nan 0.76197183 0.76197183        nan        nan\n",
      "        nan        nan 0.76197183 0.76197183 0.76197183        nan\n",
      " 0.76197183 0.76197183        nan        nan        nan        nan\n",
      "        nan 0.76197183 0.76197183        nan 0.76197183 0.76197183\n",
      "        nan        nan 0.76197183        nan 0.76197183 0.76197183\n",
      " 0.76197183 0.76197183 0.76197183 0.76197183        nan        nan\n",
      "        nan        nan        nan 0.76197183 0.76197183        nan\n",
      " 0.76197183 0.76197183        nan        nan 0.76197183        nan\n",
      " 0.76197183 0.76197183 0.76197183 0.76197183 0.76197183 0.76197183\n",
      "        nan        nan        nan        nan        nan 0.76197183\n",
      " 0.76197183        nan 0.76197183 0.76197183        nan        nan\n",
      "        nan        nan 0.76197183 0.76197183 0.76197183        nan\n",
      " 0.76197183 0.76197183        nan        nan        nan        nan\n",
      "        nan 0.76197183 0.76197183        nan 0.76197183 0.76197183\n",
      "        nan        nan 0.76197183        nan 0.76197183 0.76197183\n",
      " 0.76197183 0.76197183 0.76197183 0.76197183        nan        nan\n",
      "        nan        nan        nan 0.76197183 0.76197183        nan\n",
      " 0.76197183 0.76197183        nan        nan 0.76197183        nan\n",
      " 0.76197183 0.76197183 0.76197183 0.76197183 0.76197183 0.76197183\n",
      "        nan        nan        nan        nan        nan 0.76197183\n",
      " 0.76197183        nan 0.76197183 0.76197183        nan        nan\n",
      "        nan        nan 0.76197183 0.76197183 0.76197183        nan\n",
      " 0.76197183 0.76197183        nan        nan        nan        nan\n",
      "        nan 0.76197183 0.76197183        nan 0.76197183 0.76197183\n",
      "        nan        nan 0.76197183        nan 0.76197183 0.76197183\n",
      " 0.76197183 0.76197183 0.76197183 0.76197183        nan        nan\n",
      "        nan        nan        nan 0.76197183 0.76197183        nan\n",
      " 0.76197183 0.76197183        nan        nan 0.76197183        nan\n",
      " 0.76197183 0.76197183 0.76197183 0.76197183 0.76197183 0.76197183\n",
      "        nan        nan        nan        nan        nan 0.76197183\n",
      " 0.76197183        nan 0.76197183 0.76197183        nan        nan\n",
      "        nan        nan 0.76197183 0.76197183 0.76197183        nan\n",
      " 0.76197183 0.76197183        nan        nan        nan        nan\n",
      "        nan 0.76197183 0.76197183        nan 0.76197183 0.76197183]\n",
      "  warnings.warn(\n",
      "/home/jhpark/.local/lib/python3.8/site-packages/sklearn/model_selection/_search.py:918: UserWarning: One or more of the train scores are non-finite: [       nan        nan 0.76197183        nan 0.76197183 0.76197183\n",
      " 0.76197183 0.76197183 0.76197183 0.76197183        nan        nan\n",
      "        nan        nan        nan 0.76197183 0.76197183        nan\n",
      " 0.76197183 0.76197183        nan        nan 0.76197183        nan\n",
      " 0.76197183 0.76197183 0.76197183 0.76197183 0.76197183 0.76197183\n",
      "        nan        nan        nan        nan        nan 0.76197183\n",
      " 0.76197183        nan 0.76197183 0.76197183        nan        nan\n",
      "        nan        nan 0.76197183 0.76197183 0.76197183        nan\n",
      " 0.76197183 0.76197183        nan        nan        nan        nan\n",
      "        nan 0.76197183 0.76197183        nan 0.76197183 0.76197183\n",
      "        nan        nan 0.76197183        nan 0.76197183 0.76197183\n",
      " 0.76197183 0.76197183 0.76197183 0.76197183        nan        nan\n",
      "        nan        nan        nan 0.76197183 0.76197183        nan\n",
      " 0.76197183 0.76197183        nan        nan 0.76197183        nan\n",
      " 0.76197183 0.76197183 0.76197183 0.76197183 0.76197183 0.76197183\n",
      "        nan        nan        nan        nan        nan 0.76197183\n",
      " 0.76197183        nan 0.76197183 0.76197183        nan        nan\n",
      "        nan        nan 0.76197183 0.76197183 0.76197183        nan\n",
      " 0.76197183 0.76197183        nan        nan        nan        nan\n",
      "        nan 0.76197183 0.76197183        nan 0.76197183 0.76197183\n",
      "        nan        nan 0.76197183        nan 0.76197183 0.76197183\n",
      " 0.76197183 0.76197183 0.76197183 0.76197183        nan        nan\n",
      "        nan        nan        nan 0.76197183 0.76197183        nan\n",
      " 0.76197183 0.76197183        nan        nan 0.76197183        nan\n",
      " 0.76197183 0.76197183 0.76197183 0.76197183 0.76197183 0.76197183\n",
      "        nan        nan        nan        nan        nan 0.76197183\n",
      " 0.76197183        nan 0.76197183 0.76197183        nan        nan\n",
      "        nan        nan 0.76197183 0.76197183 0.76197183        nan\n",
      " 0.76197183 0.76197183        nan        nan        nan        nan\n",
      "        nan 0.76197183 0.76197183        nan 0.76197183 0.76197183\n",
      "        nan        nan 0.76197183        nan 0.76197183 0.76197183\n",
      " 0.76197183 0.76197183 0.76197183 0.76197183        nan        nan\n",
      "        nan        nan        nan 0.76197183 0.76197183        nan\n",
      " 0.76197183 0.76197183        nan        nan 0.76197183        nan\n",
      " 0.76197183 0.76197183 0.76197183 0.76197183 0.76197183 0.76197183\n",
      "        nan        nan        nan        nan        nan 0.76197183\n",
      " 0.76197183        nan 0.76197183 0.76197183        nan        nan\n",
      "        nan        nan 0.76197183 0.76197183 0.76197183        nan\n",
      " 0.76197183 0.76197183        nan        nan        nan        nan\n",
      "        nan 0.76197183 0.76197183        nan 0.76197183 0.76197183\n",
      "        nan        nan 0.76197183        nan 0.76197183 0.76197183\n",
      " 0.76197183 0.76197183 0.76197183 0.76197183        nan        nan\n",
      "        nan        nan        nan 0.76197183 0.76197183        nan\n",
      " 0.76197183 0.76197183        nan        nan 0.76197183        nan\n",
      " 0.76197183 0.76197183 0.76197183 0.76197183 0.76197183 0.76197183\n",
      "        nan        nan        nan        nan        nan 0.76197183\n",
      " 0.76197183        nan 0.76197183 0.76197183        nan        nan\n",
      "        nan        nan 0.76197183 0.76197183 0.76197183        nan\n",
      " 0.76197183 0.76197183        nan        nan        nan        nan\n",
      "        nan 0.76197183 0.76197183        nan 0.76197183 0.76197183\n",
      "        nan        nan 0.76197183        nan 0.76197183 0.76197183\n",
      " 0.76197183 0.76197183 0.76197183 0.76197183        nan        nan\n",
      "        nan        nan        nan 0.76197183 0.76197183        nan\n",
      " 0.76197183 0.76197183        nan        nan 0.76197183        nan\n",
      " 0.76197183 0.76197183 0.76197183 0.76197183 0.76197183 0.76197183\n",
      "        nan        nan        nan        nan        nan 0.76197183\n",
      " 0.76197183        nan 0.76197183 0.76197183        nan        nan\n",
      "        nan        nan 0.76197183 0.76197183 0.76197183        nan\n",
      " 0.76197183 0.76197183        nan        nan        nan        nan\n",
      "        nan 0.76197183 0.76197183        nan 0.76197183 0.76197183\n",
      "        nan        nan 0.76197183        nan 0.76197183 0.76197183\n",
      " 0.76197183 0.76197183 0.76197183 0.76197183        nan        nan\n",
      "        nan        nan        nan 0.76197183 0.76197183        nan\n",
      " 0.76197183 0.76197183        nan        nan 0.76197183        nan\n",
      " 0.76197183 0.76197183 0.76197183 0.76197183 0.76197183 0.76197183\n",
      "        nan        nan        nan        nan        nan 0.76197183\n",
      " 0.76197183        nan 0.76197183 0.76197183        nan        nan\n",
      "        nan        nan 0.76197183 0.76197183 0.76197183        nan\n",
      " 0.76197183 0.76197183        nan        nan        nan        nan\n",
      "        nan 0.76197183 0.76197183        nan 0.76197183 0.76197183]\n",
      "  warnings.warn(\n"
     ]
    }
   ],
   "source": [
    "# fit the model\n",
    "log_model_cv.fit(X_train, y_train)\n",
    "print(\"best hyper parameters\", log_model_cv.best_params_)\n",
    "log_y_pred = log_model_cv.predict(X_test)"
   ]
  },
  {
   "cell_type": "code",
   "execution_count": 75,
   "metadata": {},
   "outputs": [
    {
     "name": "stdout",
     "output_type": "stream",
     "text": [
      "Accuracy: 0.7842278203723987\n",
      "F1 score micro: 0.7842278203723987\n",
      "F1 score binary: 0.0\n",
      "\n",
      "classification report:\n",
      "               precision    recall  f1-score   support\n",
      "\n",
      "         0.0       0.78      1.00      0.88       716\n",
      "         1.0       0.00      0.00      0.00       197\n",
      "\n",
      "    accuracy                           0.78       913\n",
      "   macro avg       0.39      0.50      0.44       913\n",
      "weighted avg       0.62      0.78      0.69       913\n",
      "\n"
     ]
    },
    {
     "name": "stderr",
     "output_type": "stream",
     "text": [
      "/home/jhpark/.local/lib/python3.8/site-packages/sklearn/metrics/_classification.py:1245: UndefinedMetricWarning: Precision and F-score are ill-defined and being set to 0.0 in labels with no predicted samples. Use `zero_division` parameter to control this behavior.\n",
      "  _warn_prf(average, modifier, msg_start, len(result))\n",
      "/home/jhpark/.local/lib/python3.8/site-packages/sklearn/metrics/_classification.py:1245: UndefinedMetricWarning: Precision and F-score are ill-defined and being set to 0.0 in labels with no predicted samples. Use `zero_division` parameter to control this behavior.\n",
      "  _warn_prf(average, modifier, msg_start, len(result))\n",
      "/home/jhpark/.local/lib/python3.8/site-packages/sklearn/metrics/_classification.py:1245: UndefinedMetricWarning: Precision and F-score are ill-defined and being set to 0.0 in labels with no predicted samples. Use `zero_division` parameter to control this behavior.\n",
      "  _warn_prf(average, modifier, msg_start, len(result))\n"
     ]
    }
   ],
   "source": [
    "# accuracy \n",
    "print(\"Accuracy:\", metrics.accuracy_score(y_test, log_y_pred))\n",
    "# f1 score \n",
    "print(\"F1 score micro:\", f1_score(y_test, log_y_pred, average='micro'))\n",
    "print(\"F1 score binary:\", f1_score(y_test, log_y_pred, average='binary'))\n",
    "\n",
    "print(\"\\nclassification report:\\n\", classification_report(y_test, log_y_pred))"
   ]
  },
  {
   "cell_type": "code",
   "execution_count": 76,
   "metadata": {},
   "outputs": [
    {
     "name": "stderr",
     "output_type": "stream",
     "text": [
      "[Parallel(n_jobs=-1)]: Using backend LokyBackend with 4 concurrent workers.\n"
     ]
    },
    {
     "name": "stdout",
     "output_type": "stream",
     "text": [
      "[learning_curve] Training set sizes: [  17  204  391  579  766  954 1141 1329 1516 1704]\n"
     ]
    },
    {
     "name": "stderr",
     "output_type": "stream",
     "text": [
      "[Parallel(n_jobs=-1)]: Done  25 out of  50 | elapsed:    0.2s remaining:    0.2s\n",
      "[Parallel(n_jobs=-1)]: Done  50 out of  50 | elapsed:    0.3s finished\n"
     ]
    },
    {
     "data": {
      "image/png": "[encoded data removed]",
      "text/plain": [
       "<Figure size 432x288 with 1 Axes>"
      ]
     },
     "metadata": {
      "needs_background": "light"
     },
     "output_type": "display_data"
    }
   ],
   "source": [
    "# ------ HERE ------\n",
    "\n",
    "# plug in suitable hyper-parameters\n",
    "\n",
    "\n",
    "# 여기만 바꾸면 된다. \n",
    "plot_model = LogisticRegression(C=0.0001, multi_class='auto', penalty='l1', solver='liblinear')\n",
    "\n",
    "\n",
    "train_sizes, train_scores, val_scores = learning_curve(plot_model, \n",
    "                                                       X_train, \n",
    "                                                       y_train, \n",
    "                                                       cv=5, \n",
    "                                                       scoring='accuracy', \n",
    "                                                       n_jobs=-1, # 이거 바꾸고 싶으면 바꾸고  \n",
    "                                                       train_sizes=np.linspace(0.01, 1, 10), \n",
    "                                                       verbose=2)\n",
    "# 여기만 바꾸면 된다. \n",
    "\n",
    "\n",
    "train_mean = np.mean(train_scores, axis = 1)\n",
    "train_std = np.std(train_scores, axis=1)\n",
    "val_mean = np.mean(val_scores, axis=1)\n",
    "val_std = np.std(val_scores, axis=1)\n",
    "\n",
    "plt.plot(train_sizes, train_mean, label='Training score')\n",
    "plt.plot(train_sizes, val_mean, label='Cross-validation score')\n",
    "plt.title('Learning curve')\n",
    "plt.xlabel('Training Size')\n",
    "plt.ylabel('Accuracy score')\n",
    "plt.legend(loc='best')\n",
    "plt.show()"
   ]
  },
  {
   "cell_type": "markdown",
   "metadata": {},
   "source": [
    "## KNN"
   ]
  },
  {
   "cell_type": "code",
   "execution_count": 77,
   "metadata": {},
   "outputs": [],
   "source": [
    "knn_hyper_params = [ \n",
    "                        {\n",
    "                        'weights' : ['uniform', 'distance'],\n",
    "                        'algorithm' : ['auto', 'ball_tree', 'kd_tree', 'brute'],\n",
    "                        'leaf_size' : np.linspace(2, 100, 10, dtype=int)\n",
    "                        }\n",
    "                    ]\n",
    "\n",
    "# specify model\n",
    "\n",
    "# THIS SECTION SHOULD BE CHANGED.\n",
    "# n_neighbors  SHOULD BE MODIFIED TO ANOTHER VALUE DEPENDING ON THE TARGET VALUE.\n",
    "knn_model = KNeighborsClassifier(n_neighbors=len(y_t.unique()))\n",
    "\n",
    "# set up GridSearchCV()\n",
    "knn_model_cv = GridSearchCV(estimator = knn_model, \n",
    "                            param_grid = knn_hyper_params, \n",
    "                            scoring= 'accuracy', \n",
    "                            cv = folds, \n",
    "                            verbose = 2,\n",
    "                            return_train_score=True,\n",
    "                            n_jobs=-1)      "
   ]
  },
  {
   "cell_type": "code",
   "execution_count": 78,
   "metadata": {},
   "outputs": [
    {
     "name": "stdout",
     "output_type": "stream",
     "text": [
      "Fitting 5 folds for each of 80 candidates, totalling 400 fits\n",
      "best hyper parameters {'algorithm': 'auto', 'leaf_size': 23, 'weights': 'uniform'}\n"
     ]
    }
   ],
   "source": [
    "# fit the model\n",
    "knn_model_cv.fit(X_train, y_train)\n",
    "print(\"best hyper parameters\", knn_model_cv.best_params_)\n",
    "knn_y_pred = knn_model_cv.predict(X_test)"
   ]
  },
  {
   "cell_type": "code",
   "execution_count": 79,
   "metadata": {},
   "outputs": [
    {
     "name": "stdout",
     "output_type": "stream",
     "text": [
      "Accuracy: 0.7546549835706462\n",
      "F1 score micro: 0.7546549835706462\n",
      "F1 score binary: 0.05882352941176471\n",
      "\n",
      "classification report:\n",
      "               precision    recall  f1-score   support\n",
      "\n",
      "         0.0       0.78      0.95      0.86       716\n",
      "         1.0       0.17      0.04      0.06       197\n",
      "\n",
      "    accuracy                           0.75       913\n",
      "   macro avg       0.48      0.49      0.46       913\n",
      "weighted avg       0.65      0.75      0.69       913\n",
      "\n"
     ]
    }
   ],
   "source": [
    "# accuracy \n",
    "print(\"Accuracy:\", metrics.accuracy_score(y_test, knn_y_pred))\n",
    "# f1 score \n",
    "print(\"F1 score micro:\", f1_score(y_test, knn_y_pred, average='micro'))\n",
    "print(\"F1 score binary:\", f1_score(y_test, knn_y_pred, average='binary'))\n",
    "\n",
    "print(\"\\nclassification report:\\n\", classification_report(y_test, knn_y_pred))"
   ]
  },
  {
   "cell_type": "code",
   "execution_count": 80,
   "metadata": {},
   "outputs": [
    {
     "name": "stdout",
     "output_type": "stream",
     "text": [
      "[learning_curve] Training set sizes: [  17  204  391  579  766  954 1141 1329 1516 1704]\n"
     ]
    },
    {
     "name": "stderr",
     "output_type": "stream",
     "text": [
      "[Parallel(n_jobs=-1)]: Using backend LokyBackend with 4 concurrent workers.\n",
      "[Parallel(n_jobs=-1)]: Done  25 out of  50 | elapsed:    1.1s remaining:    1.1s\n",
      "[Parallel(n_jobs=-1)]: Done  50 out of  50 | elapsed:    2.1s finished\n"
     ]
    },
    {
     "data": {
      "image/png": "[encoded data removed]",
      "text/plain": [
       "<Figure size 432x288 with 1 Axes>"
      ]
     },
     "metadata": {
      "needs_background": "light"
     },
     "output_type": "display_data"
    }
   ],
   "source": [
    "# ------ HERE ------\n",
    "\n",
    "# plug in suitable hyper-parameters\n",
    "\n",
    "\n",
    "# 여기만 바꾸면 된다. \n",
    "plot_model = KNeighborsClassifier(algorithm='auto', leaf_size=23, weights='uniform')\n",
    "\n",
    "\n",
    "train_sizes, train_scores, val_scores = learning_curve(plot_model, \n",
    "                                                       X_train, \n",
    "                                                       y_train, \n",
    "                                                       cv=5, \n",
    "                                                       scoring='accuracy', \n",
    "                                                       n_jobs=-1, # 이거 바꾸고 싶으면 바꾸고  \n",
    "                                                       train_sizes=np.linspace(0.01, 1, 10), \n",
    "                                                       verbose=2)\n",
    "# 여기만 바꾸면 된다. \n",
    "\n",
    "\n",
    "train_mean = np.mean(train_scores, axis = 1)\n",
    "train_std = np.std(train_scores, axis=1)\n",
    "val_mean = np.mean(val_scores, axis=1)\n",
    "val_std = np.std(val_scores, axis=1)\n",
    "\n",
    "plt.plot(train_sizes, train_mean, label='Training score')\n",
    "plt.plot(train_sizes, val_mean, label='Cross-validation score')\n",
    "plt.title('Learning curve')\n",
    "plt.xlabel('Training Size')\n",
    "plt.ylabel('Accuracy score')\n",
    "plt.legend(loc='best')\n",
    "plt.show()"
   ]
  },
  {
   "cell_type": "markdown",
   "metadata": {},
   "source": [
    "## Random Forest"
   ]
  },
  {
   "cell_type": "code",
   "execution_count": 81,
   "metadata": {},
   "outputs": [],
   "source": [
    "rf_hyper_params = [ \n",
    "                        {\n",
    "                            'n_estimators' : [int(x) for x in np.linspace(5, 50, 5)],\n",
    "                            'criterion' : ['gini', 'entropy'],\n",
    "                            'max_depth' : [int(x) for x in np.linspace(2, 50, 5)],\n",
    "                            'min_samples_split' : [int(x) for x in np.linspace(2, 50, 5)],\n",
    "                            'min_samples_leaf' : [int(x) for x in np.linspace(2, 50, 5)],\n",
    "                            'max_features' : ['auto', 'sqrt', 'log2'],\n",
    "                            'bootstrap' : [True, False]\n",
    "\n",
    "                        }\n",
    "                    ]\n",
    "\n",
    "# specify model\n",
    "\n",
    "# THIS SECTION SHOULD BE CHANGED.\n",
    "# n_neighbors  SHOULD BE MODIFIED TO ANOTHER VALUE DEPENDING ON THE TARGET VALUE.\n",
    "rf_model = RandomForestClassifier(random_state=1)\n",
    "\n",
    "# set up GridSearchCV()\n",
    "rf_model_cv = GridSearchCV(estimator = rf_model, \n",
    "                            param_grid = rf_hyper_params, \n",
    "                            scoring= 'accuracy', \n",
    "                            cv = folds, \n",
    "                            verbose = 2,\n",
    "                            return_train_score=True,\n",
    "                            n_jobs=-1)      "
   ]
  },
  {
   "cell_type": "code",
   "execution_count": 82,
   "metadata": {},
   "outputs": [
    {
     "name": "stdout",
     "output_type": "stream",
     "text": [
      "Fitting 5 folds for each of 7500 candidates, totalling 37500 fits\n",
      "best hyper parameters {'bootstrap': True, 'criterion': 'gini', 'max_depth': 26, 'max_features': 'auto', 'min_samples_leaf': 2, 'min_samples_split': 38, 'n_estimators': 27}\n"
     ]
    }
   ],
   "source": [
    "# fit the model\n",
    "rf_model_cv.fit(X_train, y_train)\n",
    "print(\"best hyper parameters\", rf_model_cv.best_params_)\n",
    "rf_y_pred = rf_model_cv.predict(X_test)"
   ]
  },
  {
   "cell_type": "code",
   "execution_count": 83,
   "metadata": {},
   "outputs": [
    {
     "name": "stdout",
     "output_type": "stream",
     "text": [
      "Accuracy: 0.7809419496166484\n",
      "F1 score micro: 0.7809419496166484\n",
      "F1 score binary: 0.0\n",
      "\n",
      "classification report:\n",
      "               precision    recall  f1-score   support\n",
      "\n",
      "         0.0       0.78      1.00      0.88       716\n",
      "         1.0       0.00      0.00      0.00       197\n",
      "\n",
      "    accuracy                           0.78       913\n",
      "   macro avg       0.39      0.50      0.44       913\n",
      "weighted avg       0.61      0.78      0.69       913\n",
      "\n"
     ]
    }
   ],
   "source": [
    "# accuracy \n",
    "print(\"Accuracy:\", metrics.accuracy_score(y_test, rf_y_pred))\n",
    "# f1 score \n",
    "print(\"F1 score micro:\", f1_score(y_test, rf_y_pred, average='micro'))\n",
    "print(\"F1 score binary:\", f1_score(y_test, rf_y_pred, average='binary'))\n",
    "\n",
    "print(\"\\nclassification report:\\n\", classification_report(y_test, rf_y_pred))"
   ]
  },
  {
   "cell_type": "code",
   "execution_count": 84,
   "metadata": {},
   "outputs": [
    {
     "name": "stdout",
     "output_type": "stream",
     "text": [
      "[learning_curve] Training set sizes: [  17  204  391  579  766  954 1141 1329 1516 1704]\n"
     ]
    },
    {
     "name": "stderr",
     "output_type": "stream",
     "text": [
      "[Parallel(n_jobs=-1)]: Using backend LokyBackend with 4 concurrent workers.\n",
      "[Parallel(n_jobs=-1)]: Done  25 out of  50 | elapsed:    0.9s remaining:    0.9s\n",
      "[Parallel(n_jobs=-1)]: Done  50 out of  50 | elapsed:    1.7s finished\n"
     ]
    },
    {
     "data": {
      "image/png": "[encoded data removed]",
      "text/plain": [
       "<Figure size 432x288 with 1 Axes>"
      ]
     },
     "metadata": {
      "needs_background": "light"
     },
     "output_type": "display_data"
    }
   ],
   "source": [
    "# ------ HERE ------\n",
    "\n",
    "# plug in suitable hyper-parameters\n",
    "\n",
    "\n",
    "# 여기만 바꾸면 된다. \n",
    "plot_model = RandomForestClassifier(bootstrap=True, criterion='gini', max_depth=26, max_features='auto', min_samples_leaf=2, min_samples_split=38, n_estimators=27)\n",
    "\n",
    "train_sizes, train_scores, val_scores = learning_curve(plot_model, \n",
    "                                                       X_train, \n",
    "                                                       y_train, \n",
    "                                                       cv=5, \n",
    "                                                       scoring='accuracy', \n",
    "                                                       n_jobs=-1, # 이거 바꾸고 싶으면 바꾸고  \n",
    "                                                       train_sizes=np.linspace(0.01, 1, 10), \n",
    "                                                       verbose=2)\n",
    "# 여기만 바꾸면 된다. \n",
    "\n",
    "\n",
    "train_mean = np.mean(train_scores, axis = 1)\n",
    "train_std = np.std(train_scores, axis=1)\n",
    "val_mean = np.mean(val_scores, axis=1)\n",
    "val_std = np.std(val_scores, axis=1)\n",
    "\n",
    "plt.plot(train_sizes, train_mean, label='Training score')\n",
    "plt.plot(train_sizes, val_mean, label='Cross-validation score')\n",
    "plt.title('Learning curve')\n",
    "plt.xlabel('Training Size')\n",
    "plt.ylabel('Accuracy score')\n",
    "plt.legend(loc='best')\n",
    "plt.show()"
   ]
  },
  {
   "cell_type": "markdown",
   "metadata": {},
   "source": [
    "# Total learning curve"
   ]
  },
  {
   "cell_type": "code",
   "execution_count": 86,
   "metadata": {},
   "outputs": [
    {
     "name": "stdout",
     "output_type": "stream",
     "text": [
      "[learning_curve] Training set sizes: [  17  204  391  579  766  954 1141 1329 1516 1704]\n"
     ]
    },
    {
     "name": "stderr",
     "output_type": "stream",
     "text": [
      "[Parallel(n_jobs=-1)]: Using backend LokyBackend with 4 concurrent workers.\n",
      "[Parallel(n_jobs=-1)]: Done  25 out of  50 | elapsed:    0.5s remaining:    0.5s\n",
      "[Parallel(n_jobs=-1)]: Done  50 out of  50 | elapsed:    0.9s finished\n",
      "[Parallel(n_jobs=-1)]: Using backend LokyBackend with 4 concurrent workers.\n",
      "[Parallel(n_jobs=-1)]: Done  25 out of  50 | elapsed:    0.1s remaining:    0.1s\n"
     ]
    },
    {
     "name": "stdout",
     "output_type": "stream",
     "text": [
      "[learning_curve] Training set sizes: [  17  204  391  579  766  954 1141 1329 1516 1704]\n"
     ]
    },
    {
     "name": "stderr",
     "output_type": "stream",
     "text": [
      "[Parallel(n_jobs=-1)]: Done  50 out of  50 | elapsed:    0.3s finished\n",
      "[Parallel(n_jobs=-1)]: Using backend LokyBackend with 4 concurrent workers.\n"
     ]
    },
    {
     "name": "stdout",
     "output_type": "stream",
     "text": [
      "[learning_curve] Training set sizes: [  17  204  391  579  766  954 1141 1329 1516 1704]\n"
     ]
    },
    {
     "name": "stderr",
     "output_type": "stream",
     "text": [
      "[Parallel(n_jobs=-1)]: Done  25 out of  50 | elapsed:    0.8s remaining:    0.8s\n",
      "[Parallel(n_jobs=-1)]: Done  50 out of  50 | elapsed:    1.7s finished\n",
      "[Parallel(n_jobs=-1)]: Using backend LokyBackend with 4 concurrent workers.\n"
     ]
    },
    {
     "name": "stdout",
     "output_type": "stream",
     "text": [
      "[learning_curve] Training set sizes: [  17  204  391  579  766  954 1141 1329 1516 1704]\n"
     ]
    },
    {
     "name": "stderr",
     "output_type": "stream",
     "text": [
      "[Parallel(n_jobs=-1)]: Done  25 out of  50 | elapsed:    0.8s remaining:    0.8s\n",
      "[Parallel(n_jobs=-1)]: Done  50 out of  50 | elapsed:    1.6s finished\n"
     ]
    },
    {
     "data": {
      "text/plain": [
       "<matplotlib.legend.Legend at 0x7f620153f340>"
      ]
     },
     "execution_count": 86,
     "metadata": {},
     "output_type": "execute_result"
    },
    {
     "data": {
      "image/png": "[encoded data removed]",
      "text/plain": [
       "<Figure size 2016x504 with 4 Axes>"
      ]
     },
     "metadata": {
      "needs_background": "light"
     },
     "output_type": "display_data"
    }
   ],
   "source": [
    "fig, (ax1, ax2, ax3, ax4) = plt.subplots(1, 4, figsize=(28, 7))\n",
    "\n",
    "# SVM\n",
    "plot_model = svm.SVC(kernel='linear', C=0.001, gamma=0.0001)\n",
    "\n",
    "train_sizes, train_scores, val_scores = learning_curve(plot_model, \n",
    "                                                       X_train, \n",
    "                                                       y_train, \n",
    "                                                       cv=5, \n",
    "                                                       scoring='accuracy', \n",
    "                                                       n_jobs=-1, # 이거 바꾸고 싶으면 바꾸고  \n",
    "                                                       train_sizes=np.linspace(0.01, 1, 10), \n",
    "                                                       verbose=2)\n",
    "\n",
    "\n",
    "train_mean = np.mean(train_scores, axis = 1)\n",
    "train_std = np.std(train_scores, axis=1)\n",
    "val_mean = np.mean(val_scores, axis=1)\n",
    "val_std = np.std(val_scores, axis=1)\n",
    "\n",
    "ax1.plot(train_sizes, train_mean, label='Training Accuracy')\n",
    "ax1.plot(train_sizes, val_mean, label='Validation Accuracy')\n",
    "ax1.set_title('SVM Learning curve')\n",
    "ax1.set_xlabel('Training Size')\n",
    "ax1.set_ylabel('Accuracy')\n",
    "\n",
    "# Logistic Regression \n",
    "plot_model = LogisticRegression(C=0.0001, multi_class='auto', penalty='l1', solver='liblinear')\n",
    "\n",
    "train_sizes, train_scores, val_scores = learning_curve(plot_model, \n",
    "                                                       X_train, \n",
    "                                                       y_train, \n",
    "                                                       cv=5, \n",
    "                                                       scoring='accuracy', \n",
    "                                                       n_jobs=-1, # 이거 바꾸고 싶으면 바꾸고  \n",
    "                                                       train_sizes=np.linspace(0.01, 1, 10), \n",
    "                                                       verbose=2)\n",
    "\n",
    "\n",
    "train_mean = np.mean(train_scores, axis = 1)\n",
    "train_std = np.std(train_scores, axis=1)\n",
    "val_mean = np.mean(val_scores, axis=1)\n",
    "val_std = np.std(val_scores, axis=1)\n",
    "\n",
    "ax2.plot(train_sizes, train_mean, label='Training Accuracy')\n",
    "ax2.plot(train_sizes, val_mean, label='Validation Accuracy')\n",
    "ax2.set_title('Logistic Regression Learning curve')\n",
    "ax2.set_xlabel('Training Size')\n",
    "ax2.set_ylabel('Accuracy')\n",
    "\n",
    "# KNN \n",
    "plot_model = KNeighborsClassifier(algorithm='auto', leaf_size=23, weights='uniform')\n",
    "\n",
    "train_sizes, train_scores, val_scores = learning_curve(plot_model, \n",
    "                                                       X_train, \n",
    "                                                       y_train, \n",
    "                                                       cv=5, \n",
    "                                                       scoring='accuracy', \n",
    "                                                       n_jobs=-1, # 이거 바꾸고 싶으면 바꾸고  \n",
    "                                                       train_sizes=np.linspace(0.01, 1, 10), \n",
    "                                                       verbose=2)\n",
    "\n",
    "\n",
    "train_mean = np.mean(train_scores, axis = 1)\n",
    "train_std = np.std(train_scores, axis=1)\n",
    "val_mean = np.mean(val_scores, axis=1)\n",
    "val_std = np.std(val_scores, axis=1)\n",
    "\n",
    "ax3.plot(train_sizes, train_mean, label='Training Accuracy')\n",
    "ax3.plot(train_sizes, val_mean, label='Validation Accuracy')\n",
    "ax3.set_title('KNN Learning curve')\n",
    "ax3.set_xlabel('Training Size')\n",
    "ax3.set_ylabel('Accuracy')\n",
    "\n",
    "# Random Forest\n",
    "plot_model = RandomForestClassifier(bootstrap=True, criterion='gini', max_depth=26, max_features='auto', min_samples_leaf=2, min_samples_split=38, n_estimators=27)\n",
    "\n",
    "train_sizes, train_scores, val_scores = learning_curve(plot_model, \n",
    "                                                       X_train, \n",
    "                                                       y_train, \n",
    "                                                       cv=5, \n",
    "                                                       scoring='accuracy', \n",
    "                                                       n_jobs=-1, # 이거 바꾸고 싶으면 바꾸고  \n",
    "                                                       train_sizes=np.linspace(0.01, 1, 10), \n",
    "                                                       verbose=2)\n",
    "\n",
    "\n",
    "train_mean = np.mean(train_scores, axis = 1)\n",
    "train_std = np.std(train_scores, axis=1)\n",
    "val_mean = np.mean(val_scores, axis=1)\n",
    "val_std = np.std(val_scores, axis=1)\n",
    "\n",
    "ax4.plot(train_sizes, train_mean, label='Training Accuracy')\n",
    "ax4.plot(train_sizes, val_mean, label='Validation Accuracy')\n",
    "ax4.set_title('Random Forest Learning curve')\n",
    "ax4.set_xlabel('Training Size')\n",
    "ax4.set_ylabel('Accuracy')\n",
    "ax4.legend(loc='upper center', bbox_to_anchor=(-1.3, -0.1),\n",
    "          fancybox=True, shadow=True, ncol=2)"
   ]
  },
  {
   "cell_type": "markdown",
   "metadata": {},
   "source": [
    "# 2. sampled"
   ]
  },
  {
   "cell_type": "code",
   "execution_count": 87,
   "metadata": {},
   "outputs": [],
   "source": [
    "X_train, X_test, y_train, y_test = train_test_split(X_s, y_s, test_size=0.3, random_state=1)  # 70% training and 30% test"
   ]
  },
  {
   "cell_type": "markdown",
   "metadata": {},
   "source": [
    "# SVM "
   ]
  },
  {
   "cell_type": "code",
   "execution_count": 88,
   "metadata": {},
   "outputs": [],
   "source": [
    "svm_hyper_params = [ \n",
    "                        {\n",
    "                        'gamma': np.logspace(-4, -1, 4),\n",
    "                        'C': np.logspace(-3, 1, 5),\n",
    "                        'kernel': ['linear', 'poly', 'rbf', 'sigmoid']\n",
    "                        }\n",
    "                    ]\n",
    "\n",
    "# specify model\n",
    "svm_model = svm.SVC(random_state=1)\n",
    "\n",
    "# set up GridSearchCV()\n",
    "svm_model_cv = GridSearchCV(estimator = svm_model, \n",
    "                            param_grid = svm_hyper_params, \n",
    "                            scoring= 'accuracy', \n",
    "                            cv = folds, \n",
    "                            verbose = 2,\n",
    "                            return_train_score=True,\n",
    "                            n_jobs=2)      "
   ]
  },
  {
   "cell_type": "code",
   "execution_count": 89,
   "metadata": {},
   "outputs": [
    {
     "name": "stdout",
     "output_type": "stream",
     "text": [
      "Fitting 5 folds for each of 80 candidates, totalling 400 fits\n",
      "best hyper parameters {'C': 10.0, 'gamma': 0.0001, 'kernel': 'linear'}\n"
     ]
    }
   ],
   "source": [
    "# fit the model\n",
    "svm_model_cv.fit(X_train, y_train)\n",
    "print(\"best hyper parameters\", svm_model_cv.best_params_)\n",
    "svm_y_pred = svm_model_cv.predict(X_test)"
   ]
  },
  {
   "cell_type": "code",
   "execution_count": 90,
   "metadata": {},
   "outputs": [
    {
     "name": "stdout",
     "output_type": "stream",
     "text": [
      "Accuracy: 0.5106382978723404\n",
      "F1 score micro: 0.5106382978723404\n",
      "F1 score binary: 0.5174825174825175\n",
      "\n",
      "classification report:\n",
      "               precision    recall  f1-score   support\n",
      "\n",
      "         0.0       0.52      0.49      0.50       214\n",
      "         1.0       0.50      0.53      0.52       209\n",
      "\n",
      "    accuracy                           0.51       423\n",
      "   macro avg       0.51      0.51      0.51       423\n",
      "weighted avg       0.51      0.51      0.51       423\n",
      "\n"
     ]
    }
   ],
   "source": [
    "# accuracy \n",
    "print(\"Accuracy:\", metrics.accuracy_score(y_test, svm_y_pred))\n",
    "# f1 score \n",
    "print(\"F1 score micro:\", f1_score(y_test, svm_y_pred, average='micro'))\n",
    "print(\"F1 score binary:\", f1_score(y_test, svm_y_pred, average='binary'))\n",
    "\n",
    "print(\"\\nclassification report:\\n\", classification_report(y_test, svm_y_pred))"
   ]
  },
  {
   "cell_type": "code",
   "execution_count": 106,
   "metadata": {},
   "outputs": [
    {
     "name": "stdout",
     "output_type": "stream",
     "text": [
      "[learning_curve] Training set sizes: [  7  94 181 267 354 441 527 614 701 788]\n"
     ]
    },
    {
     "name": "stderr",
     "output_type": "stream",
     "text": [
      "[Parallel(n_jobs=-1)]: Using backend LokyBackend with 4 concurrent workers.\n",
      "[Parallel(n_jobs=-1)]: Done  25 out of  50 | elapsed:    1.7s remaining:    1.7s\n",
      "[Parallel(n_jobs=-1)]: Done  50 out of  50 | elapsed:    2.1s finished\n"
     ]
    },
    {
     "data": {
      "image/png": "[encoded data removed]",
      "text/plain": [
       "<Figure size 432x288 with 1 Axes>"
      ]
     },
     "metadata": {
      "needs_background": "light"
     },
     "output_type": "display_data"
    }
   ],
   "source": [
    "# ------ HERE ------\n",
    "\n",
    "# plug in suitable hyper-parameters\n",
    "\n",
    "\n",
    "# 여기만 바꾸면 된다. \n",
    "plot_model = svm.SVC(kernel='linear', C=10, gamma=0.0001)\n",
    "\n",
    "\n",
    "train_sizes, train_scores, val_scores = learning_curve(plot_model, \n",
    "                                                       X_train, \n",
    "                                                       y_train, \n",
    "                                                       cv=5, \n",
    "                                                       scoring='accuracy', \n",
    "                                                       n_jobs=-1, # 이거 바꾸고 싶으면 바꾸고  \n",
    "                                                       train_sizes=np.linspace(0.01, 1, 10), \n",
    "                                                       verbose=2)\n",
    "# 여기만 바꾸면 된다. \n",
    "\n",
    "\n",
    "train_mean = np.mean(train_scores, axis = 1)\n",
    "train_std = np.std(train_scores, axis=1)\n",
    "val_mean = np.mean(val_scores, axis=1)\n",
    "val_std = np.std(val_scores, axis=1)\n",
    "\n",
    "plt.plot(train_sizes, train_mean, label='Training score')\n",
    "plt.plot(train_sizes, val_mean, label='Cross-validation score')\n",
    "plt.title('Learning curve')\n",
    "plt.xlabel('Training Size')\n",
    "plt.ylabel('Accuracy score')\n",
    "plt.legend(loc='best')\n",
    "plt.show()"
   ]
  },
  {
   "cell_type": "markdown",
   "metadata": {},
   "source": [
    "# Logistic Regression"
   ]
  },
  {
   "cell_type": "code",
   "execution_count": 92,
   "metadata": {},
   "outputs": [],
   "source": [
    "log_hyper_params = [ \n",
    "                        {\n",
    "                        'C': np.logspace(-4, 2, 7),\n",
    "                        'solver' : ['newton-cg', 'lbfgs', 'liblinear', 'sag', 'saga'],\n",
    "                        'penalty' : ['l1', 'l2', 'elasticnet', 'none'],\n",
    "                        'multi_class' : ['auto', 'ovr', 'multinomial']\n",
    "                        }\n",
    "                    ]\n",
    "\n",
    "# specify model\n",
    "log_model = LogisticRegression(random_state=1)\n",
    "\n",
    "# set up GridSearchCV()\n",
    "log_model_cv = GridSearchCV(estimator = log_model, \n",
    "                            param_grid = log_hyper_params, \n",
    "                            scoring= 'accuracy', \n",
    "                            cv = folds, \n",
    "                            verbose = 2,\n",
    "                            return_train_score=True,\n",
    "                            n_jobs=-1)      "
   ]
  },
  {
   "cell_type": "code",
   "execution_count": 93,
   "metadata": {},
   "outputs": [
    {
     "name": "stdout",
     "output_type": "stream",
     "text": [
      "Fitting 5 folds for each of 420 candidates, totalling 2100 fits\n",
      "best hyper parameters {'C': 1.0, 'multi_class': 'auto', 'penalty': 'l1', 'solver': 'saga'}\n"
     ]
    },
    {
     "name": "stderr",
     "output_type": "stream",
     "text": [
      "/home/jhpark/.local/lib/python3.8/site-packages/sklearn/model_selection/_search.py:918: UserWarning: One or more of the test scores are non-finite: [       nan        nan 0.49746193        nan 0.50862944 0.47817259\n",
      " 0.47817259 0.47005076 0.47817259 0.47817259        nan        nan\n",
      "        nan        nan        nan 0.51675127 0.51675127        nan\n",
      " 0.51675127 0.51675127        nan        nan 0.49746193        nan\n",
      " 0.50862944 0.47817259 0.47817259 0.47005076 0.47817259 0.47817259\n",
      "        nan        nan        nan        nan        nan 0.51675127\n",
      " 0.51675127        nan 0.51675127 0.51675127        nan        nan\n",
      "        nan        nan 0.50862944 0.47817259 0.47817259        nan\n",
      " 0.47817259 0.47817259        nan        nan        nan        nan\n",
      "        nan 0.51675127 0.51675127        nan 0.51675127 0.51675127\n",
      "        nan        nan 0.49746193        nan 0.50253807 0.48730964\n",
      " 0.48730964 0.48629442 0.48730964 0.48730964        nan        nan\n",
      "        nan        nan        nan 0.51675127 0.51675127        nan\n",
      " 0.51675127 0.51675127        nan        nan 0.49746193        nan\n",
      " 0.50253807 0.48730964 0.48730964 0.48629442 0.48730964 0.48730964\n",
      "        nan        nan        nan        nan        nan 0.51675127\n",
      " 0.51675127        nan 0.51675127 0.51675127        nan        nan\n",
      "        nan        nan 0.49746193 0.48629442 0.48629442        nan\n",
      " 0.48629442 0.48629442        nan        nan        nan        nan\n",
      "        nan 0.51675127 0.51675127        nan 0.51675127 0.51675127\n",
      "        nan        nan 0.49746193        nan 0.47614213 0.51573604\n",
      " 0.51573604 0.51979695 0.51573604 0.51573604        nan        nan\n",
      "        nan        nan        nan 0.51675127 0.51675127        nan\n",
      " 0.51675127 0.51675127        nan        nan 0.49746193        nan\n",
      " 0.47614213 0.51573604 0.51573604 0.51979695 0.51573604 0.51573604\n",
      "        nan        nan        nan        nan        nan 0.51675127\n",
      " 0.51675127        nan 0.51675127 0.51675127        nan        nan\n",
      "        nan        nan 0.47614213 0.50659898 0.50659898        nan\n",
      " 0.50659898 0.50659898        nan        nan        nan        nan\n",
      "        nan 0.51675127 0.51675127        nan 0.51675127 0.51675127\n",
      "        nan        nan 0.52081218        nan 0.51167513 0.51573604\n",
      " 0.51573604 0.51878173 0.51573604 0.51573604        nan        nan\n",
      "        nan        nan        nan 0.51675127 0.51675127        nan\n",
      " 0.51675127 0.51675127        nan        nan 0.52081218        nan\n",
      " 0.51167513 0.51573604 0.51573604 0.51878173 0.51573604 0.51573604\n",
      "        nan        nan        nan        nan        nan 0.51675127\n",
      " 0.51675127        nan 0.51675127 0.51675127        nan        nan\n",
      "        nan        nan 0.51167513 0.51675127 0.51675127        nan\n",
      " 0.51675127 0.51675127        nan        nan        nan        nan\n",
      "        nan 0.51675127 0.51675127        nan 0.51675127 0.51675127\n",
      "        nan        nan 0.51472081        nan 0.52182741 0.51675127\n",
      " 0.51675127 0.5177665  0.51675127 0.51675127        nan        nan\n",
      "        nan        nan        nan 0.51675127 0.51675127        nan\n",
      " 0.51675127 0.51675127        nan        nan 0.51472081        nan\n",
      " 0.52182741 0.51675127 0.51675127 0.5177665  0.51675127 0.51675127\n",
      "        nan        nan        nan        nan        nan 0.51675127\n",
      " 0.51675127        nan 0.51675127 0.51675127        nan        nan\n",
      "        nan        nan 0.52182741 0.51675127 0.51675127        nan\n",
      " 0.51675127 0.51675127        nan        nan        nan        nan\n",
      "        nan 0.51675127 0.51675127        nan 0.51675127 0.51675127\n",
      "        nan        nan 0.51675127        nan 0.51675127 0.51675127\n",
      " 0.51675127 0.51675127 0.51675127 0.51675127        nan        nan\n",
      "        nan        nan        nan 0.51675127 0.51675127        nan\n",
      " 0.51675127 0.51675127        nan        nan 0.51675127        nan\n",
      " 0.51675127 0.51675127 0.51675127 0.51675127 0.51675127 0.51675127\n",
      "        nan        nan        nan        nan        nan 0.51675127\n",
      " 0.51675127        nan 0.51675127 0.51675127        nan        nan\n",
      "        nan        nan 0.51675127 0.51675127 0.51675127        nan\n",
      " 0.51675127 0.51675127        nan        nan        nan        nan\n",
      "        nan 0.51675127 0.51675127        nan 0.51675127 0.51675127\n",
      "        nan        nan 0.51675127        nan 0.51675127 0.51675127\n",
      " 0.51675127 0.51675127 0.51675127 0.51675127        nan        nan\n",
      "        nan        nan        nan 0.51675127 0.51675127        nan\n",
      " 0.51675127 0.51675127        nan        nan 0.51675127        nan\n",
      " 0.51675127 0.51675127 0.51675127 0.51675127 0.51675127 0.51675127\n",
      "        nan        nan        nan        nan        nan 0.51675127\n",
      " 0.51675127        nan 0.51675127 0.51675127        nan        nan\n",
      "        nan        nan 0.51675127 0.51675127 0.51675127        nan\n",
      " 0.51675127 0.51675127        nan        nan        nan        nan\n",
      "        nan 0.51675127 0.51675127        nan 0.51675127 0.51675127]\n",
      "  warnings.warn(\n",
      "/home/jhpark/.local/lib/python3.8/site-packages/sklearn/model_selection/_search.py:918: UserWarning: One or more of the train scores are non-finite: [       nan        nan 0.49746193        nan 0.49847716 0.51700508\n",
      " 0.51700508 0.51954315 0.51700508 0.51700508        nan        nan\n",
      "        nan        nan        nan 0.53832487 0.53832487        nan\n",
      " 0.53832487 0.53807107        nan        nan 0.49746193        nan\n",
      " 0.49847716 0.51700508 0.51700508 0.51954315 0.51700508 0.51700508\n",
      "        nan        nan        nan        nan        nan 0.53832487\n",
      " 0.53832487        nan 0.53832487 0.53807107        nan        nan\n",
      "        nan        nan 0.49847716 0.51700508 0.51700508        nan\n",
      " 0.51700508 0.51700508        nan        nan        nan        nan\n",
      "        nan 0.53832487 0.53832487        nan 0.53832487 0.53832487\n",
      "        nan        nan 0.49746193        nan 0.50253807 0.52817259\n",
      " 0.52817259 0.53071066 0.52817259 0.52817259        nan        nan\n",
      "        nan        nan        nan 0.53832487 0.53832487        nan\n",
      " 0.53832487 0.53807107        nan        nan 0.49746193        nan\n",
      " 0.50253807 0.52817259 0.52817259 0.53071066 0.52817259 0.52817259\n",
      "        nan        nan        nan        nan        nan 0.53832487\n",
      " 0.53832487        nan 0.53832487 0.53807107        nan        nan\n",
      "        nan        nan 0.50253807 0.53807107 0.53807107        nan\n",
      " 0.53807107 0.53756345        nan        nan        nan        nan\n",
      "        nan 0.53832487 0.53832487        nan 0.53832487 0.53832487\n",
      "        nan        nan 0.49746193        nan 0.50659898 0.54137056\n",
      " 0.54137056 0.53502538 0.54137056 0.54137056        nan        nan\n",
      "        nan        nan        nan 0.53832487 0.53832487        nan\n",
      " 0.53832487 0.53807107        nan        nan 0.49746193        nan\n",
      " 0.50659898 0.54137056 0.54137056 0.53502538 0.54137056 0.54137056\n",
      "        nan        nan        nan        nan        nan 0.53832487\n",
      " 0.53832487        nan 0.53832487 0.53807107        nan        nan\n",
      "        nan        nan 0.50659898 0.53883249 0.53883249        nan\n",
      " 0.53883249 0.53883249        nan        nan        nan        nan\n",
      "        nan 0.53832487 0.53832487        nan 0.53832487 0.53832487\n",
      "        nan        nan 0.53375635        nan 0.53502538 0.54111675\n",
      " 0.54111675 0.54238579 0.54111675 0.54111675        nan        nan\n",
      "        nan        nan        nan 0.53832487 0.53832487        nan\n",
      " 0.53832487 0.53807107        nan        nan 0.53375635        nan\n",
      " 0.53502538 0.54111675 0.54111675 0.54238579 0.54111675 0.54111675\n",
      "        nan        nan        nan        nan        nan 0.53832487\n",
      " 0.53832487        nan 0.53832487 0.53807107        nan        nan\n",
      "        nan        nan 0.53502538 0.54314721 0.54314721        nan\n",
      " 0.54314721 0.54314721        nan        nan        nan        nan\n",
      "        nan 0.53832487 0.53832487        nan 0.53832487 0.53832487\n",
      "        nan        nan 0.5393401         nan 0.54035533 0.53959391\n",
      " 0.53959391 0.53984772 0.5393401  0.53959391        nan        nan\n",
      "        nan        nan        nan 0.53832487 0.53832487        nan\n",
      " 0.53832487 0.53807107        nan        nan 0.5393401         nan\n",
      " 0.54035533 0.53959391 0.53959391 0.53984772 0.5393401  0.53959391\n",
      "        nan        nan        nan        nan        nan 0.53832487\n",
      " 0.53832487        nan 0.53832487 0.53807107        nan        nan\n",
      "        nan        nan 0.54035533 0.53781726 0.53781726        nan\n",
      " 0.53781726 0.53781726        nan        nan        nan        nan\n",
      "        nan 0.53832487 0.53832487        nan 0.53832487 0.53832487\n",
      "        nan        nan 0.53857868        nan 0.53781726 0.53781726\n",
      " 0.53781726 0.53781726 0.53781726 0.53807107        nan        nan\n",
      "        nan        nan        nan 0.53832487 0.53832487        nan\n",
      " 0.53832487 0.53807107        nan        nan 0.53857868        nan\n",
      " 0.53781726 0.53781726 0.53781726 0.53781726 0.53781726 0.53807107\n",
      "        nan        nan        nan        nan        nan 0.53832487\n",
      " 0.53832487        nan 0.53832487 0.53807107        nan        nan\n",
      "        nan        nan 0.53781726 0.53807107 0.53807107        nan\n",
      " 0.53807107 0.53807107        nan        nan        nan        nan\n",
      "        nan 0.53832487 0.53832487        nan 0.53832487 0.53832487\n",
      "        nan        nan 0.53781726        nan 0.53807107 0.53832487\n",
      " 0.53807107 0.53807107 0.53832487 0.53807107        nan        nan\n",
      "        nan        nan        nan 0.53832487 0.53832487        nan\n",
      " 0.53832487 0.53807107        nan        nan 0.53781726        nan\n",
      " 0.53807107 0.53832487 0.53807107 0.53807107 0.53832487 0.53807107\n",
      "        nan        nan        nan        nan        nan 0.53832487\n",
      " 0.53832487        nan 0.53832487 0.53807107        nan        nan\n",
      "        nan        nan 0.53807107 0.53832487 0.53832487        nan\n",
      " 0.53832487 0.53832487        nan        nan        nan        nan\n",
      "        nan 0.53832487 0.53832487        nan 0.53832487 0.53832487]\n",
      "  warnings.warn(\n"
     ]
    }
   ],
   "source": [
    "# fit the model\n",
    "log_model_cv.fit(X_train, y_train)\n",
    "print(\"best hyper parameters\", log_model_cv.best_params_)\n",
    "log_y_pred = log_model_cv.predict(X_test)"
   ]
  },
  {
   "cell_type": "code",
   "execution_count": 94,
   "metadata": {},
   "outputs": [
    {
     "name": "stdout",
     "output_type": "stream",
     "text": [
      "Accuracy: 0.5200945626477541\n",
      "F1 score micro: 0.5200945626477541\n",
      "F1 score binary: 0.5131894484412469\n",
      "\n",
      "classification report:\n",
      "               precision    recall  f1-score   support\n",
      "\n",
      "         0.0       0.53      0.53      0.53       214\n",
      "         1.0       0.51      0.51      0.51       209\n",
      "\n",
      "    accuracy                           0.52       423\n",
      "   macro avg       0.52      0.52      0.52       423\n",
      "weighted avg       0.52      0.52      0.52       423\n",
      "\n"
     ]
    }
   ],
   "source": [
    "# accuracy \n",
    "print(\"Accuracy:\", metrics.accuracy_score(y_test, log_y_pred))\n",
    "# f1 score \n",
    "print(\"F1 score micro:\", f1_score(y_test, log_y_pred, average='micro'))\n",
    "print(\"F1 score binary:\", f1_score(y_test, log_y_pred, average='binary'))\n",
    "\n",
    "print(\"\\nclassification report:\\n\", classification_report(y_test, log_y_pred))"
   ]
  },
  {
   "cell_type": "code",
   "execution_count": 107,
   "metadata": {},
   "outputs": [
    {
     "name": "stdout",
     "output_type": "stream",
     "text": [
      "[learning_curve] Training set sizes: [  7  94 181 267 354 441 527 614 701 788]\n"
     ]
    },
    {
     "name": "stderr",
     "output_type": "stream",
     "text": [
      "[Parallel(n_jobs=-1)]: Using backend LokyBackend with 4 concurrent workers.\n",
      "[Parallel(n_jobs=-1)]: Done  50 out of  50 | elapsed:    0.3s finished\n"
     ]
    },
    {
     "data": {
      "image/png": "[encoded data removed]",
      "text/plain": [
       "<Figure size 432x288 with 1 Axes>"
      ]
     },
     "metadata": {
      "needs_background": "light"
     },
     "output_type": "display_data"
    }
   ],
   "source": [
    "# ------ HERE ------\n",
    "\n",
    "# plug in suitable hyper-parameters\n",
    "\n",
    "\n",
    "# 여기만 바꾸면 된다. \n",
    "plot_model = LogisticRegression(C=1.0, multi_class='auto', penalty='l1', solver='saga')\n",
    "\n",
    "\n",
    "train_sizes, train_scores, val_scores = learning_curve(plot_model, \n",
    "                                                       X_train, \n",
    "                                                       y_train, \n",
    "                                                       cv=5, \n",
    "                                                       scoring='accuracy', \n",
    "                                                       n_jobs=-1, # 이거 바꾸고 싶으면 바꾸고  \n",
    "                                                       train_sizes=np.linspace(0.01, 1, 10), \n",
    "                                                       verbose=2)\n",
    "# 여기만 바꾸면 된다. \n",
    "\n",
    "\n",
    "train_mean = np.mean(train_scores, axis = 1)\n",
    "train_std = np.std(train_scores, axis=1)\n",
    "val_mean = np.mean(val_scores, axis=1)\n",
    "val_std = np.std(val_scores, axis=1)\n",
    "\n",
    "plt.plot(train_sizes, train_mean, label='Training score')\n",
    "plt.plot(train_sizes, val_mean, label='Cross-validation score')\n",
    "plt.title('Learning curve')\n",
    "plt.xlabel('Training Size')\n",
    "plt.ylabel('Accuracy score')\n",
    "plt.legend(loc='best')\n",
    "plt.show()"
   ]
  },
  {
   "cell_type": "markdown",
   "metadata": {},
   "source": [
    "# KNN"
   ]
  },
  {
   "cell_type": "code",
   "execution_count": 96,
   "metadata": {},
   "outputs": [],
   "source": [
    "knn_hyper_params = [ \n",
    "                        {\n",
    "                        'weights' : ['uniform', 'distance'],\n",
    "                        'algorithm' : ['auto', 'ball_tree', 'kd_tree', 'brute'],\n",
    "                        'leaf_size' : np.linspace(2, 100, 10, dtype=int)\n",
    "                        }\n",
    "                    ]\n",
    "\n",
    "# specify model\n",
    "\n",
    "# THIS SECTION SHOULD BE CHANGED.\n",
    "# n_neighbors  SHOULD BE MODIFIED TO ANOTHER VALUE DEPENDING ON THE TARGET VALUE.\n",
    "knn_model = KNeighborsClassifier(n_neighbors=len(y_t.unique()))\n",
    "\n",
    "# set up GridSearchCV()\n",
    "knn_model_cv = GridSearchCV(estimator = knn_model, \n",
    "                            param_grid = knn_hyper_params, \n",
    "                            scoring= 'accuracy', \n",
    "                            cv = folds, \n",
    "                            verbose = 2,\n",
    "                            return_train_score=True,\n",
    "                            n_jobs=-1)      "
   ]
  },
  {
   "cell_type": "code",
   "execution_count": 97,
   "metadata": {},
   "outputs": [
    {
     "name": "stdout",
     "output_type": "stream",
     "text": [
      "Fitting 5 folds for each of 80 candidates, totalling 400 fits\n",
      "best hyper parameters {'algorithm': 'auto', 'leaf_size': 100, 'weights': 'distance'}\n"
     ]
    }
   ],
   "source": [
    "# fit the model\n",
    "knn_model_cv.fit(X_train, y_train)\n",
    "print(\"best hyper parameters\", knn_model_cv.best_params_)\n",
    "knn_y_pred = knn_model_cv.predict(X_test)"
   ]
  },
  {
   "cell_type": "code",
   "execution_count": 98,
   "metadata": {},
   "outputs": [
    {
     "name": "stdout",
     "output_type": "stream",
     "text": [
      "Accuracy: 0.48936170212765956\n",
      "F1 score micro: 0.48936170212765956\n",
      "F1 score binary: 0.4\n",
      "\n",
      "classification report:\n",
      "               precision    recall  f1-score   support\n",
      "\n",
      "         0.0       0.50      0.63      0.56       214\n",
      "         1.0       0.48      0.34      0.40       209\n",
      "\n",
      "    accuracy                           0.49       423\n",
      "   macro avg       0.49      0.49      0.48       423\n",
      "weighted avg       0.49      0.49      0.48       423\n",
      "\n"
     ]
    }
   ],
   "source": [
    "# accuracy \n",
    "print(\"Accuracy:\", metrics.accuracy_score(y_test, knn_y_pred))\n",
    "# f1 score \n",
    "print(\"F1 score micro:\", f1_score(y_test, knn_y_pred, average='micro'))\n",
    "print(\"F1 score binary:\", f1_score(y_test, knn_y_pred, average='binary'))\n",
    "\n",
    "print(\"\\nclassification report:\\n\", classification_report(y_test, knn_y_pred))"
   ]
  },
  {
   "cell_type": "code",
   "execution_count": 108,
   "metadata": {},
   "outputs": [
    {
     "name": "stdout",
     "output_type": "stream",
     "text": [
      "[learning_curve] Training set sizes: [  7  94 181 267 354 441 527 614 701 788]\n"
     ]
    },
    {
     "name": "stderr",
     "output_type": "stream",
     "text": [
      "[Parallel(n_jobs=-1)]: Using backend LokyBackend with 4 concurrent workers.\n",
      "[Parallel(n_jobs=-1)]: Done  50 out of  50 | elapsed:    0.4s finished\n"
     ]
    },
    {
     "data": {
      "image/png": "[encoded data removed]",
      "text/plain": [
       "<Figure size 432x288 with 1 Axes>"
      ]
     },
     "metadata": {
      "needs_background": "light"
     },
     "output_type": "display_data"
    }
   ],
   "source": [
    "# ------ HERE ------\n",
    "\n",
    "# plug in suitable hyper-parameters\n",
    "\n",
    "\n",
    "# 여기만 바꾸면 된다. \n",
    "plot_model = KNeighborsClassifier(algorithm='auto', leaf_size=100, weights='distance')\n",
    "\n",
    "\n",
    "train_sizes, train_scores, val_scores = learning_curve(plot_model, \n",
    "                                                       X_train, \n",
    "                                                       y_train, \n",
    "                                                       cv=5, \n",
    "                                                       scoring='accuracy', \n",
    "                                                       n_jobs=-1, # 이거 바꾸고 싶으면 바꾸고  \n",
    "                                                       train_sizes=np.linspace(0.01, 1, 10), \n",
    "                                                       verbose=2)\n",
    "# 여기만 바꾸면 된다. \n",
    "\n",
    "\n",
    "train_mean = np.mean(train_scores, axis = 1)\n",
    "train_std = np.std(train_scores, axis=1)\n",
    "val_mean = np.mean(val_scores, axis=1)\n",
    "val_std = np.std(val_scores, axis=1)\n",
    "\n",
    "plt.plot(train_sizes, train_mean, label='Training score')\n",
    "plt.plot(train_sizes, val_mean, label='Cross-validation score')\n",
    "plt.title('Learning curve')\n",
    "plt.xlabel('Training Size')\n",
    "plt.ylabel('Accuracy score')\n",
    "plt.legend(loc='best')\n",
    "plt.show()"
   ]
  },
  {
   "cell_type": "markdown",
   "metadata": {},
   "source": [
    "# Random Forest"
   ]
  },
  {
   "cell_type": "code",
   "execution_count": 100,
   "metadata": {},
   "outputs": [],
   "source": [
    "rf_hyper_params = [ \n",
    "                        {\n",
    "                            'n_estimators' : [int(x) for x in np.linspace(5, 50, 5)],\n",
    "                            'criterion' : ['gini', 'entropy'],\n",
    "                            'max_depth' : [int(x) for x in np.linspace(2, 50, 5)],\n",
    "                            'min_samples_split' : [int(x) for x in np.linspace(2, 50, 5)],\n",
    "                            'min_samples_leaf' : [int(x) for x in np.linspace(2, 50, 5)],\n",
    "                            'max_features' : ['auto', 'sqrt', 'log2'],\n",
    "                            'bootstrap' : [True, False]\n",
    "\n",
    "                        }\n",
    "                    ]\n",
    "\n",
    "# specify model\n",
    "\n",
    "# THIS SECTION SHOULD BE CHANGED.\n",
    "# n_neighbors  SHOULD BE MODIFIED TO ANOTHER VALUE DEPENDING ON THE TARGET VALUE.\n",
    "rf_model = RandomForestClassifier(random_state=1)\n",
    "\n",
    "# set up GridSearchCV()\n",
    "rf_model_cv = GridSearchCV(estimator = rf_model, \n",
    "                            param_grid = rf_hyper_params, \n",
    "                            scoring= 'accuracy', \n",
    "                            cv = folds, \n",
    "                            verbose = 2,\n",
    "                            return_train_score=True,\n",
    "                            n_jobs=-1)      "
   ]
  },
  {
   "cell_type": "code",
   "execution_count": 101,
   "metadata": {},
   "outputs": [
    {
     "name": "stdout",
     "output_type": "stream",
     "text": [
      "Fitting 5 folds for each of 7500 candidates, totalling 37500 fits\n",
      "best hyper parameters {'bootstrap': False, 'criterion': 'entropy', 'max_depth': 14, 'max_features': 'auto', 'min_samples_leaf': 14, 'min_samples_split': 50, 'n_estimators': 5}\n"
     ]
    }
   ],
   "source": [
    "# fit the model\n",
    "rf_model_cv.fit(X_train, y_train)\n",
    "print(\"best hyper parameters\", rf_model_cv.best_params_)\n",
    "rf_y_pred = rf_model_cv.predict(X_test)"
   ]
  },
  {
   "cell_type": "code",
   "execution_count": 102,
   "metadata": {},
   "outputs": [
    {
     "name": "stdout",
     "output_type": "stream",
     "text": [
      "Accuracy: 0.491725768321513\n",
      "F1 score micro: 0.491725768321513\n",
      "F1 score binary: 0.47432762836185816\n",
      "\n",
      "classification report:\n",
      "               precision    recall  f1-score   support\n",
      "\n",
      "         0.0       0.50      0.52      0.51       214\n",
      "         1.0       0.48      0.46      0.47       209\n",
      "\n",
      "    accuracy                           0.49       423\n",
      "   macro avg       0.49      0.49      0.49       423\n",
      "weighted avg       0.49      0.49      0.49       423\n",
      "\n"
     ]
    }
   ],
   "source": [
    "# accuracy \n",
    "print(\"Accuracy:\", metrics.accuracy_score(y_test, rf_y_pred))\n",
    "# f1 score \n",
    "print(\"F1 score micro:\", f1_score(y_test, rf_y_pred, average='micro'))\n",
    "print(\"F1 score binary:\", f1_score(y_test, rf_y_pred, average='binary'))\n",
    "\n",
    "print(\"\\nclassification report:\\n\", classification_report(y_test, rf_y_pred))"
   ]
  },
  {
   "cell_type": "code",
   "execution_count": 109,
   "metadata": {},
   "outputs": [
    {
     "name": "stdout",
     "output_type": "stream",
     "text": [
      "[learning_curve] Training set sizes: [  7  94 181 267 354 441 527 614 701 788]\n"
     ]
    },
    {
     "name": "stderr",
     "output_type": "stream",
     "text": [
      "[Parallel(n_jobs=-1)]: Using backend LokyBackend with 4 concurrent workers.\n",
      "[Parallel(n_jobs=-1)]: Done  25 out of  50 | elapsed:    0.3s remaining:    0.3s\n",
      "[Parallel(n_jobs=-1)]: Done  50 out of  50 | elapsed:    0.5s finished\n"
     ]
    },
    {
     "data": {
      "image/png": "[encoded data removed]",
      "text/plain": [
       "<Figure size 432x288 with 1 Axes>"
      ]
     },
     "metadata": {
      "needs_background": "light"
     },
     "output_type": "display_data"
    }
   ],
   "source": [
    "# ------ HERE ------\n",
    "\n",
    "# plug in suitable hyper-parameters\n",
    "\n",
    "\n",
    "# 여기만 바꾸면 된다. \n",
    "plot_model = RandomForestClassifier(bootstrap=False, criterion='entropy', max_depth=14, max_features='auto', min_samples_leaf=14, min_samples_split=50, n_estimators=5)\n",
    "\n",
    "train_sizes, train_scores, val_scores = learning_curve(plot_model, \n",
    "                                                       X_train, \n",
    "                                                       y_train, \n",
    "                                                       cv=5, \n",
    "                                                       scoring='accuracy', \n",
    "                                                       n_jobs=-1, # 이거 바꾸고 싶으면 바꾸고  \n",
    "                                                       train_sizes=np.linspace(0.01, 1, 10), \n",
    "                                                       verbose=2)\n",
    "# 여기만 바꾸면 된다. \n",
    "\n",
    "\n",
    "train_mean = np.mean(train_scores, axis = 1)\n",
    "train_std = np.std(train_scores, axis=1)\n",
    "val_mean = np.mean(val_scores, axis=1)\n",
    "val_std = np.std(val_scores, axis=1)\n",
    "\n",
    "plt.plot(train_sizes, train_mean, label='Training score')\n",
    "plt.plot(train_sizes, val_mean, label='Cross-validation score')\n",
    "plt.title('Learning curve')\n",
    "plt.xlabel('Training Size')\n",
    "plt.ylabel('Accuracy score')\n",
    "plt.legend(loc='best')\n",
    "plt.show()"
   ]
  },
  {
   "cell_type": "markdown",
   "metadata": {},
   "source": [
    "# Sampled Learning Curve"
   ]
  },
  {
   "cell_type": "code",
   "execution_count": 110,
   "metadata": {},
   "outputs": [
    {
     "name": "stdout",
     "output_type": "stream",
     "text": [
      "[learning_curve] Training set sizes: [  7  94 181 267 354 441 527 614 701 788]\n"
     ]
    },
    {
     "name": "stderr",
     "output_type": "stream",
     "text": [
      "[Parallel(n_jobs=-1)]: Using backend LokyBackend with 4 concurrent workers.\n",
      "[Parallel(n_jobs=-1)]: Done  25 out of  50 | elapsed:    0.4s remaining:    0.4s\n",
      "[Parallel(n_jobs=-1)]: Done  50 out of  50 | elapsed:    0.8s finished\n",
      "[Parallel(n_jobs=-1)]: Using backend LokyBackend with 4 concurrent workers.\n",
      "[Parallel(n_jobs=-1)]: Done  25 out of  50 | elapsed:    0.1s remaining:    0.1s\n"
     ]
    },
    {
     "name": "stdout",
     "output_type": "stream",
     "text": [
      "[learning_curve] Training set sizes: [  7  94 181 267 354 441 527 614 701 788]\n"
     ]
    },
    {
     "name": "stderr",
     "output_type": "stream",
     "text": [
      "[Parallel(n_jobs=-1)]: Done  50 out of  50 | elapsed:    0.3s finished\n",
      "[Parallel(n_jobs=-1)]: Using backend LokyBackend with 4 concurrent workers.\n"
     ]
    },
    {
     "name": "stdout",
     "output_type": "stream",
     "text": [
      "[learning_curve] Training set sizes: [  7  94 181 267 354 441 527 614 701 788]\n"
     ]
    },
    {
     "name": "stderr",
     "output_type": "stream",
     "text": [
      "[Parallel(n_jobs=-1)]: Done  25 out of  50 | elapsed:    0.3s remaining:    0.3s\n",
      "[Parallel(n_jobs=-1)]: Done  50 out of  50 | elapsed:    0.5s finished\n",
      "[Parallel(n_jobs=-1)]: Using backend LokyBackend with 4 concurrent workers.\n"
     ]
    },
    {
     "name": "stdout",
     "output_type": "stream",
     "text": [
      "[learning_curve] Training set sizes: [  7  94 181 267 354 441 527 614 701 788]\n"
     ]
    },
    {
     "name": "stderr",
     "output_type": "stream",
     "text": [
      "[Parallel(n_jobs=-1)]: Done  25 out of  50 | elapsed:    0.2s remaining:    0.2s\n",
      "[Parallel(n_jobs=-1)]: Done  50 out of  50 | elapsed:    0.4s finished\n"
     ]
    },
    {
     "data": {
      "text/plain": [
       "<matplotlib.legend.Legend at 0x7f61e399c460>"
      ]
     },
     "execution_count": 110,
     "metadata": {},
     "output_type": "execute_result"
    },
    {
     "data": {
      "image/png": "[encoded data removed]",
      "text/plain": [
       "<Figure size 2016x504 with 4 Axes>"
      ]
     },
     "metadata": {
      "needs_background": "light"
     },
     "output_type": "display_data"
    }
   ],
   "source": [
    "fig, (ax1, ax2, ax3, ax4) = plt.subplots(1, 4, figsize=(28, 7))\n",
    "\n",
    "plot_model = svm.SVC(kernel='linear', C=10, gamma=0.0001)\n",
    "\n",
    "\n",
    "train_sizes, train_scores, val_scores = learning_curve(plot_model, \n",
    "                                                       X_train, \n",
    "                                                       y_train, \n",
    "                                                       cv=5, \n",
    "                                                       scoring='accuracy', \n",
    "                                                       n_jobs=-1, # 이거 바꾸고 싶으면 바꾸고  \n",
    "                                                       train_sizes=np.linspace(0.01, 1, 10), \n",
    "                                                       verbose=2)\n",
    "\n",
    "train_mean = np.mean(train_scores, axis = 1)\n",
    "train_std = np.std(train_scores, axis=1)\n",
    "val_mean = np.mean(val_scores, axis=1)\n",
    "val_std = np.std(val_scores, axis=1)\n",
    "\n",
    "ax1.plot(train_sizes, train_mean, label='Training Accuracy')\n",
    "ax1.plot(train_sizes, val_mean, label='Validation Accuracy')\n",
    "ax1.set_title('SVM Learning curve')\n",
    "ax1.set_xlabel('Training Size')\n",
    "ax1.set_ylabel('Accuracy')\n",
    "\n",
    "# Logistic Regression\n",
    "plot_model = LogisticRegression(C=1.0, multi_class='auto', penalty='l1', solver='saga')\n",
    "\n",
    "\n",
    "train_sizes, train_scores, val_scores = learning_curve(plot_model, \n",
    "                                                       X_train, \n",
    "                                                       y_train, \n",
    "                                                       cv=5, \n",
    "                                                       scoring='accuracy', \n",
    "                                                       n_jobs=-1, # 이거 바꾸고 싶으면 바꾸고  \n",
    "                                                       train_sizes=np.linspace(0.01, 1, 10), \n",
    "                                                       verbose=2)\n",
    "\n",
    "train_mean = np.mean(train_scores, axis = 1)\n",
    "train_std = np.std(train_scores, axis=1)\n",
    "val_mean = np.mean(val_scores, axis=1)\n",
    "val_std = np.std(val_scores, axis=1)\n",
    "\n",
    "ax2.plot(train_sizes, train_mean, label='Training Accuracy')\n",
    "ax2.plot(train_sizes, val_mean, label='Validation Accuracy')\n",
    "ax2.set_title('Logistic Regression Learning curve')\n",
    "ax2.set_xlabel('Training Size')\n",
    "ax2.set_ylabel('Accuracy')\n",
    "\n",
    "\n",
    "# KNN\n",
    "plot_model = KNeighborsClassifier(algorithm='auto', leaf_size=100, weights='distance')\n",
    "\n",
    "\n",
    "train_sizes, train_scores, val_scores = learning_curve(plot_model, \n",
    "                                                       X_train, \n",
    "                                                       y_train, \n",
    "                                                       cv=5, \n",
    "                                                       scoring='accuracy', \n",
    "                                                       n_jobs=-1, # 이거 바꾸고 싶으면 바꾸고  \n",
    "                                                       train_sizes=np.linspace(0.01, 1, 10), \n",
    "                                                       verbose=2)\n",
    "\n",
    "train_mean = np.mean(train_scores, axis = 1)\n",
    "train_std = np.std(train_scores, axis=1)\n",
    "val_mean = np.mean(val_scores, axis=1)\n",
    "val_std = np.std(val_scores, axis=1)\n",
    "\n",
    "ax3.plot(train_sizes, train_mean, label='Training Accuracy')\n",
    "ax3.plot(train_sizes, val_mean, label='Validation Accuracy')\n",
    "ax3.set_title('KNN Learning curve')\n",
    "ax3.set_xlabel('Training Size')\n",
    "ax3.set_ylabel('Accuracy')\n",
    "\n",
    "# Random Forest \n",
    "plot_model = RandomForestClassifier(bootstrap=False, criterion='entropy', max_depth=14, max_features='auto', min_samples_leaf=14, min_samples_split=50, n_estimators=5)\n",
    "\n",
    "train_sizes, train_scores, val_scores = learning_curve(plot_model, \n",
    "                                                       X_train, \n",
    "                                                       y_train, \n",
    "                                                       cv=5, \n",
    "                                                       scoring='accuracy', \n",
    "                                                       n_jobs=-1, # 이거 바꾸고 싶으면 바꾸고  \n",
    "                                                       train_sizes=np.linspace(0.01, 1, 10), \n",
    "                                                       verbose=2)\n",
    "\n",
    "\n",
    "train_mean = np.mean(train_scores, axis = 1)\n",
    "train_std = np.std(train_scores, axis=1)\n",
    "val_mean = np.mean(val_scores, axis=1)\n",
    "val_std = np.std(val_scores, axis=1)\n",
    "\n",
    "ax4.plot(train_sizes, train_mean, label='Training Accuracy')\n",
    "ax4.plot(train_sizes, val_mean, label='Validation Accuracy')\n",
    "ax4.set_title('Random Forest Learning curve')\n",
    "ax4.set_xlabel('Training Size')\n",
    "ax4.set_ylabel('Accuracy')\n",
    "ax4.legend(loc='upper center', bbox_to_anchor=(-1.3, -0.1),\n",
    "          fancybox=True, shadow=True, ncol=2)"
   ]
  },
  {
   "cell_type": "code",
   "execution_count": null,
   "metadata": {},
   "outputs": [],
   "source": []
  }
 ],
 "metadata": {
  "kernelspec": {
   "display_name": "Python 3",
   "language": "python",
   "name": "python3"
  },
  "language_info": {
   "codemirror_mode": {
    "name": "ipython",
    "version": 3
   },
   "file_extension": ".py",
   "mimetype": "text/x-python",
   "name": "python",
   "nbconvert_exporter": "python",
   "pygments_lexer": "ipython3",
   "version": "3.8.5"
  }
 },
 "nbformat": 4,
 "nbformat_minor": 4
}
