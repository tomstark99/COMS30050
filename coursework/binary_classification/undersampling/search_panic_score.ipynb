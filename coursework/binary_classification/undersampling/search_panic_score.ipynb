{
 "cells": [
  {
   "cell_type": "markdown",
   "metadata": {
    "id": "view-in-github"
   },
   "source": [
    "<a href=\"https://colab.research.google.com/github/7201krap/PYTHON_applied_data_science/blob/main/search_dep_score.ipynb\" target=\"_parent\"><img src=\"https://colab.research.google.com/assets/colab-badge.svg\" alt=\"Open In Colab\"/></a>"
   ]
  },
  {
   "cell_type": "code",
   "execution_count": 2,
   "metadata": {
    "id": "noZ-BsUFikmK"
   },
   "outputs": [],
   "source": [
    "from sklearn import datasets\n",
    "\n",
    "# How are we going to use evaluate the performance? \n",
    "# 1. accuracy\n",
    "from sklearn import metrics\n",
    "# 2. f1 score \n",
    "from sklearn.metrics import f1_score\n",
    "\n",
    "# Machine learning models \n",
    "\n",
    "# Linear Regression \n",
    "# url : https://scikit-learn.org/stable/modules/generated/sklearn.linear_model.LinearRegression.html\n",
    "from sklearn.linear_model import LinearRegression\n",
    "\n",
    "# SVM\n",
    "# url: https://scikit-learn.org/stable/modules/generated/sklearn.svm.SVC.html\n",
    "from sklearn import svm\n",
    "\n",
    "# KNN \n",
    "# url: https://scikit-learn.org/stable/modules/generated/sklearn.neighbors.KNeighborsClassifier.html\n",
    "from sklearn.neighbors import KNeighborsClassifier\n",
    "\n",
    "# Decision Tree\n",
    "# url: https://scikit-learn.org/stable/modules/generated/sklearn.tree.DecisionTreeClassifier.html\n",
    "from sklearn.tree import DecisionTreeClassifier\n",
    "\n",
    "# Random Forest \n",
    "# url: https://scikit-learn.org/stable/modules/generated/sklearn.ensemble.RandomForestClassifier.html\n",
    "from sklearn.ensemble import RandomForestClassifier\n",
    "\n",
    "# Logistic Classifier\n",
    "from sklearn.linear_model import LogisticRegression\n",
    "\n",
    "from sklearn.model_selection import RepeatedStratifiedKFold\n",
    "from sklearn.model_selection import GridSearchCV\n",
    "\n",
    "from sklearn.model_selection import learning_curve, RandomizedSearchCV, GridSearchCV\n",
    "from sklearn.model_selection import train_test_split, KFold\n",
    "from sklearn.datasets import make_classification\n",
    "from sklearn.pipeline import make_pipeline\n",
    "from sklearn.preprocessing import StandardScaler\n",
    "\n",
    "import numpy as np\n",
    "import matplotlib.pyplot as plt\n",
    "\n",
    "# PCA \n",
    "from sklearn.decomposition import PCA \n",
    "\n",
    "# Linear Regression\n",
    "from sklearn.model_selection import train_test_split\n",
    "from sklearn.linear_model import LinearRegression\n",
    "from sklearn.metrics import mean_squared_error, r2_score\n",
    "\n",
    "import pandas as pd\n",
    "import matplotlib.pyplot as plt\n",
    "import numpy as np\n",
    "\n",
    "import seaborn as sns\n",
    "\n",
    "from sklearn.model_selection import learning_curve\n",
    "\n",
    "from sklearn.metrics import classification_report"
   ]
  },
  {
   "cell_type": "markdown",
   "metadata": {
    "id": "q-1HtfE0ikmY"
   },
   "source": [
    "# Preprocessing"
   ]
  },
  {
   "cell_type": "code",
   "execution_count": 4,
   "metadata": {
    "id": "WPB84Blaikmg"
   },
   "outputs": [],
   "source": [
    "url = '../../data/0&1/oversampling/oversampled_dep_score.csv'\n",
    "sampled_dep_score = pd.read_csv(url)\n",
    "\n",
    "X_s = sampled_dep_score.copy()\n",
    "del X_s['panic_score']\n",
    "\n",
    "y_s = sampled_dep_score['panic_score']"
   ]
  },
  {
   "cell_type": "code",
   "execution_count": 5,
   "metadata": {
    "colab": {
     "base_uri": "https://localhost:8080/"
    },
    "id": "pNGVcPBgikmg",
    "outputId": "2bc1e7b1-90af-4144-a34a-cc4d303448c8"
   },
   "outputs": [
    {
     "data": {
      "text/plain": [
       "0.0    2983\n",
       "1.0    2983\n",
       "Name: panic_score, dtype: int64"
      ]
     },
     "execution_count": 5,
     "metadata": {
      "tags": []
     },
     "output_type": "execute_result"
    }
   ],
   "source": [
    "y_s.value_counts()"
   ]
  },
  {
   "cell_type": "code",
   "execution_count": 6,
   "metadata": {
    "colab": {
     "base_uri": "https://localhost:8080/"
    },
    "id": "tH7UnO0qikmh",
    "outputId": "f40a56a4-803b-434b-fbb0-fc0549e90a18"
   },
   "outputs": [
    {
     "name": "stdout",
     "output_type": "stream",
     "text": [
      "      comp_week  comp_wend  text_week  text_wend  tv_week  tv_wend\n",
      "0             2          3          1          1        1        1\n",
      "1             1          1          1          2        3        2\n",
      "2             2          2          0          0        2        3\n",
      "3             3          3          1          1        2        3\n",
      "4             3          0          2          2        2        2\n",
      "...         ...        ...        ...        ...      ...      ...\n",
      "5961          3          1          2          2        2        2\n",
      "5962          2          2          3          3        2        2\n",
      "5963          2          2          0          0        2        3\n",
      "5964          1          1          2          2        2        2\n",
      "5965          1          2          2          2        2        2\n",
      "\n",
      "[5966 rows x 6 columns]\n",
      "0       1.0\n",
      "1       0.0\n",
      "2       1.0\n",
      "3       0.0\n",
      "4       0.0\n",
      "       ... \n",
      "5961    0.0\n",
      "5962    0.0\n",
      "5963    1.0\n",
      "5964    1.0\n",
      "5965    1.0\n",
      "Name: panic_score, Length: 5966, dtype: float64\n"
     ]
    }
   ],
   "source": [
    "print(X_s)\n",
    "print(y_s)"
   ]
  },
  {
   "cell_type": "markdown",
   "metadata": {
    "id": "6HHxtbMGiknD"
   },
   "source": [
    "# 2. sampled"
   ]
  },
  {
   "cell_type": "markdown",
   "metadata": {
    "id": "9vMBdAsPiknD"
   },
   "source": [
    "# SVM "
   ]
  },
  {
   "cell_type": "markdown",
   "metadata": {
    "id": "EM5IQ0d7iknD"
   },
   "source": [
    "## Seed 100"
   ]
  },
  {
   "cell_type": "code",
   "execution_count": 21,
   "metadata": {
    "id": "t1YaC2mWiknF"
   },
   "outputs": [],
   "source": [
    "seed = 100\n",
    "X_train, X_test, y_train, y_test = train_test_split(X_s, y_s, test_size=0.3, random_state=seed)  \n",
    "folds = KFold(n_splits = 5, shuffle = True, random_state=seed)"
   ]
  },
  {
   "cell_type": "code",
   "execution_count": 22,
   "metadata": {
    "colab": {
     "base_uri": "https://localhost:8080/"
    },
    "id": "IR23YcWqiknF",
    "outputId": "b35de200-aa67-4995-e9e9-9610cb7df411"
   },
   "outputs": [
    {
     "name": "stdout",
     "output_type": "stream",
     "text": [
      "Fitting 5 folds for each of 80 candidates, totalling 400 fits\n"
     ]
    },
    {
     "name": "stderr",
     "output_type": "stream",
     "text": [
      "[Parallel(n_jobs=-1)]: Using backend LokyBackend with 40 concurrent workers.\n",
      "[Parallel(n_jobs=-1)]: Done  82 tasks      | elapsed:    2.8s\n",
      "[Parallel(n_jobs=-1)]: Done 285 tasks      | elapsed:    8.4s\n",
      "[Parallel(n_jobs=-1)]: Done 400 out of 400 | elapsed:   18.7s finished\n"
     ]
    },
    {
     "name": "stdout",
     "output_type": "stream",
     "text": [
      "best hyper parameters {'C': 10.0, 'gamma': 0.1, 'kernel': 'rbf'}\n",
      "Accuracy: 0.7681564245810056\n",
      "F1 score micro: 0.7681564245810056\n",
      "F1 score binary: 0.7962690230731467\n",
      "\n",
      "classification report:\n",
      "               precision    recall  f1-score   support\n",
      "\n",
      "         0.0       0.85      0.64      0.73       876\n",
      "         1.0       0.72      0.89      0.80       914\n",
      "\n",
      "    accuracy                           0.77      1790\n",
      "   macro avg       0.78      0.77      0.76      1790\n",
      "weighted avg       0.78      0.77      0.76      1790\n",
      "\n"
     ]
    }
   ],
   "source": [
    "svm_hyper_params = [ \n",
    "                        {\n",
    "                        'gamma': np.logspace(-4, -1, 4),\n",
    "                        'C': np.logspace(-3, 1, 5),\n",
    "                        'kernel': ['linear', 'poly', 'rbf', 'sigmoid']\n",
    "                        }\n",
    "                    ]\n",
    "\n",
    "# specify model\n",
    "svm_model = svm.SVC()\n",
    "\n",
    "# set up GridSearchCV()\n",
    "svm_model_cv = GridSearchCV(estimator = svm_model, \n",
    "                            param_grid = svm_hyper_params, \n",
    "                            scoring= 'accuracy', \n",
    "                            cv = folds, \n",
    "                            verbose = 2,\n",
    "                            return_train_score=True,\n",
    "                            n_jobs=-1)      \n",
    "\n",
    "# fit the model\n",
    "svm_model_cv.fit(X_train, y_train)\n",
    "print(\"best hyper parameters\", svm_model_cv.best_params_)\n",
    "svm_y_pred = svm_model_cv.predict(X_test)\n",
    "\n",
    "# accuracy \n",
    "print(\"Accuracy:\", metrics.accuracy_score(y_test, svm_y_pred))\n",
    "# f1 score \n",
    "print(\"F1 score micro:\", f1_score(y_test, svm_y_pred, average='micro'))\n",
    "print(\"F1 score binary:\", f1_score(y_test, svm_y_pred, average='binary'))\n",
    "\n",
    "print(\"\\nclassification report:\\n\", classification_report(y_test, svm_y_pred))"
   ]
  },
  {
   "cell_type": "code",
   "execution_count": 23,
   "metadata": {
    "colab": {
     "base_uri": "https://localhost:8080/",
     "height": 379
    },
    "id": "1azGgQuhiknF",
    "outputId": "25452506-8a87-4106-ae1d-8285dfe6f99f"
   },
   "outputs": [
    {
     "name": "stdout",
     "output_type": "stream",
     "text": [
      "[learning_curve] Training set sizes: [ 668  808  949 1089 1230 1371 1511 1652 1793 1933 2074 2214 2355 2496\n",
      " 2636 2777 2918 3058 3199 3340]\n"
     ]
    },
    {
     "name": "stderr",
     "output_type": "stream",
     "text": [
      "[Parallel(n_jobs=-1)]: Using backend LokyBackend with 40 concurrent workers.\n",
      "[Parallel(n_jobs=-1)]: Done  50 out of 100 | elapsed:    1.0s remaining:    1.0s\n",
      "[Parallel(n_jobs=-1)]: Done 100 out of 100 | elapsed:    2.1s finished\n"
     ]
    },
    {
     "data": {
      "image/png": "[encoded data removed]",
      "text/plain": [
       "<Figure size 432x288 with 1 Axes>"
      ]
     },
     "metadata": {
      "needs_background": "light",
      "tags": []
     },
     "output_type": "display_data"
    }
   ],
   "source": [
    "# ------ HERE ------\n",
    "\n",
    "# plug in suitable hyper-parameters\n",
    "\n",
    "\n",
    "# 여기만 바꾸면 된다. \n",
    "plot_model = svm.SVC(kernel='rbf', C=10, gamma=0.1)\n",
    "\n",
    "\n",
    "train_sizes_seed100, train_scores_seed100, val_scores_seed100 = learning_curve(plot_model, \n",
    "                                                                X_train, \n",
    "                                                                y_train, \n",
    "                                                                cv=5, \n",
    "                                                                scoring='accuracy', \n",
    "                                                                n_jobs=-1, # 이거 바꾸고 싶으면 바꾸고  \n",
    "                                                                train_sizes=np.linspace(0.2, 1, 20), \n",
    "                                                                verbose=2)\n",
    "\n",
    "\n",
    "train_mean_seed100 = np.mean(train_scores_seed100, axis = 1)\n",
    "train_std_seed100  = np.std(train_scores_seed100, axis=1)\n",
    "val_mean_seed100   = np.mean(val_scores_seed100, axis=1)\n",
    "val_std_seed100    = np.std(val_scores_seed100, axis=1)\n",
    "\n",
    "plt.plot(train_sizes_seed100, train_mean_seed100, label='Training accuracy')\n",
    "plt.plot(train_sizes_seed100, val_mean_seed100,   label='Cross-validation accuracy')\n",
    "plt.title ('Learning curve')\n",
    "plt.xlabel('Training Size')\n",
    "plt.ylabel('Accuracy score')\n",
    "plt.legend(loc='best')\n",
    "plt.show()"
   ]
  },
  {
   "cell_type": "markdown",
   "metadata": {
    "id": "Hb98EDSUiknF"
   },
   "source": [
    "## Seed 1234"
   ]
  },
  {
   "cell_type": "code",
   "execution_count": 24,
   "metadata": {
    "id": "vL3KK29_iknH"
   },
   "outputs": [],
   "source": [
    "seed = 1234\n",
    "X_train, X_test, y_train, y_test = train_test_split(X_s, y_s, test_size=0.3, random_state=seed)  \n",
    "folds = KFold(n_splits = 5, shuffle = True, random_state=seed)"
   ]
  },
  {
   "cell_type": "code",
   "execution_count": null,
   "metadata": {
    "colab": {
     "base_uri": "https://localhost:8080/"
    },
    "id": "b8LQsEtHiknH",
    "outputId": "58301671-74b0-44e3-fbf3-c0fd46c098e6"
   },
   "outputs": [
    {
     "name": "stdout",
     "output_type": "stream",
     "text": [
      "Fitting 5 folds for each of 80 candidates, totalling 400 fits\n"
     ]
    },
    {
     "name": "stderr",
     "output_type": "stream",
     "text": [
      "[Parallel(n_jobs=-1)]: Using backend LokyBackend with 2 concurrent workers.\n",
      "[Parallel(n_jobs=-1)]: Done  37 tasks      | elapsed:   19.2s\n",
      "[Parallel(n_jobs=-1)]: Done 158 tasks      | elapsed:  1.4min\n",
      "[Parallel(n_jobs=-1)]: Done 361 tasks      | elapsed:  3.4min\n",
      "[Parallel(n_jobs=-1)]: Done 400 out of 400 | elapsed:  4.2min finished\n"
     ]
    },
    {
     "name": "stdout",
     "output_type": "stream",
     "text": [
      "best hyper parameters {'C': 10.0, 'gamma': 0.1, 'kernel': 'rbf'}\n",
      "Accuracy: 0.7787709497206704\n",
      "F1 score micro: 0.7787709497206704\n",
      "F1 score binary: 0.8002018163471242\n",
      "\n",
      "classification report:\n",
      "               precision    recall  f1-score   support\n",
      "\n",
      "         0.0       0.84      0.68      0.75       883\n",
      "         1.0       0.74      0.87      0.80       907\n",
      "\n",
      "    accuracy                           0.78      1790\n",
      "   macro avg       0.79      0.78      0.78      1790\n",
      "weighted avg       0.79      0.78      0.78      1790\n",
      "\n"
     ]
    }
   ],
   "source": [
    "svm_hyper_params = [ \n",
    "                        {\n",
    "                        'gamma': np.logspace(-4, -1, 4),\n",
    "                        'C': np.logspace(-3, 1, 5),\n",
    "                        'kernel': ['linear', 'poly', 'rbf', 'sigmoid']\n",
    "                        }\n",
    "                    ]\n",
    "\n",
    "# specify model\n",
    "svm_model = svm.SVC()\n",
    "\n",
    "# set up GridSearchCV()\n",
    "svm_model_cv = GridSearchCV(estimator = svm_model, \n",
    "                            param_grid = svm_hyper_params, \n",
    "                            scoring= 'accuracy', \n",
    "                            cv = folds, \n",
    "                            verbose = 2,\n",
    "                            return_train_score=True,\n",
    "                            n_jobs=-1)      \n",
    "\n",
    "# fit the model\n",
    "svm_model_cv.fit(X_train, y_train)\n",
    "print(\"best hyper parameters\", svm_model_cv.best_params_)\n",
    "svm_y_pred = svm_model_cv.predict(X_test)\n",
    "\n",
    "# accuracy \n",
    "print(\"Accuracy:\", metrics.accuracy_score(y_test, svm_y_pred))\n",
    "# f1 score \n",
    "print(\"F1 score micro:\", f1_score(y_test, svm_y_pred, average='micro'))\n",
    "print(\"F1 score binary:\", f1_score(y_test, svm_y_pred, average='binary'))\n",
    "\n",
    "print(\"\\nclassification report:\\n\", classification_report(y_test, svm_y_pred))"
   ]
  },
  {
   "cell_type": "code",
   "execution_count": 25,
   "metadata": {
    "colab": {
     "base_uri": "https://localhost:8080/",
     "height": 379
    },
    "id": "vWLKatggiknH",
    "outputId": "387b6628-99e6-465a-a071-cbe4ee832660"
   },
   "outputs": [
    {
     "name": "stdout",
     "output_type": "stream",
     "text": [
      "[learning_curve] Training set sizes: [ 668  808  949 1089 1230 1371 1511 1652 1793 1933 2074 2214 2355 2496\n",
      " 2636 2777 2918 3058 3199 3340]\n"
     ]
    },
    {
     "name": "stderr",
     "output_type": "stream",
     "text": [
      "[Parallel(n_jobs=-1)]: Using backend LokyBackend with 40 concurrent workers.\n",
      "[Parallel(n_jobs=-1)]: Done  50 out of 100 | elapsed:    0.9s remaining:    0.9s\n",
      "[Parallel(n_jobs=-1)]: Done 100 out of 100 | elapsed:    2.0s finished\n"
     ]
    },
    {
     "data": {
      "image/png": "[encoded data removed]",
      "text/plain": [
       "<Figure size 432x288 with 1 Axes>"
      ]
     },
     "metadata": {
      "needs_background": "light",
      "tags": []
     },
     "output_type": "display_data"
    }
   ],
   "source": [
    "plot_model = svm.SVC(kernel='rbf', C=10, gamma=0.1)\n",
    "\n",
    "train_sizes_seed1234, train_scores_seed1234, val_scores_seed1234 = learning_curve(plot_model, \n",
    "                                                                X_train, \n",
    "                                                                y_train, \n",
    "                                                                cv=5, \n",
    "                                                                scoring='accuracy', \n",
    "                                                                n_jobs=-1, # 이거 바꾸고 싶으면 바꾸고  \n",
    "                                                                train_sizes=np.linspace(0.2, 1, 20), \n",
    "                                                                verbose=2)\n",
    "\n",
    "\n",
    "train_mean_seed1234 = np.mean(train_scores_seed1234, axis = 1)\n",
    "train_std_seed1234  = np.std(train_scores_seed1234, axis=1)\n",
    "val_mean_seed1234   = np.mean(val_scores_seed1234, axis=1)\n",
    "val_std_seed1234    = np.std(val_scores_seed1234, axis=1)\n",
    "\n",
    "plt.plot(train_sizes_seed1234, train_mean_seed1234, label='Training accuracy')\n",
    "plt.plot(train_sizes_seed1234, val_mean_seed1234,   label='Cross-validation accuracy')\n",
    "plt.title ('Learning curve')\n",
    "plt.xlabel('Training Size')\n",
    "plt.ylabel('Accuracy score')\n",
    "plt.legend(loc='best')\n",
    "plt.show()"
   ]
  },
  {
   "cell_type": "markdown",
   "metadata": {
    "id": "UyRKzIf2iknI"
   },
   "source": [
    "## Seed 500"
   ]
  },
  {
   "cell_type": "code",
   "execution_count": 26,
   "metadata": {
    "id": "8FksC80_iknJ"
   },
   "outputs": [],
   "source": [
    "seed = 500\n",
    "X_train, X_test, y_train, y_test = train_test_split(X_s, y_s, test_size=0.3, random_state=seed)  \n",
    "folds = KFold(n_splits = 5, shuffle = True, random_state=seed)"
   ]
  },
  {
   "cell_type": "code",
   "execution_count": null,
   "metadata": {
    "colab": {
     "base_uri": "https://localhost:8080/"
    },
    "id": "pZ3Yebc1iknJ",
    "outputId": "76cb7352-ffea-40be-c474-1b2166c65580"
   },
   "outputs": [
    {
     "name": "stdout",
     "output_type": "stream",
     "text": [
      "Fitting 5 folds for each of 80 candidates, totalling 400 fits\n"
     ]
    },
    {
     "name": "stderr",
     "output_type": "stream",
     "text": [
      "[Parallel(n_jobs=-1)]: Using backend LokyBackend with 2 concurrent workers.\n",
      "[Parallel(n_jobs=-1)]: Done  37 tasks      | elapsed:   18.9s\n",
      "[Parallel(n_jobs=-1)]: Done 158 tasks      | elapsed:  1.4min\n",
      "[Parallel(n_jobs=-1)]: Done 361 tasks      | elapsed:  3.4min\n",
      "[Parallel(n_jobs=-1)]: Done 400 out of 400 | elapsed:  4.2min finished\n"
     ]
    },
    {
     "name": "stdout",
     "output_type": "stream",
     "text": [
      "best hyper parameters {'C': 10.0, 'gamma': 0.1, 'kernel': 'rbf'}\n",
      "Accuracy: 0.7815642458100559\n",
      "F1 score micro: 0.7815642458100559\n",
      "F1 score binary: 0.8065314200890649\n",
      "\n",
      "classification report:\n",
      "               precision    recall  f1-score   support\n",
      "\n",
      "         0.0       0.86      0.67      0.75       878\n",
      "         1.0       0.73      0.89      0.81       912\n",
      "\n",
      "    accuracy                           0.78      1790\n",
      "   macro avg       0.80      0.78      0.78      1790\n",
      "weighted avg       0.80      0.78      0.78      1790\n",
      "\n"
     ]
    }
   ],
   "source": [
    "svm_hyper_params = [ \n",
    "                        {\n",
    "                        'gamma': np.logspace(-4, -1, 4),\n",
    "                        'C': np.logspace(-3, 1, 5),\n",
    "                        'kernel': ['linear', 'poly', 'rbf', 'sigmoid']\n",
    "                        }\n",
    "                    ]\n",
    "\n",
    "# specify model\n",
    "svm_model = svm.SVC()\n",
    "\n",
    "# set up GridSearchCV()\n",
    "svm_model_cv = GridSearchCV(estimator = svm_model, \n",
    "                            param_grid = svm_hyper_params, \n",
    "                            scoring= 'accuracy', \n",
    "                            cv = folds, \n",
    "                            verbose = 2,\n",
    "                            return_train_score=True,\n",
    "                            n_jobs=-1)      \n",
    "\n",
    "# fit the model\n",
    "svm_model_cv.fit(X_train, y_train)\n",
    "print(\"best hyper parameters\", svm_model_cv.best_params_)\n",
    "svm_y_pred = svm_model_cv.predict(X_test)\n",
    "\n",
    "# accuracy \n",
    "print(\"Accuracy:\", metrics.accuracy_score(y_test, svm_y_pred))\n",
    "# f1 score \n",
    "print(\"F1 score micro:\", f1_score(y_test, svm_y_pred, average='micro'))\n",
    "print(\"F1 score binary:\", f1_score(y_test, svm_y_pred, average='binary'))\n",
    "\n",
    "print(\"\\nclassification report:\\n\", classification_report(y_test, svm_y_pred))"
   ]
  },
  {
   "cell_type": "code",
   "execution_count": 27,
   "metadata": {
    "colab": {
     "base_uri": "https://localhost:8080/",
     "height": 379
    },
    "id": "WImF0iypiknL",
    "outputId": "708f0e37-9519-4b1a-8b74-a02cf6114aa0"
   },
   "outputs": [
    {
     "name": "stdout",
     "output_type": "stream",
     "text": [
      "[learning_curve] Training set sizes: [ 668  808  949 1089 1230 1371 1511 1652 1793 1933 2074 2214 2355 2496\n",
      " 2636 2777 2918 3058 3199 3340]\n"
     ]
    },
    {
     "name": "stderr",
     "output_type": "stream",
     "text": [
      "[Parallel(n_jobs=-1)]: Using backend LokyBackend with 40 concurrent workers.\n",
      "[Parallel(n_jobs=-1)]: Done  50 out of 100 | elapsed:    0.9s remaining:    0.9s\n",
      "[Parallel(n_jobs=-1)]: Done 100 out of 100 | elapsed:    2.0s finished\n"
     ]
    },
    {
     "data": {
      "image/png": "[encoded data removed]",
      "text/plain": [
       "<Figure size 432x288 with 1 Axes>"
      ]
     },
     "metadata": {
      "needs_background": "light",
      "tags": []
     },
     "output_type": "display_data"
    }
   ],
   "source": [
    "plot_model = svm.SVC(kernel='rbf', C=10, gamma=0.1)\n",
    "\n",
    "train_sizes_seed500, train_scores_seed500, val_scores_seed500 = learning_curve(plot_model, \n",
    "                                                                X_train, \n",
    "                                                                y_train, \n",
    "                                                                cv=5, \n",
    "                                                                scoring='accuracy', \n",
    "                                                                n_jobs=-1, # 이거 바꾸고 싶으면 바꾸고  \n",
    "                                                                train_sizes=np.linspace(0.2, 1, 20), \n",
    "                                                                verbose=2)\n",
    "\n",
    "\n",
    "train_mean_seed500 = np.mean(train_scores_seed500, axis = 1)\n",
    "train_std_seed500  = np.std(train_scores_seed500, axis=1)\n",
    "val_mean_seed500   = np.mean(val_scores_seed500, axis=1)\n",
    "val_std_seed500    = np.std(val_scores_seed500, axis=1)\n",
    "\n",
    "plt.plot(train_sizes_seed500, train_mean_seed500, label='Training accuracy')\n",
    "plt.plot(train_sizes_seed500, val_mean_seed500,   label='Cross-validation accuracy')\n",
    "plt.title ('Learning curve')\n",
    "plt.xlabel('Training Size')\n",
    "plt.ylabel('Accuracy score')\n",
    "plt.legend(loc='best')\n",
    "plt.show()"
   ]
  },
  {
   "cell_type": "code",
   "execution_count": 28,
   "metadata": {
    "id": "zD8THOEDiknL"
   },
   "outputs": [],
   "source": [
    "# learning curve considering different seeds "
   ]
  },
  {
   "cell_type": "code",
   "execution_count": 29,
   "metadata": {
    "id": "F2a5wjMgiknL"
   },
   "outputs": [],
   "source": [
    "acc_avg = list()\n",
    "acc_se  = list()\n",
    "\n",
    "val_avg = list()\n",
    "val_se  = list()\n",
    "\n",
    "for i in range(len(train_sizes_seed100)):\n",
    "    acc_avg.append(np.mean([train_mean_seed100[i], train_mean_seed500[i], train_mean_seed1234[i]]))\n",
    "    acc_se .append(np.std ([train_mean_seed100[i], train_mean_seed500[i], train_mean_seed1234[i]]) / np.sqrt(3))\n",
    "    \n",
    "    val_avg.append(np.mean([val_mean_seed100[i], val_mean_seed500[i], val_mean_seed1234[i]]))\n",
    "    val_se .append(np.std ([val_mean_seed100[i], val_mean_seed500[i], val_mean_seed1234[i]]) / np.sqrt(3))"
   ]
  },
  {
   "cell_type": "code",
   "execution_count": 30,
   "metadata": {
    "colab": {
     "base_uri": "https://localhost:8080/",
     "height": 404
    },
    "id": "pBVfsNM1iknM",
    "outputId": "84d7c9b3-bf2b-47c4-9f9b-944fc97e82db"
   },
   "outputs": [
    {
     "data": {
      "image/png": "[encoded data removed]",
      "text/plain": [
       "<Figure size 576x432 with 1 Axes>"
      ]
     },
     "metadata": {
      "needs_background": "light",
      "tags": []
     },
     "output_type": "display_data"
    }
   ],
   "source": [
    "fig, ax = plt.subplots(figsize=(8, 6))\n",
    "\n",
    "ax.plot(train_sizes_seed100, acc_avg, c='darkred', label='Training accuracy')\n",
    "ax.fill_between(train_sizes_seed100, np.subtract(acc_avg, acc_se), np.add(acc_avg, acc_se), color='lightcoral', alpha=0.5)\n",
    "\n",
    "ax.plot(train_sizes_seed100, val_avg, c='darkgreen', label='Validation accuracy')\n",
    "ax.fill_between(train_sizes_seed100, np.subtract(val_avg, val_se), np.add(val_avg, val_se), color='lime', alpha=0.5)\n",
    "\n",
    "ax.set_xlabel('Training Size')\n",
    "ax.set_ylabel('Accuracy')\n",
    "ax.set_title('SVM Oversampled panic_score')\n",
    "ax.axhline(y=0.5, color='blue', linestyle='-', label='Random Guess: Always predict no depression')\n",
    "ax.legend()\n",
    "ax.grid()"
   ]
  },
  {
   "cell_type": "markdown",
   "metadata": {
    "id": "ifJGt2Teu9t3"
   },
   "source": [
    "The learning algorithm suffers from high variance. The training and validation curve look like it is converging. Training with more data is likely to help. Although they converge, the error is quite high. This indicates that it is unlikely to have the relationship between screen time and mental health."
   ]
  },
  {
   "cell_type": "markdown",
   "metadata": {
    "id": "32hidP7eiknM"
   },
   "source": [
    "# Logistic Regression"
   ]
  },
  {
   "cell_type": "markdown",
   "metadata": {
    "id": "CC4ev6ebiknM"
   },
   "source": [
    "## Seed 100"
   ]
  },
  {
   "cell_type": "code",
   "execution_count": 33,
   "metadata": {
    "id": "oNF-xwx1iknN"
   },
   "outputs": [],
   "source": [
    "seed = 100\n",
    "X_train, X_test, y_train, y_test = train_test_split(X_s, y_s, test_size=0.3, random_state=seed)  \n",
    "folds = KFold(n_splits = 5, shuffle = True, random_state=seed)"
   ]
  },
  {
   "cell_type": "code",
   "execution_count": 18,
   "metadata": {
    "colab": {
     "base_uri": "https://localhost:8080/"
    },
    "id": "Q4r_kXoDiknN",
    "outputId": "b2921971-6340-4dbb-aab8-1ed3d65f8d60"
   },
   "outputs": [
    {
     "name": "stdout",
     "output_type": "stream",
     "text": [
      "Fitting 5 folds for each of 420 candidates, totalling 2100 fits\n"
     ]
    },
    {
     "name": "stderr",
     "output_type": "stream",
     "text": [
      "[Parallel(n_jobs=-1)]: Using backend LokyBackend with 40 concurrent workers.\n",
      "[Parallel(n_jobs=-1)]: Done  84 tasks      | elapsed:    0.4s\n",
      "[Parallel(n_jobs=-1)]: Done 490 tasks      | elapsed:    1.3s\n",
      "[Parallel(n_jobs=-1)]: Done 1056 tasks      | elapsed:    2.5s\n",
      "[Parallel(n_jobs=-1)]: Done 1786 tasks      | elapsed:    4.1s\n"
     ]
    },
    {
     "name": "stdout",
     "output_type": "stream",
     "text": [
      "best hyper parameters {'C': 0.1, 'multi_class': 'multinomial', 'penalty': 'l2', 'solver': 'newton-cg'}\n",
      "Accuracy: 0.5972067039106145\n",
      "F1 score micro: 0.5972067039106145\n",
      "F1 score binary: 0.596981553940749\n",
      "\n",
      "classification report:\n",
      "               precision    recall  f1-score   support\n",
      "\n",
      "         0.0       0.58      0.61      0.60       876\n",
      "         1.0       0.61      0.58      0.60       914\n",
      "\n",
      "    accuracy                           0.60      1790\n",
      "   macro avg       0.60      0.60      0.60      1790\n",
      "weighted avg       0.60      0.60      0.60      1790\n",
      "\n"
     ]
    },
    {
     "name": "stderr",
     "output_type": "stream",
     "text": [
      "[Parallel(n_jobs=-1)]: Done 2100 out of 2100 | elapsed:    4.7s finished\n"
     ]
    }
   ],
   "source": [
    "log_hyper_params = [ \n",
    "                        {\n",
    "                        'C': np.logspace(-4, 2, 7),\n",
    "                        'solver' : ['newton-cg', 'lbfgs', 'liblinear', 'sag', 'saga'],\n",
    "                        'penalty' : ['l1', 'l2', 'elasticnet', 'none'],\n",
    "                        'multi_class' : ['auto', 'ovr', 'multinomial']\n",
    "                        }\n",
    "                    ]\n",
    "\n",
    "# specify model\n",
    "log_model = LogisticRegression()\n",
    "\n",
    "# set up GridSearchCV()\n",
    "log_model_cv = GridSearchCV(estimator = log_model, \n",
    "                            param_grid = log_hyper_params, \n",
    "                            scoring= 'accuracy', \n",
    "                            cv = folds, \n",
    "                            verbose = 2,\n",
    "                            return_train_score=True,\n",
    "                            n_jobs=-1)  \n",
    "\n",
    "# fit the model\n",
    "log_model_cv.fit(X_train, y_train)\n",
    "print(\"best hyper parameters\", log_model_cv.best_params_)\n",
    "log_y_pred = log_model_cv.predict(X_test)\n",
    "\n",
    "# accuracy \n",
    "print(\"Accuracy:\", metrics.accuracy_score(y_test, log_y_pred))\n",
    "# f1 score \n",
    "print(\"F1 score micro:\", f1_score(y_test, log_y_pred, average='micro'))\n",
    "print(\"F1 score binary:\", f1_score(y_test, log_y_pred, average='binary'))\n",
    "\n",
    "print(\"\\nclassification report:\\n\", classification_report(y_test, log_y_pred))"
   ]
  },
  {
   "cell_type": "code",
   "execution_count": 34,
   "metadata": {
    "colab": {
     "base_uri": "https://localhost:8080/",
     "height": 379
    },
    "id": "MOVeuxdOiknN",
    "outputId": "fdd16cac-419e-4ec4-8b1e-2cac2307ac5b"
   },
   "outputs": [
    {
     "name": "stdout",
     "output_type": "stream",
     "text": [
      "[learning_curve] Training set sizes: [ 668  808  949 1089 1230 1371 1511 1652 1793 1933 2074 2214 2355 2496\n",
      " 2636 2777 2918 3058 3199 3340]\n"
     ]
    },
    {
     "name": "stderr",
     "output_type": "stream",
     "text": [
      "[Parallel(n_jobs=-1)]: Using backend LokyBackend with 40 concurrent workers.\n",
      "[Parallel(n_jobs=-1)]: Done  50 out of 100 | elapsed:    0.2s remaining:    0.2s\n",
      "[Parallel(n_jobs=-1)]: Done 100 out of 100 | elapsed:    0.4s finished\n"
     ]
    },
    {
     "data": {
      "image/png": "[encoded data removed]",
      "text/plain": [
       "<Figure size 432x288 with 1 Axes>"
      ]
     },
     "metadata": {
      "needs_background": "light",
      "tags": []
     },
     "output_type": "display_data"
    }
   ],
   "source": [
    "# ------ HERE ------\n",
    "\n",
    "# plug in suitable hyper-parameters\n",
    "\n",
    "\n",
    "# 여기만 바꾸면 된다. \n",
    "plot_model = LogisticRegression(C=0.1, multi_class='multinomial', penalty='l2', solver='newton-cg')\n",
    "\n",
    "\n",
    "train_sizes_seed100, train_scores_seed100, val_scores_seed100 = learning_curve(plot_model, \n",
    "                                                                X_train, \n",
    "                                                                y_train, \n",
    "                                                                cv=5, \n",
    "                                                                scoring='accuracy', \n",
    "                                                                n_jobs=-1, # 이거 바꾸고 싶으면 바꾸고  \n",
    "                                                                train_sizes=np.linspace(0.2, 1, 20), \n",
    "                                                                verbose=2)\n",
    "\n",
    "\n",
    "train_mean_seed100 = np.mean(train_scores_seed100, axis = 1)\n",
    "train_std_seed100  = np.std(train_scores_seed100, axis=1)\n",
    "val_mean_seed100   = np.mean(val_scores_seed100, axis=1)\n",
    "val_std_seed100    = np.std(val_scores_seed100, axis=1)\n",
    "\n",
    "plt.plot(train_sizes_seed100, train_mean_seed100, label='Training accuracy')\n",
    "plt.plot(train_sizes_seed100, val_mean_seed100,   label='Cross-validation accuracy')\n",
    "plt.title ('Learning curve')\n",
    "plt.xlabel('Training Size')\n",
    "plt.ylabel('Accuracy score')\n",
    "plt.legend(loc='best')\n",
    "plt.show()"
   ]
  },
  {
   "cell_type": "markdown",
   "metadata": {
    "id": "ccwNeeBLiknO"
   },
   "source": [
    "## Seed 1234"
   ]
  },
  {
   "cell_type": "code",
   "execution_count": 35,
   "metadata": {
    "id": "UROMdP05iknP"
   },
   "outputs": [],
   "source": [
    "seed = 1234\n",
    "X_train, X_test, y_train, y_test = train_test_split(X_s, y_s, test_size=0.3, random_state=seed)  \n",
    "folds = KFold(n_splits = 5, shuffle = True, random_state=seed)"
   ]
  },
  {
   "cell_type": "code",
   "execution_count": 9,
   "metadata": {
    "colab": {
     "base_uri": "https://localhost:8080/"
    },
    "id": "ExoQNZ6FiknP",
    "outputId": "9a8410ce-1ce5-46c2-f97c-b519644620ac"
   },
   "outputs": [
    {
     "name": "stdout",
     "output_type": "stream",
     "text": [
      "Fitting 5 folds for each of 420 candidates, totalling 2100 fits\n"
     ]
    },
    {
     "name": "stderr",
     "output_type": "stream",
     "text": [
      "[Parallel(n_jobs=-1)]: Using backend LokyBackend with 40 concurrent workers.\n",
      "[Parallel(n_jobs=-1)]: Done  82 tasks      | elapsed:    1.7s\n",
      "[Parallel(n_jobs=-1)]: Done 285 tasks      | elapsed:    2.5s\n",
      "[Parallel(n_jobs=-1)]: Done 568 tasks      | elapsed:    3.6s\n",
      "[Parallel(n_jobs=-1)]: Done 933 tasks      | elapsed:    4.9s\n",
      "[Parallel(n_jobs=-1)]: Done 1378 tasks      | elapsed:    6.5s\n",
      "[Parallel(n_jobs=-1)]: Done 1905 tasks      | elapsed:    8.3s\n"
     ]
    },
    {
     "name": "stdout",
     "output_type": "stream",
     "text": [
      "best hyper parameters {'C': 0.01, 'multi_class': 'auto', 'penalty': 'l2', 'solver': 'newton-cg'}\n",
      "Accuracy: 0.6134078212290502\n",
      "F1 score micro: 0.6134078212290502\n",
      "F1 score binary: 0.6226826608505998\n",
      "\n",
      "classification report:\n",
      "               precision    recall  f1-score   support\n",
      "\n",
      "         0.0       0.61      0.60      0.60       883\n",
      "         1.0       0.62      0.63      0.62       907\n",
      "\n",
      "    accuracy                           0.61      1790\n",
      "   macro avg       0.61      0.61      0.61      1790\n",
      "weighted avg       0.61      0.61      0.61      1790\n",
      "\n"
     ]
    },
    {
     "name": "stderr",
     "output_type": "stream",
     "text": [
      "[Parallel(n_jobs=-1)]: Done 2100 out of 2100 | elapsed:    9.0s finished\n"
     ]
    }
   ],
   "source": [
    "log_hyper_params = [ \n",
    "                        {\n",
    "                        'C': np.logspace(-4, 2, 7),\n",
    "                        'solver' : ['newton-cg', 'lbfgs', 'liblinear', 'sag', 'saga'],\n",
    "                        'penalty' : ['l1', 'l2', 'elasticnet', 'none'],\n",
    "                        'multi_class' : ['auto', 'ovr', 'multinomial']\n",
    "                        }\n",
    "                    ]\n",
    "\n",
    "# specify model\n",
    "log_model = LogisticRegression()\n",
    "\n",
    "# set up GridSearchCV()\n",
    "log_model_cv = GridSearchCV(estimator = log_model, \n",
    "                            param_grid = log_hyper_params, \n",
    "                            scoring= 'accuracy', \n",
    "                            cv = folds, \n",
    "                            verbose = 2,\n",
    "                            return_train_score=True,\n",
    "                            n_jobs=-1)  \n",
    "\n",
    "# fit the model\n",
    "log_model_cv.fit(X_train, y_train)\n",
    "print(\"best hyper parameters\", log_model_cv.best_params_)\n",
    "log_y_pred = log_model_cv.predict(X_test)\n",
    "\n",
    "# accuracy \n",
    "print(\"Accuracy:\", metrics.accuracy_score(y_test, log_y_pred))\n",
    "# f1 score \n",
    "print(\"F1 score micro:\", f1_score(y_test, log_y_pred, average='micro'))\n",
    "print(\"F1 score binary:\", f1_score(y_test, log_y_pred, average='binary'))\n",
    "\n",
    "print(\"\\nclassification report:\\n\", classification_report(y_test, log_y_pred))"
   ]
  },
  {
   "cell_type": "code",
   "execution_count": 36,
   "metadata": {
    "colab": {
     "base_uri": "https://localhost:8080/",
     "height": 379
    },
    "id": "A1li0aC2iknQ",
    "outputId": "6d16ca3d-20f4-425c-a318-c56e58f84ff1"
   },
   "outputs": [
    {
     "name": "stdout",
     "output_type": "stream",
     "text": [
      "[learning_curve] Training set sizes: [ 668  808  949 1089 1230 1371 1511 1652 1793 1933 2074 2214 2355 2496\n",
      " 2636 2777 2918 3058 3199 3340]\n"
     ]
    },
    {
     "name": "stderr",
     "output_type": "stream",
     "text": [
      "[Parallel(n_jobs=-1)]: Using backend LokyBackend with 40 concurrent workers.\n",
      "[Parallel(n_jobs=-1)]: Done  50 out of 100 | elapsed:    0.2s remaining:    0.2s\n",
      "[Parallel(n_jobs=-1)]: Done 100 out of 100 | elapsed:    0.3s finished\n"
     ]
    },
    {
     "data": {
      "image/png": "[encoded data removed]",
      "text/plain": [
       "<Figure size 432x288 with 1 Axes>"
      ]
     },
     "metadata": {
      "needs_background": "light",
      "tags": []
     },
     "output_type": "display_data"
    }
   ],
   "source": [
    "plot_model = LogisticRegression(C=0.01, multi_class='auto', penalty='l2', solver='newton-cg')\n",
    "\n",
    "train_sizes_seed1234, train_scores_seed1234, val_scores_seed1234 = learning_curve(plot_model, \n",
    "                                                                X_train, \n",
    "                                                                y_train, \n",
    "                                                                cv=5, \n",
    "                                                                scoring='accuracy', \n",
    "                                                                n_jobs=-1, # 이거 바꾸고 싶으면 바꾸고  \n",
    "                                                                train_sizes=np.linspace(0.2, 1, 20), \n",
    "                                                                verbose=2)\n",
    "\n",
    "\n",
    "train_mean_seed1234 = np.mean(train_scores_seed1234, axis = 1)\n",
    "train_std_seed1234  = np.std(train_scores_seed1234, axis=1)\n",
    "val_mean_seed1234   = np.mean(val_scores_seed1234, axis=1)\n",
    "val_std_seed1234    = np.std(val_scores_seed1234, axis=1)\n",
    "\n",
    "plt.plot(train_sizes_seed1234, train_mean_seed1234, label='Training accuracy')\n",
    "plt.plot(train_sizes_seed1234, val_mean_seed1234,   label='Cross-validation accuracy')\n",
    "plt.title ('Learning curve')\n",
    "plt.xlabel('Training Size')\n",
    "plt.ylabel('Accuracy score')\n",
    "plt.legend(loc='best')\n",
    "plt.show()"
   ]
  },
  {
   "cell_type": "markdown",
   "metadata": {
    "id": "VKJU2QtiiknS"
   },
   "source": [
    "## Seed 500"
   ]
  },
  {
   "cell_type": "code",
   "execution_count": 37,
   "metadata": {
    "id": "m2JG45HoiknV"
   },
   "outputs": [],
   "source": [
    "seed = 500\n",
    "X_train, X_test, y_train, y_test = train_test_split(X_s, y_s, test_size=0.3, random_state=seed)  \n",
    "folds = KFold(n_splits = 5, shuffle = True, random_state=seed)"
   ]
  },
  {
   "cell_type": "code",
   "execution_count": 12,
   "metadata": {
    "colab": {
     "base_uri": "https://localhost:8080/"
    },
    "id": "v5efwtjMiknW",
    "outputId": "4c8b9d58-f893-4063-bd6d-5a4d7159a021"
   },
   "outputs": [
    {
     "name": "stdout",
     "output_type": "stream",
     "text": [
      "Fitting 5 folds for each of 420 candidates, totalling 2100 fits\n"
     ]
    },
    {
     "name": "stderr",
     "output_type": "stream",
     "text": [
      "[Parallel(n_jobs=-1)]: Using backend LokyBackend with 40 concurrent workers.\n",
      "[Parallel(n_jobs=-1)]: Done  84 tasks      | elapsed:    0.4s\n",
      "[Parallel(n_jobs=-1)]: Done 490 tasks      | elapsed:    1.2s\n",
      "[Parallel(n_jobs=-1)]: Done 1056 tasks      | elapsed:    2.3s\n",
      "[Parallel(n_jobs=-1)]: Done 1786 tasks      | elapsed:    3.9s\n"
     ]
    },
    {
     "name": "stdout",
     "output_type": "stream",
     "text": [
      "best hyper parameters {'C': 0.1, 'multi_class': 'auto', 'penalty': 'l2', 'solver': 'liblinear'}\n",
      "Accuracy: 0.6206703910614525\n",
      "F1 score micro: 0.6206703910614525\n",
      "F1 score binary: 0.6347498655190963\n",
      "\n",
      "classification report:\n",
      "               precision    recall  f1-score   support\n",
      "\n",
      "         0.0       0.62      0.59      0.61       878\n",
      "         1.0       0.62      0.65      0.63       912\n",
      "\n",
      "    accuracy                           0.62      1790\n",
      "   macro avg       0.62      0.62      0.62      1790\n",
      "weighted avg       0.62      0.62      0.62      1790\n",
      "\n"
     ]
    },
    {
     "name": "stderr",
     "output_type": "stream",
     "text": [
      "[Parallel(n_jobs=-1)]: Done 2100 out of 2100 | elapsed:    4.6s finished\n"
     ]
    }
   ],
   "source": [
    "log_hyper_params = [ \n",
    "                        {\n",
    "                        'C': np.logspace(-4, 2, 7),\n",
    "                        'solver' : ['newton-cg', 'lbfgs', 'liblinear', 'sag', 'saga'],\n",
    "                        'penalty' : ['l1', 'l2', 'elasticnet', 'none'],\n",
    "                        'multi_class' : ['auto', 'ovr', 'multinomial']\n",
    "                        }\n",
    "                    ]\n",
    "\n",
    "# specify model\n",
    "log_model = LogisticRegression()\n",
    "\n",
    "# set up GridSearchCV()\n",
    "log_model_cv = GridSearchCV(estimator = log_model, \n",
    "                            param_grid = log_hyper_params, \n",
    "                            scoring= 'accuracy', \n",
    "                            cv = folds, \n",
    "                            verbose = 2,\n",
    "                            return_train_score=True,\n",
    "                            n_jobs=-1)  \n",
    "\n",
    "# fit the model\n",
    "log_model_cv.fit(X_train, y_train)\n",
    "print(\"best hyper parameters\", log_model_cv.best_params_)\n",
    "log_y_pred = log_model_cv.predict(X_test)\n",
    "\n",
    "# accuracy \n",
    "print(\"Accuracy:\", metrics.accuracy_score(y_test, log_y_pred))\n",
    "# f1 score \n",
    "print(\"F1 score micro:\", f1_score(y_test, log_y_pred, average='micro'))\n",
    "print(\"F1 score binary:\", f1_score(y_test, log_y_pred, average='binary'))\n",
    "\n",
    "print(\"\\nclassification report:\\n\", classification_report(y_test, log_y_pred))"
   ]
  },
  {
   "cell_type": "code",
   "execution_count": 38,
   "metadata": {
    "colab": {
     "base_uri": "https://localhost:8080/",
     "height": 379
    },
    "id": "xVknib0WiknW",
    "outputId": "d8b0baae-8d3f-4725-84d6-b3db0f11b314"
   },
   "outputs": [
    {
     "name": "stdout",
     "output_type": "stream",
     "text": [
      "[learning_curve] Training set sizes: [ 668  808  949 1089 1230 1371 1511 1652 1793 1933 2074 2214 2355 2496\n",
      " 2636 2777 2918 3058 3199 3340]\n"
     ]
    },
    {
     "name": "stderr",
     "output_type": "stream",
     "text": [
      "[Parallel(n_jobs=-1)]: Using backend LokyBackend with 40 concurrent workers.\n",
      "[Parallel(n_jobs=-1)]: Done  50 out of 100 | elapsed:    0.3s remaining:    0.3s\n",
      "[Parallel(n_jobs=-1)]: Done 100 out of 100 | elapsed:    0.4s finished\n"
     ]
    },
    {
     "data": {
      "image/png": "[encoded data removed]",
      "text/plain": [
       "<Figure size 432x288 with 1 Axes>"
      ]
     },
     "metadata": {
      "needs_background": "light",
      "tags": []
     },
     "output_type": "display_data"
    }
   ],
   "source": [
    "plot_model = LogisticRegression(C=0.1, multi_class='auto', penalty='l2', solver='liblinear')\n",
    "\n",
    "train_sizes_seed500, train_scores_seed500, val_scores_seed500 = learning_curve(plot_model, \n",
    "                                                                X_train, \n",
    "                                                                y_train, \n",
    "                                                                cv=5, \n",
    "                                                                scoring='accuracy', \n",
    "                                                                n_jobs=-1, # 이거 바꾸고 싶으면 바꾸고  \n",
    "                                                                train_sizes=np.linspace(0.2, 1, 20), \n",
    "                                                                verbose=2)\n",
    "\n",
    "\n",
    "train_mean_seed500 = np.mean(train_scores_seed500, axis = 1)\n",
    "train_std_seed500  = np.std(train_scores_seed500, axis=1)\n",
    "val_mean_seed500   = np.mean(val_scores_seed500, axis=1)\n",
    "val_std_seed500    = np.std(val_scores_seed500, axis=1)\n",
    "\n",
    "plt.plot(train_sizes_seed500, train_mean_seed500, label='Training accuracy')\n",
    "plt.plot(train_sizes_seed500, val_mean_seed500,   label='Cross-validation accuracy')\n",
    "plt.title ('Learning curve')\n",
    "plt.xlabel('Training Size')\n",
    "plt.ylabel('Accuracy score')\n",
    "plt.legend(loc='best')\n",
    "plt.show()"
   ]
  },
  {
   "cell_type": "code",
   "execution_count": 15,
   "metadata": {
    "id": "vu1Uhn9ViknX"
   },
   "outputs": [],
   "source": [
    "# learning curve considering different seeds "
   ]
  },
  {
   "cell_type": "code",
   "execution_count": 39,
   "metadata": {
    "id": "D4iB49w5iknX"
   },
   "outputs": [],
   "source": [
    "acc_avg = list()\n",
    "acc_se  = list()\n",
    "\n",
    "val_avg = list()\n",
    "val_se  = list()\n",
    "\n",
    "for i in range(len(train_sizes_seed100)):\n",
    "    acc_avg.append(np.mean([train_mean_seed100[i], train_mean_seed500[i], train_mean_seed1234[i]]))\n",
    "    acc_se .append(np.std ([train_mean_seed100[i], train_mean_seed500[i], train_mean_seed1234[i]]) / np.sqrt(3))\n",
    "    \n",
    "    val_avg.append(np.mean([val_mean_seed100[i], val_mean_seed500[i], val_mean_seed1234[i]]))\n",
    "    val_se .append(np.std ([val_mean_seed100[i], val_mean_seed500[i], val_mean_seed1234[i]]) / np.sqrt(3))"
   ]
  },
  {
   "cell_type": "code",
   "execution_count": 40,
   "metadata": {
    "colab": {
     "base_uri": "https://localhost:8080/",
     "height": 404
    },
    "id": "HBORt27SiknX",
    "outputId": "4962eb6b-f3a2-4ee1-809c-2cd09282270b"
   },
   "outputs": [
    {
     "data": {
      "image/png": "[encoded data removed]",
      "text/plain": [
       "<Figure size 576x432 with 1 Axes>"
      ]
     },
     "metadata": {
      "needs_background": "light",
      "tags": []
     },
     "output_type": "display_data"
    }
   ],
   "source": [
    "fig, ax = plt.subplots(figsize=(8, 6))\n",
    "\n",
    "ax.plot(train_sizes_seed100, acc_avg, c='darkred', label='Training accuracy')\n",
    "ax.fill_between(train_sizes_seed100, np.subtract(acc_avg, acc_se), np.add(acc_avg, acc_se), color='lightcoral', alpha=0.5)\n",
    "\n",
    "ax.plot(train_sizes_seed100, val_avg, c='darkgreen', label='Validation accuracy')\n",
    "ax.fill_between(train_sizes_seed100, np.subtract(val_avg, val_se), np.add(val_avg, val_se), color='lime', alpha=0.5)\n",
    "\n",
    "ax.set_xlabel('Training Size')\n",
    "ax.set_ylabel('Accuracy')\n",
    "ax.set_title('Logistic Regression Oversampled panic_score')\n",
    "ax.axhline(y=0.5, color='blue', linestyle='-', label='Random Guess: Always predict no depression')\n",
    "ax.legend()\n",
    "ax.grid()"
   ]
  },
  {
   "cell_type": "markdown",
   "metadata": {
    "id": "ccMnWj65u9t8"
   },
   "source": [
    "The training and validation curve look like it is converging. Although they converge, the error is quite high. This indicates that it is unlikely to have the relationship between screen time and mental health. Maybe LR model is not appropriate to find the relationship."
   ]
  },
  {
   "cell_type": "markdown",
   "metadata": {
    "id": "NGUlv63WiknX"
   },
   "source": [
    "# KNN"
   ]
  },
  {
   "cell_type": "markdown",
   "metadata": {
    "id": "iiggWIdgiknX"
   },
   "source": [
    "## Seed 100"
   ]
  },
  {
   "cell_type": "code",
   "execution_count": 41,
   "metadata": {
    "id": "HQvaOtGNiknY"
   },
   "outputs": [],
   "source": [
    "seed = 100\n",
    "X_train, X_test, y_train, y_test = train_test_split(X_s, y_s, test_size=0.3, random_state=seed)  \n",
    "folds = KFold(n_splits = 5, shuffle = True, random_state=seed)"
   ]
  },
  {
   "cell_type": "code",
   "execution_count": 42,
   "metadata": {
    "colab": {
     "base_uri": "https://localhost:8080/"
    },
    "id": "piT8c5bLiknY",
    "outputId": "eb34624f-2062-42eb-99df-27939a32cfbd"
   },
   "outputs": [
    {
     "name": "stdout",
     "output_type": "stream",
     "text": [
      "Fitting 5 folds for each of 800 candidates, totalling 4000 fits\n"
     ]
    },
    {
     "name": "stderr",
     "output_type": "stream",
     "text": [
      "[Parallel(n_jobs=-1)]: Using backend LokyBackend with 40 concurrent workers.\n",
      "[Parallel(n_jobs=-1)]: Done  82 tasks      | elapsed:    1.4s\n",
      "[Parallel(n_jobs=-1)]: Done 285 tasks      | elapsed:    3.2s\n",
      "[Parallel(n_jobs=-1)]: Done 568 tasks      | elapsed:    5.4s\n",
      "[Parallel(n_jobs=-1)]: Done 933 tasks      | elapsed:    8.2s\n",
      "[Parallel(n_jobs=-1)]: Done 1378 tasks      | elapsed:   12.5s\n",
      "[Parallel(n_jobs=-1)]: Done 1905 tasks      | elapsed:   17.8s\n",
      "[Parallel(n_jobs=-1)]: Done 2512 tasks      | elapsed:   23.4s\n",
      "[Parallel(n_jobs=-1)]: Done 3201 tasks      | elapsed:   33.6s\n"
     ]
    },
    {
     "name": "stdout",
     "output_type": "stream",
     "text": [
      "best hyper parameters {'algorithm': 'auto', 'leaf_size': 34, 'n_neighbors': 18, 'weights': 'distance'}\n",
      "Accuracy: 0.852513966480447\n",
      "F1 score micro: 0.8525139664804471\n",
      "F1 score binary: 0.8687872763419483\n",
      "\n",
      "classification report:\n",
      "               precision    recall  f1-score   support\n",
      "\n",
      "         0.0       0.94      0.74      0.83       876\n",
      "         1.0       0.80      0.96      0.87       914\n",
      "\n",
      "    accuracy                           0.85      1790\n",
      "   macro avg       0.87      0.85      0.85      1790\n",
      "weighted avg       0.87      0.85      0.85      1790\n",
      "\n"
     ]
    },
    {
     "name": "stderr",
     "output_type": "stream",
     "text": [
      "[Parallel(n_jobs=-1)]: Done 4000 out of 4000 | elapsed:   57.0s finished\n"
     ]
    }
   ],
   "source": [
    "knn_hyper_params = [ \n",
    "                        {\n",
    "                        'weights' : ['uniform', 'distance'],\n",
    "                        'algorithm' : ['auto', 'ball_tree', 'kd_tree', 'brute'],\n",
    "                        'leaf_size' : np.linspace(2, 100, 10, dtype=int),\n",
    "                        'n_neighbors' : [int(x) for x in np.linspace(2, 50, 10)]\n",
    "                        }\n",
    "                    ]\n",
    "\n",
    "# specify model\n",
    "\n",
    "# THIS SECTION SHOULD BE CHANGED.\n",
    "# n_neighbors  SHOULD BE MODIFIED TO ANOTHER VALUE DEPENDING ON THE TARGET VALUE.\n",
    "knn_model = KNeighborsClassifier()\n",
    "\n",
    "# set up GridSearchCV()\n",
    "knn_model_cv = GridSearchCV(estimator = knn_model, \n",
    "                            param_grid = knn_hyper_params, \n",
    "                            scoring= 'accuracy', \n",
    "                            cv = folds, \n",
    "                            verbose = 2,\n",
    "                            return_train_score=True,\n",
    "                            n_jobs=-1)  \n",
    "\n",
    "# fit the model\n",
    "knn_model_cv.fit(X_train, y_train)\n",
    "print(\"best hyper parameters\", knn_model_cv.best_params_)\n",
    "knn_y_pred = knn_model_cv.predict(X_test)\n",
    "\n",
    "# accuracy \n",
    "print(\"Accuracy:\", metrics.accuracy_score(y_test, knn_y_pred))\n",
    "# f1 score \n",
    "print(\"F1 score micro:\", f1_score(y_test, knn_y_pred, average='micro'))\n",
    "print(\"F1 score binary:\", f1_score(y_test, knn_y_pred, average='binary'))\n",
    "\n",
    "print(\"\\nclassification report:\\n\", classification_report(y_test, knn_y_pred))"
   ]
  },
  {
   "cell_type": "code",
   "execution_count": 43,
   "metadata": {
    "colab": {
     "base_uri": "https://localhost:8080/",
     "height": 379
    },
    "id": "gQ-ciWVIiknZ",
    "outputId": "48a84d25-1b75-471c-d053-9c35a7a948d3"
   },
   "outputs": [
    {
     "name": "stdout",
     "output_type": "stream",
     "text": [
      "[learning_curve] Training set sizes: [ 668  808  949 1089 1230 1371 1511 1652 1793 1933 2074 2214 2355 2496\n",
      " 2636 2777 2918 3058 3199 3340]\n"
     ]
    },
    {
     "name": "stderr",
     "output_type": "stream",
     "text": [
      "[Parallel(n_jobs=-1)]: Using backend LokyBackend with 40 concurrent workers.\n",
      "[Parallel(n_jobs=-1)]: Done  50 out of 100 | elapsed:    0.2s remaining:    0.2s\n",
      "[Parallel(n_jobs=-1)]: Done 100 out of 100 | elapsed:    0.5s finished\n"
     ]
    },
    {
     "data": {
      "image/png": "[encoded data removed]",
      "text/plain": [
       "<Figure size 432x288 with 1 Axes>"
      ]
     },
     "metadata": {
      "needs_background": "light",
      "tags": []
     },
     "output_type": "display_data"
    }
   ],
   "source": [
    "# ------ HERE ------\n",
    "\n",
    "# plug in suitable hyper-parameters\n",
    "\n",
    "\n",
    "# 여기만 바꾸면 된다. \n",
    "plot_model = KNeighborsClassifier(algorithm='auto', leaf_size=34, weights='distance', n_neighbors=18)\n",
    "\n",
    "\n",
    "train_sizes_seed100, train_scores_seed100, val_scores_seed100 = learning_curve(plot_model, \n",
    "                                                                X_train, \n",
    "                                                                y_train, \n",
    "                                                                cv=5, \n",
    "                                                                scoring='accuracy', \n",
    "                                                                n_jobs=-1, # 이거 바꾸고 싶으면 바꾸고  \n",
    "                                                                train_sizes=np.linspace(0.2, 1, 20), \n",
    "                                                                verbose=2)\n",
    "\n",
    "\n",
    "train_mean_seed100 = np.mean(train_scores_seed100, axis = 1)\n",
    "train_std_seed100  = np.std(train_scores_seed100, axis=1)\n",
    "val_mean_seed100   = np.mean(val_scores_seed100, axis=1)\n",
    "val_std_seed100    = np.std(val_scores_seed100, axis=1)\n",
    "\n",
    "plt.plot(train_sizes_seed100, train_mean_seed100, label='Training accuracy')\n",
    "plt.plot(train_sizes_seed100, val_mean_seed100,   label='Cross-validation accuracy')\n",
    "plt.title ('Learning curve')\n",
    "plt.xlabel('Training Size')\n",
    "plt.ylabel('Accuracy score')\n",
    "plt.legend(loc='best')\n",
    "plt.show()"
   ]
  },
  {
   "cell_type": "markdown",
   "metadata": {
    "id": "-YvozWatikna"
   },
   "source": [
    "## Seed 1234"
   ]
  },
  {
   "cell_type": "code",
   "execution_count": 44,
   "metadata": {
    "id": "VV6ihyyLikna"
   },
   "outputs": [],
   "source": [
    "seed = 1234\n",
    "X_train, X_test, y_train, y_test = train_test_split(X_s, y_s, test_size=0.3, random_state=seed)  \n",
    "folds = KFold(n_splits = 5, shuffle = True, random_state=seed)"
   ]
  },
  {
   "cell_type": "code",
   "execution_count": 45,
   "metadata": {
    "colab": {
     "base_uri": "https://localhost:8080/"
    },
    "id": "bETJZcxHikna",
    "outputId": "fb966a90-c8c2-4697-83d6-6337b5827a39"
   },
   "outputs": [
    {
     "name": "stdout",
     "output_type": "stream",
     "text": [
      "Fitting 5 folds for each of 800 candidates, totalling 4000 fits\n"
     ]
    },
    {
     "name": "stderr",
     "output_type": "stream",
     "text": [
      "[Parallel(n_jobs=-1)]: Using backend LokyBackend with 40 concurrent workers.\n",
      "[Parallel(n_jobs=-1)]: Done  85 tasks      | elapsed:    1.5s\n",
      "[Parallel(n_jobs=-1)]: Done 490 tasks      | elapsed:    4.9s\n",
      "[Parallel(n_jobs=-1)]: Done 1056 tasks      | elapsed:    9.4s\n",
      "[Parallel(n_jobs=-1)]: Done 1786 tasks      | elapsed:   16.3s\n",
      "[Parallel(n_jobs=-1)]: Done 2498 tasks      | elapsed:   22.7s\n",
      "[Parallel(n_jobs=-1)]: Done 3025 tasks      | elapsed:   27.6s\n",
      "[Parallel(n_jobs=-1)]: Done 3632 tasks      | elapsed:   44.9s\n",
      "[Parallel(n_jobs=-1)]: Done 4000 out of 4000 | elapsed:   54.8s finished\n"
     ]
    },
    {
     "name": "stdout",
     "output_type": "stream",
     "text": [
      "best hyper parameters {'algorithm': 'brute', 'leaf_size': 2, 'n_neighbors': 23, 'weights': 'distance'}\n",
      "Accuracy: 0.8491620111731844\n",
      "F1 score micro: 0.8491620111731844\n",
      "F1 score binary: 0.8668639053254439\n",
      "\n",
      "classification report:\n",
      "               precision    recall  f1-score   support\n",
      "\n",
      "         0.0       0.96      0.73      0.83       883\n",
      "         1.0       0.78      0.97      0.87       907\n",
      "\n",
      "    accuracy                           0.85      1790\n",
      "   macro avg       0.87      0.85      0.85      1790\n",
      "weighted avg       0.87      0.85      0.85      1790\n",
      "\n"
     ]
    }
   ],
   "source": [
    "knn_hyper_params = [ \n",
    "                        {\n",
    "                        'weights' : ['uniform', 'distance'],\n",
    "                        'algorithm' : ['auto', 'ball_tree', 'kd_tree', 'brute'],\n",
    "                        'leaf_size' : np.linspace(2, 100, 10, dtype=int),\n",
    "                        'n_neighbors' : [int(x) for x in np.linspace(2, 50, 10)]\n",
    "                        }\n",
    "                    ]\n",
    "\n",
    "# specify model\n",
    "\n",
    "# THIS SECTION SHOULD BE CHANGED.\n",
    "# n_neighbors  SHOULD BE MODIFIED TO ANOTHER VALUE DEPENDING ON THE TARGET VALUE.\n",
    "knn_model = KNeighborsClassifier()\n",
    "\n",
    "# set up GridSearchCV()\n",
    "knn_model_cv = GridSearchCV(estimator = knn_model, \n",
    "                            param_grid = knn_hyper_params, \n",
    "                            scoring= 'accuracy', \n",
    "                            cv = folds, \n",
    "                            verbose = 2,\n",
    "                            return_train_score=True,\n",
    "                            n_jobs=-1)  \n",
    "\n",
    "# fit the model\n",
    "knn_model_cv.fit(X_train, y_train)\n",
    "print(\"best hyper parameters\", knn_model_cv.best_params_)\n",
    "knn_y_pred = knn_model_cv.predict(X_test)\n",
    "\n",
    "# accuracy \n",
    "print(\"Accuracy:\", metrics.accuracy_score(y_test, knn_y_pred))\n",
    "# f1 score \n",
    "print(\"F1 score micro:\", f1_score(y_test, knn_y_pred, average='micro'))\n",
    "print(\"F1 score binary:\", f1_score(y_test, knn_y_pred, average='binary'))\n",
    "\n",
    "print(\"\\nclassification report:\\n\", classification_report(y_test, knn_y_pred))"
   ]
  },
  {
   "cell_type": "code",
   "execution_count": 46,
   "metadata": {
    "colab": {
     "base_uri": "https://localhost:8080/",
     "height": 379
    },
    "id": "rPVd4M8Mikna",
    "outputId": "62479c31-2dce-45e4-9e51-7780bedc1c70"
   },
   "outputs": [
    {
     "name": "stdout",
     "output_type": "stream",
     "text": [
      "[learning_curve] Training set sizes: [ 668  808  949 1089 1230 1371 1511 1652 1793 1933 2074 2214 2355 2496\n",
      " 2636 2777 2918 3058 3199 3340]\n"
     ]
    },
    {
     "name": "stderr",
     "output_type": "stream",
     "text": [
      "[Parallel(n_jobs=-1)]: Using backend LokyBackend with 40 concurrent workers.\n",
      "[Parallel(n_jobs=-1)]: Done  50 out of 100 | elapsed:    0.8s remaining:    0.8s\n",
      "[Parallel(n_jobs=-1)]: Done 100 out of 100 | elapsed:    1.4s finished\n"
     ]
    },
    {
     "data": {
      "image/png": "[encoded data removed]",
      "text/plain": [
       "<Figure size 432x288 with 1 Axes>"
      ]
     },
     "metadata": {
      "needs_background": "light",
      "tags": []
     },
     "output_type": "display_data"
    }
   ],
   "source": [
    "plot_model = KNeighborsClassifier(algorithm='brute', leaf_size=2, weights='distance', n_neighbors=23)\n",
    "\n",
    "train_sizes_seed1234, train_scores_seed1234, val_scores_seed1234 = learning_curve(plot_model, \n",
    "                                                                X_train, \n",
    "                                                                y_train, \n",
    "                                                                cv=5, \n",
    "                                                                scoring='accuracy', \n",
    "                                                                n_jobs=-1, # 이거 바꾸고 싶으면 바꾸고  \n",
    "                                                                train_sizes=np.linspace(0.2, 1, 20), \n",
    "                                                                verbose=2)\n",
    "\n",
    "\n",
    "train_mean_seed1234 = np.mean(train_scores_seed1234, axis = 1)\n",
    "train_std_seed1234  = np.std(train_scores_seed1234, axis=1)\n",
    "val_mean_seed1234   = np.mean(val_scores_seed1234, axis=1)\n",
    "val_std_seed1234    = np.std(val_scores_seed1234, axis=1)\n",
    "\n",
    "plt.plot(train_sizes_seed1234, train_mean_seed1234, label='Training accuracy')\n",
    "plt.plot(train_sizes_seed1234, val_mean_seed1234,   label='Cross-validation accuracy')\n",
    "plt.title ('Learning curve')\n",
    "plt.xlabel('Training Size')\n",
    "plt.ylabel('Accuracy score')\n",
    "plt.legend(loc='best')\n",
    "plt.show()"
   ]
  },
  {
   "cell_type": "markdown",
   "metadata": {
    "id": "t5htSu2zikna"
   },
   "source": [
    "## Seed 500"
   ]
  },
  {
   "cell_type": "code",
   "execution_count": 47,
   "metadata": {
    "id": "CdDMzagvikna"
   },
   "outputs": [],
   "source": [
    "seed = 500\n",
    "X_train, X_test, y_train, y_test = train_test_split(X_s, y_s, test_size=0.3, random_state=seed)  \n",
    "folds = KFold(n_splits = 5, shuffle = True, random_state=seed)"
   ]
  },
  {
   "cell_type": "code",
   "execution_count": 48,
   "metadata": {
    "colab": {
     "base_uri": "https://localhost:8080/"
    },
    "id": "_YUwJnEKikna",
    "outputId": "3f9d152f-a742-4ddd-a204-4b3dbb8157bb"
   },
   "outputs": [
    {
     "name": "stdout",
     "output_type": "stream",
     "text": [
      "Fitting 5 folds for each of 800 candidates, totalling 4000 fits\n"
     ]
    },
    {
     "name": "stderr",
     "output_type": "stream",
     "text": [
      "[Parallel(n_jobs=-1)]: Using backend LokyBackend with 40 concurrent workers.\n",
      "[Parallel(n_jobs=-1)]: Done  82 tasks      | elapsed:    1.4s\n",
      "[Parallel(n_jobs=-1)]: Done 285 tasks      | elapsed:    3.2s\n",
      "[Parallel(n_jobs=-1)]: Done 568 tasks      | elapsed:    5.4s\n",
      "[Parallel(n_jobs=-1)]: Done 933 tasks      | elapsed:    8.2s\n",
      "[Parallel(n_jobs=-1)]: Done 1378 tasks      | elapsed:   12.5s\n",
      "[Parallel(n_jobs=-1)]: Done 1905 tasks      | elapsed:   17.6s\n",
      "[Parallel(n_jobs=-1)]: Done 2512 tasks      | elapsed:   23.3s\n",
      "[Parallel(n_jobs=-1)]: Done 3201 tasks      | elapsed:   32.7s\n"
     ]
    },
    {
     "name": "stdout",
     "output_type": "stream",
     "text": [
      "best hyper parameters {'algorithm': 'ball_tree', 'leaf_size': 12, 'n_neighbors': 7, 'weights': 'distance'}\n",
      "Accuracy: 0.840782122905028\n",
      "F1 score micro: 0.840782122905028\n",
      "F1 score binary: 0.8549618320610686\n",
      "\n",
      "classification report:\n",
      "               precision    recall  f1-score   support\n",
      "\n",
      "         0.0       0.90      0.76      0.82       878\n",
      "         1.0       0.80      0.92      0.85       912\n",
      "\n",
      "    accuracy                           0.84      1790\n",
      "   macro avg       0.85      0.84      0.84      1790\n",
      "weighted avg       0.85      0.84      0.84      1790\n",
      "\n"
     ]
    },
    {
     "name": "stderr",
     "output_type": "stream",
     "text": [
      "[Parallel(n_jobs=-1)]: Done 4000 out of 4000 | elapsed:   54.3s finished\n"
     ]
    }
   ],
   "source": [
    "knn_hyper_params = [ \n",
    "                        {\n",
    "                        'weights' : ['uniform', 'distance'],\n",
    "                        'algorithm' : ['auto', 'ball_tree', 'kd_tree', 'brute'],\n",
    "                        'leaf_size' : np.linspace(2, 100, 10, dtype=int),\n",
    "                        'n_neighbors' : [int(x) for x in np.linspace(2, 50, 10)]\n",
    "                        }\n",
    "                    ]\n",
    "\n",
    "# specify model\n",
    "\n",
    "# THIS SECTION SHOULD BE CHANGED.\n",
    "# n_neighbors  SHOULD BE MODIFIED TO ANOTHER VALUE DEPENDING ON THE TARGET VALUE.\n",
    "knn_model = KNeighborsClassifier()\n",
    "\n",
    "# set up GridSearchCV()\n",
    "knn_model_cv = GridSearchCV(estimator = knn_model, \n",
    "                            param_grid = knn_hyper_params, \n",
    "                            scoring= 'accuracy', \n",
    "                            cv = folds, \n",
    "                            verbose = 2,\n",
    "                            return_train_score=True,\n",
    "                            n_jobs=-1)  \n",
    "\n",
    "# fit the model\n",
    "knn_model_cv.fit(X_train, y_train)\n",
    "print(\"best hyper parameters\", knn_model_cv.best_params_)\n",
    "knn_y_pred = knn_model_cv.predict(X_test)\n",
    "\n",
    "# accuracy \n",
    "print(\"Accuracy:\", metrics.accuracy_score(y_test, knn_y_pred))\n",
    "# f1 score \n",
    "print(\"F1 score micro:\", f1_score(y_test, knn_y_pred, average='micro'))\n",
    "print(\"F1 score binary:\", f1_score(y_test, knn_y_pred, average='binary'))\n",
    "\n",
    "print(\"\\nclassification report:\\n\", classification_report(y_test, knn_y_pred))"
   ]
  },
  {
   "cell_type": "code",
   "execution_count": 49,
   "metadata": {
    "colab": {
     "base_uri": "https://localhost:8080/",
     "height": 379
    },
    "id": "Yymvz_wViknb",
    "outputId": "f94255b3-5fd9-4497-bb12-3ef8fd2be3d2"
   },
   "outputs": [
    {
     "name": "stdout",
     "output_type": "stream",
     "text": [
      "[learning_curve] Training set sizes: [ 668  808  949 1089 1230 1371 1511 1652 1793 1933 2074 2214 2355 2496\n",
      " 2636 2777 2918 3058 3199 3340]\n"
     ]
    },
    {
     "name": "stderr",
     "output_type": "stream",
     "text": [
      "[Parallel(n_jobs=-1)]: Using backend LokyBackend with 40 concurrent workers.\n",
      "[Parallel(n_jobs=-1)]: Done  50 out of 100 | elapsed:    0.3s remaining:    0.3s\n",
      "[Parallel(n_jobs=-1)]: Done 100 out of 100 | elapsed:    0.5s finished\n"
     ]
    },
    {
     "data": {
      "image/png": "[encoded data removed]",
      "text/plain": [
       "<Figure size 432x288 with 1 Axes>"
      ]
     },
     "metadata": {
      "needs_background": "light",
      "tags": []
     },
     "output_type": "display_data"
    }
   ],
   "source": [
    "plot_model = KNeighborsClassifier(algorithm='ball_tree', leaf_size=12, weights='distance', n_neighbors=7)\n",
    "\n",
    "train_sizes_seed500, train_scores_seed500, val_scores_seed500 = learning_curve(plot_model, \n",
    "                                                                X_train, \n",
    "                                                                y_train, \n",
    "                                                                cv=5, \n",
    "                                                                scoring='accuracy', \n",
    "                                                                n_jobs=-1, # 이거 바꾸고 싶으면 바꾸고  \n",
    "                                                                train_sizes=np.linspace(0.2, 1, 20), \n",
    "                                                                verbose=2)\n",
    "\n",
    "\n",
    "train_mean_seed500 = np.mean(train_scores_seed500, axis = 1)\n",
    "train_std_seed500  = np.std(train_scores_seed500, axis=1)\n",
    "val_mean_seed500   = np.mean(val_scores_seed500, axis=1)\n",
    "val_std_seed500    = np.std(val_scores_seed500, axis=1)\n",
    "\n",
    "plt.plot(train_sizes_seed500, train_mean_seed500, label='Training accuracy')\n",
    "plt.plot(train_sizes_seed500, val_mean_seed500,   label='Cross-validation accuracy')\n",
    "plt.title ('Learning curve')\n",
    "plt.xlabel('Training Size')\n",
    "plt.ylabel('Accuracy score')\n",
    "plt.legend(loc='best')\n",
    "plt.show()"
   ]
  },
  {
   "cell_type": "code",
   "execution_count": 50,
   "metadata": {
    "id": "IHBu_U0Qiknc"
   },
   "outputs": [],
   "source": [
    "# learning curve considering different seeds"
   ]
  },
  {
   "cell_type": "code",
   "execution_count": 51,
   "metadata": {
    "id": "PYUqbPNpiknc"
   },
   "outputs": [],
   "source": [
    "acc_avg = list()\n",
    "acc_se  = list()\n",
    "\n",
    "val_avg = list()\n",
    "val_se  = list()\n",
    "\n",
    "for i in range(len(train_sizes_seed100)):\n",
    "    acc_avg.append(np.mean([train_mean_seed100[i], train_mean_seed500[i], train_mean_seed1234[i]]))\n",
    "    acc_se .append(np.std ([train_mean_seed100[i], train_mean_seed500[i], train_mean_seed1234[i]]) / np.sqrt(3))\n",
    "    \n",
    "    val_avg.append(np.mean([val_mean_seed100[i], val_mean_seed500[i], val_mean_seed1234[i]]))\n",
    "    val_se .append(np.std ([val_mean_seed100[i], val_mean_seed500[i], val_mean_seed1234[i]]) / np.sqrt(3))"
   ]
  },
  {
   "cell_type": "code",
   "execution_count": 52,
   "metadata": {
    "colab": {
     "base_uri": "https://localhost:8080/",
     "height": 404
    },
    "id": "0ziXdCRviknc",
    "outputId": "538e8b5d-7b64-4f7c-932b-e145f80e39ef"
   },
   "outputs": [
    {
     "data": {
      "image/png": "[encoded data removed]",
      "text/plain": [
       "<Figure size 576x432 with 1 Axes>"
      ]
     },
     "metadata": {
      "needs_background": "light",
      "tags": []
     },
     "output_type": "display_data"
    }
   ],
   "source": [
    "fig, ax = plt.subplots(figsize=(8, 6))\n",
    "\n",
    "ax.plot(train_sizes_seed100, acc_avg, c='darkred', label='Training accuracy')\n",
    "ax.fill_between(train_sizes_seed100, np.subtract(acc_avg, acc_se), np.add(acc_avg, acc_se), color='lightcoral', alpha=0.5)\n",
    "\n",
    "ax.plot(train_sizes_seed100, val_avg, c='darkgreen', label='Validation accuracy')\n",
    "ax.fill_between(train_sizes_seed100, np.subtract(val_avg, val_se), np.add(val_avg, val_se), color='lime', alpha=0.5)\n",
    "\n",
    "ax.set_xlabel('Training Size')\n",
    "ax.set_ylabel('Accuracy')\n",
    "ax.set_title('KNN Oversampled panic_score')\n",
    "ax.axhline(y=0.5, color='blue', linestyle='-', label='Random Guess: Always predict no depression')\n",
    "ax.legend()\n",
    "ax.grid()"
   ]
  },
  {
   "cell_type": "markdown",
   "metadata": {
    "id": "TYUIsK99u9t_"
   },
   "source": [
    "The error is high. Also, it seems like they are not converging. KNN is not a valid model for detecting the relationship between screen time and mental health?"
   ]
  },
  {
   "cell_type": "markdown",
   "metadata": {
    "id": "IM0k9-Omiknc"
   },
   "source": [
    "# Random Forest"
   ]
  },
  {
   "cell_type": "markdown",
   "metadata": {
    "id": "GRKqzoQ-iknc"
   },
   "source": [
    "## Seed 100"
   ]
  },
  {
   "cell_type": "code",
   "execution_count": 53,
   "metadata": {
    "id": "67iZ5NsQikne"
   },
   "outputs": [],
   "source": [
    "seed = 100\n",
    "X_train, X_test, y_train, y_test = train_test_split(X_s, y_s, test_size=0.3, random_state=seed)  \n",
    "folds = KFold(n_splits = 5, shuffle = True, random_state=seed)"
   ]
  },
  {
   "cell_type": "code",
   "execution_count": 54,
   "metadata": {
    "colab": {
     "base_uri": "https://localhost:8080/"
    },
    "id": "446VbQq2ikne",
    "outputId": "107ac093-2963-4762-c316-88ddee51d042"
   },
   "outputs": [
    {
     "name": "stdout",
     "output_type": "stream",
     "text": [
      "Fitting 5 folds for each of 7500 candidates, totalling 37500 fits\n"
     ]
    },
    {
     "name": "stderr",
     "output_type": "stream",
     "text": [
      "[Parallel(n_jobs=-1)]: Using backend LokyBackend with 40 concurrent workers.\n",
      "[Parallel(n_jobs=-1)]: Done  86 tasks      | elapsed:    0.6s\n",
      "[Parallel(n_jobs=-1)]: Done 490 tasks      | elapsed:    2.0s\n",
      "[Parallel(n_jobs=-1)]: Done 1056 tasks      | elapsed:    3.8s\n",
      "[Parallel(n_jobs=-1)]: Done 1786 tasks      | elapsed:    6.2s\n",
      "[Parallel(n_jobs=-1)]: Done 2676 tasks      | elapsed:    9.6s\n",
      "[Parallel(n_jobs=-1)]: Done 3730 tasks      | elapsed:   13.4s\n",
      "[Parallel(n_jobs=-1)]: Done 4944 tasks      | elapsed:   17.9s\n",
      "[Parallel(n_jobs=-1)]: Done 6322 tasks      | elapsed:   23.0s\n",
      "[Parallel(n_jobs=-1)]: Done 7860 tasks      | elapsed:   28.8s\n",
      "[Parallel(n_jobs=-1)]: Done 9562 tasks      | elapsed:   34.9s\n",
      "[Parallel(n_jobs=-1)]: Done 11424 tasks      | elapsed:   41.3s\n",
      "[Parallel(n_jobs=-1)]: Done 13450 tasks      | elapsed:   48.6s\n",
      "[Parallel(n_jobs=-1)]: Done 15636 tasks      | elapsed:   56.6s\n",
      "[Parallel(n_jobs=-1)]: Done 17986 tasks      | elapsed:  1.1min\n",
      "[Parallel(n_jobs=-1)]: Done 20496 tasks      | elapsed:  1.2min\n",
      "[Parallel(n_jobs=-1)]: Done 23170 tasks      | elapsed:  1.4min\n",
      "[Parallel(n_jobs=-1)]: Done 26004 tasks      | elapsed:  1.6min\n",
      "[Parallel(n_jobs=-1)]: Done 29002 tasks      | elapsed:  1.7min\n",
      "[Parallel(n_jobs=-1)]: Done 32160 tasks      | elapsed:  1.9min\n",
      "[Parallel(n_jobs=-1)]: Done 35482 tasks      | elapsed:  2.1min\n",
      "[Parallel(n_jobs=-1)]: Done 37500 out of 37500 | elapsed:  2.2min finished\n"
     ]
    },
    {
     "name": "stdout",
     "output_type": "stream",
     "text": [
      "best hyper parameters {'bootstrap': False, 'criterion': 'gini', 'max_depth': 14, 'max_features': 'auto', 'min_samples_leaf': 2, 'min_samples_split': 2, 'n_estimators': 38}\n",
      "Accuracy: 0.8709497206703911\n",
      "F1 score micro: 0.870949720670391\n",
      "F1 score binary: 0.8849028400597907\n",
      "\n",
      "classification report:\n",
      "               precision    recall  f1-score   support\n",
      "\n",
      "         0.0       0.96      0.77      0.85       876\n",
      "         1.0       0.81      0.97      0.88       914\n",
      "\n",
      "    accuracy                           0.87      1790\n",
      "   macro avg       0.89      0.87      0.87      1790\n",
      "weighted avg       0.89      0.87      0.87      1790\n",
      "\n"
     ]
    }
   ],
   "source": [
    "rf_hyper_params = [ \n",
    "                        {\n",
    "                            'n_estimators' : [int(x) for x in np.linspace(5, 50, 5)],\n",
    "                            'criterion' : ['gini', 'entropy'],\n",
    "                            'max_depth' : [int(x) for x in np.linspace(2, 50, 5)],\n",
    "                            'min_samples_split' : [int(x) for x in np.linspace(2, 50, 5)],\n",
    "                            'min_samples_leaf' : [int(x) for x in np.linspace(2, 50, 5)],\n",
    "                            'max_features' : ['auto', 'sqrt', 'log2'],\n",
    "                            'bootstrap' : [True, False]\n",
    "\n",
    "                        }\n",
    "                    ]\n",
    "\n",
    "# specify model\n",
    "\n",
    "# THIS SECTION SHOULD BE CHANGED.\n",
    "# n_neighbors  SHOULD BE MODIFIED TO ANOTHER VALUE DEPENDING ON THE TARGET VALUE.\n",
    "rf_model = RandomForestClassifier()\n",
    "\n",
    "# set up GridSearchCV()\n",
    "rf_model_cv = GridSearchCV(estimator = rf_model, \n",
    "                            param_grid = rf_hyper_params, \n",
    "                            scoring= 'accuracy', \n",
    "                            cv = folds, \n",
    "                            verbose = 2,\n",
    "                            return_train_score=True,\n",
    "                            n_jobs=-1) \n",
    "\n",
    "# fit the model\n",
    "rf_model_cv.fit(X_train, y_train)\n",
    "print(\"best hyper parameters\", rf_model_cv.best_params_)\n",
    "rf_y_pred = rf_model_cv.predict(X_test)\n",
    "\n",
    "# accuracy \n",
    "print(\"Accuracy:\", metrics.accuracy_score(y_test, rf_y_pred))\n",
    "# f1 score \n",
    "print(\"F1 score micro:\", f1_score(y_test, rf_y_pred, average='micro'))\n",
    "print(\"F1 score binary:\", f1_score(y_test, rf_y_pred, average='binary'))\n",
    "\n",
    "print(\"\\nclassification report:\\n\", classification_report(y_test, rf_y_pred))"
   ]
  },
  {
   "cell_type": "code",
   "execution_count": 55,
   "metadata": {
    "colab": {
     "base_uri": "https://localhost:8080/",
     "height": 379
    },
    "id": "IUiOHZzNikne",
    "outputId": "d25b3463-3d6d-4d01-d9bb-f57a4c6955c7"
   },
   "outputs": [
    {
     "name": "stdout",
     "output_type": "stream",
     "text": [
      "[learning_curve] Training set sizes: [ 668  808  949 1089 1230 1371 1511 1652 1793 1933 2074 2214 2355 2496\n",
      " 2636 2777 2918 3058 3199 3340]\n"
     ]
    },
    {
     "name": "stderr",
     "output_type": "stream",
     "text": [
      "[Parallel(n_jobs=-1)]: Using backend LokyBackend with 40 concurrent workers.\n",
      "[Parallel(n_jobs=-1)]: Done  50 out of 100 | elapsed:    0.4s remaining:    0.4s\n",
      "[Parallel(n_jobs=-1)]: Done 100 out of 100 | elapsed:    0.6s finished\n"
     ]
    },
    {
     "data": {
      "image/png": "[encoded data removed]",
      "text/plain": [
       "<Figure size 432x288 with 1 Axes>"
      ]
     },
     "metadata": {
      "needs_background": "light",
      "tags": []
     },
     "output_type": "display_data"
    }
   ],
   "source": [
    "# ------ HERE ------\n",
    "\n",
    "# plug in suitable hyper-parameters\n",
    "\n",
    "\n",
    "# 여기만 바꾸면 된다. \n",
    "plot_model = RandomForestClassifier(bootstrap=False, criterion='gini', max_depth=14, max_features='auto', min_samples_leaf=2, min_samples_split=2, n_estimators=38)\n",
    "\n",
    "train_sizes_seed100, train_scores_seed100, val_scores_seed100 = learning_curve(plot_model, \n",
    "                                                                X_train, \n",
    "                                                                y_train, \n",
    "                                                                cv=5, \n",
    "                                                                scoring='accuracy', \n",
    "                                                                n_jobs=-1, # 이거 바꾸고 싶으면 바꾸고  \n",
    "                                                                train_sizes=np.linspace(0.2, 1, 20), \n",
    "                                                                verbose=2)\n",
    "\n",
    "\n",
    "train_mean_seed100 = np.mean(train_scores_seed100, axis = 1)\n",
    "train_std_seed100  = np.std(train_scores_seed100, axis=1)\n",
    "val_mean_seed100   = np.mean(val_scores_seed100, axis=1)\n",
    "val_std_seed100    = np.std(val_scores_seed100, axis=1)\n",
    "\n",
    "plt.plot(train_sizes_seed100, train_mean_seed100, label='Training accuracy')\n",
    "plt.plot(train_sizes_seed100, val_mean_seed100,   label='Cross-validation accuracy')\n",
    "plt.title ('Learning curve')\n",
    "plt.xlabel('Training Size')\n",
    "plt.ylabel('Accuracy score')\n",
    "plt.legend(loc='best')\n",
    "plt.show()"
   ]
  },
  {
   "cell_type": "markdown",
   "metadata": {
    "id": "d0yJhrSQiknf"
   },
   "source": [
    "## Seed 1234"
   ]
  },
  {
   "cell_type": "code",
   "execution_count": 56,
   "metadata": {
    "id": "ohfojc9Mikng"
   },
   "outputs": [],
   "source": [
    "seed = 1234\n",
    "X_train, X_test, y_train, y_test = train_test_split(X_s, y_s, test_size=0.3, random_state=seed)  \n",
    "folds = KFold(n_splits = 5, shuffle = True, random_state=seed)"
   ]
  },
  {
   "cell_type": "code",
   "execution_count": 57,
   "metadata": {
    "colab": {
     "base_uri": "https://localhost:8080/"
    },
    "id": "BSnesUiSikng",
    "outputId": "618ff9c2-1f36-471c-d865-aca608d297bb"
   },
   "outputs": [
    {
     "name": "stdout",
     "output_type": "stream",
     "text": [
      "Fitting 5 folds for each of 7500 candidates, totalling 37500 fits\n"
     ]
    },
    {
     "name": "stderr",
     "output_type": "stream",
     "text": [
      "[Parallel(n_jobs=-1)]: Using backend LokyBackend with 40 concurrent workers.\n",
      "[Parallel(n_jobs=-1)]: Done  87 tasks      | elapsed:    0.5s\n",
      "[Parallel(n_jobs=-1)]: Done 490 tasks      | elapsed:    2.0s\n",
      "[Parallel(n_jobs=-1)]: Done 1056 tasks      | elapsed:    3.8s\n",
      "[Parallel(n_jobs=-1)]: Done 1786 tasks      | elapsed:    6.3s\n",
      "[Parallel(n_jobs=-1)]: Done 2676 tasks      | elapsed:    9.5s\n",
      "[Parallel(n_jobs=-1)]: Done 3730 tasks      | elapsed:   13.5s\n",
      "[Parallel(n_jobs=-1)]: Done 4944 tasks      | elapsed:   17.9s\n",
      "[Parallel(n_jobs=-1)]: Done 6322 tasks      | elapsed:   23.0s\n",
      "[Parallel(n_jobs=-1)]: Done 7860 tasks      | elapsed:   28.6s\n",
      "[Parallel(n_jobs=-1)]: Done 9562 tasks      | elapsed:   34.7s\n",
      "[Parallel(n_jobs=-1)]: Done 11424 tasks      | elapsed:   41.1s\n",
      "[Parallel(n_jobs=-1)]: Done 13450 tasks      | elapsed:   48.6s\n",
      "[Parallel(n_jobs=-1)]: Done 15636 tasks      | elapsed:   56.7s\n",
      "[Parallel(n_jobs=-1)]: Done 17986 tasks      | elapsed:  1.1min\n",
      "[Parallel(n_jobs=-1)]: Done 20496 tasks      | elapsed:  1.2min\n",
      "[Parallel(n_jobs=-1)]: Done 23170 tasks      | elapsed:  1.4min\n",
      "[Parallel(n_jobs=-1)]: Done 26004 tasks      | elapsed:  1.6min\n",
      "[Parallel(n_jobs=-1)]: Done 29002 tasks      | elapsed:  1.7min\n",
      "[Parallel(n_jobs=-1)]: Done 32160 tasks      | elapsed:  1.9min\n",
      "[Parallel(n_jobs=-1)]: Done 35482 tasks      | elapsed:  2.1min\n",
      "[Parallel(n_jobs=-1)]: Done 37500 out of 37500 | elapsed:  2.2min finished\n"
     ]
    },
    {
     "name": "stdout",
     "output_type": "stream",
     "text": [
      "best hyper parameters {'bootstrap': False, 'criterion': 'entropy', 'max_depth': 14, 'max_features': 'auto', 'min_samples_leaf': 2, 'min_samples_split': 14, 'n_estimators': 16}\n",
      "Accuracy: 0.8614525139664805\n",
      "F1 score micro: 0.8614525139664805\n",
      "F1 score binary: 0.873855544252289\n",
      "\n",
      "classification report:\n",
      "               precision    recall  f1-score   support\n",
      "\n",
      "         0.0       0.93      0.77      0.85       883\n",
      "         1.0       0.81      0.95      0.87       907\n",
      "\n",
      "    accuracy                           0.86      1790\n",
      "   macro avg       0.87      0.86      0.86      1790\n",
      "weighted avg       0.87      0.86      0.86      1790\n",
      "\n"
     ]
    }
   ],
   "source": [
    "rf_hyper_params = [ \n",
    "                        {\n",
    "                            'n_estimators' : [int(x) for x in np.linspace(5, 50, 5)],\n",
    "                            'criterion' : ['gini', 'entropy'],\n",
    "                            'max_depth' : [int(x) for x in np.linspace(2, 50, 5)],\n",
    "                            'min_samples_split' : [int(x) for x in np.linspace(2, 50, 5)],\n",
    "                            'min_samples_leaf' : [int(x) for x in np.linspace(2, 50, 5)],\n",
    "                            'max_features' : ['auto', 'sqrt', 'log2'],\n",
    "                            'bootstrap' : [True, False]\n",
    "\n",
    "                        }\n",
    "                    ]\n",
    "\n",
    "# specify model\n",
    "\n",
    "# THIS SECTION SHOULD BE CHANGED.\n",
    "# n_neighbors  SHOULD BE MODIFIED TO ANOTHER VALUE DEPENDING ON THE TARGET VALUE.\n",
    "rf_model = RandomForestClassifier()\n",
    "\n",
    "# set up GridSearchCV()\n",
    "rf_model_cv = GridSearchCV(estimator = rf_model, \n",
    "                            param_grid = rf_hyper_params, \n",
    "                            scoring= 'accuracy', \n",
    "                            cv = folds, \n",
    "                            verbose = 2,\n",
    "                            return_train_score=True,\n",
    "                            n_jobs=-1) \n",
    "\n",
    "# fit the model\n",
    "rf_model_cv.fit(X_train, y_train)\n",
    "print(\"best hyper parameters\", rf_model_cv.best_params_)\n",
    "rf_y_pred = rf_model_cv.predict(X_test)\n",
    "\n",
    "# accuracy \n",
    "print(\"Accuracy:\", metrics.accuracy_score(y_test, rf_y_pred))\n",
    "# f1 score \n",
    "print(\"F1 score micro:\", f1_score(y_test, rf_y_pred, average='micro'))\n",
    "print(\"F1 score binary:\", f1_score(y_test, rf_y_pred, average='binary'))\n",
    "\n",
    "print(\"\\nclassification report:\\n\", classification_report(y_test, rf_y_pred))"
   ]
  },
  {
   "cell_type": "code",
   "execution_count": 58,
   "metadata": {
    "colab": {
     "base_uri": "https://localhost:8080/",
     "height": 379
    },
    "id": "XnYVGyseikng",
    "outputId": "7e99f458-2385-462a-c206-82cd308625d3"
   },
   "outputs": [
    {
     "name": "stdout",
     "output_type": "stream",
     "text": [
      "[learning_curve] Training set sizes: [ 668  808  949 1089 1230 1371 1511 1652 1793 1933 2074 2214 2355 2496\n",
      " 2636 2777 2918 3058 3199 3340]\n"
     ]
    },
    {
     "name": "stderr",
     "output_type": "stream",
     "text": [
      "[Parallel(n_jobs=-1)]: Using backend LokyBackend with 40 concurrent workers.\n",
      "[Parallel(n_jobs=-1)]: Done  50 out of 100 | elapsed:    0.3s remaining:    0.3s\n",
      "[Parallel(n_jobs=-1)]: Done 100 out of 100 | elapsed:    0.5s finished\n"
     ]
    },
    {
     "data": {
      "image/png": "[encoded data removed]",
      "text/plain": [
       "<Figure size 432x288 with 1 Axes>"
      ]
     },
     "metadata": {
      "needs_background": "light",
      "tags": []
     },
     "output_type": "display_data"
    }
   ],
   "source": [
    "plot_model = RandomForestClassifier(bootstrap=False, criterion='entropy', max_depth=14, max_features='auto', min_samples_leaf=2, min_samples_split=14, n_estimators=16)\n",
    "2\n",
    "train_sizes_seed1234, train_scores_seed1234, val_scores_seed1234 = learning_curve(plot_model, \n",
    "                                                                X_train, \n",
    "                                                                y_train, \n",
    "                                                                cv=5, \n",
    "                                                                scoring='accuracy', \n",
    "                                                                n_jobs=-1, # 이거 바꾸고 싶으면 바꾸고  \n",
    "                                                                train_sizes=np.linspace(0.2, 1, 20), \n",
    "                                                                verbose=2)\n",
    "\n",
    "\n",
    "train_mean_seed1234 = np.mean(train_scores_seed1234, axis = 1)\n",
    "train_std_seed1234  = np.std(train_scores_seed1234, axis=1)\n",
    "val_mean_seed1234   = np.mean(val_scores_seed1234, axis=1)\n",
    "val_std_seed1234    = np.std(val_scores_seed1234, axis=1)\n",
    "\n",
    "plt.plot(train_sizes_seed1234, train_mean_seed1234, label='Training accuracy')\n",
    "plt.plot(train_sizes_seed1234, val_mean_seed1234,   label='Cross-validation accuracy')\n",
    "plt.title ('Learning curve')\n",
    "plt.xlabel('Training Size')\n",
    "plt.ylabel('Accuracy score')\n",
    "plt.legend(loc='best')\n",
    "plt.show()"
   ]
  },
  {
   "cell_type": "markdown",
   "metadata": {
    "id": "BDeD7WMiiknh"
   },
   "source": [
    "## Seed 500"
   ]
  },
  {
   "cell_type": "code",
   "execution_count": 59,
   "metadata": {
    "id": "BxEwjhFSiknh"
   },
   "outputs": [],
   "source": [
    "seed = 500\n",
    "X_train, X_test, y_train, y_test = train_test_split(X_s, y_s, test_size=0.3, random_state=seed)  \n",
    "folds = KFold(n_splits = 5, shuffle = True, random_state=seed)"
   ]
  },
  {
   "cell_type": "code",
   "execution_count": 60,
   "metadata": {
    "colab": {
     "base_uri": "https://localhost:8080/"
    },
    "id": "8CydNuqZikni",
    "outputId": "a89cd918-31d1-4bfc-fcf7-5f82f0b98905"
   },
   "outputs": [
    {
     "name": "stdout",
     "output_type": "stream",
     "text": [
      "Fitting 5 folds for each of 7500 candidates, totalling 37500 fits\n"
     ]
    },
    {
     "name": "stderr",
     "output_type": "stream",
     "text": [
      "[Parallel(n_jobs=-1)]: Using backend LokyBackend with 40 concurrent workers.\n",
      "[Parallel(n_jobs=-1)]: Done  85 tasks      | elapsed:    0.6s\n",
      "[Parallel(n_jobs=-1)]: Done 490 tasks      | elapsed:    2.1s\n",
      "[Parallel(n_jobs=-1)]: Done 1056 tasks      | elapsed:    4.0s\n",
      "[Parallel(n_jobs=-1)]: Done 1786 tasks      | elapsed:    6.4s\n",
      "[Parallel(n_jobs=-1)]: Done 2676 tasks      | elapsed:    9.7s\n",
      "[Parallel(n_jobs=-1)]: Done 3730 tasks      | elapsed:   13.5s\n",
      "[Parallel(n_jobs=-1)]: Done 4944 tasks      | elapsed:   18.0s\n",
      "[Parallel(n_jobs=-1)]: Done 6322 tasks      | elapsed:   23.2s\n",
      "[Parallel(n_jobs=-1)]: Done 7860 tasks      | elapsed:   28.9s\n",
      "[Parallel(n_jobs=-1)]: Done 9562 tasks      | elapsed:   35.0s\n",
      "[Parallel(n_jobs=-1)]: Done 11424 tasks      | elapsed:   41.4s\n",
      "[Parallel(n_jobs=-1)]: Done 13450 tasks      | elapsed:   48.8s\n",
      "[Parallel(n_jobs=-1)]: Done 15636 tasks      | elapsed:   57.0s\n",
      "[Parallel(n_jobs=-1)]: Done 17986 tasks      | elapsed:  1.1min\n",
      "[Parallel(n_jobs=-1)]: Done 20496 tasks      | elapsed:  1.2min\n",
      "[Parallel(n_jobs=-1)]: Done 23170 tasks      | elapsed:  1.4min\n",
      "[Parallel(n_jobs=-1)]: Done 26004 tasks      | elapsed:  1.6min\n",
      "[Parallel(n_jobs=-1)]: Done 29002 tasks      | elapsed:  1.7min\n",
      "[Parallel(n_jobs=-1)]: Done 32160 tasks      | elapsed:  1.9min\n",
      "[Parallel(n_jobs=-1)]: Done 35482 tasks      | elapsed:  2.1min\n",
      "[Parallel(n_jobs=-1)]: Done 37421 out of 37500 | elapsed:  2.2min remaining:    0.3s\n",
      "[Parallel(n_jobs=-1)]: Done 37500 out of 37500 | elapsed:  2.2min finished\n"
     ]
    },
    {
     "name": "stdout",
     "output_type": "stream",
     "text": [
      "best hyper parameters {'bootstrap': True, 'criterion': 'entropy', 'max_depth': 50, 'max_features': 'auto', 'min_samples_leaf': 2, 'min_samples_split': 2, 'n_estimators': 38}\n",
      "Accuracy: 0.8664804469273742\n",
      "F1 score micro: 0.8664804469273742\n",
      "F1 score binary: 0.8776241679467486\n",
      "\n",
      "classification report:\n",
      "               precision    recall  f1-score   support\n",
      "\n",
      "         0.0       0.93      0.79      0.85       878\n",
      "         1.0       0.82      0.94      0.88       912\n",
      "\n",
      "    accuracy                           0.87      1790\n",
      "   macro avg       0.87      0.87      0.87      1790\n",
      "weighted avg       0.87      0.87      0.87      1790\n",
      "\n"
     ]
    }
   ],
   "source": [
    "rf_hyper_params = [ \n",
    "                        {\n",
    "                            'n_estimators' : [int(x) for x in np.linspace(5, 50, 5)],\n",
    "                            'criterion' : ['gini', 'entropy'],\n",
    "                            'max_depth' : [int(x) for x in np.linspace(2, 50, 5)],\n",
    "                            'min_samples_split' : [int(x) for x in np.linspace(2, 50, 5)],\n",
    "                            'min_samples_leaf' : [int(x) for x in np.linspace(2, 50, 5)],\n",
    "                            'max_features' : ['auto', 'sqrt', 'log2'],\n",
    "                            'bootstrap' : [True, False]\n",
    "\n",
    "                        }\n",
    "                    ]\n",
    "\n",
    "# specify model\n",
    "\n",
    "# THIS SECTION SHOULD BE CHANGED.\n",
    "# n_neighbors  SHOULD BE MODIFIED TO ANOTHER VALUE DEPENDING ON THE TARGET VALUE.\n",
    "rf_model = RandomForestClassifier()\n",
    "\n",
    "# set up GridSearchCV()\n",
    "rf_model_cv = GridSearchCV(estimator = rf_model, \n",
    "                            param_grid = rf_hyper_params, \n",
    "                            scoring= 'accuracy', \n",
    "                            cv = folds, \n",
    "                            verbose = 2,\n",
    "                            return_train_score=True,\n",
    "                            n_jobs=-1) \n",
    "\n",
    "# fit the model\n",
    "rf_model_cv.fit(X_train, y_train)\n",
    "print(\"best hyper parameters\", rf_model_cv.best_params_)\n",
    "rf_y_pred = rf_model_cv.predict(X_test)\n",
    "\n",
    "# accuracy \n",
    "print(\"Accuracy:\", metrics.accuracy_score(y_test, rf_y_pred))\n",
    "# f1 score \n",
    "print(\"F1 score micro:\", f1_score(y_test, rf_y_pred, average='micro'))\n",
    "print(\"F1 score binary:\", f1_score(y_test, rf_y_pred, average='binary'))\n",
    "\n",
    "print(\"\\nclassification report:\\n\", classification_report(y_test, rf_y_pred))"
   ]
  },
  {
   "cell_type": "code",
   "execution_count": 61,
   "metadata": {
    "colab": {
     "base_uri": "https://localhost:8080/",
     "height": 379
    },
    "id": "wNDCALcLikni",
    "outputId": "e25b1536-e2d9-49e1-eef6-81ccdf4437d0"
   },
   "outputs": [
    {
     "name": "stdout",
     "output_type": "stream",
     "text": [
      "[learning_curve] Training set sizes: [ 668  808  949 1089 1230 1371 1511 1652 1793 1933 2074 2214 2355 2496\n",
      " 2636 2777 2918 3058 3199 3340]\n"
     ]
    },
    {
     "name": "stderr",
     "output_type": "stream",
     "text": [
      "[Parallel(n_jobs=-1)]: Using backend LokyBackend with 40 concurrent workers.\n",
      "[Parallel(n_jobs=-1)]: Done  50 out of 100 | elapsed:    0.4s remaining:    0.4s\n",
      "[Parallel(n_jobs=-1)]: Done 100 out of 100 | elapsed:    0.6s finished\n"
     ]
    },
    {
     "data": {
      "image/png": "[encoded data removed]",
      "text/plain": [
       "<Figure size 432x288 with 1 Axes>"
      ]
     },
     "metadata": {
      "needs_background": "light",
      "tags": []
     },
     "output_type": "display_data"
    }
   ],
   "source": [
    "plot_model = RandomForestClassifier(bootstrap=True, criterion='entropy', max_depth=50, max_features='auto', min_samples_leaf=2, min_samples_split=2, n_estimators=38)\n",
    "\n",
    "train_sizes_seed500, train_scores_seed500, val_scores_seed500 = learning_curve(plot_model, \n",
    "                                                                X_train, \n",
    "                                                                y_train, \n",
    "                                                                cv=5, \n",
    "                                                                scoring='accuracy', \n",
    "                                                                n_jobs=-1, # 이거 바꾸고 싶으면 바꾸고  \n",
    "                                                                train_sizes=np.linspace(0.2, 1, 20), \n",
    "                                                                verbose=2)\n",
    "\n",
    "\n",
    "train_mean_seed500 = np.mean(train_scores_seed500, axis = 1)\n",
    "train_std_seed500  = np.std(train_scores_seed500, axis=1)\n",
    "val_mean_seed500   = np.mean(val_scores_seed500, axis=1)\n",
    "val_std_seed500    = np.std(val_scores_seed500, axis=1)\n",
    "\n",
    "plt.plot(train_sizes_seed500, train_mean_seed500, label='Training accuracy')\n",
    "plt.plot(train_sizes_seed500, val_mean_seed500,   label='Cross-validation accuracy')\n",
    "plt.title ('Learning curve')\n",
    "plt.xlabel('Training Size')\n",
    "plt.ylabel('Accuracy score')\n",
    "plt.legend(loc='best')\n",
    "plt.show()"
   ]
  },
  {
   "cell_type": "code",
   "execution_count": 62,
   "metadata": {
    "id": "a4W4FwITikni"
   },
   "outputs": [],
   "source": [
    "# learning curve considering different seeds"
   ]
  },
  {
   "cell_type": "code",
   "execution_count": 63,
   "metadata": {
    "id": "7K9Mjatciknj"
   },
   "outputs": [],
   "source": [
    "acc_avg = list()\n",
    "acc_se  = list()\n",
    "\n",
    "val_avg = list()\n",
    "val_se  = list()\n",
    "\n",
    "for i in range(len(train_sizes_seed100)):\n",
    "    acc_avg.append(np.mean([train_mean_seed100[i], train_mean_seed500[i], train_mean_seed1234[i]]))\n",
    "    acc_se .append(np.std ([train_mean_seed100[i], train_mean_seed500[i], train_mean_seed1234[i]]) / np.sqrt(3))\n",
    "    \n",
    "    val_avg.append(np.mean([val_mean_seed100[i], val_mean_seed500[i], val_mean_seed1234[i]]))\n",
    "    val_se .append(np.std ([val_mean_seed100[i], val_mean_seed500[i], val_mean_seed1234[i]]) / np.sqrt(3))"
   ]
  },
  {
   "cell_type": "code",
   "execution_count": 64,
   "metadata": {
    "colab": {
     "base_uri": "https://localhost:8080/",
     "height": 404
    },
    "id": "_isL6QLMiknj",
    "outputId": "dc7c276e-f7be-467e-da7d-9242d37c68bd"
   },
   "outputs": [
    {
     "data": {
      "image/png": "[encoded data removed]",
      "text/plain": [
       "<Figure size 576x432 with 1 Axes>"
      ]
     },
     "metadata": {
      "needs_background": "light",
      "tags": []
     },
     "output_type": "display_data"
    }
   ],
   "source": [
    "fig, ax = plt.subplots(figsize=(8, 6))\n",
    "\n",
    "ax.plot(train_sizes_seed100, acc_avg, c='darkred', label='Training accuracy')\n",
    "ax.fill_between(train_sizes_seed100, np.subtract(acc_avg, acc_se), np.add(acc_avg, acc_se), color='lightcoral', alpha=0.5)\n",
    "\n",
    "ax.plot(train_sizes_seed100, val_avg, c='darkgreen', label='Validation accuracy')\n",
    "ax.fill_between(train_sizes_seed100, np.subtract(val_avg, val_se), np.add(val_avg, val_se), color='lime', alpha=0.5)\n",
    "\n",
    "ax.set_xlabel('Training Size')\n",
    "ax.set_ylabel('Accuracy')\n",
    "ax.set_title('Random Forest Oversampled panic_score')\n",
    "ax.axhline(y=0.5, color='blue', linestyle='-', label='Random Guess: Always predict no depression')\n",
    "ax.legend()\n",
    "ax.grid()"
   ]
  },
  {
   "cell_type": "markdown",
   "metadata": {
    "id": "SNE9VWBsu9uD"
   },
   "source": [
    "The error is high. Also, it seems like they are not converging. RF is not a valid model for detecting the relationship between screen time and mental health? "
   ]
  },
  {
   "cell_type": "code",
   "execution_count": null,
   "metadata": {
    "id": "3Te5qVzeu9uD"
   },
   "outputs": [],
   "source": []
  }
 ],
 "metadata": {
  "accelerator": "TPU",
  "colab": {
   "collapsed_sections": [],
   "machine_shape": "hm",
   "name": "search_panic_score.ipynb",
   "provenance": []
  },
  "kernelspec": {
   "display_name": "Python 3",
   "language": "python",
   "name": "python3"
  },
  "language_info": {
   "codemirror_mode": {
    "name": "ipython",
    "version": 3
   },
   "file_extension": ".py",
   "mimetype": "text/x-python",
   "name": "python",
   "nbconvert_exporter": "python",
   "pygments_lexer": "ipython3",
   "version": "3.8.3"
  }
 },
 "nbformat": 4,
 "nbformat_minor": 1
}
