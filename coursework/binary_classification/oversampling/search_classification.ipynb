{
 "cells": [
  {
   "cell_type": "markdown",
   "metadata": {
    "colab_type": "text",
    "id": "view-in-github"
   },
   "source": [
    "<a href=\"https://colab.research.google.com/github/7201krap/PYTHON_applied_data_science/blob/main/search_classification.ipynb\" target=\"_parent\"><img src=\"https://colab.research.google.com/assets/colab-badge.svg\" alt=\"Open In Colab\"/></a>"
   ]
  },
  {
   "cell_type": "code",
   "execution_count": 2,
   "metadata": {
    "id": "DevZI7T_kuK0"
   },
   "outputs": [],
   "source": [
    "from sklearn import datasets\n",
    "\n",
    "# How are we going to use evaluate the performance? \n",
    "# 1. accuracy\n",
    "from sklearn import metrics\n",
    "# 2. f1 score \n",
    "from sklearn.metrics import f1_score\n",
    "\n",
    "# Machine learning models \n",
    "\n",
    "# Linear Regression \n",
    "# url : https://scikit-learn.org/stable/modules/generated/sklearn.linear_model.LinearRegression.html\n",
    "from sklearn.linear_model import LinearRegression\n",
    "\n",
    "# SVM\n",
    "# url: https://scikit-learn.org/stable/modules/generated/sklearn.svm.SVC.html\n",
    "from sklearn import svm\n",
    "\n",
    "# KNN \n",
    "# url: https://scikit-learn.org/stable/modules/generated/sklearn.neighbors.KNeighborsClassifier.html\n",
    "from sklearn.neighbors import KNeighborsClassifier\n",
    "\n",
    "# Decision Tree\n",
    "# url: https://scikit-learn.org/stable/modules/generated/sklearn.tree.DecisionTreeClassifier.html\n",
    "from sklearn.tree import DecisionTreeClassifier\n",
    "\n",
    "# Random Forest \n",
    "# url: https://scikit-learn.org/stable/modules/generated/sklearn.ensemble.RandomForestClassifier.html\n",
    "from sklearn.ensemble import RandomForestClassifier\n",
    "\n",
    "# Logistic Classifier\n",
    "from sklearn.linear_model import LogisticRegression\n",
    "\n",
    "from sklearn.model_selection import RepeatedStratifiedKFold\n",
    "from sklearn.model_selection import GridSearchCV\n",
    "\n",
    "from sklearn.model_selection import learning_curve, RandomizedSearchCV, GridSearchCV\n",
    "from sklearn.model_selection import train_test_split, KFold\n",
    "from sklearn.datasets import make_classification\n",
    "from sklearn.pipeline import make_pipeline\n",
    "from sklearn.preprocessing import StandardScaler\n",
    "\n",
    "import numpy as np\n",
    "import matplotlib.pyplot as plt\n",
    "\n",
    "# PCA \n",
    "from sklearn.decomposition import PCA \n",
    "\n",
    "# Linear Regression\n",
    "from sklearn.model_selection import train_test_split\n",
    "from sklearn.linear_model import LinearRegression\n",
    "from sklearn.metrics import mean_squared_error, r2_score\n",
    "\n",
    "import pandas as pd\n",
    "import matplotlib.pyplot as plt\n",
    "import numpy as np\n",
    "\n",
    "import seaborn as sns\n",
    "\n",
    "from sklearn.model_selection import learning_curve\n",
    "\n",
    "from sklearn.metrics import classification_report"
   ]
  },
  {
   "cell_type": "markdown",
   "metadata": {
    "id": "kTn5pKHgkuK8"
   },
   "source": [
    "# Preprocessing"
   ]
  },
  {
   "cell_type": "code",
   "execution_count": 6,
   "metadata": {
    "id": "K9VLlcrVkuK_"
   },
   "outputs": [],
   "source": [
    "# Sampled"
   ]
  },
  {
   "cell_type": "code",
   "execution_count": 3,
   "metadata": {
    "colab": {
     "base_uri": "https://localhost:8080/"
    },
    "id": "RCBtDxGukuLA",
    "outputId": "0efa4cb4-bc66-4c20-f8df-66223203f250"
   },
   "outputs": [
    {
     "data": {
      "text/plain": [
       "6.0    523\n",
       "2.0    523\n",
       "5.0    523\n",
       "1.0    523\n",
       "3.0    523\n",
       "4.0    523\n",
       "Name: total, dtype: int64"
      ]
     },
     "execution_count": 3,
     "metadata": {},
     "output_type": "execute_result"
    }
   ],
   "source": [
    "url = '../../data/0&1/oversampling/sampled_sum_targets_with_panic.csv'\n",
    "sampled_dep_score = pd.read_csv(url)\n",
    "\n",
    "X_s = sampled_dep_score.copy()\n",
    "del X_s['dep_score']\n",
    "del X_s['dep_thoughts']\n",
    "del X_s['has_dep_diag']\n",
    "del X_s['prim_diag']\n",
    "del X_s['secd_diag']\n",
    "del X_s['panic_score']\n",
    "del X_s['total']\n",
    "\n",
    "y_s = sampled_dep_score['total']\n",
    "y_s.value_counts() "
   ]
  },
  {
   "cell_type": "code",
   "execution_count": 8,
   "metadata": {
    "colab": {
     "base_uri": "https://localhost:8080/"
    },
    "id": "WbiU9OC6eUuT",
    "outputId": "ea3ff5c8-c61c-4ddd-9c13-aeba48c75ed3"
   },
   "outputs": [
    {
     "data": {
      "text/plain": [
       "0.16666666666666666"
      ]
     },
     "execution_count": 8,
     "metadata": {
      "tags": []
     },
     "output_type": "execute_result"
    }
   ],
   "source": [
    "38 / (38*6)"
   ]
  },
  {
   "cell_type": "code",
   "execution_count": 4,
   "metadata": {
    "colab": {
     "base_uri": "https://localhost:8080/"
    },
    "id": "aSUIwjiykuLA",
    "outputId": "c472959a-2888-406e-b573-7f92c6406668"
   },
   "outputs": [
    {
     "name": "stdout",
     "output_type": "stream",
     "text": [
      "      comp_week  comp_wend  text_week  text_wend  tv_week  tv_wend\n",
      "0             1          2          1          1        1        2\n",
      "1             2          1          3          3        2        1\n",
      "2             2          3          2          1        2        2\n",
      "3             3          3          1          1        1        2\n",
      "4             2          3          0          0        2        2\n",
      "...         ...        ...        ...        ...      ...      ...\n",
      "3133          2          1          2          2        0        2\n",
      "3134          1          1          1          1        2        3\n",
      "3135          3          2          1          2        2        3\n",
      "3136          3          3          1          1        2        2\n",
      "3137          2          3          3          3        3        3\n",
      "\n",
      "[3138 rows x 6 columns]\n",
      "0       1.0\n",
      "1       1.0\n",
      "2       1.0\n",
      "3       1.0\n",
      "4       1.0\n",
      "       ... \n",
      "3133    6.0\n",
      "3134    6.0\n",
      "3135    6.0\n",
      "3136    6.0\n",
      "3137    6.0\n",
      "Name: total, Length: 3138, dtype: float64\n"
     ]
    }
   ],
   "source": [
    "print(X_s)\n",
    "print(y_s)"
   ]
  },
  {
   "cell_type": "markdown",
   "metadata": {
    "id": "Ok0jf0PGkuLW"
   },
   "source": [
    "# 2. sampled"
   ]
  },
  {
   "cell_type": "markdown",
   "metadata": {
    "id": "uT_X_N4UkuLX"
   },
   "source": [
    "# SVM "
   ]
  },
  {
   "cell_type": "markdown",
   "metadata": {
    "id": "zzqlqQGBkuLX"
   },
   "source": [
    "## Seed 100"
   ]
  },
  {
   "cell_type": "code",
   "execution_count": 5,
   "metadata": {
    "id": "v41NPXJkkuLX"
   },
   "outputs": [],
   "source": [
    "seed = 100\n",
    "X_train, X_test, y_train, y_test = train_test_split(X_s, y_s, test_size=0.3, random_state=seed)  \n",
    "folds = KFold(n_splits = 5, shuffle = True, random_state=seed)"
   ]
  },
  {
   "cell_type": "code",
   "execution_count": 6,
   "metadata": {
    "id": "7OcNQv8NkuLX"
   },
   "outputs": [
    {
     "name": "stdout",
     "output_type": "stream",
     "text": [
      "Fitting 5 folds for each of 80 candidates, totalling 400 fits\n",
      "best hyper parameters {'C': 10.0, 'gamma': 0.1, 'kernel': 'rbf'}\n",
      "Accuracy: 0.3662420382165605\n",
      "F1 score micro: 0.36624203821656054\n",
      "\n",
      "classification report:\n",
      "               precision    recall  f1-score   support\n",
      "\n",
      "         1.0       0.22      0.17      0.19       165\n",
      "         2.0       0.32      0.25      0.28       161\n",
      "         3.0       0.27      0.29      0.28       160\n",
      "         4.0       0.43      0.48      0.46       153\n",
      "         5.0       0.35      0.41      0.38       135\n",
      "         6.0       0.54      0.60      0.57       168\n",
      "\n",
      "    accuracy                           0.37       942\n",
      "   macro avg       0.36      0.37      0.36       942\n",
      "weighted avg       0.36      0.37      0.36       942\n",
      "\n"
     ]
    }
   ],
   "source": [
    "svm_hyper_params = [ \n",
    "                        {\n",
    "                        'gamma': np.logspace(-4, -1, 4),\n",
    "                        'C': np.logspace(-3, 1, 5),\n",
    "                        'kernel': ['linear', 'poly', 'rbf', 'sigmoid']\n",
    "                        }\n",
    "                    ]\n",
    "\n",
    "# specify model\n",
    "svm_model = svm.SVC()\n",
    "\n",
    "# set up GridSearchCV()\n",
    "svm_model_cv = GridSearchCV(estimator = svm_model, \n",
    "                            param_grid = svm_hyper_params, \n",
    "                            scoring= 'accuracy', \n",
    "                            cv = folds, \n",
    "                            verbose = 2,\n",
    "                            return_train_score=True,\n",
    "                            n_jobs=2)      \n",
    "\n",
    "# fit the model\n",
    "svm_model_cv.fit(X_train, y_train)\n",
    "print(\"best hyper parameters\", svm_model_cv.best_params_)\n",
    "svm_y_pred = svm_model_cv.predict(X_test)\n",
    "\n",
    "# accuracy \n",
    "print(\"Accuracy:\", metrics.accuracy_score(y_test, svm_y_pred))\n",
    "# f1 score \n",
    "print(\"F1 score micro:\", f1_score(y_test, svm_y_pred, average='micro'))\n",
    "\n",
    "print(\"\\nclassification report:\\n\", classification_report(y_test, svm_y_pred))"
   ]
  },
  {
   "cell_type": "code",
   "execution_count": 7,
   "metadata": {
    "colab": {
     "base_uri": "https://localhost:8080/",
     "height": 382
    },
    "id": "7gBh6qKBkuLY",
    "outputId": "2ff665cf-adaa-4ee9-a9cf-d72c1121239f"
   },
   "outputs": [
    {
     "name": "stdout",
     "output_type": "stream",
     "text": [
      "[learning_curve] Training set sizes: [ 351  425  499  573  646  720  794  868  942 1016 1090 1164 1238 1312\n",
      " 1386 1460 1534 1608 1682 1756]\n"
     ]
    },
    {
     "name": "stderr",
     "output_type": "stream",
     "text": [
      "[Parallel(n_jobs=-1)]: Using backend LokyBackend with 12 concurrent workers.\n",
      "[Parallel(n_jobs=-1)]: Done  50 out of 100 | elapsed:    1.4s remaining:    1.4s\n",
      "[Parallel(n_jobs=-1)]: Done 100 out of 100 | elapsed:    2.2s finished\n"
     ]
    },
    {
     "data": {
      "image/png": "[encoded data removed]",
      "text/plain": [
       "<Figure size 432x288 with 1 Axes>"
      ]
     },
     "metadata": {
      "needs_background": "light"
     },
     "output_type": "display_data"
    }
   ],
   "source": [
    "# ------ HERE ------\n",
    "\n",
    "# plug in suitable hyper-parameters\n",
    "\n",
    "\n",
    "# 여기만 바꾸면 된다. \n",
    "plot_model = svm.SVC(kernel='rbf', C=10, gamma=0.1)\n",
    "\n",
    "\n",
    "train_sizes_seed100, train_scores_seed100, val_scores_seed100 = learning_curve(plot_model, \n",
    "                                                                X_train, \n",
    "                                                                y_train, \n",
    "                                                                cv=5, \n",
    "                                                                scoring='accuracy', \n",
    "                                                                n_jobs=-1, # 이거 바꾸고 싶으면 바꾸고  \n",
    "                                                                train_sizes=np.linspace(0.2, 1, 20), \n",
    "                                                                verbose=2)\n",
    "\n",
    "\n",
    "train_mean_seed100 = np.mean(train_scores_seed100, axis = 1)\n",
    "train_std_seed100  = np.std(train_scores_seed100, axis=1)\n",
    "val_mean_seed100   = np.mean(val_scores_seed100, axis=1)\n",
    "val_std_seed100    = np.std(val_scores_seed100, axis=1)\n",
    "\n",
    "plt.plot(train_sizes_seed100, train_mean_seed100, label='Training accuracy')\n",
    "plt.plot(train_sizes_seed100, val_mean_seed100,   label='Cross-validation accuracy')\n",
    "plt.title ('Learning curve')\n",
    "plt.xlabel('Training Size')\n",
    "plt.ylabel('Accuracy score')\n",
    "plt.legend(loc='best')\n",
    "plt.show()"
   ]
  },
  {
   "cell_type": "markdown",
   "metadata": {
    "id": "2R_ijyJUkuLY"
   },
   "source": [
    "## Seed 1234"
   ]
  },
  {
   "cell_type": "code",
   "execution_count": 8,
   "metadata": {
    "id": "m90z8uLrkuLY"
   },
   "outputs": [],
   "source": [
    "seed = 1234\n",
    "X_train, X_test, y_train, y_test = train_test_split(X_s, y_s, test_size=0.3, random_state=seed)  \n",
    "folds = KFold(n_splits = 5, shuffle = True, random_state=seed)"
   ]
  },
  {
   "cell_type": "code",
   "execution_count": 9,
   "metadata": {
    "id": "WxQg5lMGkuLY"
   },
   "outputs": [
    {
     "name": "stdout",
     "output_type": "stream",
     "text": [
      "Fitting 5 folds for each of 80 candidates, totalling 400 fits\n",
      "best hyper parameters {'C': 10.0, 'gamma': 0.1, 'kernel': 'rbf'}\n",
      "Accuracy: 0.39596602972399153\n",
      "F1 score micro: 0.39596602972399153\n",
      "\n",
      "classification report:\n",
      "               precision    recall  f1-score   support\n",
      "\n",
      "         1.0       0.24      0.23      0.24       164\n",
      "         2.0       0.33      0.23      0.27       146\n",
      "         3.0       0.33      0.25      0.28       161\n",
      "         4.0       0.51      0.49      0.50       149\n",
      "         5.0       0.40      0.49      0.44       159\n",
      "         6.0       0.50      0.67      0.57       163\n",
      "\n",
      "    accuracy                           0.40       942\n",
      "   macro avg       0.38      0.39      0.38       942\n",
      "weighted avg       0.38      0.40      0.38       942\n",
      "\n"
     ]
    }
   ],
   "source": [
    "svm_hyper_params = [ \n",
    "                        {\n",
    "                        'gamma': np.logspace(-4, -1, 4),\n",
    "                        'C': np.logspace(-3, 1, 5),\n",
    "                        'kernel': ['linear', 'poly', 'rbf', 'sigmoid']\n",
    "                        }\n",
    "                    ]\n",
    "\n",
    "# specify model\n",
    "svm_model = svm.SVC()\n",
    "\n",
    "# set up GridSearchCV()\n",
    "svm_model_cv = GridSearchCV(estimator = svm_model, \n",
    "                            param_grid = svm_hyper_params, \n",
    "                            scoring= 'accuracy', \n",
    "                            cv = folds, \n",
    "                            verbose = 2,\n",
    "                            return_train_score=True,\n",
    "                            n_jobs=2)      \n",
    "\n",
    "# fit the model\n",
    "svm_model_cv.fit(X_train, y_train)\n",
    "print(\"best hyper parameters\", svm_model_cv.best_params_)\n",
    "svm_y_pred = svm_model_cv.predict(X_test)\n",
    "\n",
    "# accuracy \n",
    "print(\"Accuracy:\", metrics.accuracy_score(y_test, svm_y_pred))\n",
    "# f1 score \n",
    "print(\"F1 score micro:\", f1_score(y_test, svm_y_pred, average='micro'))\n",
    "\n",
    "print(\"\\nclassification report:\\n\", classification_report(y_test, svm_y_pred))"
   ]
  },
  {
   "cell_type": "code",
   "execution_count": 10,
   "metadata": {
    "colab": {
     "base_uri": "https://localhost:8080/",
     "height": 382
    },
    "id": "xsBpBGAtkuLZ",
    "outputId": "2e07babf-0b3b-466c-a834-ce24666b0fc7"
   },
   "outputs": [
    {
     "name": "stdout",
     "output_type": "stream",
     "text": [
      "[learning_curve] Training set sizes: [ 351  425  499  573  646  720  794  868  942 1016 1090 1164 1238 1312\n",
      " 1386 1460 1534 1608 1682 1756]\n"
     ]
    },
    {
     "name": "stderr",
     "output_type": "stream",
     "text": [
      "[Parallel(n_jobs=-1)]: Using backend LokyBackend with 12 concurrent workers.\n",
      "[Parallel(n_jobs=-1)]: Done  50 out of 100 | elapsed:    1.4s remaining:    1.4s\n",
      "[Parallel(n_jobs=-1)]: Done 100 out of 100 | elapsed:    2.2s finished\n"
     ]
    },
    {
     "data": {
      "image/png": "[encoded data removed]",
      "text/plain": [
       "<Figure size 432x288 with 1 Axes>"
      ]
     },
     "metadata": {
      "needs_background": "light"
     },
     "output_type": "display_data"
    }
   ],
   "source": [
    "plot_model = svm.SVC(kernel='rbf', C=10, gamma=0.1)\n",
    "\n",
    "train_sizes_seed1234, train_scores_seed1234, val_scores_seed1234 = learning_curve(plot_model, \n",
    "                                                                X_train, \n",
    "                                                                y_train, \n",
    "                                                                cv=5, \n",
    "                                                                scoring='accuracy', \n",
    "                                                                n_jobs=-1, # 이거 바꾸고 싶으면 바꾸고  \n",
    "                                                                train_sizes=np.linspace(0.2, 1, 20), \n",
    "                                                                verbose=2)\n",
    "\n",
    "\n",
    "train_mean_seed1234 = np.mean(train_scores_seed1234, axis = 1)\n",
    "train_std_seed1234  = np.std(train_scores_seed1234, axis=1)\n",
    "val_mean_seed1234   = np.mean(val_scores_seed1234, axis=1)\n",
    "val_std_seed1234    = np.std(val_scores_seed1234, axis=1)\n",
    "\n",
    "plt.plot(train_sizes_seed1234, train_mean_seed1234, label='Training accuracy')\n",
    "plt.plot(train_sizes_seed1234, val_mean_seed1234,   label='Cross-validation accuracy')\n",
    "plt.title ('Learning curve')\n",
    "plt.xlabel('Training Size')\n",
    "plt.ylabel('Accuracy score')\n",
    "plt.legend(loc='best')\n",
    "plt.show()"
   ]
  },
  {
   "cell_type": "markdown",
   "metadata": {
    "id": "xLDGdXm8kuLZ"
   },
   "source": [
    "## Seed 500"
   ]
  },
  {
   "cell_type": "code",
   "execution_count": 11,
   "metadata": {
    "id": "OLYX9rXNkuLZ"
   },
   "outputs": [],
   "source": [
    "seed = 500\n",
    "X_train, X_test, y_train, y_test = train_test_split(X_s, y_s, test_size=0.3, random_state=seed)  \n",
    "folds = KFold(n_splits = 5, shuffle = True, random_state=seed)"
   ]
  },
  {
   "cell_type": "code",
   "execution_count": 12,
   "metadata": {
    "id": "0ZGWSp5_kuLZ"
   },
   "outputs": [
    {
     "name": "stdout",
     "output_type": "stream",
     "text": [
      "Fitting 5 folds for each of 80 candidates, totalling 400 fits\n",
      "best hyper parameters {'C': 10.0, 'gamma': 0.1, 'kernel': 'rbf'}\n",
      "Accuracy: 0.37048832271762205\n",
      "F1 score micro: 0.37048832271762205\n",
      "\n",
      "classification report:\n",
      "               precision    recall  f1-score   support\n",
      "\n",
      "         1.0       0.24      0.23      0.24       156\n",
      "         2.0       0.23      0.22      0.22       164\n",
      "         3.0       0.36      0.37      0.36       149\n",
      "         4.0       0.46      0.42      0.44       148\n",
      "         5.0       0.44      0.36      0.39       169\n",
      "         6.0       0.48      0.64      0.55       156\n",
      "\n",
      "    accuracy                           0.37       942\n",
      "   macro avg       0.37      0.37      0.37       942\n",
      "weighted avg       0.37      0.37      0.37       942\n",
      "\n"
     ]
    }
   ],
   "source": [
    "svm_hyper_params = [ \n",
    "                        {\n",
    "                        'gamma': np.logspace(-4, -1, 4),\n",
    "                        'C': np.logspace(-3, 1, 5),\n",
    "                        'kernel': ['linear', 'poly', 'rbf', 'sigmoid']\n",
    "                        }\n",
    "                    ]\n",
    "\n",
    "# specify model\n",
    "svm_model = svm.SVC()\n",
    "\n",
    "# set up GridSearchCV()\n",
    "svm_model_cv = GridSearchCV(estimator = svm_model, \n",
    "                            param_grid = svm_hyper_params, \n",
    "                            scoring= 'accuracy', \n",
    "                            cv = folds, \n",
    "                            verbose = 2,\n",
    "                            return_train_score=True,\n",
    "                            n_jobs=2)      \n",
    "\n",
    "# fit the model\n",
    "svm_model_cv.fit(X_train, y_train)\n",
    "print(\"best hyper parameters\", svm_model_cv.best_params_)\n",
    "svm_y_pred = svm_model_cv.predict(X_test)\n",
    "\n",
    "# accuracy \n",
    "print(\"Accuracy:\", metrics.accuracy_score(y_test, svm_y_pred))\n",
    "# f1 score \n",
    "print(\"F1 score micro:\", f1_score(y_test, svm_y_pred, average='micro'))\n",
    "\n",
    "print(\"\\nclassification report:\\n\", classification_report(y_test, svm_y_pred))"
   ]
  },
  {
   "cell_type": "code",
   "execution_count": 13,
   "metadata": {
    "colab": {
     "base_uri": "https://localhost:8080/",
     "height": 382
    },
    "id": "SDMMIG6EkuLa",
    "outputId": "a6afc415-0190-40c6-db4e-1c905b674751"
   },
   "outputs": [
    {
     "name": "stdout",
     "output_type": "stream",
     "text": [
      "[learning_curve] Training set sizes: [ 351  425  499  573  646  720  794  868  942 1016 1090 1164 1238 1312\n",
      " 1386 1460 1534 1608 1682 1756]\n"
     ]
    },
    {
     "name": "stderr",
     "output_type": "stream",
     "text": [
      "[Parallel(n_jobs=-1)]: Using backend LokyBackend with 12 concurrent workers.\n",
      "[Parallel(n_jobs=-1)]: Done  50 out of 100 | elapsed:    1.4s remaining:    1.4s\n",
      "[Parallel(n_jobs=-1)]: Done 100 out of 100 | elapsed:    2.2s finished\n"
     ]
    },
    {
     "data": {
      "image/png": "[encoded data removed]",
      "text/plain": [
       "<Figure size 432x288 with 1 Axes>"
      ]
     },
     "metadata": {
      "needs_background": "light"
     },
     "output_type": "display_data"
    }
   ],
   "source": [
    "plot_model = svm.SVC(kernel='rbf', C=10, gamma=0.1)\n",
    "\n",
    "train_sizes_seed500, train_scores_seed500, val_scores_seed500 = learning_curve(plot_model, \n",
    "                                                                X_train, \n",
    "                                                                y_train, \n",
    "                                                                cv=5, \n",
    "                                                                scoring='accuracy', \n",
    "                                                                n_jobs=-1, # 이거 바꾸고 싶으면 바꾸고  \n",
    "                                                                train_sizes=np.linspace(0.2, 1, 20), \n",
    "                                                                verbose=2)\n",
    "\n",
    "\n",
    "train_mean_seed500 = np.mean(train_scores_seed500, axis = 1)\n",
    "train_std_seed500  = np.std(train_scores_seed500, axis=1)\n",
    "val_mean_seed500   = np.mean(val_scores_seed500, axis=1)\n",
    "val_std_seed500    = np.std(val_scores_seed500, axis=1)\n",
    "\n",
    "plt.plot(train_sizes_seed500, train_mean_seed500, label='Training accuracy')\n",
    "plt.plot(train_sizes_seed500, val_mean_seed500,   label='Cross-validation accuracy')\n",
    "plt.title ('Learning curve')\n",
    "plt.xlabel('Training Size')\n",
    "plt.ylabel('Accuracy score')\n",
    "plt.legend(loc='best')\n",
    "plt.show()"
   ]
  },
  {
   "cell_type": "code",
   "execution_count": 67,
   "metadata": {
    "id": "aSUlIJ75kuLa"
   },
   "outputs": [],
   "source": [
    "# learning curve considering different seeds "
   ]
  },
  {
   "cell_type": "code",
   "execution_count": 14,
   "metadata": {
    "id": "nPNGnMCTkuLa"
   },
   "outputs": [],
   "source": [
    "acc_avg = list()\n",
    "acc_se  = list()\n",
    "\n",
    "val_avg = list()\n",
    "val_se  = list()\n",
    "\n",
    "for i in range(len(train_sizes_seed100)):\n",
    "    acc_avg.append(np.mean([train_mean_seed100[i], train_mean_seed500[i], train_mean_seed1234[i]]))\n",
    "    acc_se .append(np.std ([train_mean_seed100[i], train_mean_seed500[i], train_mean_seed1234[i]]) / np.sqrt(3))\n",
    "    \n",
    "    val_avg.append(np.mean([val_mean_seed100[i], val_mean_seed500[i], val_mean_seed1234[i]]))\n",
    "    val_se .append(np.std ([val_mean_seed100[i], val_mean_seed500[i], val_mean_seed1234[i]]) / np.sqrt(3))"
   ]
  },
  {
   "cell_type": "code",
   "execution_count": 15,
   "metadata": {
    "colab": {
     "base_uri": "https://localhost:8080/",
     "height": 404
    },
    "id": "vzLhsbtmkuLa",
    "outputId": "9fcfca6e-289a-407a-bf72-cf0f174c787c"
   },
   "outputs": [
    {
     "data": {
      "image/png": "[encoded data removed]",
      "text/plain": [
       "<Figure size 576x432 with 1 Axes>"
      ]
     },
     "metadata": {
      "needs_background": "light"
     },
     "output_type": "display_data"
    }
   ],
   "source": [
    "fig, ax = plt.subplots(figsize=(8, 6))\n",
    "\n",
    "ax.plot(train_sizes_seed100, acc_avg, c='darkred', label='Training accuracy')\n",
    "ax.fill_between(train_sizes_seed100, np.subtract(acc_avg, acc_se), np.add(acc_avg, acc_se), color='lightcoral', alpha=0.5)\n",
    "\n",
    "ax.plot(train_sizes_seed100, val_avg, c='darkgreen', label='Validation accuracy')\n",
    "ax.fill_between(train_sizes_seed100, np.subtract(val_avg, val_se), np.add(val_avg, val_se), color='lime', alpha=0.5)\n",
    "\n",
    "ax.set_xlabel('Training Size')\n",
    "ax.set_ylabel('Accuracy')\n",
    "ax.set_title('SVM Sampled classification')\n",
    "ax.axhline(y=0.1666, color='blue', linestyle='-', label='Random Guess')\n",
    "ax.legend()\n",
    "ax.grid()"
   ]
  },
  {
   "cell_type": "markdown",
   "metadata": {},
   "source": [
    "Seems like the learning is very unstable due to low training size."
   ]
  },
  {
   "cell_type": "markdown",
   "metadata": {
    "id": "PsaYNrPEkuLb"
   },
   "source": [
    "# Logistic Regression"
   ]
  },
  {
   "cell_type": "markdown",
   "metadata": {
    "id": "p_SWvv29kuLb"
   },
   "source": [
    "## Seed 100"
   ]
  },
  {
   "cell_type": "code",
   "execution_count": 16,
   "metadata": {
    "id": "-u_EoQg8kuLb"
   },
   "outputs": [],
   "source": [
    "seed = 100\n",
    "X_train, X_test, y_train, y_test = train_test_split(X_s, y_s, test_size=0.3, random_state=seed)  \n",
    "folds = KFold(n_splits = 5, shuffle = True, random_state=seed)"
   ]
  },
  {
   "cell_type": "code",
   "execution_count": 17,
   "metadata": {
    "id": "qQtPpWbckuLb"
   },
   "outputs": [
    {
     "name": "stdout",
     "output_type": "stream",
     "text": [
      "Fitting 5 folds for each of 420 candidates, totalling 2100 fits\n",
      "best hyper parameters {'C': 1.0, 'multi_class': 'ovr', 'penalty': 'l1', 'solver': 'liblinear'}\n",
      "Accuracy: 0.2356687898089172\n",
      "F1 score micro: 0.2356687898089172\n",
      "\n",
      "classification report:\n",
      "               precision    recall  f1-score   support\n",
      "\n",
      "         1.0       0.22      0.19      0.21       165\n",
      "         2.0       0.14      0.11      0.12       161\n",
      "         3.0       0.32      0.16      0.21       160\n",
      "         4.0       0.23      0.25      0.24       153\n",
      "         5.0       0.22      0.24      0.23       135\n",
      "         6.0       0.28      0.45      0.34       168\n",
      "\n",
      "    accuracy                           0.24       942\n",
      "   macro avg       0.24      0.23      0.23       942\n",
      "weighted avg       0.24      0.24      0.23       942\n",
      "\n"
     ]
    },
    {
     "name": "stderr",
     "output_type": "stream",
     "text": [
      "/home/sungjin/Documents/Programming/python/venv/lib/python3.8/site-packages/sklearn/model_selection/_search.py:918: UserWarning: One or more of the test scores are non-finite: [       nan        nan 0.16302444        nan 0.16985297 0.17121971\n",
      " 0.17121971 0.17122282 0.17121971 0.17121971        nan        nan\n",
      "        nan        nan        nan 0.21948333 0.21948333        nan\n",
      " 0.21948333 0.21948333        nan        nan 0.16302444        nan\n",
      " 0.15301098 0.17121971 0.17121971 0.17122282 0.17121971 0.17121971\n",
      "        nan        nan        nan        nan        nan 0.22039346\n",
      " 0.22039346        nan 0.22039346 0.22039346        nan        nan\n",
      "        nan        nan 0.15073307 0.17121971 0.17121971        nan\n",
      " 0.17121971 0.17121971        nan        nan        nan        nan\n",
      "        nan 0.21948333 0.21948333        nan 0.21948333 0.21948333\n",
      "        nan        nan 0.16757714        nan 0.17486436 0.1816929\n",
      " 0.18123835 0.19125388 0.1816929  0.1816929         nan        nan\n",
      "        nan        nan        nan 0.21948333 0.21948333        nan\n",
      " 0.21948333 0.21948333        nan        nan 0.16757714        nan\n",
      " 0.164386   0.18168979 0.18168979 0.19125388 0.18168979 0.18168979\n",
      "        nan        nan        nan        nan        nan 0.22039346\n",
      " 0.22039346        nan 0.22039346 0.22039346        nan        nan\n",
      "        nan        nan 0.17668668 0.1816929  0.18123835        nan\n",
      " 0.1816929  0.1816929         nan        nan        nan        nan\n",
      "        nan 0.21948333 0.21948333        nan 0.21948333 0.21948333\n",
      "        nan        nan 0.2204007         nan 0.16711949 0.20992234\n",
      " 0.20992234 0.20901015 0.20992234 0.20992234        nan        nan\n",
      "        nan        nan        nan 0.21948333 0.21948333        nan\n",
      " 0.21948333 0.21948333        nan        nan 0.2204007         nan\n",
      " 0.16711949 0.20218265 0.20218265 0.20901015 0.20218265 0.20218265\n",
      "        nan        nan        nan        nan        nan 0.22039346\n",
      " 0.22039346        nan 0.22039346 0.22039346        nan        nan\n",
      "        nan        nan 0.16711949 0.20992234 0.20992234        nan\n",
      " 0.20992234 0.20992234        nan        nan        nan        nan\n",
      "        nan 0.21948333 0.21948333        nan 0.21948333 0.21948333\n",
      "        nan        nan 0.22221992        nan 0.21811659 0.21538621\n",
      " 0.21538621 0.21675295 0.21538621 0.21538621        nan        nan\n",
      "        nan        nan        nan 0.21948333 0.21948333        nan\n",
      " 0.21948333 0.21948333        nan        nan 0.22221992        nan\n",
      " 0.2208449  0.21584075 0.21584075 0.21675295 0.21584075 0.21584075\n",
      "        nan        nan        nan        nan        nan 0.22039346\n",
      " 0.22039346        nan 0.22039346 0.22039346        nan        nan\n",
      "        nan        nan 0.21811659 0.21538621 0.21538621        nan\n",
      " 0.21538621 0.21538621        nan        nan        nan        nan\n",
      "        nan 0.21948333 0.21948333        nan 0.21948333 0.21948333\n",
      "        nan        nan 0.22221578        nan 0.22221474 0.21857113\n",
      " 0.21993788 0.21993788 0.21857113 0.21857113        nan        nan\n",
      "        nan        nan        nan 0.21948333 0.21948333        nan\n",
      " 0.21948333 0.21948333        nan        nan 0.22358252        nan\n",
      " 0.22358252 0.21902671 0.21902671 0.21993788 0.21902671 0.21902671\n",
      "        nan        nan        nan        nan        nan 0.22039346\n",
      " 0.22039346        nan 0.22039346 0.22039346        nan        nan\n",
      "        nan        nan 0.22221474 0.21857113 0.21993788        nan\n",
      " 0.21857113 0.21857113        nan        nan        nan        nan\n",
      "        nan 0.21948333 0.21948333        nan 0.21948333 0.21948333\n",
      "        nan        nan 0.22039346        nan 0.21948229 0.21948333\n",
      " 0.21993788 0.22039346 0.21948333 0.21948333        nan        nan\n",
      "        nan        nan        nan 0.21948333 0.21948333        nan\n",
      " 0.21948333 0.21948333        nan        nan 0.21948229        nan\n",
      " 0.21993788 0.22039346 0.21993788 0.22039346 0.22039346 0.22039346\n",
      "        nan        nan        nan        nan        nan 0.22039346\n",
      " 0.22039346        nan 0.22039346 0.22039346        nan        nan\n",
      "        nan        nan 0.21948229 0.21948333 0.21993788        nan\n",
      " 0.21948333 0.21948333        nan        nan        nan        nan\n",
      "        nan 0.21948333 0.21948333        nan 0.21948333 0.21948333\n",
      "        nan        nan 0.22039346        nan 0.21948333 0.21948333\n",
      " 0.21948333 0.22039346 0.21948333 0.21948333        nan        nan\n",
      "        nan        nan        nan 0.21948333 0.21948333        nan\n",
      " 0.21948333 0.21948333        nan        nan 0.22039346        nan\n",
      " 0.22039346 0.22039346 0.22039346 0.22039346 0.22039346 0.22039346\n",
      "        nan        nan        nan        nan        nan 0.22039346\n",
      " 0.22039346        nan 0.22039346 0.22039346        nan        nan\n",
      "        nan        nan 0.21948333 0.21948333 0.21948333        nan\n",
      " 0.21948333 0.21948333        nan        nan        nan        nan\n",
      "        nan 0.21948333 0.21948333        nan 0.21948333 0.21948333]\n",
      "  warnings.warn(\n",
      "/home/sungjin/Documents/Programming/python/venv/lib/python3.8/site-packages/sklearn/model_selection/_search.py:918: UserWarning: One or more of the train scores are non-finite: [       nan        nan 0.16302373        nan 0.17213178 0.17907543\n",
      " 0.17907543 0.18829582 0.17907543 0.17907543        nan        nan\n",
      "        nan        nan        nan 0.23758957 0.23758957        nan\n",
      " 0.23758957 0.23758957        nan        nan 0.16302373        nan\n",
      " 0.17258632 0.1789616  0.1789616  0.18829582 0.1789616  0.1789616\n",
      "        nan        nan        nan        nan        nan 0.24168798\n",
      " 0.24168798        nan 0.24168798 0.24168798        nan        nan\n",
      "        nan        nan 0.17520442 0.17907543 0.17907543        nan\n",
      " 0.17907543 0.17907543        nan        nan        nan        nan\n",
      "        nan 0.23758957 0.23758957        nan 0.23758957 0.23758957\n",
      "        nan        nan 0.17725369        nan 0.17509137 0.2025278\n",
      " 0.20230007 0.20719517 0.2025278  0.2025278         nan        nan\n",
      "        nan        nan        nan 0.23758957 0.23758957        nan\n",
      " 0.23758957 0.23758957        nan        nan 0.17725369        nan\n",
      " 0.17281476 0.20116138 0.20116138 0.20719517 0.20116138 0.20116138\n",
      "        nan        nan        nan        nan        nan 0.24168798\n",
      " 0.24168798        nan 0.24168798 0.24168798        nan        nan\n",
      "        nan        nan 0.17668499 0.2025278  0.20230007        nan\n",
      " 0.2025278  0.2025278         nan        nan        nan        nan\n",
      "        nan 0.23758957 0.23758957        nan 0.23758957 0.23758957\n",
      "        nan        nan 0.23462972        nan 0.17702649 0.22483875\n",
      " 0.22518044 0.22108267 0.22483875 0.22483875        nan        nan\n",
      "        nan        nan        nan 0.23758957 0.23758957        nan\n",
      " 0.23758957 0.23758957        nan        nan 0.23462972        nan\n",
      " 0.17702649 0.22222104 0.22222104 0.22108267 0.22222104 0.22222104\n",
      "        nan        nan        nan        nan        nan 0.24168798\n",
      " 0.24168798        nan 0.24168798 0.24168798        nan        nan\n",
      "        nan        nan 0.17702649 0.22483875 0.22518044        nan\n",
      " 0.22483875 0.22483875        nan        nan        nan        nan\n",
      "        nan 0.23758957 0.23758957        nan 0.23758957 0.23758957\n",
      "        nan        nan 0.23565406        nan 0.23326376 0.23827255\n",
      " 0.23827255 0.23610939 0.23827255 0.23827255        nan        nan\n",
      "        nan        nan        nan 0.23758957 0.23758957        nan\n",
      " 0.23758957 0.23758957        nan        nan 0.23565406        nan\n",
      " 0.2320124  0.23804496 0.23804496 0.23610939 0.23804496 0.23804496\n",
      "        nan        nan        nan        nan        nan 0.24168798\n",
      " 0.24168798        nan 0.24168798 0.24168798        nan        nan\n",
      "        nan        nan 0.23326376 0.23827255 0.23827255        nan\n",
      " 0.23827255 0.23827255        nan        nan        nan        nan\n",
      "        nan 0.23758957 0.23758957        nan 0.23758957 0.23758957\n",
      "        nan        nan 0.24168753        nan 0.24191538 0.23884216\n",
      " 0.23952514 0.24214298 0.23884216 0.23884216        nan        nan\n",
      "        nan        nan        nan 0.23758957 0.23758957        nan\n",
      " 0.23758957 0.23758957        nan        nan 0.24168746        nan\n",
      " 0.24157363 0.24089117 0.24089117 0.24214298 0.24111883 0.24089117\n",
      "        nan        nan        nan        nan        nan 0.24168798\n",
      " 0.24168798        nan 0.24168798 0.24168798        nan        nan\n",
      "        nan        nan 0.24191538 0.23884216 0.23952514        nan\n",
      " 0.23884216 0.23884216        nan        nan        nan        nan\n",
      "        nan 0.23758957 0.23758957        nan 0.23758957 0.23758957\n",
      "        nan        nan 0.24157415        nan 0.23850034 0.23758957\n",
      " 0.23838684 0.24168798 0.23758957 0.23758957        nan        nan\n",
      "        nan        nan        nan 0.23758957 0.23758957        nan\n",
      " 0.23758957 0.23758957        nan        nan 0.24111883        nan\n",
      " 0.241005   0.24168798 0.24157415 0.24168798 0.24168798 0.24168798\n",
      "        nan        nan        nan        nan        nan 0.24168798\n",
      " 0.24168798        nan 0.24168798 0.24168798        nan        nan\n",
      "        nan        nan 0.23850034 0.23758957 0.23838684        nan\n",
      " 0.23758957 0.23758957        nan        nan        nan        nan\n",
      "        nan 0.23758957 0.23758957        nan 0.23758957 0.23758957\n",
      "        nan        nan 0.24180181        nan 0.23758957 0.23758957\n",
      " 0.23758957 0.24168798 0.23758957 0.23758957        nan        nan\n",
      "        nan        nan        nan 0.23758957 0.23758957        nan\n",
      " 0.23758957 0.23758957        nan        nan 0.24168798        nan\n",
      " 0.24168798 0.24168798 0.24168798 0.24168798 0.24168798 0.24168798\n",
      "        nan        nan        nan        nan        nan 0.24168798\n",
      " 0.24168798        nan 0.24168798 0.24168798        nan        nan\n",
      "        nan        nan 0.23758957 0.23758957 0.23758957        nan\n",
      " 0.23758957 0.23758957        nan        nan        nan        nan\n",
      "        nan 0.23758957 0.23758957        nan 0.23758957 0.23758957]\n",
      "  warnings.warn(\n"
     ]
    }
   ],
   "source": [
    "log_hyper_params = [ \n",
    "                        {\n",
    "                        'C': np.logspace(-4, 2, 7),\n",
    "                        'solver' : ['newton-cg', 'lbfgs', 'liblinear', 'sag', 'saga'],\n",
    "                        'penalty' : ['l1', 'l2', 'elasticnet', 'none'],\n",
    "                        'multi_class' : ['auto', 'ovr', 'multinomial']\n",
    "                        }\n",
    "                    ]\n",
    "\n",
    "# specify model\n",
    "log_model = LogisticRegression()\n",
    "\n",
    "# set up GridSearchCV()\n",
    "log_model_cv = GridSearchCV(estimator = log_model, \n",
    "                            param_grid = log_hyper_params, \n",
    "                            scoring= 'accuracy', \n",
    "                            cv = folds, \n",
    "                            verbose = 2,\n",
    "                            return_train_score=True,\n",
    "                            n_jobs=-1)  \n",
    "\n",
    "# fit the model\n",
    "log_model_cv.fit(X_train, y_train)\n",
    "print(\"best hyper parameters\", log_model_cv.best_params_)\n",
    "log_y_pred = log_model_cv.predict(X_test)\n",
    "\n",
    "# accuracy \n",
    "print(\"Accuracy:\", metrics.accuracy_score(y_test, log_y_pred))\n",
    "# f1 score \n",
    "print(\"F1 score micro:\", f1_score(y_test, log_y_pred, average='micro'))\n",
    "\n",
    "print(\"\\nclassification report:\\n\", classification_report(y_test, log_y_pred))"
   ]
  },
  {
   "cell_type": "code",
   "execution_count": 19,
   "metadata": {
    "colab": {
     "base_uri": "https://localhost:8080/",
     "height": 382
    },
    "id": "VYnZTkuekuLb",
    "outputId": "194e2802-a9e7-4704-aa36-f7de83f410ba"
   },
   "outputs": [
    {
     "name": "stdout",
     "output_type": "stream",
     "text": [
      "[learning_curve] Training set sizes: [ 351  425  499  573  646  720  794  868  942 1016 1090 1164 1238 1312\n",
      " 1386 1460 1534 1608 1682 1756]\n"
     ]
    },
    {
     "name": "stderr",
     "output_type": "stream",
     "text": [
      "[Parallel(n_jobs=-1)]: Using backend LokyBackend with 12 concurrent workers.\n",
      "[Parallel(n_jobs=-1)]: Done  50 out of 100 | elapsed:    0.2s remaining:    0.2s\n",
      "[Parallel(n_jobs=-1)]: Done 100 out of 100 | elapsed:    0.3s finished\n"
     ]
    },
    {
     "data": {
      "image/png": "[encoded data removed]",
      "text/plain": [
       "<Figure size 432x288 with 1 Axes>"
      ]
     },
     "metadata": {
      "needs_background": "light"
     },
     "output_type": "display_data"
    }
   ],
   "source": [
    "# ------ HERE ------\n",
    "\n",
    "# plug in suitable hyper-parameters\n",
    "\n",
    "\n",
    "# 여기만 바꾸면 된다. \n",
    "plot_model = LogisticRegression(C=1.0, multi_class='ovr', penalty='l1', solver='liblinear')\n",
    "\n",
    "\n",
    "train_sizes_seed100, train_scores_seed100, val_scores_seed100 = learning_curve(plot_model, \n",
    "                                                                X_train, \n",
    "                                                                y_train, \n",
    "                                                                cv=5, \n",
    "                                                                scoring='accuracy', \n",
    "                                                                n_jobs=-1, # 이거 바꾸고 싶으면 바꾸고  \n",
    "                                                                train_sizes=np.linspace(0.2, 1, 20), \n",
    "                                                                verbose=2)\n",
    "\n",
    "\n",
    "train_mean_seed100 = np.mean(train_scores_seed100, axis = 1)\n",
    "train_std_seed100  = np.std(train_scores_seed100, axis=1)\n",
    "val_mean_seed100   = np.mean(val_scores_seed100, axis=1)\n",
    "val_std_seed100    = np.std(val_scores_seed100, axis=1)\n",
    "\n",
    "plt.plot(train_sizes_seed100, train_mean_seed100, label='Training accuracy')\n",
    "plt.plot(train_sizes_seed100, val_mean_seed100,   label='Cross-validation accuracy')\n",
    "plt.title ('Learning curve')\n",
    "plt.xlabel('Training Size')\n",
    "plt.ylabel('Accuracy score')\n",
    "plt.legend(loc='best')\n",
    "plt.show()"
   ]
  },
  {
   "cell_type": "markdown",
   "metadata": {
    "id": "W8SlNFnAkuLc"
   },
   "source": [
    "## Seed 1234"
   ]
  },
  {
   "cell_type": "code",
   "execution_count": 20,
   "metadata": {
    "id": "EKpY2GpLkuLc"
   },
   "outputs": [],
   "source": [
    "seed = 1234\n",
    "X_train, X_test, y_train, y_test = train_test_split(X_s, y_s, test_size=0.3, random_state=seed)  \n",
    "folds = KFold(n_splits = 5, shuffle = True, random_state=seed)"
   ]
  },
  {
   "cell_type": "code",
   "execution_count": 21,
   "metadata": {
    "id": "ESbS5drvkuLc"
   },
   "outputs": [
    {
     "name": "stdout",
     "output_type": "stream",
     "text": [
      "Fitting 5 folds for each of 420 candidates, totalling 2100 fits\n",
      "best hyper parameters {'C': 0.1, 'multi_class': 'auto', 'penalty': 'l2', 'solver': 'liblinear'}\n",
      "Accuracy: 0.24097664543524416\n",
      "F1 score micro: 0.24097664543524416\n",
      "\n",
      "classification report:\n",
      "               precision    recall  f1-score   support\n",
      "\n",
      "         1.0       0.31      0.02      0.05       164\n",
      "         2.0       0.18      0.34      0.23       146\n",
      "         3.0       0.21      0.16      0.18       161\n",
      "         4.0       0.27      0.32      0.29       149\n",
      "         5.0       0.25      0.18      0.21       159\n",
      "         6.0       0.30      0.44      0.36       163\n",
      "\n",
      "    accuracy                           0.24       942\n",
      "   macro avg       0.25      0.24      0.22       942\n",
      "weighted avg       0.25      0.24      0.22       942\n",
      "\n"
     ]
    },
    {
     "name": "stderr",
     "output_type": "stream",
     "text": [
      "/home/sungjin/Documents/Programming/python/venv/lib/python3.8/site-packages/sklearn/model_selection/_search.py:918: UserWarning: One or more of the test scores are non-finite: [       nan        nan 0.16347795        nan 0.15755125 0.14799337\n",
      " 0.14799337 0.15344999 0.14799337 0.14799337        nan        nan\n",
      "        nan        nan        nan 0.22768793 0.22768793        nan\n",
      " 0.22768793 0.22768793        nan        nan 0.16347795        nan\n",
      " 0.14799027 0.14890454 0.14890454 0.15344999 0.14890454 0.14890454\n",
      "        nan        nan        nan        nan        nan 0.2244999\n",
      " 0.2244999         nan 0.2244999  0.2244999         nan        nan\n",
      "        nan        nan 0.16484055 0.14799337 0.14799337        nan\n",
      " 0.14799337 0.14799337        nan        nan        nan        nan\n",
      "        nan 0.22768793 0.22768793        nan 0.22768793 0.22768793\n",
      "        nan        nan 0.17074757        nan 0.15391075 0.16392938\n",
      " 0.16392938 0.16757507 0.16392938 0.16392938        nan        nan\n",
      "        nan        nan        nan 0.22768793 0.22768793        nan\n",
      " 0.22768793 0.22768793        nan        nan 0.17074757        nan\n",
      " 0.16348002 0.16119486 0.16119486 0.16757507 0.16119486 0.16119486\n",
      "        nan        nan        nan        nan        nan 0.2244999\n",
      " 0.2244999         nan 0.2244999  0.2244999         nan        nan\n",
      "        nan        nan 0.15892731 0.16392938 0.16392938        nan\n",
      " 0.16392938 0.16392938        nan        nan        nan        nan\n",
      "        nan 0.22768793 0.22768793        nan 0.22768793 0.22768793\n",
      "        nan        nan 0.20765583        nan 0.1520936  0.20855871\n",
      " 0.20992545 0.20720232 0.20855871 0.20855871        nan        nan\n",
      "        nan        nan        nan 0.22768793 0.22768793        nan\n",
      " 0.22768793 0.22768793        nan        nan 0.20720025        nan\n",
      " 0.1520936  0.20764962 0.20764962 0.20720232 0.20764962 0.20764962\n",
      "        nan        nan        nan        nan        nan 0.2244999\n",
      " 0.2244999         nan 0.2244999  0.2244999         nan        nan\n",
      "        nan        nan 0.14525989 0.20855871 0.20992545        nan\n",
      " 0.20855871 0.20855871        nan        nan        nan        nan\n",
      "        nan 0.22768793 0.22768793        nan 0.22768793 0.22768793\n",
      "        nan        nan 0.21084075        nan 0.20856285 0.22495237\n",
      " 0.22449783 0.22769207 0.22495237 0.22495237        nan        nan\n",
      "        nan        nan        nan 0.22768793 0.22768793        nan\n",
      " 0.22768793 0.22768793        nan        nan 0.21084075        nan\n",
      " 0.2081083  0.22221992 0.22221992 0.22769207 0.22221992 0.22221992\n",
      "        nan        nan        nan        nan        nan 0.2244999\n",
      " 0.2244999         nan 0.2244999  0.2244999         nan        nan\n",
      "        nan        nan 0.20856285 0.22495237 0.22449783        nan\n",
      " 0.22495237 0.22495237        nan        nan        nan        nan\n",
      "        nan 0.22768793 0.22768793        nan 0.22768793 0.22768793\n",
      "        nan        nan 0.22631704        nan 0.22540588 0.2267778\n",
      " 0.22723235 0.22541209 0.2267778  0.2267778         nan        nan\n",
      "        nan        nan        nan 0.22768793 0.22768793        nan\n",
      " 0.22768793 0.22768793        nan        nan 0.22677366        nan\n",
      " 0.2258625  0.22358873 0.22358873 0.22541209 0.22358873 0.22358873\n",
      "        nan        nan        nan        nan        nan 0.2244999\n",
      " 0.2244999         nan 0.2244999  0.2244999         nan        nan\n",
      "        nan        nan 0.22540588 0.2267778  0.22723235        nan\n",
      " 0.2267778  0.2267778         nan        nan        nan        nan\n",
      "        nan 0.22768793 0.22768793        nan 0.22768793 0.22768793\n",
      "        nan        nan 0.22358873        nan 0.22768793 0.22723235\n",
      " 0.22723235 0.2244999  0.22723235 0.22723235        nan        nan\n",
      "        nan        nan        nan 0.22768793 0.22768793        nan\n",
      " 0.22768793 0.22768793        nan        nan 0.22358873        nan\n",
      " 0.22358873 0.2244999  0.2244999  0.2244999  0.2244999  0.2244999\n",
      "        nan        nan        nan        nan        nan 0.2244999\n",
      " 0.2244999         nan 0.2244999  0.2244999         nan        nan\n",
      "        nan        nan 0.22768793 0.22723235 0.22723235        nan\n",
      " 0.22768793 0.22723235        nan        nan        nan        nan\n",
      "        nan 0.22768793 0.22768793        nan 0.22768793 0.22768793\n",
      "        nan        nan 0.2244999         nan 0.22768793 0.22768793\n",
      " 0.22768793 0.2244999  0.22768793 0.22768793        nan        nan\n",
      "        nan        nan        nan 0.22768793 0.22768793        nan\n",
      " 0.22768793 0.22768793        nan        nan 0.2244999         nan\n",
      " 0.2244999  0.2244999  0.2244999  0.2244999  0.2244999  0.2244999\n",
      "        nan        nan        nan        nan        nan 0.2244999\n",
      " 0.2244999         nan 0.2244999  0.2244999         nan        nan\n",
      "        nan        nan 0.22768793 0.22768793 0.22768793        nan\n",
      " 0.22768793 0.22768793        nan        nan        nan        nan\n",
      "        nan 0.22768793 0.22768793        nan 0.22768793 0.22768793]\n",
      "  warnings.warn(\n",
      "/home/sungjin/Documents/Programming/python/venv/lib/python3.8/site-packages/sklearn/model_selection/_search.py:918: UserWarning: One or more of the train scores are non-finite: [       nan        nan 0.16347898        nan 0.17133419 0.18943419\n",
      " 0.18943419 0.19398721 0.18943419 0.18943419        nan        nan\n",
      "        nan        nan        nan 0.25102434 0.25102434        nan\n",
      " 0.25102434 0.25102434        nan        nan 0.16347898        nan\n",
      " 0.17167523 0.19045834 0.19045834 0.19398721 0.19045834 0.19045834\n",
      "        nan        nan        nan        nan        nan 0.25034117\n",
      " 0.25034117        nan 0.25034117 0.25034117        nan        nan\n",
      "        nan        nan 0.1695129  0.18943419 0.18943419        nan\n",
      " 0.18943419 0.18943419        nan        nan        nan        nan\n",
      "        nan 0.25102434 0.25102434        nan 0.25102434 0.25102434\n",
      "        nan        nan 0.18989126        nan 0.17190243 0.21584771\n",
      " 0.21550621 0.21106638 0.21584771 0.21584771        nan        nan\n",
      "        nan        nan        nan 0.25102434 0.25102434        nan\n",
      " 0.25102434 0.25102434        nan        nan 0.18989126        nan\n",
      " 0.16564221 0.21311506 0.21311506 0.21106638 0.21311506 0.21322889\n",
      "        nan        nan        nan        nan        nan 0.25034117\n",
      " 0.25034117        nan 0.25034117 0.25034117        nan        nan\n",
      "        nan        nan 0.17349735 0.21584771 0.21550621        nan\n",
      " 0.21584771 0.21584771        nan        nan        nan        nan\n",
      "        nan 0.25102434 0.25102434        nan 0.25102434 0.25102434\n",
      "        nan        nan 0.23110208        nan 0.1755463  0.2358838\n",
      " 0.23645295 0.2392978  0.2358838  0.2358838         nan        nan\n",
      "        nan        nan        nan 0.25102434 0.25102434        nan\n",
      " 0.25102434 0.25102434        nan        nan 0.23087442        nan\n",
      " 0.1755463  0.23576965 0.23576965 0.2392978  0.23576965 0.23576965\n",
      "        nan        nan        nan        nan        nan 0.25034117\n",
      " 0.25034117        nan 0.25034117 0.25034117        nan        nan\n",
      "        nan        nan 0.17566013 0.2358838  0.23645295        nan\n",
      " 0.2358838  0.2358838         nan        nan        nan        nan\n",
      "        nan 0.25102434 0.25102434        nan 0.25102434 0.25102434\n",
      "        nan        nan 0.23565607        nan 0.23565594 0.24339661\n",
      " 0.24339661 0.24988578 0.24339661 0.24339661        nan        nan\n",
      "        nan        nan        nan 0.25102434 0.25102434        nan\n",
      " 0.25102434 0.25102434        nan        nan 0.23588373        nan\n",
      " 0.23417576 0.24396628 0.24396628 0.24988578 0.24396628 0.24396628\n",
      "        nan        nan        nan        nan        nan 0.25034117\n",
      " 0.25034117        nan 0.25034117 0.25034117        nan        nan\n",
      "        nan        nan 0.23565594 0.24339661 0.24339661        nan\n",
      " 0.24339661 0.24339661        nan        nan        nan        nan\n",
      "        nan 0.25102434 0.25102434        nan 0.25102434 0.25102434\n",
      "        nan        nan 0.2504561         nan 0.24840689 0.25011383\n",
      " 0.24988604 0.25011331 0.24988604 0.24988604        nan        nan\n",
      "        nan        nan        nan 0.25102434 0.25102434        nan\n",
      " 0.25102434 0.25102434        nan        nan 0.25011428        nan\n",
      " 0.25011428 0.24931663 0.24931663 0.25011331 0.24931663 0.24931663\n",
      "        nan        nan        nan        nan        nan 0.25034117\n",
      " 0.25034117        nan 0.25034117 0.25034117        nan        nan\n",
      "        nan        nan 0.24840689 0.25011383 0.24988604        nan\n",
      " 0.25011383 0.25011383        nan        nan        nan        nan\n",
      "        nan 0.25102434 0.25102434        nan 0.25102434 0.25102434\n",
      "        nan        nan 0.2489752         nan 0.25034136 0.25056902\n",
      " 0.25056902 0.24977202 0.25056902 0.25056902        nan        nan\n",
      "        nan        nan        nan 0.25102434 0.25102434        nan\n",
      " 0.25102434 0.25102434        nan        nan 0.2489752         nan\n",
      " 0.2489752  0.24988585 0.24988585 0.24977202 0.24988585 0.24988585\n",
      "        nan        nan        nan        nan        nan 0.25034117\n",
      " 0.25034117        nan 0.25034117 0.25034117        nan        nan\n",
      "        nan        nan 0.25034136 0.25056902 0.25056902        nan\n",
      " 0.25102434 0.25056902        nan        nan        nan        nan\n",
      "        nan 0.25102434 0.25102434        nan 0.25102434 0.25102434\n",
      "        nan        nan 0.24988585        nan 0.25068285 0.25102434\n",
      " 0.25102434 0.25022734 0.25102434 0.25102434        nan        nan\n",
      "        nan        nan        nan 0.25102434 0.25102434        nan\n",
      " 0.25102434 0.25102434        nan        nan 0.24988585        nan\n",
      " 0.25022734 0.25022734 0.25022734 0.25022734 0.25022734 0.25022734\n",
      "        nan        nan        nan        nan        nan 0.25034117\n",
      " 0.25034117        nan 0.25034117 0.25034117        nan        nan\n",
      "        nan        nan 0.25068285 0.25102434 0.25102434        nan\n",
      " 0.25102434 0.25102434        nan        nan        nan        nan\n",
      "        nan 0.25102434 0.25102434        nan 0.25102434 0.25102434]\n",
      "  warnings.warn(\n"
     ]
    }
   ],
   "source": [
    "log_hyper_params = [ \n",
    "                        {\n",
    "                        'C': np.logspace(-4, 2, 7),\n",
    "                        'solver' : ['newton-cg', 'lbfgs', 'liblinear', 'sag', 'saga'],\n",
    "                        'penalty' : ['l1', 'l2', 'elasticnet', 'none'],\n",
    "                        'multi_class' : ['auto', 'ovr', 'multinomial']\n",
    "                        }\n",
    "                    ]\n",
    "\n",
    "# specify model\n",
    "log_model = LogisticRegression()\n",
    "\n",
    "# set up GridSearchCV()\n",
    "log_model_cv = GridSearchCV(estimator = log_model, \n",
    "                            param_grid = log_hyper_params, \n",
    "                            scoring= 'accuracy', \n",
    "                            cv = folds, \n",
    "                            verbose = 2,\n",
    "                            return_train_score=True,\n",
    "                            n_jobs=-1)  \n",
    "\n",
    "# fit the model\n",
    "log_model_cv.fit(X_train, y_train)\n",
    "print(\"best hyper parameters\", log_model_cv.best_params_)\n",
    "log_y_pred = log_model_cv.predict(X_test)\n",
    "\n",
    "# accuracy \n",
    "print(\"Accuracy:\", metrics.accuracy_score(y_test, log_y_pred))\n",
    "# f1 score \n",
    "print(\"F1 score micro:\", f1_score(y_test, log_y_pred, average='micro'))\n",
    "\n",
    "print(\"\\nclassification report:\\n\", classification_report(y_test, log_y_pred))"
   ]
  },
  {
   "cell_type": "code",
   "execution_count": 22,
   "metadata": {
    "colab": {
     "base_uri": "https://localhost:8080/",
     "height": 382
    },
    "id": "Ji6wudR8kuLd",
    "outputId": "13e873a9-6c9c-49a1-e9bf-554ae3402f14"
   },
   "outputs": [
    {
     "name": "stdout",
     "output_type": "stream",
     "text": [
      "[learning_curve] Training set sizes: [ 351  425  499  573  646  720  794  868  942 1016 1090 1164 1238 1312\n",
      " 1386 1460 1534 1608 1682 1756]\n"
     ]
    },
    {
     "name": "stderr",
     "output_type": "stream",
     "text": [
      "[Parallel(n_jobs=-1)]: Using backend LokyBackend with 12 concurrent workers.\n",
      "[Parallel(n_jobs=-1)]: Done  50 out of 100 | elapsed:    0.1s remaining:    0.1s\n",
      "[Parallel(n_jobs=-1)]: Done 100 out of 100 | elapsed:    0.2s finished\n"
     ]
    },
    {
     "data": {
      "image/png": "[encoded data removed]",
      "text/plain": [
       "<Figure size 432x288 with 1 Axes>"
      ]
     },
     "metadata": {
      "needs_background": "light"
     },
     "output_type": "display_data"
    }
   ],
   "source": [
    "plot_model = LogisticRegression(C=0.1, multi_class='auto', penalty='l2', solver='liblinear')\n",
    "\n",
    "train_sizes_seed1234, train_scores_seed1234, val_scores_seed1234 = learning_curve(plot_model, \n",
    "                                                                X_train, \n",
    "                                                                y_train, \n",
    "                                                                cv=5, \n",
    "                                                                scoring='accuracy', \n",
    "                                                                n_jobs=-1, # 이거 바꾸고 싶으면 바꾸고  \n",
    "                                                                train_sizes=np.linspace(0.2, 1, 20), \n",
    "                                                                verbose=2)\n",
    "\n",
    "\n",
    "train_mean_seed1234 = np.mean(train_scores_seed1234, axis = 1)\n",
    "train_std_seed1234  = np.std(train_scores_seed1234, axis=1)\n",
    "val_mean_seed1234   = np.mean(val_scores_seed1234, axis=1)\n",
    "val_std_seed1234    = np.std(val_scores_seed1234, axis=1)\n",
    "\n",
    "plt.plot(train_sizes_seed1234, train_mean_seed1234, label='Training accuracy')\n",
    "plt.plot(train_sizes_seed1234, val_mean_seed1234,   label='Cross-validation accuracy')\n",
    "plt.title ('Learning curve')\n",
    "plt.xlabel('Training Size')\n",
    "plt.ylabel('Accuracy score')\n",
    "plt.legend(loc='best')\n",
    "plt.show()"
   ]
  },
  {
   "cell_type": "markdown",
   "metadata": {
    "id": "j3sEIGShkuLd"
   },
   "source": [
    "## Seed 500"
   ]
  },
  {
   "cell_type": "code",
   "execution_count": 23,
   "metadata": {
    "id": "_l5xcGZBkuLd"
   },
   "outputs": [],
   "source": [
    "seed = 500\n",
    "X_train, X_test, y_train, y_test = train_test_split(X_s, y_s, test_size=0.3, random_state=seed)  \n",
    "folds = KFold(n_splits = 5, shuffle = True, random_state=seed)"
   ]
  },
  {
   "cell_type": "code",
   "execution_count": 24,
   "metadata": {
    "id": "DS5V8Yt4kuLd"
   },
   "outputs": [
    {
     "name": "stdout",
     "output_type": "stream",
     "text": [
      "Fitting 5 folds for each of 420 candidates, totalling 2100 fits\n",
      "best hyper parameters {'C': 0.1, 'multi_class': 'auto', 'penalty': 'l1', 'solver': 'liblinear'}\n",
      "Accuracy: 0.22505307855626328\n",
      "F1 score micro: 0.22505307855626328\n",
      "\n",
      "classification report:\n",
      "               precision    recall  f1-score   support\n",
      "\n",
      "         1.0       0.25      0.10      0.14       156\n",
      "         2.0       0.15      0.09      0.11       164\n",
      "         3.0       0.16      0.21      0.18       149\n",
      "         4.0       0.22      0.39      0.28       148\n",
      "         5.0       0.28      0.11      0.15       169\n",
      "         6.0       0.28      0.48      0.36       156\n",
      "\n",
      "    accuracy                           0.23       942\n",
      "   macro avg       0.22      0.23      0.21       942\n",
      "weighted avg       0.23      0.23      0.20       942\n",
      "\n"
     ]
    },
    {
     "name": "stderr",
     "output_type": "stream",
     "text": [
      "/home/sungjin/Documents/Programming/python/venv/lib/python3.8/site-packages/sklearn/model_selection/_search.py:918: UserWarning: One or more of the test scores are non-finite: [       nan        nan 0.16712466        nan 0.15801822 0.15984055\n",
      " 0.15801822 0.19262994 0.15984055 0.15984055        nan        nan\n",
      "        nan        nan        nan 0.21858977 0.21858977        nan\n",
      " 0.21858977 0.21858977        nan        nan 0.16712466        nan\n",
      " 0.15664837 0.15801822 0.15801822 0.19262994 0.15801822 0.15801822\n",
      "        nan        nan        nan        nan        nan 0.21949886\n",
      " 0.21904328        nan 0.21949886 0.21949886        nan        nan\n",
      "        nan        nan 0.16940257 0.15984055 0.15801822        nan\n",
      " 0.15984055 0.15984055        nan        nan        nan        nan\n",
      "        nan 0.21858977 0.21858977        nan 0.21858977 0.21858977\n",
      "        nan        nan 0.18532615        nan 0.15710188 0.20447712\n",
      " 0.20584179 0.21039242 0.20447712 0.20447712        nan        nan\n",
      "        nan        nan        nan 0.21858977 0.21858977        nan\n",
      " 0.21858977 0.21858977        nan        nan 0.18532615        nan\n",
      " 0.15936943 0.20492441 0.20492441 0.21039242 0.20492441 0.20492441\n",
      "        nan        nan        nan        nan        nan 0.21949886\n",
      " 0.21904328        nan 0.21949886 0.21949886        nan        nan\n",
      "        nan        nan 0.15300683 0.20447712 0.20584179        nan\n",
      " 0.2049327  0.20447712        nan        nan        nan        nan\n",
      "        nan 0.21858977 0.21858977        nan 0.21858977 0.21858977\n",
      "        nan        nan 0.21949886        nan 0.15255125 0.22542348\n",
      " 0.22542348 0.22086353 0.22542348 0.22542348        nan        nan\n",
      "        nan        nan        nan 0.21858977 0.21858977        nan\n",
      " 0.21858977 0.21858977        nan        nan 0.21949886        nan\n",
      " 0.15255125 0.2236022  0.2236022  0.22086353 0.2236022  0.2236022\n",
      "        nan        nan        nan        nan        nan 0.21949886\n",
      " 0.21904328        nan 0.21949886 0.21949886        nan        nan\n",
      "        nan        nan 0.15255125 0.22542348 0.22542348        nan\n",
      " 0.22542348 0.22542348        nan        nan        nan        nan\n",
      "        nan 0.21858977 0.21858977        nan 0.21858977 0.21858977\n",
      "        nan        nan 0.22724374        nan 0.22541831 0.22541934\n",
      " 0.22587389 0.21859081 0.22541934 0.22541934        nan        nan\n",
      "        nan        nan        nan 0.21858977 0.21858977        nan\n",
      " 0.21858977 0.21858977        nan        nan 0.22678815        nan\n",
      " 0.22223338 0.22450922 0.22405467 0.21859081 0.22450922 0.22405467\n",
      "        nan        nan        nan        nan        nan 0.21949886\n",
      " 0.21904328        nan 0.21949886 0.21904328        nan        nan\n",
      "        nan        nan 0.22541831 0.22541934 0.22587389        nan\n",
      " 0.22541934 0.22541934        nan        nan        nan        nan\n",
      "        nan 0.21858977 0.21858977        nan 0.21858977 0.21858977\n",
      "        nan        nan 0.2194999         nan 0.22223442 0.21904535\n",
      " 0.21904535 0.22041416 0.21904535 0.21904535        nan        nan\n",
      "        nan        nan        nan 0.21858977 0.21858977        nan\n",
      " 0.21858977 0.21858977        nan        nan 0.21995548        nan\n",
      " 0.21950093 0.21813522 0.21813522 0.22041416 0.21813522 0.21813522\n",
      "        nan        nan        nan        nan        nan 0.21949886\n",
      " 0.21904328        nan 0.21949886 0.21949886        nan        nan\n",
      "        nan        nan 0.22223442 0.21904535 0.21904535        nan\n",
      " 0.21904535 0.21904535        nan        nan        nan        nan\n",
      "        nan 0.21858977 0.21858977        nan 0.21858977 0.21858977\n",
      "        nan        nan 0.21949886        nan 0.21858977 0.21858977\n",
      " 0.21858977 0.21904328 0.21858977 0.21858977        nan        nan\n",
      "        nan        nan        nan 0.21858977 0.21858977        nan\n",
      " 0.21858977 0.21858977        nan        nan 0.21813522        nan\n",
      " 0.21813522 0.21904328 0.21904328 0.21904328 0.21904328 0.21904328\n",
      "        nan        nan        nan        nan        nan 0.21949886\n",
      " 0.21904328        nan 0.21904328 0.21949886        nan        nan\n",
      "        nan        nan 0.21858977 0.21858977 0.21858977        nan\n",
      " 0.21858977 0.21858977        nan        nan        nan        nan\n",
      "        nan 0.21858977 0.21858977        nan 0.21858977 0.21858977\n",
      "        nan        nan 0.21904328        nan 0.21858977 0.21858977\n",
      " 0.21858977 0.21904328 0.21858977 0.21858977        nan        nan\n",
      "        nan        nan        nan 0.21858977 0.21858977        nan\n",
      " 0.21858977 0.21858977        nan        nan 0.21904328        nan\n",
      " 0.21949886 0.21949886 0.2185877  0.21904328 0.21949886 0.21949886\n",
      "        nan        nan        nan        nan        nan 0.21949886\n",
      " 0.21904328        nan 0.21949886 0.21949886        nan        nan\n",
      "        nan        nan 0.21858977 0.21858977 0.21858977        nan\n",
      " 0.21858977 0.21858977        nan        nan        nan        nan\n",
      "        nan 0.21858977 0.21858977        nan 0.21858977 0.21858977]\n",
      "  warnings.warn(\n",
      "/home/sungjin/Documents/Programming/python/venv/lib/python3.8/site-packages/sklearn/model_selection/_search.py:918: UserWarning: One or more of the train scores are non-finite: [       nan        nan 0.1671222         nan 0.1703103  0.18066867\n",
      " 0.17907504 0.20184391 0.18066867 0.18066867        nan        nan\n",
      "        nan        nan        nan 0.23884482 0.23861716        nan\n",
      " 0.23861716 0.23861716        nan        nan 0.1671222         nan\n",
      " 0.16826012 0.17907524 0.17907524 0.20184391 0.17907524 0.17907524\n",
      "        nan        nan        nan        nan        nan 0.23804859\n",
      " 0.23725177        nan 0.23804859 0.23804859        nan        nan\n",
      "        nan        nan 0.16734987 0.18066867 0.17907504        nan\n",
      " 0.18066867 0.18066867        nan        nan        nan        nan\n",
      "        nan 0.23884482 0.23861716        nan 0.23884482 0.23884482\n",
      "        nan        nan 0.2028691         nan 0.17042329 0.22336142\n",
      " 0.2247281  0.22313369 0.22336142 0.22336142        nan        nan\n",
      "        nan        nan        nan 0.23884482 0.23861716        nan\n",
      " 0.23861716 0.23861716        nan        nan 0.2028691         nan\n",
      " 0.16700688 0.22324863 0.22324863 0.22313369 0.22324863 0.22324863\n",
      "        nan        nan        nan        nan        nan 0.23804859\n",
      " 0.23725177        nan 0.23804859 0.23804859        nan        nan\n",
      "        nan        nan 0.1714486  0.22336142 0.2247281         nan\n",
      " 0.22393057 0.22336142        nan        nan        nan        nan\n",
      "        nan 0.23884482 0.23861716        nan 0.23884482 0.23884482\n",
      "        nan        nan 0.23053377        nan 0.1740667  0.23656782\n",
      " 0.23656782 0.228713   0.23656782 0.23656782        nan        nan\n",
      "        nan        nan        nan 0.23884482 0.23861716        nan\n",
      " 0.23884482 0.23861716        nan        nan 0.23053377        nan\n",
      " 0.1740667  0.2352016  0.2352016  0.228713   0.2352016  0.2352016\n",
      "        nan        nan        nan        nan        nan 0.23804859\n",
      " 0.23725177        nan 0.23804859 0.23804859        nan        nan\n",
      "        nan        nan 0.1740667  0.23656782 0.23656782        nan\n",
      " 0.23656782 0.23656782        nan        nan        nan        nan\n",
      "        nan 0.23884482 0.23861716        nan 0.23861716 0.23861716\n",
      "        nan        nan 0.23986968        nan 0.23702295 0.24055247\n",
      " 0.24066656 0.23497419 0.24055247 0.24055247        nan        nan\n",
      "        nan        nan        nan 0.23884482 0.23861716        nan\n",
      " 0.23884482 0.23884482        nan        nan 0.23986968        nan\n",
      " 0.23144519 0.2404389  0.23998331 0.23497419 0.2404389  0.23998331\n",
      "        nan        nan        nan        nan        nan 0.23804859\n",
      " 0.23725177        nan 0.23804859 0.23725177        nan        nan\n",
      "        nan        nan 0.23702295 0.24055247 0.24066656        nan\n",
      " 0.24055247 0.24021098        nan        nan        nan        nan\n",
      "        nan 0.23884482 0.23861716        nan 0.23861716 0.23884482\n",
      "        nan        nan 0.23873196        nan 0.23884482 0.23907254\n",
      " 0.23918637 0.23770651 0.23907254 0.23907254        nan        nan\n",
      "        nan        nan        nan 0.23884482 0.23861716        nan\n",
      " 0.23861716 0.23861716        nan        nan 0.2385043         nan\n",
      " 0.2375932  0.23793456 0.23793456 0.23770651 0.23793456 0.23702392\n",
      "        nan        nan        nan        nan        nan 0.23804859\n",
      " 0.23725177        nan 0.23804859 0.23804859        nan        nan\n",
      "        nan        nan 0.23884482 0.23907254 0.23918637        nan\n",
      " 0.23907254 0.23907254        nan        nan        nan        nan\n",
      "        nan 0.23884482 0.23861716        nan 0.23884482 0.23861716\n",
      "        nan        nan 0.23827625        nan 0.23884488 0.23861716\n",
      " 0.23861716 0.23725177 0.23861716 0.23861716        nan        nan\n",
      "        nan        nan        nan 0.23884482 0.23861716        nan\n",
      " 0.23884482 0.23884482        nan        nan 0.23793456        nan\n",
      " 0.23793456 0.23827625 0.23827625 0.23725177 0.23827625 0.23827625\n",
      "        nan        nan        nan        nan        nan 0.23804859\n",
      " 0.23725177        nan 0.23827625 0.23804859        nan        nan\n",
      "        nan        nan 0.23884488 0.23861716 0.23861716        nan\n",
      " 0.23861716 0.23861716        nan        nan        nan        nan\n",
      "        nan 0.23884482 0.23861716        nan 0.23884482 0.23884482\n",
      "        nan        nan 0.23839008        nan 0.23895865 0.23884482\n",
      " 0.23861716 0.23827625 0.23884482 0.23861716        nan        nan\n",
      "        nan        nan        nan 0.23884482 0.23861716        nan\n",
      " 0.23861716 0.23884482        nan        nan 0.23816242        nan\n",
      " 0.23804859 0.23804859 0.23747943 0.23827625 0.23804859 0.23804859\n",
      "        nan        nan        nan        nan        nan 0.23804859\n",
      " 0.23725177        nan 0.23804859 0.23804859        nan        nan\n",
      "        nan        nan 0.23895865 0.23884482 0.23861716        nan\n",
      " 0.23861716 0.23884482        nan        nan        nan        nan\n",
      "        nan 0.23884482 0.23861716        nan 0.23861716 0.23884482]\n",
      "  warnings.warn(\n"
     ]
    }
   ],
   "source": [
    "log_hyper_params = [ \n",
    "                        {\n",
    "                        'C': np.logspace(-4, 2, 7),\n",
    "                        'solver' : ['newton-cg', 'lbfgs', 'liblinear', 'sag', 'saga'],\n",
    "                        'penalty' : ['l1', 'l2', 'elasticnet', 'none'],\n",
    "                        'multi_class' : ['auto', 'ovr', 'multinomial']\n",
    "                        }\n",
    "                    ]\n",
    "\n",
    "# specify model\n",
    "log_model = LogisticRegression()\n",
    "\n",
    "# set up GridSearchCV()\n",
    "log_model_cv = GridSearchCV(estimator = log_model, \n",
    "                            param_grid = log_hyper_params, \n",
    "                            scoring= 'accuracy', \n",
    "                            cv = folds, \n",
    "                            verbose = 2,\n",
    "                            return_train_score=True,\n",
    "                            n_jobs=-1)  \n",
    "\n",
    "# fit the model\n",
    "log_model_cv.fit(X_train, y_train)\n",
    "print(\"best hyper parameters\", log_model_cv.best_params_)\n",
    "log_y_pred = log_model_cv.predict(X_test)\n",
    "\n",
    "# accuracy \n",
    "print(\"Accuracy:\", metrics.accuracy_score(y_test, log_y_pred))\n",
    "# f1 score \n",
    "print(\"F1 score micro:\", f1_score(y_test, log_y_pred, average='micro'))\n",
    "\n",
    "print(\"\\nclassification report:\\n\", classification_report(y_test, log_y_pred))"
   ]
  },
  {
   "cell_type": "code",
   "execution_count": 25,
   "metadata": {
    "colab": {
     "base_uri": "https://localhost:8080/",
     "height": 382
    },
    "id": "ncHVoJjbkuLe",
    "outputId": "56b3b0ce-bd75-41c4-d615-fc68b5519c63"
   },
   "outputs": [
    {
     "name": "stdout",
     "output_type": "stream",
     "text": [
      "[learning_curve] Training set sizes: [ 351  425  499  573  646  720  794  868  942 1016 1090 1164 1238 1312\n",
      " 1386 1460 1534 1608 1682 1756]\n"
     ]
    },
    {
     "name": "stderr",
     "output_type": "stream",
     "text": [
      "[Parallel(n_jobs=-1)]: Using backend LokyBackend with 12 concurrent workers.\n",
      "[Parallel(n_jobs=-1)]: Done  50 out of 100 | elapsed:    0.2s remaining:    0.2s\n",
      "[Parallel(n_jobs=-1)]: Done 100 out of 100 | elapsed:    0.2s finished\n"
     ]
    },
    {
     "data": {
      "image/png": "[encoded data removed]",
      "text/plain": [
       "<Figure size 432x288 with 1 Axes>"
      ]
     },
     "metadata": {
      "needs_background": "light"
     },
     "output_type": "display_data"
    }
   ],
   "source": [
    "plot_model = LogisticRegression(C=0.1, multi_class='auto', penalty='l1', solver='liblinear')\n",
    "\n",
    "train_sizes_seed500, train_scores_seed500, val_scores_seed500 = learning_curve(plot_model, \n",
    "                                                                X_train, \n",
    "                                                                y_train, \n",
    "                                                                cv=5, \n",
    "                                                                scoring='accuracy', \n",
    "                                                                n_jobs=-1, # 이거 바꾸고 싶으면 바꾸고  \n",
    "                                                                train_sizes=np.linspace(0.2, 1, 20), \n",
    "                                                                verbose=2)\n",
    "\n",
    "\n",
    "train_mean_seed500 = np.mean(train_scores_seed500, axis = 1)\n",
    "train_std_seed500  = np.std(train_scores_seed500, axis=1)\n",
    "val_mean_seed500   = np.mean(val_scores_seed500, axis=1)\n",
    "val_std_seed500    = np.std(val_scores_seed500, axis=1)\n",
    "\n",
    "plt.plot(train_sizes_seed500, train_mean_seed500, label='Training accuracy')\n",
    "plt.plot(train_sizes_seed500, val_mean_seed500,   label='Cross-validation accuracy')\n",
    "plt.title ('Learning curve')\n",
    "plt.xlabel('Training Size')\n",
    "plt.ylabel('Accuracy score')\n",
    "plt.legend(loc='best')\n",
    "plt.show()"
   ]
  },
  {
   "cell_type": "code",
   "execution_count": 79,
   "metadata": {
    "id": "p_ZD23tUkuLe"
   },
   "outputs": [],
   "source": [
    "# learning curve considering different seeds "
   ]
  },
  {
   "cell_type": "code",
   "execution_count": 26,
   "metadata": {
    "id": "xnvS5h8GkuLe"
   },
   "outputs": [],
   "source": [
    "acc_avg = list()\n",
    "acc_se  = list()\n",
    "\n",
    "val_avg = list()\n",
    "val_se  = list()\n",
    "\n",
    "for i in range(len(train_sizes_seed100)):\n",
    "    acc_avg.append(np.mean([train_mean_seed100[i], train_mean_seed500[i], train_mean_seed1234[i]]))\n",
    "    acc_se .append(np.std ([train_mean_seed100[i], train_mean_seed500[i], train_mean_seed1234[i]]) / np.sqrt(3))\n",
    "    \n",
    "    val_avg.append(np.mean([val_mean_seed100[i], val_mean_seed500[i], val_mean_seed1234[i]]))\n",
    "    val_se .append(np.std ([val_mean_seed100[i], val_mean_seed500[i], val_mean_seed1234[i]]) / np.sqrt(3))"
   ]
  },
  {
   "cell_type": "code",
   "execution_count": 27,
   "metadata": {
    "colab": {
     "base_uri": "https://localhost:8080/",
     "height": 404
    },
    "id": "_pZ8EOhFkuLe",
    "outputId": "107d9d5a-7855-4ccd-a35a-36146433e4f2"
   },
   "outputs": [
    {
     "data": {
      "image/png": "[encoded data removed]",
      "text/plain": [
       "<Figure size 576x432 with 1 Axes>"
      ]
     },
     "metadata": {
      "needs_background": "light"
     },
     "output_type": "display_data"
    }
   ],
   "source": [
    "fig, ax = plt.subplots(figsize=(8, 6))\n",
    "\n",
    "ax.plot(train_sizes_seed100, acc_avg, c='darkred', label='Training accuracy')\n",
    "ax.fill_between(train_sizes_seed100, np.subtract(acc_avg, acc_se), np.add(acc_avg, acc_se), color='lightcoral', alpha=0.5)\n",
    "\n",
    "ax.plot(train_sizes_seed100, val_avg, c='darkgreen', label='Validation accuracy')\n",
    "ax.fill_between(train_sizes_seed100, np.subtract(val_avg, val_se), np.add(val_avg, val_se), color='lime', alpha=0.5)\n",
    "\n",
    "ax.set_xlabel('Training Size')\n",
    "ax.set_ylabel('Accuracy')\n",
    "ax.set_title('Logistic Regression Sampled classification')\n",
    "ax.axhline(y=0.1666, color='blue', linestyle='-', label='Random Guess')\n",
    "ax.legend()\n",
    "ax.grid()"
   ]
  },
  {
   "cell_type": "markdown",
   "metadata": {},
   "source": [
    "Seems like the learning is very unstable due to low training size."
   ]
  },
  {
   "cell_type": "markdown",
   "metadata": {
    "id": "85NzAXvwkuLf"
   },
   "source": [
    "# KNN"
   ]
  },
  {
   "cell_type": "markdown",
   "metadata": {
    "id": "x6kxrBRykuLf"
   },
   "source": [
    "## Seed 100"
   ]
  },
  {
   "cell_type": "code",
   "execution_count": 28,
   "metadata": {
    "id": "5_SsTm27kuLf"
   },
   "outputs": [],
   "source": [
    "seed = 100\n",
    "X_train, X_test, y_train, y_test = train_test_split(X_s, y_s, test_size=0.3, random_state=seed)  \n",
    "folds = KFold(n_splits = 5, shuffle = True, random_state=seed)"
   ]
  },
  {
   "cell_type": "code",
   "execution_count": 29,
   "metadata": {
    "id": "LgLQTAJokuLf"
   },
   "outputs": [
    {
     "name": "stdout",
     "output_type": "stream",
     "text": [
      "Fitting 5 folds for each of 800 candidates, totalling 4000 fits\n",
      "best hyper parameters {'algorithm': 'ball_tree', 'leaf_size': 12, 'n_neighbors': 34, 'weights': 'distance'}\n",
      "Accuracy: 0.5106157112526539\n",
      "F1 score micro: 0.5106157112526539\n",
      "\n",
      "classification report:\n",
      "               precision    recall  f1-score   support\n",
      "\n",
      "         1.0       0.35      0.21      0.27       165\n",
      "         2.0       0.46      0.37      0.41       161\n",
      "         3.0       0.55      0.44      0.49       160\n",
      "         4.0       0.58      0.70      0.63       153\n",
      "         5.0       0.42      0.61      0.50       135\n",
      "         6.0       0.62      0.76      0.68       168\n",
      "\n",
      "    accuracy                           0.51       942\n",
      "   macro avg       0.50      0.51      0.50       942\n",
      "weighted avg       0.50      0.51      0.50       942\n",
      "\n"
     ]
    }
   ],
   "source": [
    "knn_hyper_params = [ \n",
    "                        {\n",
    "                        'weights' : ['uniform', 'distance'],\n",
    "                        'algorithm' : ['auto', 'ball_tree', 'kd_tree', 'brute'],\n",
    "                        'leaf_size' : np.linspace(2, 100, 10, dtype=int),\n",
    "                        'n_neighbors' : [int(x) for x in np.linspace(2, 50, 10)]\n",
    "                        }\n",
    "                    ]\n",
    "\n",
    "# specify model\n",
    "\n",
    "# THIS SECTION SHOULD BE CHANGED.\n",
    "# n_neighbors  SHOULD BE MODIFIED TO ANOTHER VALUE DEPENDING ON THE TARGET VALUE.\n",
    "knn_model = KNeighborsClassifier()\n",
    "\n",
    "# set up GridSearchCV()\n",
    "knn_model_cv = GridSearchCV(estimator = knn_model, \n",
    "                            param_grid = knn_hyper_params, \n",
    "                            scoring= 'accuracy', \n",
    "                            cv = folds, \n",
    "                            verbose = 2,\n",
    "                            return_train_score=True,\n",
    "                            n_jobs=-1)  \n",
    "\n",
    "# fit the model\n",
    "knn_model_cv.fit(X_train, y_train)\n",
    "print(\"best hyper parameters\", knn_model_cv.best_params_)\n",
    "knn_y_pred = knn_model_cv.predict(X_test)\n",
    "\n",
    "# accuracy \n",
    "print(\"Accuracy:\", metrics.accuracy_score(y_test, knn_y_pred))\n",
    "# f1 score \n",
    "print(\"F1 score micro:\", f1_score(y_test, knn_y_pred, average='micro'))\n",
    "\n",
    "print(\"\\nclassification report:\\n\", classification_report(y_test, knn_y_pred))"
   ]
  },
  {
   "cell_type": "code",
   "execution_count": 30,
   "metadata": {
    "colab": {
     "base_uri": "https://localhost:8080/",
     "height": 382
    },
    "id": "PgV7PWAhkuLf",
    "outputId": "e4f2003a-8e23-4e81-a5c6-053c9612ac5f"
   },
   "outputs": [
    {
     "name": "stdout",
     "output_type": "stream",
     "text": [
      "[learning_curve] Training set sizes: [ 351  425  499  573  646  720  794  868  942 1016 1090 1164 1238 1312\n",
      " 1386 1460 1534 1608 1682 1756]\n"
     ]
    },
    {
     "name": "stderr",
     "output_type": "stream",
     "text": [
      "[Parallel(n_jobs=-1)]: Using backend LokyBackend with 12 concurrent workers.\n",
      "[Parallel(n_jobs=-1)]: Done  50 out of 100 | elapsed:    0.2s remaining:    0.2s\n",
      "[Parallel(n_jobs=-1)]: Done 100 out of 100 | elapsed:    0.4s finished\n"
     ]
    },
    {
     "data": {
      "image/png": "[encoded data removed]",
      "text/plain": [
       "<Figure size 432x288 with 1 Axes>"
      ]
     },
     "metadata": {
      "needs_background": "light"
     },
     "output_type": "display_data"
    }
   ],
   "source": [
    "# ------ HERE ------\n",
    "\n",
    "# plug in suitable hyper-parameters\n",
    "\n",
    "\n",
    "# 여기만 바꾸면 된다. \n",
    "plot_model = KNeighborsClassifier(algorithm='ball_tree', leaf_size=12, weights='distance', n_neighbors=34)\n",
    "\n",
    "\n",
    "train_sizes_seed100, train_scores_seed100, val_scores_seed100 = learning_curve(plot_model, \n",
    "                                                                X_train, \n",
    "                                                                y_train, \n",
    "                                                                cv=5, \n",
    "                                                                scoring='accuracy', \n",
    "                                                                n_jobs=-1, # 이거 바꾸고 싶으면 바꾸고  \n",
    "                                                                train_sizes=np.linspace(0.2, 1, 20), \n",
    "                                                                verbose=2)\n",
    "\n",
    "\n",
    "train_mean_seed100 = np.mean(train_scores_seed100, axis = 1)\n",
    "train_std_seed100  = np.std(train_scores_seed100, axis=1)\n",
    "val_mean_seed100   = np.mean(val_scores_seed100, axis=1)\n",
    "val_std_seed100    = np.std(val_scores_seed100, axis=1)\n",
    "\n",
    "plt.plot(train_sizes_seed100, train_mean_seed100, label='Training accuracy')\n",
    "plt.plot(train_sizes_seed100, val_mean_seed100,   label='Cross-validation accuracy')\n",
    "plt.title ('Learning curve')\n",
    "plt.xlabel('Training Size')\n",
    "plt.ylabel('Accuracy score')\n",
    "plt.legend(loc='best')\n",
    "plt.show()"
   ]
  },
  {
   "cell_type": "markdown",
   "metadata": {
    "id": "lHSpkqDJkuLg"
   },
   "source": [
    "## Seed 1234"
   ]
  },
  {
   "cell_type": "code",
   "execution_count": 31,
   "metadata": {
    "id": "d2wLUw5EkuLg"
   },
   "outputs": [],
   "source": [
    "seed = 1234\n",
    "X_train, X_test, y_train, y_test = train_test_split(X_s, y_s, test_size=0.3, random_state=seed)  \n",
    "folds = KFold(n_splits = 5, shuffle = True, random_state=seed)"
   ]
  },
  {
   "cell_type": "code",
   "execution_count": 32,
   "metadata": {
    "id": "ygkud7CtkuLg"
   },
   "outputs": [
    {
     "name": "stdout",
     "output_type": "stream",
     "text": [
      "Fitting 5 folds for each of 800 candidates, totalling 4000 fits\n",
      "best hyper parameters {'algorithm': 'auto', 'leaf_size': 56, 'n_neighbors': 12, 'weights': 'distance'}\n",
      "Accuracy: 0.4883227176220807\n",
      "F1 score micro: 0.4883227176220807\n",
      "\n",
      "classification report:\n",
      "               precision    recall  f1-score   support\n",
      "\n",
      "         1.0       0.29      0.20      0.24       164\n",
      "         2.0       0.36      0.36      0.36       146\n",
      "         3.0       0.56      0.34      0.42       161\n",
      "         4.0       0.51      0.72      0.60       149\n",
      "         5.0       0.53      0.52      0.52       159\n",
      "         6.0       0.59      0.80      0.68       163\n",
      "\n",
      "    accuracy                           0.49       942\n",
      "   macro avg       0.47      0.49      0.47       942\n",
      "weighted avg       0.47      0.49      0.47       942\n",
      "\n"
     ]
    }
   ],
   "source": [
    "knn_hyper_params = [ \n",
    "                        {\n",
    "                        'weights' : ['uniform', 'distance'],\n",
    "                        'algorithm' : ['auto', 'ball_tree', 'kd_tree', 'brute'],\n",
    "                        'leaf_size' : np.linspace(2, 100, 10, dtype=int),\n",
    "                        'n_neighbors' : [int(x) for x in np.linspace(2, 50, 10)]\n",
    "                        }\n",
    "                    ]\n",
    "\n",
    "# specify model\n",
    "\n",
    "# THIS SECTION SHOULD BE CHANGED.\n",
    "# n_neighbors  SHOULD BE MODIFIED TO ANOTHER VALUE DEPENDING ON THE TARGET VALUE.\n",
    "knn_model = KNeighborsClassifier()\n",
    "\n",
    "# set up GridSearchCV()\n",
    "knn_model_cv = GridSearchCV(estimator = knn_model, \n",
    "                            param_grid = knn_hyper_params, \n",
    "                            scoring= 'accuracy', \n",
    "                            cv = folds, \n",
    "                            verbose = 2,\n",
    "                            return_train_score=True,\n",
    "                            n_jobs=-1)  \n",
    "\n",
    "# fit the model\n",
    "knn_model_cv.fit(X_train, y_train)\n",
    "print(\"best hyper parameters\", knn_model_cv.best_params_)\n",
    "knn_y_pred = knn_model_cv.predict(X_test)\n",
    "\n",
    "# accuracy \n",
    "print(\"Accuracy:\", metrics.accuracy_score(y_test, knn_y_pred))\n",
    "# f1 score \n",
    "print(\"F1 score micro:\", f1_score(y_test, knn_y_pred, average='micro'))\n",
    "\n",
    "print(\"\\nclassification report:\\n\", classification_report(y_test, knn_y_pred))"
   ]
  },
  {
   "cell_type": "code",
   "execution_count": 33,
   "metadata": {
    "colab": {
     "base_uri": "https://localhost:8080/",
     "height": 382
    },
    "id": "rrMVRXFykuLg",
    "outputId": "715293f7-7b31-42c8-a20a-b74a104af76f"
   },
   "outputs": [
    {
     "name": "stdout",
     "output_type": "stream",
     "text": [
      "[learning_curve] Training set sizes: [ 351  425  499  573  646  720  794  868  942 1016 1090 1164 1238 1312\n",
      " 1386 1460 1534 1608 1682 1756]\n"
     ]
    },
    {
     "name": "stderr",
     "output_type": "stream",
     "text": [
      "[Parallel(n_jobs=-1)]: Using backend LokyBackend with 12 concurrent workers.\n",
      "[Parallel(n_jobs=-1)]: Done  50 out of 100 | elapsed:    0.2s remaining:    0.2s\n",
      "[Parallel(n_jobs=-1)]: Done 100 out of 100 | elapsed:    0.3s finished\n"
     ]
    },
    {
     "data": {
      "image/png": "[encoded data removed]",
      "text/plain": [
       "<Figure size 432x288 with 1 Axes>"
      ]
     },
     "metadata": {
      "needs_background": "light"
     },
     "output_type": "display_data"
    }
   ],
   "source": [
    "plot_model = KNeighborsClassifier(algorithm='auto', leaf_size=56, weights='distance', n_neighbors=12)\n",
    "\n",
    "train_sizes_seed1234, train_scores_seed1234, val_scores_seed1234 = learning_curve(plot_model, \n",
    "                                                                X_train, \n",
    "                                                                y_train, \n",
    "                                                                cv=5, \n",
    "                                                                scoring='accuracy', \n",
    "                                                                n_jobs=-1, # 이거 바꾸고 싶으면 바꾸고  \n",
    "                                                                train_sizes=np.linspace(0.2, 1, 20), \n",
    "                                                                verbose=2)\n",
    "\n",
    "\n",
    "train_mean_seed1234 = np.mean(train_scores_seed1234, axis = 1)\n",
    "train_std_seed1234  = np.std(train_scores_seed1234, axis=1)\n",
    "val_mean_seed1234   = np.mean(val_scores_seed1234, axis=1)\n",
    "val_std_seed1234    = np.std(val_scores_seed1234, axis=1)\n",
    "\n",
    "plt.plot(train_sizes_seed1234, train_mean_seed1234, label='Training accuracy')\n",
    "plt.plot(train_sizes_seed1234, val_mean_seed1234,   label='Cross-validation accuracy')\n",
    "plt.title ('Learning curve')\n",
    "plt.xlabel('Training Size')\n",
    "plt.ylabel('Accuracy score')\n",
    "plt.legend(loc='best')\n",
    "plt.show()"
   ]
  },
  {
   "cell_type": "markdown",
   "metadata": {
    "id": "hYTqal6lkuLh"
   },
   "source": [
    "## Seed 500"
   ]
  },
  {
   "cell_type": "code",
   "execution_count": 34,
   "metadata": {
    "id": "Owq9uuRLkuLh"
   },
   "outputs": [],
   "source": [
    "seed = 500\n",
    "X_train, X_test, y_train, y_test = train_test_split(X_s, y_s, test_size=0.3, random_state=seed)  \n",
    "folds = KFold(n_splits = 5, shuffle = True, random_state=seed)"
   ]
  },
  {
   "cell_type": "code",
   "execution_count": 35,
   "metadata": {
    "id": "TBED3DT0kuLh"
   },
   "outputs": [
    {
     "name": "stdout",
     "output_type": "stream",
     "text": [
      "Fitting 5 folds for each of 800 candidates, totalling 4000 fits\n",
      "best hyper parameters {'algorithm': 'brute', 'leaf_size': 2, 'n_neighbors': 50, 'weights': 'distance'}\n",
      "Accuracy: 0.4968152866242038\n",
      "F1 score micro: 0.4968152866242038\n",
      "\n",
      "classification report:\n",
      "               precision    recall  f1-score   support\n",
      "\n",
      "         1.0       0.38      0.21      0.27       156\n",
      "         2.0       0.44      0.42      0.43       164\n",
      "         3.0       0.46      0.50      0.48       149\n",
      "         4.0       0.54      0.73      0.62       148\n",
      "         5.0       0.51      0.41      0.46       169\n",
      "         6.0       0.58      0.73      0.64       156\n",
      "\n",
      "    accuracy                           0.50       942\n",
      "   macro avg       0.48      0.50      0.48       942\n",
      "weighted avg       0.48      0.50      0.48       942\n",
      "\n"
     ]
    }
   ],
   "source": [
    "knn_hyper_params = [ \n",
    "                        {\n",
    "                        'weights' : ['uniform', 'distance'],\n",
    "                        'algorithm' : ['auto', 'ball_tree', 'kd_tree', 'brute'],\n",
    "                        'leaf_size' : np.linspace(2, 100, 10, dtype=int),\n",
    "                        'n_neighbors' : [int(x) for x in np.linspace(2, 50, 10)]\n",
    "                        }\n",
    "                    ]\n",
    "\n",
    "# specify model\n",
    "\n",
    "# THIS SECTION SHOULD BE CHANGED.\n",
    "# n_neighbors  SHOULD BE MODIFIED TO ANOTHER VALUE DEPENDING ON THE TARGET VALUE.\n",
    "knn_model = KNeighborsClassifier()\n",
    "\n",
    "# set up GridSearchCV()\n",
    "knn_model_cv = GridSearchCV(estimator = knn_model, \n",
    "                            param_grid = knn_hyper_params, \n",
    "                            scoring= 'accuracy', \n",
    "                            cv = folds, \n",
    "                            verbose = 2,\n",
    "                            return_train_score=True,\n",
    "                            n_jobs=-1)  \n",
    "\n",
    "# fit the model\n",
    "knn_model_cv.fit(X_train, y_train)\n",
    "print(\"best hyper parameters\", knn_model_cv.best_params_)\n",
    "knn_y_pred = knn_model_cv.predict(X_test)\n",
    "\n",
    "# accuracy \n",
    "print(\"Accuracy:\", metrics.accuracy_score(y_test, knn_y_pred))\n",
    "# f1 score \n",
    "print(\"F1 score micro:\", f1_score(y_test, knn_y_pred, average='micro'))\n",
    "\n",
    "print(\"\\nclassification report:\\n\", classification_report(y_test, knn_y_pred))"
   ]
  },
  {
   "cell_type": "code",
   "execution_count": 36,
   "metadata": {
    "colab": {
     "base_uri": "https://localhost:8080/",
     "height": 382
    },
    "id": "mNeUMZESkuLh",
    "outputId": "57f67ec8-9642-4e5c-d5d7-9b7519e3841a"
   },
   "outputs": [
    {
     "name": "stdout",
     "output_type": "stream",
     "text": [
      "[learning_curve] Training set sizes: [ 351  425  499  573  646  720  794  868  942 1016 1090 1164 1238 1312\n",
      " 1386 1460 1534 1608 1682 1756]\n"
     ]
    },
    {
     "name": "stderr",
     "output_type": "stream",
     "text": [
      "[Parallel(n_jobs=-1)]: Using backend LokyBackend with 12 concurrent workers.\n",
      "[Parallel(n_jobs=-1)]: Done  50 out of 100 | elapsed:    0.5s remaining:    0.5s\n",
      "[Parallel(n_jobs=-1)]: Done 100 out of 100 | elapsed:    0.9s finished\n"
     ]
    },
    {
     "data": {
      "image/png": "[encoded data removed]",
      "text/plain": [
       "<Figure size 432x288 with 1 Axes>"
      ]
     },
     "metadata": {
      "needs_background": "light"
     },
     "output_type": "display_data"
    }
   ],
   "source": [
    "plot_model = KNeighborsClassifier(algorithm='brute', leaf_size=2, weights='distance', n_neighbors=50)\n",
    "\n",
    "train_sizes_seed500, train_scores_seed500, val_scores_seed500 = learning_curve(plot_model, \n",
    "                                                                X_train, \n",
    "                                                                y_train, \n",
    "                                                                cv=5, \n",
    "                                                                scoring='accuracy', \n",
    "                                                                n_jobs=-1, # 이거 바꾸고 싶으면 바꾸고  \n",
    "                                                                train_sizes=np.linspace(0.2, 1, 20), \n",
    "                                                                verbose=2)\n",
    "\n",
    "\n",
    "train_mean_seed500 = np.mean(train_scores_seed500, axis = 1)\n",
    "train_std_seed500  = np.std(train_scores_seed500, axis=1)\n",
    "val_mean_seed500   = np.mean(val_scores_seed500, axis=1)\n",
    "val_std_seed500    = np.std(val_scores_seed500, axis=1)\n",
    "\n",
    "plt.plot(train_sizes_seed500, train_mean_seed500, label='Training accuracy')\n",
    "plt.plot(train_sizes_seed500, val_mean_seed500,   label='Cross-validation accuracy')\n",
    "plt.title ('Learning curve')\n",
    "plt.xlabel('Training Size')\n",
    "plt.ylabel('Accuracy score')\n",
    "plt.legend(loc='best')\n",
    "plt.show()"
   ]
  },
  {
   "cell_type": "code",
   "execution_count": 91,
   "metadata": {
    "id": "dAzCZtCEkuLi"
   },
   "outputs": [],
   "source": [
    "# learning curve considering different seeds"
   ]
  },
  {
   "cell_type": "code",
   "execution_count": 37,
   "metadata": {
    "id": "LBHshTnSkuLi"
   },
   "outputs": [],
   "source": [
    "acc_avg = list()\n",
    "acc_se  = list()\n",
    "\n",
    "val_avg = list()\n",
    "val_se  = list()\n",
    "\n",
    "for i in range(len(train_sizes_seed100)):\n",
    "    acc_avg.append(np.mean([train_mean_seed100[i], train_mean_seed500[i], train_mean_seed1234[i]]))\n",
    "    acc_se .append(np.std ([train_mean_seed100[i], train_mean_seed500[i], train_mean_seed1234[i]]) / np.sqrt(3))\n",
    "    \n",
    "    val_avg.append(np.mean([val_mean_seed100[i], val_mean_seed500[i], val_mean_seed1234[i]]))\n",
    "    val_se .append(np.std ([val_mean_seed100[i], val_mean_seed500[i], val_mean_seed1234[i]]) / np.sqrt(3))"
   ]
  },
  {
   "cell_type": "code",
   "execution_count": 38,
   "metadata": {
    "colab": {
     "base_uri": "https://localhost:8080/",
     "height": 404
    },
    "id": "C1mj1tDZkuLi",
    "outputId": "f01bd5aa-fd86-4a1d-b927-26cdaef1592d"
   },
   "outputs": [
    {
     "data": {
      "image/png": "[encoded data removed]",
      "text/plain": [
       "<Figure size 576x432 with 1 Axes>"
      ]
     },
     "metadata": {
      "needs_background": "light"
     },
     "output_type": "display_data"
    }
   ],
   "source": [
    "fig, ax = plt.subplots(figsize=(8, 6))\n",
    "\n",
    "ax.plot(train_sizes_seed100, acc_avg, c='darkred', label='Training accuracy')\n",
    "ax.fill_between(train_sizes_seed100, np.subtract(acc_avg, acc_se), np.add(acc_avg, acc_se), color='lightcoral', alpha=0.5)\n",
    "\n",
    "ax.plot(train_sizes_seed100, val_avg, c='darkgreen', label='Validation accuracy')\n",
    "ax.fill_between(train_sizes_seed100, np.subtract(val_avg, val_se), np.add(val_avg, val_se), color='lime', alpha=0.5)\n",
    "\n",
    "ax.set_xlabel('Training Size')\n",
    "ax.set_ylabel('Accuracy')\n",
    "ax.set_title('KNN Sampled classification')\n",
    "ax.axhline(y=0.1666, color='blue', linestyle='-', label='Random Guess')\n",
    "ax.legend()\n",
    "ax.grid()"
   ]
  },
  {
   "cell_type": "markdown",
   "metadata": {},
   "source": [
    "Accuracy of validation curve is constant throughout all training sizes. It seems like they the algorithm does not learn anything."
   ]
  },
  {
   "cell_type": "markdown",
   "metadata": {
    "id": "K6RUx_1gkuLi"
   },
   "source": [
    "# Random Forest"
   ]
  },
  {
   "cell_type": "markdown",
   "metadata": {
    "id": "pOPaF8XQkuLj"
   },
   "source": [
    "## Seed 100"
   ]
  },
  {
   "cell_type": "code",
   "execution_count": 39,
   "metadata": {
    "id": "gctWsofrkuLj"
   },
   "outputs": [],
   "source": [
    "seed = 100\n",
    "X_train, X_test, y_train, y_test = train_test_split(X_s, y_s, test_size=0.3, random_state=seed)  \n",
    "folds = KFold(n_splits = 5, shuffle = True, random_state=seed)"
   ]
  },
  {
   "cell_type": "code",
   "execution_count": 40,
   "metadata": {
    "id": "01Rso_VNkuLj"
   },
   "outputs": [
    {
     "name": "stdout",
     "output_type": "stream",
     "text": [
      "Fitting 5 folds for each of 7500 candidates, totalling 37500 fits\n",
      "best hyper parameters {'bootstrap': False, 'criterion': 'entropy', 'max_depth': 14, 'max_features': 'sqrt', 'min_samples_leaf': 2, 'min_samples_split': 2, 'n_estimators': 27}\n",
      "Accuracy: 0.5021231422505308\n",
      "F1 score micro: 0.5021231422505308\n",
      "\n",
      "classification report:\n",
      "               precision    recall  f1-score   support\n",
      "\n",
      "         1.0       0.38      0.20      0.26       165\n",
      "         2.0       0.42      0.33      0.37       161\n",
      "         3.0       0.51      0.42      0.46       160\n",
      "         4.0       0.59      0.70      0.64       153\n",
      "         5.0       0.40      0.64      0.49       135\n",
      "         6.0       0.63      0.76      0.68       168\n",
      "\n",
      "    accuracy                           0.50       942\n",
      "   macro avg       0.49      0.51      0.49       942\n",
      "weighted avg       0.49      0.50      0.48       942\n",
      "\n"
     ]
    }
   ],
   "source": [
    "rf_hyper_params = [ \n",
    "                        {\n",
    "                            'n_estimators' : [int(x) for x in np.linspace(5, 50, 5)],\n",
    "                            'criterion' : ['gini', 'entropy'],\n",
    "                            'max_depth' : [int(x) for x in np.linspace(2, 50, 5)],\n",
    "                            'min_samples_split' : [int(x) for x in np.linspace(2, 50, 5)],\n",
    "                            'min_samples_leaf' : [int(x) for x in np.linspace(2, 50, 5)],\n",
    "                            'max_features' : ['auto', 'sqrt', 'log2'],\n",
    "                            'bootstrap' : [True, False]\n",
    "\n",
    "                        }\n",
    "                    ]\n",
    "\n",
    "# specify model\n",
    "\n",
    "# THIS SECTION SHOULD BE CHANGED.\n",
    "# n_neighbors  SHOULD BE MODIFIED TO ANOTHER VALUE DEPENDING ON THE TARGET VALUE.\n",
    "rf_model = RandomForestClassifier()\n",
    "\n",
    "# set up GridSearchCV()\n",
    "rf_model_cv = GridSearchCV(estimator = rf_model, \n",
    "                            param_grid = rf_hyper_params, \n",
    "                            scoring= 'accuracy', \n",
    "                            cv = folds, \n",
    "                            verbose = 2,\n",
    "                            return_train_score=True,\n",
    "                            n_jobs=-1) \n",
    "\n",
    "# fit the model\n",
    "rf_model_cv.fit(X_train, y_train)\n",
    "print(\"best hyper parameters\", rf_model_cv.best_params_)\n",
    "rf_y_pred = rf_model_cv.predict(X_test)\n",
    "\n",
    "# accuracy \n",
    "print(\"Accuracy:\", metrics.accuracy_score(y_test, rf_y_pred))\n",
    "# f1 score \n",
    "print(\"F1 score micro:\", f1_score(y_test, rf_y_pred, average='micro'))\n",
    "\n",
    "print(\"\\nclassification report:\\n\", classification_report(y_test, rf_y_pred))"
   ]
  },
  {
   "cell_type": "code",
   "execution_count": 41,
   "metadata": {
    "colab": {
     "base_uri": "https://localhost:8080/",
     "height": 382
    },
    "id": "yRFtP7JBkuLj",
    "outputId": "88b0d8a6-aa2d-45b2-bda1-2b42b72af410"
   },
   "outputs": [
    {
     "name": "stdout",
     "output_type": "stream",
     "text": [
      "[learning_curve] Training set sizes: [ 351  425  499  573  646  720  794  868  942 1016 1090 1164 1238 1312\n",
      " 1386 1460 1534 1608 1682 1756]\n"
     ]
    },
    {
     "name": "stderr",
     "output_type": "stream",
     "text": [
      "[Parallel(n_jobs=-1)]: Using backend LokyBackend with 12 concurrent workers.\n",
      "[Parallel(n_jobs=-1)]: Done  50 out of 100 | elapsed:    0.3s remaining:    0.3s\n",
      "[Parallel(n_jobs=-1)]: Done 100 out of 100 | elapsed:    0.5s finished\n"
     ]
    },
    {
     "data": {
      "image/png": "[encoded data removed]",
      "text/plain": [
       "<Figure size 432x288 with 1 Axes>"
      ]
     },
     "metadata": {
      "needs_background": "light"
     },
     "output_type": "display_data"
    }
   ],
   "source": [
    "# ------ HERE ------\n",
    "\n",
    "# plug in suitable hyper-parameters\n",
    "\n",
    "\n",
    "# 여기만 바꾸면 된다. \n",
    "plot_model = RandomForestClassifier(bootstrap=False, criterion='entropy', max_depth=14, max_features='sqrt', min_samples_leaf=2, min_samples_split=2, n_estimators=27)\n",
    "\n",
    "train_sizes_seed100, train_scores_seed100, val_scores_seed100 = learning_curve(plot_model, \n",
    "                                                                X_train, \n",
    "                                                                y_train, \n",
    "                                                                cv=5, \n",
    "                                                                scoring='accuracy', \n",
    "                                                                n_jobs=-1, # 이거 바꾸고 싶으면 바꾸고  \n",
    "                                                                train_sizes=np.linspace(0.2, 1, 20), \n",
    "                                                                verbose=2)\n",
    "\n",
    "\n",
    "train_mean_seed100 = np.mean(train_scores_seed100, axis = 1)\n",
    "train_std_seed100  = np.std(train_scores_seed100, axis=1)\n",
    "val_mean_seed100   = np.mean(val_scores_seed100, axis=1)\n",
    "val_std_seed100    = np.std(val_scores_seed100, axis=1)\n",
    "\n",
    "plt.plot(train_sizes_seed100, train_mean_seed100, label='Training accuracy')\n",
    "plt.plot(train_sizes_seed100, val_mean_seed100,   label='Cross-validation accuracy')\n",
    "plt.title ('Learning curve')\n",
    "plt.xlabel('Training Size')\n",
    "plt.ylabel('Accuracy score')\n",
    "plt.legend(loc='best')\n",
    "plt.show()"
   ]
  },
  {
   "cell_type": "markdown",
   "metadata": {
    "id": "d6UMIveHkuLj"
   },
   "source": [
    "## Seed 1234"
   ]
  },
  {
   "cell_type": "code",
   "execution_count": 42,
   "metadata": {
    "id": "7COCJiigkuLk"
   },
   "outputs": [],
   "source": [
    "seed = 1234\n",
    "X_train, X_test, y_train, y_test = train_test_split(X_s, y_s, test_size=0.3, random_state=seed)  \n",
    "folds = KFold(n_splits = 5, shuffle = True, random_state=seed)"
   ]
  },
  {
   "cell_type": "code",
   "execution_count": 43,
   "metadata": {
    "id": "cMy3PoT0kuLk"
   },
   "outputs": [
    {
     "name": "stdout",
     "output_type": "stream",
     "text": [
      "Fitting 5 folds for each of 7500 candidates, totalling 37500 fits\n",
      "best hyper parameters {'bootstrap': False, 'criterion': 'entropy', 'max_depth': 14, 'max_features': 'sqrt', 'min_samples_leaf': 2, 'min_samples_split': 2, 'n_estimators': 27}\n",
      "Accuracy: 0.4819532908704883\n",
      "F1 score micro: 0.4819532908704883\n",
      "\n",
      "classification report:\n",
      "               precision    recall  f1-score   support\n",
      "\n",
      "         1.0       0.28      0.21      0.24       164\n",
      "         2.0       0.38      0.36      0.37       146\n",
      "         3.0       0.45      0.37      0.41       161\n",
      "         4.0       0.59      0.60      0.60       149\n",
      "         5.0       0.54      0.51      0.52       159\n",
      "         6.0       0.55      0.84      0.67       163\n",
      "\n",
      "    accuracy                           0.48       942\n",
      "   macro avg       0.47      0.48      0.47       942\n",
      "weighted avg       0.47      0.48      0.47       942\n",
      "\n"
     ]
    }
   ],
   "source": [
    "rf_hyper_params = [ \n",
    "                        {\n",
    "                            'n_estimators' : [int(x) for x in np.linspace(5, 50, 5)],\n",
    "                            'criterion' : ['gini', 'entropy'],\n",
    "                            'max_depth' : [int(x) for x in np.linspace(2, 50, 5)],\n",
    "                            'min_samples_split' : [int(x) for x in np.linspace(2, 50, 5)],\n",
    "                            'min_samples_leaf' : [int(x) for x in np.linspace(2, 50, 5)],\n",
    "                            'max_features' : ['auto', 'sqrt', 'log2'],\n",
    "                            'bootstrap' : [True, False]\n",
    "\n",
    "                        }\n",
    "                    ]\n",
    "\n",
    "# specify model\n",
    "\n",
    "# THIS SECTION SHOULD BE CHANGED.\n",
    "# n_neighbors  SHOULD BE MODIFIED TO ANOTHER VALUE DEPENDING ON THE TARGET VALUE.\n",
    "rf_model = RandomForestClassifier()\n",
    "\n",
    "# set up GridSearchCV()\n",
    "rf_model_cv = GridSearchCV(estimator = rf_model, \n",
    "                            param_grid = rf_hyper_params, \n",
    "                            scoring= 'accuracy', \n",
    "                            cv = folds, \n",
    "                            verbose = 2,\n",
    "                            return_train_score=True,\n",
    "                            n_jobs=-1) \n",
    "\n",
    "# fit the model\n",
    "rf_model_cv.fit(X_train, y_train)\n",
    "print(\"best hyper parameters\", rf_model_cv.best_params_)\n",
    "rf_y_pred = rf_model_cv.predict(X_test)\n",
    "\n",
    "# accuracy \n",
    "print(\"Accuracy:\", metrics.accuracy_score(y_test, rf_y_pred))\n",
    "# f1 score \n",
    "print(\"F1 score micro:\", f1_score(y_test, rf_y_pred, average='micro'))\n",
    "\n",
    "print(\"\\nclassification report:\\n\", classification_report(y_test, rf_y_pred))"
   ]
  },
  {
   "cell_type": "code",
   "execution_count": 45,
   "metadata": {
    "colab": {
     "base_uri": "https://localhost:8080/",
     "height": 382
    },
    "id": "c8ubTJsakuLk",
    "outputId": "fbc5a514-a13a-4cc6-a504-2c0422bfe866"
   },
   "outputs": [
    {
     "name": "stdout",
     "output_type": "stream",
     "text": [
      "[learning_curve] Training set sizes: [ 351  425  499  573  646  720  794  868  942 1016 1090 1164 1238 1312\n",
      " 1386 1460 1534 1608 1682 1756]\n"
     ]
    },
    {
     "name": "stderr",
     "output_type": "stream",
     "text": [
      "[Parallel(n_jobs=-1)]: Using backend LokyBackend with 12 concurrent workers.\n",
      "[Parallel(n_jobs=-1)]: Done  50 out of 100 | elapsed:    0.3s remaining:    0.3s\n",
      "[Parallel(n_jobs=-1)]: Done 100 out of 100 | elapsed:    0.5s finished\n"
     ]
    },
    {
     "data": {
      "image/png": "[encoded data removed]",
      "text/plain": [
       "<Figure size 432x288 with 1 Axes>"
      ]
     },
     "metadata": {
      "needs_background": "light"
     },
     "output_type": "display_data"
    }
   ],
   "source": [
    "plot_model = RandomForestClassifier(bootstrap=False, criterion='entropy', max_depth=14, max_features='sqrt', min_samples_leaf=2, min_samples_split=2, n_estimators=27)\n",
    "\n",
    "train_sizes_seed1234, train_scores_seed1234, val_scores_seed1234 = learning_curve(plot_model, \n",
    "                                                                X_train, \n",
    "                                                                y_train, \n",
    "                                                                cv=5, \n",
    "                                                                scoring='accuracy', \n",
    "                                                                n_jobs=-1, # 이거 바꾸고 싶으면 바꾸고  \n",
    "                                                                train_sizes=np.linspace(0.2, 1, 20), \n",
    "                                                                verbose=2)\n",
    "\n",
    "\n",
    "train_mean_seed1234 = np.mean(train_scores_seed1234, axis = 1)\n",
    "train_std_seed1234  = np.std(train_scores_seed1234, axis=1)\n",
    "val_mean_seed1234   = np.mean(val_scores_seed1234, axis=1)\n",
    "val_std_seed1234    = np.std(val_scores_seed1234, axis=1)\n",
    "\n",
    "plt.plot(train_sizes_seed1234, train_mean_seed1234, label='Training accuracy')\n",
    "plt.plot(train_sizes_seed1234, val_mean_seed1234,   label='Cross-validation accuracy')\n",
    "plt.title ('Learning curve')\n",
    "plt.xlabel('Training Size')\n",
    "plt.ylabel('Accuracy score')\n",
    "plt.legend(loc='best')\n",
    "plt.show()"
   ]
  },
  {
   "cell_type": "markdown",
   "metadata": {
    "id": "UKOQJ2k2kuLk"
   },
   "source": [
    "## Seed 500"
   ]
  },
  {
   "cell_type": "code",
   "execution_count": 46,
   "metadata": {
    "id": "H68Yqc84kuLl"
   },
   "outputs": [],
   "source": [
    "seed = 500\n",
    "X_train, X_test, y_train, y_test = train_test_split(X_s, y_s, test_size=0.3, random_state=seed)  \n",
    "folds = KFold(n_splits = 5, shuffle = True, random_state=seed)"
   ]
  },
  {
   "cell_type": "code",
   "execution_count": 47,
   "metadata": {
    "id": "CLNSz8ImkuLl"
   },
   "outputs": [
    {
     "name": "stdout",
     "output_type": "stream",
     "text": [
      "Fitting 5 folds for each of 7500 candidates, totalling 37500 fits\n",
      "best hyper parameters {'bootstrap': False, 'criterion': 'entropy', 'max_depth': 50, 'max_features': 'sqrt', 'min_samples_leaf': 2, 'min_samples_split': 2, 'n_estimators': 50}\n",
      "Accuracy: 0.49575371549893843\n",
      "F1 score micro: 0.49575371549893843\n",
      "\n",
      "classification report:\n",
      "               precision    recall  f1-score   support\n",
      "\n",
      "         1.0       0.44      0.22      0.30       156\n",
      "         2.0       0.46      0.46      0.46       164\n",
      "         3.0       0.46      0.47      0.47       149\n",
      "         4.0       0.51      0.66      0.57       148\n",
      "         5.0       0.46      0.43      0.44       169\n",
      "         6.0       0.58      0.76      0.66       156\n",
      "\n",
      "    accuracy                           0.50       942\n",
      "   macro avg       0.49      0.50      0.48       942\n",
      "weighted avg       0.49      0.50      0.48       942\n",
      "\n"
     ]
    }
   ],
   "source": [
    "rf_hyper_params = [ \n",
    "                        {\n",
    "                            'n_estimators' : [int(x) for x in np.linspace(5, 50, 5)],\n",
    "                            'criterion' : ['gini', 'entropy'],\n",
    "                            'max_depth' : [int(x) for x in np.linspace(2, 50, 5)],\n",
    "                            'min_samples_split' : [int(x) for x in np.linspace(2, 50, 5)],\n",
    "                            'min_samples_leaf' : [int(x) for x in np.linspace(2, 50, 5)],\n",
    "                            'max_features' : ['auto', 'sqrt', 'log2'],\n",
    "                            'bootstrap' : [True, False]\n",
    "\n",
    "                        }\n",
    "                    ]\n",
    "\n",
    "# specify model\n",
    "\n",
    "# THIS SECTION SHOULD BE CHANGED.\n",
    "# n_neighbors  SHOULD BE MODIFIED TO ANOTHER VALUE DEPENDING ON THE TARGET VALUE.\n",
    "rf_model = RandomForestClassifier()\n",
    "\n",
    "# set up GridSearchCV()\n",
    "rf_model_cv = GridSearchCV(estimator = rf_model, \n",
    "                            param_grid = rf_hyper_params, \n",
    "                            scoring= 'accuracy', \n",
    "                            cv = folds, \n",
    "                            verbose = 2,\n",
    "                            return_train_score=True,\n",
    "                            n_jobs=-1) \n",
    "\n",
    "# fit the model\n",
    "rf_model_cv.fit(X_train, y_train)\n",
    "print(\"best hyper parameters\", rf_model_cv.best_params_)\n",
    "rf_y_pred = rf_model_cv.predict(X_test)\n",
    "\n",
    "# accuracy \n",
    "print(\"Accuracy:\", metrics.accuracy_score(y_test, rf_y_pred))\n",
    "# f1 score \n",
    "print(\"F1 score micro:\", f1_score(y_test, rf_y_pred, average='micro'))\n",
    "\n",
    "print(\"\\nclassification report:\\n\", classification_report(y_test, rf_y_pred))"
   ]
  },
  {
   "cell_type": "code",
   "execution_count": 48,
   "metadata": {
    "colab": {
     "base_uri": "https://localhost:8080/",
     "height": 382
    },
    "id": "kZj0cbDdkuLl",
    "outputId": "9dd23c56-3cf3-4acb-b47a-2e1f51f10638"
   },
   "outputs": [
    {
     "name": "stdout",
     "output_type": "stream",
     "text": [
      "[learning_curve] Training set sizes: [ 351  425  499  573  646  720  794  868  942 1016 1090 1164 1238 1312\n",
      " 1386 1460 1534 1608 1682 1756]\n"
     ]
    },
    {
     "name": "stderr",
     "output_type": "stream",
     "text": [
      "[Parallel(n_jobs=-1)]: Using backend LokyBackend with 12 concurrent workers.\n",
      "[Parallel(n_jobs=-1)]: Done  50 out of 100 | elapsed:    0.4s remaining:    0.4s\n",
      "[Parallel(n_jobs=-1)]: Done 100 out of 100 | elapsed:    0.8s finished\n"
     ]
    },
    {
     "data": {
      "image/png": "[encoded data removed]",
      "text/plain": [
       "<Figure size 432x288 with 1 Axes>"
      ]
     },
     "metadata": {
      "needs_background": "light"
     },
     "output_type": "display_data"
    }
   ],
   "source": [
    "plot_model = RandomForestClassifier(bootstrap=False, criterion='entropy', max_depth=50, max_features='sqrt', min_samples_leaf=2, min_samples_split=2, n_estimators=50)\n",
    "\n",
    "train_sizes_seed500, train_scores_seed500, val_scores_seed500 = learning_curve(plot_model, \n",
    "                                                                X_train, \n",
    "                                                                y_train, \n",
    "                                                                cv=5, \n",
    "                                                                scoring='accuracy', \n",
    "                                                                n_jobs=-1, # 이거 바꾸고 싶으면 바꾸고  \n",
    "                                                                train_sizes=np.linspace(0.2, 1, 20), \n",
    "                                                                verbose=2)\n",
    "\n",
    "\n",
    "train_mean_seed500 = np.mean(train_scores_seed500, axis = 1)\n",
    "train_std_seed500  = np.std(train_scores_seed500, axis=1)\n",
    "val_mean_seed500   = np.mean(val_scores_seed500, axis=1)\n",
    "val_std_seed500    = np.std(val_scores_seed500, axis=1)\n",
    "\n",
    "plt.plot(train_sizes_seed500, train_mean_seed500, label='Training accuracy')\n",
    "plt.plot(train_sizes_seed500, val_mean_seed500,   label='Cross-validation accuracy')\n",
    "plt.title ('Learning curve')\n",
    "plt.xlabel('Training Size')\n",
    "plt.ylabel('Accuracy score')\n",
    "plt.legend(loc='best')\n",
    "plt.show()"
   ]
  },
  {
   "cell_type": "code",
   "execution_count": 103,
   "metadata": {
    "id": "gEWRbXzMkuLl"
   },
   "outputs": [],
   "source": [
    "# learning curve considering different seeds"
   ]
  },
  {
   "cell_type": "code",
   "execution_count": 49,
   "metadata": {
    "id": "L4oPpqMvkuLm"
   },
   "outputs": [],
   "source": [
    "acc_avg = list()\n",
    "acc_se  = list()\n",
    "\n",
    "val_avg = list()\n",
    "val_se  = list()\n",
    "\n",
    "for i in range(len(train_sizes_seed100)):\n",
    "    acc_avg.append(np.mean([train_mean_seed100[i], train_mean_seed500[i], train_mean_seed1234[i]]))\n",
    "    acc_se .append(np.std ([train_mean_seed100[i], train_mean_seed500[i], train_mean_seed1234[i]]) / np.sqrt(3))\n",
    "    \n",
    "    val_avg.append(np.mean([val_mean_seed100[i], val_mean_seed500[i], val_mean_seed1234[i]]))\n",
    "    val_se .append(np.std ([val_mean_seed100[i], val_mean_seed500[i], val_mean_seed1234[i]]) / np.sqrt(3))"
   ]
  },
  {
   "cell_type": "code",
   "execution_count": 50,
   "metadata": {
    "colab": {
     "base_uri": "https://localhost:8080/",
     "height": 404
    },
    "id": "sljsLkomkuLm",
    "outputId": "e29d2784-1c6c-4805-a11d-24985cd1db32"
   },
   "outputs": [
    {
     "data": {
      "image/png": "[encoded data removed]",
      "text/plain": [
       "<Figure size 576x432 with 1 Axes>"
      ]
     },
     "metadata": {
      "needs_background": "light"
     },
     "output_type": "display_data"
    }
   ],
   "source": [
    "fig, ax = plt.subplots(figsize=(8, 6))\n",
    "\n",
    "ax.plot(train_sizes_seed100, acc_avg, c='darkred', label='Training accuracy')\n",
    "ax.fill_between(train_sizes_seed100, np.subtract(acc_avg, acc_se), np.add(acc_avg, acc_se), color='lightcoral', alpha=0.5)\n",
    "\n",
    "ax.plot(train_sizes_seed100, val_avg, c='darkgreen', label='Validation accuracy')\n",
    "ax.fill_between(train_sizes_seed100, np.subtract(val_avg, val_se), np.add(val_avg, val_se), color='lime', alpha=0.5)\n",
    "\n",
    "ax.set_xlabel('Training Size')\n",
    "ax.set_ylabel('Accuracy')\n",
    "ax.set_title('Random Forest Sampled classification')\n",
    "ax.axhline(y=0.1666, color='blue', linestyle='-', label='Random Guess: Always predict no depression')\n",
    "ax.legend()\n",
    "ax.grid()"
   ]
  },
  {
   "cell_type": "markdown",
   "metadata": {},
   "source": [
    "Accuracy of validation curve is relatively constant throughout all training sizes. It seems like they the algorithm does not learn anything. It is obvious that machine learning models cannot predict the level depression and anxiety."
   ]
  },
  {
   "cell_type": "code",
   "execution_count": 105,
   "metadata": {
    "id": "xeJmpJnFkuLm"
   },
   "outputs": [],
   "source": []
  }
 ],
 "metadata": {
  "accelerator": "TPU",
  "colab": {
   "collapsed_sections": [
    "zV74WaHFkuLI",
    "NnDz2YxAkuLM",
    "6ZIOSvp9kuLQ"
   ],
   "include_colab_link": true,
   "machine_shape": "hm",
   "name": "search_classification.ipynb",
   "provenance": []
  },
  "kernelspec": {
   "display_name": "Python 3",
   "language": "python",
   "name": "python3"
  },
  "language_info": {
   "codemirror_mode": {
    "name": "ipython",
    "version": 3
   },
   "file_extension": ".py",
   "mimetype": "text/x-python",
   "name": "python",
   "nbconvert_exporter": "python",
   "pygments_lexer": "ipython3",
   "version": "3.8.5"
  }
 },
 "nbformat": 4,
 "nbformat_minor": 4
}
