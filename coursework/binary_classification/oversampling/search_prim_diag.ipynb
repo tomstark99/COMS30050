{
 "cells": [
  {
   "cell_type": "markdown",
   "metadata": {
    "colab_type": "text",
    "id": "view-in-github"
   },
   "source": [
    "<a href=\"https://colab.research.google.com/github/7201krap/PYTHON_applied_data_science/blob/main/search_dep_score.ipynb\" target=\"_parent\"><img src=\"https://colab.research.google.com/assets/colab-badge.svg\" alt=\"Open In Colab\"/></a>"
   ]
  },
  {
   "cell_type": "code",
   "execution_count": 2,
   "metadata": {
    "id": "noZ-BsUFikmK"
   },
   "outputs": [],
   "source": [
    "from sklearn import datasets\n",
    "\n",
    "# How are we going to use evaluate the performance? \n",
    "# 1. accuracy\n",
    "from sklearn import metrics\n",
    "# 2. f1 score \n",
    "from sklearn.metrics import f1_score\n",
    "\n",
    "# Machine learning models \n",
    "\n",
    "# Linear Regression \n",
    "# url : https://scikit-learn.org/stable/modules/generated/sklearn.linear_model.LinearRegression.html\n",
    "from sklearn.linear_model import LinearRegression\n",
    "\n",
    "# SVM\n",
    "# url: https://scikit-learn.org/stable/modules/generated/sklearn.svm.SVC.html\n",
    "from sklearn import svm\n",
    "\n",
    "# KNN \n",
    "# url: https://scikit-learn.org/stable/modules/generated/sklearn.neighbors.KNeighborsClassifier.html\n",
    "from sklearn.neighbors import KNeighborsClassifier\n",
    "\n",
    "# Decision Tree\n",
    "# url: https://scikit-learn.org/stable/modules/generated/sklearn.tree.DecisionTreeClassifier.html\n",
    "from sklearn.tree import DecisionTreeClassifier\n",
    "\n",
    "# Random Forest \n",
    "# url: https://scikit-learn.org/stable/modules/generated/sklearn.ensemble.RandomForestClassifier.html\n",
    "from sklearn.ensemble import RandomForestClassifier\n",
    "\n",
    "# Logistic Classifier\n",
    "from sklearn.linear_model import LogisticRegression\n",
    "\n",
    "from sklearn.model_selection import RepeatedStratifiedKFold\n",
    "from sklearn.model_selection import GridSearchCV\n",
    "\n",
    "from sklearn.model_selection import learning_curve, RandomizedSearchCV, GridSearchCV\n",
    "from sklearn.model_selection import train_test_split, KFold\n",
    "from sklearn.datasets import make_classification\n",
    "from sklearn.pipeline import make_pipeline\n",
    "from sklearn.preprocessing import StandardScaler\n",
    "\n",
    "import numpy as np\n",
    "import matplotlib.pyplot as plt\n",
    "\n",
    "# PCA \n",
    "from sklearn.decomposition import PCA \n",
    "\n",
    "# Linear Regression\n",
    "from sklearn.model_selection import train_test_split\n",
    "from sklearn.linear_model import LinearRegression\n",
    "from sklearn.metrics import mean_squared_error, r2_score\n",
    "\n",
    "import pandas as pd\n",
    "import matplotlib.pyplot as plt\n",
    "import numpy as np\n",
    "\n",
    "import seaborn as sns\n",
    "\n",
    "from sklearn.model_selection import learning_curve\n",
    "\n",
    "from sklearn.metrics import classification_report"
   ]
  },
  {
   "cell_type": "markdown",
   "metadata": {
    "id": "q-1HtfE0ikmY"
   },
   "source": [
    "# Preprocessing"
   ]
  },
  {
   "cell_type": "code",
   "execution_count": 3,
   "metadata": {
    "id": "WPB84Blaikmg"
   },
   "outputs": [],
   "source": [
    "url = '../../data/0&1/oversampling/oversampled_prim_diag.csv'\n",
    "sampled_dep_score = pd.read_csv(url)\n",
    "\n",
    "X_s = sampled_dep_score.copy()\n",
    "del X_s['prim_diag']\n",
    "\n",
    "y_s = sampled_dep_score['prim_diag']"
   ]
  },
  {
   "cell_type": "code",
   "execution_count": 4,
   "metadata": {
    "colab": {
     "base_uri": "https://localhost:8080/"
    },
    "id": "pNGVcPBgikmg",
    "outputId": "d126f5eb-b22d-4748-d5e5-3d681fdf5cb7"
   },
   "outputs": [
    {
     "data": {
      "text/plain": [
       "0.0    2430\n",
       "1.0    2430\n",
       "Name: prim_diag, dtype: int64"
      ]
     },
     "execution_count": 4,
     "metadata": {},
     "output_type": "execute_result"
    }
   ],
   "source": [
    "y_s.value_counts()"
   ]
  },
  {
   "cell_type": "code",
   "execution_count": 5,
   "metadata": {
    "colab": {
     "base_uri": "https://localhost:8080/"
    },
    "id": "tH7UnO0qikmh",
    "outputId": "14acd2da-57c0-4ce8-c470-6fb60cd3a699"
   },
   "outputs": [
    {
     "name": "stdout",
     "output_type": "stream",
     "text": [
      "      comp_week  comp_wend  text_week  text_wend  tv_week  tv_wend\n",
      "0             3          3          2          3        1        2\n",
      "1             2          2          1          1        1        1\n",
      "2             2          3          1          1        1        3\n",
      "3             1          0          1          2        1        1\n",
      "4             3          3          3          3        1        1\n",
      "...         ...        ...        ...        ...      ...      ...\n",
      "4855          1          2          1          1        2        2\n",
      "4856          2          3          1          1        3        3\n",
      "4857          2          2          1          1        3        3\n",
      "4858          1          1          2          2        2        2\n",
      "4859          2          2          1          2        2        2\n",
      "\n",
      "[4860 rows x 6 columns]\n",
      "0       1.0\n",
      "1       1.0\n",
      "2       1.0\n",
      "3       1.0\n",
      "4       0.0\n",
      "       ... \n",
      "4855    0.0\n",
      "4856    0.0\n",
      "4857    0.0\n",
      "4858    0.0\n",
      "4859    1.0\n",
      "Name: prim_diag, Length: 4860, dtype: float64\n"
     ]
    }
   ],
   "source": [
    "print(X_s)\n",
    "print(y_s)"
   ]
  },
  {
   "cell_type": "markdown",
   "metadata": {
    "id": "6HHxtbMGiknD"
   },
   "source": [
    "# 2. sampled"
   ]
  },
  {
   "cell_type": "markdown",
   "metadata": {
    "id": "9vMBdAsPiknD"
   },
   "source": [
    "# SVM "
   ]
  },
  {
   "cell_type": "markdown",
   "metadata": {
    "id": "EM5IQ0d7iknD"
   },
   "source": [
    "## Seed 100"
   ]
  },
  {
   "cell_type": "code",
   "execution_count": 6,
   "metadata": {
    "id": "t1YaC2mWiknF"
   },
   "outputs": [],
   "source": [
    "seed = 100\n",
    "X_train, X_test, y_train, y_test = train_test_split(X_s, y_s, test_size=0.3, random_state=seed)  \n",
    "folds = KFold(n_splits = 5, shuffle = True, random_state=seed)"
   ]
  },
  {
   "cell_type": "code",
   "execution_count": 7,
   "metadata": {
    "id": "IR23YcWqiknF"
   },
   "outputs": [
    {
     "name": "stdout",
     "output_type": "stream",
     "text": [
      "Fitting 5 folds for each of 80 candidates, totalling 400 fits\n",
      "best hyper parameters {'C': 10.0, 'gamma': 0.1, 'kernel': 'rbf'}\n",
      "Accuracy: 0.5349794238683128\n",
      "F1 score micro: 0.5349794238683128\n",
      "F1 score binary: 0.5086956521739131\n",
      "\n",
      "classification report:\n",
      "               precision    recall  f1-score   support\n",
      "\n",
      "         0.0       0.54      0.58      0.56       737\n",
      "         1.0       0.53      0.49      0.51       721\n",
      "\n",
      "    accuracy                           0.53      1458\n",
      "   macro avg       0.53      0.53      0.53      1458\n",
      "weighted avg       0.53      0.53      0.53      1458\n",
      "\n"
     ]
    }
   ],
   "source": [
    "svm_hyper_params = [ \n",
    "                        {\n",
    "                        'gamma': np.logspace(-4, -1, 4),\n",
    "                        'C': np.logspace(-3, 1, 5),\n",
    "                        'kernel': ['linear', 'poly', 'rbf', 'sigmoid']\n",
    "                        }\n",
    "                    ]\n",
    "\n",
    "# specify model\n",
    "svm_model = svm.SVC()\n",
    "\n",
    "# set up GridSearchCV()\n",
    "svm_model_cv = GridSearchCV(estimator = svm_model, \n",
    "                            param_grid = svm_hyper_params, \n",
    "                            scoring= 'accuracy', \n",
    "                            cv = folds, \n",
    "                            verbose = 2,\n",
    "                            return_train_score=True,\n",
    "                            n_jobs=-1)      \n",
    "\n",
    "# fit the model\n",
    "svm_model_cv.fit(X_train, y_train)\n",
    "print(\"best hyper parameters\", svm_model_cv.best_params_)\n",
    "svm_y_pred = svm_model_cv.predict(X_test)\n",
    "\n",
    "# accuracy \n",
    "print(\"Accuracy:\", metrics.accuracy_score(y_test, svm_y_pred))\n",
    "# f1 score \n",
    "print(\"F1 score micro:\", f1_score(y_test, svm_y_pred, average='micro'))\n",
    "print(\"F1 score binary:\", f1_score(y_test, svm_y_pred, average='binary'))\n",
    "\n",
    "print(\"\\nclassification report:\\n\", classification_report(y_test, svm_y_pred))"
   ]
  },
  {
   "cell_type": "code",
   "execution_count": 8,
   "metadata": {
    "colab": {
     "base_uri": "https://localhost:8080/",
     "height": 382
    },
    "id": "1azGgQuhiknF",
    "outputId": "7c1535cb-b28e-4c76-8798-2029c7c66aef"
   },
   "outputs": [
    {
     "name": "stdout",
     "output_type": "stream",
     "text": [
      "[learning_curve] Training set sizes: [ 544  658  773  887 1002 1117 1231 1346 1460 1575 1689 1804 1919 2033\n",
      " 2148 2262 2377 2491 2606 2721]\n"
     ]
    },
    {
     "name": "stderr",
     "output_type": "stream",
     "text": [
      "[Parallel(n_jobs=-1)]: Using backend LokyBackend with 12 concurrent workers.\n",
      "[Parallel(n_jobs=-1)]: Done  50 out of 100 | elapsed:    1.4s remaining:    1.4s\n",
      "[Parallel(n_jobs=-1)]: Done 100 out of 100 | elapsed:    2.9s finished\n"
     ]
    },
    {
     "data": {
      "image/png": "[encoded data removed]",
      "text/plain": [
       "<Figure size 432x288 with 1 Axes>"
      ]
     },
     "metadata": {
      "needs_background": "light"
     },
     "output_type": "display_data"
    }
   ],
   "source": [
    "# ------ HERE ------\n",
    "\n",
    "# plug in suitable hyper-parameters\n",
    "\n",
    "\n",
    "# 여기만 바꾸면 된다. \n",
    "plot_model = svm.SVC(kernel='rbf', C=10, gamma=0.1)\n",
    "\n",
    "\n",
    "train_sizes_seed100, train_scores_seed100, val_scores_seed100 = learning_curve(plot_model, \n",
    "                                                                X_train, \n",
    "                                                                y_train, \n",
    "                                                                cv=5, \n",
    "                                                                scoring='accuracy', \n",
    "                                                                n_jobs=-1, # 이거 바꾸고 싶으면 바꾸고  \n",
    "                                                                train_sizes=np.linspace(0.2, 1, 20), \n",
    "                                                                verbose=2)\n",
    "\n",
    "\n",
    "train_mean_seed100 = np.mean(train_scores_seed100, axis = 1)\n",
    "train_std_seed100  = np.std(train_scores_seed100, axis=1)\n",
    "val_mean_seed100   = np.mean(val_scores_seed100, axis=1)\n",
    "val_std_seed100    = np.std(val_scores_seed100, axis=1)\n",
    "\n",
    "plt.plot(train_sizes_seed100, train_mean_seed100, label='Training accuracy')\n",
    "plt.plot(train_sizes_seed100, val_mean_seed100,   label='Cross-validation accuracy')\n",
    "plt.title ('Learning curve')\n",
    "plt.xlabel('Training Size')\n",
    "plt.ylabel('Accuracy score')\n",
    "plt.legend(loc='best')\n",
    "plt.show()"
   ]
  },
  {
   "cell_type": "markdown",
   "metadata": {
    "id": "Hb98EDSUiknF"
   },
   "source": [
    "## Seed 1234"
   ]
  },
  {
   "cell_type": "code",
   "execution_count": 9,
   "metadata": {
    "id": "vL3KK29_iknH"
   },
   "outputs": [],
   "source": [
    "seed = 1234\n",
    "X_train, X_test, y_train, y_test = train_test_split(X_s, y_s, test_size=0.3, random_state=seed)  \n",
    "folds = KFold(n_splits = 5, shuffle = True, random_state=seed)"
   ]
  },
  {
   "cell_type": "code",
   "execution_count": 10,
   "metadata": {
    "id": "b8LQsEtHiknH"
   },
   "outputs": [
    {
     "name": "stdout",
     "output_type": "stream",
     "text": [
      "Fitting 5 folds for each of 80 candidates, totalling 400 fits\n",
      "best hyper parameters {'C': 1.0, 'gamma': 0.1, 'kernel': 'rbf'}\n",
      "Accuracy: 0.5486968449931413\n",
      "F1 score micro: 0.5486968449931413\n",
      "F1 score binary: 0.4761146496815286\n",
      "\n",
      "classification report:\n",
      "               precision    recall  f1-score   support\n",
      "\n",
      "         0.0       0.54      0.69      0.60       731\n",
      "         1.0       0.57      0.41      0.48       727\n",
      "\n",
      "    accuracy                           0.55      1458\n",
      "   macro avg       0.55      0.55      0.54      1458\n",
      "weighted avg       0.55      0.55      0.54      1458\n",
      "\n"
     ]
    }
   ],
   "source": [
    "svm_hyper_params = [ \n",
    "                        {\n",
    "                        'gamma': np.logspace(-4, -1, 4),\n",
    "                        'C': np.logspace(-3, 1, 5),\n",
    "                        'kernel': ['linear', 'poly', 'rbf', 'sigmoid']\n",
    "                        }\n",
    "                    ]\n",
    "\n",
    "# specify model\n",
    "svm_model = svm.SVC()\n",
    "\n",
    "# set up GridSearchCV()\n",
    "svm_model_cv = GridSearchCV(estimator = svm_model, \n",
    "                            param_grid = svm_hyper_params, \n",
    "                            scoring= 'accuracy', \n",
    "                            cv = folds, \n",
    "                            verbose = 2,\n",
    "                            return_train_score=True,\n",
    "                            n_jobs=-1)      \n",
    "\n",
    "# fit the model\n",
    "svm_model_cv.fit(X_train, y_train)\n",
    "print(\"best hyper parameters\", svm_model_cv.best_params_)\n",
    "svm_y_pred = svm_model_cv.predict(X_test)\n",
    "\n",
    "# accuracy \n",
    "print(\"Accuracy:\", metrics.accuracy_score(y_test, svm_y_pred))\n",
    "# f1 score \n",
    "print(\"F1 score micro:\", f1_score(y_test, svm_y_pred, average='micro'))\n",
    "print(\"F1 score binary:\", f1_score(y_test, svm_y_pred, average='binary'))\n",
    "\n",
    "print(\"\\nclassification report:\\n\", classification_report(y_test, svm_y_pred))"
   ]
  },
  {
   "cell_type": "code",
   "execution_count": 11,
   "metadata": {
    "colab": {
     "base_uri": "https://localhost:8080/",
     "height": 382
    },
    "id": "vWLKatggiknH",
    "outputId": "f732e7c9-cd10-46d2-9725-0102215ee270"
   },
   "outputs": [
    {
     "name": "stdout",
     "output_type": "stream",
     "text": [
      "[learning_curve] Training set sizes: [ 544  658  773  887 1002 1117 1231 1346 1460 1575 1689 1804 1919 2033\n",
      " 2148 2262 2377 2491 2606 2721]\n"
     ]
    },
    {
     "name": "stderr",
     "output_type": "stream",
     "text": [
      "[Parallel(n_jobs=-1)]: Using backend LokyBackend with 12 concurrent workers.\n",
      "[Parallel(n_jobs=-1)]: Done  50 out of 100 | elapsed:    1.3s remaining:    1.3s\n",
      "[Parallel(n_jobs=-1)]: Done 100 out of 100 | elapsed:    2.7s finished\n"
     ]
    },
    {
     "data": {
      "image/png": "[encoded data removed]",
      "text/plain": [
       "<Figure size 432x288 with 1 Axes>"
      ]
     },
     "metadata": {
      "needs_background": "light"
     },
     "output_type": "display_data"
    }
   ],
   "source": [
    "plot_model = svm.SVC(kernel='rbf', C=1, gamma=0.1)\n",
    "\n",
    "train_sizes_seed1234, train_scores_seed1234, val_scores_seed1234 = learning_curve(plot_model, \n",
    "                                                                X_train, \n",
    "                                                                y_train, \n",
    "                                                                cv=5, \n",
    "                                                                scoring='accuracy', \n",
    "                                                                n_jobs=-1, # 이거 바꾸고 싶으면 바꾸고  \n",
    "                                                                train_sizes=np.linspace(0.2, 1, 20), \n",
    "                                                                verbose=2)\n",
    "\n",
    "\n",
    "train_mean_seed1234 = np.mean(train_scores_seed1234, axis = 1)\n",
    "train_std_seed1234  = np.std(train_scores_seed1234, axis=1)\n",
    "val_mean_seed1234   = np.mean(val_scores_seed1234, axis=1)\n",
    "val_std_seed1234    = np.std(val_scores_seed1234, axis=1)\n",
    "\n",
    "plt.plot(train_sizes_seed1234, train_mean_seed1234, label='Training accuracy')\n",
    "plt.plot(train_sizes_seed1234, val_mean_seed1234,   label='Cross-validation accuracy')\n",
    "plt.title ('Learning curve')\n",
    "plt.xlabel('Training Size')\n",
    "plt.ylabel('Accuracy score')\n",
    "plt.legend(loc='best')\n",
    "plt.show()"
   ]
  },
  {
   "cell_type": "markdown",
   "metadata": {
    "id": "UyRKzIf2iknI"
   },
   "source": [
    "## Seed 500"
   ]
  },
  {
   "cell_type": "code",
   "execution_count": 12,
   "metadata": {
    "id": "8FksC80_iknJ"
   },
   "outputs": [],
   "source": [
    "seed = 500\n",
    "X_train, X_test, y_train, y_test = train_test_split(X_s, y_s, test_size=0.3, random_state=seed)  \n",
    "folds = KFold(n_splits = 5, shuffle = True, random_state=seed)"
   ]
  },
  {
   "cell_type": "code",
   "execution_count": 13,
   "metadata": {
    "id": "pZ3Yebc1iknJ"
   },
   "outputs": [
    {
     "name": "stdout",
     "output_type": "stream",
     "text": [
      "Fitting 5 folds for each of 80 candidates, totalling 400 fits\n",
      "best hyper parameters {'C': 10.0, 'gamma': 0.1, 'kernel': 'rbf'}\n",
      "Accuracy: 0.5534979423868313\n",
      "F1 score micro: 0.5534979423868313\n",
      "F1 score binary: 0.5556313993174062\n",
      "\n",
      "classification report:\n",
      "               precision    recall  f1-score   support\n",
      "\n",
      "         0.0       0.56      0.55      0.55       733\n",
      "         1.0       0.55      0.56      0.56       725\n",
      "\n",
      "    accuracy                           0.55      1458\n",
      "   macro avg       0.55      0.55      0.55      1458\n",
      "weighted avg       0.55      0.55      0.55      1458\n",
      "\n"
     ]
    }
   ],
   "source": [
    "svm_hyper_params = [ \n",
    "                        {\n",
    "                        'gamma': np.logspace(-4, -1, 4),\n",
    "                        'C': np.logspace(-3, 1, 5),\n",
    "                        'kernel': ['linear', 'poly', 'rbf', 'sigmoid']\n",
    "                        }\n",
    "                    ]\n",
    "\n",
    "# specify model\n",
    "svm_model = svm.SVC()\n",
    "\n",
    "# set up GridSearchCV()\n",
    "svm_model_cv = GridSearchCV(estimator = svm_model, \n",
    "                            param_grid = svm_hyper_params, \n",
    "                            scoring= 'accuracy', \n",
    "                            cv = folds, \n",
    "                            verbose = 2,\n",
    "                            return_train_score=True,\n",
    "                            n_jobs=-1)      \n",
    "\n",
    "# fit the model\n",
    "svm_model_cv.fit(X_train, y_train)\n",
    "print(\"best hyper parameters\", svm_model_cv.best_params_)\n",
    "svm_y_pred = svm_model_cv.predict(X_test)\n",
    "\n",
    "# accuracy \n",
    "print(\"Accuracy:\", metrics.accuracy_score(y_test, svm_y_pred))\n",
    "# f1 score \n",
    "print(\"F1 score micro:\", f1_score(y_test, svm_y_pred, average='micro'))\n",
    "print(\"F1 score binary:\", f1_score(y_test, svm_y_pred, average='binary'))\n",
    "\n",
    "print(\"\\nclassification report:\\n\", classification_report(y_test, svm_y_pred))"
   ]
  },
  {
   "cell_type": "code",
   "execution_count": 14,
   "metadata": {
    "colab": {
     "base_uri": "https://localhost:8080/",
     "height": 382
    },
    "id": "WImF0iypiknL",
    "outputId": "dd3f2e56-1653-4c48-85dd-a1466dfac195"
   },
   "outputs": [
    {
     "name": "stdout",
     "output_type": "stream",
     "text": [
      "[learning_curve] Training set sizes: [ 544  658  773  887 1002 1117 1231 1346 1460 1575 1689 1804 1919 2033\n",
      " 2148 2262 2377 2491 2606 2721]\n"
     ]
    },
    {
     "name": "stderr",
     "output_type": "stream",
     "text": [
      "[Parallel(n_jobs=-1)]: Using backend LokyBackend with 12 concurrent workers.\n",
      "[Parallel(n_jobs=-1)]: Done  50 out of 100 | elapsed:    1.3s remaining:    1.3s\n",
      "[Parallel(n_jobs=-1)]: Done 100 out of 100 | elapsed:    2.7s finished\n"
     ]
    },
    {
     "data": {
      "image/png": "[encoded data removed]",
      "text/plain": [
       "<Figure size 432x288 with 1 Axes>"
      ]
     },
     "metadata": {
      "needs_background": "light"
     },
     "output_type": "display_data"
    }
   ],
   "source": [
    "plot_model = svm.SVC(kernel='rbf', C=10, gamma=0.1)\n",
    "\n",
    "train_sizes_seed500, train_scores_seed500, val_scores_seed500 = learning_curve(plot_model, \n",
    "                                                                X_train, \n",
    "                                                                y_train, \n",
    "                                                                cv=5, \n",
    "                                                                scoring='accuracy', \n",
    "                                                                n_jobs=-1, # 이거 바꾸고 싶으면 바꾸고  \n",
    "                                                                train_sizes=np.linspace(0.2, 1, 20), \n",
    "                                                                verbose=2)\n",
    "\n",
    "\n",
    "train_mean_seed500 = np.mean(train_scores_seed500, axis = 1)\n",
    "train_std_seed500  = np.std(train_scores_seed500, axis=1)\n",
    "val_mean_seed500   = np.mean(val_scores_seed500, axis=1)\n",
    "val_std_seed500    = np.std(val_scores_seed500, axis=1)\n",
    "\n",
    "plt.plot(train_sizes_seed500, train_mean_seed500, label='Training accuracy')\n",
    "plt.plot(train_sizes_seed500, val_mean_seed500,   label='Cross-validation accuracy')\n",
    "plt.title ('Learning curve')\n",
    "plt.xlabel('Training Size')\n",
    "plt.ylabel('Accuracy score')\n",
    "plt.legend(loc='best')\n",
    "plt.show()"
   ]
  },
  {
   "cell_type": "code",
   "execution_count": 159,
   "metadata": {
    "id": "zD8THOEDiknL"
   },
   "outputs": [],
   "source": [
    "# learning curve considering different seeds "
   ]
  },
  {
   "cell_type": "code",
   "execution_count": 15,
   "metadata": {
    "id": "F2a5wjMgiknL"
   },
   "outputs": [],
   "source": [
    "acc_avg = list()\n",
    "acc_se  = list()\n",
    "\n",
    "val_avg = list()\n",
    "val_se  = list()\n",
    "\n",
    "for i in range(len(train_sizes_seed100)):\n",
    "    acc_avg.append(np.mean([train_mean_seed100[i], train_mean_seed500[i], train_mean_seed1234[i]]))\n",
    "    acc_se .append(np.std ([train_mean_seed100[i], train_mean_seed500[i], train_mean_seed1234[i]]) / np.sqrt(3))\n",
    "    \n",
    "    val_avg.append(np.mean([val_mean_seed100[i], val_mean_seed500[i], val_mean_seed1234[i]]))\n",
    "    val_se .append(np.std ([val_mean_seed100[i], val_mean_seed500[i], val_mean_seed1234[i]]) / np.sqrt(3))"
   ]
  },
  {
   "cell_type": "code",
   "execution_count": 16,
   "metadata": {
    "colab": {
     "base_uri": "https://localhost:8080/",
     "height": 404
    },
    "id": "pBVfsNM1iknM",
    "outputId": "371c25b9-9b04-4d32-8df1-63854040b4e4"
   },
   "outputs": [
    {
     "data": {
      "image/png": "[encoded data removed]",
      "text/plain": [
       "<Figure size 576x432 with 1 Axes>"
      ]
     },
     "metadata": {
      "needs_background": "light"
     },
     "output_type": "display_data"
    }
   ],
   "source": [
    "fig, ax = plt.subplots(figsize=(8, 6))\n",
    "\n",
    "ax.plot(train_sizes_seed100, acc_avg, c='darkred', label='Training accuracy')\n",
    "ax.fill_between(train_sizes_seed100, np.subtract(acc_avg, acc_se), np.add(acc_avg, acc_se), color='lightcoral', alpha=0.5)\n",
    "\n",
    "ax.plot(train_sizes_seed100, val_avg, c='darkgreen', label='Validation accuracy')\n",
    "ax.fill_between(train_sizes_seed100, np.subtract(val_avg, val_se), np.add(val_avg, val_se), color='lime', alpha=0.5)\n",
    "\n",
    "ax.set_xlabel('Training Size')\n",
    "ax.set_ylabel('Accuracy')\n",
    "ax.set_title('SVM Sampled prim_diag')\n",
    "ax.axhline(y=0.5, color='blue', linestyle='-', label='Random Guess')\n",
    "ax.legend()\n",
    "ax.grid()"
   ]
  },
  {
   "cell_type": "markdown",
   "metadata": {},
   "source": [
    "The learning algorithm suffers from high variance. The training and validation curve look like it is converging. Training with more data is likely to help. Although they converge, the error is quite high. This indicates that it is unlikely to have the relationship between screen time and mental health."
   ]
  },
  {
   "cell_type": "markdown",
   "metadata": {
    "id": "32hidP7eiknM"
   },
   "source": [
    "# Logistic Regression"
   ]
  },
  {
   "cell_type": "markdown",
   "metadata": {
    "id": "CC4ev6ebiknM"
   },
   "source": [
    "## Seed 100"
   ]
  },
  {
   "cell_type": "code",
   "execution_count": 17,
   "metadata": {
    "id": "oNF-xwx1iknN"
   },
   "outputs": [],
   "source": [
    "seed = 100\n",
    "X_train, X_test, y_train, y_test = train_test_split(X_s, y_s, test_size=0.3, random_state=seed)  \n",
    "folds = KFold(n_splits = 5, shuffle = True, random_state=seed)"
   ]
  },
  {
   "cell_type": "code",
   "execution_count": 18,
   "metadata": {
    "id": "Q4r_kXoDiknN"
   },
   "outputs": [
    {
     "name": "stdout",
     "output_type": "stream",
     "text": [
      "Fitting 5 folds for each of 420 candidates, totalling 2100 fits\n",
      "best hyper parameters {'C': 0.01, 'multi_class': 'auto', 'penalty': 'l2', 'solver': 'newton-cg'}\n",
      "Accuracy: 0.5061728395061729\n",
      "F1 score micro: 0.5061728395061729\n",
      "F1 score binary: 0.5068493150684932\n",
      "\n",
      "classification report:\n",
      "               precision    recall  f1-score   support\n",
      "\n",
      "         0.0       0.51      0.50      0.51       737\n",
      "         1.0       0.50      0.51      0.51       721\n",
      "\n",
      "    accuracy                           0.51      1458\n",
      "   macro avg       0.51      0.51      0.51      1458\n",
      "weighted avg       0.51      0.51      0.51      1458\n",
      "\n"
     ]
    },
    {
     "name": "stderr",
     "output_type": "stream",
     "text": [
      "/home/sungjin/Documents/Programming/python/venv/lib/python3.8/site-packages/sklearn/model_selection/_search.py:918: UserWarning: One or more of the test scores are non-finite: [       nan        nan 0.49766822        nan 0.51499568 0.47472532\n",
      " 0.47472532 0.46649132 0.47472532 0.47472532        nan        nan\n",
      "        nan        nan        nan 0.51734689 0.51734689        nan\n",
      " 0.51734689 0.51734689        nan        nan 0.49766822        nan\n",
      " 0.48500432 0.47472532 0.47472532 0.46649132 0.47472532 0.47472532\n",
      "        nan        nan        nan        nan        nan 0.51734689\n",
      " 0.51734689        nan 0.51734689 0.51734689        nan        nan\n",
      "        nan        nan 0.48912197 0.47472143 0.47501512        nan\n",
      " 0.47472143 0.47472143        nan        nan        nan        nan\n",
      "        nan 0.51734689 0.51734689        nan 0.51734689 0.51734689\n",
      "        nan        nan 0.49766822        nan 0.47355057 0.50205796\n",
      " 0.50205796 0.49882526 0.50205796 0.50205796        nan        nan\n",
      "        nan        nan        nan 0.51734689 0.51734689        nan\n",
      " 0.51734689 0.51734689        nan        nan 0.49766822        nan\n",
      " 0.49912197 0.50205796 0.50205796 0.49882526 0.50205796 0.50205796\n",
      "        nan        nan        nan        nan        nan 0.51734689\n",
      " 0.51734689        nan 0.51734689 0.51734689        nan        nan\n",
      "        nan        nan 0.47355057 0.50852293 0.50852293        nan\n",
      " 0.50852293 0.50852293        nan        nan        nan        nan\n",
      "        nan 0.51734689 0.51734689        nan 0.51734689 0.51734689\n",
      "        nan        nan 0.49766822        nan 0.47355057 0.52087328\n",
      " 0.52087328 0.51322234 0.52087328 0.52087328        nan        nan\n",
      "        nan        nan        nan 0.51734689 0.51734689        nan\n",
      " 0.51734689 0.51734689        nan        nan 0.49766822        nan\n",
      " 0.47355057 0.52087328 0.52087328 0.51322234 0.52087328 0.52087328\n",
      "        nan        nan        nan        nan        nan 0.51734689\n",
      " 0.51734689        nan 0.51734689 0.51734689        nan        nan\n",
      "        nan        nan 0.47355057 0.52087285 0.52087285        nan\n",
      " 0.52087285 0.52087285        nan        nan        nan        nan\n",
      "        nan 0.51734689 0.51734689        nan 0.51734689 0.51734689\n",
      "        nan        nan 0.51234517        nan 0.51793167 0.51705321\n",
      " 0.51705321 0.51381748 0.51705321 0.51705321        nan        nan\n",
      "        nan        nan        nan 0.51734689 0.51734689        nan\n",
      " 0.51734689 0.51734689        nan        nan 0.51234517        nan\n",
      " 0.51793167 0.51705321 0.51705321 0.51381748 0.51705321 0.51705321\n",
      "        nan        nan        nan        nan        nan 0.51734689\n",
      " 0.51734689        nan 0.51734689 0.51734689        nan        nan\n",
      "        nan        nan 0.51793167 0.51881705 0.51881705        nan\n",
      " 0.51822882 0.51852293        nan        nan        nan        nan\n",
      "        nan 0.51734689 0.51734689        nan 0.51734689 0.51734689\n",
      "        nan        nan 0.51529023        nan 0.51558435 0.51764101\n",
      " 0.51764101 0.51822752 0.51764101 0.51764101        nan        nan\n",
      "        nan        nan        nan 0.51734689 0.51734689        nan\n",
      " 0.51734689 0.51734689        nan        nan 0.51529023        nan\n",
      " 0.51558435 0.51764101 0.51764101 0.51822752 0.51764101 0.51764101\n",
      "        nan        nan        nan        nan        nan 0.51734689\n",
      " 0.51734689        nan 0.51734689 0.51734689        nan        nan\n",
      "        nan        nan 0.51558435 0.51764101 0.51764101        nan\n",
      " 0.51764101 0.51764101        nan        nan        nan        nan\n",
      "        nan 0.51734689 0.51734689        nan 0.51734689 0.51734689\n",
      "        nan        nan 0.51646627        nan 0.51793513 0.51734689\n",
      " 0.51734689 0.51734689 0.51734689 0.51734689        nan        nan\n",
      "        nan        nan        nan 0.51734689 0.51734689        nan\n",
      " 0.51734689 0.51734689        nan        nan 0.51646627        nan\n",
      " 0.51793513 0.51734689 0.51734689 0.51734689 0.51734689 0.51734689\n",
      "        nan        nan        nan        nan        nan 0.51734689\n",
      " 0.51734689        nan 0.51734689 0.51734689        nan        nan\n",
      "        nan        nan 0.51793513 0.51734689 0.51734689        nan\n",
      " 0.51734689 0.51734689        nan        nan        nan        nan\n",
      "        nan 0.51734689 0.51734689        nan 0.51734689 0.51734689\n",
      "        nan        nan 0.51734689        nan 0.51734689 0.51734689\n",
      " 0.51734689 0.51734689 0.51734689 0.51734689        nan        nan\n",
      "        nan        nan        nan 0.51734689 0.51734689        nan\n",
      " 0.51734689 0.51734689        nan        nan 0.51734689        nan\n",
      " 0.51734689 0.51734689 0.51734689 0.51734689 0.51734689 0.51734689\n",
      "        nan        nan        nan        nan        nan 0.51734689\n",
      " 0.51734689        nan 0.51734689 0.51734689        nan        nan\n",
      "        nan        nan 0.51734689 0.51734689 0.51734689        nan\n",
      " 0.51734689 0.51734689        nan        nan        nan        nan\n",
      "        nan 0.51734689 0.51734689        nan 0.51734689 0.51734689]\n",
      "  warnings.warn(\n",
      "/home/sungjin/Documents/Programming/python/venv/lib/python3.8/site-packages/sklearn/model_selection/_search.py:918: UserWarning: One or more of the train scores are non-finite: [       nan        nan 0.49764968        nan 0.49448908 0.50977406\n",
      " 0.50977406 0.50617285 0.50977406 0.50977406        nan        nan\n",
      "        nan        nan        nan 0.53564042 0.53564042        nan\n",
      " 0.53556695 0.53564042        nan        nan 0.49764968        nan\n",
      " 0.50551092 0.50977406 0.50977406 0.50617285 0.50977406 0.50977406\n",
      "        nan        nan        nan        nan        nan 0.53564042\n",
      " 0.53564042        nan 0.53564042 0.53556695        nan        nan\n",
      "        nan        nan 0.50330666 0.51117053 0.51117053        nan\n",
      " 0.51117053 0.51117053        nan        nan        nan        nan\n",
      "        nan 0.53564042 0.53556695        nan 0.53564042 0.53556695\n",
      "        nan        nan 0.49764968        nan 0.50720148 0.51896029\n",
      " 0.51896029 0.51822565 0.51896029 0.51896029        nan        nan\n",
      "        nan        nan        nan 0.53564042 0.53564042        nan\n",
      " 0.53564042 0.53564042        nan        nan 0.49764968        nan\n",
      " 0.49963289 0.51896029 0.51896029 0.51822565 0.51896029 0.51896029\n",
      "        nan        nan        nan        nan        nan 0.53564042\n",
      " 0.53564042        nan 0.53564042 0.53564042        nan        nan\n",
      "        nan        nan 0.50720148 0.52505972 0.52505972        nan\n",
      " 0.52505972 0.52505972        nan        nan        nan        nan\n",
      "        nan 0.53564042 0.53556695        nan 0.53556695 0.53556695\n",
      "        nan        nan 0.49764968        nan 0.50720148 0.53799226\n",
      " 0.53799226 0.52799882 0.53799226 0.53799226        nan        nan\n",
      "        nan        nan        nan 0.53564042 0.53564042        nan\n",
      " 0.53564042 0.53564042        nan        nan 0.49764968        nan\n",
      " 0.50720148 0.53799226 0.53799226 0.52799882 0.53799226 0.53799226\n",
      "        nan        nan        nan        nan        nan 0.53564042\n",
      " 0.53564042        nan 0.53556695 0.53564042        nan        nan\n",
      "        nan        nan 0.50720148 0.53902099 0.53902099        nan\n",
      " 0.53902099 0.53902099        nan        nan        nan        nan\n",
      "        nan 0.53564042 0.53556695        nan 0.53556695 0.53564042\n",
      "        nan        nan 0.53387742        nan 0.5368901  0.53527315\n",
      " 0.53527315 0.53343605 0.53527315 0.53527315        nan        nan\n",
      "        nan        nan        nan 0.53564042 0.53564042        nan\n",
      " 0.53556695 0.53564042        nan        nan 0.53387742        nan\n",
      " 0.5368901  0.53527315 0.53527315 0.53343605 0.53527315 0.53527315\n",
      "        nan        nan        nan        nan        nan 0.53564042\n",
      " 0.53564042        nan 0.53564042 0.53564042        nan        nan\n",
      "        nan        nan 0.5368901  0.53644881 0.53644881        nan\n",
      " 0.53542016 0.53644881        nan        nan        nan        nan\n",
      "        nan 0.53564042 0.53556695        nan 0.53556695 0.53564042\n",
      "        nan        nan 0.53490561        nan 0.53586063 0.53593443\n",
      " 0.53593443 0.53505267 0.53593443 0.53593443        nan        nan\n",
      "        nan        nan        nan 0.53564042 0.53564042        nan\n",
      " 0.53564042 0.53564042        nan        nan 0.53483211        nan\n",
      " 0.53586063 0.53593443 0.53593443 0.53505267 0.53593443 0.53593443\n",
      "        nan        nan        nan        nan        nan 0.53564042\n",
      " 0.53564042        nan 0.53564042 0.53564042        nan        nan\n",
      "        nan        nan 0.53586063 0.53593443 0.53593443        nan\n",
      " 0.53593443 0.53593443        nan        nan        nan        nan\n",
      "        nan 0.53564042 0.53556695        nan 0.53564042 0.53556695\n",
      "        nan        nan 0.53534636        nan 0.53615486 0.53556695\n",
      " 0.53556695 0.53556695 0.53556695 0.53556695        nan        nan\n",
      "        nan        nan        nan 0.53564042 0.53564042        nan\n",
      " 0.53564042 0.53564042        nan        nan 0.53534636        nan\n",
      " 0.53615486 0.53556695 0.53556695 0.53556695 0.53556695 0.53556695\n",
      "        nan        nan        nan        nan        nan 0.53564042\n",
      " 0.53564042        nan 0.53564042 0.53564042        nan        nan\n",
      "        nan        nan 0.53615486 0.53556695 0.53556695        nan\n",
      " 0.53556695 0.53556695        nan        nan        nan        nan\n",
      "        nan 0.53564042 0.53556695        nan 0.53564042 0.53564042\n",
      "        nan        nan 0.53556695        nan 0.53556695 0.53564042\n",
      " 0.53564042 0.53556695 0.53564042 0.53564042        nan        nan\n",
      "        nan        nan        nan 0.53564042 0.53564042        nan\n",
      " 0.53564042 0.53564042        nan        nan 0.53556695        nan\n",
      " 0.53556695 0.53564042 0.53564042 0.53556695 0.53564042 0.53564042\n",
      "        nan        nan        nan        nan        nan 0.53564042\n",
      " 0.53564042        nan 0.53564042 0.53556695        nan        nan\n",
      "        nan        nan 0.53556695 0.53564042 0.53556695        nan\n",
      " 0.53564042 0.53564042        nan        nan        nan        nan\n",
      "        nan 0.53564042 0.53556695        nan 0.53556695 0.53564042]\n",
      "  warnings.warn(\n"
     ]
    }
   ],
   "source": [
    "log_hyper_params = [ \n",
    "                        {\n",
    "                        'C': np.logspace(-4, 2, 7),\n",
    "                        'solver' : ['newton-cg', 'lbfgs', 'liblinear', 'sag', 'saga'],\n",
    "                        'penalty' : ['l1', 'l2', 'elasticnet', 'none'],\n",
    "                        'multi_class' : ['auto', 'ovr', 'multinomial']\n",
    "                        }\n",
    "                    ]\n",
    "\n",
    "# specify model\n",
    "log_model = LogisticRegression()\n",
    "\n",
    "# set up GridSearchCV()\n",
    "log_model_cv = GridSearchCV(estimator = log_model, \n",
    "                            param_grid = log_hyper_params, \n",
    "                            scoring= 'accuracy', \n",
    "                            cv = folds, \n",
    "                            verbose = 2,\n",
    "                            return_train_score=True,\n",
    "                            n_jobs=-1)  \n",
    "\n",
    "# fit the model\n",
    "log_model_cv.fit(X_train, y_train)\n",
    "print(\"best hyper parameters\", log_model_cv.best_params_)\n",
    "log_y_pred = log_model_cv.predict(X_test)\n",
    "\n",
    "# accuracy \n",
    "print(\"Accuracy:\", metrics.accuracy_score(y_test, log_y_pred))\n",
    "# f1 score \n",
    "print(\"F1 score micro:\", f1_score(y_test, log_y_pred, average='micro'))\n",
    "print(\"F1 score binary:\", f1_score(y_test, log_y_pred, average='binary'))\n",
    "\n",
    "print(\"\\nclassification report:\\n\", classification_report(y_test, log_y_pred))"
   ]
  },
  {
   "cell_type": "code",
   "execution_count": 19,
   "metadata": {
    "colab": {
     "base_uri": "https://localhost:8080/",
     "height": 382
    },
    "id": "MOVeuxdOiknN",
    "outputId": "2486a5d5-3f54-4ae6-cb57-afc3ed6b325b"
   },
   "outputs": [
    {
     "name": "stdout",
     "output_type": "stream",
     "text": [
      "[learning_curve] Training set sizes: [ 544  658  773  887 1002 1117 1231 1346 1460 1575 1689 1804 1919 2033\n",
      " 2148 2262 2377 2491 2606 2721]\n"
     ]
    },
    {
     "name": "stderr",
     "output_type": "stream",
     "text": [
      "[Parallel(n_jobs=-1)]: Using backend LokyBackend with 12 concurrent workers.\n",
      "[Parallel(n_jobs=-1)]: Done  50 out of 100 | elapsed:    0.1s remaining:    0.1s\n",
      "[Parallel(n_jobs=-1)]: Done 100 out of 100 | elapsed:    0.2s finished\n"
     ]
    },
    {
     "data": {
      "image/png": "[encoded data removed]",
      "text/plain": [
       "<Figure size 432x288 with 1 Axes>"
      ]
     },
     "metadata": {
      "needs_background": "light"
     },
     "output_type": "display_data"
    }
   ],
   "source": [
    "# ------ HERE ------\n",
    "\n",
    "# plug in suitable hyper-parameters\n",
    "\n",
    "\n",
    "# 여기만 바꾸면 된다. \n",
    "plot_model = LogisticRegression(C=0.01, multi_class='auto', penalty='l2', solver='newton-cg')\n",
    "\n",
    "\n",
    "train_sizes_seed100, train_scores_seed100, val_scores_seed100 = learning_curve(plot_model, \n",
    "                                                                X_train, \n",
    "                                                                y_train, \n",
    "                                                                cv=5, \n",
    "                                                                scoring='accuracy', \n",
    "                                                                n_jobs=-1, # 이거 바꾸고 싶으면 바꾸고  \n",
    "                                                                train_sizes=np.linspace(0.2, 1, 20), \n",
    "                                                                verbose=2)\n",
    "\n",
    "\n",
    "train_mean_seed100 = np.mean(train_scores_seed100, axis = 1)\n",
    "train_std_seed100  = np.std(train_scores_seed100, axis=1)\n",
    "val_mean_seed100   = np.mean(val_scores_seed100, axis=1)\n",
    "val_std_seed100    = np.std(val_scores_seed100, axis=1)\n",
    "\n",
    "plt.plot(train_sizes_seed100, train_mean_seed100, label='Training accuracy')\n",
    "plt.plot(train_sizes_seed100, val_mean_seed100,   label='Cross-validation accuracy')\n",
    "plt.title ('Learning curve')\n",
    "plt.xlabel('Training Size')\n",
    "plt.ylabel('Accuracy score')\n",
    "plt.legend(loc='best')\n",
    "plt.show()"
   ]
  },
  {
   "cell_type": "markdown",
   "metadata": {
    "id": "ccwNeeBLiknO"
   },
   "source": [
    "## Seed 1234"
   ]
  },
  {
   "cell_type": "code",
   "execution_count": 20,
   "metadata": {
    "id": "UROMdP05iknP"
   },
   "outputs": [],
   "source": [
    "seed = 1234\n",
    "X_train, X_test, y_train, y_test = train_test_split(X_s, y_s, test_size=0.3, random_state=seed)  \n",
    "folds = KFold(n_splits = 5, shuffle = True, random_state=seed)"
   ]
  },
  {
   "cell_type": "code",
   "execution_count": 21,
   "metadata": {
    "id": "ExoQNZ6FiknP"
   },
   "outputs": [
    {
     "name": "stdout",
     "output_type": "stream",
     "text": [
      "Fitting 5 folds for each of 420 candidates, totalling 2100 fits\n",
      "best hyper parameters {'C': 1.0, 'multi_class': 'ovr', 'penalty': 'l1', 'solver': 'saga'}\n",
      "Accuracy: 0.5233196159122085\n",
      "F1 score micro: 0.5233196159122085\n",
      "F1 score binary: 0.5210199862164024\n",
      "\n",
      "classification report:\n",
      "               precision    recall  f1-score   support\n",
      "\n",
      "         0.0       0.52      0.53      0.53       731\n",
      "         1.0       0.52      0.52      0.52       727\n",
      "\n",
      "    accuracy                           0.52      1458\n",
      "   macro avg       0.52      0.52      0.52      1458\n",
      "weighted avg       0.52      0.52      0.52      1458\n",
      "\n"
     ]
    },
    {
     "name": "stderr",
     "output_type": "stream",
     "text": [
      "/home/sungjin/Documents/Programming/python/venv/lib/python3.8/site-packages/sklearn/model_selection/_search.py:918: UserWarning: One or more of the test scores are non-finite: [       nan        nan 0.49941176        nan 0.50852725 0.49998963\n",
      " 0.49998963 0.50969379 0.49998963 0.49998963        nan        nan\n",
      "        nan        nan        nan 0.53116049 0.53116049        nan\n",
      " 0.53116049 0.53116049        nan        nan 0.49941176        nan\n",
      " 0.50705882 0.49998963 0.49998963 0.50969379 0.49998963 0.49998963\n",
      "        nan        nan        nan        nan        nan 0.53116049\n",
      " 0.53116049        nan 0.53116049 0.53116049        nan        nan\n",
      "        nan        nan 0.49647059 0.50528418 0.50528418        nan\n",
      " 0.50528418 0.50528418        nan        nan        nan        nan\n",
      "        nan 0.53116049 0.53116049        nan 0.53057312 0.53116049\n",
      "        nan        nan 0.49941176        nan 0.49441392 0.53056707\n",
      " 0.53056707 0.52821759 0.53056707 0.52997884        nan        nan\n",
      "        nan        nan        nan 0.53116049 0.53116049        nan\n",
      " 0.53116049 0.53116049        nan        nan 0.49941176        nan\n",
      " 0.49588235 0.53056707 0.53056707 0.52821759 0.53056707 0.52997884\n",
      "        nan        nan        nan        nan        nan 0.53116049\n",
      " 0.53116049        nan 0.53057312 0.53116049        nan        nan\n",
      "        nan        nan 0.49294118 0.52909821 0.52909821        nan\n",
      " 0.52909821 0.52909821        nan        nan        nan        nan\n",
      "        nan 0.53116049 0.53116049        nan 0.53116049 0.53116049\n",
      "        nan        nan 0.49941176        nan 0.49147275 0.53174743\n",
      " 0.53174743 0.52646195 0.53174743 0.53174743        nan        nan\n",
      "        nan        nan        nan 0.53116049 0.53116049        nan\n",
      " 0.53116049 0.53116049        nan        nan 0.49941176        nan\n",
      " 0.49147275 0.53174743 0.53174743 0.52646195 0.53174743 0.53174743\n",
      "        nan        nan        nan        nan        nan 0.53116049\n",
      " 0.53116049        nan 0.53116049 0.53116049        nan        nan\n",
      "        nan        nan 0.49294118 0.53409951 0.53409951        nan\n",
      " 0.53409951 0.53409951        nan        nan        nan        nan\n",
      "        nan 0.53116049 0.53116049        nan 0.53116049 0.53116049\n",
      "        nan        nan 0.5223456         nan 0.53321586 0.53086551\n",
      " 0.53086551 0.53057182 0.53086551 0.53086551        nan        nan\n",
      "        nan        nan        nan 0.53116049 0.53116049        nan\n",
      " 0.53116049 0.53116049        nan        nan 0.5223456         nan\n",
      " 0.53321586 0.53086551 0.53086551 0.53057182 0.53086551 0.53086551\n",
      "        nan        nan        nan        nan        nan 0.53116049\n",
      " 0.53116049        nan 0.53116049 0.53116049        nan        nan\n",
      "        nan        nan 0.53321586 0.53057269 0.53057269        nan\n",
      " 0.53057269 0.53057269        nan        nan        nan        nan\n",
      "        nan 0.53116049 0.53116049        nan 0.53116049 0.53116049\n",
      "        nan        nan 0.53321456        nan 0.53439147 0.53116049\n",
      " 0.53116049 0.53057269 0.53116049 0.53116049        nan        nan\n",
      "        nan        nan        nan 0.53116049 0.53116049        nan\n",
      " 0.53116049 0.53116049        nan        nan 0.53321456        nan\n",
      " 0.53468515 0.53116049 0.53116049 0.53057269 0.53116049 0.53116049\n",
      "        nan        nan        nan        nan        nan 0.53116049\n",
      " 0.53116049        nan 0.53116049 0.53116049        nan        nan\n",
      "        nan        nan 0.53468515 0.53116049 0.53116049        nan\n",
      " 0.53116049 0.53116049        nan        nan        nan        nan\n",
      "        nan 0.53116049 0.53116049        nan 0.53116049 0.53116049\n",
      "        nan        nan 0.52998532        nan 0.52998488 0.53116049\n",
      " 0.53116049 0.53057312 0.53116049 0.53116049        nan        nan\n",
      "        nan        nan        nan 0.53116049 0.53116049        nan\n",
      " 0.53116049 0.53116049        nan        nan 0.52998532        nan\n",
      " 0.52998488 0.53116049 0.53116049 0.53057312 0.53116049 0.53057312\n",
      "        nan        nan        nan        nan        nan 0.53116049\n",
      " 0.53116049        nan 0.53116049 0.53116049        nan        nan\n",
      "        nan        nan 0.53057226 0.53116049 0.53116049        nan\n",
      " 0.53116049 0.53116049        nan        nan        nan        nan\n",
      "        nan 0.53116049 0.53116049        nan 0.53116049 0.53116049\n",
      "        nan        nan 0.53116049        nan 0.53116049 0.53116049\n",
      " 0.53116049 0.53116049 0.53116049 0.53116049        nan        nan\n",
      "        nan        nan        nan 0.53116049 0.53116049        nan\n",
      " 0.53116049 0.53116049        nan        nan 0.53116049        nan\n",
      " 0.53116049 0.53116049 0.53116049 0.53116049 0.53116049 0.53116049\n",
      "        nan        nan        nan        nan        nan 0.53116049\n",
      " 0.53116049        nan 0.53116049 0.53116049        nan        nan\n",
      "        nan        nan 0.53116049 0.53116049 0.53116049        nan\n",
      " 0.53116049 0.53116049        nan        nan        nan        nan\n",
      "        nan 0.53116049 0.53116049        nan 0.53116049 0.53116049]\n",
      "  warnings.warn(\n",
      "/home/sungjin/Documents/Programming/python/venv/lib/python3.8/site-packages/sklearn/model_selection/_search.py:918: UserWarning: One or more of the train scores are non-finite: [       nan        nan 0.49941209        nan 0.49772213 0.51337619\n",
      " 0.51337619 0.52682265 0.51337619 0.51337619        nan        nan\n",
      "        nan        nan        nan 0.53505219 0.53497869        nan\n",
      " 0.53497869 0.53497869        nan        nan 0.49941209        nan\n",
      " 0.49838365 0.51337619 0.51337619 0.52682265 0.51337619 0.51337619\n",
      "        nan        nan        nan        nan        nan 0.53505219\n",
      " 0.53497869        nan 0.53497869 0.53497869        nan        nan\n",
      "        nan        nan 0.50044074 0.5171239  0.5171239         nan\n",
      " 0.51719737 0.5171239         nan        nan        nan        nan\n",
      "        nan 0.53505219 0.53505219        nan 0.53483168 0.53505219\n",
      "        nan        nan 0.49941209        nan 0.50124922 0.53387734\n",
      " 0.53387734 0.53299439 0.53395084 0.53350996        nan        nan\n",
      "        nan        nan        nan 0.53505219 0.53497869        nan\n",
      " 0.53505219 0.53505219        nan        nan 0.49941209        nan\n",
      " 0.50117571 0.53387734 0.53387734 0.53299439 0.53387734 0.53350996\n",
      "        nan        nan        nan        nan        nan 0.53505219\n",
      " 0.53497869        nan 0.53475818 0.53505219        nan        nan\n",
      "        nan        nan 0.50161635 0.53292178 0.53292178        nan\n",
      " 0.53292178 0.53292178        nan        nan        nan        nan\n",
      "        nan 0.53505219 0.53505219        nan 0.53505219 0.53497869\n",
      "        nan        nan 0.49941209        nan 0.50227787 0.53527313\n",
      " 0.53549363 0.53409782 0.53527313 0.53527313        nan        nan\n",
      "        nan        nan        nan 0.53505219 0.53497869        nan\n",
      " 0.53505219 0.53505219        nan        nan 0.49941209        nan\n",
      " 0.50227787 0.53527313 0.53549363 0.53409782 0.53549363 0.53497923\n",
      "        nan        nan        nan        nan        nan 0.53505219\n",
      " 0.53497869        nan 0.53497869 0.53505219        nan        nan\n",
      "        nan        nan 0.50220437 0.5367425  0.53666902        nan\n",
      " 0.5367425  0.5367425         nan        nan        nan        nan\n",
      "        nan 0.53505219 0.53505219        nan 0.53505219 0.53505219\n",
      "        nan        nan 0.53093743        nan 0.53321606 0.53541965\n",
      " 0.53541965 0.53571433 0.53541965 0.53541965        nan        nan\n",
      "        nan        nan        nan 0.53505219 0.53497869        nan\n",
      " 0.53505219 0.53497869        nan        nan 0.53093743        nan\n",
      " 0.53321606 0.53541965 0.53541965 0.53571433 0.53541965 0.53541965\n",
      "        nan        nan        nan        nan        nan 0.53505219\n",
      " 0.53497869        nan 0.53497869 0.53505219        nan        nan\n",
      "        nan        nan 0.53321606 0.53490516 0.53490516        nan\n",
      " 0.53490516 0.53490516        nan        nan        nan        nan\n",
      "        nan 0.53505219 0.53505219        nan 0.53505219 0.53497869\n",
      "        nan        nan 0.53659617        nan 0.53733092 0.53497869\n",
      " 0.53497869 0.53461131 0.53497869 0.53497869        nan        nan\n",
      "        nan        nan        nan 0.53505219 0.53497869        nan\n",
      " 0.53505219 0.53505219        nan        nan 0.53659617        nan\n",
      " 0.53755143 0.53497869 0.53497869 0.53461131 0.53497869 0.53497869\n",
      "        nan        nan        nan        nan        nan 0.53505219\n",
      " 0.53497869        nan 0.53497869 0.53505219        nan        nan\n",
      "        nan        nan 0.53755143 0.53497869 0.53497869        nan\n",
      " 0.53497869 0.53497869        nan        nan        nan        nan\n",
      "        nan 0.53505219 0.53505219        nan 0.53505219 0.53505219\n",
      "        nan        nan 0.53461125        nan 0.53453775 0.53497869\n",
      " 0.53497869 0.53475818 0.53497869 0.53497869        nan        nan\n",
      "        nan        nan        nan 0.53505219 0.53497869        nan\n",
      " 0.53505219 0.53505219        nan        nan 0.53461125        nan\n",
      " 0.53453775 0.53497869 0.53497869 0.53475818 0.53497869 0.53475818\n",
      "        nan        nan        nan        nan        nan 0.53505219\n",
      " 0.53497869        nan 0.53497869 0.53505219        nan        nan\n",
      "        nan        nan 0.53475826 0.53497869 0.53505219        nan\n",
      " 0.53505219 0.53497869        nan        nan        nan        nan\n",
      "        nan 0.53505219 0.53505219        nan 0.53505219 0.53505219\n",
      "        nan        nan 0.53497869        nan 0.53497869 0.53505219\n",
      " 0.53497869 0.53497869 0.53497869 0.53505219        nan        nan\n",
      "        nan        nan        nan 0.53505219 0.53497869        nan\n",
      " 0.53505219 0.53497869        nan        nan 0.53497869        nan\n",
      " 0.53497869 0.53505219 0.53497869 0.53497869 0.53497869 0.53505219\n",
      "        nan        nan        nan        nan        nan 0.53505219\n",
      " 0.53497869        nan 0.53497869 0.53505219        nan        nan\n",
      "        nan        nan 0.53497869 0.53505219 0.53505219        nan\n",
      " 0.53505219 0.53505219        nan        nan        nan        nan\n",
      "        nan 0.53505219 0.53505219        nan 0.53505219 0.53505219]\n",
      "  warnings.warn(\n"
     ]
    }
   ],
   "source": [
    "log_hyper_params = [ \n",
    "                        {\n",
    "                        'C': np.logspace(-4, 2, 7),\n",
    "                        'solver' : ['newton-cg', 'lbfgs', 'liblinear', 'sag', 'saga'],\n",
    "                        'penalty' : ['l1', 'l2', 'elasticnet', 'none'],\n",
    "                        'multi_class' : ['auto', 'ovr', 'multinomial']\n",
    "                        }\n",
    "                    ]\n",
    "\n",
    "# specify model\n",
    "log_model = LogisticRegression()\n",
    "\n",
    "# set up GridSearchCV()\n",
    "log_model_cv = GridSearchCV(estimator = log_model, \n",
    "                            param_grid = log_hyper_params, \n",
    "                            scoring= 'accuracy', \n",
    "                            cv = folds, \n",
    "                            verbose = 2,\n",
    "                            return_train_score=True,\n",
    "                            n_jobs=-1)  \n",
    "\n",
    "# fit the model\n",
    "log_model_cv.fit(X_train, y_train)\n",
    "print(\"best hyper parameters\", log_model_cv.best_params_)\n",
    "log_y_pred = log_model_cv.predict(X_test)\n",
    "\n",
    "# accuracy \n",
    "print(\"Accuracy:\", metrics.accuracy_score(y_test, log_y_pred))\n",
    "# f1 score \n",
    "print(\"F1 score micro:\", f1_score(y_test, log_y_pred, average='micro'))\n",
    "print(\"F1 score binary:\", f1_score(y_test, log_y_pred, average='binary'))\n",
    "\n",
    "print(\"\\nclassification report:\\n\", classification_report(y_test, log_y_pred))"
   ]
  },
  {
   "cell_type": "code",
   "execution_count": 22,
   "metadata": {
    "colab": {
     "base_uri": "https://localhost:8080/",
     "height": 382
    },
    "id": "A1li0aC2iknQ",
    "outputId": "610cd3ce-30be-4e36-aecc-3b21e8ca92bb"
   },
   "outputs": [
    {
     "name": "stdout",
     "output_type": "stream",
     "text": [
      "[learning_curve] Training set sizes: [ 544  658  773  887 1002 1117 1231 1346 1460 1575 1689 1804 1919 2033\n",
      " 2148 2262 2377 2491 2606 2721]\n"
     ]
    },
    {
     "name": "stderr",
     "output_type": "stream",
     "text": [
      "[Parallel(n_jobs=-1)]: Using backend LokyBackend with 12 concurrent workers.\n",
      "[Parallel(n_jobs=-1)]: Done  50 out of 100 | elapsed:    0.1s remaining:    0.1s\n",
      "[Parallel(n_jobs=-1)]: Done 100 out of 100 | elapsed:    0.2s finished\n"
     ]
    },
    {
     "data": {
      "image/png": "[encoded data removed]",
      "text/plain": [
       "<Figure size 432x288 with 1 Axes>"
      ]
     },
     "metadata": {
      "needs_background": "light"
     },
     "output_type": "display_data"
    }
   ],
   "source": [
    "plot_model = LogisticRegression(C=1.0, multi_class='ovr', penalty='l1', solver='saga')\n",
    "\n",
    "train_sizes_seed1234, train_scores_seed1234, val_scores_seed1234 = learning_curve(plot_model, \n",
    "                                                                X_train, \n",
    "                                                                y_train, \n",
    "                                                                cv=5, \n",
    "                                                                scoring='accuracy', \n",
    "                                                                n_jobs=-1, # 이거 바꾸고 싶으면 바꾸고  \n",
    "                                                                train_sizes=np.linspace(0.2, 1, 20), \n",
    "                                                                verbose=2)\n",
    "\n",
    "\n",
    "train_mean_seed1234 = np.mean(train_scores_seed1234, axis = 1)\n",
    "train_std_seed1234  = np.std(train_scores_seed1234, axis=1)\n",
    "val_mean_seed1234   = np.mean(val_scores_seed1234, axis=1)\n",
    "val_std_seed1234    = np.std(val_scores_seed1234, axis=1)\n",
    "\n",
    "plt.plot(train_sizes_seed1234, train_mean_seed1234, label='Training accuracy')\n",
    "plt.plot(train_sizes_seed1234, val_mean_seed1234,   label='Cross-validation accuracy')\n",
    "plt.title ('Learning curve')\n",
    "plt.xlabel('Training Size')\n",
    "plt.ylabel('Accuracy score')\n",
    "plt.legend(loc='best')\n",
    "plt.show()"
   ]
  },
  {
   "cell_type": "markdown",
   "metadata": {
    "id": "VKJU2QtiiknS"
   },
   "source": [
    "## Seed 500"
   ]
  },
  {
   "cell_type": "code",
   "execution_count": 23,
   "metadata": {
    "id": "m2JG45HoiknV"
   },
   "outputs": [],
   "source": [
    "seed = 500\n",
    "X_train, X_test, y_train, y_test = train_test_split(X_s, y_s, test_size=0.3, random_state=seed)  \n",
    "folds = KFold(n_splits = 5, shuffle = True, random_state=seed)"
   ]
  },
  {
   "cell_type": "code",
   "execution_count": 24,
   "metadata": {
    "id": "v5efwtjMiknW"
   },
   "outputs": [
    {
     "name": "stdout",
     "output_type": "stream",
     "text": [
      "Fitting 5 folds for each of 420 candidates, totalling 2100 fits\n",
      "best hyper parameters {'C': 0.01, 'multi_class': 'auto', 'penalty': 'l2', 'solver': 'liblinear'}\n",
      "Accuracy: 0.5185185185185185\n",
      "F1 score micro: 0.5185185185185185\n",
      "F1 score binary: 0.5138504155124654\n",
      "\n",
      "classification report:\n",
      "               precision    recall  f1-score   support\n",
      "\n",
      "         0.0       0.52      0.53      0.52       733\n",
      "         1.0       0.52      0.51      0.51       725\n",
      "\n",
      "    accuracy                           0.52      1458\n",
      "   macro avg       0.52      0.52      0.52      1458\n",
      "weighted avg       0.52      0.52      0.52      1458\n",
      "\n"
     ]
    },
    {
     "name": "stderr",
     "output_type": "stream",
     "text": [
      "/home/sungjin/Documents/Programming/python/venv/lib/python3.8/site-packages/sklearn/model_selection/_search.py:918: UserWarning: One or more of the test scores are non-finite: [       nan        nan 0.49882871        nan 0.49500302 0.50028462\n",
      " 0.50028462 0.4941211  0.49940356 0.50028462        nan        nan\n",
      "        nan        nan        nan 0.52233998 0.52204587        nan\n",
      " 0.5226341  0.52233998        nan        nan 0.49882871        nan\n",
      " 0.49294636 0.50028462 0.50028462 0.4941211  0.50028462 0.50028462\n",
      "        nan        nan        nan        nan        nan 0.52233998\n",
      " 0.52204587        nan 0.5226341  0.52233998        nan        nan\n",
      "        nan        nan 0.49353459 0.49587328 0.49587328        nan\n",
      " 0.49587328 0.49587328        nan        nan        nan        nan\n",
      "        nan 0.52233998 0.52204587        nan 0.52233998 0.52233998\n",
      "        nan        nan 0.49882871        nan 0.50617345 0.50822752\n",
      " 0.50822752 0.50470631 0.50822752 0.50822752        nan        nan\n",
      "        nan        nan        nan 0.52233998 0.52204587        nan\n",
      " 0.52233998 0.52233998        nan        nan 0.49882871        nan\n",
      " 0.49500302 0.50822752 0.50822752 0.50470631 0.50822752 0.50822752\n",
      "        nan        nan        nan        nan        nan 0.52233998\n",
      " 0.52204587        nan 0.52233998 0.52233998        nan        nan\n",
      "        nan        nan 0.49294636 0.51293038 0.51293038        nan\n",
      " 0.51293038 0.51293038        nan        nan        nan        nan\n",
      "        nan 0.52233998 0.52204587        nan 0.52233998 0.52233998\n",
      "        nan        nan 0.49882871        nan 0.49559126 0.52145288\n",
      " 0.52145288 0.52468861 0.52145288 0.52145288        nan        nan\n",
      "        nan        nan        nan 0.52233998 0.52204587        nan\n",
      " 0.52233998 0.52233998        nan        nan 0.49882871        nan\n",
      " 0.49559126 0.52145288 0.52145288 0.52468861 0.52145288 0.52145288\n",
      "        nan        nan        nan        nan        nan 0.52233998\n",
      " 0.52204587        nan 0.52233998 0.52233998        nan        nan\n",
      "        nan        nan 0.49559126 0.51939622 0.5191021         nan\n",
      " 0.51939622 0.51939622        nan        nan        nan        nan\n",
      "        nan 0.52233998 0.52204587        nan 0.52233998 0.52233998\n",
      "        nan        nan 0.51969249        nan 0.51969293 0.52145634\n",
      " 0.52204371 0.52233826 0.52145634 0.52145634        nan        nan\n",
      "        nan        nan        nan 0.52233998 0.52204587        nan\n",
      " 0.52233998 0.52233998        nan        nan 0.51969249        nan\n",
      " 0.51969293 0.52145634 0.52204371 0.52233826 0.52145634 0.52145634\n",
      "        nan        nan        nan        nan        nan 0.52233998\n",
      " 0.52204587        nan 0.52233998 0.5226341         nan        nan\n",
      "        nan        nan 0.51969293 0.52204543 0.52204543        nan\n",
      " 0.52204543 0.52204543        nan        nan        nan        nan\n",
      "        nan 0.52233998 0.52204587        nan 0.52233998 0.52233998\n",
      "        nan        nan 0.52351257        nan 0.52204328 0.52204587\n",
      " 0.52233998 0.52322147 0.52204587 0.52204587        nan        nan\n",
      "        nan        nan        nan 0.52233998 0.52204587        nan\n",
      " 0.52233998 0.52233998        nan        nan 0.52351257        nan\n",
      " 0.52204328 0.52204587 0.52233998 0.52322147 0.52204587 0.52204587\n",
      "        nan        nan        nan        nan        nan 0.52233998\n",
      " 0.52204587        nan 0.52233998 0.52233998        nan        nan\n",
      "        nan        nan 0.52204328 0.52204587 0.52204587        nan\n",
      " 0.52204587 0.52204587        nan        nan        nan        nan\n",
      "        nan 0.52233998 0.52204587        nan 0.52233998 0.52233998\n",
      "        nan        nan 0.52233998        nan 0.52233998 0.52233998\n",
      " 0.52204587 0.52233998 0.52204587 0.52233998        nan        nan\n",
      "        nan        nan        nan 0.52233998 0.52204587        nan\n",
      " 0.52233998 0.52233998        nan        nan 0.52233998        nan\n",
      " 0.52233998 0.52233998 0.52204587 0.52233998 0.52233998 0.52204587\n",
      "        nan        nan        nan        nan        nan 0.52233998\n",
      " 0.52204587        nan 0.52233998 0.52233998        nan        nan\n",
      "        nan        nan 0.52233998 0.52233998 0.52233998        nan\n",
      " 0.52233998 0.52233998        nan        nan        nan        nan\n",
      "        nan 0.52233998 0.52204587        nan 0.52233998 0.52233998\n",
      "        nan        nan 0.52233998        nan 0.52233998 0.52233998\n",
      " 0.52204587 0.52233998 0.52233998 0.52233998        nan        nan\n",
      "        nan        nan        nan 0.52233998 0.52204587        nan\n",
      " 0.52233998 0.52233998        nan        nan 0.52233998        nan\n",
      " 0.52233998 0.52233998 0.52204587 0.52233998 0.52233998 0.52233998\n",
      "        nan        nan        nan        nan        nan 0.52233998\n",
      " 0.52204587        nan 0.52233998 0.52233998        nan        nan\n",
      "        nan        nan 0.52233998 0.52233998 0.52204587        nan\n",
      " 0.52233998 0.52233998        nan        nan        nan        nan\n",
      "        nan 0.52233998 0.52204587        nan 0.52233998 0.52233998]\n",
      "  warnings.warn(\n",
      "/home/sungjin/Documents/Programming/python/venv/lib/python3.8/site-packages/sklearn/model_selection/_search.py:918: UserWarning: One or more of the train scores are non-finite: [       nan        nan 0.4988245         nan 0.50154317 0.51014109\n",
      " 0.51014109 0.50881832 0.50999408 0.51014109        nan        nan\n",
      "        nan        nan        nan 0.53593443 0.53615486        nan\n",
      " 0.53615486 0.53593443        nan        nan 0.4988245         nan\n",
      " 0.50146962 0.51014109 0.51014109 0.50881832 0.51014109 0.51014109\n",
      "        nan        nan        nan        nan        nan 0.53593443\n",
      " 0.53615486        nan 0.53615486 0.53593443        nan        nan\n",
      "        nan        nan 0.50132266 0.51587376 0.51587376        nan\n",
      " 0.51587376 0.51587376        nan        nan        nan        nan\n",
      "        nan 0.53593443 0.53615486        nan 0.53593443 0.53593443\n",
      "        nan        nan 0.4988245         nan 0.49875073 0.5318925\n",
      " 0.5318925  0.52594008 0.5318925  0.5318925         nan        nan\n",
      "        nan        nan        nan 0.53593443 0.53615486        nan\n",
      " 0.53593443 0.53593443        nan        nan 0.4988245         nan\n",
      " 0.50154317 0.5318925  0.5318925  0.52594008 0.5318925  0.5318925\n",
      "        nan        nan        nan        nan        nan 0.53593443\n",
      " 0.53615486        nan 0.53593443 0.53593443        nan        nan\n",
      "        nan        nan 0.50146962 0.53071657 0.53071657        nan\n",
      " 0.53071657 0.53071657        nan        nan        nan        nan\n",
      "        nan 0.53593443 0.53615486        nan 0.53593443 0.53593443\n",
      "        nan        nan 0.4988245         nan 0.50198402 0.53490621\n",
      " 0.53490621 0.53292162 0.53490621 0.53483271        nan        nan\n",
      "        nan        nan        nan 0.53593443 0.53615486        nan\n",
      " 0.53593443 0.53593443        nan        nan 0.4988245         nan\n",
      " 0.50198402 0.53490621 0.53490621 0.53292162 0.53490621 0.53490621\n",
      "        nan        nan        nan        nan        nan 0.53593443\n",
      " 0.53615486        nan 0.53593443 0.53593443        nan        nan\n",
      "        nan        nan 0.50198402 0.53475891 0.53475891        nan\n",
      " 0.53475891 0.53475891        nan        nan        nan        nan\n",
      "        nan 0.53593443 0.53615486        nan 0.53593443 0.53593443\n",
      "        nan        nan 0.53240713        nan 0.53196684 0.53593462\n",
      " 0.53600812 0.53666954 0.53593462 0.53593462        nan        nan\n",
      "        nan        nan        nan 0.53593443 0.53615486        nan\n",
      " 0.53593443 0.53593443        nan        nan 0.53240713        nan\n",
      " 0.53196684 0.53593462 0.53600812 0.53666954 0.53593462 0.53593462\n",
      "        nan        nan        nan        nan        nan 0.53593443\n",
      " 0.53615486        nan 0.53593443 0.53615486        nan        nan\n",
      "        nan        nan 0.53196684 0.53564045 0.53564045        nan\n",
      " 0.53564045 0.53564045        nan        nan        nan        nan\n",
      "        nan 0.53593443 0.53615486        nan 0.53593443 0.53593443\n",
      "        nan        nan 0.53608176        nan 0.53461185 0.53615486\n",
      " 0.53637528 0.53674272 0.53615486 0.53615486        nan        nan\n",
      "        nan        nan        nan 0.53593443 0.53615486        nan\n",
      " 0.53593443 0.53593443        nan        nan 0.53608176        nan\n",
      " 0.53461185 0.53615486 0.53637528 0.53674272 0.53615486 0.53615486\n",
      "        nan        nan        nan        nan        nan 0.53593443\n",
      " 0.53615486        nan 0.53593443 0.53593443        nan        nan\n",
      "        nan        nan 0.53461185 0.53615486 0.53615486        nan\n",
      " 0.53615486 0.53615486        nan        nan        nan        nan\n",
      "        nan 0.53593443 0.53615486        nan 0.53593443 0.53593443\n",
      "        nan        nan 0.53630181        nan 0.53630181 0.53593443\n",
      " 0.53615486 0.53593443 0.53615486 0.53593443        nan        nan\n",
      "        nan        nan        nan 0.53593443 0.53615486        nan\n",
      " 0.53593443 0.53593443        nan        nan 0.53630181        nan\n",
      " 0.53630181 0.53593443 0.53615486 0.53593443 0.53593443 0.53615486\n",
      "        nan        nan        nan        nan        nan 0.53593443\n",
      " 0.53615486        nan 0.53593443 0.53593443        nan        nan\n",
      "        nan        nan 0.53630181 0.53593443 0.53593443        nan\n",
      " 0.53593443 0.53593443        nan        nan        nan        nan\n",
      "        nan 0.53593443 0.53615486        nan 0.53593443 0.53593443\n",
      "        nan        nan 0.53593443        nan 0.53593443 0.53593443\n",
      " 0.53615486 0.53593443 0.53593443 0.53593443        nan        nan\n",
      "        nan        nan        nan 0.53593443 0.53615486        nan\n",
      " 0.53593443 0.53593443        nan        nan 0.53593443        nan\n",
      " 0.53593443 0.53593443 0.53615486 0.53593443 0.53593443 0.53593443\n",
      "        nan        nan        nan        nan        nan 0.53593443\n",
      " 0.53615486        nan 0.53593443 0.53593443        nan        nan\n",
      "        nan        nan 0.53593443 0.53593443 0.53615486        nan\n",
      " 0.53593443 0.53593443        nan        nan        nan        nan\n",
      "        nan 0.53593443 0.53615486        nan 0.53593443 0.53593443]\n",
      "  warnings.warn(\n"
     ]
    }
   ],
   "source": [
    "log_hyper_params = [ \n",
    "                        {\n",
    "                        'C': np.logspace(-4, 2, 7),\n",
    "                        'solver' : ['newton-cg', 'lbfgs', 'liblinear', 'sag', 'saga'],\n",
    "                        'penalty' : ['l1', 'l2', 'elasticnet', 'none'],\n",
    "                        'multi_class' : ['auto', 'ovr', 'multinomial']\n",
    "                        }\n",
    "                    ]\n",
    "\n",
    "# specify model\n",
    "log_model = LogisticRegression()\n",
    "\n",
    "# set up GridSearchCV()\n",
    "log_model_cv = GridSearchCV(estimator = log_model, \n",
    "                            param_grid = log_hyper_params, \n",
    "                            scoring= 'accuracy', \n",
    "                            cv = folds, \n",
    "                            verbose = 2,\n",
    "                            return_train_score=True,\n",
    "                            n_jobs=-1)  \n",
    "\n",
    "# fit the model\n",
    "log_model_cv.fit(X_train, y_train)\n",
    "print(\"best hyper parameters\", log_model_cv.best_params_)\n",
    "log_y_pred = log_model_cv.predict(X_test)\n",
    "\n",
    "# accuracy \n",
    "print(\"Accuracy:\", metrics.accuracy_score(y_test, log_y_pred))\n",
    "# f1 score \n",
    "print(\"F1 score micro:\", f1_score(y_test, log_y_pred, average='micro'))\n",
    "print(\"F1 score binary:\", f1_score(y_test, log_y_pred, average='binary'))\n",
    "\n",
    "print(\"\\nclassification report:\\n\", classification_report(y_test, log_y_pred))"
   ]
  },
  {
   "cell_type": "code",
   "execution_count": 25,
   "metadata": {
    "colab": {
     "base_uri": "https://localhost:8080/",
     "height": 382
    },
    "id": "xVknib0WiknW",
    "outputId": "6ef34dc5-ea9f-4efc-f1b4-6dfbe6b3e452"
   },
   "outputs": [
    {
     "name": "stdout",
     "output_type": "stream",
     "text": [
      "[learning_curve] Training set sizes: [ 544  658  773  887 1002 1117 1231 1346 1460 1575 1689 1804 1919 2033\n",
      " 2148 2262 2377 2491 2606 2721]\n"
     ]
    },
    {
     "name": "stderr",
     "output_type": "stream",
     "text": [
      "[Parallel(n_jobs=-1)]: Using backend LokyBackend with 12 concurrent workers.\n",
      "[Parallel(n_jobs=-1)]: Done  50 out of 100 | elapsed:    0.1s remaining:    0.1s\n",
      "[Parallel(n_jobs=-1)]: Done 100 out of 100 | elapsed:    0.2s finished\n"
     ]
    },
    {
     "data": {
      "image/png": "[encoded data removed]",
      "text/plain": [
       "<Figure size 432x288 with 1 Axes>"
      ]
     },
     "metadata": {
      "needs_background": "light"
     },
     "output_type": "display_data"
    }
   ],
   "source": [
    "plot_model = LogisticRegression(C=0.01, multi_class='auto', penalty='l2', solver='liblinear')\n",
    "\n",
    "train_sizes_seed500, train_scores_seed500, val_scores_seed500 = learning_curve(plot_model, \n",
    "                                                                X_train, \n",
    "                                                                y_train, \n",
    "                                                                cv=5, \n",
    "                                                                scoring='accuracy', \n",
    "                                                                n_jobs=-1, # 이거 바꾸고 싶으면 바꾸고  \n",
    "                                                                train_sizes=np.linspace(0.2, 1, 20), \n",
    "                                                                verbose=2)\n",
    "\n",
    "\n",
    "train_mean_seed500 = np.mean(train_scores_seed500, axis = 1)\n",
    "train_std_seed500  = np.std(train_scores_seed500, axis=1)\n",
    "val_mean_seed500   = np.mean(val_scores_seed500, axis=1)\n",
    "val_std_seed500    = np.std(val_scores_seed500, axis=1)\n",
    "\n",
    "plt.plot(train_sizes_seed500, train_mean_seed500, label='Training accuracy')\n",
    "plt.plot(train_sizes_seed500, val_mean_seed500,   label='Cross-validation accuracy')\n",
    "plt.title ('Learning curve')\n",
    "plt.xlabel('Training Size')\n",
    "plt.ylabel('Accuracy score')\n",
    "plt.legend(loc='best')\n",
    "plt.show()"
   ]
  },
  {
   "cell_type": "code",
   "execution_count": 171,
   "metadata": {
    "id": "vu1Uhn9ViknX"
   },
   "outputs": [],
   "source": [
    "# learning curve considering different seeds "
   ]
  },
  {
   "cell_type": "code",
   "execution_count": 26,
   "metadata": {
    "id": "D4iB49w5iknX"
   },
   "outputs": [],
   "source": [
    "acc_avg = list()\n",
    "acc_se  = list()\n",
    "\n",
    "val_avg = list()\n",
    "val_se  = list()\n",
    "\n",
    "for i in range(len(train_sizes_seed100)):\n",
    "    acc_avg.append(np.mean([train_mean_seed100[i], train_mean_seed500[i], train_mean_seed1234[i]]))\n",
    "    acc_se .append(np.std ([train_mean_seed100[i], train_mean_seed500[i], train_mean_seed1234[i]]) / np.sqrt(3))\n",
    "    \n",
    "    val_avg.append(np.mean([val_mean_seed100[i], val_mean_seed500[i], val_mean_seed1234[i]]))\n",
    "    val_se .append(np.std ([val_mean_seed100[i], val_mean_seed500[i], val_mean_seed1234[i]]) / np.sqrt(3))"
   ]
  },
  {
   "cell_type": "code",
   "execution_count": 27,
   "metadata": {
    "colab": {
     "base_uri": "https://localhost:8080/",
     "height": 404
    },
    "id": "HBORt27SiknX",
    "outputId": "0e63a5ce-8d46-460b-f261-cb8df358677b"
   },
   "outputs": [
    {
     "data": {
      "image/png": "[encoded data removed]",
      "text/plain": [
       "<Figure size 576x432 with 1 Axes>"
      ]
     },
     "metadata": {
      "needs_background": "light"
     },
     "output_type": "display_data"
    }
   ],
   "source": [
    "fig, ax = plt.subplots(figsize=(8, 6))\n",
    "\n",
    "ax.plot(train_sizes_seed100, acc_avg, c='darkred', label='Training accuracy')\n",
    "ax.fill_between(train_sizes_seed100, np.subtract(acc_avg, acc_se), np.add(acc_avg, acc_se), color='lightcoral', alpha=0.5)\n",
    "\n",
    "ax.plot(train_sizes_seed100, val_avg, c='darkgreen', label='Validation accuracy')\n",
    "ax.fill_between(train_sizes_seed100, np.subtract(val_avg, val_se), np.add(val_avg, val_se), color='lime', alpha=0.5)\n",
    "\n",
    "ax.set_xlabel('Training Size')\n",
    "ax.set_ylabel('Accuracy')\n",
    "ax.set_title('Logistic Regression Sampled prim_diag')\n",
    "ax.axhline(y=0.5, color='blue', linestyle='-', label='Random Guess')\n",
    "ax.legend()\n",
    "ax.grid()"
   ]
  },
  {
   "cell_type": "markdown",
   "metadata": {},
   "source": [
    "The training and validation curve look like it is converging. Although they converge, the error is quite high. This indicates that it is unlikely to have the relationship between screen time and mental health. Maybe LR model is not appropriate to find the relationship."
   ]
  },
  {
   "cell_type": "markdown",
   "metadata": {
    "id": "NGUlv63WiknX"
   },
   "source": [
    "# KNN"
   ]
  },
  {
   "cell_type": "markdown",
   "metadata": {
    "id": "iiggWIdgiknX"
   },
   "source": [
    "## Seed 100"
   ]
  },
  {
   "cell_type": "code",
   "execution_count": 28,
   "metadata": {
    "id": "HQvaOtGNiknY"
   },
   "outputs": [],
   "source": [
    "seed = 100\n",
    "X_train, X_test, y_train, y_test = train_test_split(X_s, y_s, test_size=0.3, random_state=seed)  \n",
    "folds = KFold(n_splits = 5, shuffle = True, random_state=seed)"
   ]
  },
  {
   "cell_type": "code",
   "execution_count": 29,
   "metadata": {
    "id": "piT8c5bLiknY"
   },
   "outputs": [
    {
     "name": "stdout",
     "output_type": "stream",
     "text": [
      "Fitting 5 folds for each of 800 candidates, totalling 4000 fits\n",
      "best hyper parameters {'algorithm': 'auto', 'leaf_size': 45, 'n_neighbors': 12, 'weights': 'distance'}\n",
      "Accuracy: 0.6165980795610425\n",
      "F1 score micro: 0.6165980795610425\n",
      "F1 score binary: 0.6049469964664312\n",
      "\n",
      "classification report:\n",
      "               precision    recall  f1-score   support\n",
      "\n",
      "         0.0       0.62      0.64      0.63       737\n",
      "         1.0       0.62      0.59      0.60       721\n",
      "\n",
      "    accuracy                           0.62      1458\n",
      "   macro avg       0.62      0.62      0.62      1458\n",
      "weighted avg       0.62      0.62      0.62      1458\n",
      "\n"
     ]
    }
   ],
   "source": [
    "knn_hyper_params = [ \n",
    "                        {\n",
    "                        'weights' : ['uniform', 'distance'],\n",
    "                        'algorithm' : ['auto', 'ball_tree', 'kd_tree', 'brute'],\n",
    "                        'leaf_size' : np.linspace(2, 100, 10, dtype=int),\n",
    "                        'n_neighbors' : [int(x) for x in np.linspace(2, 50, 10)]\n",
    "                        }\n",
    "                    ]\n",
    "\n",
    "# specify model\n",
    "\n",
    "# THIS SECTION SHOULD BE CHANGED.\n",
    "# n_neighbors  SHOULD BE MODIFIED TO ANOTHER VALUE DEPENDING ON THE TARGET VALUE.\n",
    "knn_model = KNeighborsClassifier()\n",
    "\n",
    "# set up GridSearchCV()\n",
    "knn_model_cv = GridSearchCV(estimator = knn_model, \n",
    "                            param_grid = knn_hyper_params, \n",
    "                            scoring= 'accuracy', \n",
    "                            cv = folds, \n",
    "                            verbose = 2,\n",
    "                            return_train_score=True,\n",
    "                            n_jobs=-1)  \n",
    "\n",
    "# fit the model\n",
    "knn_model_cv.fit(X_train, y_train)\n",
    "print(\"best hyper parameters\", knn_model_cv.best_params_)\n",
    "knn_y_pred = knn_model_cv.predict(X_test)\n",
    "\n",
    "# accuracy \n",
    "print(\"Accuracy:\", metrics.accuracy_score(y_test, knn_y_pred))\n",
    "# f1 score \n",
    "print(\"F1 score micro:\", f1_score(y_test, knn_y_pred, average='micro'))\n",
    "print(\"F1 score binary:\", f1_score(y_test, knn_y_pred, average='binary'))\n",
    "\n",
    "print(\"\\nclassification report:\\n\", classification_report(y_test, knn_y_pred))"
   ]
  },
  {
   "cell_type": "code",
   "execution_count": 30,
   "metadata": {
    "colab": {
     "base_uri": "https://localhost:8080/",
     "height": 382
    },
    "id": "gQ-ciWVIiknZ",
    "outputId": "4aa4f150-b98f-479b-a2f9-03b2d6237439"
   },
   "outputs": [
    {
     "name": "stdout",
     "output_type": "stream",
     "text": [
      "[learning_curve] Training set sizes: [ 544  658  773  887 1002 1117 1231 1346 1460 1575 1689 1804 1919 2033\n",
      " 2148 2262 2377 2491 2606 2721]\n"
     ]
    },
    {
     "name": "stderr",
     "output_type": "stream",
     "text": [
      "[Parallel(n_jobs=-1)]: Using backend LokyBackend with 12 concurrent workers.\n",
      "[Parallel(n_jobs=-1)]: Done  50 out of 100 | elapsed:    0.3s remaining:    0.3s\n",
      "[Parallel(n_jobs=-1)]: Done 100 out of 100 | elapsed:    0.4s finished\n"
     ]
    },
    {
     "data": {
      "image/png": "[encoded data removed]",
      "text/plain": [
       "<Figure size 432x288 with 1 Axes>"
      ]
     },
     "metadata": {
      "needs_background": "light"
     },
     "output_type": "display_data"
    }
   ],
   "source": [
    "# ------ HERE ------\n",
    "\n",
    "# plug in suitable hyper-parameters\n",
    "\n",
    "\n",
    "# 여기만 바꾸면 된다. \n",
    "plot_model = KNeighborsClassifier(algorithm='auto', leaf_size=45, weights='distance', n_neighbors=12)\n",
    "\n",
    "\n",
    "train_sizes_seed100, train_scores_seed100, val_scores_seed100 = learning_curve(plot_model, \n",
    "                                                                X_train, \n",
    "                                                                y_train, \n",
    "                                                                cv=5, \n",
    "                                                                scoring='accuracy', \n",
    "                                                                n_jobs=-1, # 이거 바꾸고 싶으면 바꾸고  \n",
    "                                                                train_sizes=np.linspace(0.2, 1, 20), \n",
    "                                                                verbose=2)\n",
    "\n",
    "\n",
    "train_mean_seed100 = np.mean(train_scores_seed100, axis = 1)\n",
    "train_std_seed100  = np.std(train_scores_seed100, axis=1)\n",
    "val_mean_seed100   = np.mean(val_scores_seed100, axis=1)\n",
    "val_std_seed100    = np.std(val_scores_seed100, axis=1)\n",
    "\n",
    "plt.plot(train_sizes_seed100, train_mean_seed100, label='Training accuracy')\n",
    "plt.plot(train_sizes_seed100, val_mean_seed100,   label='Cross-validation accuracy')\n",
    "plt.title ('Learning curve')\n",
    "plt.xlabel('Training Size')\n",
    "plt.ylabel('Accuracy score')\n",
    "plt.legend(loc='best')\n",
    "plt.show()"
   ]
  },
  {
   "cell_type": "markdown",
   "metadata": {
    "id": "-YvozWatikna"
   },
   "source": [
    "## Seed 1234"
   ]
  },
  {
   "cell_type": "code",
   "execution_count": 31,
   "metadata": {
    "id": "VV6ihyyLikna"
   },
   "outputs": [],
   "source": [
    "seed = 1234\n",
    "X_train, X_test, y_train, y_test = train_test_split(X_s, y_s, test_size=0.3, random_state=seed)  \n",
    "folds = KFold(n_splits = 5, shuffle = True, random_state=seed)"
   ]
  },
  {
   "cell_type": "code",
   "execution_count": 32,
   "metadata": {
    "id": "bETJZcxHikna"
   },
   "outputs": [
    {
     "name": "stdout",
     "output_type": "stream",
     "text": [
      "Fitting 5 folds for each of 800 candidates, totalling 4000 fits\n",
      "best hyper parameters {'algorithm': 'ball_tree', 'leaf_size': 23, 'n_neighbors': 44, 'weights': 'distance'}\n",
      "Accuracy: 0.6200274348422496\n",
      "F1 score micro: 0.6200274348422496\n",
      "F1 score binary: 0.6266846361185984\n",
      "\n",
      "classification report:\n",
      "               precision    recall  f1-score   support\n",
      "\n",
      "         0.0       0.63      0.60      0.61       731\n",
      "         1.0       0.61      0.64      0.63       727\n",
      "\n",
      "    accuracy                           0.62      1458\n",
      "   macro avg       0.62      0.62      0.62      1458\n",
      "weighted avg       0.62      0.62      0.62      1458\n",
      "\n"
     ]
    }
   ],
   "source": [
    "knn_hyper_params = [ \n",
    "                        {\n",
    "                        'weights' : ['uniform', 'distance'],\n",
    "                        'algorithm' : ['auto', 'ball_tree', 'kd_tree', 'brute'],\n",
    "                        'leaf_size' : np.linspace(2, 100, 10, dtype=int),\n",
    "                        'n_neighbors' : [int(x) for x in np.linspace(2, 50, 10)]\n",
    "                        }\n",
    "                    ]\n",
    "\n",
    "# specify model\n",
    "\n",
    "# THIS SECTION SHOULD BE CHANGED.\n",
    "# n_neighbors  SHOULD BE MODIFIED TO ANOTHER VALUE DEPENDING ON THE TARGET VALUE.\n",
    "knn_model = KNeighborsClassifier()\n",
    "\n",
    "# set up GridSearchCV()\n",
    "knn_model_cv = GridSearchCV(estimator = knn_model, \n",
    "                            param_grid = knn_hyper_params, \n",
    "                            scoring= 'accuracy', \n",
    "                            cv = folds, \n",
    "                            verbose = 2,\n",
    "                            return_train_score=True,\n",
    "                            n_jobs=-1)  \n",
    "\n",
    "# fit the model\n",
    "knn_model_cv.fit(X_train, y_train)\n",
    "print(\"best hyper parameters\", knn_model_cv.best_params_)\n",
    "knn_y_pred = knn_model_cv.predict(X_test)\n",
    "\n",
    "# accuracy \n",
    "print(\"Accuracy:\", metrics.accuracy_score(y_test, knn_y_pred))\n",
    "# f1 score \n",
    "print(\"F1 score micro:\", f1_score(y_test, knn_y_pred, average='micro'))\n",
    "print(\"F1 score binary:\", f1_score(y_test, knn_y_pred, average='binary'))\n",
    "\n",
    "print(\"\\nclassification report:\\n\", classification_report(y_test, knn_y_pred))"
   ]
  },
  {
   "cell_type": "code",
   "execution_count": 33,
   "metadata": {
    "colab": {
     "base_uri": "https://localhost:8080/",
     "height": 382
    },
    "id": "rPVd4M8Mikna",
    "outputId": "cd6b1ae4-e545-4d53-f7e6-dfddc21fd09a"
   },
   "outputs": [
    {
     "name": "stdout",
     "output_type": "stream",
     "text": [
      "[learning_curve] Training set sizes: [ 544  658  773  887 1002 1117 1231 1346 1460 1575 1689 1804 1919 2033\n",
      " 2148 2262 2377 2491 2606 2721]\n"
     ]
    },
    {
     "name": "stderr",
     "output_type": "stream",
     "text": [
      "[Parallel(n_jobs=-1)]: Using backend LokyBackend with 12 concurrent workers.\n",
      "[Parallel(n_jobs=-1)]: Done  50 out of 100 | elapsed:    0.4s remaining:    0.4s\n",
      "[Parallel(n_jobs=-1)]: Done 100 out of 100 | elapsed:    0.7s finished\n"
     ]
    },
    {
     "data": {
      "image/png": "[encoded data removed]",
      "text/plain": [
       "<Figure size 432x288 with 1 Axes>"
      ]
     },
     "metadata": {
      "needs_background": "light"
     },
     "output_type": "display_data"
    }
   ],
   "source": [
    "plot_model = KNeighborsClassifier(algorithm='ball_tree', leaf_size=23, weights='distance', n_neighbors=44)\n",
    "\n",
    "train_sizes_seed1234, train_scores_seed1234, val_scores_seed1234 = learning_curve(plot_model, \n",
    "                                                                X_train, \n",
    "                                                                y_train, \n",
    "                                                                cv=5, \n",
    "                                                                scoring='accuracy', \n",
    "                                                                n_jobs=-1, # 이거 바꾸고 싶으면 바꾸고  \n",
    "                                                                train_sizes=np.linspace(0.2, 1, 20), \n",
    "                                                                verbose=2)\n",
    "\n",
    "\n",
    "train_mean_seed1234 = np.mean(train_scores_seed1234, axis = 1)\n",
    "train_std_seed1234  = np.std(train_scores_seed1234, axis=1)\n",
    "val_mean_seed1234   = np.mean(val_scores_seed1234, axis=1)\n",
    "val_std_seed1234    = np.std(val_scores_seed1234, axis=1)\n",
    "\n",
    "plt.plot(train_sizes_seed1234, train_mean_seed1234, label='Training accuracy')\n",
    "plt.plot(train_sizes_seed1234, val_mean_seed1234,   label='Cross-validation accuracy')\n",
    "plt.title ('Learning curve')\n",
    "plt.xlabel('Training Size')\n",
    "plt.ylabel('Accuracy score')\n",
    "plt.legend(loc='best')\n",
    "plt.show()"
   ]
  },
  {
   "cell_type": "markdown",
   "metadata": {
    "id": "t5htSu2zikna"
   },
   "source": [
    "## Seed 500"
   ]
  },
  {
   "cell_type": "code",
   "execution_count": 34,
   "metadata": {
    "id": "CdDMzagvikna"
   },
   "outputs": [],
   "source": [
    "seed = 500\n",
    "X_train, X_test, y_train, y_test = train_test_split(X_s, y_s, test_size=0.3, random_state=seed)  \n",
    "folds = KFold(n_splits = 5, shuffle = True, random_state=seed)"
   ]
  },
  {
   "cell_type": "code",
   "execution_count": 35,
   "metadata": {
    "id": "_YUwJnEKikna"
   },
   "outputs": [
    {
     "name": "stdout",
     "output_type": "stream",
     "text": [
      "Fitting 5 folds for each of 800 candidates, totalling 4000 fits\n",
      "best hyper parameters {'algorithm': 'ball_tree', 'leaf_size': 89, 'n_neighbors': 28, 'weights': 'distance'}\n",
      "Accuracy: 0.6227709190672154\n",
      "F1 score micro: 0.6227709190672154\n",
      "F1 score binary: 0.6283783783783784\n",
      "\n",
      "classification report:\n",
      "               precision    recall  f1-score   support\n",
      "\n",
      "         0.0       0.63      0.60      0.62       733\n",
      "         1.0       0.62      0.64      0.63       725\n",
      "\n",
      "    accuracy                           0.62      1458\n",
      "   macro avg       0.62      0.62      0.62      1458\n",
      "weighted avg       0.62      0.62      0.62      1458\n",
      "\n"
     ]
    }
   ],
   "source": [
    "knn_hyper_params = [ \n",
    "                        {\n",
    "                        'weights' : ['uniform', 'distance'],\n",
    "                        'algorithm' : ['auto', 'ball_tree', 'kd_tree', 'brute'],\n",
    "                        'leaf_size' : np.linspace(2, 100, 10, dtype=int),\n",
    "                        'n_neighbors' : [int(x) for x in np.linspace(2, 50, 10)]\n",
    "                        }\n",
    "                    ]\n",
    "\n",
    "# specify model\n",
    "\n",
    "# THIS SECTION SHOULD BE CHANGED.\n",
    "# n_neighbors  SHOULD BE MODIFIED TO ANOTHER VALUE DEPENDING ON THE TARGET VALUE.\n",
    "knn_model = KNeighborsClassifier()\n",
    "\n",
    "# set up GridSearchCV()\n",
    "knn_model_cv = GridSearchCV(estimator = knn_model, \n",
    "                            param_grid = knn_hyper_params, \n",
    "                            scoring= 'accuracy', \n",
    "                            cv = folds, \n",
    "                            verbose = 2,\n",
    "                            return_train_score=True,\n",
    "                            n_jobs=-1)  \n",
    "\n",
    "# fit the model\n",
    "knn_model_cv.fit(X_train, y_train)\n",
    "print(\"best hyper parameters\", knn_model_cv.best_params_)\n",
    "knn_y_pred = knn_model_cv.predict(X_test)\n",
    "\n",
    "# accuracy \n",
    "print(\"Accuracy:\", metrics.accuracy_score(y_test, knn_y_pred))\n",
    "# f1 score \n",
    "print(\"F1 score micro:\", f1_score(y_test, knn_y_pred, average='micro'))\n",
    "print(\"F1 score binary:\", f1_score(y_test, knn_y_pred, average='binary'))\n",
    "\n",
    "print(\"\\nclassification report:\\n\", classification_report(y_test, knn_y_pred))"
   ]
  },
  {
   "cell_type": "code",
   "execution_count": 36,
   "metadata": {
    "colab": {
     "base_uri": "https://localhost:8080/",
     "height": 382
    },
    "id": "Yymvz_wViknb",
    "outputId": "45befce6-58a3-41a8-ab54-3350c4107218"
   },
   "outputs": [
    {
     "name": "stdout",
     "output_type": "stream",
     "text": [
      "[learning_curve] Training set sizes: [ 544  658  773  887 1002 1117 1231 1346 1460 1575 1689 1804 1919 2033\n",
      " 2148 2262 2377 2491 2606 2721]\n"
     ]
    },
    {
     "name": "stderr",
     "output_type": "stream",
     "text": [
      "[Parallel(n_jobs=-1)]: Using backend LokyBackend with 12 concurrent workers.\n",
      "[Parallel(n_jobs=-1)]: Done  50 out of 100 | elapsed:    0.4s remaining:    0.4s\n",
      "[Parallel(n_jobs=-1)]: Done 100 out of 100 | elapsed:    0.6s finished\n"
     ]
    },
    {
     "data": {
      "image/png": "[encoded data removed]",
      "text/plain": [
       "<Figure size 432x288 with 1 Axes>"
      ]
     },
     "metadata": {
      "needs_background": "light"
     },
     "output_type": "display_data"
    }
   ],
   "source": [
    "plot_model = KNeighborsClassifier(algorithm='ball_tree', leaf_size=89, weights='distance', n_neighbors=28)\n",
    "\n",
    "train_sizes_seed500, train_scores_seed500, val_scores_seed500 = learning_curve(plot_model, \n",
    "                                                                X_train, \n",
    "                                                                y_train, \n",
    "                                                                cv=5, \n",
    "                                                                scoring='accuracy', \n",
    "                                                                n_jobs=-1, # 이거 바꾸고 싶으면 바꾸고  \n",
    "                                                                train_sizes=np.linspace(0.2, 1, 20), \n",
    "                                                                verbose=2)\n",
    "\n",
    "\n",
    "train_mean_seed500 = np.mean(train_scores_seed500, axis = 1)\n",
    "train_std_seed500  = np.std(train_scores_seed500, axis=1)\n",
    "val_mean_seed500   = np.mean(val_scores_seed500, axis=1)\n",
    "val_std_seed500    = np.std(val_scores_seed500, axis=1)\n",
    "\n",
    "plt.plot(train_sizes_seed500, train_mean_seed500, label='Training accuracy')\n",
    "plt.plot(train_sizes_seed500, val_mean_seed500,   label='Cross-validation accuracy')\n",
    "plt.title ('Learning curve')\n",
    "plt.xlabel('Training Size')\n",
    "plt.ylabel('Accuracy score')\n",
    "plt.legend(loc='best')\n",
    "plt.show()"
   ]
  },
  {
   "cell_type": "code",
   "execution_count": 183,
   "metadata": {
    "id": "IHBu_U0Qiknc"
   },
   "outputs": [],
   "source": [
    "# learning curve considering different seeds"
   ]
  },
  {
   "cell_type": "code",
   "execution_count": 37,
   "metadata": {
    "id": "PYUqbPNpiknc"
   },
   "outputs": [],
   "source": [
    "acc_avg = list()\n",
    "acc_se  = list()\n",
    "\n",
    "val_avg = list()\n",
    "val_se  = list()\n",
    "\n",
    "for i in range(len(train_sizes_seed100)):\n",
    "    acc_avg.append(np.mean([train_mean_seed100[i], train_mean_seed500[i], train_mean_seed1234[i]]))\n",
    "    acc_se .append(np.std ([train_mean_seed100[i], train_mean_seed500[i], train_mean_seed1234[i]]) / np.sqrt(3))\n",
    "    \n",
    "    val_avg.append(np.mean([val_mean_seed100[i], val_mean_seed500[i], val_mean_seed1234[i]]))\n",
    "    val_se .append(np.std ([val_mean_seed100[i], val_mean_seed500[i], val_mean_seed1234[i]]) / np.sqrt(3))"
   ]
  },
  {
   "cell_type": "code",
   "execution_count": 38,
   "metadata": {
    "colab": {
     "base_uri": "https://localhost:8080/",
     "height": 404
    },
    "id": "0ziXdCRviknc",
    "outputId": "8616efc8-b523-4ff9-f5d9-6680afddb3f9"
   },
   "outputs": [
    {
     "data": {
      "image/png": "[encoded data removed]",
      "text/plain": [
       "<Figure size 576x432 with 1 Axes>"
      ]
     },
     "metadata": {
      "needs_background": "light"
     },
     "output_type": "display_data"
    }
   ],
   "source": [
    "fig, ax = plt.subplots(figsize=(8, 6))\n",
    "\n",
    "ax.plot(train_sizes_seed100, acc_avg, c='darkred', label='Training accuracy')\n",
    "ax.fill_between(train_sizes_seed100, np.subtract(acc_avg, acc_se), np.add(acc_avg, acc_se), color='lightcoral', alpha=0.5)\n",
    "\n",
    "ax.plot(train_sizes_seed100, val_avg, c='darkgreen', label='Validation accuracy')\n",
    "ax.fill_between(train_sizes_seed100, np.subtract(val_avg, val_se), np.add(val_avg, val_se), color='lime', alpha=0.5)\n",
    "\n",
    "ax.set_xlabel('Training Size')\n",
    "ax.set_ylabel('Accuracy')\n",
    "ax.set_title('KNN Sampled prim_diag')\n",
    "ax.axhline(y=0.5, color='blue', linestyle='-', label='Random Guess: Always predict no depression')\n",
    "ax.legend()\n",
    "ax.grid()"
   ]
  },
  {
   "cell_type": "markdown",
   "metadata": {},
   "source": [
    "The error is high. Also, it seems like they are not converging. KNN is not a valid model for detecting the relationship between screen time and mental health?"
   ]
  },
  {
   "cell_type": "markdown",
   "metadata": {
    "id": "IM0k9-Omiknc"
   },
   "source": [
    "# Random Forest"
   ]
  },
  {
   "cell_type": "markdown",
   "metadata": {
    "id": "GRKqzoQ-iknc"
   },
   "source": [
    "## Seed 100"
   ]
  },
  {
   "cell_type": "code",
   "execution_count": 39,
   "metadata": {
    "id": "67iZ5NsQikne"
   },
   "outputs": [],
   "source": [
    "seed = 100\n",
    "X_train, X_test, y_train, y_test = train_test_split(X_s, y_s, test_size=0.3, random_state=seed)  \n",
    "folds = KFold(n_splits = 5, shuffle = True, random_state=seed)"
   ]
  },
  {
   "cell_type": "code",
   "execution_count": 40,
   "metadata": {
    "id": "446VbQq2ikne"
   },
   "outputs": [
    {
     "name": "stdout",
     "output_type": "stream",
     "text": [
      "Fitting 5 folds for each of 7500 candidates, totalling 37500 fits\n",
      "best hyper parameters {'bootstrap': False, 'criterion': 'gini', 'max_depth': 14, 'max_features': 'auto', 'min_samples_leaf': 2, 'min_samples_split': 2, 'n_estimators': 38}\n",
      "Accuracy: 0.6213991769547325\n",
      "F1 score micro: 0.6213991769547325\n",
      "F1 score binary: 0.6354029062087185\n",
      "\n",
      "classification report:\n",
      "               precision    recall  f1-score   support\n",
      "\n",
      "         0.0       0.64      0.58      0.61       737\n",
      "         1.0       0.61      0.67      0.64       721\n",
      "\n",
      "    accuracy                           0.62      1458\n",
      "   macro avg       0.62      0.62      0.62      1458\n",
      "weighted avg       0.62      0.62      0.62      1458\n",
      "\n"
     ]
    }
   ],
   "source": [
    "rf_hyper_params = [ \n",
    "                        {\n",
    "                            'n_estimators' : [int(x) for x in np.linspace(5, 50, 5)],\n",
    "                            'criterion' : ['gini', 'entropy'],\n",
    "                            'max_depth' : [int(x) for x in np.linspace(2, 50, 5)],\n",
    "                            'min_samples_split' : [int(x) for x in np.linspace(2, 50, 5)],\n",
    "                            'min_samples_leaf' : [int(x) for x in np.linspace(2, 50, 5)],\n",
    "                            'max_features' : ['auto', 'sqrt', 'log2'],\n",
    "                            'bootstrap' : [True, False]\n",
    "\n",
    "                        }\n",
    "                    ]\n",
    "\n",
    "# specify model\n",
    "\n",
    "# THIS SECTION SHOULD BE CHANGED.\n",
    "# n_neighbors  SHOULD BE MODIFIED TO ANOTHER VALUE DEPENDING ON THE TARGET VALUE.\n",
    "rf_model = RandomForestClassifier()\n",
    "\n",
    "# set up GridSearchCV()\n",
    "rf_model_cv = GridSearchCV(estimator = rf_model, \n",
    "                            param_grid = rf_hyper_params, \n",
    "                            scoring= 'accuracy', \n",
    "                            cv = folds, \n",
    "                            verbose = 2,\n",
    "                            return_train_score=True,\n",
    "                            n_jobs=-1) \n",
    "\n",
    "# fit the model\n",
    "rf_model_cv.fit(X_train, y_train)\n",
    "print(\"best hyper parameters\", rf_model_cv.best_params_)\n",
    "rf_y_pred = rf_model_cv.predict(X_test)\n",
    "\n",
    "# accuracy \n",
    "print(\"Accuracy:\", metrics.accuracy_score(y_test, rf_y_pred))\n",
    "# f1 score \n",
    "print(\"F1 score micro:\", f1_score(y_test, rf_y_pred, average='micro'))\n",
    "print(\"F1 score binary:\", f1_score(y_test, rf_y_pred, average='binary'))\n",
    "\n",
    "print(\"\\nclassification report:\\n\", classification_report(y_test, rf_y_pred))"
   ]
  },
  {
   "cell_type": "code",
   "execution_count": 41,
   "metadata": {
    "colab": {
     "base_uri": "https://localhost:8080/",
     "height": 382
    },
    "id": "IUiOHZzNikne",
    "outputId": "f9dc983c-0f38-4796-aa39-4ed896936f19"
   },
   "outputs": [
    {
     "name": "stdout",
     "output_type": "stream",
     "text": [
      "[learning_curve] Training set sizes: [ 544  658  773  887 1002 1117 1231 1346 1460 1575 1689 1804 1919 2033\n",
      " 2148 2262 2377 2491 2606 2721]\n"
     ]
    },
    {
     "name": "stderr",
     "output_type": "stream",
     "text": [
      "[Parallel(n_jobs=-1)]: Using backend LokyBackend with 12 concurrent workers.\n",
      "[Parallel(n_jobs=-1)]: Done  50 out of 100 | elapsed:    0.4s remaining:    0.4s\n",
      "[Parallel(n_jobs=-1)]: Done 100 out of 100 | elapsed:    0.7s finished\n"
     ]
    },
    {
     "data": {
      "image/png": "[encoded data removed]",
      "text/plain": [
       "<Figure size 432x288 with 1 Axes>"
      ]
     },
     "metadata": {
      "needs_background": "light"
     },
     "output_type": "display_data"
    }
   ],
   "source": [
    "# ------ HERE ------\n",
    "\n",
    "# plug in suitable hyper-parameters\n",
    "\n",
    "\n",
    "# 여기만 바꾸면 된다. \n",
    "plot_model = RandomForestClassifier(bootstrap=False, criterion='gini', max_depth=14, max_features='auto', min_samples_leaf=2, min_samples_split=2, n_estimators=38)\n",
    "\n",
    "train_sizes_seed100, train_scores_seed100, val_scores_seed100 = learning_curve(plot_model, \n",
    "                                                                X_train, \n",
    "                                                                y_train, \n",
    "                                                                cv=5, \n",
    "                                                                scoring='accuracy', \n",
    "                                                                n_jobs=-1, # 이거 바꾸고 싶으면 바꾸고  \n",
    "                                                                train_sizes=np.linspace(0.2, 1, 20), \n",
    "                                                                verbose=2)\n",
    "\n",
    "\n",
    "train_mean_seed100 = np.mean(train_scores_seed100, axis = 1)\n",
    "train_std_seed100  = np.std(train_scores_seed100, axis=1)\n",
    "val_mean_seed100   = np.mean(val_scores_seed100, axis=1)\n",
    "val_std_seed100    = np.std(val_scores_seed100, axis=1)\n",
    "\n",
    "plt.plot(train_sizes_seed100, train_mean_seed100, label='Training accuracy')\n",
    "plt.plot(train_sizes_seed100, val_mean_seed100,   label='Cross-validation accuracy')\n",
    "plt.title ('Learning curve')\n",
    "plt.xlabel('Training Size')\n",
    "plt.ylabel('Accuracy score')\n",
    "plt.legend(loc='best')\n",
    "plt.show()"
   ]
  },
  {
   "cell_type": "markdown",
   "metadata": {
    "id": "d0yJhrSQiknf"
   },
   "source": [
    "## Seed 1234"
   ]
  },
  {
   "cell_type": "code",
   "execution_count": 42,
   "metadata": {
    "id": "ohfojc9Mikng"
   },
   "outputs": [],
   "source": [
    "seed = 1234\n",
    "X_train, X_test, y_train, y_test = train_test_split(X_s, y_s, test_size=0.3, random_state=seed)  \n",
    "folds = KFold(n_splits = 5, shuffle = True, random_state=seed)"
   ]
  },
  {
   "cell_type": "code",
   "execution_count": 43,
   "metadata": {
    "id": "BSnesUiSikng"
   },
   "outputs": [
    {
     "name": "stdout",
     "output_type": "stream",
     "text": [
      "Fitting 5 folds for each of 7500 candidates, totalling 37500 fits\n",
      "best hyper parameters {'bootstrap': False, 'criterion': 'gini', 'max_depth': 50, 'max_features': 'auto', 'min_samples_leaf': 2, 'min_samples_split': 14, 'n_estimators': 38}\n",
      "Accuracy: 0.6117969821673526\n",
      "F1 score micro: 0.6117969821673526\n",
      "F1 score binary: 0.6221628838451267\n",
      "\n",
      "classification report:\n",
      "               precision    recall  f1-score   support\n",
      "\n",
      "         0.0       0.62      0.58      0.60       731\n",
      "         1.0       0.60      0.64      0.62       727\n",
      "\n",
      "    accuracy                           0.61      1458\n",
      "   macro avg       0.61      0.61      0.61      1458\n",
      "weighted avg       0.61      0.61      0.61      1458\n",
      "\n"
     ]
    }
   ],
   "source": [
    "rf_hyper_params = [ \n",
    "                        {\n",
    "                            'n_estimators' : [int(x) for x in np.linspace(5, 50, 5)],\n",
    "                            'criterion' : ['gini', 'entropy'],\n",
    "                            'max_depth' : [int(x) for x in np.linspace(2, 50, 5)],\n",
    "                            'min_samples_split' : [int(x) for x in np.linspace(2, 50, 5)],\n",
    "                            'min_samples_leaf' : [int(x) for x in np.linspace(2, 50, 5)],\n",
    "                            'max_features' : ['auto', 'sqrt', 'log2'],\n",
    "                            'bootstrap' : [True, False]\n",
    "\n",
    "                        }\n",
    "                    ]\n",
    "\n",
    "# specify model\n",
    "\n",
    "# THIS SECTION SHOULD BE CHANGED.\n",
    "# n_neighbors  SHOULD BE MODIFIED TO ANOTHER VALUE DEPENDING ON THE TARGET VALUE.\n",
    "rf_model = RandomForestClassifier()\n",
    "\n",
    "# set up GridSearchCV()\n",
    "rf_model_cv = GridSearchCV(estimator = rf_model, \n",
    "                            param_grid = rf_hyper_params, \n",
    "                            scoring= 'accuracy', \n",
    "                            cv = folds, \n",
    "                            verbose = 2,\n",
    "                            return_train_score=True,\n",
    "                            n_jobs=-1) \n",
    "\n",
    "# fit the model\n",
    "rf_model_cv.fit(X_train, y_train)\n",
    "print(\"best hyper parameters\", rf_model_cv.best_params_)\n",
    "rf_y_pred = rf_model_cv.predict(X_test)\n",
    "\n",
    "# accuracy \n",
    "print(\"Accuracy:\", metrics.accuracy_score(y_test, rf_y_pred))\n",
    "# f1 score \n",
    "print(\"F1 score micro:\", f1_score(y_test, rf_y_pred, average='micro'))\n",
    "print(\"F1 score binary:\", f1_score(y_test, rf_y_pred, average='binary'))\n",
    "\n",
    "print(\"\\nclassification report:\\n\", classification_report(y_test, rf_y_pred))"
   ]
  },
  {
   "cell_type": "code",
   "execution_count": 44,
   "metadata": {
    "colab": {
     "base_uri": "https://localhost:8080/",
     "height": 382
    },
    "id": "XnYVGyseikng",
    "outputId": "16fb2435-0938-4e40-88ea-21ecdeb978ab"
   },
   "outputs": [
    {
     "name": "stdout",
     "output_type": "stream",
     "text": [
      "[learning_curve] Training set sizes: [ 544  658  773  887 1002 1117 1231 1346 1460 1575 1689 1804 1919 2033\n",
      " 2148 2262 2377 2491 2606 2721]\n"
     ]
    },
    {
     "name": "stderr",
     "output_type": "stream",
     "text": [
      "[Parallel(n_jobs=-1)]: Using backend LokyBackend with 12 concurrent workers.\n",
      "[Parallel(n_jobs=-1)]: Done  50 out of 100 | elapsed:    0.4s remaining:    0.4s\n",
      "[Parallel(n_jobs=-1)]: Done 100 out of 100 | elapsed:    0.7s finished\n"
     ]
    },
    {
     "data": {
      "image/png": "[encoded data removed]",
      "text/plain": [
       "<Figure size 432x288 with 1 Axes>"
      ]
     },
     "metadata": {
      "needs_background": "light"
     },
     "output_type": "display_data"
    }
   ],
   "source": [
    "plot_model = RandomForestClassifier(bootstrap=False, criterion='gini', max_depth=50, max_features='auto', min_samples_leaf=2, min_samples_split=14, n_estimators=38)\n",
    "2\n",
    "train_sizes_seed1234, train_scores_seed1234, val_scores_seed1234 = learning_curve(plot_model, \n",
    "                                                                X_train, \n",
    "                                                                y_train, \n",
    "                                                                cv=5, \n",
    "                                                                scoring='accuracy', \n",
    "                                                                n_jobs=-1, # 이거 바꾸고 싶으면 바꾸고  \n",
    "                                                                train_sizes=np.linspace(0.2, 1, 20), \n",
    "                                                                verbose=2)\n",
    "\n",
    "\n",
    "train_mean_seed1234 = np.mean(train_scores_seed1234, axis = 1)\n",
    "train_std_seed1234  = np.std(train_scores_seed1234, axis=1)\n",
    "val_mean_seed1234   = np.mean(val_scores_seed1234, axis=1)\n",
    "val_std_seed1234    = np.std(val_scores_seed1234, axis=1)\n",
    "\n",
    "plt.plot(train_sizes_seed1234, train_mean_seed1234, label='Training accuracy')\n",
    "plt.plot(train_sizes_seed1234, val_mean_seed1234,   label='Cross-validation accuracy')\n",
    "plt.title ('Learning curve')\n",
    "plt.xlabel('Training Size')\n",
    "plt.ylabel('Accuracy score')\n",
    "plt.legend(loc='best')\n",
    "plt.show()"
   ]
  },
  {
   "cell_type": "markdown",
   "metadata": {
    "id": "BDeD7WMiiknh"
   },
   "source": [
    "## Seed 500"
   ]
  },
  {
   "cell_type": "code",
   "execution_count": 45,
   "metadata": {
    "id": "BxEwjhFSiknh"
   },
   "outputs": [],
   "source": [
    "seed = 500\n",
    "X_train, X_test, y_train, y_test = train_test_split(X_s, y_s, test_size=0.3, random_state=seed)  \n",
    "folds = KFold(n_splits = 5, shuffle = True, random_state=seed)"
   ]
  },
  {
   "cell_type": "code",
   "execution_count": 46,
   "metadata": {
    "id": "8CydNuqZikni"
   },
   "outputs": [
    {
     "name": "stdout",
     "output_type": "stream",
     "text": [
      "Fitting 5 folds for each of 7500 candidates, totalling 37500 fits\n",
      "best hyper parameters {'bootstrap': False, 'criterion': 'gini', 'max_depth': 50, 'max_features': 'auto', 'min_samples_leaf': 2, 'min_samples_split': 2, 'n_estimators': 16}\n",
      "Accuracy: 0.6159122085048011\n",
      "F1 score micro: 0.6159122085048011\n",
      "F1 score binary: 0.6164383561643836\n",
      "\n",
      "classification report:\n",
      "               precision    recall  f1-score   support\n",
      "\n",
      "         0.0       0.62      0.61      0.62       733\n",
      "         1.0       0.61      0.62      0.62       725\n",
      "\n",
      "    accuracy                           0.62      1458\n",
      "   macro avg       0.62      0.62      0.62      1458\n",
      "weighted avg       0.62      0.62      0.62      1458\n",
      "\n"
     ]
    }
   ],
   "source": [
    "rf_hyper_params = [ \n",
    "                        {\n",
    "                            'n_estimators' : [int(x) for x in np.linspace(5, 50, 5)],\n",
    "                            'criterion' : ['gini', 'entropy'],\n",
    "                            'max_depth' : [int(x) for x in np.linspace(2, 50, 5)],\n",
    "                            'min_samples_split' : [int(x) for x in np.linspace(2, 50, 5)],\n",
    "                            'min_samples_leaf' : [int(x) for x in np.linspace(2, 50, 5)],\n",
    "                            'max_features' : ['auto', 'sqrt', 'log2'],\n",
    "                            'bootstrap' : [True, False]\n",
    "\n",
    "                        }\n",
    "                    ]\n",
    "\n",
    "# specify model\n",
    "\n",
    "# THIS SECTION SHOULD BE CHANGED.\n",
    "# n_neighbors  SHOULD BE MODIFIED TO ANOTHER VALUE DEPENDING ON THE TARGET VALUE.\n",
    "rf_model = RandomForestClassifier()\n",
    "\n",
    "# set up GridSearchCV()\n",
    "rf_model_cv = GridSearchCV(estimator = rf_model, \n",
    "                            param_grid = rf_hyper_params, \n",
    "                            scoring= 'accuracy', \n",
    "                            cv = folds, \n",
    "                            verbose = 2,\n",
    "                            return_train_score=True,\n",
    "                            n_jobs=-1) \n",
    "\n",
    "# fit the model\n",
    "rf_model_cv.fit(X_train, y_train)\n",
    "print(\"best hyper parameters\", rf_model_cv.best_params_)\n",
    "rf_y_pred = rf_model_cv.predict(X_test)\n",
    "\n",
    "# accuracy \n",
    "print(\"Accuracy:\", metrics.accuracy_score(y_test, rf_y_pred))\n",
    "# f1 score \n",
    "print(\"F1 score micro:\", f1_score(y_test, rf_y_pred, average='micro'))\n",
    "print(\"F1 score binary:\", f1_score(y_test, rf_y_pred, average='binary'))\n",
    "\n",
    "print(\"\\nclassification report:\\n\", classification_report(y_test, rf_y_pred))"
   ]
  },
  {
   "cell_type": "code",
   "execution_count": 47,
   "metadata": {
    "colab": {
     "base_uri": "https://localhost:8080/",
     "height": 382
    },
    "id": "wNDCALcLikni",
    "outputId": "65750e66-a920-44e6-bb82-5762d27537a8"
   },
   "outputs": [
    {
     "name": "stdout",
     "output_type": "stream",
     "text": [
      "[learning_curve] Training set sizes: [ 544  658  773  887 1002 1117 1231 1346 1460 1575 1689 1804 1919 2033\n",
      " 2148 2262 2377 2491 2606 2721]\n"
     ]
    },
    {
     "name": "stderr",
     "output_type": "stream",
     "text": [
      "[Parallel(n_jobs=-1)]: Using backend LokyBackend with 12 concurrent workers.\n",
      "[Parallel(n_jobs=-1)]: Done  50 out of 100 | elapsed:    0.3s remaining:    0.3s\n",
      "[Parallel(n_jobs=-1)]: Done 100 out of 100 | elapsed:    0.4s finished\n"
     ]
    },
    {
     "data": {
      "image/png": "[encoded data removed]",
      "text/plain": [
       "<Figure size 432x288 with 1 Axes>"
      ]
     },
     "metadata": {
      "needs_background": "light"
     },
     "output_type": "display_data"
    }
   ],
   "source": [
    "plot_model = RandomForestClassifier(bootstrap=False, criterion='gini', max_depth=50, max_features='auto', min_samples_leaf=2, min_samples_split=2, n_estimators=16)\n",
    "\n",
    "train_sizes_seed500, train_scores_seed500, val_scores_seed500 = learning_curve(plot_model, \n",
    "                                                                X_train, \n",
    "                                                                y_train, \n",
    "                                                                cv=5, \n",
    "                                                                scoring='accuracy', \n",
    "                                                                n_jobs=-1, # 이거 바꾸고 싶으면 바꾸고  \n",
    "                                                                train_sizes=np.linspace(0.2, 1, 20), \n",
    "                                                                verbose=2)\n",
    "\n",
    "\n",
    "train_mean_seed500 = np.mean(train_scores_seed500, axis = 1)\n",
    "train_std_seed500  = np.std(train_scores_seed500, axis=1)\n",
    "val_mean_seed500   = np.mean(val_scores_seed500, axis=1)\n",
    "val_std_seed500    = np.std(val_scores_seed500, axis=1)\n",
    "\n",
    "plt.plot(train_sizes_seed500, train_mean_seed500, label='Training accuracy')\n",
    "plt.plot(train_sizes_seed500, val_mean_seed500,   label='Cross-validation accuracy')\n",
    "plt.title ('Learning curve')\n",
    "plt.xlabel('Training Size')\n",
    "plt.ylabel('Accuracy score')\n",
    "plt.legend(loc='best')\n",
    "plt.show()"
   ]
  },
  {
   "cell_type": "code",
   "execution_count": 195,
   "metadata": {
    "id": "a4W4FwITikni"
   },
   "outputs": [],
   "source": [
    "# learning curve considering different seeds"
   ]
  },
  {
   "cell_type": "code",
   "execution_count": 48,
   "metadata": {
    "id": "7K9Mjatciknj"
   },
   "outputs": [],
   "source": [
    "acc_avg = list()\n",
    "acc_se  = list()\n",
    "\n",
    "val_avg = list()\n",
    "val_se  = list()\n",
    "\n",
    "for i in range(len(train_sizes_seed100)):\n",
    "    acc_avg.append(np.mean([train_mean_seed100[i], train_mean_seed500[i], train_mean_seed1234[i]]))\n",
    "    acc_se .append(np.std ([train_mean_seed100[i], train_mean_seed500[i], train_mean_seed1234[i]]) / np.sqrt(3))\n",
    "    \n",
    "    val_avg.append(np.mean([val_mean_seed100[i], val_mean_seed500[i], val_mean_seed1234[i]]))\n",
    "    val_se .append(np.std ([val_mean_seed100[i], val_mean_seed500[i], val_mean_seed1234[i]]) / np.sqrt(3))"
   ]
  },
  {
   "cell_type": "code",
   "execution_count": 49,
   "metadata": {
    "colab": {
     "base_uri": "https://localhost:8080/",
     "height": 404
    },
    "id": "_isL6QLMiknj",
    "outputId": "f57ad3b5-3cb6-4aa0-db68-d43e98ebfbe7"
   },
   "outputs": [
    {
     "data": {
      "image/png": "[encoded data removed]",
      "text/plain": [
       "<Figure size 576x432 with 1 Axes>"
      ]
     },
     "metadata": {
      "needs_background": "light"
     },
     "output_type": "display_data"
    }
   ],
   "source": [
    "fig, ax = plt.subplots(figsize=(8, 6))\n",
    "\n",
    "ax.plot(train_sizes_seed100, acc_avg, c='darkred', label='Training accuracy')\n",
    "ax.fill_between(train_sizes_seed100, np.subtract(acc_avg, acc_se), np.add(acc_avg, acc_se), color='lightcoral', alpha=0.5)\n",
    "\n",
    "ax.plot(train_sizes_seed100, val_avg, c='darkgreen', label='Validation accuracy')\n",
    "ax.fill_between(train_sizes_seed100, np.subtract(val_avg, val_se), np.add(val_avg, val_se), color='lime', alpha=0.5)\n",
    "\n",
    "ax.set_xlabel('Training Size')\n",
    "ax.set_ylabel('Accuracy')\n",
    "ax.set_title('Random Forest Sampled prim_diag')\n",
    "ax.axhline(y=0.5, color='blue', linestyle='-', label='Random Guess: Always predict no depression')\n",
    "ax.legend()\n",
    "ax.grid()"
   ]
  },
  {
   "cell_type": "markdown",
   "metadata": {},
   "source": [
    "The error is high. Also, it seems like they are not converging. RF is not a valid model for detecting the relationship between screen time and mental health? "
   ]
  },
  {
   "cell_type": "code",
   "execution_count": null,
   "metadata": {},
   "outputs": [],
   "source": []
  }
 ],
 "metadata": {
  "accelerator": "TPU",
  "colab": {
   "collapsed_sections": [
    "ZyKQOdUUikmt",
    "qi9fORhDikm0",
    "uZZBJSe1ikm9"
   ],
   "include_colab_link": true,
   "name": "search_dep_score.ipynb",
   "provenance": []
  },
  "kernelspec": {
   "display_name": "Python 3",
   "language": "python",
   "name": "python3"
  },
  "language_info": {
   "codemirror_mode": {
    "name": "ipython",
    "version": 3
   },
   "file_extension": ".py",
   "mimetype": "text/x-python",
   "name": "python",
   "nbconvert_exporter": "python",
   "pygments_lexer": "ipython3",
   "version": "3.8.5"
  }
 },
 "nbformat": 4,
 "nbformat_minor": 4
}
