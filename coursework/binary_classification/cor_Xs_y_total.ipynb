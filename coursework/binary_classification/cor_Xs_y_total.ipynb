{
 "cells": [
  {
   "cell_type": "code",
   "execution_count": 1,
   "metadata": {},
   "outputs": [],
   "source": [
    "import seaborn as sns\n",
    "import numpy as np\n",
    "import pandas as pd \n",
    "import matplotlib.pyplot as plt\n",
    "import pandas as pd\n",
    "\n",
    "from scipy import stats"
   ]
  },
  {
   "cell_type": "code",
   "execution_count": 2,
   "metadata": {},
   "outputs": [],
   "source": [
    "all_targets = pd.read_csv('../data/0&1/sum_targets_with_panic.csv')"
   ]
  },
  {
   "cell_type": "code",
   "execution_count": 3,
   "metadata": {},
   "outputs": [
    {
     "data": {
      "text/html": [
       "<div>\n",
       "<style scoped>\n",
       "    .dataframe tbody tr th:only-of-type {\n",
       "        vertical-align: middle;\n",
       "    }\n",
       "\n",
       "    .dataframe tbody tr th {\n",
       "        vertical-align: top;\n",
       "    }\n",
       "\n",
       "    .dataframe thead th {\n",
       "        text-align: right;\n",
       "    }\n",
       "</style>\n",
       "<table border=\"1\" class=\"dataframe\">\n",
       "  <thead>\n",
       "    <tr style=\"text-align: right;\">\n",
       "      <th></th>\n",
       "      <th>comp_week</th>\n",
       "      <th>comp_wend</th>\n",
       "      <th>text_week</th>\n",
       "      <th>text_wend</th>\n",
       "      <th>tv_week</th>\n",
       "      <th>tv_wend</th>\n",
       "      <th>dep_score</th>\n",
       "      <th>dep_thoughts</th>\n",
       "      <th>has_dep_diag</th>\n",
       "      <th>prim_diag</th>\n",
       "      <th>secd_diag</th>\n",
       "      <th>panic_score</th>\n",
       "      <th>total</th>\n",
       "    </tr>\n",
       "  </thead>\n",
       "  <tbody>\n",
       "    <tr>\n",
       "      <th>0</th>\n",
       "      <td>1</td>\n",
       "      <td>2</td>\n",
       "      <td>1</td>\n",
       "      <td>1</td>\n",
       "      <td>1</td>\n",
       "      <td>2</td>\n",
       "      <td>0.0</td>\n",
       "      <td>1.0</td>\n",
       "      <td>0</td>\n",
       "      <td>0.0</td>\n",
       "      <td>0.0</td>\n",
       "      <td>0.0</td>\n",
       "      <td>1.0</td>\n",
       "    </tr>\n",
       "    <tr>\n",
       "      <th>1</th>\n",
       "      <td>2</td>\n",
       "      <td>2</td>\n",
       "      <td>3</td>\n",
       "      <td>3</td>\n",
       "      <td>1</td>\n",
       "      <td>2</td>\n",
       "      <td>1.0</td>\n",
       "      <td>1.0</td>\n",
       "      <td>0</td>\n",
       "      <td>1.0</td>\n",
       "      <td>0.0</td>\n",
       "      <td>0.0</td>\n",
       "      <td>3.0</td>\n",
       "    </tr>\n",
       "    <tr>\n",
       "      <th>2</th>\n",
       "      <td>1</td>\n",
       "      <td>0</td>\n",
       "      <td>1</td>\n",
       "      <td>2</td>\n",
       "      <td>1</td>\n",
       "      <td>1</td>\n",
       "      <td>1.0</td>\n",
       "      <td>1.0</td>\n",
       "      <td>1</td>\n",
       "      <td>1.0</td>\n",
       "      <td>1.0</td>\n",
       "      <td>0.0</td>\n",
       "      <td>5.0</td>\n",
       "    </tr>\n",
       "    <tr>\n",
       "      <th>3</th>\n",
       "      <td>2</td>\n",
       "      <td>3</td>\n",
       "      <td>3</td>\n",
       "      <td>3</td>\n",
       "      <td>2</td>\n",
       "      <td>3</td>\n",
       "      <td>1.0</td>\n",
       "      <td>1.0</td>\n",
       "      <td>0</td>\n",
       "      <td>1.0</td>\n",
       "      <td>1.0</td>\n",
       "      <td>0.0</td>\n",
       "      <td>4.0</td>\n",
       "    </tr>\n",
       "    <tr>\n",
       "      <th>4</th>\n",
       "      <td>2</td>\n",
       "      <td>3</td>\n",
       "      <td>1</td>\n",
       "      <td>1</td>\n",
       "      <td>2</td>\n",
       "      <td>1</td>\n",
       "      <td>1.0</td>\n",
       "      <td>1.0</td>\n",
       "      <td>0</td>\n",
       "      <td>0.0</td>\n",
       "      <td>0.0</td>\n",
       "      <td>0.0</td>\n",
       "      <td>2.0</td>\n",
       "    </tr>\n",
       "    <tr>\n",
       "      <th>...</th>\n",
       "      <td>...</td>\n",
       "      <td>...</td>\n",
       "      <td>...</td>\n",
       "      <td>...</td>\n",
       "      <td>...</td>\n",
       "      <td>...</td>\n",
       "      <td>...</td>\n",
       "      <td>...</td>\n",
       "      <td>...</td>\n",
       "      <td>...</td>\n",
       "      <td>...</td>\n",
       "      <td>...</td>\n",
       "      <td>...</td>\n",
       "    </tr>\n",
       "    <tr>\n",
       "      <th>1249</th>\n",
       "      <td>2</td>\n",
       "      <td>2</td>\n",
       "      <td>2</td>\n",
       "      <td>2</td>\n",
       "      <td>2</td>\n",
       "      <td>1</td>\n",
       "      <td>0.0</td>\n",
       "      <td>1.0</td>\n",
       "      <td>0</td>\n",
       "      <td>0.0</td>\n",
       "      <td>0.0</td>\n",
       "      <td>0.0</td>\n",
       "      <td>1.0</td>\n",
       "    </tr>\n",
       "    <tr>\n",
       "      <th>1250</th>\n",
       "      <td>3</td>\n",
       "      <td>3</td>\n",
       "      <td>1</td>\n",
       "      <td>1</td>\n",
       "      <td>1</td>\n",
       "      <td>2</td>\n",
       "      <td>0.0</td>\n",
       "      <td>1.0</td>\n",
       "      <td>0</td>\n",
       "      <td>0.0</td>\n",
       "      <td>0.0</td>\n",
       "      <td>0.0</td>\n",
       "      <td>1.0</td>\n",
       "    </tr>\n",
       "    <tr>\n",
       "      <th>1251</th>\n",
       "      <td>3</td>\n",
       "      <td>0</td>\n",
       "      <td>2</td>\n",
       "      <td>2</td>\n",
       "      <td>2</td>\n",
       "      <td>2</td>\n",
       "      <td>0.0</td>\n",
       "      <td>0.0</td>\n",
       "      <td>0</td>\n",
       "      <td>1.0</td>\n",
       "      <td>0.0</td>\n",
       "      <td>0.0</td>\n",
       "      <td>1.0</td>\n",
       "    </tr>\n",
       "    <tr>\n",
       "      <th>1252</th>\n",
       "      <td>2</td>\n",
       "      <td>3</td>\n",
       "      <td>1</td>\n",
       "      <td>1</td>\n",
       "      <td>1</td>\n",
       "      <td>2</td>\n",
       "      <td>0.0</td>\n",
       "      <td>1.0</td>\n",
       "      <td>0</td>\n",
       "      <td>0.0</td>\n",
       "      <td>0.0</td>\n",
       "      <td>0.0</td>\n",
       "      <td>1.0</td>\n",
       "    </tr>\n",
       "    <tr>\n",
       "      <th>1253</th>\n",
       "      <td>2</td>\n",
       "      <td>3</td>\n",
       "      <td>1</td>\n",
       "      <td>1</td>\n",
       "      <td>1</td>\n",
       "      <td>2</td>\n",
       "      <td>1.0</td>\n",
       "      <td>1.0</td>\n",
       "      <td>1</td>\n",
       "      <td>1.0</td>\n",
       "      <td>1.0</td>\n",
       "      <td>0.0</td>\n",
       "      <td>5.0</td>\n",
       "    </tr>\n",
       "  </tbody>\n",
       "</table>\n",
       "<p>1254 rows × 13 columns</p>\n",
       "</div>"
      ],
      "text/plain": [
       "      comp_week  comp_wend  text_week  text_wend  tv_week  tv_wend  dep_score  \\\n",
       "0             1          2          1          1        1        2        0.0   \n",
       "1             2          2          3          3        1        2        1.0   \n",
       "2             1          0          1          2        1        1        1.0   \n",
       "3             2          3          3          3        2        3        1.0   \n",
       "4             2          3          1          1        2        1        1.0   \n",
       "...         ...        ...        ...        ...      ...      ...        ...   \n",
       "1249          2          2          2          2        2        1        0.0   \n",
       "1250          3          3          1          1        1        2        0.0   \n",
       "1251          3          0          2          2        2        2        0.0   \n",
       "1252          2          3          1          1        1        2        0.0   \n",
       "1253          2          3          1          1        1        2        1.0   \n",
       "\n",
       "      dep_thoughts  has_dep_diag  prim_diag  secd_diag  panic_score  total  \n",
       "0              1.0             0        0.0        0.0          0.0    1.0  \n",
       "1              1.0             0        1.0        0.0          0.0    3.0  \n",
       "2              1.0             1        1.0        1.0          0.0    5.0  \n",
       "3              1.0             0        1.0        1.0          0.0    4.0  \n",
       "4              1.0             0        0.0        0.0          0.0    2.0  \n",
       "...            ...           ...        ...        ...          ...    ...  \n",
       "1249           1.0             0        0.0        0.0          0.0    1.0  \n",
       "1250           1.0             0        0.0        0.0          0.0    1.0  \n",
       "1251           0.0             0        1.0        0.0          0.0    1.0  \n",
       "1252           1.0             0        0.0        0.0          0.0    1.0  \n",
       "1253           1.0             1        1.0        1.0          0.0    5.0  \n",
       "\n",
       "[1254 rows x 13 columns]"
      ]
     },
     "execution_count": 3,
     "metadata": {},
     "output_type": "execute_result"
    }
   ],
   "source": [
    "all_targets"
   ]
  },
  {
   "cell_type": "code",
   "execution_count": 5,
   "metadata": {},
   "outputs": [],
   "source": [
    "all_targets_copied = all_targets.copy()\n",
    "total = all_targets_copied['total']\n",
    "del all_targets_copied['total']"
   ]
  },
  {
   "cell_type": "code",
   "execution_count": 6,
   "metadata": {},
   "outputs": [
    {
     "data": {
      "text/html": [
       "<div>\n",
       "<style scoped>\n",
       "    .dataframe tbody tr th:only-of-type {\n",
       "        vertical-align: middle;\n",
       "    }\n",
       "\n",
       "    .dataframe tbody tr th {\n",
       "        vertical-align: top;\n",
       "    }\n",
       "\n",
       "    .dataframe thead th {\n",
       "        text-align: right;\n",
       "    }\n",
       "</style>\n",
       "<table border=\"1\" class=\"dataframe\">\n",
       "  <thead>\n",
       "    <tr style=\"text-align: right;\">\n",
       "      <th></th>\n",
       "      <th>comp_week</th>\n",
       "      <th>comp_wend</th>\n",
       "      <th>text_week</th>\n",
       "      <th>text_wend</th>\n",
       "      <th>tv_week</th>\n",
       "      <th>tv_wend</th>\n",
       "      <th>dep_score</th>\n",
       "      <th>dep_thoughts</th>\n",
       "      <th>has_dep_diag</th>\n",
       "      <th>prim_diag</th>\n",
       "      <th>secd_diag</th>\n",
       "      <th>panic_score</th>\n",
       "    </tr>\n",
       "  </thead>\n",
       "  <tbody>\n",
       "    <tr>\n",
       "      <th>0</th>\n",
       "      <td>1</td>\n",
       "      <td>2</td>\n",
       "      <td>1</td>\n",
       "      <td>1</td>\n",
       "      <td>1</td>\n",
       "      <td>2</td>\n",
       "      <td>0.0</td>\n",
       "      <td>1.0</td>\n",
       "      <td>0</td>\n",
       "      <td>0.0</td>\n",
       "      <td>0.0</td>\n",
       "      <td>0.0</td>\n",
       "    </tr>\n",
       "    <tr>\n",
       "      <th>1</th>\n",
       "      <td>2</td>\n",
       "      <td>2</td>\n",
       "      <td>3</td>\n",
       "      <td>3</td>\n",
       "      <td>1</td>\n",
       "      <td>2</td>\n",
       "      <td>1.0</td>\n",
       "      <td>1.0</td>\n",
       "      <td>0</td>\n",
       "      <td>1.0</td>\n",
       "      <td>0.0</td>\n",
       "      <td>0.0</td>\n",
       "    </tr>\n",
       "    <tr>\n",
       "      <th>2</th>\n",
       "      <td>1</td>\n",
       "      <td>0</td>\n",
       "      <td>1</td>\n",
       "      <td>2</td>\n",
       "      <td>1</td>\n",
       "      <td>1</td>\n",
       "      <td>1.0</td>\n",
       "      <td>1.0</td>\n",
       "      <td>1</td>\n",
       "      <td>1.0</td>\n",
       "      <td>1.0</td>\n",
       "      <td>0.0</td>\n",
       "    </tr>\n",
       "    <tr>\n",
       "      <th>3</th>\n",
       "      <td>2</td>\n",
       "      <td>3</td>\n",
       "      <td>3</td>\n",
       "      <td>3</td>\n",
       "      <td>2</td>\n",
       "      <td>3</td>\n",
       "      <td>1.0</td>\n",
       "      <td>1.0</td>\n",
       "      <td>0</td>\n",
       "      <td>1.0</td>\n",
       "      <td>1.0</td>\n",
       "      <td>0.0</td>\n",
       "    </tr>\n",
       "    <tr>\n",
       "      <th>4</th>\n",
       "      <td>2</td>\n",
       "      <td>3</td>\n",
       "      <td>1</td>\n",
       "      <td>1</td>\n",
       "      <td>2</td>\n",
       "      <td>1</td>\n",
       "      <td>1.0</td>\n",
       "      <td>1.0</td>\n",
       "      <td>0</td>\n",
       "      <td>0.0</td>\n",
       "      <td>0.0</td>\n",
       "      <td>0.0</td>\n",
       "    </tr>\n",
       "    <tr>\n",
       "      <th>...</th>\n",
       "      <td>...</td>\n",
       "      <td>...</td>\n",
       "      <td>...</td>\n",
       "      <td>...</td>\n",
       "      <td>...</td>\n",
       "      <td>...</td>\n",
       "      <td>...</td>\n",
       "      <td>...</td>\n",
       "      <td>...</td>\n",
       "      <td>...</td>\n",
       "      <td>...</td>\n",
       "      <td>...</td>\n",
       "    </tr>\n",
       "    <tr>\n",
       "      <th>1249</th>\n",
       "      <td>2</td>\n",
       "      <td>2</td>\n",
       "      <td>2</td>\n",
       "      <td>2</td>\n",
       "      <td>2</td>\n",
       "      <td>1</td>\n",
       "      <td>0.0</td>\n",
       "      <td>1.0</td>\n",
       "      <td>0</td>\n",
       "      <td>0.0</td>\n",
       "      <td>0.0</td>\n",
       "      <td>0.0</td>\n",
       "    </tr>\n",
       "    <tr>\n",
       "      <th>1250</th>\n",
       "      <td>3</td>\n",
       "      <td>3</td>\n",
       "      <td>1</td>\n",
       "      <td>1</td>\n",
       "      <td>1</td>\n",
       "      <td>2</td>\n",
       "      <td>0.0</td>\n",
       "      <td>1.0</td>\n",
       "      <td>0</td>\n",
       "      <td>0.0</td>\n",
       "      <td>0.0</td>\n",
       "      <td>0.0</td>\n",
       "    </tr>\n",
       "    <tr>\n",
       "      <th>1251</th>\n",
       "      <td>3</td>\n",
       "      <td>0</td>\n",
       "      <td>2</td>\n",
       "      <td>2</td>\n",
       "      <td>2</td>\n",
       "      <td>2</td>\n",
       "      <td>0.0</td>\n",
       "      <td>0.0</td>\n",
       "      <td>0</td>\n",
       "      <td>1.0</td>\n",
       "      <td>0.0</td>\n",
       "      <td>0.0</td>\n",
       "    </tr>\n",
       "    <tr>\n",
       "      <th>1252</th>\n",
       "      <td>2</td>\n",
       "      <td>3</td>\n",
       "      <td>1</td>\n",
       "      <td>1</td>\n",
       "      <td>1</td>\n",
       "      <td>2</td>\n",
       "      <td>0.0</td>\n",
       "      <td>1.0</td>\n",
       "      <td>0</td>\n",
       "      <td>0.0</td>\n",
       "      <td>0.0</td>\n",
       "      <td>0.0</td>\n",
       "    </tr>\n",
       "    <tr>\n",
       "      <th>1253</th>\n",
       "      <td>2</td>\n",
       "      <td>3</td>\n",
       "      <td>1</td>\n",
       "      <td>1</td>\n",
       "      <td>1</td>\n",
       "      <td>2</td>\n",
       "      <td>1.0</td>\n",
       "      <td>1.0</td>\n",
       "      <td>1</td>\n",
       "      <td>1.0</td>\n",
       "      <td>1.0</td>\n",
       "      <td>0.0</td>\n",
       "    </tr>\n",
       "  </tbody>\n",
       "</table>\n",
       "<p>1254 rows × 12 columns</p>\n",
       "</div>"
      ],
      "text/plain": [
       "      comp_week  comp_wend  text_week  text_wend  tv_week  tv_wend  dep_score  \\\n",
       "0             1          2          1          1        1        2        0.0   \n",
       "1             2          2          3          3        1        2        1.0   \n",
       "2             1          0          1          2        1        1        1.0   \n",
       "3             2          3          3          3        2        3        1.0   \n",
       "4             2          3          1          1        2        1        1.0   \n",
       "...         ...        ...        ...        ...      ...      ...        ...   \n",
       "1249          2          2          2          2        2        1        0.0   \n",
       "1250          3          3          1          1        1        2        0.0   \n",
       "1251          3          0          2          2        2        2        0.0   \n",
       "1252          2          3          1          1        1        2        0.0   \n",
       "1253          2          3          1          1        1        2        1.0   \n",
       "\n",
       "      dep_thoughts  has_dep_diag  prim_diag  secd_diag  panic_score  \n",
       "0              1.0             0        0.0        0.0          0.0  \n",
       "1              1.0             0        1.0        0.0          0.0  \n",
       "2              1.0             1        1.0        1.0          0.0  \n",
       "3              1.0             0        1.0        1.0          0.0  \n",
       "4              1.0             0        0.0        0.0          0.0  \n",
       "...            ...           ...        ...        ...          ...  \n",
       "1249           1.0             0        0.0        0.0          0.0  \n",
       "1250           1.0             0        0.0        0.0          0.0  \n",
       "1251           0.0             0        1.0        0.0          0.0  \n",
       "1252           1.0             0        0.0        0.0          0.0  \n",
       "1253           1.0             1        1.0        1.0          0.0  \n",
       "\n",
       "[1254 rows x 12 columns]"
      ]
     },
     "execution_count": 6,
     "metadata": {},
     "output_type": "execute_result"
    }
   ],
   "source": [
    "all_targets_copied"
   ]
  },
  {
   "cell_type": "code",
   "execution_count": 7,
   "metadata": {},
   "outputs": [
    {
     "data": {
      "text/plain": [
       "1.0    523\n",
       "2.0    287\n",
       "5.0    189\n",
       "3.0    149\n",
       "4.0     68\n",
       "6.0     38\n",
       "Name: total, dtype: int64"
      ]
     },
     "execution_count": 7,
     "metadata": {},
     "output_type": "execute_result"
    }
   ],
   "source": [
    "total.value_counts()"
   ]
  },
  {
   "cell_type": "code",
   "execution_count": 8,
   "metadata": {},
   "outputs": [
    {
     "data": {
      "text/plain": [
       "Text(0.5, 1.0, 'Screen Time and Mental Health')"
      ]
     },
     "execution_count": 8,
     "metadata": {},
     "output_type": "execute_result"
    },
    {
     "data": {
      "image/png": "[encoded data removed]",
      "text/plain": [
       "<Figure size 720x720 with 2 Axes>"
      ]
     },
     "metadata": {
      "needs_background": "light"
     },
     "output_type": "display_data"
    }
   ],
   "source": [
    "fig, ax = plt.subplots(figsize=(10, 10))\n",
    "\n",
    "X_ds = all_targets_copied.copy()\n",
    "ds = X_ds.corr()\n",
    "\n",
    "ds = round(ds,2)\n",
    "\n",
    "sns.heatmap(ds, annot=True, cmap=\"Blues\")\n",
    "\n",
    "ax.set_title('Screen Time and Mental Health')"
   ]
  },
  {
   "cell_type": "markdown",
   "metadata": {},
   "source": [
    "## between y targets"
   ]
  },
  {
   "cell_type": "code",
   "execution_count": 9,
   "metadata": {},
   "outputs": [
    {
     "name": "stdout",
     "output_type": "stream",
     "text": [
      "(0.9999999999999992, 0.0)\n",
      "(-0.1978338743867991, 1.5644337894289642e-12)\n",
      "(0.4558169218957637, 2.3668696847734775e-65)\n",
      "(0.4164805968686926, 8.715547166920246e-54)\n",
      "(0.40288838579617103, 3.9203492005386586e-50)\n",
      "(0.1371788509280754, 1.0826851675678175e-06)\n"
     ]
    }
   ],
   "source": [
    "# p-value < 0.05 == confident \n",
    "# \"A p-value less than 0.05 (typically ≤ 0.05) is statistically significant\"\n",
    "\n",
    "print(stats.pearsonr(X_ds.dep_score, X_ds.dep_score))\n",
    "print(stats.pearsonr(X_ds.dep_score, X_ds.dep_thoughts))\n",
    "print(stats.pearsonr(X_ds.dep_score, X_ds.has_dep_diag))\n",
    "print(stats.pearsonr(X_ds.dep_score, X_ds.prim_diag))\n",
    "print(stats.pearsonr(X_ds.dep_score, X_ds.secd_diag))\n",
    "print(stats.pearsonr(X_ds.dep_score, X_ds.panic_score))"
   ]
  },
  {
   "cell_type": "markdown",
   "metadata": {},
   "source": [
    "## between Xs and dep_score"
   ]
  },
  {
   "cell_type": "code",
   "execution_count": 10,
   "metadata": {},
   "outputs": [
    {
     "name": "stdout",
     "output_type": "stream",
     "text": [
      "(-0.005294017265292526, 0.8514368973117669)\n",
      "(0.02726974120207068, 0.3346005503952445)\n",
      "(0.04225381904733598, 0.1347938800716168)\n",
      "(0.05435696688746587, 0.05430639110289678)\n",
      "(0.027770797584075975, 0.3257923092141143)\n",
      "(-0.01399404332439016, 0.6205399964412679)\n"
     ]
    }
   ],
   "source": [
    "print(stats.pearsonr(X_ds.dep_score, X_ds.comp_week))\n",
    "print(stats.pearsonr(X_ds.dep_score, X_ds.comp_wend))\n",
    "print(stats.pearsonr(X_ds.dep_score, X_ds.text_week))\n",
    "print(stats.pearsonr(X_ds.dep_score, X_ds.text_wend))\n",
    "print(stats.pearsonr(X_ds.dep_score, X_ds.tv_week))\n",
    "print(stats.pearsonr(X_ds.dep_score, X_ds.tv_wend))"
   ]
  },
  {
   "cell_type": "markdown",
   "metadata": {},
   "source": [
    "## between Xs and dep_thoughts"
   ]
  },
  {
   "cell_type": "code",
   "execution_count": 11,
   "metadata": {},
   "outputs": [
    {
     "name": "stdout",
     "output_type": "stream",
     "text": [
      "(-0.050396461550591576, 0.07442586437844267)\n",
      "(-0.024601117229433145, 0.38406309820207457)\n",
      "(-0.06733228667020436, 0.017093499191211316)\n",
      "(-0.03793801842706939, 0.1794017125747734)\n",
      "(-0.07221696348723383, 0.010523750559188642)\n",
      "(-0.027595661459467798, 0.32885381397087354)\n"
     ]
    }
   ],
   "source": [
    "print(stats.pearsonr(X_ds.dep_thoughts, X_ds.comp_week))\n",
    "print(stats.pearsonr(X_ds.dep_thoughts, X_ds.comp_wend))\n",
    "print(stats.pearsonr(X_ds.dep_thoughts, X_ds.text_week))\n",
    "print(stats.pearsonr(X_ds.dep_thoughts, X_ds.text_wend))\n",
    "print(stats.pearsonr(X_ds.dep_thoughts, X_ds.tv_week))\n",
    "print(stats.pearsonr(X_ds.dep_thoughts, X_ds.tv_wend))"
   ]
  },
  {
   "cell_type": "markdown",
   "metadata": {},
   "source": [
    "## between Xs and has_dep_diag"
   ]
  },
  {
   "cell_type": "code",
   "execution_count": 12,
   "metadata": {},
   "outputs": [
    {
     "name": "stdout",
     "output_type": "stream",
     "text": [
      "(-0.036799815478512035, 0.19281675061852036)\n",
      "(0.01328772099422458, 0.6382875439965437)\n",
      "(-0.0020355305695829514, 0.9425938556779607)\n",
      "(0.017174844831185445, 0.5434318862807046)\n",
      "(-0.02703939502435397, 0.3387008454773488)\n",
      "(-0.014361586799923325, 0.6113905383609677)\n"
     ]
    }
   ],
   "source": [
    "print(stats.pearsonr(X_ds.has_dep_diag, X_ds.comp_week))\n",
    "print(stats.pearsonr(X_ds.has_dep_diag, X_ds.comp_wend))\n",
    "print(stats.pearsonr(X_ds.has_dep_diag, X_ds.text_week))\n",
    "print(stats.pearsonr(X_ds.has_dep_diag, X_ds.text_wend))\n",
    "print(stats.pearsonr(X_ds.has_dep_diag, X_ds.tv_week))\n",
    "print(stats.pearsonr(X_ds.has_dep_diag, X_ds.tv_wend))"
   ]
  },
  {
   "cell_type": "markdown",
   "metadata": {},
   "source": [
    "## between Xs and prim_diag"
   ]
  },
  {
   "cell_type": "code",
   "execution_count": 13,
   "metadata": {},
   "outputs": [
    {
     "name": "stdout",
     "output_type": "stream",
     "text": [
      "(-0.03409193618689792, 0.22766110891888655)\n",
      "(0.004407578646471825, 0.8760916095784824)\n",
      "(0.012204596161491017, 0.6659067293611342)\n",
      "(0.032519098744636925, 0.24984836428760324)\n",
      "(-0.034349374666955625, 0.22416745669767485)\n",
      "(0.003236426619884353, 0.9088462822650236)\n"
     ]
    }
   ],
   "source": [
    "print(stats.pearsonr(X_ds.prim_diag, X_ds.comp_week))\n",
    "print(stats.pearsonr(X_ds.prim_diag, X_ds.comp_wend))\n",
    "print(stats.pearsonr(X_ds.prim_diag, X_ds.text_week))\n",
    "print(stats.pearsonr(X_ds.prim_diag, X_ds.text_wend))\n",
    "print(stats.pearsonr(X_ds.prim_diag, X_ds.tv_week))\n",
    "print(stats.pearsonr(X_ds.prim_diag, X_ds.tv_wend))"
   ]
  },
  {
   "cell_type": "markdown",
   "metadata": {},
   "source": [
    "## between Xs and secd_diag"
   ]
  },
  {
   "cell_type": "code",
   "execution_count": 14,
   "metadata": {},
   "outputs": [
    {
     "name": "stdout",
     "output_type": "stream",
     "text": [
      "(-0.003423792103870587, 0.903594167680041)\n",
      "(0.04562437154303143, 0.10633805332486028)\n",
      "(0.01232312221934871, 0.6628613477045384)\n",
      "(0.03623574803407986, 0.19973154603953872)\n",
      "(-0.04680911627832817, 0.09754917072388541)\n",
      "(-0.028179076157061493, 0.3187274201779543)\n"
     ]
    }
   ],
   "source": [
    "print(stats.pearsonr(X_ds.secd_diag, X_ds.comp_week))\n",
    "print(stats.pearsonr(X_ds.secd_diag, X_ds.comp_wend))\n",
    "print(stats.pearsonr(X_ds.secd_diag, X_ds.text_week))\n",
    "print(stats.pearsonr(X_ds.secd_diag, X_ds.text_wend))\n",
    "print(stats.pearsonr(X_ds.secd_diag, X_ds.tv_week))\n",
    "print(stats.pearsonr(X_ds.secd_diag, X_ds.tv_wend))"
   ]
  },
  {
   "cell_type": "markdown",
   "metadata": {},
   "source": [
    "## between Xs and panic_score"
   ]
  },
  {
   "cell_type": "code",
   "execution_count": 15,
   "metadata": {},
   "outputs": [
    {
     "name": "stdout",
     "output_type": "stream",
     "text": [
      "(-0.04976020588446159, 0.07816472060073087)\n",
      "(-0.004001082713126072, 0.8874393668445351)\n",
      "(-0.005076429876156346, 0.8574762469112169)\n",
      "(0.005756148377380383, 0.8386392541190969)\n",
      "(-0.001993453537713067, 0.9437785301573701)\n",
      "(0.037287482649263556, 0.1869815389897333)\n"
     ]
    }
   ],
   "source": [
    "print(stats.pearsonr(X_ds.panic_score, X_ds.comp_week))\n",
    "print(stats.pearsonr(X_ds.panic_score, X_ds.comp_wend))\n",
    "print(stats.pearsonr(X_ds.panic_score, X_ds.text_week))\n",
    "print(stats.pearsonr(X_ds.panic_score, X_ds.text_wend))\n",
    "print(stats.pearsonr(X_ds.panic_score, X_ds.tv_week))\n",
    "print(stats.pearsonr(X_ds.panic_score, X_ds.tv_wend))"
   ]
  },
  {
   "cell_type": "code",
   "execution_count": null,
   "metadata": {},
   "outputs": [],
   "source": [
    "# P value heatmap "
   ]
  },
  {
   "cell_type": "code",
   "execution_count": null,
   "metadata": {},
   "outputs": [],
   "source": []
  }
 ],
 "metadata": {
  "kernelspec": {
   "display_name": "Python 3",
   "language": "python",
   "name": "python3"
  },
  "language_info": {
   "codemirror_mode": {
    "name": "ipython",
    "version": 3
   },
   "file_extension": ".py",
   "mimetype": "text/x-python",
   "name": "python",
   "nbconvert_exporter": "python",
   "pygments_lexer": "ipython3",
   "version": "3.8.5"
  }
 },
 "nbformat": 4,
 "nbformat_minor": 4
}
