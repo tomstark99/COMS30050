{
 "cells": [
  {
   "cell_type": "code",
   "execution_count": 1,
   "metadata": {},
   "outputs": [],
   "source": [
    "from sklearn import datasets\n",
    "\n",
    "# How are we going to use evaluate the performance? \n",
    "# 1. accuracy\n",
    "from sklearn import metrics\n",
    "# 2. f1 score \n",
    "from sklearn.metrics import f1_score\n",
    "\n",
    "# Machine learning models \n",
    "\n",
    "# Linear Regression \n",
    "# url : https://scikit-learn.org/stable/modules/generated/sklearn.linear_model.LinearRegression.html\n",
    "from sklearn.linear_model import LinearRegression\n",
    "\n",
    "# SVM\n",
    "# url: https://scikit-learn.org/stable/modules/generated/sklearn.svm.SVC.html\n",
    "from sklearn import svm\n",
    "\n",
    "# KNN \n",
    "# url: https://scikit-learn.org/stable/modules/generated/sklearn.neighbors.KNeighborsClassifier.html\n",
    "from sklearn.neighbors import KNeighborsClassifier\n",
    "\n",
    "# Decision Tree\n",
    "# url: https://scikit-learn.org/stable/modules/generated/sklearn.tree.DecisionTreeClassifier.html\n",
    "from sklearn.tree import DecisionTreeClassifier\n",
    "\n",
    "# Random Forest \n",
    "# url: https://scikit-learn.org/stable/modules/generated/sklearn.ensemble.RandomForestClassifier.html\n",
    "from sklearn.ensemble import RandomForestClassifier\n",
    "\n",
    "# Logistic Classifier\n",
    "from sklearn.linear_model import LogisticRegression\n",
    "\n",
    "from sklearn.model_selection import RepeatedStratifiedKFold\n",
    "from sklearn.model_selection import GridSearchCV\n",
    "\n",
    "from sklearn.model_selection import learning_curve, RandomizedSearchCV, GridSearchCV\n",
    "from sklearn.model_selection import train_test_split, KFold\n",
    "from sklearn.datasets import make_classification\n",
    "from sklearn.pipeline import make_pipeline\n",
    "from sklearn.preprocessing import StandardScaler\n",
    "\n",
    "import numpy as np\n",
    "import matplotlib.pyplot as plt\n",
    "\n",
    "# PCA \n",
    "from sklearn.decomposition import PCA \n",
    "\n",
    "# Linear Regression\n",
    "from sklearn.model_selection import train_test_split\n",
    "from sklearn.linear_model import LinearRegression\n",
    "from sklearn.metrics import mean_squared_error, r2_score\n",
    "\n",
    "import pandas as pd\n",
    "import matplotlib.pyplot as plt\n",
    "import numpy as np\n",
    "\n",
    "import seaborn as sns\n",
    "\n",
    "from sklearn.model_selection import learning_curve\n",
    "\n",
    "from sklearn.metrics import classification_report"
   ]
  },
  {
   "cell_type": "markdown",
   "metadata": {},
   "source": [
    "# Preprocessing"
   ]
  },
  {
   "cell_type": "code",
   "execution_count": 2,
   "metadata": {},
   "outputs": [],
   "source": [
    "total_dep_score = pd.read_csv('../data/0&1/total_prim_diag.csv')\n",
    "\n",
    "X_t = total_dep_score.copy()\n",
    "del X_t['prim_diag']\n",
    "\n",
    "y_t = total_dep_score['prim_diag']"
   ]
  },
  {
   "cell_type": "code",
   "execution_count": 3,
   "metadata": {},
   "outputs": [
    {
     "data": {
      "text/plain": [
       "0.0    2430\n",
       "1.0     613\n",
       "Name: prim_diag, dtype: int64"
      ]
     },
     "execution_count": 3,
     "metadata": {},
     "output_type": "execute_result"
    }
   ],
   "source": [
    "y_t.value_counts() "
   ]
  },
  {
   "cell_type": "code",
   "execution_count": 4,
   "metadata": {},
   "outputs": [
    {
     "data": {
      "text/plain": [
       "0.7985540584949063"
      ]
     },
     "execution_count": 4,
     "metadata": {},
     "output_type": "execute_result"
    }
   ],
   "source": [
    "2430 /(2430 + 613)"
   ]
  },
  {
   "cell_type": "code",
   "execution_count": 5,
   "metadata": {},
   "outputs": [
    {
     "name": "stdout",
     "output_type": "stream",
     "text": [
      "      comp_week  comp_wend  text_week  text_wend  tv_week  tv_wend\n",
      "0             2          2          1          1        2        2\n",
      "1             2          1          1          1        2        3\n",
      "2             3          3          3          1        2        2\n",
      "3             1          2          1          1        1        2\n",
      "4             2          3          0          0        2        2\n",
      "...         ...        ...        ...        ...      ...      ...\n",
      "3038          3          3          2          2        2        3\n",
      "3039          2          3          1          1        1        2\n",
      "3040          0          0          0          0        2        0\n",
      "3041          2          3          1          1        1        2\n",
      "3042          1          2          2          2        0        1\n",
      "\n",
      "[3043 rows x 6 columns]\n",
      "0       0.0\n",
      "1       0.0\n",
      "2       1.0\n",
      "3       0.0\n",
      "4       0.0\n",
      "       ... \n",
      "3038    0.0\n",
      "3039    0.0\n",
      "3040    0.0\n",
      "3041    1.0\n",
      "3042    0.0\n",
      "Name: prim_diag, Length: 3043, dtype: float64\n"
     ]
    }
   ],
   "source": [
    "print(X_t)\n",
    "print(y_t)"
   ]
  },
  {
   "cell_type": "code",
   "execution_count": 6,
   "metadata": {},
   "outputs": [],
   "source": [
    "sampled_dep_score = pd.read_csv('../data/0&1/sampled_prim_diag.csv')\n",
    "\n",
    "X_s = sampled_dep_score.copy()\n",
    "del X_s['prim_diag']\n",
    "\n",
    "y_s = sampled_dep_score['prim_diag']"
   ]
  },
  {
   "cell_type": "code",
   "execution_count": 7,
   "metadata": {},
   "outputs": [
    {
     "data": {
      "text/plain": [
       "0.0    613\n",
       "1.0    613\n",
       "Name: prim_diag, dtype: int64"
      ]
     },
     "execution_count": 7,
     "metadata": {},
     "output_type": "execute_result"
    }
   ],
   "source": [
    "y_s.value_counts() "
   ]
  },
  {
   "cell_type": "code",
   "execution_count": 8,
   "metadata": {},
   "outputs": [
    {
     "name": "stdout",
     "output_type": "stream",
     "text": [
      "      comp_week  comp_wend  text_week  text_wend  tv_week  tv_wend\n",
      "0             2          2          2          2        3        2\n",
      "1             2          2          1          2        2        1\n",
      "2             1          2          1          1        0        2\n",
      "3             2          2          0          0        2        2\n",
      "4             0          0          1          1        1        1\n",
      "...         ...        ...        ...        ...      ...      ...\n",
      "1221          2          3          1          1        1        1\n",
      "1222          0          0          3          3        1        2\n",
      "1223          3          2          1          2        2        2\n",
      "1224          3          3          1          1        1        2\n",
      "1225          3          3          2          2        1        1\n",
      "\n",
      "[1226 rows x 6 columns]\n",
      "0       0.0\n",
      "1       1.0\n",
      "2       1.0\n",
      "3       0.0\n",
      "4       0.0\n",
      "       ... \n",
      "1221    1.0\n",
      "1222    0.0\n",
      "1223    1.0\n",
      "1224    1.0\n",
      "1225    1.0\n",
      "Name: prim_diag, Length: 1226, dtype: float64\n"
     ]
    }
   ],
   "source": [
    "print(X_s)\n",
    "print(y_s)"
   ]
  },
  {
   "cell_type": "code",
   "execution_count": 9,
   "metadata": {},
   "outputs": [],
   "source": [
    "folds = KFold(n_splits = 5, shuffle = True, random_state = 1)"
   ]
  },
  {
   "cell_type": "markdown",
   "metadata": {},
   "source": [
    "# 1. total"
   ]
  },
  {
   "cell_type": "code",
   "execution_count": 10,
   "metadata": {},
   "outputs": [],
   "source": [
    "X_train, X_test, y_train, y_test = train_test_split(X_t, y_t, test_size=0.3, random_state=1)  # 70% training and 30% test"
   ]
  },
  {
   "cell_type": "markdown",
   "metadata": {},
   "source": [
    "## SVM"
   ]
  },
  {
   "cell_type": "code",
   "execution_count": 11,
   "metadata": {},
   "outputs": [],
   "source": [
    "svm_hyper_params = [ \n",
    "                        {\n",
    "                        'gamma': np.logspace(-4, -1, 4),\n",
    "                        'C': np.logspace(-3, 1, 5),\n",
    "                        'kernel': ['linear', 'poly', 'rbf', 'sigmoid']\n",
    "                        }\n",
    "                    ]\n",
    "\n",
    "# specify model\n",
    "svm_model = svm.SVC(random_state=1)\n",
    "\n",
    "# set up GridSearchCV()\n",
    "svm_model_cv = GridSearchCV(estimator = svm_model, \n",
    "                            param_grid = svm_hyper_params, \n",
    "                            scoring= 'accuracy', \n",
    "                            cv = folds, \n",
    "                            verbose = 2,\n",
    "                            return_train_score=True,\n",
    "                            n_jobs=2)      "
   ]
  },
  {
   "cell_type": "code",
   "execution_count": 12,
   "metadata": {},
   "outputs": [
    {
     "name": "stdout",
     "output_type": "stream",
     "text": [
      "Fitting 5 folds for each of 80 candidates, totalling 400 fits\n",
      "best hyper parameters {'C': 0.001, 'gamma': 0.0001, 'kernel': 'linear'}\n"
     ]
    }
   ],
   "source": [
    "# fit the model\n",
    "svm_model_cv.fit(X_train, y_train)\n",
    "print(\"best hyper parameters\", svm_model_cv.best_params_)\n",
    "svm_y_pred = svm_model_cv.predict(X_test)"
   ]
  },
  {
   "cell_type": "code",
   "execution_count": 13,
   "metadata": {},
   "outputs": [
    {
     "name": "stdout",
     "output_type": "stream",
     "text": [
      "Accuracy: 0.823658269441402\n",
      "F1 score micro: 0.823658269441402\n",
      "F1 score binary: 0.0\n",
      "\n",
      "classification report:\n",
      "               precision    recall  f1-score   support\n",
      "\n",
      "         0.0       0.82      1.00      0.90       752\n",
      "         1.0       0.00      0.00      0.00       161\n",
      "\n",
      "    accuracy                           0.82       913\n",
      "   macro avg       0.41      0.50      0.45       913\n",
      "weighted avg       0.68      0.82      0.74       913\n",
      "\n"
     ]
    },
    {
     "name": "stderr",
     "output_type": "stream",
     "text": [
      "/home/sungjin/Documents/Programming/python/venv/lib/python3.8/site-packages/sklearn/metrics/_classification.py:1245: UndefinedMetricWarning: Precision and F-score are ill-defined and being set to 0.0 in labels with no predicted samples. Use `zero_division` parameter to control this behavior.\n",
      "  _warn_prf(average, modifier, msg_start, len(result))\n",
      "/home/sungjin/Documents/Programming/python/venv/lib/python3.8/site-packages/sklearn/metrics/_classification.py:1245: UndefinedMetricWarning: Precision and F-score are ill-defined and being set to 0.0 in labels with no predicted samples. Use `zero_division` parameter to control this behavior.\n",
      "  _warn_prf(average, modifier, msg_start, len(result))\n",
      "/home/sungjin/Documents/Programming/python/venv/lib/python3.8/site-packages/sklearn/metrics/_classification.py:1245: UndefinedMetricWarning: Precision and F-score are ill-defined and being set to 0.0 in labels with no predicted samples. Use `zero_division` parameter to control this behavior.\n",
      "  _warn_prf(average, modifier, msg_start, len(result))\n"
     ]
    }
   ],
   "source": [
    "# accuracy \n",
    "print(\"Accuracy:\", metrics.accuracy_score(y_test, svm_y_pred))\n",
    "# f1 score \n",
    "print(\"F1 score micro:\", f1_score(y_test, svm_y_pred, average='micro'))\n",
    "print(\"F1 score binary:\", f1_score(y_test, svm_y_pred, average='binary'))\n",
    "\n",
    "print(\"\\nclassification report:\\n\", classification_report(y_test, svm_y_pred))"
   ]
  },
  {
   "cell_type": "code",
   "execution_count": 14,
   "metadata": {},
   "outputs": [
    {
     "name": "stdout",
     "output_type": "stream",
     "text": [
      "[learning_curve] Training set sizes: [  17  204  391  579  766  954 1141 1329 1516 1704]\n"
     ]
    },
    {
     "name": "stderr",
     "output_type": "stream",
     "text": [
      "[Parallel(n_jobs=-1)]: Using backend LokyBackend with 12 concurrent workers.\n",
      "[Parallel(n_jobs=-1)]: Done  25 out of  50 | elapsed:    0.7s remaining:    0.7s\n",
      "[Parallel(n_jobs=-1)]: Done  50 out of  50 | elapsed:    0.8s finished\n"
     ]
    },
    {
     "data": {
      "image/png": "[encoded data removed]",
      "text/plain": [
       "<Figure size 432x288 with 1 Axes>"
      ]
     },
     "metadata": {
      "needs_background": "light"
     },
     "output_type": "display_data"
    }
   ],
   "source": [
    "# ------ HERE ------\n",
    "\n",
    "# plug in suitable hyper-parameters\n",
    "\n",
    "\n",
    "# 여기만 바꾸면 된다. \n",
    "plot_model = svm.SVC(kernel='linear', C=0.001, gamma=0.0001)\n",
    "\n",
    "\n",
    "train_sizes, train_scores, val_scores = learning_curve(plot_model, \n",
    "                                                       X_train, \n",
    "                                                       y_train, \n",
    "                                                       cv=5, \n",
    "                                                       scoring='accuracy', \n",
    "                                                       n_jobs=-1, # 이거 바꾸고 싶으면 바꾸고  \n",
    "                                                       train_sizes=np.linspace(0.01, 1, 10), \n",
    "                                                       verbose=2)\n",
    "# 여기만 바꾸면 된다. \n",
    "\n",
    "\n",
    "train_mean = np.mean(train_scores, axis = 1)\n",
    "train_std = np.std(train_scores, axis=1)\n",
    "val_mean = np.mean(val_scores, axis=1)\n",
    "val_std = np.std(val_scores, axis=1)\n",
    "\n",
    "plt.plot(train_sizes, train_mean, label='Training score')\n",
    "plt.plot(train_sizes, val_mean, label='Cross-validation score')\n",
    "plt.title('Learning curve')\n",
    "plt.xlabel('Training Size')\n",
    "plt.ylabel('Accuracy score')\n",
    "plt.legend(loc='best')\n",
    "plt.show()"
   ]
  },
  {
   "cell_type": "markdown",
   "metadata": {},
   "source": [
    "## Logistic Regression"
   ]
  },
  {
   "cell_type": "code",
   "execution_count": 15,
   "metadata": {},
   "outputs": [],
   "source": [
    "log_hyper_params = [ \n",
    "                        {\n",
    "                        'C': np.logspace(-4, 2, 7),\n",
    "                        'solver' : ['newton-cg', 'lbfgs', 'liblinear', 'sag', 'saga'],\n",
    "                        'penalty' : ['l1', 'l2', 'elasticnet', 'none'],\n",
    "                        'multi_class' : ['auto', 'ovr', 'multinomial']\n",
    "                        }\n",
    "                    ]\n",
    "\n",
    "# specify model\n",
    "log_model = LogisticRegression(random_state=1)\n",
    "\n",
    "# set up GridSearchCV()\n",
    "log_model_cv = GridSearchCV(estimator = log_model, \n",
    "                            param_grid = log_hyper_params, \n",
    "                            scoring= 'accuracy', \n",
    "                            cv = folds, \n",
    "                            verbose = 2,\n",
    "                            return_train_score=True,\n",
    "                            n_jobs=-1)      "
   ]
  },
  {
   "cell_type": "code",
   "execution_count": 16,
   "metadata": {},
   "outputs": [
    {
     "name": "stdout",
     "output_type": "stream",
     "text": [
      "Fitting 5 folds for each of 420 candidates, totalling 2100 fits\n",
      "best hyper parameters {'C': 0.0001, 'multi_class': 'auto', 'penalty': 'l1', 'solver': 'liblinear'}\n"
     ]
    },
    {
     "name": "stderr",
     "output_type": "stream",
     "text": [
      "/home/sungjin/Documents/Programming/python/venv/lib/python3.8/site-packages/sklearn/model_selection/_search.py:918: UserWarning: One or more of the test scores are non-finite: [       nan        nan 0.78779343        nan 0.78779343 0.78779343\n",
      " 0.78779343 0.78779343 0.78779343 0.78779343        nan        nan\n",
      "        nan        nan        nan 0.78779343 0.78779343        nan\n",
      " 0.78779343 0.78779343        nan        nan 0.78779343        nan\n",
      " 0.78779343 0.78779343 0.78779343 0.78779343 0.78779343 0.78779343\n",
      "        nan        nan        nan        nan        nan 0.78779343\n",
      " 0.78779343        nan 0.78779343 0.78779343        nan        nan\n",
      "        nan        nan 0.78779343 0.78779343 0.78779343        nan\n",
      " 0.78779343 0.78779343        nan        nan        nan        nan\n",
      "        nan 0.78779343 0.78779343        nan 0.78779343 0.78779343\n",
      "        nan        nan 0.78779343        nan 0.78779343 0.78779343\n",
      " 0.78779343 0.78779343 0.78779343 0.78779343        nan        nan\n",
      "        nan        nan        nan 0.78779343 0.78779343        nan\n",
      " 0.78779343 0.78779343        nan        nan 0.78779343        nan\n",
      " 0.78779343 0.78779343 0.78779343 0.78779343 0.78779343 0.78779343\n",
      "        nan        nan        nan        nan        nan 0.78779343\n",
      " 0.78779343        nan 0.78779343 0.78779343        nan        nan\n",
      "        nan        nan 0.78779343 0.78779343 0.78779343        nan\n",
      " 0.78779343 0.78779343        nan        nan        nan        nan\n",
      "        nan 0.78779343 0.78779343        nan 0.78779343 0.78779343\n",
      "        nan        nan 0.78779343        nan 0.78779343 0.78779343\n",
      " 0.78779343 0.78779343 0.78779343 0.78779343        nan        nan\n",
      "        nan        nan        nan 0.78779343 0.78779343        nan\n",
      " 0.78779343 0.78779343        nan        nan 0.78779343        nan\n",
      " 0.78779343 0.78779343 0.78779343 0.78779343 0.78779343 0.78779343\n",
      "        nan        nan        nan        nan        nan 0.78779343\n",
      " 0.78779343        nan 0.78779343 0.78779343        nan        nan\n",
      "        nan        nan 0.78779343 0.78779343 0.78779343        nan\n",
      " 0.78779343 0.78779343        nan        nan        nan        nan\n",
      "        nan 0.78779343 0.78779343        nan 0.78779343 0.78779343\n",
      "        nan        nan 0.78779343        nan 0.78779343 0.78779343\n",
      " 0.78779343 0.78779343 0.78779343 0.78779343        nan        nan\n",
      "        nan        nan        nan 0.78779343 0.78779343        nan\n",
      " 0.78779343 0.78779343        nan        nan 0.78779343        nan\n",
      " 0.78779343 0.78779343 0.78779343 0.78779343 0.78779343 0.78779343\n",
      "        nan        nan        nan        nan        nan 0.78779343\n",
      " 0.78779343        nan 0.78779343 0.78779343        nan        nan\n",
      "        nan        nan 0.78779343 0.78779343 0.78779343        nan\n",
      " 0.78779343 0.78779343        nan        nan        nan        nan\n",
      "        nan 0.78779343 0.78779343        nan 0.78779343 0.78779343\n",
      "        nan        nan 0.78779343        nan 0.78779343 0.78779343\n",
      " 0.78779343 0.78779343 0.78779343 0.78779343        nan        nan\n",
      "        nan        nan        nan 0.78779343 0.78779343        nan\n",
      " 0.78779343 0.78779343        nan        nan 0.78779343        nan\n",
      " 0.78779343 0.78779343 0.78779343 0.78779343 0.78779343 0.78779343\n",
      "        nan        nan        nan        nan        nan 0.78779343\n",
      " 0.78779343        nan 0.78779343 0.78779343        nan        nan\n",
      "        nan        nan 0.78779343 0.78779343 0.78779343        nan\n",
      " 0.78779343 0.78779343        nan        nan        nan        nan\n",
      "        nan 0.78779343 0.78779343        nan 0.78779343 0.78779343\n",
      "        nan        nan 0.78779343        nan 0.78779343 0.78779343\n",
      " 0.78779343 0.78779343 0.78779343 0.78779343        nan        nan\n",
      "        nan        nan        nan 0.78779343 0.78779343        nan\n",
      " 0.78779343 0.78779343        nan        nan 0.78779343        nan\n",
      " 0.78779343 0.78779343 0.78779343 0.78779343 0.78779343 0.78779343\n",
      "        nan        nan        nan        nan        nan 0.78779343\n",
      " 0.78779343        nan 0.78779343 0.78779343        nan        nan\n",
      "        nan        nan 0.78779343 0.78779343 0.78779343        nan\n",
      " 0.78779343 0.78779343        nan        nan        nan        nan\n",
      "        nan 0.78779343 0.78779343        nan 0.78779343 0.78779343\n",
      "        nan        nan 0.78779343        nan 0.78779343 0.78779343\n",
      " 0.78779343 0.78779343 0.78779343 0.78779343        nan        nan\n",
      "        nan        nan        nan 0.78779343 0.78779343        nan\n",
      " 0.78779343 0.78779343        nan        nan 0.78779343        nan\n",
      " 0.78779343 0.78779343 0.78779343 0.78779343 0.78779343 0.78779343\n",
      "        nan        nan        nan        nan        nan 0.78779343\n",
      " 0.78779343        nan 0.78779343 0.78779343        nan        nan\n",
      "        nan        nan 0.78779343 0.78779343 0.78779343        nan\n",
      " 0.78779343 0.78779343        nan        nan        nan        nan\n",
      "        nan 0.78779343 0.78779343        nan 0.78779343 0.78779343]\n",
      "  warnings.warn(\n",
      "/home/sungjin/Documents/Programming/python/venv/lib/python3.8/site-packages/sklearn/model_selection/_search.py:918: UserWarning: One or more of the train scores are non-finite: [       nan        nan 0.78779343        nan 0.78779343 0.78779343\n",
      " 0.78779343 0.78779343 0.78779343 0.78779343        nan        nan\n",
      "        nan        nan        nan 0.78779343 0.78779343        nan\n",
      " 0.78779343 0.78779343        nan        nan 0.78779343        nan\n",
      " 0.78779343 0.78779343 0.78779343 0.78779343 0.78779343 0.78779343\n",
      "        nan        nan        nan        nan        nan 0.78779343\n",
      " 0.78779343        nan 0.78779343 0.78779343        nan        nan\n",
      "        nan        nan 0.78779343 0.78779343 0.78779343        nan\n",
      " 0.78779343 0.78779343        nan        nan        nan        nan\n",
      "        nan 0.78779343 0.78779343        nan 0.78779343 0.78779343\n",
      "        nan        nan 0.78779343        nan 0.78779343 0.78779343\n",
      " 0.78779343 0.78779343 0.78779343 0.78779343        nan        nan\n",
      "        nan        nan        nan 0.78779343 0.78779343        nan\n",
      " 0.78779343 0.78779343        nan        nan 0.78779343        nan\n",
      " 0.78779343 0.78779343 0.78779343 0.78779343 0.78779343 0.78779343\n",
      "        nan        nan        nan        nan        nan 0.78779343\n",
      " 0.78779343        nan 0.78779343 0.78779343        nan        nan\n",
      "        nan        nan 0.78779343 0.78779343 0.78779343        nan\n",
      " 0.78779343 0.78779343        nan        nan        nan        nan\n",
      "        nan 0.78779343 0.78779343        nan 0.78779343 0.78779343\n",
      "        nan        nan 0.78779343        nan 0.78779343 0.78779343\n",
      " 0.78779343 0.78779343 0.78779343 0.78779343        nan        nan\n",
      "        nan        nan        nan 0.78779343 0.78779343        nan\n",
      " 0.78779343 0.78779343        nan        nan 0.78779343        nan\n",
      " 0.78779343 0.78779343 0.78779343 0.78779343 0.78779343 0.78779343\n",
      "        nan        nan        nan        nan        nan 0.78779343\n",
      " 0.78779343        nan 0.78779343 0.78779343        nan        nan\n",
      "        nan        nan 0.78779343 0.78779343 0.78779343        nan\n",
      " 0.78779343 0.78779343        nan        nan        nan        nan\n",
      "        nan 0.78779343 0.78779343        nan 0.78779343 0.78779343\n",
      "        nan        nan 0.78779343        nan 0.78779343 0.78779343\n",
      " 0.78779343 0.78779343 0.78779343 0.78779343        nan        nan\n",
      "        nan        nan        nan 0.78779343 0.78779343        nan\n",
      " 0.78779343 0.78779343        nan        nan 0.78779343        nan\n",
      " 0.78779343 0.78779343 0.78779343 0.78779343 0.78779343 0.78779343\n",
      "        nan        nan        nan        nan        nan 0.78779343\n",
      " 0.78779343        nan 0.78779343 0.78779343        nan        nan\n",
      "        nan        nan 0.78779343 0.78779343 0.78779343        nan\n",
      " 0.78779343 0.78779343        nan        nan        nan        nan\n",
      "        nan 0.78779343 0.78779343        nan 0.78779343 0.78779343\n",
      "        nan        nan 0.78779343        nan 0.78779343 0.78779343\n",
      " 0.78779343 0.78779343 0.78779343 0.78779343        nan        nan\n",
      "        nan        nan        nan 0.78779343 0.78779343        nan\n",
      " 0.78779343 0.78779343        nan        nan 0.78779343        nan\n",
      " 0.78779343 0.78779343 0.78779343 0.78779343 0.78779343 0.78779343\n",
      "        nan        nan        nan        nan        nan 0.78779343\n",
      " 0.78779343        nan 0.78779343 0.78779343        nan        nan\n",
      "        nan        nan 0.78779343 0.78779343 0.78779343        nan\n",
      " 0.78779343 0.78779343        nan        nan        nan        nan\n",
      "        nan 0.78779343 0.78779343        nan 0.78779343 0.78779343\n",
      "        nan        nan 0.78779343        nan 0.78779343 0.78779343\n",
      " 0.78779343 0.78779343 0.78779343 0.78779343        nan        nan\n",
      "        nan        nan        nan 0.78779343 0.78779343        nan\n",
      " 0.78779343 0.78779343        nan        nan 0.78779343        nan\n",
      " 0.78779343 0.78779343 0.78779343 0.78779343 0.78779343 0.78779343\n",
      "        nan        nan        nan        nan        nan 0.78779343\n",
      " 0.78779343        nan 0.78779343 0.78779343        nan        nan\n",
      "        nan        nan 0.78779343 0.78779343 0.78779343        nan\n",
      " 0.78779343 0.78779343        nan        nan        nan        nan\n",
      "        nan 0.78779343 0.78779343        nan 0.78779343 0.78779343\n",
      "        nan        nan 0.78779343        nan 0.78779343 0.78779343\n",
      " 0.78779343 0.78779343 0.78779343 0.78779343        nan        nan\n",
      "        nan        nan        nan 0.78779343 0.78779343        nan\n",
      " 0.78779343 0.78779343        nan        nan 0.78779343        nan\n",
      " 0.78779343 0.78779343 0.78779343 0.78779343 0.78779343 0.78779343\n",
      "        nan        nan        nan        nan        nan 0.78779343\n",
      " 0.78779343        nan 0.78779343 0.78779343        nan        nan\n",
      "        nan        nan 0.78779343 0.78779343 0.78779343        nan\n",
      " 0.78779343 0.78779343        nan        nan        nan        nan\n",
      "        nan 0.78779343 0.78779343        nan 0.78779343 0.78779343]\n",
      "  warnings.warn(\n"
     ]
    }
   ],
   "source": [
    "# fit the model\n",
    "log_model_cv.fit(X_train, y_train)\n",
    "print(\"best hyper parameters\", log_model_cv.best_params_)\n",
    "log_y_pred = log_model_cv.predict(X_test)"
   ]
  },
  {
   "cell_type": "code",
   "execution_count": 17,
   "metadata": {},
   "outputs": [
    {
     "name": "stdout",
     "output_type": "stream",
     "text": [
      "Accuracy: 0.823658269441402\n",
      "F1 score micro: 0.823658269441402\n",
      "F1 score binary: 0.0\n",
      "\n",
      "classification report:\n",
      "               precision    recall  f1-score   support\n",
      "\n",
      "         0.0       0.82      1.00      0.90       752\n",
      "         1.0       0.00      0.00      0.00       161\n",
      "\n",
      "    accuracy                           0.82       913\n",
      "   macro avg       0.41      0.50      0.45       913\n",
      "weighted avg       0.68      0.82      0.74       913\n",
      "\n"
     ]
    },
    {
     "name": "stderr",
     "output_type": "stream",
     "text": [
      "/home/sungjin/Documents/Programming/python/venv/lib/python3.8/site-packages/sklearn/metrics/_classification.py:1245: UndefinedMetricWarning: Precision and F-score are ill-defined and being set to 0.0 in labels with no predicted samples. Use `zero_division` parameter to control this behavior.\n",
      "  _warn_prf(average, modifier, msg_start, len(result))\n",
      "/home/sungjin/Documents/Programming/python/venv/lib/python3.8/site-packages/sklearn/metrics/_classification.py:1245: UndefinedMetricWarning: Precision and F-score are ill-defined and being set to 0.0 in labels with no predicted samples. Use `zero_division` parameter to control this behavior.\n",
      "  _warn_prf(average, modifier, msg_start, len(result))\n",
      "/home/sungjin/Documents/Programming/python/venv/lib/python3.8/site-packages/sklearn/metrics/_classification.py:1245: UndefinedMetricWarning: Precision and F-score are ill-defined and being set to 0.0 in labels with no predicted samples. Use `zero_division` parameter to control this behavior.\n",
      "  _warn_prf(average, modifier, msg_start, len(result))\n"
     ]
    }
   ],
   "source": [
    "# accuracy \n",
    "print(\"Accuracy:\", metrics.accuracy_score(y_test, log_y_pred))\n",
    "# f1 score \n",
    "print(\"F1 score micro:\", f1_score(y_test, log_y_pred, average='micro'))\n",
    "print(\"F1 score binary:\", f1_score(y_test, log_y_pred, average='binary'))\n",
    "\n",
    "print(\"\\nclassification report:\\n\", classification_report(y_test, log_y_pred))"
   ]
  },
  {
   "cell_type": "code",
   "execution_count": 18,
   "metadata": {},
   "outputs": [
    {
     "name": "stdout",
     "output_type": "stream",
     "text": [
      "[learning_curve] Training set sizes: [  17  204  391  579  766  954 1141 1329 1516 1704]\n"
     ]
    },
    {
     "name": "stderr",
     "output_type": "stream",
     "text": [
      "[Parallel(n_jobs=-1)]: Using backend LokyBackend with 12 concurrent workers.\n",
      "[Parallel(n_jobs=-1)]: Done  25 out of  50 | elapsed:    0.0s remaining:    0.0s\n",
      "[Parallel(n_jobs=-1)]: Done  50 out of  50 | elapsed:    0.1s finished\n"
     ]
    },
    {
     "data": {
      "image/png": "[encoded data removed]",
      "text/plain": [
       "<Figure size 432x288 with 1 Axes>"
      ]
     },
     "metadata": {
      "needs_background": "light"
     },
     "output_type": "display_data"
    }
   ],
   "source": [
    "# ------ HERE ------\n",
    "\n",
    "# plug in suitable hyper-parameters\n",
    "\n",
    "\n",
    "# 여기만 바꾸면 된다. \n",
    "plot_model = LogisticRegression(C=0.0001, multi_class='auto', penalty='l1', solver='liblinear')\n",
    "\n",
    "\n",
    "train_sizes, train_scores, val_scores = learning_curve(plot_model, \n",
    "                                                       X_train, \n",
    "                                                       y_train, \n",
    "                                                       cv=5, \n",
    "                                                       scoring='accuracy', \n",
    "                                                       n_jobs=-1, # 이거 바꾸고 싶으면 바꾸고  \n",
    "                                                       train_sizes=np.linspace(0.01, 1, 10), \n",
    "                                                       verbose=2)\n",
    "# 여기만 바꾸면 된다. \n",
    "\n",
    "\n",
    "train_mean = np.mean(train_scores, axis = 1)\n",
    "train_std = np.std(train_scores, axis=1)\n",
    "val_mean = np.mean(val_scores, axis=1)\n",
    "val_std = np.std(val_scores, axis=1)\n",
    "\n",
    "plt.plot(train_sizes, train_mean, label='Training score')\n",
    "plt.plot(train_sizes, val_mean, label='Cross-validation score')\n",
    "plt.title('Learning curve')\n",
    "plt.xlabel('Training Size')\n",
    "plt.ylabel('Accuracy score')\n",
    "plt.legend(loc='best')\n",
    "plt.show()"
   ]
  },
  {
   "cell_type": "markdown",
   "metadata": {},
   "source": [
    "## KNN"
   ]
  },
  {
   "cell_type": "code",
   "execution_count": 19,
   "metadata": {},
   "outputs": [],
   "source": [
    "knn_hyper_params = [ \n",
    "                        {\n",
    "                        'weights' : ['uniform', 'distance'],\n",
    "                        'algorithm' : ['auto', 'ball_tree', 'kd_tree', 'brute'],\n",
    "                        'leaf_size' : np.linspace(2, 100, 10, dtype=int)\n",
    "                        }\n",
    "                    ]\n",
    "\n",
    "# specify model\n",
    "\n",
    "# THIS SECTION SHOULD BE CHANGED.\n",
    "# n_neighbors  SHOULD BE MODIFIED TO ANOTHER VALUE DEPENDING ON THE TARGET VALUE.\n",
    "knn_model = KNeighborsClassifier(n_neighbors=len(y_t.unique()))\n",
    "\n",
    "# set up GridSearchCV()\n",
    "knn_model_cv = GridSearchCV(estimator = knn_model, \n",
    "                            param_grid = knn_hyper_params, \n",
    "                            scoring= 'accuracy', \n",
    "                            cv = folds, \n",
    "                            verbose = 2,\n",
    "                            return_train_score=True,\n",
    "                            n_jobs=-1)      "
   ]
  },
  {
   "cell_type": "code",
   "execution_count": 20,
   "metadata": {},
   "outputs": [
    {
     "name": "stdout",
     "output_type": "stream",
     "text": [
      "Fitting 5 folds for each of 80 candidates, totalling 400 fits\n",
      "best hyper parameters {'algorithm': 'ball_tree', 'leaf_size': 23, 'weights': 'uniform'}\n"
     ]
    }
   ],
   "source": [
    "# fit the model\n",
    "knn_model_cv.fit(X_train, y_train)\n",
    "print(\"best hyper parameters\", knn_model_cv.best_params_)\n",
    "knn_y_pred = knn_model_cv.predict(X_test)"
   ]
  },
  {
   "cell_type": "code",
   "execution_count": 21,
   "metadata": {},
   "outputs": [
    {
     "name": "stdout",
     "output_type": "stream",
     "text": [
      "Accuracy: 0.7907995618838992\n",
      "F1 score micro: 0.7907995618838992\n",
      "F1 score binary: 0.07729468599033816\n",
      "\n",
      "classification report:\n",
      "               precision    recall  f1-score   support\n",
      "\n",
      "         0.0       0.82      0.95      0.88       752\n",
      "         1.0       0.17      0.05      0.08       161\n",
      "\n",
      "    accuracy                           0.79       913\n",
      "   macro avg       0.50      0.50      0.48       913\n",
      "weighted avg       0.71      0.79      0.74       913\n",
      "\n"
     ]
    }
   ],
   "source": [
    "# accuracy \n",
    "print(\"Accuracy:\", metrics.accuracy_score(y_test, knn_y_pred))\n",
    "# f1 score \n",
    "print(\"F1 score micro:\", f1_score(y_test, knn_y_pred, average='micro'))\n",
    "print(\"F1 score binary:\", f1_score(y_test, knn_y_pred, average='binary'))\n",
    "\n",
    "print(\"\\nclassification report:\\n\", classification_report(y_test, knn_y_pred))"
   ]
  },
  {
   "cell_type": "code",
   "execution_count": 22,
   "metadata": {},
   "outputs": [
    {
     "name": "stdout",
     "output_type": "stream",
     "text": [
      "[learning_curve] Training set sizes: [  17  204  391  579  766  954 1141 1329 1516 1704]\n"
     ]
    },
    {
     "name": "stderr",
     "output_type": "stream",
     "text": [
      "[Parallel(n_jobs=-1)]: Using backend LokyBackend with 12 concurrent workers.\n",
      "[Parallel(n_jobs=-1)]: Done  25 out of  50 | elapsed:    0.1s remaining:    0.1s\n",
      "[Parallel(n_jobs=-1)]: Done  50 out of  50 | elapsed:    0.3s finished\n"
     ]
    },
    {
     "data": {
      "image/png": "[encoded data removed]",
      "text/plain": [
       "<Figure size 432x288 with 1 Axes>"
      ]
     },
     "metadata": {
      "needs_background": "light"
     },
     "output_type": "display_data"
    }
   ],
   "source": [
    "# ------ HERE ------\n",
    "\n",
    "# plug in suitable hyper-parameters\n",
    "\n",
    "\n",
    "# 여기만 바꾸면 된다. \n",
    "plot_model = KNeighborsClassifier(algorithm='ball_tree', leaf_size=23, weights='uniform')\n",
    "\n",
    "\n",
    "train_sizes, train_scores, val_scores = learning_curve(plot_model, \n",
    "                                                       X_train, \n",
    "                                                       y_train, \n",
    "                                                       cv=5, \n",
    "                                                       scoring='accuracy', \n",
    "                                                       n_jobs=-1, # 이거 바꾸고 싶으면 바꾸고  \n",
    "                                                       train_sizes=np.linspace(0.01, 1, 10), \n",
    "                                                       verbose=2)\n",
    "# 여기만 바꾸면 된다. \n",
    "\n",
    "\n",
    "train_mean = np.mean(train_scores, axis = 1)\n",
    "train_std = np.std(train_scores, axis=1)\n",
    "val_mean = np.mean(val_scores, axis=1)\n",
    "val_std = np.std(val_scores, axis=1)\n",
    "\n",
    "plt.plot(train_sizes, train_mean, label='Training score')\n",
    "plt.plot(train_sizes, val_mean, label='Cross-validation score')\n",
    "plt.title('Learning curve')\n",
    "plt.xlabel('Training Size')\n",
    "plt.ylabel('Accuracy score')\n",
    "plt.legend(loc='best')\n",
    "plt.show()"
   ]
  },
  {
   "cell_type": "markdown",
   "metadata": {},
   "source": [
    "## Random Forest"
   ]
  },
  {
   "cell_type": "code",
   "execution_count": 23,
   "metadata": {},
   "outputs": [],
   "source": [
    "rf_hyper_params = [ \n",
    "                        {\n",
    "                            'n_estimators' : [int(x) for x in np.linspace(5, 50, 5)],\n",
    "                            'criterion' : ['gini', 'entropy'],\n",
    "                            'max_depth' : [int(x) for x in np.linspace(2, 50, 5)],\n",
    "                            'min_samples_split' : [int(x) for x in np.linspace(2, 50, 5)],\n",
    "                            'min_samples_leaf' : [int(x) for x in np.linspace(2, 50, 5)],\n",
    "                            'max_features' : ['auto', 'sqrt', 'log2'],\n",
    "                            'bootstrap' : [True, False]\n",
    "\n",
    "                        }\n",
    "                    ]\n",
    "\n",
    "# specify model\n",
    "\n",
    "# THIS SECTION SHOULD BE CHANGED.\n",
    "# n_neighbors  SHOULD BE MODIFIED TO ANOTHER VALUE DEPENDING ON THE TARGET VALUE.\n",
    "rf_model = RandomForestClassifier(random_state=1)\n",
    "\n",
    "# set up GridSearchCV()\n",
    "rf_model_cv = GridSearchCV(estimator = rf_model, \n",
    "                            param_grid = rf_hyper_params, \n",
    "                            scoring= 'accuracy', \n",
    "                            cv = folds, \n",
    "                            verbose = 2,\n",
    "                            return_train_score=True,\n",
    "                            n_jobs=-1)      "
   ]
  },
  {
   "cell_type": "code",
   "execution_count": 24,
   "metadata": {},
   "outputs": [
    {
     "name": "stdout",
     "output_type": "stream",
     "text": [
      "Fitting 5 folds for each of 7500 candidates, totalling 37500 fits\n",
      "best hyper parameters {'bootstrap': False, 'criterion': 'entropy', 'max_depth': 14, 'max_features': 'auto', 'min_samples_leaf': 2, 'min_samples_split': 38, 'n_estimators': 38}\n"
     ]
    }
   ],
   "source": [
    "# fit the model\n",
    "rf_model_cv.fit(X_train, y_train)\n",
    "print(\"best hyper parameters\", rf_model_cv.best_params_)\n",
    "rf_y_pred = rf_model_cv.predict(X_test)"
   ]
  },
  {
   "cell_type": "code",
   "execution_count": 25,
   "metadata": {},
   "outputs": [
    {
     "name": "stdout",
     "output_type": "stream",
     "text": [
      "Accuracy: 0.8214676889375685\n",
      "F1 score micro: 0.8214676889375685\n",
      "F1 score binary: 0.0\n",
      "\n",
      "classification report:\n",
      "               precision    recall  f1-score   support\n",
      "\n",
      "         0.0       0.82      1.00      0.90       752\n",
      "         1.0       0.00      0.00      0.00       161\n",
      "\n",
      "    accuracy                           0.82       913\n",
      "   macro avg       0.41      0.50      0.45       913\n",
      "weighted avg       0.68      0.82      0.74       913\n",
      "\n"
     ]
    }
   ],
   "source": [
    "# accuracy \n",
    "print(\"Accuracy:\", metrics.accuracy_score(y_test, rf_y_pred))\n",
    "# f1 score \n",
    "print(\"F1 score micro:\", f1_score(y_test, rf_y_pred, average='micro'))\n",
    "print(\"F1 score binary:\", f1_score(y_test, rf_y_pred, average='binary'))\n",
    "\n",
    "print(\"\\nclassification report:\\n\", classification_report(y_test, rf_y_pred))"
   ]
  },
  {
   "cell_type": "code",
   "execution_count": 26,
   "metadata": {},
   "outputs": [
    {
     "name": "stdout",
     "output_type": "stream",
     "text": [
      "[learning_curve] Training set sizes: [  17  204  391  579  766  954 1141 1329 1516 1704]\n"
     ]
    },
    {
     "name": "stderr",
     "output_type": "stream",
     "text": [
      "[Parallel(n_jobs=-1)]: Using backend LokyBackend with 12 concurrent workers.\n",
      "[Parallel(n_jobs=-1)]: Done  25 out of  50 | elapsed:    0.2s remaining:    0.2s\n",
      "[Parallel(n_jobs=-1)]: Done  50 out of  50 | elapsed:    0.3s finished\n"
     ]
    },
    {
     "data": {
      "image/png": "[encoded data removed]",
      "text/plain": [
       "<Figure size 432x288 with 1 Axes>"
      ]
     },
     "metadata": {
      "needs_background": "light"
     },
     "output_type": "display_data"
    }
   ],
   "source": [
    "# ------ HERE ------\n",
    "\n",
    "# plug in suitable hyper-parameters\n",
    "\n",
    "\n",
    "# 여기만 바꾸면 된다. \n",
    "plot_model = RandomForestClassifier(bootstrap=False, criterion='entropy', max_depth=14, max_features='auto', min_samples_leaf=2, min_samples_split=38, n_estimators=38)\n",
    "\n",
    "train_sizes, train_scores, val_scores = learning_curve(plot_model, \n",
    "                                                       X_train, \n",
    "                                                       y_train, \n",
    "                                                       cv=5, \n",
    "                                                       scoring='accuracy', \n",
    "                                                       n_jobs=-1, # 이거 바꾸고 싶으면 바꾸고  \n",
    "                                                       train_sizes=np.linspace(0.01, 1, 10), \n",
    "                                                       verbose=2)\n",
    "# 여기만 바꾸면 된다. \n",
    "\n",
    "\n",
    "train_mean = np.mean(train_scores, axis = 1)\n",
    "train_std = np.std(train_scores, axis=1)\n",
    "val_mean = np.mean(val_scores, axis=1)\n",
    "val_std = np.std(val_scores, axis=1)\n",
    "\n",
    "plt.plot(train_sizes, train_mean, label='Training score')\n",
    "plt.plot(train_sizes, val_mean, label='Cross-validation score')\n",
    "plt.title('Learning curve')\n",
    "plt.xlabel('Training Size')\n",
    "plt.ylabel('Accuracy score')\n",
    "plt.legend(loc='best')\n",
    "plt.show()"
   ]
  },
  {
   "cell_type": "markdown",
   "metadata": {},
   "source": [
    "# Total Learning Curve"
   ]
  },
  {
   "cell_type": "code",
   "execution_count": 27,
   "metadata": {},
   "outputs": [
    {
     "name": "stderr",
     "output_type": "stream",
     "text": [
      "[Parallel(n_jobs=-1)]: Using backend LokyBackend with 12 concurrent workers.\n",
      "[Parallel(n_jobs=-1)]: Done  25 out of  50 | elapsed:    0.1s remaining:    0.1s\n"
     ]
    },
    {
     "name": "stdout",
     "output_type": "stream",
     "text": [
      "[learning_curve] Training set sizes: [  17  204  391  579  766  954 1141 1329 1516 1704]\n",
      "[learning_curve] Training set sizes: [  17  204  391  579  766  954 1141 1329 1516 1704]\n"
     ]
    },
    {
     "name": "stderr",
     "output_type": "stream",
     "text": [
      "[Parallel(n_jobs=-1)]: Done  50 out of  50 | elapsed:    0.2s finished\n",
      "[Parallel(n_jobs=-1)]: Using backend LokyBackend with 12 concurrent workers.\n",
      "[Parallel(n_jobs=-1)]: Done  25 out of  50 | elapsed:    0.0s remaining:    0.0s\n",
      "[Parallel(n_jobs=-1)]: Done  50 out of  50 | elapsed:    0.0s finished\n",
      "[Parallel(n_jobs=-1)]: Using backend LokyBackend with 12 concurrent workers.\n",
      "[Parallel(n_jobs=-1)]: Done  25 out of  50 | elapsed:    0.1s remaining:    0.1s\n"
     ]
    },
    {
     "name": "stdout",
     "output_type": "stream",
     "text": [
      "[learning_curve] Training set sizes: [  17  204  391  579  766  954 1141 1329 1516 1704]\n"
     ]
    },
    {
     "name": "stderr",
     "output_type": "stream",
     "text": [
      "[Parallel(n_jobs=-1)]: Done  50 out of  50 | elapsed:    0.3s finished\n",
      "[Parallel(n_jobs=-1)]: Using backend LokyBackend with 12 concurrent workers.\n",
      "[Parallel(n_jobs=-1)]: Done  25 out of  50 | elapsed:    0.2s remaining:    0.2s\n"
     ]
    },
    {
     "name": "stdout",
     "output_type": "stream",
     "text": [
      "[learning_curve] Training set sizes: [  17  204  391  579  766  954 1141 1329 1516 1704]\n"
     ]
    },
    {
     "name": "stderr",
     "output_type": "stream",
     "text": [
      "[Parallel(n_jobs=-1)]: Done  50 out of  50 | elapsed:    0.3s finished\n"
     ]
    },
    {
     "data": {
      "text/plain": [
       "<matplotlib.legend.Legend at 0x7f3538c4ceb0>"
      ]
     },
     "execution_count": 27,
     "metadata": {},
     "output_type": "execute_result"
    },
    {
     "data": {
      "image/png": "[encoded data removed]",
      "text/plain": [
       "<Figure size 2016x504 with 4 Axes>"
      ]
     },
     "metadata": {
      "needs_background": "light"
     },
     "output_type": "display_data"
    }
   ],
   "source": [
    "fig, (ax1, ax2, ax3, ax4) = plt.subplots(1, 4, figsize=(28, 7))\n",
    "\n",
    "plot_model = svm.SVC(kernel='linear', C=0.001, gamma=0.0001)\n",
    "\n",
    "train_sizes, train_scores, val_scores = learning_curve(plot_model, \n",
    "                                                       X_train, \n",
    "                                                       y_train, \n",
    "                                                       cv=5, \n",
    "                                                       scoring='accuracy', \n",
    "                                                       n_jobs=-1, # 이거 바꾸고 싶으면 바꾸고  \n",
    "                                                       train_sizes=np.linspace(0.01, 1, 10), \n",
    "                                                       verbose=2)\n",
    "\n",
    "train_mean = np.mean(train_scores, axis = 1)\n",
    "train_std = np.std(train_scores, axis=1)\n",
    "val_mean = np.mean(val_scores, axis=1)\n",
    "val_std = np.std(val_scores, axis=1)\n",
    "\n",
    "ax1.plot(train_sizes, train_mean, label='Training Accuracy')\n",
    "ax1.plot(train_sizes, val_mean, label='Validation Accuracy')\n",
    "ax1.set_title('SVM Learning curve')\n",
    "ax1.set_xlabel('Training Size')\n",
    "ax1.set_ylabel('Accuracy')\n",
    "\n",
    "# Logistic Regression\n",
    "plot_model = LogisticRegression(C=0.0001, multi_class='auto', penalty='l1', solver='liblinear')\n",
    "\n",
    "\n",
    "train_sizes, train_scores, val_scores = learning_curve(plot_model, \n",
    "                                                       X_train, \n",
    "                                                       y_train, \n",
    "                                                       cv=5, \n",
    "                                                       scoring='accuracy', \n",
    "                                                       n_jobs=-1, # 이거 바꾸고 싶으면 바꾸고  \n",
    "                                                       train_sizes=np.linspace(0.01, 1, 10), \n",
    "                                                       verbose=2)\n",
    "\n",
    "train_mean = np.mean(train_scores, axis = 1)\n",
    "train_std = np.std(train_scores, axis=1)\n",
    "val_mean = np.mean(val_scores, axis=1)\n",
    "val_std = np.std(val_scores, axis=1)\n",
    "\n",
    "ax2.plot(train_sizes, train_mean, label='Training Accuracy')\n",
    "ax2.plot(train_sizes, val_mean, label='Validation Accuracy')\n",
    "ax2.set_title('Logistic Regression Learning curve')\n",
    "ax2.set_xlabel('Training Size')\n",
    "ax2.set_ylabel('Accuracy')\n",
    "\n",
    "\n",
    "# KNN\n",
    "plot_model = KNeighborsClassifier(algorithm='ball_tree', leaf_size=23, weights='uniform')\n",
    "\n",
    "\n",
    "train_sizes, train_scores, val_scores = learning_curve(plot_model, \n",
    "                                                       X_train, \n",
    "                                                       y_train, \n",
    "                                                       cv=5, \n",
    "                                                       scoring='accuracy', \n",
    "                                                       n_jobs=-1, # 이거 바꾸고 싶으면 바꾸고  \n",
    "                                                       train_sizes=np.linspace(0.01, 1, 10), \n",
    "                                                       verbose=2)\n",
    "\n",
    "train_mean = np.mean(train_scores, axis = 1)\n",
    "train_std = np.std(train_scores, axis=1)\n",
    "val_mean = np.mean(val_scores, axis=1)\n",
    "val_std = np.std(val_scores, axis=1)\n",
    "\n",
    "ax3.plot(train_sizes, train_mean, label='Training Accuracy')\n",
    "ax3.plot(train_sizes, val_mean, label='Validation Accuracy')\n",
    "ax3.set_title('KNN Learning curve')\n",
    "ax3.set_xlabel('Training Size')\n",
    "ax3.set_ylabel('Accuracy')\n",
    "\n",
    "# Random Forest \n",
    "plot_model = RandomForestClassifier(bootstrap=False, criterion='entropy', max_depth=14, max_features='auto', min_samples_leaf=2, min_samples_split=38, n_estimators=38)\n",
    "\n",
    "train_sizes, train_scores, val_scores = learning_curve(plot_model, \n",
    "                                                       X_train, \n",
    "                                                       y_train, \n",
    "                                                       cv=5, \n",
    "                                                       scoring='accuracy', \n",
    "                                                       n_jobs=-1, # 이거 바꾸고 싶으면 바꾸고  \n",
    "                                                       train_sizes=np.linspace(0.01, 1, 10), \n",
    "                                                       verbose=2)\n",
    "\n",
    "\n",
    "train_mean = np.mean(train_scores, axis = 1)\n",
    "train_std = np.std(train_scores, axis=1)\n",
    "val_mean = np.mean(val_scores, axis=1)\n",
    "val_std = np.std(val_scores, axis=1)\n",
    "\n",
    "ax4.plot(train_sizes, train_mean, label='Training Accuracy')\n",
    "ax4.plot(train_sizes, val_mean, label='Validation Accuracy')\n",
    "ax4.set_title('Random Forest Learning curve')\n",
    "ax4.set_xlabel('Training Size')\n",
    "ax4.set_ylabel('Accuracy')\n",
    "ax4.legend(loc='upper center', bbox_to_anchor=(-1.3, -0.1),\n",
    "          fancybox=True, shadow=True, ncol=2)"
   ]
  },
  {
   "cell_type": "markdown",
   "metadata": {},
   "source": [
    "# 2. sampled"
   ]
  },
  {
   "cell_type": "code",
   "execution_count": 28,
   "metadata": {},
   "outputs": [],
   "source": [
    "X_train, X_test, y_train, y_test = train_test_split(X_s, y_s, test_size=0.3, random_state=1)  # 70% training and 30% test"
   ]
  },
  {
   "cell_type": "markdown",
   "metadata": {},
   "source": [
    "# SVM "
   ]
  },
  {
   "cell_type": "code",
   "execution_count": 29,
   "metadata": {},
   "outputs": [],
   "source": [
    "svm_hyper_params = [ \n",
    "                        {\n",
    "                        'gamma': np.logspace(-4, -1, 4),\n",
    "                        'C': np.logspace(-3, 1, 5),\n",
    "                        'kernel': ['linear', 'poly', 'rbf', 'sigmoid']\n",
    "                        }\n",
    "                    ]\n",
    "\n",
    "# specify model\n",
    "svm_model = svm.SVC(random_state=1)\n",
    "\n",
    "# set up GridSearchCV()\n",
    "svm_model_cv = GridSearchCV(estimator = svm_model, \n",
    "                            param_grid = svm_hyper_params, \n",
    "                            scoring= 'accuracy', \n",
    "                            cv = folds, \n",
    "                            verbose = 2,\n",
    "                            return_train_score=True,\n",
    "                            n_jobs=2)      "
   ]
  },
  {
   "cell_type": "code",
   "execution_count": 30,
   "metadata": {},
   "outputs": [
    {
     "name": "stdout",
     "output_type": "stream",
     "text": [
      "Fitting 5 folds for each of 80 candidates, totalling 400 fits\n",
      "best hyper parameters {'C': 1.0, 'gamma': 0.1, 'kernel': 'sigmoid'}\n"
     ]
    }
   ],
   "source": [
    "# fit the model\n",
    "svm_model_cv.fit(X_train, y_train)\n",
    "print(\"best hyper parameters\", svm_model_cv.best_params_)\n",
    "svm_y_pred = svm_model_cv.predict(X_test)"
   ]
  },
  {
   "cell_type": "code",
   "execution_count": 31,
   "metadata": {},
   "outputs": [
    {
     "name": "stdout",
     "output_type": "stream",
     "text": [
      "Accuracy: 0.49728260869565216\n",
      "F1 score micro: 0.49728260869565216\n",
      "F1 score binary: 0.5219638242894057\n",
      "\n",
      "classification report:\n",
      "               precision    recall  f1-score   support\n",
      "\n",
      "         0.0       0.49      0.45      0.47       182\n",
      "         1.0       0.50      0.54      0.52       186\n",
      "\n",
      "    accuracy                           0.50       368\n",
      "   macro avg       0.50      0.50      0.50       368\n",
      "weighted avg       0.50      0.50      0.50       368\n",
      "\n"
     ]
    }
   ],
   "source": [
    "# accuracy \n",
    "print(\"Accuracy:\", metrics.accuracy_score(y_test, svm_y_pred))\n",
    "# f1 score \n",
    "print(\"F1 score micro:\", f1_score(y_test, svm_y_pred, average='micro'))\n",
    "print(\"F1 score binary:\", f1_score(y_test, svm_y_pred, average='binary'))\n",
    "\n",
    "print(\"\\nclassification report:\\n\", classification_report(y_test, svm_y_pred))"
   ]
  },
  {
   "cell_type": "code",
   "execution_count": 32,
   "metadata": {},
   "outputs": [
    {
     "name": "stdout",
     "output_type": "stream",
     "text": [
      "[learning_curve] Training set sizes: [  6  82 157 233 308 384 459 535 610 686]\n"
     ]
    },
    {
     "name": "stderr",
     "output_type": "stream",
     "text": [
      "[Parallel(n_jobs=-1)]: Using backend LokyBackend with 12 concurrent workers.\n",
      "[Parallel(n_jobs=-1)]: Done  25 out of  50 | elapsed:    0.7s remaining:    0.7s\n",
      "[Parallel(n_jobs=-1)]: Done  50 out of  50 | elapsed:    0.7s finished\n"
     ]
    },
    {
     "data": {
      "image/png": "[encoded data removed]",
      "text/plain": [
       "<Figure size 432x288 with 1 Axes>"
      ]
     },
     "metadata": {
      "needs_background": "light"
     },
     "output_type": "display_data"
    }
   ],
   "source": [
    "# ------ HERE ------\n",
    "\n",
    "# plug in suitable hyper-parameters\n",
    "\n",
    "\n",
    "# 여기만 바꾸면 된다. \n",
    "plot_model = svm.SVC(kernel='linear', C=10, gamma=0.0001)\n",
    "\n",
    "\n",
    "train_sizes, train_scores, val_scores = learning_curve(plot_model, \n",
    "                                                       X_train, \n",
    "                                                       y_train, \n",
    "                                                       cv=5, \n",
    "                                                       scoring='accuracy', \n",
    "                                                       n_jobs=-1, # 이거 바꾸고 싶으면 바꾸고  \n",
    "                                                       train_sizes=np.linspace(0.01, 1, 10), \n",
    "                                                       verbose=2)\n",
    "# 여기만 바꾸면 된다. \n",
    "\n",
    "\n",
    "train_mean = np.mean(train_scores, axis = 1)\n",
    "train_std = np.std(train_scores, axis=1)\n",
    "val_mean = np.mean(val_scores, axis=1)\n",
    "val_std = np.std(val_scores, axis=1)\n",
    "\n",
    "plt.plot(train_sizes, train_mean, label='Training score')\n",
    "plt.plot(train_sizes, val_mean, label='Cross-validation score')\n",
    "plt.title('Learning curve')\n",
    "plt.xlabel('Training Size')\n",
    "plt.ylabel('Accuracy score')\n",
    "plt.legend(loc='best')\n",
    "plt.show()"
   ]
  },
  {
   "cell_type": "markdown",
   "metadata": {},
   "source": [
    "# Logistic Regression"
   ]
  },
  {
   "cell_type": "code",
   "execution_count": 33,
   "metadata": {},
   "outputs": [],
   "source": [
    "log_hyper_params = [ \n",
    "                        {\n",
    "                        'C': np.logspace(-4, 2, 7),\n",
    "                        'solver' : ['newton-cg', 'lbfgs', 'liblinear', 'sag', 'saga'],\n",
    "                        'penalty' : ['l1', 'l2', 'elasticnet', 'none'],\n",
    "                        'multi_class' : ['auto', 'ovr', 'multinomial']\n",
    "                        }\n",
    "                    ]\n",
    "\n",
    "# specify model\n",
    "log_model = LogisticRegression(random_state=1)\n",
    "\n",
    "# set up GridSearchCV()\n",
    "log_model_cv = GridSearchCV(estimator = log_model, \n",
    "                            param_grid = log_hyper_params, \n",
    "                            scoring= 'accuracy', \n",
    "                            cv = folds, \n",
    "                            verbose = 2,\n",
    "                            return_train_score=True,\n",
    "                            n_jobs=-1)      "
   ]
  },
  {
   "cell_type": "code",
   "execution_count": 34,
   "metadata": {},
   "outputs": [
    {
     "name": "stdout",
     "output_type": "stream",
     "text": [
      "Fitting 5 folds for each of 420 candidates, totalling 2100 fits\n",
      "best hyper parameters {'C': 0.001, 'multi_class': 'auto', 'penalty': 'l1', 'solver': 'saga'}\n"
     ]
    },
    {
     "name": "stderr",
     "output_type": "stream",
     "text": [
      "/home/sungjin/Documents/Programming/python/venv/lib/python3.8/site-packages/sklearn/model_selection/_search.py:918: UserWarning: One or more of the test scores are non-finite: [       nan        nan 0.50238678        nan 0.48487012 0.46505508\n",
      " 0.46505508 0.46505508 0.46505508 0.46505508        nan        nan\n",
      "        nan        nan        nan 0.4871277  0.4871277         nan\n",
      " 0.4871277  0.4871277         nan        nan 0.50238678        nan\n",
      " 0.48487012 0.46505508 0.46505508 0.46505508 0.46505508 0.46505508\n",
      "        nan        nan        nan        nan        nan 0.4871277\n",
      " 0.4871277         nan 0.4871277  0.4871277         nan        nan\n",
      "        nan        nan 0.48487012 0.46505508 0.46505508        nan\n",
      " 0.46505508 0.46505508        nan        nan        nan        nan\n",
      "        nan 0.4871277  0.4871277         nan 0.4871277  0.4871277\n",
      "        nan        nan 0.50238678        nan 0.50580035 0.46622467\n",
      " 0.46622467 0.47320141 0.46622467 0.46622467        nan        nan\n",
      "        nan        nan        nan 0.4871277  0.4871277         nan\n",
      " 0.4871277  0.4871277         nan        nan 0.50238678        nan\n",
      " 0.50580035 0.46622467 0.46622467 0.47320141 0.46622467 0.46622467\n",
      "        nan        nan        nan        nan        nan 0.4871277\n",
      " 0.4871277         nan 0.4871277  0.4871277         nan        nan\n",
      "        nan        nan 0.50580035 0.46737386 0.46737386        nan\n",
      " 0.46737386 0.46737386        nan        nan        nan        nan\n",
      "        nan 0.4871277  0.4871277         nan 0.4871277  0.4871277\n",
      "        nan        nan 0.50238678        nan 0.46505508 0.45921393\n",
      " 0.45921393 0.47670339 0.45921393 0.45921393        nan        nan\n",
      "        nan        nan        nan 0.4871277  0.4871277         nan\n",
      " 0.4871277  0.4871277         nan        nan 0.50238678        nan\n",
      " 0.46505508 0.45921393 0.45921393 0.47670339 0.45921393 0.45921393\n",
      "        nan        nan        nan        nan        nan 0.4871277\n",
      " 0.4871277         nan 0.4871277  0.4871277         nan        nan\n",
      "        nan        nan 0.46505508 0.46851625 0.46851625        nan\n",
      " 0.46851625 0.46851625        nan        nan        nan        nan\n",
      "        nan 0.4871277  0.4871277         nan 0.4871277  0.4871277\n",
      "        nan        nan 0.4627227         nan 0.47088943 0.48829729\n",
      " 0.4871345  0.49412485 0.48829729 0.48829729        nan        nan\n",
      "        nan        nan        nan 0.4871277  0.4871277         nan\n",
      " 0.4871277  0.4871277         nan        nan 0.4627227         nan\n",
      " 0.47088943 0.48829729 0.4871345  0.49412485 0.48829729 0.48829729\n",
      "        nan        nan        nan        nan        nan 0.4871277\n",
      " 0.4871277         nan 0.4871277  0.4871277         nan        nan\n",
      "        nan        nan 0.47088943 0.49060928 0.49060928        nan\n",
      " 0.49060928 0.49060928        nan        nan        nan        nan\n",
      "        nan 0.4871277  0.4871277         nan 0.4871277  0.4871277\n",
      "        nan        nan 0.48830409        nan 0.48949408 0.48829049\n",
      " 0.48829049 0.48829729 0.48829049 0.48829049        nan        nan\n",
      "        nan        nan        nan 0.4871277  0.4871277         nan\n",
      " 0.4871277  0.4871277         nan        nan 0.48830409        nan\n",
      " 0.48949408 0.48829049 0.48829049 0.48829729 0.48829049 0.48829049\n",
      "        nan        nan        nan        nan        nan 0.4871277\n",
      " 0.4871277         nan 0.4871277  0.4871277         nan        nan\n",
      "        nan        nan 0.48949408 0.48829049 0.4871277         nan\n",
      " 0.48829049 0.48829049        nan        nan        nan        nan\n",
      "        nan 0.4871277  0.4871277         nan 0.4871277  0.4871277\n",
      "        nan        nan 0.48829049        nan 0.48946008 0.4871277\n",
      " 0.4871277  0.4871277  0.4871277  0.4871277         nan        nan\n",
      "        nan        nan        nan 0.4871277  0.4871277         nan\n",
      " 0.4871277  0.4871277         nan        nan 0.48829049        nan\n",
      " 0.48946008 0.4871277  0.4871277  0.4871277  0.4871277  0.4871277\n",
      "        nan        nan        nan        nan        nan 0.4871277\n",
      " 0.4871277         nan 0.4871277  0.4871277         nan        nan\n",
      "        nan        nan 0.48946008 0.4871277  0.4871277         nan\n",
      " 0.4871277  0.4871277         nan        nan        nan        nan\n",
      "        nan 0.4871277  0.4871277         nan 0.4871277  0.4871277\n",
      "        nan        nan 0.48595811        nan 0.4871277  0.4871277\n",
      " 0.4871277  0.4871277  0.4871277  0.4871277         nan        nan\n",
      "        nan        nan        nan 0.4871277  0.4871277         nan\n",
      " 0.4871277  0.4871277         nan        nan 0.48595811        nan\n",
      " 0.4871277  0.4871277  0.4871277  0.4871277  0.4871277  0.4871277\n",
      "        nan        nan        nan        nan        nan 0.4871277\n",
      " 0.4871277         nan 0.4871277  0.4871277         nan        nan\n",
      "        nan        nan 0.4871277  0.4871277  0.4871277         nan\n",
      " 0.4871277  0.4871277         nan        nan        nan        nan\n",
      "        nan 0.4871277  0.4871277         nan 0.4871277  0.4871277 ]\n",
      "  warnings.warn(\n",
      "/home/sungjin/Documents/Programming/python/venv/lib/python3.8/site-packages/sklearn/model_selection/_search.py:918: UserWarning: One or more of the train scores are non-finite: [       nan        nan 0.50233448        nan 0.50320615 0.50816114\n",
      " 0.50816114 0.51194614 0.50816114 0.50816114        nan        nan\n",
      "        nan        nan        nan 0.5402082  0.54049974        nan\n",
      " 0.5402082  0.5402082         nan        nan 0.50233448        nan\n",
      " 0.50320615 0.50816114 0.50816114 0.51194614 0.50816114 0.50816114\n",
      "        nan        nan        nan        nan        nan 0.5402082\n",
      " 0.54049974        nan 0.5402082  0.5402082         nan        nan\n",
      "        nan        nan 0.50320615 0.50845226 0.50845226        nan\n",
      " 0.50845226 0.50845226        nan        nan        nan        nan\n",
      "        nan 0.5402082  0.5402082         nan 0.5402082  0.5402082\n",
      "        nan        nan 0.50233448        nan 0.49679215 0.52039076\n",
      " 0.52039076 0.52039416 0.52039076 0.52039076        nan        nan\n",
      "        nan        nan        nan 0.5402082  0.54049974        nan\n",
      " 0.5402082  0.5402082         nan        nan 0.50233448        nan\n",
      " 0.49679215 0.52039076 0.52039076 0.52039416 0.52039076 0.52039076\n",
      "        nan        nan        nan        nan        nan 0.5402082\n",
      " 0.54049974        nan 0.5402082  0.5402082         nan        nan\n",
      "        nan        nan 0.49679215 0.52389185 0.52389185        nan\n",
      " 0.52389185 0.52389185        nan        nan        nan        nan\n",
      "        nan 0.5402082  0.5402082         nan 0.5402082  0.5402082\n",
      "        nan        nan 0.50233448        nan 0.50816114 0.53233733\n",
      " 0.53233733 0.53437984 0.53233733 0.53262845        nan        nan\n",
      "        nan        nan        nan 0.5402082  0.54049974        nan\n",
      " 0.5402082  0.5402082         nan        nan 0.50233448        nan\n",
      " 0.50816114 0.53233733 0.53233733 0.53437984 0.53233733 0.53262845\n",
      "        nan        nan        nan        nan        nan 0.5402082\n",
      " 0.54049974        nan 0.5402082  0.5402082         nan        nan\n",
      "        nan        nan 0.50816114 0.53059103 0.53029948        nan\n",
      " 0.53059103 0.53059103        nan        nan        nan        nan\n",
      "        nan 0.5402082  0.5402082         nan 0.5402082  0.5402082\n",
      "        nan        nan 0.5166045         nan 0.51718928 0.53466969\n",
      " 0.53379505 0.53496208 0.53466969 0.53466969        nan        nan\n",
      "        nan        nan        nan 0.5402082  0.54049974        nan\n",
      " 0.5402082  0.5402082         nan        nan 0.5166045         nan\n",
      " 0.51718928 0.53466969 0.53379505 0.53496208 0.53466969 0.53466969\n",
      "        nan        nan        nan        nan        nan 0.5402082\n",
      " 0.54049974        nan 0.5402082  0.5402082         nan        nan\n",
      "        nan        nan 0.51718928 0.53874962 0.53874962        nan\n",
      " 0.53874962 0.53874962        nan        nan        nan        nan\n",
      "        nan 0.5402082  0.5402082         nan 0.5402082  0.5402082\n",
      "        nan        nan 0.53816696        nan 0.5355422  0.53962511\n",
      " 0.53962511 0.54079044 0.53962511 0.53962511        nan        nan\n",
      "        nan        nan        nan 0.5402082  0.54049974        nan\n",
      " 0.5402082  0.5402082         nan        nan 0.53816696        nan\n",
      " 0.5355422  0.53962511 0.53962511 0.54079044 0.53962511 0.53962511\n",
      "        nan        nan        nan        nan        nan 0.5402082\n",
      " 0.54049974        nan 0.5402082  0.5402082         nan        nan\n",
      "        nan        nan 0.5355422  0.53991623 0.54079086        nan\n",
      " 0.53991623 0.53991623        nan        nan        nan        nan\n",
      "        nan 0.5402082  0.5402082         nan 0.5402082  0.5402082\n",
      "        nan        nan 0.53962511        nan 0.5399158  0.54049932\n",
      " 0.54079086 0.54079086 0.54049932 0.54049932        nan        nan\n",
      "        nan        nan        nan 0.5402082  0.54049974        nan\n",
      " 0.5402082  0.5402082         nan        nan 0.53962511        nan\n",
      " 0.5399158  0.54049932 0.54079086 0.54079086 0.54049932 0.54049932\n",
      "        nan        nan        nan        nan        nan 0.5402082\n",
      " 0.54049974        nan 0.5402082  0.5402082         nan        nan\n",
      "        nan        nan 0.5399158  0.54049932 0.54049932        nan\n",
      " 0.54049932 0.54049932        nan        nan        nan        nan\n",
      "        nan 0.5402082  0.5402082         nan 0.5402082  0.5402082\n",
      "        nan        nan 0.5399175         nan 0.5402082  0.54049932\n",
      " 0.54079086 0.54079086 0.54049932 0.54049932        nan        nan\n",
      "        nan        nan        nan 0.5402082  0.54049974        nan\n",
      " 0.5402082  0.5402082         nan        nan 0.5399175         nan\n",
      " 0.5402082  0.54049932 0.54079086 0.54079086 0.54049932 0.54049932\n",
      "        nan        nan        nan        nan        nan 0.5402082\n",
      " 0.54049974        nan 0.5402082  0.5402082         nan        nan\n",
      "        nan        nan 0.5402082  0.5402082  0.5402082         nan\n",
      " 0.5402082  0.5402082         nan        nan        nan        nan\n",
      "        nan 0.5402082  0.5402082         nan 0.5402082  0.5402082 ]\n",
      "  warnings.warn(\n"
     ]
    }
   ],
   "source": [
    "# fit the model\n",
    "log_model_cv.fit(X_train, y_train)\n",
    "print(\"best hyper parameters\", log_model_cv.best_params_)\n",
    "log_y_pred = log_model_cv.predict(X_test)"
   ]
  },
  {
   "cell_type": "code",
   "execution_count": 35,
   "metadata": {},
   "outputs": [
    {
     "name": "stdout",
     "output_type": "stream",
     "text": [
      "Accuracy: 0.4945652173913043\n",
      "F1 score micro: 0.4945652173913043\n",
      "F1 score binary: 0.0\n",
      "\n",
      "classification report:\n",
      "               precision    recall  f1-score   support\n",
      "\n",
      "         0.0       0.49      1.00      0.66       182\n",
      "         1.0       0.00      0.00      0.00       186\n",
      "\n",
      "    accuracy                           0.49       368\n",
      "   macro avg       0.25      0.50      0.33       368\n",
      "weighted avg       0.24      0.49      0.33       368\n",
      "\n"
     ]
    },
    {
     "name": "stderr",
     "output_type": "stream",
     "text": [
      "/home/sungjin/Documents/Programming/python/venv/lib/python3.8/site-packages/sklearn/metrics/_classification.py:1245: UndefinedMetricWarning: Precision and F-score are ill-defined and being set to 0.0 in labels with no predicted samples. Use `zero_division` parameter to control this behavior.\n",
      "  _warn_prf(average, modifier, msg_start, len(result))\n",
      "/home/sungjin/Documents/Programming/python/venv/lib/python3.8/site-packages/sklearn/metrics/_classification.py:1245: UndefinedMetricWarning: Precision and F-score are ill-defined and being set to 0.0 in labels with no predicted samples. Use `zero_division` parameter to control this behavior.\n",
      "  _warn_prf(average, modifier, msg_start, len(result))\n",
      "/home/sungjin/Documents/Programming/python/venv/lib/python3.8/site-packages/sklearn/metrics/_classification.py:1245: UndefinedMetricWarning: Precision and F-score are ill-defined and being set to 0.0 in labels with no predicted samples. Use `zero_division` parameter to control this behavior.\n",
      "  _warn_prf(average, modifier, msg_start, len(result))\n"
     ]
    }
   ],
   "source": [
    "# accuracy \n",
    "print(\"Accuracy:\", metrics.accuracy_score(y_test, log_y_pred))\n",
    "# f1 score \n",
    "print(\"F1 score micro:\", f1_score(y_test, log_y_pred, average='micro'))\n",
    "print(\"F1 score binary:\", f1_score(y_test, log_y_pred, average='binary'))\n",
    "\n",
    "print(\"\\nclassification report:\\n\", classification_report(y_test, log_y_pred))"
   ]
  },
  {
   "cell_type": "code",
   "execution_count": 36,
   "metadata": {},
   "outputs": [
    {
     "name": "stdout",
     "output_type": "stream",
     "text": [
      "[learning_curve] Training set sizes: [  6  82 157 233 308 384 459 535 610 686]\n"
     ]
    },
    {
     "name": "stderr",
     "output_type": "stream",
     "text": [
      "[Parallel(n_jobs=-1)]: Using backend LokyBackend with 12 concurrent workers.\n",
      "[Parallel(n_jobs=-1)]: Done  25 out of  50 | elapsed:    0.0s remaining:    0.0s\n",
      "[Parallel(n_jobs=-1)]: Done  50 out of  50 | elapsed:    0.1s finished\n"
     ]
    },
    {
     "data": {
      "image/png": "[encoded data removed]",
      "text/plain": [
       "<Figure size 432x288 with 1 Axes>"
      ]
     },
     "metadata": {
      "needs_background": "light"
     },
     "output_type": "display_data"
    }
   ],
   "source": [
    "# ------ HERE ------\n",
    "\n",
    "# plug in suitable hyper-parameters\n",
    "\n",
    "\n",
    "# 여기만 바꾸면 된다. \n",
    "plot_model = LogisticRegression(C=0.1, multi_class='multinomial', penalty='l2', solver='newton-cg')\n",
    "\n",
    "\n",
    "train_sizes, train_scores, val_scores = learning_curve(plot_model, \n",
    "                                                       X_train, \n",
    "                                                       y_train, \n",
    "                                                       cv=5, \n",
    "                                                       scoring='accuracy', \n",
    "                                                       n_jobs=-1, # 이거 바꾸고 싶으면 바꾸고  \n",
    "                                                       train_sizes=np.linspace(0.01, 1, 10), \n",
    "                                                       verbose=2)\n",
    "# 여기만 바꾸면 된다. \n",
    "\n",
    "\n",
    "train_mean = np.mean(train_scores, axis = 1)\n",
    "train_std = np.std(train_scores, axis=1)\n",
    "val_mean = np.mean(val_scores, axis=1)\n",
    "val_std = np.std(val_scores, axis=1)\n",
    "\n",
    "plt.plot(train_sizes, train_mean, label='Training score')\n",
    "plt.plot(train_sizes, val_mean, label='Cross-validation score')\n",
    "plt.title('Learning curve')\n",
    "plt.xlabel('Training Size')\n",
    "plt.ylabel('Accuracy score')\n",
    "plt.legend(loc='best')\n",
    "plt.show()"
   ]
  },
  {
   "cell_type": "markdown",
   "metadata": {},
   "source": [
    "# KNN"
   ]
  },
  {
   "cell_type": "code",
   "execution_count": 37,
   "metadata": {},
   "outputs": [],
   "source": [
    "knn_hyper_params = [ \n",
    "                        {\n",
    "                        'weights' : ['uniform', 'distance'],\n",
    "                        'algorithm' : ['auto', 'ball_tree', 'kd_tree', 'brute'],\n",
    "                        'leaf_size' : np.linspace(2, 100, 10, dtype=int)\n",
    "                        }\n",
    "                    ]\n",
    "\n",
    "# specify model\n",
    "\n",
    "# THIS SECTION SHOULD BE CHANGED.\n",
    "# n_neighbors  SHOULD BE MODIFIED TO ANOTHER VALUE DEPENDING ON THE TARGET VALUE.\n",
    "knn_model = KNeighborsClassifier(n_neighbors=len(y_t.unique()))\n",
    "\n",
    "# set up GridSearchCV()\n",
    "knn_model_cv = GridSearchCV(estimator = knn_model, \n",
    "                            param_grid = knn_hyper_params, \n",
    "                            scoring= 'accuracy', \n",
    "                            cv = folds, \n",
    "                            verbose = 2,\n",
    "                            return_train_score=True,\n",
    "                            n_jobs=-1)      "
   ]
  },
  {
   "cell_type": "code",
   "execution_count": 38,
   "metadata": {},
   "outputs": [
    {
     "name": "stdout",
     "output_type": "stream",
     "text": [
      "Fitting 5 folds for each of 80 candidates, totalling 400 fits\n",
      "best hyper parameters {'algorithm': 'ball_tree', 'leaf_size': 23, 'weights': 'uniform'}\n"
     ]
    }
   ],
   "source": [
    "# fit the model\n",
    "knn_model_cv.fit(X_train, y_train)\n",
    "print(\"best hyper parameters\", knn_model_cv.best_params_)\n",
    "knn_y_pred = knn_model_cv.predict(X_test)"
   ]
  },
  {
   "cell_type": "code",
   "execution_count": 39,
   "metadata": {},
   "outputs": [
    {
     "name": "stdout",
     "output_type": "stream",
     "text": [
      "Accuracy: 0.49728260869565216\n",
      "F1 score micro: 0.49728260869565216\n",
      "F1 score binary: 0.3728813559322034\n",
      "\n",
      "classification report:\n",
      "               precision    recall  f1-score   support\n",
      "\n",
      "         0.0       0.49      0.70      0.58       182\n",
      "         1.0       0.50      0.30      0.37       186\n",
      "\n",
      "    accuracy                           0.50       368\n",
      "   macro avg       0.50      0.50      0.48       368\n",
      "weighted avg       0.50      0.50      0.48       368\n",
      "\n"
     ]
    }
   ],
   "source": [
    "# accuracy \n",
    "print(\"Accuracy:\", metrics.accuracy_score(y_test, knn_y_pred))\n",
    "# f1 score \n",
    "print(\"F1 score micro:\", f1_score(y_test, knn_y_pred, average='micro'))\n",
    "print(\"F1 score binary:\", f1_score(y_test, knn_y_pred, average='binary'))\n",
    "\n",
    "print(\"\\nclassification report:\\n\", classification_report(y_test, knn_y_pred))"
   ]
  },
  {
   "cell_type": "code",
   "execution_count": 40,
   "metadata": {},
   "outputs": [
    {
     "name": "stdout",
     "output_type": "stream",
     "text": [
      "[learning_curve] Training set sizes: [  6  82 157 233 308 384 459 535 610 686]\n"
     ]
    },
    {
     "name": "stderr",
     "output_type": "stream",
     "text": [
      "[Parallel(n_jobs=-1)]: Using backend LokyBackend with 12 concurrent workers.\n",
      "[Parallel(n_jobs=-1)]: Done  25 out of  50 | elapsed:    0.1s remaining:    0.1s\n",
      "[Parallel(n_jobs=-1)]: Done  50 out of  50 | elapsed:    0.1s finished\n"
     ]
    },
    {
     "data": {
      "image/png": "[encoded data removed]",
      "text/plain": [
       "<Figure size 432x288 with 1 Axes>"
      ]
     },
     "metadata": {
      "needs_background": "light"
     },
     "output_type": "display_data"
    }
   ],
   "source": [
    "# ------ HERE ------\n",
    "\n",
    "# plug in suitable hyper-parameters\n",
    "\n",
    "\n",
    "# 여기만 바꾸면 된다. \n",
    "plot_model = KNeighborsClassifier(algorithm='ball_tree', leaf_size=45, weights='uniform')\n",
    "\n",
    "\n",
    "train_sizes, train_scores, val_scores = learning_curve(plot_model, \n",
    "                                                       X_train, \n",
    "                                                       y_train, \n",
    "                                                       cv=5, \n",
    "                                                       scoring='accuracy', \n",
    "                                                       n_jobs=-1, # 이거 바꾸고 싶으면 바꾸고  \n",
    "                                                       train_sizes=np.linspace(0.01, 1, 10), \n",
    "                                                       verbose=2)\n",
    "# 여기만 바꾸면 된다. \n",
    "\n",
    "\n",
    "train_mean = np.mean(train_scores, axis = 1)\n",
    "train_std = np.std(train_scores, axis=1)\n",
    "val_mean = np.mean(val_scores, axis=1)\n",
    "val_std = np.std(val_scores, axis=1)\n",
    "\n",
    "plt.plot(train_sizes, train_mean, label='Training score')\n",
    "plt.plot(train_sizes, val_mean, label='Cross-validation score')\n",
    "plt.title('Learning curve')\n",
    "plt.xlabel('Training Size')\n",
    "plt.ylabel('Accuracy score')\n",
    "plt.legend(loc='best')\n",
    "plt.show()"
   ]
  },
  {
   "cell_type": "markdown",
   "metadata": {},
   "source": [
    "# Random Forest"
   ]
  },
  {
   "cell_type": "code",
   "execution_count": 41,
   "metadata": {},
   "outputs": [],
   "source": [
    "rf_hyper_params = [ \n",
    "                        {\n",
    "                            'n_estimators' : [int(x) for x in np.linspace(5, 50, 5)],\n",
    "                            'criterion' : ['gini', 'entropy'],\n",
    "                            'max_depth' : [int(x) for x in np.linspace(2, 50, 5)],\n",
    "                            'min_samples_split' : [int(x) for x in np.linspace(2, 50, 5)],\n",
    "                            'min_samples_leaf' : [int(x) for x in np.linspace(2, 50, 5)],\n",
    "                            'max_features' : ['auto', 'sqrt', 'log2'],\n",
    "                            'bootstrap' : [True, False]\n",
    "\n",
    "                        }\n",
    "                    ]\n",
    "\n",
    "# specify model\n",
    "\n",
    "# THIS SECTION SHOULD BE CHANGED.\n",
    "# n_neighbors  SHOULD BE MODIFIED TO ANOTHER VALUE DEPENDING ON THE TARGET VALUE.\n",
    "rf_model = RandomForestClassifier(random_state=1)\n",
    "\n",
    "# set up GridSearchCV()\n",
    "rf_model_cv = GridSearchCV(estimator = rf_model, \n",
    "                            param_grid = rf_hyper_params, \n",
    "                            scoring= 'accuracy', \n",
    "                            cv = folds, \n",
    "                            verbose = 2,\n",
    "                            return_train_score=True,\n",
    "                            n_jobs=-1)      "
   ]
  },
  {
   "cell_type": "code",
   "execution_count": 42,
   "metadata": {},
   "outputs": [
    {
     "name": "stdout",
     "output_type": "stream",
     "text": [
      "Fitting 5 folds for each of 7500 candidates, totalling 37500 fits\n",
      "best hyper parameters {'bootstrap': True, 'criterion': 'gini', 'max_depth': 14, 'max_features': 'auto', 'min_samples_leaf': 2, 'min_samples_split': 14, 'n_estimators': 16}\n"
     ]
    }
   ],
   "source": [
    "# fit the model\n",
    "rf_model_cv.fit(X_train, y_train)\n",
    "print(\"best hyper parameters\", rf_model_cv.best_params_)\n",
    "rf_y_pred = rf_model_cv.predict(X_test)"
   ]
  },
  {
   "cell_type": "code",
   "execution_count": 43,
   "metadata": {},
   "outputs": [
    {
     "name": "stdout",
     "output_type": "stream",
     "text": [
      "Accuracy: 0.4782608695652174\n",
      "F1 score micro: 0.4782608695652174\n",
      "F1 score binary: 0.4782608695652174\n",
      "\n",
      "classification report:\n",
      "               precision    recall  f1-score   support\n",
      "\n",
      "         0.0       0.47      0.48      0.48       182\n",
      "         1.0       0.48      0.47      0.48       186\n",
      "\n",
      "    accuracy                           0.48       368\n",
      "   macro avg       0.48      0.48      0.48       368\n",
      "weighted avg       0.48      0.48      0.48       368\n",
      "\n"
     ]
    }
   ],
   "source": [
    "# accuracy \n",
    "print(\"Accuracy:\", metrics.accuracy_score(y_test, rf_y_pred))\n",
    "# f1 score \n",
    "print(\"F1 score micro:\", f1_score(y_test, rf_y_pred, average='micro'))\n",
    "print(\"F1 score binary:\", f1_score(y_test, rf_y_pred, average='binary'))\n",
    "\n",
    "print(\"\\nclassification report:\\n\", classification_report(y_test, rf_y_pred))"
   ]
  },
  {
   "cell_type": "code",
   "execution_count": 44,
   "metadata": {},
   "outputs": [
    {
     "name": "stdout",
     "output_type": "stream",
     "text": [
      "[learning_curve] Training set sizes: [  6  82 157 233 308 384 459 535 610 686]\n"
     ]
    },
    {
     "name": "stderr",
     "output_type": "stream",
     "text": [
      "[Parallel(n_jobs=-1)]: Using backend LokyBackend with 12 concurrent workers.\n",
      "[Parallel(n_jobs=-1)]: Done  25 out of  50 | elapsed:    0.2s remaining:    0.2s\n",
      "[Parallel(n_jobs=-1)]: Done  50 out of  50 | elapsed:    0.4s finished\n"
     ]
    },
    {
     "data": {
      "image/png": "[encoded data removed]",
      "text/plain": [
       "<Figure size 432x288 with 1 Axes>"
      ]
     },
     "metadata": {
      "needs_background": "light"
     },
     "output_type": "display_data"
    }
   ],
   "source": [
    "# ------ HERE ------\n",
    "\n",
    "# plug in suitable hyper-parameters\n",
    "\n",
    "\n",
    "# 여기만 바꾸면 된다. \n",
    "plot_model = RandomForestClassifier(bootstrap=True, criterion='entropy', max_depth=2, max_features='auto', min_samples_leaf=2, min_samples_split=38, n_estimators=50)\n",
    "\n",
    "train_sizes, train_scores, val_scores = learning_curve(plot_model, \n",
    "                                                       X_train, \n",
    "                                                       y_train, \n",
    "                                                       cv=5, \n",
    "                                                       scoring='accuracy', \n",
    "                                                       n_jobs=-1, # 이거 바꾸고 싶으면 바꾸고  \n",
    "                                                       train_sizes=np.linspace(0.01, 1, 10), \n",
    "                                                       verbose=2)\n",
    "# 여기만 바꾸면 된다. \n",
    "\n",
    "\n",
    "train_mean = np.mean(train_scores, axis = 1)\n",
    "train_std = np.std(train_scores, axis=1)\n",
    "val_mean = np.mean(val_scores, axis=1)\n",
    "val_std = np.std(val_scores, axis=1)\n",
    "\n",
    "plt.plot(train_sizes, train_mean, label='Training score')\n",
    "plt.plot(train_sizes, val_mean, label='Cross-validation score')\n",
    "plt.title('Learning curve')\n",
    "plt.xlabel('Training Size')\n",
    "plt.ylabel('Accuracy score')\n",
    "plt.legend(loc='best')\n",
    "plt.show()"
   ]
  },
  {
   "cell_type": "markdown",
   "metadata": {},
   "source": [
    "# Sampled Learning Curve"
   ]
  },
  {
   "cell_type": "code",
   "execution_count": 45,
   "metadata": {},
   "outputs": [
    {
     "name": "stdout",
     "output_type": "stream",
     "text": [
      "[learning_curve] Training set sizes: [  6  82 157 233 308 384 459 535 610 686]\n",
      "[learning_curve] Training set sizes: [  6  82 157 233 308 384 459 535 610 686]\n"
     ]
    },
    {
     "name": "stderr",
     "output_type": "stream",
     "text": [
      "[Parallel(n_jobs=-1)]: Using backend LokyBackend with 12 concurrent workers.\n",
      "[Parallel(n_jobs=-1)]: Done  25 out of  50 | elapsed:    0.1s remaining:    0.1s\n",
      "[Parallel(n_jobs=-1)]: Done  50 out of  50 | elapsed:    0.1s finished\n",
      "[Parallel(n_jobs=-1)]: Using backend LokyBackend with 12 concurrent workers.\n",
      "[Parallel(n_jobs=-1)]: Done  25 out of  50 | elapsed:    0.0s remaining:    0.0s\n",
      "[Parallel(n_jobs=-1)]: Done  50 out of  50 | elapsed:    0.1s finished\n",
      "[Parallel(n_jobs=-1)]: Using backend LokyBackend with 12 concurrent workers.\n",
      "[Parallel(n_jobs=-1)]: Done  25 out of  50 | elapsed:    0.1s remaining:    0.1s\n",
      "[Parallel(n_jobs=-1)]: Done  50 out of  50 | elapsed:    0.1s finished\n",
      "[Parallel(n_jobs=-1)]: Using backend LokyBackend with 12 concurrent workers.\n"
     ]
    },
    {
     "name": "stdout",
     "output_type": "stream",
     "text": [
      "[learning_curve] Training set sizes: [  6  82 157 233 308 384 459 535 610 686]\n",
      "[learning_curve] Training set sizes: [  6  82 157 233 308 384 459 535 610 686]\n"
     ]
    },
    {
     "name": "stderr",
     "output_type": "stream",
     "text": [
      "[Parallel(n_jobs=-1)]: Done  25 out of  50 | elapsed:    0.2s remaining:    0.2s\n",
      "[Parallel(n_jobs=-1)]: Done  50 out of  50 | elapsed:    0.3s finished\n"
     ]
    },
    {
     "data": {
      "text/plain": [
       "<matplotlib.legend.Legend at 0x7f34a004b820>"
      ]
     },
     "execution_count": 45,
     "metadata": {},
     "output_type": "execute_result"
    },
    {
     "data": {
      "image/png": "[encoded data removed]",
      "text/plain": [
       "<Figure size 2016x504 with 4 Axes>"
      ]
     },
     "metadata": {
      "needs_background": "light"
     },
     "output_type": "display_data"
    }
   ],
   "source": [
    "fig, (ax1, ax2, ax3, ax4) = plt.subplots(1, 4, figsize=(28, 7))\n",
    "\n",
    "plot_model = svm.SVC(kernel='linear', C=10, gamma=0.0001)\n",
    "\n",
    "train_sizes, train_scores, val_scores = learning_curve(plot_model, \n",
    "                                                       X_train, \n",
    "                                                       y_train, \n",
    "                                                       cv=5, \n",
    "                                                       scoring='accuracy', \n",
    "                                                       n_jobs=-1, # 이거 바꾸고 싶으면 바꾸고  \n",
    "                                                       train_sizes=np.linspace(0.01, 1, 10), \n",
    "                                                       verbose=2)\n",
    "\n",
    "train_mean = np.mean(train_scores, axis = 1)\n",
    "train_std = np.std(train_scores, axis=1)\n",
    "val_mean = np.mean(val_scores, axis=1)\n",
    "val_std = np.std(val_scores, axis=1)\n",
    "\n",
    "ax1.plot(train_sizes, train_mean, label='Training Accuracy')\n",
    "ax1.plot(train_sizes, val_mean, label='Validation Accuracy')\n",
    "ax1.set_title('SVM Learning curve')\n",
    "ax1.set_xlabel('Training Size')\n",
    "ax1.set_ylabel('Accuracy')\n",
    "\n",
    "# Logistic Regression\n",
    "plot_model = LogisticRegression(C=0.1, multi_class='multinomial', penalty='l2', solver='newton-cg')\n",
    "\n",
    "\n",
    "train_sizes, train_scores, val_scores = learning_curve(plot_model, \n",
    "                                                       X_train, \n",
    "                                                       y_train, \n",
    "                                                       cv=5, \n",
    "                                                       scoring='accuracy', \n",
    "                                                       n_jobs=-1, # 이거 바꾸고 싶으면 바꾸고  \n",
    "                                                       train_sizes=np.linspace(0.01, 1, 10), \n",
    "                                                       verbose=2)\n",
    "\n",
    "train_mean = np.mean(train_scores, axis = 1)\n",
    "train_std = np.std(train_scores, axis=1)\n",
    "val_mean = np.mean(val_scores, axis=1)\n",
    "val_std = np.std(val_scores, axis=1)\n",
    "\n",
    "ax2.plot(train_sizes, train_mean, label='Training Accuracy')\n",
    "ax2.plot(train_sizes, val_mean, label='Validation Accuracy')\n",
    "ax2.set_title('Logistic Regression Learning curve')\n",
    "ax2.set_xlabel('Training Size')\n",
    "ax2.set_ylabel('Accuracy')\n",
    "\n",
    "\n",
    "# KNN\n",
    "plot_model = KNeighborsClassifier(algorithm='ball_tree', leaf_size=45, weights='uniform')\n",
    "\n",
    "\n",
    "train_sizes, train_scores, val_scores = learning_curve(plot_model, \n",
    "                                                       X_train, \n",
    "                                                       y_train, \n",
    "                                                       cv=5, \n",
    "                                                       scoring='accuracy', \n",
    "                                                       n_jobs=-1, # 이거 바꾸고 싶으면 바꾸고  \n",
    "                                                       train_sizes=np.linspace(0.01, 1, 10), \n",
    "                                                       verbose=2)\n",
    "\n",
    "train_mean = np.mean(train_scores, axis = 1)\n",
    "train_std = np.std(train_scores, axis=1)\n",
    "val_mean = np.mean(val_scores, axis=1)\n",
    "val_std = np.std(val_scores, axis=1)\n",
    "\n",
    "ax3.plot(train_sizes, train_mean, label='Training Accuracy')\n",
    "ax3.plot(train_sizes, val_mean, label='Validation Accuracy')\n",
    "ax3.set_title('KNN Learning curve')\n",
    "ax3.set_xlabel('Training Size')\n",
    "ax3.set_ylabel('Accuracy')\n",
    "\n",
    "# Random Forest \n",
    "plot_model = RandomForestClassifier(bootstrap=True, criterion='entropy', max_depth=2, max_features='auto', min_samples_leaf=2, min_samples_split=38, n_estimators=50)\n",
    "\n",
    "train_sizes, train_scores, val_scores = learning_curve(plot_model, \n",
    "                                                       X_train, \n",
    "                                                       y_train, \n",
    "                                                       cv=5, \n",
    "                                                       scoring='accuracy', \n",
    "                                                       n_jobs=-1, # 이거 바꾸고 싶으면 바꾸고  \n",
    "                                                       train_sizes=np.linspace(0.01, 1, 10), \n",
    "                                                       verbose=2)\n",
    "\n",
    "\n",
    "train_mean = np.mean(train_scores, axis = 1)\n",
    "train_std = np.std(train_scores, axis=1)\n",
    "val_mean = np.mean(val_scores, axis=1)\n",
    "val_std = np.std(val_scores, axis=1)\n",
    "\n",
    "ax4.plot(train_sizes, train_mean, label='Training Accuracy')\n",
    "ax4.plot(train_sizes, val_mean, label='Validation Accuracy')\n",
    "ax4.set_title('Random Forest Learning curve')\n",
    "ax4.set_xlabel('Training Size')\n",
    "ax4.set_ylabel('Accuracy')\n",
    "ax4.legend(loc='upper center', bbox_to_anchor=(-1.3, -0.1),\n",
    "          fancybox=True, shadow=True, ncol=2)"
   ]
  }
 ],
 "metadata": {
  "kernelspec": {
   "display_name": "Python 3",
   "language": "python",
   "name": "python3"
  },
  "language_info": {
   "codemirror_mode": {
    "name": "ipython",
    "version": 3
   },
   "file_extension": ".py",
   "mimetype": "text/x-python",
   "name": "python",
   "nbconvert_exporter": "python",
   "pygments_lexer": "ipython3",
   "version": "3.8.5"
  }
 },
 "nbformat": 4,
 "nbformat_minor": 4
}
