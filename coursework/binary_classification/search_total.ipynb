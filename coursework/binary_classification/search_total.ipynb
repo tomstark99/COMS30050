{
 "cells": [
  {
   "cell_type": "code",
   "execution_count": 30,
   "metadata": {},
   "outputs": [],
   "source": [
    "from sklearn import datasets\n",
    "\n",
    "# How are we going to use evaluate the performance? \n",
    "# 1. accuracy\n",
    "from sklearn import metrics\n",
    "# 2. f1 score \n",
    "from sklearn.metrics import f1_score\n",
    "\n",
    "# Machine learning models \n",
    "\n",
    "# Linear Regression \n",
    "# url : https://scikit-learn.org/stable/modules/generated/sklearn.linear_model.LinearRegression.html\n",
    "from sklearn.linear_model import LinearRegression\n",
    "\n",
    "# SVM\n",
    "# url: https://scikit-learn.org/stable/modules/generated/sklearn.svm.SVC.html\n",
    "from sklearn import svm\n",
    "\n",
    "# KNN \n",
    "# url: https://scikit-learn.org/stable/modules/generated/sklearn.neighbors.KNeighborsClassifier.html\n",
    "from sklearn.neighbors import KNeighborsClassifier\n",
    "\n",
    "# Decision Tree\n",
    "# url: https://scikit-learn.org/stable/modules/generated/sklearn.tree.DecisionTreeClassifier.html\n",
    "from sklearn.tree import DecisionTreeClassifier\n",
    "\n",
    "# Random Forest \n",
    "# url: https://scikit-learn.org/stable/modules/generated/sklearn.ensemble.RandomForestClassifier.html\n",
    "from sklearn.ensemble import RandomForestClassifier\n",
    "\n",
    "# Logistic Classifier\n",
    "from sklearn.linear_model import LogisticRegression\n",
    "\n",
    "from sklearn.model_selection import RepeatedStratifiedKFold\n",
    "from sklearn.model_selection import GridSearchCV\n",
    "\n",
    "from sklearn.model_selection import learning_curve, RandomizedSearchCV, GridSearchCV\n",
    "from sklearn.model_selection import train_test_split, KFold\n",
    "from sklearn.datasets import make_classification\n",
    "from sklearn.pipeline import make_pipeline\n",
    "from sklearn.preprocessing import StandardScaler\n",
    "\n",
    "import numpy as np\n",
    "import matplotlib.pyplot as plt\n",
    "\n",
    "# PCA \n",
    "from sklearn.decomposition import PCA \n",
    "\n",
    "# Linear Regression\n",
    "from sklearn.model_selection import train_test_split\n",
    "from sklearn.linear_model import LinearRegression\n",
    "from sklearn.metrics import mean_squared_error, r2_score\n",
    "\n",
    "import pandas as pd\n",
    "import matplotlib.pyplot as plt\n",
    "import numpy as np\n",
    "\n",
    "import seaborn as sns\n",
    "\n",
    "from sklearn.model_selection import learning_curve\n",
    "\n",
    "from sklearn.metrics import classification_report"
   ]
  },
  {
   "cell_type": "markdown",
   "metadata": {},
   "source": [
    "# Preprocessing"
   ]
  },
  {
   "cell_type": "code",
   "execution_count": 31,
   "metadata": {},
   "outputs": [],
   "source": [
    "# Total"
   ]
  },
  {
   "cell_type": "code",
   "execution_count": 33,
   "metadata": {},
   "outputs": [
    {
     "data": {
      "text/plain": [
       "1.0    523\n",
       "2.0    288\n",
       "5.0    218\n",
       "3.0    155\n",
       "4.0     70\n",
       "Name: total, dtype: int64"
      ]
     },
     "execution_count": 33,
     "metadata": {},
     "output_type": "execute_result"
    }
   ],
   "source": [
    "total_dep_score = pd.read_csv('../data/0&1/sum_targets.csv')\n",
    "\n",
    "X_t = total_dep_score.copy()\n",
    "del X_t['dep_score']\n",
    "del X_t['dep_thoughts']\n",
    "del X_t['has_dep_diag']\n",
    "del X_t['prim_diag']\n",
    "del X_t['secd_diag']\n",
    "del X_t['total']\n",
    "\n",
    "\n",
    "y_t = total_dep_score['total']\n",
    "y_t.value_counts() "
   ]
  },
  {
   "cell_type": "code",
   "execution_count": 34,
   "metadata": {},
   "outputs": [
    {
     "data": {
      "text/plain": [
       "0.41706539074960125"
      ]
     },
     "execution_count": 34,
     "metadata": {},
     "output_type": "execute_result"
    }
   ],
   "source": [
    "523 / (523 + 288 + 218 + 155 + 70)"
   ]
  },
  {
   "cell_type": "code",
   "execution_count": 35,
   "metadata": {},
   "outputs": [
    {
     "data": {
      "text/html": [
       "<div>\n",
       "<style scoped>\n",
       "    .dataframe tbody tr th:only-of-type {\n",
       "        vertical-align: middle;\n",
       "    }\n",
       "\n",
       "    .dataframe tbody tr th {\n",
       "        vertical-align: top;\n",
       "    }\n",
       "\n",
       "    .dataframe thead th {\n",
       "        text-align: right;\n",
       "    }\n",
       "</style>\n",
       "<table border=\"1\" class=\"dataframe\">\n",
       "  <thead>\n",
       "    <tr style=\"text-align: right;\">\n",
       "      <th></th>\n",
       "      <th>comp_week</th>\n",
       "      <th>comp_wend</th>\n",
       "      <th>text_week</th>\n",
       "      <th>text_wend</th>\n",
       "      <th>tv_week</th>\n",
       "      <th>tv_wend</th>\n",
       "      <th>dep_score</th>\n",
       "      <th>dep_thoughts</th>\n",
       "      <th>has_dep_diag</th>\n",
       "      <th>prim_diag</th>\n",
       "      <th>secd_diag</th>\n",
       "      <th>total</th>\n",
       "    </tr>\n",
       "  </thead>\n",
       "  <tbody>\n",
       "    <tr>\n",
       "      <th>0</th>\n",
       "      <td>1</td>\n",
       "      <td>2</td>\n",
       "      <td>1</td>\n",
       "      <td>1</td>\n",
       "      <td>1</td>\n",
       "      <td>2</td>\n",
       "      <td>0.0</td>\n",
       "      <td>1.0</td>\n",
       "      <td>0</td>\n",
       "      <td>0.0</td>\n",
       "      <td>0.0</td>\n",
       "      <td>1.0</td>\n",
       "    </tr>\n",
       "    <tr>\n",
       "      <th>1</th>\n",
       "      <td>2</td>\n",
       "      <td>2</td>\n",
       "      <td>3</td>\n",
       "      <td>3</td>\n",
       "      <td>1</td>\n",
       "      <td>2</td>\n",
       "      <td>1.0</td>\n",
       "      <td>1.0</td>\n",
       "      <td>0</td>\n",
       "      <td>1.0</td>\n",
       "      <td>0.0</td>\n",
       "      <td>3.0</td>\n",
       "    </tr>\n",
       "    <tr>\n",
       "      <th>2</th>\n",
       "      <td>1</td>\n",
       "      <td>0</td>\n",
       "      <td>1</td>\n",
       "      <td>2</td>\n",
       "      <td>1</td>\n",
       "      <td>1</td>\n",
       "      <td>1.0</td>\n",
       "      <td>1.0</td>\n",
       "      <td>1</td>\n",
       "      <td>1.0</td>\n",
       "      <td>1.0</td>\n",
       "      <td>5.0</td>\n",
       "    </tr>\n",
       "    <tr>\n",
       "      <th>3</th>\n",
       "      <td>2</td>\n",
       "      <td>3</td>\n",
       "      <td>3</td>\n",
       "      <td>3</td>\n",
       "      <td>2</td>\n",
       "      <td>3</td>\n",
       "      <td>1.0</td>\n",
       "      <td>1.0</td>\n",
       "      <td>0</td>\n",
       "      <td>1.0</td>\n",
       "      <td>1.0</td>\n",
       "      <td>4.0</td>\n",
       "    </tr>\n",
       "    <tr>\n",
       "      <th>4</th>\n",
       "      <td>2</td>\n",
       "      <td>3</td>\n",
       "      <td>1</td>\n",
       "      <td>1</td>\n",
       "      <td>2</td>\n",
       "      <td>1</td>\n",
       "      <td>1.0</td>\n",
       "      <td>1.0</td>\n",
       "      <td>0</td>\n",
       "      <td>0.0</td>\n",
       "      <td>0.0</td>\n",
       "      <td>2.0</td>\n",
       "    </tr>\n",
       "    <tr>\n",
       "      <th>...</th>\n",
       "      <td>...</td>\n",
       "      <td>...</td>\n",
       "      <td>...</td>\n",
       "      <td>...</td>\n",
       "      <td>...</td>\n",
       "      <td>...</td>\n",
       "      <td>...</td>\n",
       "      <td>...</td>\n",
       "      <td>...</td>\n",
       "      <td>...</td>\n",
       "      <td>...</td>\n",
       "      <td>...</td>\n",
       "    </tr>\n",
       "    <tr>\n",
       "      <th>1249</th>\n",
       "      <td>2</td>\n",
       "      <td>2</td>\n",
       "      <td>2</td>\n",
       "      <td>2</td>\n",
       "      <td>2</td>\n",
       "      <td>1</td>\n",
       "      <td>0.0</td>\n",
       "      <td>1.0</td>\n",
       "      <td>0</td>\n",
       "      <td>0.0</td>\n",
       "      <td>0.0</td>\n",
       "      <td>1.0</td>\n",
       "    </tr>\n",
       "    <tr>\n",
       "      <th>1250</th>\n",
       "      <td>3</td>\n",
       "      <td>3</td>\n",
       "      <td>1</td>\n",
       "      <td>1</td>\n",
       "      <td>1</td>\n",
       "      <td>2</td>\n",
       "      <td>0.0</td>\n",
       "      <td>1.0</td>\n",
       "      <td>0</td>\n",
       "      <td>0.0</td>\n",
       "      <td>0.0</td>\n",
       "      <td>1.0</td>\n",
       "    </tr>\n",
       "    <tr>\n",
       "      <th>1251</th>\n",
       "      <td>3</td>\n",
       "      <td>0</td>\n",
       "      <td>2</td>\n",
       "      <td>2</td>\n",
       "      <td>2</td>\n",
       "      <td>2</td>\n",
       "      <td>0.0</td>\n",
       "      <td>0.0</td>\n",
       "      <td>0</td>\n",
       "      <td>1.0</td>\n",
       "      <td>0.0</td>\n",
       "      <td>1.0</td>\n",
       "    </tr>\n",
       "    <tr>\n",
       "      <th>1252</th>\n",
       "      <td>2</td>\n",
       "      <td>3</td>\n",
       "      <td>1</td>\n",
       "      <td>1</td>\n",
       "      <td>1</td>\n",
       "      <td>2</td>\n",
       "      <td>0.0</td>\n",
       "      <td>1.0</td>\n",
       "      <td>0</td>\n",
       "      <td>0.0</td>\n",
       "      <td>0.0</td>\n",
       "      <td>1.0</td>\n",
       "    </tr>\n",
       "    <tr>\n",
       "      <th>1253</th>\n",
       "      <td>2</td>\n",
       "      <td>3</td>\n",
       "      <td>1</td>\n",
       "      <td>1</td>\n",
       "      <td>1</td>\n",
       "      <td>2</td>\n",
       "      <td>1.0</td>\n",
       "      <td>1.0</td>\n",
       "      <td>1</td>\n",
       "      <td>1.0</td>\n",
       "      <td>1.0</td>\n",
       "      <td>5.0</td>\n",
       "    </tr>\n",
       "  </tbody>\n",
       "</table>\n",
       "<p>1254 rows × 12 columns</p>\n",
       "</div>"
      ],
      "text/plain": [
       "      comp_week  comp_wend  text_week  text_wend  tv_week  tv_wend  dep_score  \\\n",
       "0             1          2          1          1        1        2        0.0   \n",
       "1             2          2          3          3        1        2        1.0   \n",
       "2             1          0          1          2        1        1        1.0   \n",
       "3             2          3          3          3        2        3        1.0   \n",
       "4             2          3          1          1        2        1        1.0   \n",
       "...         ...        ...        ...        ...      ...      ...        ...   \n",
       "1249          2          2          2          2        2        1        0.0   \n",
       "1250          3          3          1          1        1        2        0.0   \n",
       "1251          3          0          2          2        2        2        0.0   \n",
       "1252          2          3          1          1        1        2        0.0   \n",
       "1253          2          3          1          1        1        2        1.0   \n",
       "\n",
       "      dep_thoughts  has_dep_diag  prim_diag  secd_diag  total  \n",
       "0              1.0             0        0.0        0.0    1.0  \n",
       "1              1.0             0        1.0        0.0    3.0  \n",
       "2              1.0             1        1.0        1.0    5.0  \n",
       "3              1.0             0        1.0        1.0    4.0  \n",
       "4              1.0             0        0.0        0.0    2.0  \n",
       "...            ...           ...        ...        ...    ...  \n",
       "1249           1.0             0        0.0        0.0    1.0  \n",
       "1250           1.0             0        0.0        0.0    1.0  \n",
       "1251           0.0             0        1.0        0.0    1.0  \n",
       "1252           1.0             0        0.0        0.0    1.0  \n",
       "1253           1.0             1        1.0        1.0    5.0  \n",
       "\n",
       "[1254 rows x 12 columns]"
      ]
     },
     "execution_count": 35,
     "metadata": {},
     "output_type": "execute_result"
    }
   ],
   "source": [
    "total_dep_score"
   ]
  },
  {
   "cell_type": "code",
   "execution_count": 5,
   "metadata": {},
   "outputs": [],
   "source": [
    "# Sampled "
   ]
  },
  {
   "cell_type": "code",
   "execution_count": 6,
   "metadata": {},
   "outputs": [
    {
     "data": {
      "text/plain": [
       "2.0    70\n",
       "3.0    70\n",
       "5.0    70\n",
       "1.0    70\n",
       "4.0    70\n",
       "Name: total, dtype: int64"
      ]
     },
     "execution_count": 6,
     "metadata": {},
     "output_type": "execute_result"
    }
   ],
   "source": [
    "sampled_dep_score = pd.read_csv('../data/0&1/sampled_sum_targets.csv')\n",
    "\n",
    "X_s = sampled_dep_score.copy()\n",
    "del X_s['dep_score']\n",
    "del X_s['dep_thoughts']\n",
    "del X_s['has_dep_diag']\n",
    "del X_s['prim_diag']\n",
    "del X_s['secd_diag']\n",
    "del X_s['total']\n",
    "\n",
    "\n",
    "y_s = sampled_dep_score['total']\n",
    "y_s.value_counts() "
   ]
  },
  {
   "cell_type": "code",
   "execution_count": 7,
   "metadata": {},
   "outputs": [],
   "source": [
    "folds = KFold(n_splits = 5, shuffle = True, random_state = 1)"
   ]
  },
  {
   "cell_type": "markdown",
   "metadata": {},
   "source": [
    "# 1. total"
   ]
  },
  {
   "cell_type": "code",
   "execution_count": 8,
   "metadata": {},
   "outputs": [],
   "source": [
    "X_train, X_test, y_train, y_test = train_test_split(X_t, y_t, test_size=0.3, random_state=1)  # 70% training and 30% test"
   ]
  },
  {
   "cell_type": "markdown",
   "metadata": {},
   "source": [
    "## SVM"
   ]
  },
  {
   "cell_type": "code",
   "execution_count": null,
   "metadata": {},
   "outputs": [],
   "source": [
    "svm_hyper_params = [ \n",
    "                        {\n",
    "                        'gamma': np.logspace(-4, -1, 4),\n",
    "                        'C': np.logspace(-3, 1, 5),\n",
    "                        'kernel': ['linear', 'poly', 'rbf', 'sigmoid']\n",
    "                        }\n",
    "                    ]\n",
    "\n",
    "# specify model\n",
    "svm_model = svm.SVC(random_state=1)\n",
    "\n",
    "# set up GridSearchCV()\n",
    "svm_model_cv = GridSearchCV(estimator = svm_model, \n",
    "                            param_grid = svm_hyper_params, \n",
    "                            scoring= 'accuracy', \n",
    "                            cv = folds, \n",
    "                            verbose = 2,\n",
    "                            return_train_score=True,\n",
    "                            n_jobs=2)      "
   ]
  },
  {
   "cell_type": "code",
   "execution_count": null,
   "metadata": {},
   "outputs": [],
   "source": [
    "# fit the model\n",
    "svm_model_cv.fit(X_train, y_train)\n",
    "print(\"best hyper parameters\", svm_model_cv.best_params_)\n",
    "svm_y_pred = svm_model_cv.predict(X_test)"
   ]
  },
  {
   "cell_type": "code",
   "execution_count": null,
   "metadata": {},
   "outputs": [],
   "source": [
    "# accuracy \n",
    "print(\"Accuracy:\", metrics.accuracy_score(y_test, svm_y_pred))\n",
    "# f1 score \n",
    "print(\"F1 score micro:\", f1_score(y_test, svm_y_pred, average='micro'))\n",
    "\n",
    "print(\"\\nclassification report:\\n\", classification_report(y_test, svm_y_pred))"
   ]
  },
  {
   "cell_type": "code",
   "execution_count": null,
   "metadata": {},
   "outputs": [],
   "source": [
    "# ------ HERE ------\n",
    "\n",
    "# plug in suitable hyper-parameters\n",
    "\n",
    "\n",
    "# 여기만 바꾸면 된다. \n",
    "plot_model = svm.SVC(kernel='poly', C=1.0, gamma=0.1)\n",
    "\n",
    "\n",
    "train_sizes, train_scores, val_scores = learning_curve(plot_model, \n",
    "                                                       X_train, \n",
    "                                                       y_train, \n",
    "                                                       cv=5, \n",
    "                                                       scoring='accuracy', \n",
    "                                                       n_jobs=-1, # 이거 바꾸고 싶으면 바꾸고  \n",
    "                                                       train_sizes=np.linspace(0.01, 1, 10), \n",
    "                                                       verbose=2)\n",
    "# 여기만 바꾸면 된다. \n",
    "\n",
    "\n",
    "train_mean = np.mean(train_scores, axis = 1)\n",
    "train_std = np.std(train_scores, axis=1)\n",
    "val_mean = np.mean(val_scores, axis=1)\n",
    "val_std = np.std(val_scores, axis=1)\n",
    "\n",
    "plt.plot(train_sizes, train_mean, label='Training score')\n",
    "plt.plot(train_sizes, val_mean, label='Cross-validation score')\n",
    "plt.title('Learning curve')\n",
    "plt.xlabel('Training Size')\n",
    "plt.ylabel('Accuracy score')\n",
    "plt.legend(loc='best')\n",
    "plt.show()"
   ]
  },
  {
   "cell_type": "markdown",
   "metadata": {},
   "source": [
    "## Logistic Regression"
   ]
  },
  {
   "cell_type": "code",
   "execution_count": null,
   "metadata": {},
   "outputs": [],
   "source": [
    "log_hyper_params = [ \n",
    "                        {\n",
    "                        'C': np.logspace(-4, 2, 7),\n",
    "                        'solver' : ['newton-cg', 'lbfgs', 'liblinear', 'sag', 'saga'],\n",
    "                        'penalty' : ['l1', 'l2', 'elasticnet', 'none'],\n",
    "                        'multi_class' : ['auto', 'ovr', 'multinomial']\n",
    "                        }\n",
    "                    ]\n",
    "\n",
    "# specify model\n",
    "log_model = LogisticRegression(random_state=1)\n",
    "\n",
    "# set up GridSearchCV()\n",
    "log_model_cv = GridSearchCV(estimator = log_model, \n",
    "                            param_grid = log_hyper_params, \n",
    "                            scoring= 'accuracy', \n",
    "                            cv = folds, \n",
    "                            verbose = 2,\n",
    "                            return_train_score=True,\n",
    "                            n_jobs=-1)      "
   ]
  },
  {
   "cell_type": "code",
   "execution_count": null,
   "metadata": {},
   "outputs": [],
   "source": [
    "# fit the model\n",
    "log_model_cv.fit(X_train, y_train)\n",
    "print(\"best hyper parameters\", log_model_cv.best_params_)\n",
    "log_y_pred = log_model_cv.predict(X_test)"
   ]
  },
  {
   "cell_type": "code",
   "execution_count": null,
   "metadata": {},
   "outputs": [],
   "source": [
    "# accuracy \n",
    "print(\"Accuracy:\", metrics.accuracy_score(y_test, log_y_pred))\n",
    "# f1 score \n",
    "print(\"F1 score micro:\", f1_score(y_test, log_y_pred, average='micro'))\n",
    "\n",
    "print(\"\\nclassification report:\\n\", classification_report(y_test, log_y_pred))"
   ]
  },
  {
   "cell_type": "code",
   "execution_count": null,
   "metadata": {},
   "outputs": [],
   "source": [
    "# 여기만 바꾸면 된다. \n",
    "plot_model = LogisticRegression(C=0.1, multi_class='auto', penalty='l2', solver='liblinear')\n",
    "\n",
    "\n",
    "train_sizes, train_scores, val_scores = learning_curve(plot_model, \n",
    "                                                       X_train, \n",
    "                                                       y_train, \n",
    "                                                       cv=5, \n",
    "                                                       scoring='accuracy', \n",
    "                                                       n_jobs=-1, # 이거 바꾸고 싶으면 바꾸고  \n",
    "                                                       train_sizes=np.linspace(0.01, 1, 10), \n",
    "                                                       verbose=2)\n",
    "# 여기만 바꾸면 된다. \n",
    "\n",
    "\n",
    "train_mean = np.mean(train_scores, axis = 1)\n",
    "train_std = np.std(train_scores, axis=1)\n",
    "val_mean = np.mean(val_scores, axis=1)\n",
    "val_std = np.std(val_scores, axis=1)\n",
    "\n",
    "plt.plot(train_sizes, train_mean, label='Training score')\n",
    "plt.plot(train_sizes, val_mean, label='Cross-validation score')\n",
    "plt.title('Learning curve')\n",
    "plt.xlabel('Training Size')\n",
    "plt.ylabel('Accuracy score')\n",
    "plt.legend(loc='best')\n",
    "plt.show()"
   ]
  },
  {
   "cell_type": "markdown",
   "metadata": {},
   "source": [
    "## KNN"
   ]
  },
  {
   "cell_type": "code",
   "execution_count": null,
   "metadata": {},
   "outputs": [],
   "source": [
    "knn_hyper_params = [ \n",
    "                        {\n",
    "                        'weights' : ['uniform', 'distance'],\n",
    "                        'algorithm' : ['auto', 'ball_tree', 'kd_tree', 'brute'],\n",
    "                        'leaf_size' : np.linspace(2, 100, 10, dtype=int)\n",
    "                        }\n",
    "                    ]\n",
    "\n",
    "# specify model\n",
    "\n",
    "# THIS SECTION SHOULD BE CHANGED.\n",
    "# n_neighbors  SHOULD BE MODIFIED TO ANOTHER VALUE DEPENDING ON THE TARGET VALUE.\n",
    "knn_model = KNeighborsClassifier(n_neighbors=len(y_t.unique()))\n",
    "\n",
    "# set up GridSearchCV()\n",
    "knn_model_cv = GridSearchCV(estimator = knn_model, \n",
    "                            param_grid = knn_hyper_params, \n",
    "                            scoring= 'accuracy', \n",
    "                            cv = folds, \n",
    "                            verbose = 2,\n",
    "                            return_train_score=True,\n",
    "                            n_jobs=-1)      "
   ]
  },
  {
   "cell_type": "code",
   "execution_count": null,
   "metadata": {},
   "outputs": [],
   "source": [
    "# fit the model\n",
    "knn_model_cv.fit(X_train, y_train)\n",
    "print(\"best hyper parameters\", knn_model_cv.best_params_)\n",
    "knn_y_pred = knn_model_cv.predict(X_test)"
   ]
  },
  {
   "cell_type": "code",
   "execution_count": null,
   "metadata": {},
   "outputs": [],
   "source": [
    "# accuracy \n",
    "print(\"Accuracy:\", metrics.accuracy_score(y_test, knn_y_pred))\n",
    "# f1 score \n",
    "print(\"F1 score micro:\", f1_score(y_test, knn_y_pred, average='micro'))\n",
    "\n",
    "print(\"\\nclassification report:\\n\", classification_report(y_test, knn_y_pred))"
   ]
  },
  {
   "cell_type": "code",
   "execution_count": null,
   "metadata": {},
   "outputs": [],
   "source": [
    "# ------ HERE ------\n",
    "\n",
    "# plug in suitable hyper-parameters\n",
    "\n",
    "\n",
    "# 여기만 바꾸면 된다. \n",
    "plot_model = KNeighborsClassifier(algorithm='brute', leaf_size=2, weights='uniform')\n",
    "\n",
    "\n",
    "train_sizes, train_scores, val_scores = learning_curve(plot_model, \n",
    "                                                       X_train, \n",
    "                                                       y_train, \n",
    "                                                       cv=5, \n",
    "                                                       scoring='accuracy', \n",
    "                                                       n_jobs=-1, # 이거 바꾸고 싶으면 바꾸고  \n",
    "                                                       train_sizes=np.linspace(0.01, 1, 10), \n",
    "                                                       verbose=2)\n",
    "# 여기만 바꾸면 된다. \n",
    "\n",
    "\n",
    "train_mean = np.mean(train_scores, axis = 1)\n",
    "train_std = np.std(train_scores, axis=1)\n",
    "val_mean = np.mean(val_scores, axis=1)\n",
    "val_std = np.std(val_scores, axis=1)\n",
    "\n",
    "plt.plot(train_sizes, train_mean, label='Training score')\n",
    "plt.plot(train_sizes, val_mean, label='Cross-validation score')\n",
    "plt.title('Learning curve')\n",
    "plt.xlabel('Training Size')\n",
    "plt.ylabel('Accuracy score')\n",
    "plt.legend(loc='best')\n",
    "plt.show()"
   ]
  },
  {
   "cell_type": "markdown",
   "metadata": {},
   "source": [
    "## Random Forest"
   ]
  },
  {
   "cell_type": "code",
   "execution_count": null,
   "metadata": {},
   "outputs": [],
   "source": [
    "rf_hyper_params = [ \n",
    "                        {\n",
    "                            'n_estimators' : [int(x) for x in np.linspace(5, 50, 5)],\n",
    "                            'criterion' : ['gini', 'entropy'],\n",
    "                            'max_depth' : [int(x) for x in np.linspace(2, 50, 5)],\n",
    "                            'min_samples_split' : [int(x) for x in np.linspace(2, 50, 5)],\n",
    "                            'min_samples_leaf' : [int(x) for x in np.linspace(2, 50, 5)],\n",
    "                            'max_features' : ['auto', 'sqrt', 'log2'],\n",
    "                            'bootstrap' : [True, False]\n",
    "\n",
    "                        }\n",
    "                    ]\n",
    "\n",
    "# specify model\n",
    "\n",
    "# THIS SECTION SHOULD BE CHANGED.\n",
    "# n_neighbors  SHOULD BE MODIFIED TO ANOTHER VALUE DEPENDING ON THE TARGET VALUE.\n",
    "rf_model = RandomForestClassifier(random_state=1)\n",
    "\n",
    "# set up GridSearchCV()\n",
    "rf_model_cv = GridSearchCV(estimator = rf_model, \n",
    "                            param_grid = rf_hyper_params, \n",
    "                            scoring= 'accuracy', \n",
    "                            cv = folds, \n",
    "                            verbose = 2,\n",
    "                            return_train_score=True,\n",
    "                            n_jobs=-1)      "
   ]
  },
  {
   "cell_type": "code",
   "execution_count": null,
   "metadata": {},
   "outputs": [],
   "source": [
    "# fit the model\n",
    "rf_model_cv.fit(X_train, y_train)\n",
    "print(\"best hyper parameters\", rf_model_cv.best_params_)\n",
    "rf_y_pred = rf_model_cv.predict(X_test)"
   ]
  },
  {
   "cell_type": "code",
   "execution_count": null,
   "metadata": {},
   "outputs": [],
   "source": [
    "# accuracy \n",
    "print(\"Accuracy:\", metrics.accuracy_score(y_test, rf_y_pred))\n",
    "# f1 score \n",
    "print(\"F1 score micro:\", f1_score(y_test, rf_y_pred, average='micro'))\n",
    "\n",
    "print(\"\\nclassification report:\\n\", classification_report(y_test, rf_y_pred))"
   ]
  },
  {
   "cell_type": "code",
   "execution_count": null,
   "metadata": {},
   "outputs": [],
   "source": [
    "plot_model = RandomForestClassifier(bootstrap=True, criterion='gini', max_depth=14, max_features='auto', min_samples_leaf=2, min_samples_split=50, n_estimators=50)\n",
    "\n",
    "train_sizes, train_scores, val_scores = learning_curve(plot_model, \n",
    "                                                       X_train, \n",
    "                                                       y_train, \n",
    "                                                       cv=5, \n",
    "                                                       scoring='accuracy', \n",
    "                                                       n_jobs=-1, # 이거 바꾸고 싶으면 바꾸고  \n",
    "                                                       train_sizes=np.linspace(0.01, 1, 10), \n",
    "                                                       verbose=2)\n",
    "# 여기만 바꾸면 된다. \n",
    "\n",
    "\n",
    "train_mean = np.mean(train_scores, axis = 1)\n",
    "train_std = np.std(train_scores, axis=1)\n",
    "val_mean = np.mean(val_scores, axis=1)\n",
    "val_std = np.std(val_scores, axis=1)\n",
    "\n",
    "plt.plot(train_sizes, train_mean, label='Training score')\n",
    "plt.plot(train_sizes, val_mean, label='Cross-validation score')\n",
    "plt.title('Learning curve')\n",
    "plt.xlabel('Training Size')\n",
    "plt.ylabel('Accuracy score')\n",
    "plt.legend(loc='best')\n",
    "plt.show()"
   ]
  },
  {
   "cell_type": "code",
   "execution_count": null,
   "metadata": {},
   "outputs": [],
   "source": [
    "# Total Learning Curve"
   ]
  },
  {
   "cell_type": "code",
   "execution_count": null,
   "metadata": {},
   "outputs": [],
   "source": [
    "fig, (ax1, ax2, ax3, ax4) = plt.subplots(1, 4, figsize=(28, 7))\n",
    "\n",
    "# SVM\n",
    "plot_model = svm.SVC(kernel='poly', C=1.0, gamma=0.1)\n",
    "\n",
    "\n",
    "train_sizes, train_scores, val_scores = learning_curve(plot_model, \n",
    "                                                       X_train, \n",
    "                                                       y_train, \n",
    "                                                       cv=5, \n",
    "                                                       scoring='accuracy', \n",
    "                                                       n_jobs=-1, # 이거 바꾸고 싶으면 바꾸고  \n",
    "                                                       train_sizes=np.linspace(0.01, 1, 10), \n",
    "                                                       verbose=2)\n",
    "\n",
    "train_mean = np.mean(train_scores, axis = 1)\n",
    "train_std = np.std(train_scores, axis=1)\n",
    "val_mean = np.mean(val_scores, axis=1)\n",
    "val_std = np.std(val_scores, axis=1)\n",
    "\n",
    "ax1.plot(train_sizes, train_mean, label='Training Accuracy')\n",
    "ax1.plot(train_sizes, val_mean, label='Validation Accuracy')\n",
    "ax1.set_title('SVM Learning curve')\n",
    "ax1.set_xlabel('Training Size')\n",
    "ax1.set_ylabel('Accuracy')\n",
    "\n",
    "# Logistic Regression\n",
    "plot_model = LogisticRegression(C=0.1, multi_class='auto', penalty='l2', solver='liblinear')\n",
    "\n",
    "\n",
    "train_sizes, train_scores, val_scores = learning_curve(plot_model, \n",
    "                                                       X_train, \n",
    "                                                       y_train, \n",
    "                                                       cv=5, \n",
    "                                                       scoring='accuracy', \n",
    "                                                       n_jobs=-1, # 이거 바꾸고 싶으면 바꾸고  \n",
    "                                                       train_sizes=np.linspace(0.01, 1, 10), \n",
    "                                                       verbose=2)\n",
    "\n",
    "train_mean = np.mean(train_scores, axis = 1)\n",
    "train_std = np.std(train_scores, axis=1)\n",
    "val_mean = np.mean(val_scores, axis=1)\n",
    "val_std = np.std(val_scores, axis=1)\n",
    "\n",
    "ax2.plot(train_sizes, train_mean, label='Training Accuracy')\n",
    "ax2.plot(train_sizes, val_mean, label='Validation Accuracy')\n",
    "ax2.set_title('Logistic Regression Learning curve')\n",
    "ax2.set_xlabel('Training Size')\n",
    "ax2.set_ylabel('Accuracy')\n",
    "\n",
    "\n",
    "# KNN\n",
    "plot_model = KNeighborsClassifier(algorithm='brute', leaf_size=2, weights='uniform')\n",
    "\n",
    "train_sizes, train_scores, val_scores = learning_curve(plot_model, \n",
    "                                                       X_train, \n",
    "                                                       y_train, \n",
    "                                                       cv=5, \n",
    "                                                       scoring='accuracy', \n",
    "                                                       n_jobs=-1, # 이거 바꾸고 싶으면 바꾸고  \n",
    "                                                       train_sizes=np.linspace(0.01, 1, 10), \n",
    "                                                       verbose=2)\n",
    "\n",
    "train_mean = np.mean(train_scores, axis = 1)\n",
    "train_std = np.std(train_scores, axis=1)\n",
    "val_mean = np.mean(val_scores, axis=1)\n",
    "val_std = np.std(val_scores, axis=1)\n",
    "\n",
    "ax3.plot(train_sizes, train_mean, label='Training Accuracy')\n",
    "ax3.plot(train_sizes, val_mean, label='Validation Accuracy')\n",
    "ax3.set_title('KNN Learning curve')\n",
    "ax3.set_xlabel('Training Size')\n",
    "ax3.set_ylabel('Accuracy')\n",
    "\n",
    "# Random Forest\n",
    "plot_model = RandomForestClassifier(bootstrap=True, criterion='gini', max_depth=14, max_features='auto', min_samples_leaf=2, min_samples_split=50, n_estimators=50)\n",
    "\n",
    "train_sizes, train_scores, val_scores = learning_curve(plot_model, \n",
    "                                                       X_train, \n",
    "                                                       y_train, \n",
    "                                                       cv=5, \n",
    "                                                       scoring='accuracy', \n",
    "                                                       n_jobs=-1, # 이거 바꾸고 싶으면 바꾸고  \n",
    "                                                       train_sizes=np.linspace(0.01, 1, 10), \n",
    "                                                       verbose=2)\n",
    "\n",
    "train_mean = np.mean(train_scores, axis = 1)\n",
    "train_std = np.std(train_scores, axis=1)\n",
    "val_mean = np.mean(val_scores, axis=1)\n",
    "val_std = np.std(val_scores, axis=1)\n",
    "\n",
    "ax4.plot(train_sizes, train_mean, label='Training Accuracy')\n",
    "ax4.plot(train_sizes, val_mean, label='Validation Accuracy')\n",
    "ax4.set_title('Random Forest Learning curve')\n",
    "ax4.set_xlabel('Training Size')\n",
    "ax4.set_ylabel('Accuracy')\n",
    "ax4.legend(loc='upper center', bbox_to_anchor=(-1.3, -0.1),\n",
    "          fancybox=True, shadow=True, ncol=2)"
   ]
  },
  {
   "cell_type": "markdown",
   "metadata": {},
   "source": [
    "# 2. sampled"
   ]
  },
  {
   "cell_type": "code",
   "execution_count": 9,
   "metadata": {},
   "outputs": [],
   "source": [
    "X_train, X_test, y_train, y_test = train_test_split(X_s, y_s, test_size=0.3, random_state=1)  # 70% training and 30% test"
   ]
  },
  {
   "cell_type": "markdown",
   "metadata": {},
   "source": [
    "# SVM "
   ]
  },
  {
   "cell_type": "code",
   "execution_count": 10,
   "metadata": {},
   "outputs": [],
   "source": [
    "svm_hyper_params = [ \n",
    "                        {\n",
    "                        'gamma': np.logspace(-4, -1, 4),\n",
    "                        'C': np.logspace(-3, 1, 5),\n",
    "                        'kernel': ['linear', 'poly', 'rbf', 'sigmoid']\n",
    "                        }\n",
    "                    ]\n",
    "\n",
    "# specify model\n",
    "svm_model = svm.SVC(random_state=1)\n",
    "\n",
    "# set up GridSearchCV()\n",
    "svm_model_cv = GridSearchCV(estimator = svm_model, \n",
    "                            param_grid = svm_hyper_params, \n",
    "                            scoring= 'accuracy', \n",
    "                            cv = folds, \n",
    "                            verbose = 2,\n",
    "                            return_train_score=True,\n",
    "                            n_jobs=2)      "
   ]
  },
  {
   "cell_type": "code",
   "execution_count": 11,
   "metadata": {},
   "outputs": [
    {
     "name": "stdout",
     "output_type": "stream",
     "text": [
      "Fitting 5 folds for each of 80 candidates, totalling 400 fits\n",
      "best hyper parameters {'C': 10.0, 'gamma': 0.1, 'kernel': 'rbf'}\n"
     ]
    }
   ],
   "source": [
    "# fit the model\n",
    "svm_model_cv.fit(X_train, y_train)\n",
    "print(\"best hyper parameters\", svm_model_cv.best_params_)\n",
    "svm_y_pred = svm_model_cv.predict(X_test)"
   ]
  },
  {
   "cell_type": "code",
   "execution_count": 13,
   "metadata": {},
   "outputs": [
    {
     "name": "stdout",
     "output_type": "stream",
     "text": [
      "Accuracy: 0.24761904761904763\n",
      "F1 score micro: 0.24761904761904763\n",
      "\n",
      "classification report:\n",
      "               precision    recall  f1-score   support\n",
      "\n",
      "         1.0       0.22      0.28      0.24        18\n",
      "         2.0       0.18      0.23      0.20        22\n",
      "         3.0       0.21      0.17      0.19        23\n",
      "         4.0       0.35      0.38      0.36        24\n",
      "         5.0       0.33      0.17      0.22        18\n",
      "\n",
      "    accuracy                           0.25       105\n",
      "   macro avg       0.26      0.24      0.24       105\n",
      "weighted avg       0.26      0.25      0.25       105\n",
      "\n"
     ]
    }
   ],
   "source": [
    "# accuracy \n",
    "print(\"Accuracy:\", metrics.accuracy_score(y_test, svm_y_pred))\n",
    "# f1 score \n",
    "print(\"F1 score micro:\", f1_score(y_test, svm_y_pred, average='micro'))\n",
    "\n",
    "print(\"\\nclassification report:\\n\", classification_report(y_test, svm_y_pred))"
   ]
  },
  {
   "cell_type": "code",
   "execution_count": 14,
   "metadata": {},
   "outputs": [
    {
     "name": "stdout",
     "output_type": "stream",
     "text": [
      "[learning_curve] Training set sizes: [  1  23  45  66  88 109 131 152 174 196]\n"
     ]
    },
    {
     "name": "stderr",
     "output_type": "stream",
     "text": [
      "[Parallel(n_jobs=-1)]: Using backend LokyBackend with 4 concurrent workers.\n",
      "[Parallel(n_jobs=-1)]: Done  25 out of  50 | elapsed:    1.4s remaining:    1.4s\n",
      "[Parallel(n_jobs=-1)]: Done  50 out of  50 | elapsed:    1.5s finished\n"
     ]
    },
    {
     "data": {
      "image/png": "[encoded data removed]",
      "text/plain": [
       "<Figure size 432x288 with 1 Axes>"
      ]
     },
     "metadata": {
      "needs_background": "light"
     },
     "output_type": "display_data"
    }
   ],
   "source": [
    "# ------ HERE ------\n",
    "\n",
    "# plug in suitable hyper-parameters\n",
    "\n",
    "\n",
    "# 여기만 바꾸면 된다. \n",
    "plot_model = svm.SVC(kernel='rbf', C=10.0, gamma=0.1)\n",
    "\n",
    "\n",
    "train_sizes, train_scores, val_scores = learning_curve(plot_model, \n",
    "                                                       X_train, \n",
    "                                                       y_train, \n",
    "                                                       cv=5, \n",
    "                                                       scoring='accuracy', \n",
    "                                                       n_jobs=-1, # 이거 바꾸고 싶으면 바꾸고  \n",
    "                                                       train_sizes=np.linspace(0.01, 1, 10), \n",
    "                                                       verbose=2)\n",
    "# 여기만 바꾸면 된다. \n",
    "\n",
    "\n",
    "train_mean = np.mean(train_scores, axis = 1)\n",
    "train_std = np.std(train_scores, axis=1)\n",
    "val_mean = np.mean(val_scores, axis=1)\n",
    "val_std = np.std(val_scores, axis=1)\n",
    "\n",
    "plt.plot(train_sizes, train_mean, label='Training score')\n",
    "plt.plot(train_sizes, val_mean, label='Cross-validation score')\n",
    "plt.title('Learning curve')\n",
    "plt.xlabel('Training Size')\n",
    "plt.ylabel('Accuracy score')\n",
    "plt.legend(loc='best')\n",
    "plt.show()"
   ]
  },
  {
   "cell_type": "markdown",
   "metadata": {},
   "source": [
    "# Logistic Regression"
   ]
  },
  {
   "cell_type": "code",
   "execution_count": 15,
   "metadata": {},
   "outputs": [],
   "source": [
    "log_hyper_params = [ \n",
    "                        {\n",
    "                        'C': np.logspace(-4, 2, 7),\n",
    "                        'solver' : ['newton-cg', 'lbfgs', 'liblinear', 'sag', 'saga'],\n",
    "                        'penalty' : ['l1', 'l2', 'elasticnet', 'none'],\n",
    "                        'multi_class' : ['auto', 'ovr', 'multinomial']\n",
    "                        }\n",
    "                    ]\n",
    "\n",
    "# specify model\n",
    "log_model = LogisticRegression(random_state=1)\n",
    "\n",
    "# set up GridSearchCV()\n",
    "log_model_cv = GridSearchCV(estimator = log_model, \n",
    "                            param_grid = log_hyper_params, \n",
    "                            scoring= 'accuracy', \n",
    "                            cv = folds, \n",
    "                            verbose = 2,\n",
    "                            return_train_score=True,\n",
    "                            n_jobs=-1)      "
   ]
  },
  {
   "cell_type": "code",
   "execution_count": 16,
   "metadata": {},
   "outputs": [
    {
     "name": "stdout",
     "output_type": "stream",
     "text": [
      "Fitting 5 folds for each of 420 candidates, totalling 2100 fits\n",
      "best hyper parameters {'C': 0.0001, 'multi_class': 'auto', 'penalty': 'l1', 'solver': 'liblinear'}\n"
     ]
    },
    {
     "name": "stderr",
     "output_type": "stream",
     "text": [
      "/home/jhpark/.local/lib/python3.8/site-packages/sklearn/model_selection/_search.py:918: UserWarning: One or more of the test scores are non-finite: [       nan        nan 0.2122449         nan 0.20408163 0.17142857\n",
      " 0.17142857 0.1755102  0.17142857 0.17142857        nan        nan\n",
      "        nan        nan        nan 0.1877551  0.1877551         nan\n",
      " 0.1877551  0.1877551         nan        nan 0.2122449         nan\n",
      " 0.20408163 0.17142857 0.17142857 0.1755102  0.17142857 0.17142857\n",
      "        nan        nan        nan        nan        nan 0.18367347\n",
      " 0.18367347        nan 0.18367347 0.17959184        nan        nan\n",
      "        nan        nan 0.20408163 0.17142857 0.17142857        nan\n",
      " 0.17142857 0.17142857        nan        nan        nan        nan\n",
      "        nan 0.1877551  0.1877551         nan 0.1877551  0.1877551\n",
      "        nan        nan 0.2122449         nan 0.20408163 0.17142857\n",
      " 0.17142857 0.16734694 0.17142857 0.17142857        nan        nan\n",
      "        nan        nan        nan 0.1877551  0.1877551         nan\n",
      " 0.1877551  0.1877551         nan        nan 0.2122449         nan\n",
      " 0.20408163 0.17142857 0.17142857 0.16734694 0.17142857 0.17142857\n",
      "        nan        nan        nan        nan        nan 0.18367347\n",
      " 0.18367347        nan 0.18367347 0.17959184        nan        nan\n",
      "        nan        nan 0.20408163 0.17142857 0.17142857        nan\n",
      " 0.17142857 0.17142857        nan        nan        nan        nan\n",
      "        nan 0.1877551  0.1877551         nan 0.1877551  0.1877551\n",
      "        nan        nan 0.2               nan 0.20408163 0.17142857\n",
      " 0.17142857 0.15510204 0.17142857 0.17142857        nan        nan\n",
      "        nan        nan        nan 0.1877551  0.1877551         nan\n",
      " 0.1877551  0.1877551         nan        nan 0.2               nan\n",
      " 0.20408163 0.15102041 0.15102041 0.15510204 0.15102041 0.15102041\n",
      "        nan        nan        nan        nan        nan 0.18367347\n",
      " 0.18367347        nan 0.18367347 0.17959184        nan        nan\n",
      "        nan        nan 0.20408163 0.17142857 0.17142857        nan\n",
      " 0.17142857 0.17142857        nan        nan        nan        nan\n",
      "        nan 0.1877551  0.1877551         nan 0.1877551  0.1877551\n",
      "        nan        nan 0.1877551         nan 0.17142857 0.1877551\n",
      " 0.1877551  0.17959184 0.1877551  0.1877551         nan        nan\n",
      "        nan        nan        nan 0.1877551  0.1877551         nan\n",
      " 0.1877551  0.1877551         nan        nan 0.1877551         nan\n",
      " 0.17142857 0.1877551  0.1877551  0.17959184 0.1877551  0.1877551\n",
      "        nan        nan        nan        nan        nan 0.18367347\n",
      " 0.18367347        nan 0.18367347 0.17959184        nan        nan\n",
      "        nan        nan 0.17142857 0.1877551  0.1877551         nan\n",
      " 0.1877551  0.1877551         nan        nan        nan        nan\n",
      "        nan 0.1877551  0.1877551         nan 0.1877551  0.1877551\n",
      "        nan        nan 0.19183673        nan 0.18367347 0.1877551\n",
      " 0.1877551  0.18367347 0.1877551  0.1877551         nan        nan\n",
      "        nan        nan        nan 0.1877551  0.1877551         nan\n",
      " 0.1877551  0.1877551         nan        nan 0.19183673        nan\n",
      " 0.18367347 0.18367347 0.18367347 0.18367347 0.18367347 0.18367347\n",
      "        nan        nan        nan        nan        nan 0.18367347\n",
      " 0.18367347        nan 0.18367347 0.17959184        nan        nan\n",
      "        nan        nan 0.18367347 0.1877551  0.1877551         nan\n",
      " 0.1877551  0.1877551         nan        nan        nan        nan\n",
      "        nan 0.1877551  0.1877551         nan 0.1877551  0.1877551\n",
      "        nan        nan 0.1877551         nan 0.17959184 0.18367347\n",
      " 0.18367347 0.1755102  0.18367347 0.18367347        nan        nan\n",
      "        nan        nan        nan 0.1877551  0.1877551         nan\n",
      " 0.1877551  0.1877551         nan        nan 0.1877551         nan\n",
      " 0.17959184 0.18367347 0.18367347 0.1755102  0.18367347 0.18367347\n",
      "        nan        nan        nan        nan        nan 0.18367347\n",
      " 0.18367347        nan 0.18367347 0.17959184        nan        nan\n",
      "        nan        nan 0.17959184 0.18367347 0.18367347        nan\n",
      " 0.18367347 0.18367347        nan        nan        nan        nan\n",
      "        nan 0.1877551  0.1877551         nan 0.1877551  0.1877551\n",
      "        nan        nan 0.18367347        nan 0.18367347 0.1877551\n",
      " 0.1877551  0.17959184 0.1877551  0.1877551         nan        nan\n",
      "        nan        nan        nan 0.1877551  0.1877551         nan\n",
      " 0.1877551  0.1877551         nan        nan 0.18367347        nan\n",
      " 0.17959184 0.18367347 0.18367347 0.17959184 0.18367347 0.17959184\n",
      "        nan        nan        nan        nan        nan 0.18367347\n",
      " 0.18367347        nan 0.18367347 0.17959184        nan        nan\n",
      "        nan        nan 0.18367347 0.1877551  0.1877551         nan\n",
      " 0.1877551  0.1877551         nan        nan        nan        nan\n",
      "        nan 0.1877551  0.1877551         nan 0.1877551  0.1877551 ]\n",
      "  warnings.warn(\n",
      "/home/jhpark/.local/lib/python3.8/site-packages/sklearn/model_selection/_search.py:918: UserWarning: One or more of the train scores are non-finite: [       nan        nan 0.2122449         nan 0.21020408 0.22244898\n",
      " 0.22244898 0.23469388 0.22244898 0.22244898        nan        nan\n",
      "        nan        nan        nan 0.29183673 0.29183673        nan\n",
      " 0.29183673 0.29183673        nan        nan 0.2122449         nan\n",
      " 0.21020408 0.22244898 0.22244898 0.23469388 0.22244898 0.22244898\n",
      "        nan        nan        nan        nan        nan 0.2877551\n",
      " 0.2877551         nan 0.2877551  0.2877551         nan        nan\n",
      "        nan        nan 0.21020408 0.22244898 0.22244898        nan\n",
      " 0.22244898 0.22244898        nan        nan        nan        nan\n",
      "        nan 0.29183673 0.29183673        nan 0.29183673 0.29183673\n",
      "        nan        nan 0.2122449         nan 0.21020408 0.22142857\n",
      " 0.22142857 0.24183673 0.22142857 0.22142857        nan        nan\n",
      "        nan        nan        nan 0.29183673 0.29183673        nan\n",
      " 0.29183673 0.29183673        nan        nan 0.2122449         nan\n",
      " 0.21020408 0.22142857 0.22142857 0.24183673 0.22142857 0.22142857\n",
      "        nan        nan        nan        nan        nan 0.2877551\n",
      " 0.2877551         nan 0.2877551  0.2877551         nan        nan\n",
      "        nan        nan 0.21020408 0.22142857 0.22142857        nan\n",
      " 0.22142857 0.22142857        nan        nan        nan        nan\n",
      "        nan 0.29183673 0.29183673        nan 0.29183673 0.29183673\n",
      "        nan        nan 0.23877551        nan 0.21428571 0.26530612\n",
      " 0.26530612 0.27244898 0.26530612 0.26530612        nan        nan\n",
      "        nan        nan        nan 0.29183673 0.29183673        nan\n",
      " 0.29183673 0.29183673        nan        nan 0.23877551        nan\n",
      " 0.21428571 0.25918367 0.25918367 0.27244898 0.25918367 0.25918367\n",
      "        nan        nan        nan        nan        nan 0.2877551\n",
      " 0.2877551         nan 0.2877551  0.2877551         nan        nan\n",
      "        nan        nan 0.21428571 0.26530612 0.26530612        nan\n",
      " 0.26530612 0.26530612        nan        nan        nan        nan\n",
      "        nan 0.29183673 0.29183673        nan 0.29183673 0.29183673\n",
      "        nan        nan 0.2744898         nan 0.22244898 0.28163265\n",
      " 0.28163265 0.27857143 0.28061224 0.28061224        nan        nan\n",
      "        nan        nan        nan 0.29183673 0.29183673        nan\n",
      " 0.29183673 0.29183673        nan        nan 0.2744898         nan\n",
      " 0.22244898 0.28163265 0.28163265 0.27857143 0.28163265 0.28163265\n",
      "        nan        nan        nan        nan        nan 0.2877551\n",
      " 0.2877551         nan 0.2877551  0.2877551         nan        nan\n",
      "        nan        nan 0.22244898 0.28163265 0.28163265        nan\n",
      " 0.28061224 0.28061224        nan        nan        nan        nan\n",
      "        nan 0.29183673 0.29183673        nan 0.29183673 0.29183673\n",
      "        nan        nan 0.27755102        nan 0.28469388 0.29081633\n",
      " 0.29081633 0.28979592 0.29081633 0.29081633        nan        nan\n",
      "        nan        nan        nan 0.29183673 0.29183673        nan\n",
      " 0.29183673 0.29183673        nan        nan 0.27755102        nan\n",
      " 0.2755102  0.28673469 0.28673469 0.28979592 0.28673469 0.28673469\n",
      "        nan        nan        nan        nan        nan 0.2877551\n",
      " 0.2877551         nan 0.2877551  0.2877551         nan        nan\n",
      "        nan        nan 0.28469388 0.29081633 0.29081633        nan\n",
      " 0.29081633 0.29081633        nan        nan        nan        nan\n",
      "        nan 0.29183673 0.29183673        nan 0.29183673 0.29183673\n",
      "        nan        nan 0.28877551        nan 0.29081633 0.28979592\n",
      " 0.28979592 0.2877551  0.28979592 0.28979592        nan        nan\n",
      "        nan        nan        nan 0.29183673 0.29183673        nan\n",
      " 0.29183673 0.29183673        nan        nan 0.28877551        nan\n",
      " 0.28673469 0.28673469 0.28673469 0.2877551  0.28673469 0.28673469\n",
      "        nan        nan        nan        nan        nan 0.2877551\n",
      " 0.2877551         nan 0.2877551  0.2877551         nan        nan\n",
      "        nan        nan 0.29081633 0.28979592 0.28979592        nan\n",
      " 0.28979592 0.28979592        nan        nan        nan        nan\n",
      "        nan 0.29183673 0.29183673        nan 0.29183673 0.29183673\n",
      "        nan        nan 0.28673469        nan 0.29183673 0.29183673\n",
      " 0.29183673 0.2877551  0.29183673 0.29183673        nan        nan\n",
      "        nan        nan        nan 0.29183673 0.29183673        nan\n",
      " 0.29183673 0.29183673        nan        nan 0.28673469        nan\n",
      " 0.2877551  0.28673469 0.28673469 0.2877551  0.28673469 0.2877551\n",
      "        nan        nan        nan        nan        nan 0.2877551\n",
      " 0.2877551         nan 0.2877551  0.2877551         nan        nan\n",
      "        nan        nan 0.29183673 0.29183673 0.29183673        nan\n",
      " 0.29183673 0.29183673        nan        nan        nan        nan\n",
      "        nan 0.29183673 0.29183673        nan 0.29183673 0.29183673]\n",
      "  warnings.warn(\n"
     ]
    }
   ],
   "source": [
    "# fit the model\n",
    "log_model_cv.fit(X_train, y_train)\n",
    "print(\"best hyper parameters\", log_model_cv.best_params_)\n",
    "log_y_pred = log_model_cv.predict(X_test)"
   ]
  },
  {
   "cell_type": "code",
   "execution_count": 18,
   "metadata": {},
   "outputs": [
    {
     "name": "stdout",
     "output_type": "stream",
     "text": [
      "Accuracy: 0.17142857142857143\n",
      "F1 score micro: 0.17142857142857143\n",
      "\n",
      "classification report:\n",
      "               precision    recall  f1-score   support\n",
      "\n",
      "         1.0       0.17      1.00      0.29        18\n",
      "         2.0       0.00      0.00      0.00        22\n",
      "         3.0       0.00      0.00      0.00        23\n",
      "         4.0       0.00      0.00      0.00        24\n",
      "         5.0       0.00      0.00      0.00        18\n",
      "\n",
      "    accuracy                           0.17       105\n",
      "   macro avg       0.03      0.20      0.06       105\n",
      "weighted avg       0.03      0.17      0.05       105\n",
      "\n"
     ]
    },
    {
     "name": "stderr",
     "output_type": "stream",
     "text": [
      "/home/jhpark/.local/lib/python3.8/site-packages/sklearn/metrics/_classification.py:1245: UndefinedMetricWarning: Precision and F-score are ill-defined and being set to 0.0 in labels with no predicted samples. Use `zero_division` parameter to control this behavior.\n",
      "  _warn_prf(average, modifier, msg_start, len(result))\n",
      "/home/jhpark/.local/lib/python3.8/site-packages/sklearn/metrics/_classification.py:1245: UndefinedMetricWarning: Precision and F-score are ill-defined and being set to 0.0 in labels with no predicted samples. Use `zero_division` parameter to control this behavior.\n",
      "  _warn_prf(average, modifier, msg_start, len(result))\n",
      "/home/jhpark/.local/lib/python3.8/site-packages/sklearn/metrics/_classification.py:1245: UndefinedMetricWarning: Precision and F-score are ill-defined and being set to 0.0 in labels with no predicted samples. Use `zero_division` parameter to control this behavior.\n",
      "  _warn_prf(average, modifier, msg_start, len(result))\n"
     ]
    }
   ],
   "source": [
    "# accuracy \n",
    "print(\"Accuracy:\", metrics.accuracy_score(y_test, log_y_pred))\n",
    "# f1 score \n",
    "print(\"F1 score micro:\", f1_score(y_test, log_y_pred, average='micro'))\n",
    "\n",
    "print(\"\\nclassification report:\\n\", classification_report(y_test, log_y_pred))"
   ]
  },
  {
   "cell_type": "code",
   "execution_count": 19,
   "metadata": {},
   "outputs": [
    {
     "name": "stdout",
     "output_type": "stream",
     "text": [
      "[learning_curve] Training set sizes: [  1  23  45  66  88 109 131 152 174 196]\n"
     ]
    },
    {
     "name": "stderr",
     "output_type": "stream",
     "text": [
      "[Parallel(n_jobs=-1)]: Using backend LokyBackend with 4 concurrent workers.\n",
      "[Parallel(n_jobs=-1)]: Done  25 out of  50 | elapsed:    0.2s remaining:    0.2s\n",
      "[Parallel(n_jobs=-1)]: Done  50 out of  50 | elapsed:    0.3s finished\n"
     ]
    },
    {
     "data": {
      "image/png": "[encoded data removed]",
      "text/plain": [
       "<Figure size 432x288 with 1 Axes>"
      ]
     },
     "metadata": {
      "needs_background": "light"
     },
     "output_type": "display_data"
    }
   ],
   "source": [
    "# ------ HERE ------\n",
    "\n",
    "# 여기만 바꾸면 된다. \n",
    "plot_model = LogisticRegression(C=0.0001, multi_class='auto', penalty='l1', solver='liblinear')\n",
    "\n",
    "\n",
    "train_sizes, train_scores, val_scores = learning_curve(plot_model, \n",
    "                                                       X_train, \n",
    "                                                       y_train, \n",
    "                                                       cv=5, \n",
    "                                                       scoring='accuracy', \n",
    "                                                       n_jobs=-1, # 이거 바꾸고 싶으면 바꾸고  \n",
    "                                                       train_sizes=np.linspace(0.01, 1, 10), \n",
    "                                                       verbose=2)\n",
    "# 여기만 바꾸면 된다. \n",
    "\n",
    "\n",
    "train_mean = np.mean(train_scores, axis = 1)\n",
    "train_std = np.std(train_scores, axis=1)\n",
    "val_mean = np.mean(val_scores, axis=1)\n",
    "val_std = np.std(val_scores, axis=1)\n",
    "\n",
    "plt.plot(train_sizes, train_mean, label='Training score')\n",
    "plt.plot(train_sizes, val_mean, label='Cross-validation score')\n",
    "plt.title('Learning curve')\n",
    "plt.xlabel('Training Size')\n",
    "plt.ylabel('Accuracy score')\n",
    "plt.legend(loc='best')\n",
    "plt.show()"
   ]
  },
  {
   "cell_type": "markdown",
   "metadata": {},
   "source": [
    "# KNN"
   ]
  },
  {
   "cell_type": "code",
   "execution_count": 20,
   "metadata": {},
   "outputs": [],
   "source": [
    "knn_hyper_params = [ \n",
    "                        {\n",
    "                        'weights' : ['uniform', 'distance'],\n",
    "                        'algorithm' : ['auto', 'ball_tree', 'kd_tree', 'brute'],\n",
    "                        'leaf_size' : np.linspace(2, 100, 10, dtype=int)\n",
    "                        }\n",
    "                    ]\n",
    "\n",
    "# specify model\n",
    "\n",
    "# THIS SECTION SHOULD BE CHANGED.\n",
    "# n_neighbors  SHOULD BE MODIFIED TO ANOTHER VALUE DEPENDING ON THE TARGET VALUE.\n",
    "knn_model = KNeighborsClassifier(n_neighbors=len(y_t.unique()))\n",
    "\n",
    "# set up GridSearchCV()\n",
    "knn_model_cv = GridSearchCV(estimator = knn_model, \n",
    "                            param_grid = knn_hyper_params, \n",
    "                            scoring= 'accuracy', \n",
    "                            cv = folds, \n",
    "                            verbose = 2,\n",
    "                            return_train_score=True,\n",
    "                            n_jobs=-1)      "
   ]
  },
  {
   "cell_type": "code",
   "execution_count": 21,
   "metadata": {},
   "outputs": [
    {
     "name": "stdout",
     "output_type": "stream",
     "text": [
      "Fitting 5 folds for each of 80 candidates, totalling 400 fits\n",
      "best hyper parameters {'algorithm': 'ball_tree', 'leaf_size': 56, 'weights': 'uniform'}\n"
     ]
    }
   ],
   "source": [
    "# fit the model\n",
    "knn_model_cv.fit(X_train, y_train)\n",
    "print(\"best hyper parameters\", knn_model_cv.best_params_)\n",
    "knn_y_pred = knn_model_cv.predict(X_test)"
   ]
  },
  {
   "cell_type": "code",
   "execution_count": 23,
   "metadata": {},
   "outputs": [
    {
     "name": "stdout",
     "output_type": "stream",
     "text": [
      "Accuracy: 0.19047619047619047\n",
      "F1 score micro: 0.19047619047619047\n",
      "\n",
      "classification report:\n",
      "               precision    recall  f1-score   support\n",
      "\n",
      "         1.0       0.27      0.44      0.33        18\n",
      "         2.0       0.20      0.27      0.23        22\n",
      "         3.0       0.20      0.17      0.19        23\n",
      "         4.0       0.17      0.08      0.11        24\n",
      "         5.0       0.00      0.00      0.00        18\n",
      "\n",
      "    accuracy                           0.19       105\n",
      "   macro avg       0.17      0.19      0.17       105\n",
      "weighted avg       0.17      0.19      0.17       105\n",
      "\n"
     ]
    }
   ],
   "source": [
    "# accuracy \n",
    "print(\"Accuracy:\", metrics.accuracy_score(y_test, knn_y_pred))\n",
    "# f1 score \n",
    "print(\"F1 score micro:\", f1_score(y_test, knn_y_pred, average='micro'))\n",
    "\n",
    "print(\"\\nclassification report:\\n\", classification_report(y_test, knn_y_pred))"
   ]
  },
  {
   "cell_type": "code",
   "execution_count": 24,
   "metadata": {},
   "outputs": [
    {
     "name": "stdout",
     "output_type": "stream",
     "text": [
      "[learning_curve] Training set sizes: [  1  23  45  66  88 109 131 152 174 196]\n"
     ]
    },
    {
     "name": "stderr",
     "output_type": "stream",
     "text": [
      "[Parallel(n_jobs=-1)]: Using backend LokyBackend with 4 concurrent workers.\n",
      "[Parallel(n_jobs=-1)]: Done  25 out of  50 | elapsed:    0.3s remaining:    0.3s\n",
      "[Parallel(n_jobs=-1)]: Done  50 out of  50 | elapsed:    0.4s finished\n"
     ]
    },
    {
     "data": {
      "image/png": "[encoded data removed]",
      "text/plain": [
       "<Figure size 432x288 with 1 Axes>"
      ]
     },
     "metadata": {
      "needs_background": "light"
     },
     "output_type": "display_data"
    }
   ],
   "source": [
    "# ------ HERE ------\n",
    "\n",
    "# plug in suitable hyper-parameters\n",
    "\n",
    "\n",
    "# 여기만 바꾸면 된다. \n",
    "plot_model = KNeighborsClassifier(algorithm='ball_tree', leaf_size=56, weights='uniform')\n",
    "\n",
    "\n",
    "train_sizes, train_scores, val_scores = learning_curve(plot_model, \n",
    "                                                       X_train, \n",
    "                                                       y_train, \n",
    "                                                       cv=5, \n",
    "                                                       scoring='accuracy', \n",
    "                                                       n_jobs=-1, # 이거 바꾸고 싶으면 바꾸고  \n",
    "                                                       train_sizes=np.linspace(0.01, 1, 10), \n",
    "                                                       verbose=2)\n",
    "# 여기만 바꾸면 된다. \n",
    "\n",
    "\n",
    "train_mean = np.mean(train_scores, axis = 1)\n",
    "train_std = np.std(train_scores, axis=1)\n",
    "val_mean = np.mean(val_scores, axis=1)\n",
    "val_std = np.std(val_scores, axis=1)\n",
    "\n",
    "plt.plot(train_sizes, train_mean, label='Training score')\n",
    "plt.plot(train_sizes, val_mean, label='Cross-validation score')\n",
    "plt.title('Learning curve')\n",
    "plt.xlabel('Training Size')\n",
    "plt.ylabel('Accuracy score')\n",
    "plt.legend(loc='best')\n",
    "plt.show()"
   ]
  },
  {
   "cell_type": "markdown",
   "metadata": {},
   "source": [
    "# Random Forest"
   ]
  },
  {
   "cell_type": "code",
   "execution_count": 25,
   "metadata": {},
   "outputs": [],
   "source": [
    "rf_hyper_params = [ \n",
    "                        {\n",
    "                            'n_estimators' : [int(x) for x in np.linspace(5, 50, 5)],\n",
    "                            'criterion' : ['gini', 'entropy'],\n",
    "                            'max_depth' : [int(x) for x in np.linspace(2, 50, 5)],\n",
    "                            'min_samples_split' : [int(x) for x in np.linspace(2, 50, 5)],\n",
    "                            'min_samples_leaf' : [int(x) for x in np.linspace(2, 50, 5)],\n",
    "                            'max_features' : ['auto', 'sqrt', 'log2'],\n",
    "                            'bootstrap' : [True, False]\n",
    "\n",
    "                        }\n",
    "                    ]\n",
    "\n",
    "# specify model\n",
    "\n",
    "# THIS SECTION SHOULD BE CHANGED.\n",
    "# n_neighbors  SHOULD BE MODIFIED TO ANOTHER VALUE DEPENDING ON THE TARGET VALUE.\n",
    "rf_model = RandomForestClassifier(random_state=1)\n",
    "\n",
    "# set up GridSearchCV()\n",
    "rf_model_cv = GridSearchCV(estimator = rf_model, \n",
    "                            param_grid = rf_hyper_params, \n",
    "                            scoring= 'accuracy', \n",
    "                            cv = folds, \n",
    "                            verbose = 2,\n",
    "                            return_train_score=True,\n",
    "                            n_jobs=-1)      "
   ]
  },
  {
   "cell_type": "code",
   "execution_count": 26,
   "metadata": {},
   "outputs": [
    {
     "name": "stdout",
     "output_type": "stream",
     "text": [
      "Fitting 5 folds for each of 7500 candidates, totalling 37500 fits\n",
      "best hyper parameters {'bootstrap': True, 'criterion': 'entropy', 'max_depth': 14, 'max_features': 'auto', 'min_samples_leaf': 2, 'min_samples_split': 2, 'n_estimators': 50}\n"
     ]
    }
   ],
   "source": [
    "# fit the model\n",
    "rf_model_cv.fit(X_train, y_train)\n",
    "print(\"best hyper parameters\", rf_model_cv.best_params_)\n",
    "rf_y_pred = rf_model_cv.predict(X_test)"
   ]
  },
  {
   "cell_type": "code",
   "execution_count": 27,
   "metadata": {},
   "outputs": [
    {
     "name": "stdout",
     "output_type": "stream",
     "text": [
      "Accuracy: 0.23809523809523808\n",
      "F1 score micro: 0.23809523809523808\n",
      "\n",
      "classification report:\n",
      "               precision    recall  f1-score   support\n",
      "\n",
      "         1.0       0.35      0.33      0.34        18\n",
      "         2.0       0.24      0.18      0.21        22\n",
      "         3.0       0.30      0.13      0.18        23\n",
      "         4.0       0.21      0.21      0.21        24\n",
      "         5.0       0.19      0.39      0.25        18\n",
      "\n",
      "    accuracy                           0.24       105\n",
      "   macro avg       0.26      0.25      0.24       105\n",
      "weighted avg       0.26      0.24      0.23       105\n",
      "\n"
     ]
    }
   ],
   "source": [
    "# accuracy \n",
    "print(\"Accuracy:\", metrics.accuracy_score(y_test, rf_y_pred))\n",
    "# f1 score \n",
    "print(\"F1 score micro:\", f1_score(y_test, rf_y_pred, average='micro'))\n",
    "\n",
    "print(\"\\nclassification report:\\n\", classification_report(y_test, rf_y_pred))"
   ]
  },
  {
   "cell_type": "code",
   "execution_count": 28,
   "metadata": {},
   "outputs": [
    {
     "name": "stdout",
     "output_type": "stream",
     "text": [
      "[learning_curve] Training set sizes: [  1  23  45  66  88 109 131 152 174 196]\n"
     ]
    },
    {
     "name": "stderr",
     "output_type": "stream",
     "text": [
      "[Parallel(n_jobs=-1)]: Using backend LokyBackend with 4 concurrent workers.\n",
      "[Parallel(n_jobs=-1)]: Done  25 out of  50 | elapsed:    2.6s remaining:    2.6s\n",
      "[Parallel(n_jobs=-1)]: Done  50 out of  50 | elapsed:    3.8s finished\n"
     ]
    },
    {
     "data": {
      "image/png": "[encoded data removed]",
      "text/plain": [
       "<Figure size 432x288 with 1 Axes>"
      ]
     },
     "metadata": {
      "needs_background": "light"
     },
     "output_type": "display_data"
    }
   ],
   "source": [
    "# ------ HERE ------\n",
    "\n",
    "# plug in suitable hyper-parameters\n",
    "\n",
    "\n",
    "# 여기만 바꾸면 된다. \n",
    "plot_model = RandomForestClassifier(bootstrap=True, criterion='entropy', max_depth=14, max_features='auto', min_samples_leaf=2, min_samples_split=2, n_estimators=50)\n",
    "\n",
    "train_sizes, train_scores, val_scores = learning_curve(plot_model, \n",
    "                                                       X_train, \n",
    "                                                       y_train, \n",
    "                                                       cv=5, \n",
    "                                                       scoring='accuracy', \n",
    "                                                       n_jobs=-1, # 이거 바꾸고 싶으면 바꾸고  \n",
    "                                                       train_sizes=np.linspace(0.01, 1, 10), \n",
    "                                                       verbose=2)\n",
    "# 여기만 바꾸면 된다. \n",
    "\n",
    "\n",
    "train_mean = np.mean(train_scores, axis = 1)\n",
    "train_std = np.std(train_scores, axis=1)\n",
    "val_mean = np.mean(val_scores, axis=1)\n",
    "val_std = np.std(val_scores, axis=1)\n",
    "\n",
    "plt.plot(train_sizes, train_mean, label='Training score')\n",
    "plt.plot(train_sizes, val_mean, label='Cross-validation score')\n",
    "plt.title('Learning curve')\n",
    "plt.xlabel('Training Size')\n",
    "plt.ylabel('Accuracy score')\n",
    "plt.legend(loc='best')\n",
    "plt.show()"
   ]
  },
  {
   "cell_type": "markdown",
   "metadata": {},
   "source": [
    "# Sampled Learning Curve"
   ]
  },
  {
   "cell_type": "code",
   "execution_count": 29,
   "metadata": {},
   "outputs": [
    {
     "name": "stdout",
     "output_type": "stream",
     "text": [
      "[learning_curve] Training set sizes: [  1  23  45  66  88 109 131 152 174 196]\n"
     ]
    },
    {
     "name": "stderr",
     "output_type": "stream",
     "text": [
      "[Parallel(n_jobs=-1)]: Using backend LokyBackend with 4 concurrent workers.\n",
      "[Parallel(n_jobs=-1)]: Done  25 out of  50 | elapsed:    0.2s remaining:    0.2s\n",
      "[Parallel(n_jobs=-1)]: Done  50 out of  50 | elapsed:    0.3s finished\n",
      "[Parallel(n_jobs=-1)]: Using backend LokyBackend with 4 concurrent workers.\n",
      "[Parallel(n_jobs=-1)]: Done  25 out of  50 | elapsed:    0.1s remaining:    0.1s\n"
     ]
    },
    {
     "name": "stdout",
     "output_type": "stream",
     "text": [
      "[learning_curve] Training set sizes: [  1  23  45  66  88 109 131 152 174 196]\n"
     ]
    },
    {
     "name": "stderr",
     "output_type": "stream",
     "text": [
      "[Parallel(n_jobs=-1)]: Done  50 out of  50 | elapsed:    0.2s finished\n",
      "[Parallel(n_jobs=-1)]: Using backend LokyBackend with 4 concurrent workers.\n"
     ]
    },
    {
     "name": "stdout",
     "output_type": "stream",
     "text": [
      "[learning_curve] Training set sizes: [  1  23  45  66  88 109 131 152 174 196]\n"
     ]
    },
    {
     "name": "stderr",
     "output_type": "stream",
     "text": [
      "[Parallel(n_jobs=-1)]: Done  50 out of  50 | elapsed:    0.4s finished\n",
      "[Parallel(n_jobs=-1)]: Using backend LokyBackend with 4 concurrent workers.\n"
     ]
    },
    {
     "name": "stdout",
     "output_type": "stream",
     "text": [
      "[learning_curve] Training set sizes: [  1  23  45  66  88 109 131 152 174 196]\n"
     ]
    },
    {
     "name": "stderr",
     "output_type": "stream",
     "text": [
      "[Parallel(n_jobs=-1)]: Done  25 out of  50 | elapsed:    1.4s remaining:    1.4s\n",
      "[Parallel(n_jobs=-1)]: Done  50 out of  50 | elapsed:    2.7s finished\n"
     ]
    },
    {
     "data": {
      "text/plain": [
       "<matplotlib.legend.Legend at 0x7f7741530250>"
      ]
     },
     "execution_count": 29,
     "metadata": {},
     "output_type": "execute_result"
    },
    {
     "data": {
      "image/png": "[encoded data removed]",
      "text/plain": [
       "<Figure size 2016x504 with 4 Axes>"
      ]
     },
     "metadata": {
      "needs_background": "light"
     },
     "output_type": "display_data"
    }
   ],
   "source": [
    "fig, (ax1, ax2, ax3, ax4) = plt.subplots(1, 4, figsize=(28, 7))\n",
    "\n",
    "# SVM\n",
    "plot_model = svm.SVC(kernel='rbf', C=10.0, gamma=0.1)\n",
    "\n",
    "train_sizes, train_scores, val_scores = learning_curve(plot_model, \n",
    "                                                       X_train, \n",
    "                                                       y_train, \n",
    "                                                       cv=5, \n",
    "                                                       scoring='accuracy', \n",
    "                                                       n_jobs=-1, # 이거 바꾸고 싶으면 바꾸고  \n",
    "                                                       train_sizes=np.linspace(0.01, 1, 10), \n",
    "                                                       verbose=2)\n",
    "\n",
    "train_mean = np.mean(train_scores, axis = 1)\n",
    "train_std = np.std(train_scores, axis=1)\n",
    "val_mean = np.mean(val_scores, axis=1)\n",
    "val_std = np.std(val_scores, axis=1)\n",
    "\n",
    "ax1.plot(train_sizes, train_mean, label='Training Accuracy')\n",
    "ax1.plot(train_sizes, val_mean, label='Validation Accuracy')\n",
    "ax1.set_title('SVM Learning curve')\n",
    "ax1.set_xlabel('Training Size')\n",
    "ax1.set_ylabel('Accuracy')\n",
    "\n",
    "# Logistic Regression\n",
    "plot_model = LogisticRegression(C=0.0001, multi_class='auto', penalty='l1', solver='liblinear')\n",
    "\n",
    "train_sizes, train_scores, val_scores = learning_curve(plot_model, \n",
    "                                                       X_train, \n",
    "                                                       y_train, \n",
    "                                                       cv=5, \n",
    "                                                       scoring='accuracy', \n",
    "                                                       n_jobs=-1, # 이거 바꾸고 싶으면 바꾸고  \n",
    "                                                       train_sizes=np.linspace(0.01, 1, 10), \n",
    "                                                       verbose=2)\n",
    "\n",
    "train_mean = np.mean(train_scores, axis = 1)\n",
    "train_std = np.std(train_scores, axis=1)\n",
    "val_mean = np.mean(val_scores, axis=1)\n",
    "val_std = np.std(val_scores, axis=1)\n",
    "\n",
    "ax2.plot(train_sizes, train_mean, label='Training Accuracy')\n",
    "ax2.plot(train_sizes, val_mean, label='Validation Accuracy')\n",
    "ax2.set_title('Logistic Regression Learning curve')\n",
    "ax2.set_xlabel('Training Size')\n",
    "ax2.set_ylabel('Accuracy')\n",
    "\n",
    "\n",
    "# KNN\n",
    "plot_model = KNeighborsClassifier(algorithm='ball_tree', leaf_size=56, weights='uniform')\n",
    "\n",
    "train_sizes, train_scores, val_scores = learning_curve(plot_model, \n",
    "                                                       X_train, \n",
    "                                                       y_train, \n",
    "                                                       cv=5, \n",
    "                                                       scoring='accuracy', \n",
    "                                                       n_jobs=-1, # 이거 바꾸고 싶으면 바꾸고  \n",
    "                                                       train_sizes=np.linspace(0.01, 1, 10), \n",
    "                                                       verbose=2)\n",
    "\n",
    "train_mean = np.mean(train_scores, axis = 1)\n",
    "train_std = np.std(train_scores, axis=1)\n",
    "val_mean = np.mean(val_scores, axis=1)\n",
    "val_std = np.std(val_scores, axis=1)\n",
    "\n",
    "ax3.plot(train_sizes, train_mean, label='Training Accuracy')\n",
    "ax3.plot(train_sizes, val_mean, label='Validation Accuracy')\n",
    "ax3.set_title('KNN Learning curve')\n",
    "ax3.set_xlabel('Training Size')\n",
    "ax3.set_ylabel('Accuracy')\n",
    "\n",
    "# Random Forest\n",
    "plot_model = RandomForestClassifier(bootstrap=True, criterion='entropy', max_depth=14, max_features='auto', min_samples_leaf=2, min_samples_split=2, n_estimators=50)\n",
    "\n",
    "train_sizes, train_scores, val_scores = learning_curve(plot_model, \n",
    "                                                       X_train, \n",
    "                                                       y_train, \n",
    "                                                       cv=5, \n",
    "                                                       scoring='accuracy', \n",
    "                                                       n_jobs=-1, # 이거 바꾸고 싶으면 바꾸고  \n",
    "                                                       train_sizes=np.linspace(0.01, 1, 10), \n",
    "                                                       verbose=2)\n",
    "\n",
    "train_mean = np.mean(train_scores, axis = 1)\n",
    "train_std = np.std(train_scores, axis=1)\n",
    "val_mean = np.mean(val_scores, axis=1)\n",
    "val_std = np.std(val_scores, axis=1)\n",
    "\n",
    "ax4.plot(train_sizes, train_mean, label='Training Accuracy')\n",
    "ax4.plot(train_sizes, val_mean, label='Validation Accuracy')\n",
    "ax4.set_title('Random Forest Learning curve')\n",
    "ax4.set_xlabel('Training Size')\n",
    "ax4.set_ylabel('Accuracy')\n",
    "ax4.legend(loc='upper center', bbox_to_anchor=(-1.3, -0.1),\n",
    "          fancybox=True, shadow=True, ncol=2)"
   ]
  },
  {
   "cell_type": "code",
   "execution_count": null,
   "metadata": {},
   "outputs": [],
   "source": []
  }
 ],
 "metadata": {
  "kernelspec": {
   "display_name": "Python 3",
   "language": "python",
   "name": "python3"
  },
  "language_info": {
   "codemirror_mode": {
    "name": "ipython",
    "version": 3
   },
   "file_extension": ".py",
   "mimetype": "text/x-python",
   "name": "python",
   "nbconvert_exporter": "python",
   "pygments_lexer": "ipython3",
   "version": "3.8.5"
  }
 },
 "nbformat": 4,
 "nbformat_minor": 4
}
