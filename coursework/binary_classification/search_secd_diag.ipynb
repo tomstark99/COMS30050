{
 "cells": [
  {
   "cell_type": "code",
   "execution_count": 1,
   "metadata": {},
   "outputs": [],
   "source": [
    "from sklearn import datasets\n",
    "\n",
    "# How are we going to use evaluate the performance? \n",
    "# 1. accuracy\n",
    "from sklearn import metrics\n",
    "# 2. f1 score \n",
    "from sklearn.metrics import f1_score\n",
    "\n",
    "# Machine learning models \n",
    "\n",
    "# Linear Regression \n",
    "# url : https://scikit-learn.org/stable/modules/generated/sklearn.linear_model.LinearRegression.html\n",
    "from sklearn.linear_model import LinearRegression\n",
    "\n",
    "# SVM\n",
    "# url: https://scikit-learn.org/stable/modules/generated/sklearn.svm.SVC.html\n",
    "from sklearn import svm\n",
    "\n",
    "# KNN \n",
    "# url: https://scikit-learn.org/stable/modules/generated/sklearn.neighbors.KNeighborsClassifier.html\n",
    "from sklearn.neighbors import KNeighborsClassifier\n",
    "\n",
    "# Decision Tree\n",
    "# url: https://scikit-learn.org/stable/modules/generated/sklearn.tree.DecisionTreeClassifier.html\n",
    "from sklearn.tree import DecisionTreeClassifier\n",
    "\n",
    "# Random Forest \n",
    "# url: https://scikit-learn.org/stable/modules/generated/sklearn.ensemble.RandomForestClassifier.html\n",
    "from sklearn.ensemble import RandomForestClassifier\n",
    "\n",
    "# Logistic Classifier\n",
    "from sklearn.linear_model import LogisticRegression\n",
    "\n",
    "from sklearn.model_selection import RepeatedStratifiedKFold\n",
    "from sklearn.model_selection import GridSearchCV\n",
    "\n",
    "from sklearn.model_selection import learning_curve, RandomizedSearchCV, GridSearchCV\n",
    "from sklearn.model_selection import train_test_split, KFold\n",
    "from sklearn.datasets import make_classification\n",
    "from sklearn.pipeline import make_pipeline\n",
    "from sklearn.preprocessing import StandardScaler\n",
    "\n",
    "import numpy as np\n",
    "import matplotlib.pyplot as plt\n",
    "\n",
    "# PCA \n",
    "from sklearn.decomposition import PCA \n",
    "\n",
    "# Linear Regression\n",
    "from sklearn.model_selection import train_test_split\n",
    "from sklearn.linear_model import LinearRegression\n",
    "from sklearn.metrics import mean_squared_error, r2_score\n",
    "\n",
    "import pandas as pd\n",
    "import matplotlib.pyplot as plt\n",
    "import numpy as np\n",
    "\n",
    "import seaborn as sns\n",
    "\n",
    "from sklearn.model_selection import learning_curve\n",
    "\n",
    "from sklearn.metrics import classification_report"
   ]
  },
  {
   "cell_type": "markdown",
   "metadata": {},
   "source": [
    "# Preprocessing"
   ]
  },
  {
   "cell_type": "code",
   "execution_count": 2,
   "metadata": {},
   "outputs": [],
   "source": [
    "total_dep_score = pd.read_csv('../data/0&1/total_secd_diag.csv')\n",
    "\n",
    "X_t = total_dep_score.copy()\n",
    "del X_t['secd_diag']\n",
    "\n",
    "y_t = total_dep_score['secd_diag']"
   ]
  },
  {
   "cell_type": "code",
   "execution_count": 3,
   "metadata": {},
   "outputs": [
    {
     "data": {
      "text/plain": [
       "0.0    2721\n",
       "1.0     322\n",
       "Name: secd_diag, dtype: int64"
      ]
     },
     "execution_count": 3,
     "metadata": {},
     "output_type": "execute_result"
    }
   ],
   "source": [
    "y_t.value_counts() "
   ]
  },
  {
   "cell_type": "code",
   "execution_count": 4,
   "metadata": {},
   "outputs": [
    {
     "data": {
      "text/plain": [
       "0.8941833716726915"
      ]
     },
     "execution_count": 4,
     "metadata": {},
     "output_type": "execute_result"
    }
   ],
   "source": [
    "2721 / (2721 + 322)"
   ]
  },
  {
   "cell_type": "code",
   "execution_count": 5,
   "metadata": {},
   "outputs": [
    {
     "name": "stdout",
     "output_type": "stream",
     "text": [
      "      comp_week  comp_wend  text_week  text_wend  tv_week  tv_wend\n",
      "0             2          2          1          1        2        2\n",
      "1             2          1          1          1        2        3\n",
      "2             3          3          3          1        2        2\n",
      "3             1          2          1          1        1        2\n",
      "4             2          3          0          0        2        2\n",
      "...         ...        ...        ...        ...      ...      ...\n",
      "3038          3          3          2          2        2        3\n",
      "3039          2          3          1          1        1        2\n",
      "3040          0          0          0          0        2        0\n",
      "3041          2          3          1          1        1        2\n",
      "3042          1          2          2          2        0        1\n",
      "\n",
      "[3043 rows x 6 columns]\n",
      "0       0.0\n",
      "1       0.0\n",
      "2       0.0\n",
      "3       0.0\n",
      "4       0.0\n",
      "       ... \n",
      "3038    0.0\n",
      "3039    0.0\n",
      "3040    0.0\n",
      "3041    1.0\n",
      "3042    0.0\n",
      "Name: secd_diag, Length: 3043, dtype: float64\n"
     ]
    }
   ],
   "source": [
    "print(X_t)\n",
    "print(y_t)"
   ]
  },
  {
   "cell_type": "code",
   "execution_count": 6,
   "metadata": {},
   "outputs": [],
   "source": [
    "sampled_dep_score = pd.read_csv('../data/0&1/sampled_secd_diag.csv')\n",
    "\n",
    "X_s = sampled_dep_score.copy()\n",
    "del X_s['secd_diag']\n",
    "\n",
    "y_s = sampled_dep_score['secd_diag']"
   ]
  },
  {
   "cell_type": "code",
   "execution_count": 7,
   "metadata": {},
   "outputs": [
    {
     "data": {
      "text/plain": [
       "0.0    322\n",
       "1.0    322\n",
       "Name: secd_diag, dtype: int64"
      ]
     },
     "execution_count": 7,
     "metadata": {},
     "output_type": "execute_result"
    }
   ],
   "source": [
    "y_s.value_counts() "
   ]
  },
  {
   "cell_type": "code",
   "execution_count": 8,
   "metadata": {},
   "outputs": [
    {
     "name": "stdout",
     "output_type": "stream",
     "text": [
      "     comp_week  comp_wend  text_week  text_wend  tv_week  tv_wend\n",
      "0            2          2          3          3        3        3\n",
      "1            2          2          1          1        1        2\n",
      "2            2          3          3          3        3        2\n",
      "3            2          2          1          1        1        3\n",
      "4            2          1          1          1        2        1\n",
      "..         ...        ...        ...        ...      ...      ...\n",
      "639          1          1          1          1        3        3\n",
      "640          1          1          0          1        2        3\n",
      "641          2          2          1          1        2        1\n",
      "642          2          2          3          3        2        2\n",
      "643          2          3          3          3        2        2\n",
      "\n",
      "[644 rows x 6 columns]\n",
      "0      0.0\n",
      "1      1.0\n",
      "2      0.0\n",
      "3      0.0\n",
      "4      0.0\n",
      "      ... \n",
      "639    1.0\n",
      "640    1.0\n",
      "641    1.0\n",
      "642    1.0\n",
      "643    0.0\n",
      "Name: secd_diag, Length: 644, dtype: float64\n"
     ]
    }
   ],
   "source": [
    "print(X_s)\n",
    "print(y_s)"
   ]
  },
  {
   "cell_type": "code",
   "execution_count": 9,
   "metadata": {},
   "outputs": [],
   "source": [
    "folds = KFold(n_splits = 5, shuffle = True, random_state = 1)"
   ]
  },
  {
   "cell_type": "markdown",
   "metadata": {},
   "source": [
    "# 1. total"
   ]
  },
  {
   "cell_type": "code",
   "execution_count": 10,
   "metadata": {},
   "outputs": [],
   "source": [
    "X_train, X_test, y_train, y_test = train_test_split(X_t, y_t, test_size=0.3, random_state=1)  # 70% training and 30% test"
   ]
  },
  {
   "cell_type": "markdown",
   "metadata": {},
   "source": [
    "## SVM"
   ]
  },
  {
   "cell_type": "code",
   "execution_count": 11,
   "metadata": {},
   "outputs": [],
   "source": [
    "svm_hyper_params = [ \n",
    "                        {\n",
    "                        'gamma': np.logspace(-4, -1, 4),\n",
    "                        'C': np.logspace(-3, 1, 5),\n",
    "                        'kernel': ['linear', 'poly', 'rbf', 'sigmoid']\n",
    "                        }\n",
    "                    ]\n",
    "\n",
    "# specify model\n",
    "svm_model = svm.SVC(random_state=1)\n",
    "\n",
    "# set up GridSearchCV()\n",
    "svm_model_cv = GridSearchCV(estimator = svm_model, \n",
    "                            param_grid = svm_hyper_params, \n",
    "                            scoring= 'accuracy', \n",
    "                            cv = folds, \n",
    "                            verbose = 2,\n",
    "                            return_train_score=True,\n",
    "                            n_jobs=2)      "
   ]
  },
  {
   "cell_type": "code",
   "execution_count": 12,
   "metadata": {},
   "outputs": [
    {
     "name": "stdout",
     "output_type": "stream",
     "text": [
      "Fitting 5 folds for each of 80 candidates, totalling 400 fits\n",
      "best hyper parameters {'C': 0.001, 'gamma': 0.0001, 'kernel': 'linear'}\n"
     ]
    }
   ],
   "source": [
    "# fit the model\n",
    "svm_model_cv.fit(X_train, y_train)\n",
    "print(\"best hyper parameters\", svm_model_cv.best_params_)\n",
    "svm_y_pred = svm_model_cv.predict(X_test)"
   ]
  },
  {
   "cell_type": "code",
   "execution_count": 13,
   "metadata": {},
   "outputs": [
    {
     "name": "stdout",
     "output_type": "stream",
     "text": [
      "Accuracy: 0.904709748083242\n",
      "F1 score micro: 0.904709748083242\n",
      "F1 score binary: 0.0\n",
      "\n",
      "classification report:\n",
      "               precision    recall  f1-score   support\n",
      "\n",
      "         0.0       0.90      1.00      0.95       826\n",
      "         1.0       0.00      0.00      0.00        87\n",
      "\n",
      "    accuracy                           0.90       913\n",
      "   macro avg       0.45      0.50      0.47       913\n",
      "weighted avg       0.82      0.90      0.86       913\n",
      "\n"
     ]
    },
    {
     "name": "stderr",
     "output_type": "stream",
     "text": [
      "/home/sungjin/Documents/Programming/python/venv/lib/python3.8/site-packages/sklearn/metrics/_classification.py:1245: UndefinedMetricWarning: Precision and F-score are ill-defined and being set to 0.0 in labels with no predicted samples. Use `zero_division` parameter to control this behavior.\n",
      "  _warn_prf(average, modifier, msg_start, len(result))\n",
      "/home/sungjin/Documents/Programming/python/venv/lib/python3.8/site-packages/sklearn/metrics/_classification.py:1245: UndefinedMetricWarning: Precision and F-score are ill-defined and being set to 0.0 in labels with no predicted samples. Use `zero_division` parameter to control this behavior.\n",
      "  _warn_prf(average, modifier, msg_start, len(result))\n",
      "/home/sungjin/Documents/Programming/python/venv/lib/python3.8/site-packages/sklearn/metrics/_classification.py:1245: UndefinedMetricWarning: Precision and F-score are ill-defined and being set to 0.0 in labels with no predicted samples. Use `zero_division` parameter to control this behavior.\n",
      "  _warn_prf(average, modifier, msg_start, len(result))\n"
     ]
    }
   ],
   "source": [
    "# accuracy \n",
    "print(\"Accuracy:\", metrics.accuracy_score(y_test, svm_y_pred))\n",
    "# f1 score \n",
    "print(\"F1 score micro:\", f1_score(y_test, svm_y_pred, average='micro'))\n",
    "print(\"F1 score binary:\", f1_score(y_test, svm_y_pred, average='binary'))\n",
    "\n",
    "print(\"\\nclassification report:\\n\", classification_report(y_test, svm_y_pred))"
   ]
  },
  {
   "cell_type": "code",
   "execution_count": 14,
   "metadata": {},
   "outputs": [
    {
     "name": "stdout",
     "output_type": "stream",
     "text": [
      "[learning_curve] Training set sizes: [  17  204  391  579  766  954 1141 1329 1516 1704]\n"
     ]
    },
    {
     "name": "stderr",
     "output_type": "stream",
     "text": [
      "[Parallel(n_jobs=-1)]: Using backend LokyBackend with 12 concurrent workers.\n",
      "[Parallel(n_jobs=-1)]: Done  25 out of  50 | elapsed:    0.6s remaining:    0.6s\n",
      "[Parallel(n_jobs=-1)]: Done  50 out of  50 | elapsed:    0.7s finished\n"
     ]
    },
    {
     "data": {
      "image/png": "[encoded data removed]",
      "text/plain": [
       "<Figure size 432x288 with 1 Axes>"
      ]
     },
     "metadata": {
      "needs_background": "light"
     },
     "output_type": "display_data"
    }
   ],
   "source": [
    "# ------ HERE ------\n",
    "\n",
    "# plug in suitable hyper-parameters\n",
    "\n",
    "\n",
    "# 여기만 바꾸면 된다. \n",
    "plot_model = svm.SVC(kernel='linear', C=0.001, gamma=0.0001)\n",
    "\n",
    "\n",
    "train_sizes, train_scores, val_scores = learning_curve(plot_model, \n",
    "                                                       X_train, \n",
    "                                                       y_train, \n",
    "                                                       cv=5, \n",
    "                                                       scoring='accuracy', \n",
    "                                                       n_jobs=-1, # 이거 바꾸고 싶으면 바꾸고  \n",
    "                                                       train_sizes=np.linspace(0.01, 1, 10), \n",
    "                                                       verbose=2)\n",
    "# 여기만 바꾸면 된다. \n",
    "\n",
    "\n",
    "train_mean = np.mean(train_scores, axis = 1)\n",
    "train_std = np.std(train_scores, axis=1)\n",
    "val_mean = np.mean(val_scores, axis=1)\n",
    "val_std = np.std(val_scores, axis=1)\n",
    "\n",
    "plt.plot(train_sizes, train_mean, label='Training score')\n",
    "plt.plot(train_sizes, val_mean, label='Cross-validation score')\n",
    "plt.title('Learning curve')\n",
    "plt.xlabel('Training Size')\n",
    "plt.ylabel('Accuracy score')\n",
    "plt.legend(loc='best')\n",
    "plt.show()"
   ]
  },
  {
   "cell_type": "markdown",
   "metadata": {},
   "source": [
    "## Logistic Regression"
   ]
  },
  {
   "cell_type": "code",
   "execution_count": 15,
   "metadata": {},
   "outputs": [],
   "source": [
    "log_hyper_params = [ \n",
    "                        {\n",
    "                        'C': np.logspace(-4, 2, 7),\n",
    "                        'solver' : ['newton-cg', 'lbfgs', 'liblinear', 'sag', 'saga'],\n",
    "                        'penalty' : ['l1', 'l2', 'elasticnet', 'none'],\n",
    "                        'multi_class' : ['auto', 'ovr', 'multinomial']\n",
    "                        }\n",
    "                    ]\n",
    "\n",
    "# specify model\n",
    "log_model = LogisticRegression(random_state=1)\n",
    "\n",
    "# set up GridSearchCV()\n",
    "log_model_cv = GridSearchCV(estimator = log_model, \n",
    "                            param_grid = log_hyper_params, \n",
    "                            scoring= 'accuracy', \n",
    "                            cv = folds, \n",
    "                            verbose = 2,\n",
    "                            return_train_score=True,\n",
    "                            n_jobs=-1)      "
   ]
  },
  {
   "cell_type": "code",
   "execution_count": 16,
   "metadata": {},
   "outputs": [
    {
     "name": "stdout",
     "output_type": "stream",
     "text": [
      "Fitting 5 folds for each of 420 candidates, totalling 2100 fits\n",
      "best hyper parameters {'C': 0.0001, 'multi_class': 'auto', 'penalty': 'l1', 'solver': 'liblinear'}\n"
     ]
    },
    {
     "name": "stderr",
     "output_type": "stream",
     "text": [
      "/home/sungjin/Documents/Programming/python/venv/lib/python3.8/site-packages/sklearn/model_selection/_search.py:918: UserWarning: One or more of the test scores are non-finite: [       nan        nan 0.88967136        nan 0.88967136 0.88967136\n",
      " 0.88967136 0.88967136 0.88967136 0.88967136        nan        nan\n",
      "        nan        nan        nan 0.88967136 0.88967136        nan\n",
      " 0.88967136 0.88967136        nan        nan 0.88967136        nan\n",
      " 0.88967136 0.88967136 0.88967136 0.88967136 0.88967136 0.88967136\n",
      "        nan        nan        nan        nan        nan 0.88967136\n",
      " 0.88967136        nan 0.88967136 0.88967136        nan        nan\n",
      "        nan        nan 0.88967136 0.88967136 0.88967136        nan\n",
      " 0.88967136 0.88967136        nan        nan        nan        nan\n",
      "        nan 0.88967136 0.88967136        nan 0.88967136 0.88967136\n",
      "        nan        nan 0.88967136        nan 0.88967136 0.88967136\n",
      " 0.88967136 0.88967136 0.88967136 0.88967136        nan        nan\n",
      "        nan        nan        nan 0.88967136 0.88967136        nan\n",
      " 0.88967136 0.88967136        nan        nan 0.88967136        nan\n",
      " 0.88967136 0.88967136 0.88967136 0.88967136 0.88967136 0.88967136\n",
      "        nan        nan        nan        nan        nan 0.88967136\n",
      " 0.88967136        nan 0.88967136 0.88967136        nan        nan\n",
      "        nan        nan 0.88967136 0.88967136 0.88967136        nan\n",
      " 0.88967136 0.88967136        nan        nan        nan        nan\n",
      "        nan 0.88967136 0.88967136        nan 0.88967136 0.88967136\n",
      "        nan        nan 0.88967136        nan 0.88967136 0.88967136\n",
      " 0.88967136 0.88967136 0.88967136 0.88967136        nan        nan\n",
      "        nan        nan        nan 0.88967136 0.88967136        nan\n",
      " 0.88967136 0.88967136        nan        nan 0.88967136        nan\n",
      " 0.88967136 0.88967136 0.88967136 0.88967136 0.88967136 0.88967136\n",
      "        nan        nan        nan        nan        nan 0.88967136\n",
      " 0.88967136        nan 0.88967136 0.88967136        nan        nan\n",
      "        nan        nan 0.88967136 0.88967136 0.88967136        nan\n",
      " 0.88967136 0.88967136        nan        nan        nan        nan\n",
      "        nan 0.88967136 0.88967136        nan 0.88967136 0.88967136\n",
      "        nan        nan 0.88967136        nan 0.88967136 0.88967136\n",
      " 0.88967136 0.88967136 0.88967136 0.88967136        nan        nan\n",
      "        nan        nan        nan 0.88967136 0.88967136        nan\n",
      " 0.88967136 0.88967136        nan        nan 0.88967136        nan\n",
      " 0.88967136 0.88967136 0.88967136 0.88967136 0.88967136 0.88967136\n",
      "        nan        nan        nan        nan        nan 0.88967136\n",
      " 0.88967136        nan 0.88967136 0.88967136        nan        nan\n",
      "        nan        nan 0.88967136 0.88967136 0.88967136        nan\n",
      " 0.88967136 0.88967136        nan        nan        nan        nan\n",
      "        nan 0.88967136 0.88967136        nan 0.88967136 0.88967136\n",
      "        nan        nan 0.88967136        nan 0.88967136 0.88967136\n",
      " 0.88967136 0.88967136 0.88967136 0.88967136        nan        nan\n",
      "        nan        nan        nan 0.88967136 0.88967136        nan\n",
      " 0.88967136 0.88967136        nan        nan 0.88967136        nan\n",
      " 0.88967136 0.88967136 0.88967136 0.88967136 0.88967136 0.88967136\n",
      "        nan        nan        nan        nan        nan 0.88967136\n",
      " 0.88967136        nan 0.88967136 0.88967136        nan        nan\n",
      "        nan        nan 0.88967136 0.88967136 0.88967136        nan\n",
      " 0.88967136 0.88967136        nan        nan        nan        nan\n",
      "        nan 0.88967136 0.88967136        nan 0.88967136 0.88967136\n",
      "        nan        nan 0.88967136        nan 0.88967136 0.88967136\n",
      " 0.88967136 0.88967136 0.88967136 0.88967136        nan        nan\n",
      "        nan        nan        nan 0.88967136 0.88967136        nan\n",
      " 0.88967136 0.88967136        nan        nan 0.88967136        nan\n",
      " 0.88967136 0.88967136 0.88967136 0.88967136 0.88967136 0.88967136\n",
      "        nan        nan        nan        nan        nan 0.88967136\n",
      " 0.88967136        nan 0.88967136 0.88967136        nan        nan\n",
      "        nan        nan 0.88967136 0.88967136 0.88967136        nan\n",
      " 0.88967136 0.88967136        nan        nan        nan        nan\n",
      "        nan 0.88967136 0.88967136        nan 0.88967136 0.88967136\n",
      "        nan        nan 0.88967136        nan 0.88967136 0.88967136\n",
      " 0.88967136 0.88967136 0.88967136 0.88967136        nan        nan\n",
      "        nan        nan        nan 0.88967136 0.88967136        nan\n",
      " 0.88967136 0.88967136        nan        nan 0.88967136        nan\n",
      " 0.88967136 0.88967136 0.88967136 0.88967136 0.88967136 0.88967136\n",
      "        nan        nan        nan        nan        nan 0.88967136\n",
      " 0.88967136        nan 0.88967136 0.88967136        nan        nan\n",
      "        nan        nan 0.88967136 0.88967136 0.88967136        nan\n",
      " 0.88967136 0.88967136        nan        nan        nan        nan\n",
      "        nan 0.88967136 0.88967136        nan 0.88967136 0.88967136]\n",
      "  warnings.warn(\n",
      "/home/sungjin/Documents/Programming/python/venv/lib/python3.8/site-packages/sklearn/model_selection/_search.py:918: UserWarning: One or more of the train scores are non-finite: [       nan        nan 0.88967136        nan 0.88967136 0.88967136\n",
      " 0.88967136 0.88967136 0.88967136 0.88967136        nan        nan\n",
      "        nan        nan        nan 0.88967136 0.88967136        nan\n",
      " 0.88967136 0.88967136        nan        nan 0.88967136        nan\n",
      " 0.88967136 0.88967136 0.88967136 0.88967136 0.88967136 0.88967136\n",
      "        nan        nan        nan        nan        nan 0.88967136\n",
      " 0.88967136        nan 0.88967136 0.88967136        nan        nan\n",
      "        nan        nan 0.88967136 0.88967136 0.88967136        nan\n",
      " 0.88967136 0.88967136        nan        nan        nan        nan\n",
      "        nan 0.88967136 0.88967136        nan 0.88967136 0.88967136\n",
      "        nan        nan 0.88967136        nan 0.88967136 0.88967136\n",
      " 0.88967136 0.88967136 0.88967136 0.88967136        nan        nan\n",
      "        nan        nan        nan 0.88967136 0.88967136        nan\n",
      " 0.88967136 0.88967136        nan        nan 0.88967136        nan\n",
      " 0.88967136 0.88967136 0.88967136 0.88967136 0.88967136 0.88967136\n",
      "        nan        nan        nan        nan        nan 0.88967136\n",
      " 0.88967136        nan 0.88967136 0.88967136        nan        nan\n",
      "        nan        nan 0.88967136 0.88967136 0.88967136        nan\n",
      " 0.88967136 0.88967136        nan        nan        nan        nan\n",
      "        nan 0.88967136 0.88967136        nan 0.88967136 0.88967136\n",
      "        nan        nan 0.88967136        nan 0.88967136 0.88967136\n",
      " 0.88967136 0.88967136 0.88967136 0.88967136        nan        nan\n",
      "        nan        nan        nan 0.88967136 0.88967136        nan\n",
      " 0.88967136 0.88967136        nan        nan 0.88967136        nan\n",
      " 0.88967136 0.88967136 0.88967136 0.88967136 0.88967136 0.88967136\n",
      "        nan        nan        nan        nan        nan 0.88967136\n",
      " 0.88967136        nan 0.88967136 0.88967136        nan        nan\n",
      "        nan        nan 0.88967136 0.88967136 0.88967136        nan\n",
      " 0.88967136 0.88967136        nan        nan        nan        nan\n",
      "        nan 0.88967136 0.88967136        nan 0.88967136 0.88967136\n",
      "        nan        nan 0.88967136        nan 0.88967136 0.88967136\n",
      " 0.88967136 0.88967136 0.88967136 0.88967136        nan        nan\n",
      "        nan        nan        nan 0.88967136 0.88967136        nan\n",
      " 0.88967136 0.88967136        nan        nan 0.88967136        nan\n",
      " 0.88967136 0.88967136 0.88967136 0.88967136 0.88967136 0.88967136\n",
      "        nan        nan        nan        nan        nan 0.88967136\n",
      " 0.88967136        nan 0.88967136 0.88967136        nan        nan\n",
      "        nan        nan 0.88967136 0.88967136 0.88967136        nan\n",
      " 0.88967136 0.88967136        nan        nan        nan        nan\n",
      "        nan 0.88967136 0.88967136        nan 0.88967136 0.88967136\n",
      "        nan        nan 0.88967136        nan 0.88967136 0.88967136\n",
      " 0.88967136 0.88967136 0.88967136 0.88967136        nan        nan\n",
      "        nan        nan        nan 0.88967136 0.88967136        nan\n",
      " 0.88967136 0.88967136        nan        nan 0.88967136        nan\n",
      " 0.88967136 0.88967136 0.88967136 0.88967136 0.88967136 0.88967136\n",
      "        nan        nan        nan        nan        nan 0.88967136\n",
      " 0.88967136        nan 0.88967136 0.88967136        nan        nan\n",
      "        nan        nan 0.88967136 0.88967136 0.88967136        nan\n",
      " 0.88967136 0.88967136        nan        nan        nan        nan\n",
      "        nan 0.88967136 0.88967136        nan 0.88967136 0.88967136\n",
      "        nan        nan 0.88967136        nan 0.88967136 0.88967136\n",
      " 0.88967136 0.88967136 0.88967136 0.88967136        nan        nan\n",
      "        nan        nan        nan 0.88967136 0.88967136        nan\n",
      " 0.88967136 0.88967136        nan        nan 0.88967136        nan\n",
      " 0.88967136 0.88967136 0.88967136 0.88967136 0.88967136 0.88967136\n",
      "        nan        nan        nan        nan        nan 0.88967136\n",
      " 0.88967136        nan 0.88967136 0.88967136        nan        nan\n",
      "        nan        nan 0.88967136 0.88967136 0.88967136        nan\n",
      " 0.88967136 0.88967136        nan        nan        nan        nan\n",
      "        nan 0.88967136 0.88967136        nan 0.88967136 0.88967136\n",
      "        nan        nan 0.88967136        nan 0.88967136 0.88967136\n",
      " 0.88967136 0.88967136 0.88967136 0.88967136        nan        nan\n",
      "        nan        nan        nan 0.88967136 0.88967136        nan\n",
      " 0.88967136 0.88967136        nan        nan 0.88967136        nan\n",
      " 0.88967136 0.88967136 0.88967136 0.88967136 0.88967136 0.88967136\n",
      "        nan        nan        nan        nan        nan 0.88967136\n",
      " 0.88967136        nan 0.88967136 0.88967136        nan        nan\n",
      "        nan        nan 0.88967136 0.88967136 0.88967136        nan\n",
      " 0.88967136 0.88967136        nan        nan        nan        nan\n",
      "        nan 0.88967136 0.88967136        nan 0.88967136 0.88967136]\n",
      "  warnings.warn(\n"
     ]
    }
   ],
   "source": [
    "# fit the model\n",
    "log_model_cv.fit(X_train, y_train)\n",
    "print(\"best hyper parameters\", log_model_cv.best_params_)\n",
    "log_y_pred = log_model_cv.predict(X_test)"
   ]
  },
  {
   "cell_type": "code",
   "execution_count": 17,
   "metadata": {},
   "outputs": [
    {
     "name": "stdout",
     "output_type": "stream",
     "text": [
      "Accuracy: 0.904709748083242\n",
      "F1 score micro: 0.904709748083242\n",
      "F1 score binary: 0.0\n",
      "\n",
      "classification report:\n",
      "               precision    recall  f1-score   support\n",
      "\n",
      "         0.0       0.90      1.00      0.95       826\n",
      "         1.0       0.00      0.00      0.00        87\n",
      "\n",
      "    accuracy                           0.90       913\n",
      "   macro avg       0.45      0.50      0.47       913\n",
      "weighted avg       0.82      0.90      0.86       913\n",
      "\n"
     ]
    },
    {
     "name": "stderr",
     "output_type": "stream",
     "text": [
      "/home/sungjin/Documents/Programming/python/venv/lib/python3.8/site-packages/sklearn/metrics/_classification.py:1245: UndefinedMetricWarning: Precision and F-score are ill-defined and being set to 0.0 in labels with no predicted samples. Use `zero_division` parameter to control this behavior.\n",
      "  _warn_prf(average, modifier, msg_start, len(result))\n",
      "/home/sungjin/Documents/Programming/python/venv/lib/python3.8/site-packages/sklearn/metrics/_classification.py:1245: UndefinedMetricWarning: Precision and F-score are ill-defined and being set to 0.0 in labels with no predicted samples. Use `zero_division` parameter to control this behavior.\n",
      "  _warn_prf(average, modifier, msg_start, len(result))\n",
      "/home/sungjin/Documents/Programming/python/venv/lib/python3.8/site-packages/sklearn/metrics/_classification.py:1245: UndefinedMetricWarning: Precision and F-score are ill-defined and being set to 0.0 in labels with no predicted samples. Use `zero_division` parameter to control this behavior.\n",
      "  _warn_prf(average, modifier, msg_start, len(result))\n"
     ]
    }
   ],
   "source": [
    "# accuracy \n",
    "print(\"Accuracy:\", metrics.accuracy_score(y_test, log_y_pred))\n",
    "# f1 score \n",
    "print(\"F1 score micro:\", f1_score(y_test, log_y_pred, average='micro'))\n",
    "print(\"F1 score binary:\", f1_score(y_test, log_y_pred, average='binary'))\n",
    "\n",
    "print(\"\\nclassification report:\\n\", classification_report(y_test, log_y_pred))"
   ]
  },
  {
   "cell_type": "code",
   "execution_count": 18,
   "metadata": {},
   "outputs": [
    {
     "name": "stdout",
     "output_type": "stream",
     "text": [
      "[learning_curve] Training set sizes: [  17  204  391  579  766  954 1141 1329 1516 1704]\n"
     ]
    },
    {
     "name": "stderr",
     "output_type": "stream",
     "text": [
      "[Parallel(n_jobs=-1)]: Using backend LokyBackend with 12 concurrent workers.\n",
      "[Parallel(n_jobs=-1)]: Done  25 out of  50 | elapsed:    0.0s remaining:    0.0s\n",
      "[Parallel(n_jobs=-1)]: Done  50 out of  50 | elapsed:    0.1s finished\n"
     ]
    },
    {
     "data": {
      "image/png": "[encoded data removed]",
      "text/plain": [
       "<Figure size 432x288 with 1 Axes>"
      ]
     },
     "metadata": {
      "needs_background": "light"
     },
     "output_type": "display_data"
    }
   ],
   "source": [
    "# ------ HERE ------\n",
    "\n",
    "# plug in suitable hyper-parameters\n",
    "\n",
    "\n",
    "# 여기만 바꾸면 된다. \n",
    "plot_model = LogisticRegression(C=0.0001, multi_class='auto', penalty='l1', solver='liblinear')\n",
    "\n",
    "\n",
    "train_sizes, train_scores, val_scores = learning_curve(plot_model, \n",
    "                                                       X_train, \n",
    "                                                       y_train, \n",
    "                                                       cv=5, \n",
    "                                                       scoring='accuracy', \n",
    "                                                       n_jobs=-1, # 이거 바꾸고 싶으면 바꾸고  \n",
    "                                                       train_sizes=np.linspace(0.01, 1, 10), \n",
    "                                                       verbose=2)\n",
    "# 여기만 바꾸면 된다. \n",
    "\n",
    "\n",
    "train_mean = np.mean(train_scores, axis = 1)\n",
    "train_std = np.std(train_scores, axis=1)\n",
    "val_mean = np.mean(val_scores, axis=1)\n",
    "val_std = np.std(val_scores, axis=1)\n",
    "\n",
    "plt.plot(train_sizes, train_mean, label='Training score')\n",
    "plt.plot(train_sizes, val_mean, label='Cross-validation score')\n",
    "plt.title('Learning curve')\n",
    "plt.xlabel('Training Size')\n",
    "plt.ylabel('Accuracy score')\n",
    "plt.legend(loc='best')\n",
    "plt.show()"
   ]
  },
  {
   "cell_type": "markdown",
   "metadata": {},
   "source": [
    "## KNN"
   ]
  },
  {
   "cell_type": "code",
   "execution_count": 19,
   "metadata": {},
   "outputs": [],
   "source": [
    "knn_hyper_params = [ \n",
    "                        {\n",
    "                        'weights' : ['uniform', 'distance'],\n",
    "                        'algorithm' : ['auto', 'ball_tree', 'kd_tree', 'brute'],\n",
    "                        'leaf_size' : np.linspace(2, 100, 10, dtype=int)\n",
    "                        }\n",
    "                    ]\n",
    "\n",
    "# specify model\n",
    "\n",
    "# THIS SECTION SHOULD BE CHANGED.\n",
    "# n_neighbors  SHOULD BE MODIFIED TO ANOTHER VALUE DEPENDING ON THE TARGET VALUE.\n",
    "knn_model = KNeighborsClassifier(n_neighbors=len(y_t.unique()))\n",
    "\n",
    "# set up GridSearchCV()\n",
    "knn_model_cv = GridSearchCV(estimator = knn_model, \n",
    "                            param_grid = knn_hyper_params, \n",
    "                            scoring= 'accuracy', \n",
    "                            cv = folds, \n",
    "                            verbose = 2,\n",
    "                            return_train_score=True,\n",
    "                            n_jobs=-1)      "
   ]
  },
  {
   "cell_type": "code",
   "execution_count": 20,
   "metadata": {},
   "outputs": [
    {
     "name": "stdout",
     "output_type": "stream",
     "text": [
      "Fitting 5 folds for each of 80 candidates, totalling 400 fits\n",
      "best hyper parameters {'algorithm': 'ball_tree', 'leaf_size': 23, 'weights': 'uniform'}\n"
     ]
    }
   ],
   "source": [
    "# fit the model\n",
    "knn_model_cv.fit(X_train, y_train)\n",
    "print(\"best hyper parameters\", knn_model_cv.best_params_)\n",
    "knn_y_pred = knn_model_cv.predict(X_test)"
   ]
  },
  {
   "cell_type": "code",
   "execution_count": 21,
   "metadata": {},
   "outputs": [
    {
     "name": "stdout",
     "output_type": "stream",
     "text": [
      "Accuracy: 0.9036144578313253\n",
      "F1 score micro: 0.9036144578313253\n",
      "F1 score binary: 0.0\n",
      "\n",
      "classification report:\n",
      "               precision    recall  f1-score   support\n",
      "\n",
      "         0.0       0.90      1.00      0.95       826\n",
      "         1.0       0.00      0.00      0.00        87\n",
      "\n",
      "    accuracy                           0.90       913\n",
      "   macro avg       0.45      0.50      0.47       913\n",
      "weighted avg       0.82      0.90      0.86       913\n",
      "\n"
     ]
    }
   ],
   "source": [
    "# accuracy \n",
    "print(\"Accuracy:\", metrics.accuracy_score(y_test, knn_y_pred))\n",
    "# f1 score \n",
    "print(\"F1 score micro:\", f1_score(y_test, knn_y_pred, average='micro'))\n",
    "print(\"F1 score binary:\", f1_score(y_test, knn_y_pred, average='binary'))\n",
    "\n",
    "print(\"\\nclassification report:\\n\", classification_report(y_test, knn_y_pred))"
   ]
  },
  {
   "cell_type": "code",
   "execution_count": 22,
   "metadata": {},
   "outputs": [
    {
     "name": "stdout",
     "output_type": "stream",
     "text": [
      "[learning_curve] Training set sizes: [  17  204  391  579  766  954 1141 1329 1516 1704]\n"
     ]
    },
    {
     "name": "stderr",
     "output_type": "stream",
     "text": [
      "[Parallel(n_jobs=-1)]: Using backend LokyBackend with 12 concurrent workers.\n",
      "[Parallel(n_jobs=-1)]: Done  25 out of  50 | elapsed:    0.2s remaining:    0.2s\n",
      "[Parallel(n_jobs=-1)]: Done  50 out of  50 | elapsed:    0.3s finished\n"
     ]
    },
    {
     "data": {
      "image/png": "[encoded data removed]",
      "text/plain": [
       "<Figure size 432x288 with 1 Axes>"
      ]
     },
     "metadata": {
      "needs_background": "light"
     },
     "output_type": "display_data"
    }
   ],
   "source": [
    "# ------ HERE ------\n",
    "\n",
    "# plug in suitable hyper-parameters\n",
    "\n",
    "\n",
    "# 여기만 바꾸면 된다. \n",
    "plot_model = KNeighborsClassifier(algorithm='ball_tree', leaf_size=23, weights='uniform')\n",
    "\n",
    "\n",
    "train_sizes, train_scores, val_scores = learning_curve(plot_model, \n",
    "                                                       X_train, \n",
    "                                                       y_train, \n",
    "                                                       cv=5, \n",
    "                                                       scoring='accuracy', \n",
    "                                                       n_jobs=-1, # 이거 바꾸고 싶으면 바꾸고  \n",
    "                                                       train_sizes=np.linspace(0.01, 1, 10), \n",
    "                                                       verbose=2)\n",
    "# 여기만 바꾸면 된다. \n",
    "\n",
    "\n",
    "train_mean = np.mean(train_scores, axis = 1)\n",
    "train_std = np.std(train_scores, axis=1)\n",
    "val_mean = np.mean(val_scores, axis=1)\n",
    "val_std = np.std(val_scores, axis=1)\n",
    "\n",
    "plt.plot(train_sizes, train_mean, label='Training score')\n",
    "plt.plot(train_sizes, val_mean, label='Cross-validation score')\n",
    "plt.title('Learning curve')\n",
    "plt.xlabel('Training Size')\n",
    "plt.ylabel('Accuracy score')\n",
    "plt.legend(loc='best')\n",
    "plt.show()"
   ]
  },
  {
   "cell_type": "markdown",
   "metadata": {},
   "source": [
    "## Random Forest"
   ]
  },
  {
   "cell_type": "code",
   "execution_count": 23,
   "metadata": {},
   "outputs": [],
   "source": [
    "rf_hyper_params = [ \n",
    "                        {\n",
    "                            'n_estimators' : [int(x) for x in np.linspace(5, 50, 5)],\n",
    "                            'criterion' : ['gini', 'entropy'],\n",
    "                            'max_depth' : [int(x) for x in np.linspace(2, 50, 5)],\n",
    "                            'min_samples_split' : [int(x) for x in np.linspace(2, 50, 5)],\n",
    "                            'min_samples_leaf' : [int(x) for x in np.linspace(2, 50, 5)],\n",
    "                            'max_features' : ['auto', 'sqrt', 'log2'],\n",
    "                            'bootstrap' : [True, False]\n",
    "\n",
    "                        }\n",
    "                    ]\n",
    "\n",
    "# specify model\n",
    "\n",
    "# THIS SECTION SHOULD BE CHANGED.\n",
    "# n_neighbors  SHOULD BE MODIFIED TO ANOTHER VALUE DEPENDING ON THE TARGET VALUE.\n",
    "rf_model = RandomForestClassifier(random_state=1)\n",
    "\n",
    "# set up GridSearchCV()\n",
    "rf_model_cv = GridSearchCV(estimator = rf_model, \n",
    "                            param_grid = rf_hyper_params, \n",
    "                            scoring= 'accuracy', \n",
    "                            cv = folds, \n",
    "                            verbose = 2,\n",
    "                            return_train_score=True,\n",
    "                            n_jobs=-1)      "
   ]
  },
  {
   "cell_type": "code",
   "execution_count": 24,
   "metadata": {},
   "outputs": [
    {
     "name": "stdout",
     "output_type": "stream",
     "text": [
      "Fitting 5 folds for each of 7500 candidates, totalling 37500 fits\n",
      "best hyper parameters {'bootstrap': True, 'criterion': 'gini', 'max_depth': 2, 'max_features': 'auto', 'min_samples_leaf': 2, 'min_samples_split': 2, 'n_estimators': 5}\n"
     ]
    }
   ],
   "source": [
    "# fit the model\n",
    "rf_model_cv.fit(X_train, y_train)\n",
    "print(\"best hyper parameters\", rf_model_cv.best_params_)\n",
    "rf_y_pred = rf_model_cv.predict(X_test)"
   ]
  },
  {
   "cell_type": "code",
   "execution_count": 25,
   "metadata": {},
   "outputs": [
    {
     "name": "stdout",
     "output_type": "stream",
     "text": [
      "Accuracy: 0.904709748083242\n",
      "F1 score micro: 0.904709748083242\n",
      "F1 score binary: 0.0\n",
      "\n",
      "classification report:\n",
      "               precision    recall  f1-score   support\n",
      "\n",
      "         0.0       0.90      1.00      0.95       826\n",
      "         1.0       0.00      0.00      0.00        87\n",
      "\n",
      "    accuracy                           0.90       913\n",
      "   macro avg       0.45      0.50      0.47       913\n",
      "weighted avg       0.82      0.90      0.86       913\n",
      "\n"
     ]
    },
    {
     "name": "stderr",
     "output_type": "stream",
     "text": [
      "/home/sungjin/Documents/Programming/python/venv/lib/python3.8/site-packages/sklearn/metrics/_classification.py:1245: UndefinedMetricWarning: Precision and F-score are ill-defined and being set to 0.0 in labels with no predicted samples. Use `zero_division` parameter to control this behavior.\n",
      "  _warn_prf(average, modifier, msg_start, len(result))\n",
      "/home/sungjin/Documents/Programming/python/venv/lib/python3.8/site-packages/sklearn/metrics/_classification.py:1245: UndefinedMetricWarning: Precision and F-score are ill-defined and being set to 0.0 in labels with no predicted samples. Use `zero_division` parameter to control this behavior.\n",
      "  _warn_prf(average, modifier, msg_start, len(result))\n",
      "/home/sungjin/Documents/Programming/python/venv/lib/python3.8/site-packages/sklearn/metrics/_classification.py:1245: UndefinedMetricWarning: Precision and F-score are ill-defined and being set to 0.0 in labels with no predicted samples. Use `zero_division` parameter to control this behavior.\n",
      "  _warn_prf(average, modifier, msg_start, len(result))\n"
     ]
    }
   ],
   "source": [
    "# accuracy \n",
    "print(\"Accuracy:\", metrics.accuracy_score(y_test, rf_y_pred))\n",
    "# f1 score \n",
    "print(\"F1 score micro:\", f1_score(y_test, rf_y_pred, average='micro'))\n",
    "print(\"F1 score binary:\", f1_score(y_test, rf_y_pred, average='binary'))\n",
    "\n",
    "print(\"\\nclassification report:\\n\", classification_report(y_test, rf_y_pred))"
   ]
  },
  {
   "cell_type": "code",
   "execution_count": 26,
   "metadata": {},
   "outputs": [
    {
     "name": "stdout",
     "output_type": "stream",
     "text": [
      "[learning_curve] Training set sizes: [  17  204  391  579  766  954 1141 1329 1516 1704]\n"
     ]
    },
    {
     "name": "stderr",
     "output_type": "stream",
     "text": [
      "[Parallel(n_jobs=-1)]: Using backend LokyBackend with 12 concurrent workers.\n",
      "[Parallel(n_jobs=-1)]: Done  25 out of  50 | elapsed:    0.1s remaining:    0.1s\n",
      "[Parallel(n_jobs=-1)]: Done  50 out of  50 | elapsed:    0.1s finished\n"
     ]
    },
    {
     "data": {
      "image/png": "[encoded data removed]",
      "text/plain": [
       "<Figure size 432x288 with 1 Axes>"
      ]
     },
     "metadata": {
      "needs_background": "light"
     },
     "output_type": "display_data"
    }
   ],
   "source": [
    "# ------ HERE ------\n",
    "\n",
    "# plug in suitable hyper-parameters\n",
    "\n",
    "\n",
    "# 여기만 바꾸면 된다. \n",
    "plot_model = RandomForestClassifier(bootstrap=True, criterion='gini', max_depth=2, max_features='auto', min_samples_leaf=2, min_samples_split=2, n_estimators=5)\n",
    "\n",
    "train_sizes, train_scores, val_scores = learning_curve(plot_model, \n",
    "                                                       X_train, \n",
    "                                                       y_train, \n",
    "                                                       cv=5, \n",
    "                                                       scoring='accuracy', \n",
    "                                                       n_jobs=-1, # 이거 바꾸고 싶으면 바꾸고  \n",
    "                                                       train_sizes=np.linspace(0.01, 1, 10), \n",
    "                                                       verbose=2)\n",
    "# 여기만 바꾸면 된다. \n",
    "\n",
    "\n",
    "train_mean = np.mean(train_scores, axis = 1)\n",
    "train_std = np.std(train_scores, axis=1)\n",
    "val_mean = np.mean(val_scores, axis=1)\n",
    "val_std = np.std(val_scores, axis=1)\n",
    "\n",
    "plt.plot(train_sizes, train_mean, label='Training score')\n",
    "plt.plot(train_sizes, val_mean, label='Cross-validation score')\n",
    "plt.title('Learning curve')\n",
    "plt.xlabel('Training Size')\n",
    "plt.ylabel('Accuracy score')\n",
    "plt.legend(loc='best')\n",
    "plt.show()"
   ]
  },
  {
   "cell_type": "code",
   "execution_count": 27,
   "metadata": {},
   "outputs": [],
   "source": [
    "# Total Learning Curve"
   ]
  },
  {
   "cell_type": "code",
   "execution_count": 28,
   "metadata": {},
   "outputs": [
    {
     "name": "stdout",
     "output_type": "stream",
     "text": [
      "[learning_curve] Training set sizes: [  17  204  391  579  766  954 1141 1329 1516 1704]\n",
      "[learning_curve] Training set sizes: [  17  204  391  579  766  954 1141 1329 1516 1704]\n",
      "[learning_curve] Training set sizes: [  17  204  391  579  766  954 1141 1329 1516 1704]\n"
     ]
    },
    {
     "name": "stderr",
     "output_type": "stream",
     "text": [
      "[Parallel(n_jobs=-1)]: Using backend LokyBackend with 12 concurrent workers.\n",
      "[Parallel(n_jobs=-1)]: Done  25 out of  50 | elapsed:    0.1s remaining:    0.1s\n",
      "[Parallel(n_jobs=-1)]: Done  50 out of  50 | elapsed:    0.1s finished\n",
      "[Parallel(n_jobs=-1)]: Using backend LokyBackend with 12 concurrent workers.\n",
      "[Parallel(n_jobs=-1)]: Done  25 out of  50 | elapsed:    0.0s remaining:    0.0s\n",
      "[Parallel(n_jobs=-1)]: Done  50 out of  50 | elapsed:    0.0s finished\n",
      "[Parallel(n_jobs=-1)]: Using backend LokyBackend with 12 concurrent workers.\n",
      "[Parallel(n_jobs=-1)]: Done  25 out of  50 | elapsed:    0.1s remaining:    0.1s\n",
      "[Parallel(n_jobs=-1)]: Done  50 out of  50 | elapsed:    0.3s finished\n",
      "[Parallel(n_jobs=-1)]: Using backend LokyBackend with 12 concurrent workers.\n",
      "[Parallel(n_jobs=-1)]: Done  25 out of  50 | elapsed:    0.1s remaining:    0.1s\n"
     ]
    },
    {
     "name": "stdout",
     "output_type": "stream",
     "text": [
      "[learning_curve] Training set sizes: [  17  204  391  579  766  954 1141 1329 1516 1704]\n"
     ]
    },
    {
     "name": "stderr",
     "output_type": "stream",
     "text": [
      "[Parallel(n_jobs=-1)]: Done  50 out of  50 | elapsed:    0.1s finished\n"
     ]
    },
    {
     "data": {
      "text/plain": [
       "<matplotlib.legend.Legend at 0x7fb411b20160>"
      ]
     },
     "execution_count": 28,
     "metadata": {},
     "output_type": "execute_result"
    },
    {
     "data": {
      "image/png": "[encoded data removed]",
      "text/plain": [
       "<Figure size 2016x504 with 4 Axes>"
      ]
     },
     "metadata": {
      "needs_background": "light"
     },
     "output_type": "display_data"
    }
   ],
   "source": [
    "fig, (ax1, ax2, ax3, ax4) = plt.subplots(1, 4, figsize=(28, 7))\n",
    "\n",
    "# SVM\n",
    "plot_model = svm.SVC(kernel='linear', C=0.001, gamma=0.0001)\n",
    "\n",
    "\n",
    "train_sizes, train_scores, val_scores = learning_curve(plot_model, \n",
    "                                                       X_train, \n",
    "                                                       y_train, \n",
    "                                                       cv=5, \n",
    "                                                       scoring='accuracy', \n",
    "                                                       n_jobs=-1, # 이거 바꾸고 싶으면 바꾸고  \n",
    "                                                       train_sizes=np.linspace(0.01, 1, 10), \n",
    "                                                       verbose=2)\n",
    "\n",
    "train_mean = np.mean(train_scores, axis = 1)\n",
    "train_std = np.std(train_scores, axis=1)\n",
    "val_mean = np.mean(val_scores, axis=1)\n",
    "val_std = np.std(val_scores, axis=1)\n",
    "\n",
    "ax1.plot(train_sizes, train_mean, label='Training Accuracy')\n",
    "ax1.plot(train_sizes, val_mean, label='Validation Accuracy')\n",
    "ax1.set_title('SVM Learning curve')\n",
    "ax1.set_xlabel('Training Size')\n",
    "ax1.set_ylabel('Accuracy')\n",
    "\n",
    "# Logistic Regression\n",
    "plot_model = LogisticRegression(C=0.0001, multi_class='auto', penalty='l1', solver='liblinear')\n",
    "\n",
    "\n",
    "train_sizes, train_scores, val_scores = learning_curve(plot_model, \n",
    "                                                       X_train, \n",
    "                                                       y_train, \n",
    "                                                       cv=5, \n",
    "                                                       scoring='accuracy', \n",
    "                                                       n_jobs=-1, # 이거 바꾸고 싶으면 바꾸고  \n",
    "                                                       train_sizes=np.linspace(0.01, 1, 10), \n",
    "                                                       verbose=2)\n",
    "\n",
    "train_mean = np.mean(train_scores, axis = 1)\n",
    "train_std = np.std(train_scores, axis=1)\n",
    "val_mean = np.mean(val_scores, axis=1)\n",
    "val_std = np.std(val_scores, axis=1)\n",
    "\n",
    "ax2.plot(train_sizes, train_mean, label='Training Accuracy')\n",
    "ax2.plot(train_sizes, val_mean, label='Validation Accuracy')\n",
    "ax2.set_title('Logistic Regression Learning curve')\n",
    "ax2.set_xlabel('Training Size')\n",
    "ax2.set_ylabel('Accuracy')\n",
    "\n",
    "\n",
    "# KNN\n",
    "plot_model = KNeighborsClassifier(algorithm='ball_tree', leaf_size=23, weights='uniform')\n",
    "\n",
    "\n",
    "train_sizes, train_scores, val_scores = learning_curve(plot_model, \n",
    "                                                       X_train, \n",
    "                                                       y_train, \n",
    "                                                       cv=5, \n",
    "                                                       scoring='accuracy', \n",
    "                                                       n_jobs=-1, # 이거 바꾸고 싶으면 바꾸고  \n",
    "                                                       train_sizes=np.linspace(0.01, 1, 10), \n",
    "                                                       verbose=2)\n",
    "\n",
    "train_mean = np.mean(train_scores, axis = 1)\n",
    "train_std = np.std(train_scores, axis=1)\n",
    "val_mean = np.mean(val_scores, axis=1)\n",
    "val_std = np.std(val_scores, axis=1)\n",
    "\n",
    "ax3.plot(train_sizes, train_mean, label='Training Accuracy')\n",
    "ax3.plot(train_sizes, val_mean, label='Validation Accuracy')\n",
    "ax3.set_title('KNN Learning curve')\n",
    "ax3.set_xlabel('Training Size')\n",
    "ax3.set_ylabel('Accuracy')\n",
    "\n",
    "# Random Forest\n",
    "plot_model = RandomForestClassifier(bootstrap=True, criterion='gini', max_depth=2, max_features='auto', min_samples_leaf=2, min_samples_split=2, n_estimators=5)\n",
    "\n",
    "train_sizes, train_scores, val_scores = learning_curve(plot_model, \n",
    "                                                       X_train, \n",
    "                                                       y_train, \n",
    "                                                       cv=5, \n",
    "                                                       scoring='accuracy', \n",
    "                                                       n_jobs=-1, # 이거 바꾸고 싶으면 바꾸고  \n",
    "                                                       train_sizes=np.linspace(0.01, 1, 10), \n",
    "                                                       verbose=2)\n",
    "\n",
    "train_mean = np.mean(train_scores, axis = 1)\n",
    "train_std = np.std(train_scores, axis=1)\n",
    "val_mean = np.mean(val_scores, axis=1)\n",
    "val_std = np.std(val_scores, axis=1)\n",
    "\n",
    "ax4.plot(train_sizes, train_mean, label='Training Accuracy')\n",
    "ax4.plot(train_sizes, val_mean, label='Validation Accuracy')\n",
    "ax4.set_title('Random Forest Learning curve')\n",
    "ax4.set_xlabel('Training Size')\n",
    "ax4.set_ylabel('Accuracy')\n",
    "ax4.legend(loc='upper center', bbox_to_anchor=(-1.3, -0.1),\n",
    "          fancybox=True, shadow=True, ncol=2)"
   ]
  },
  {
   "cell_type": "markdown",
   "metadata": {},
   "source": [
    "# 2. sampled"
   ]
  },
  {
   "cell_type": "code",
   "execution_count": 29,
   "metadata": {},
   "outputs": [],
   "source": [
    "X_train, X_test, y_train, y_test = train_test_split(X_s, y_s, test_size=0.3, random_state=1)  # 70% training and 30% test"
   ]
  },
  {
   "cell_type": "markdown",
   "metadata": {},
   "source": [
    "# SVM "
   ]
  },
  {
   "cell_type": "code",
   "execution_count": 30,
   "metadata": {},
   "outputs": [],
   "source": [
    "svm_hyper_params = [ \n",
    "                        {\n",
    "                        'gamma': np.logspace(-4, -1, 4),\n",
    "                        'C': np.logspace(-3, 1, 5),\n",
    "                        'kernel': ['linear', 'poly', 'rbf', 'sigmoid']\n",
    "                        }\n",
    "                    ]\n",
    "\n",
    "# specify model\n",
    "svm_model = svm.SVC(random_state=1)\n",
    "\n",
    "# set up GridSearchCV()\n",
    "svm_model_cv = GridSearchCV(estimator = svm_model, \n",
    "                            param_grid = svm_hyper_params, \n",
    "                            scoring= 'accuracy', \n",
    "                            cv = folds, \n",
    "                            verbose = 2,\n",
    "                            return_train_score=True,\n",
    "                            n_jobs=2)      "
   ]
  },
  {
   "cell_type": "code",
   "execution_count": 31,
   "metadata": {},
   "outputs": [
    {
     "name": "stdout",
     "output_type": "stream",
     "text": [
      "Fitting 5 folds for each of 80 candidates, totalling 400 fits\n",
      "best hyper parameters {'C': 1.0, 'gamma': 0.0001, 'kernel': 'linear'}\n"
     ]
    }
   ],
   "source": [
    "# fit the model\n",
    "svm_model_cv.fit(X_train, y_train)\n",
    "print(\"best hyper parameters\", svm_model_cv.best_params_)\n",
    "svm_y_pred = svm_model_cv.predict(X_test)"
   ]
  },
  {
   "cell_type": "code",
   "execution_count": 32,
   "metadata": {},
   "outputs": [
    {
     "name": "stdout",
     "output_type": "stream",
     "text": [
      "Accuracy: 0.5309278350515464\n",
      "F1 score micro: 0.5309278350515464\n",
      "F1 score binary: 0.5517241379310344\n",
      "\n",
      "classification report:\n",
      "               precision    recall  f1-score   support\n",
      "\n",
      "         0.0       0.53      0.49      0.51        96\n",
      "         1.0       0.53      0.57      0.55        98\n",
      "\n",
      "    accuracy                           0.53       194\n",
      "   macro avg       0.53      0.53      0.53       194\n",
      "weighted avg       0.53      0.53      0.53       194\n",
      "\n"
     ]
    }
   ],
   "source": [
    "# accuracy \n",
    "print(\"Accuracy:\", metrics.accuracy_score(y_test, svm_y_pred))\n",
    "# f1 score \n",
    "print(\"F1 score micro:\", f1_score(y_test, svm_y_pred, average='micro'))\n",
    "print(\"F1 score binary:\", f1_score(y_test, svm_y_pred, average='binary'))\n",
    "\n",
    "print(\"\\nclassification report:\\n\", classification_report(y_test, svm_y_pred))"
   ]
  },
  {
   "cell_type": "code",
   "execution_count": 33,
   "metadata": {},
   "outputs": [
    {
     "name": "stdout",
     "output_type": "stream",
     "text": [
      "[learning_curve] Training set sizes: [  3  43  82 122 162 201 241 280 320 360]\n"
     ]
    },
    {
     "name": "stderr",
     "output_type": "stream",
     "text": [
      "[Parallel(n_jobs=-1)]: Using backend LokyBackend with 12 concurrent workers.\n",
      "[Parallel(n_jobs=-1)]: Done  25 out of  50 | elapsed:    0.6s remaining:    0.6s\n",
      "[Parallel(n_jobs=-1)]: Done  50 out of  50 | elapsed:    0.7s finished\n"
     ]
    },
    {
     "data": {
      "image/png": "[encoded data removed]",
      "text/plain": [
       "<Figure size 432x288 with 1 Axes>"
      ]
     },
     "metadata": {
      "needs_background": "light"
     },
     "output_type": "display_data"
    }
   ],
   "source": [
    "# ------ HERE ------\n",
    "\n",
    "# plug in suitable hyper-parameters\n",
    "\n",
    "\n",
    "# 여기만 바꾸면 된다. \n",
    "plot_model = svm.SVC(kernel='rbf', C=1.0, gamma=0.1)\n",
    "\n",
    "\n",
    "train_sizes, train_scores, val_scores = learning_curve(plot_model, \n",
    "                                                       X_train, \n",
    "                                                       y_train, \n",
    "                                                       cv=5, \n",
    "                                                       scoring='accuracy', \n",
    "                                                       n_jobs=-1, # 이거 바꾸고 싶으면 바꾸고  \n",
    "                                                       train_sizes=np.linspace(0.01, 1, 10), \n",
    "                                                       verbose=2)\n",
    "# 여기만 바꾸면 된다. \n",
    "\n",
    "\n",
    "train_mean = np.mean(train_scores, axis = 1)\n",
    "train_std = np.std(train_scores, axis=1)\n",
    "val_mean = np.mean(val_scores, axis=1)\n",
    "val_std = np.std(val_scores, axis=1)\n",
    "\n",
    "plt.plot(train_sizes, train_mean, label='Training score')\n",
    "plt.plot(train_sizes, val_mean, label='Cross-validation score')\n",
    "plt.title('Learning curve')\n",
    "plt.xlabel('Training Size')\n",
    "plt.ylabel('Accuracy score')\n",
    "plt.legend(loc='best')\n",
    "plt.show()"
   ]
  },
  {
   "cell_type": "markdown",
   "metadata": {},
   "source": [
    "# Logistic Regression"
   ]
  },
  {
   "cell_type": "code",
   "execution_count": 34,
   "metadata": {},
   "outputs": [],
   "source": [
    "log_hyper_params = [ \n",
    "                        {\n",
    "                        'C': np.logspace(-4, 2, 7),\n",
    "                        'solver' : ['newton-cg', 'lbfgs', 'liblinear', 'sag', 'saga'],\n",
    "                        'penalty' : ['l1', 'l2', 'elasticnet', 'none'],\n",
    "                        'multi_class' : ['auto', 'ovr', 'multinomial']\n",
    "                        }\n",
    "                    ]\n",
    "\n",
    "# specify model\n",
    "log_model = LogisticRegression(random_state=1)\n",
    "\n",
    "# set up GridSearchCV()\n",
    "log_model_cv = GridSearchCV(estimator = log_model, \n",
    "                            param_grid = log_hyper_params, \n",
    "                            scoring= 'accuracy', \n",
    "                            cv = folds, \n",
    "                            verbose = 2,\n",
    "                            return_train_score=True,\n",
    "                            n_jobs=-1)      "
   ]
  },
  {
   "cell_type": "code",
   "execution_count": 35,
   "metadata": {},
   "outputs": [
    {
     "name": "stdout",
     "output_type": "stream",
     "text": [
      "Fitting 5 folds for each of 420 candidates, totalling 2100 fits\n",
      "best hyper parameters {'C': 1.0, 'multi_class': 'auto', 'penalty': 'l1', 'solver': 'liblinear'}\n"
     ]
    },
    {
     "name": "stderr",
     "output_type": "stream",
     "text": [
      "/home/sungjin/Documents/Programming/python/venv/lib/python3.8/site-packages/sklearn/model_selection/_search.py:918: UserWarning: One or more of the test scores are non-finite: [       nan        nan 0.50222222        nan 0.46222222 0.46222222\n",
      " 0.46222222 0.46666667 0.46222222 0.46222222        nan        nan\n",
      "        nan        nan        nan 0.52888889 0.52888889        nan\n",
      " 0.52888889 0.52888889        nan        nan 0.50222222        nan\n",
      " 0.46222222 0.46222222 0.46222222 0.46666667 0.46222222 0.46222222\n",
      "        nan        nan        nan        nan        nan 0.52888889\n",
      " 0.52888889        nan 0.52888889 0.52888889        nan        nan\n",
      "        nan        nan 0.46222222 0.46222222 0.46222222        nan\n",
      " 0.46222222 0.46222222        nan        nan        nan        nan\n",
      "        nan 0.52888889 0.52888889        nan 0.52888889 0.52888889\n",
      "        nan        nan 0.50222222        nan 0.46222222 0.47111111\n",
      " 0.47111111 0.47777778 0.47111111 0.47111111        nan        nan\n",
      "        nan        nan        nan 0.52888889 0.52888889        nan\n",
      " 0.52888889 0.52888889        nan        nan 0.50222222        nan\n",
      " 0.46222222 0.47111111 0.47111111 0.47777778 0.47111111 0.47111111\n",
      "        nan        nan        nan        nan        nan 0.52888889\n",
      " 0.52888889        nan 0.52888889 0.52888889        nan        nan\n",
      "        nan        nan 0.46222222 0.47555556 0.47555556        nan\n",
      " 0.47555556 0.47555556        nan        nan        nan        nan\n",
      "        nan 0.52888889 0.52888889        nan 0.52888889 0.52888889\n",
      "        nan        nan 0.50222222        nan 0.47111111 0.49555556\n",
      " 0.49555556 0.49777778 0.49555556 0.49555556        nan        nan\n",
      "        nan        nan        nan 0.52888889 0.52888889        nan\n",
      " 0.52888889 0.52888889        nan        nan 0.50222222        nan\n",
      " 0.47111111 0.49555556 0.49555556 0.49777778 0.49555556 0.49555556\n",
      "        nan        nan        nan        nan        nan 0.52888889\n",
      " 0.52888889        nan 0.52888889 0.52888889        nan        nan\n",
      "        nan        nan 0.46222222 0.50444444 0.50444444        nan\n",
      " 0.50444444 0.50444444        nan        nan        nan        nan\n",
      "        nan 0.52888889 0.52888889        nan 0.52888889 0.52888889\n",
      "        nan        nan 0.46666667        nan 0.46666667 0.50888889\n",
      " 0.50888889 0.51333333 0.50888889 0.50888889        nan        nan\n",
      "        nan        nan        nan 0.52888889 0.52888889        nan\n",
      " 0.52888889 0.52888889        nan        nan 0.46666667        nan\n",
      " 0.46666667 0.50888889 0.50888889 0.51333333 0.50888889 0.50888889\n",
      "        nan        nan        nan        nan        nan 0.52888889\n",
      " 0.52888889        nan 0.52888889 0.52888889        nan        nan\n",
      "        nan        nan 0.46666667 0.52444444 0.52444444        nan\n",
      " 0.52444444 0.52444444        nan        nan        nan        nan\n",
      "        nan 0.52888889 0.52888889        nan 0.52888889 0.52888889\n",
      "        nan        nan 0.53111111        nan 0.52888889 0.52666667\n",
      " 0.52666667 0.52888889 0.52666667 0.52444444        nan        nan\n",
      "        nan        nan        nan 0.52888889 0.52888889        nan\n",
      " 0.52888889 0.52888889        nan        nan 0.53111111        nan\n",
      " 0.52888889 0.52666667 0.52666667 0.52888889 0.52666667 0.52444444\n",
      "        nan        nan        nan        nan        nan 0.52888889\n",
      " 0.52888889        nan 0.52888889 0.52888889        nan        nan\n",
      "        nan        nan 0.52888889 0.52888889 0.52888889        nan\n",
      " 0.52888889 0.52888889        nan        nan        nan        nan\n",
      "        nan 0.52888889 0.52888889        nan 0.52888889 0.52888889\n",
      "        nan        nan 0.53111111        nan 0.52888889 0.52888889\n",
      " 0.52888889 0.52888889 0.52888889 0.52888889        nan        nan\n",
      "        nan        nan        nan 0.52888889 0.52888889        nan\n",
      " 0.52888889 0.52888889        nan        nan 0.53111111        nan\n",
      " 0.52888889 0.52888889 0.52888889 0.52888889 0.52888889 0.52888889\n",
      "        nan        nan        nan        nan        nan 0.52888889\n",
      " 0.52888889        nan 0.52888889 0.52888889        nan        nan\n",
      "        nan        nan 0.52888889 0.52888889 0.52888889        nan\n",
      " 0.52888889 0.52888889        nan        nan        nan        nan\n",
      "        nan 0.52888889 0.52888889        nan 0.52888889 0.52888889\n",
      "        nan        nan 0.52888889        nan 0.52888889 0.52888889\n",
      " 0.52888889 0.52888889 0.52888889 0.52888889        nan        nan\n",
      "        nan        nan        nan 0.52888889 0.52888889        nan\n",
      " 0.52888889 0.52888889        nan        nan 0.52888889        nan\n",
      " 0.52888889 0.52888889 0.52888889 0.52888889 0.52888889 0.52888889\n",
      "        nan        nan        nan        nan        nan 0.52888889\n",
      " 0.52888889        nan 0.52888889 0.52888889        nan        nan\n",
      "        nan        nan 0.52888889 0.52888889 0.52888889        nan\n",
      " 0.52888889 0.52888889        nan        nan        nan        nan\n",
      "        nan 0.52888889 0.52888889        nan 0.52888889 0.52888889]\n",
      "  warnings.warn(\n",
      "/home/sungjin/Documents/Programming/python/venv/lib/python3.8/site-packages/sklearn/model_selection/_search.py:918: UserWarning: One or more of the train scores are non-finite: [       nan        nan 0.50222222        nan 0.50888889 0.51\n",
      " 0.51       0.52222222 0.51       0.51              nan        nan\n",
      "        nan        nan        nan 0.57888889 0.57888889        nan\n",
      " 0.57888889 0.57944444        nan        nan 0.50222222        nan\n",
      " 0.50888889 0.51       0.51       0.52222222 0.51       0.51\n",
      "        nan        nan        nan        nan        nan 0.57888889\n",
      " 0.57888889        nan 0.57888889 0.57944444        nan        nan\n",
      "        nan        nan 0.50888889 0.51       0.51              nan\n",
      " 0.51       0.51              nan        nan        nan        nan\n",
      "        nan 0.57888889 0.57888889        nan 0.57888889 0.57888889\n",
      "        nan        nan 0.50222222        nan 0.50888889 0.52777778\n",
      " 0.52777778 0.54       0.52777778 0.52777778        nan        nan\n",
      "        nan        nan        nan 0.57888889 0.57888889        nan\n",
      " 0.57888889 0.57944444        nan        nan 0.50222222        nan\n",
      " 0.50888889 0.52777778 0.52777778 0.54       0.52777778 0.52777778\n",
      "        nan        nan        nan        nan        nan 0.57888889\n",
      " 0.57888889        nan 0.57888889 0.57944444        nan        nan\n",
      "        nan        nan 0.50888889 0.54388889 0.54388889        nan\n",
      " 0.54388889 0.54388889        nan        nan        nan        nan\n",
      "        nan 0.57888889 0.57888889        nan 0.57888889 0.57888889\n",
      "        nan        nan 0.50222222        nan 0.50888889 0.55277778\n",
      " 0.55277778 0.55611111 0.55277778 0.55277778        nan        nan\n",
      "        nan        nan        nan 0.57888889 0.57888889        nan\n",
      " 0.57888889 0.57944444        nan        nan 0.50222222        nan\n",
      " 0.50888889 0.55277778 0.55277778 0.55611111 0.55277778 0.55277778\n",
      "        nan        nan        nan        nan        nan 0.57888889\n",
      " 0.57888889        nan 0.57888889 0.57944444        nan        nan\n",
      "        nan        nan 0.51       0.55666667 0.55666667        nan\n",
      " 0.55666667 0.55666667        nan        nan        nan        nan\n",
      "        nan 0.57888889 0.57888889        nan 0.57888889 0.57888889\n",
      "        nan        nan 0.52722222        nan 0.52722222 0.57388889\n",
      " 0.57388889 0.57888889 0.57388889 0.57388889        nan        nan\n",
      "        nan        nan        nan 0.57888889 0.57888889        nan\n",
      " 0.57888889 0.57944444        nan        nan 0.52722222        nan\n",
      " 0.52722222 0.57388889 0.57388889 0.57888889 0.57388889 0.57388889\n",
      "        nan        nan        nan        nan        nan 0.57888889\n",
      " 0.57888889        nan 0.57888889 0.57944444        nan        nan\n",
      "        nan        nan 0.52722222 0.57888889 0.57888889        nan\n",
      " 0.57888889 0.57888889        nan        nan        nan        nan\n",
      "        nan 0.57888889 0.57888889        nan 0.57888889 0.57888889\n",
      "        nan        nan 0.58111111        nan 0.57666667 0.57944444\n",
      " 0.57944444 0.58       0.57944444 0.57944444        nan        nan\n",
      "        nan        nan        nan 0.57888889 0.57888889        nan\n",
      " 0.57888889 0.57944444        nan        nan 0.58111111        nan\n",
      " 0.57666667 0.57944444 0.57944444 0.58       0.57944444 0.57944444\n",
      "        nan        nan        nan        nan        nan 0.57888889\n",
      " 0.57888889        nan 0.57888889 0.57944444        nan        nan\n",
      "        nan        nan 0.57666667 0.57888889 0.57888889        nan\n",
      " 0.57888889 0.57888889        nan        nan        nan        nan\n",
      "        nan 0.57888889 0.57888889        nan 0.57888889 0.57888889\n",
      "        nan        nan 0.58166667        nan 0.58       0.57888889\n",
      " 0.57888889 0.57944444 0.57888889 0.57888889        nan        nan\n",
      "        nan        nan        nan 0.57888889 0.57888889        nan\n",
      " 0.57888889 0.57944444        nan        nan 0.58166667        nan\n",
      " 0.58       0.57888889 0.57888889 0.57944444 0.57888889 0.57888889\n",
      "        nan        nan        nan        nan        nan 0.57888889\n",
      " 0.57888889        nan 0.57888889 0.57944444        nan        nan\n",
      "        nan        nan 0.58       0.57888889 0.57888889        nan\n",
      " 0.57888889 0.57888889        nan        nan        nan        nan\n",
      "        nan 0.57888889 0.57888889        nan 0.57888889 0.57888889\n",
      "        nan        nan 0.57944444        nan 0.57944444 0.57888889\n",
      " 0.57888889 0.57888889 0.57888889 0.57944444        nan        nan\n",
      "        nan        nan        nan 0.57888889 0.57888889        nan\n",
      " 0.57888889 0.57944444        nan        nan 0.57944444        nan\n",
      " 0.57944444 0.57888889 0.57888889 0.57888889 0.57888889 0.57944444\n",
      "        nan        nan        nan        nan        nan 0.57888889\n",
      " 0.57888889        nan 0.57888889 0.57944444        nan        nan\n",
      "        nan        nan 0.57888889 0.57888889 0.57888889        nan\n",
      " 0.57888889 0.57888889        nan        nan        nan        nan\n",
      "        nan 0.57888889 0.57888889        nan 0.57888889 0.57888889]\n",
      "  warnings.warn(\n"
     ]
    }
   ],
   "source": [
    "# fit the model\n",
    "log_model_cv.fit(X_train, y_train)\n",
    "print(\"best hyper parameters\", log_model_cv.best_params_)\n",
    "log_y_pred = log_model_cv.predict(X_test)"
   ]
  },
  {
   "cell_type": "code",
   "execution_count": 36,
   "metadata": {},
   "outputs": [
    {
     "name": "stdout",
     "output_type": "stream",
     "text": [
      "Accuracy: 0.5309278350515464\n",
      "F1 score micro: 0.5309278350515464\n",
      "F1 score binary: 0.5427135678391959\n",
      "\n",
      "classification report:\n",
      "               precision    recall  f1-score   support\n",
      "\n",
      "         0.0       0.53      0.51      0.52        96\n",
      "         1.0       0.53      0.55      0.54        98\n",
      "\n",
      "    accuracy                           0.53       194\n",
      "   macro avg       0.53      0.53      0.53       194\n",
      "weighted avg       0.53      0.53      0.53       194\n",
      "\n"
     ]
    }
   ],
   "source": [
    "# accuracy \n",
    "print(\"Accuracy:\", metrics.accuracy_score(y_test, log_y_pred))\n",
    "# f1 score \n",
    "print(\"F1 score micro:\", f1_score(y_test, log_y_pred, average='micro'))\n",
    "print(\"F1 score binary:\", f1_score(y_test, log_y_pred, average='binary'))\n",
    "\n",
    "print(\"\\nclassification report:\\n\", classification_report(y_test, log_y_pred))"
   ]
  },
  {
   "cell_type": "code",
   "execution_count": 37,
   "metadata": {},
   "outputs": [
    {
     "name": "stdout",
     "output_type": "stream",
     "text": [
      "[learning_curve] Training set sizes: [  3  43  82 122 162 201 241 280 320 360]\n"
     ]
    },
    {
     "name": "stderr",
     "output_type": "stream",
     "text": [
      "[Parallel(n_jobs=-1)]: Using backend LokyBackend with 12 concurrent workers.\n",
      "[Parallel(n_jobs=-1)]: Done  25 out of  50 | elapsed:    0.0s remaining:    0.0s\n",
      "[Parallel(n_jobs=-1)]: Done  50 out of  50 | elapsed:    0.0s finished\n"
     ]
    },
    {
     "data": {
      "image/png": "[encoded data removed]",
      "text/plain": [
       "<Figure size 432x288 with 1 Axes>"
      ]
     },
     "metadata": {
      "needs_background": "light"
     },
     "output_type": "display_data"
    }
   ],
   "source": [
    "# ------ HERE ------\n",
    "\n",
    "# plug in suitable hyper-parameters\n",
    "\n",
    "\n",
    "# 여기만 바꾸면 된다. \n",
    "plot_model = LogisticRegression(C=1.0, multi_class='auto', penalty='l2', solver='liblinear')\n",
    "\n",
    "\n",
    "train_sizes, train_scores, val_scores = learning_curve(plot_model, \n",
    "                                                       X_train, \n",
    "                                                       y_train, \n",
    "                                                       cv=5, \n",
    "                                                       scoring='accuracy', \n",
    "                                                       n_jobs=-1, # 이거 바꾸고 싶으면 바꾸고  \n",
    "                                                       train_sizes=np.linspace(0.01, 1, 10), \n",
    "                                                       verbose=2)\n",
    "# 여기만 바꾸면 된다. \n",
    "\n",
    "\n",
    "train_mean = np.mean(train_scores, axis = 1)\n",
    "train_std = np.std(train_scores, axis=1)\n",
    "val_mean = np.mean(val_scores, axis=1)\n",
    "val_std = np.std(val_scores, axis=1)\n",
    "\n",
    "plt.plot(train_sizes, train_mean, label='Training score')\n",
    "plt.plot(train_sizes, val_mean, label='Cross-validation score')\n",
    "plt.title('Learning curve')\n",
    "plt.xlabel('Training Size')\n",
    "plt.ylabel('Accuracy score')\n",
    "plt.legend(loc='best')\n",
    "plt.show()"
   ]
  },
  {
   "cell_type": "markdown",
   "metadata": {},
   "source": [
    "# KNN"
   ]
  },
  {
   "cell_type": "code",
   "execution_count": 38,
   "metadata": {},
   "outputs": [],
   "source": [
    "knn_hyper_params = [ \n",
    "                        {\n",
    "                        'weights' : ['uniform', 'distance'],\n",
    "                        'algorithm' : ['auto', 'ball_tree', 'kd_tree', 'brute'],\n",
    "                        'leaf_size' : np.linspace(2, 100, 10, dtype=int)\n",
    "                        }\n",
    "                    ]\n",
    "\n",
    "# specify model\n",
    "\n",
    "# THIS SECTION SHOULD BE CHANGED.\n",
    "# n_neighbors  SHOULD BE MODIFIED TO ANOTHER VALUE DEPENDING ON THE TARGET VALUE.\n",
    "knn_model = KNeighborsClassifier(n_neighbors=len(y_t.unique()))\n",
    "\n",
    "# set up GridSearchCV()\n",
    "knn_model_cv = GridSearchCV(estimator = knn_model, \n",
    "                            param_grid = knn_hyper_params, \n",
    "                            scoring= 'accuracy', \n",
    "                            cv = folds, \n",
    "                            verbose = 2,\n",
    "                            return_train_score=True,\n",
    "                            n_jobs=-1)      "
   ]
  },
  {
   "cell_type": "code",
   "execution_count": 39,
   "metadata": {},
   "outputs": [
    {
     "name": "stdout",
     "output_type": "stream",
     "text": [
      "Fitting 5 folds for each of 80 candidates, totalling 400 fits\n",
      "best hyper parameters {'algorithm': 'auto', 'leaf_size': 12, 'weights': 'distance'}\n"
     ]
    }
   ],
   "source": [
    "# fit the model\n",
    "knn_model_cv.fit(X_train, y_train)\n",
    "print(\"best hyper parameters\", knn_model_cv.best_params_)\n",
    "knn_y_pred = knn_model_cv.predict(X_test)"
   ]
  },
  {
   "cell_type": "code",
   "execution_count": 40,
   "metadata": {},
   "outputs": [
    {
     "name": "stdout",
     "output_type": "stream",
     "text": [
      "Accuracy: 0.4793814432989691\n",
      "F1 score micro: 0.4793814432989691\n",
      "F1 score binary: 0.30344827586206896\n",
      "\n",
      "classification report:\n",
      "               precision    recall  f1-score   support\n",
      "\n",
      "         0.0       0.48      0.74      0.58        96\n",
      "         1.0       0.47      0.22      0.30        98\n",
      "\n",
      "    accuracy                           0.48       194\n",
      "   macro avg       0.48      0.48      0.44       194\n",
      "weighted avg       0.48      0.48      0.44       194\n",
      "\n"
     ]
    }
   ],
   "source": [
    "# accuracy \n",
    "print(\"Accuracy:\", metrics.accuracy_score(y_test, knn_y_pred))\n",
    "# f1 score \n",
    "print(\"F1 score micro:\", f1_score(y_test, knn_y_pred, average='micro'))\n",
    "print(\"F1 score binary:\", f1_score(y_test, knn_y_pred, average='binary'))\n",
    "\n",
    "print(\"\\nclassification report:\\n\", classification_report(y_test, knn_y_pred))"
   ]
  },
  {
   "cell_type": "code",
   "execution_count": 41,
   "metadata": {},
   "outputs": [
    {
     "name": "stdout",
     "output_type": "stream",
     "text": [
      "[learning_curve] Training set sizes: [  3  43  82 122 162 201 241 280 320 360]\n"
     ]
    },
    {
     "name": "stderr",
     "output_type": "stream",
     "text": [
      "[Parallel(n_jobs=-1)]: Using backend LokyBackend with 12 concurrent workers.\n",
      "[Parallel(n_jobs=-1)]: Done  25 out of  50 | elapsed:    0.1s remaining:    0.1s\n",
      "[Parallel(n_jobs=-1)]: Done  50 out of  50 | elapsed:    0.1s finished\n"
     ]
    },
    {
     "data": {
      "image/png": "[encoded data removed]",
      "text/plain": [
       "<Figure size 432x288 with 1 Axes>"
      ]
     },
     "metadata": {
      "needs_background": "light"
     },
     "output_type": "display_data"
    }
   ],
   "source": [
    "# ------ HERE ------\n",
    "\n",
    "# plug in suitable hyper-parameters\n",
    "\n",
    "\n",
    "# 여기만 바꾸면 된다. \n",
    "plot_model = KNeighborsClassifier(algorithm='auto', leaf_size=23, weights='uniform')\n",
    "\n",
    "\n",
    "train_sizes, train_scores, val_scores = learning_curve(plot_model, \n",
    "                                                       X_train, \n",
    "                                                       y_train, \n",
    "                                                       cv=5, \n",
    "                                                       scoring='accuracy', \n",
    "                                                       n_jobs=-1, # 이거 바꾸고 싶으면 바꾸고  \n",
    "                                                       train_sizes=np.linspace(0.01, 1, 10), \n",
    "                                                       verbose=2)\n",
    "# 여기만 바꾸면 된다. \n",
    "\n",
    "\n",
    "train_mean = np.mean(train_scores, axis = 1)\n",
    "train_std = np.std(train_scores, axis=1)\n",
    "val_mean = np.mean(val_scores, axis=1)\n",
    "val_std = np.std(val_scores, axis=1)\n",
    "\n",
    "plt.plot(train_sizes, train_mean, label='Training score')\n",
    "plt.plot(train_sizes, val_mean, label='Cross-validation score')\n",
    "plt.title('Learning curve')\n",
    "plt.xlabel('Training Size')\n",
    "plt.ylabel('Accuracy score')\n",
    "plt.legend(loc='best')\n",
    "plt.show()"
   ]
  },
  {
   "cell_type": "markdown",
   "metadata": {},
   "source": [
    "# Random Forest"
   ]
  },
  {
   "cell_type": "code",
   "execution_count": 42,
   "metadata": {},
   "outputs": [],
   "source": [
    "rf_hyper_params = [ \n",
    "                        {\n",
    "                            'n_estimators' : [int(x) for x in np.linspace(5, 50, 5)],\n",
    "                            'criterion' : ['gini', 'entropy'],\n",
    "                            'max_depth' : [int(x) for x in np.linspace(2, 50, 5)],\n",
    "                            'min_samples_split' : [int(x) for x in np.linspace(2, 50, 5)],\n",
    "                            'min_samples_leaf' : [int(x) for x in np.linspace(2, 50, 5)],\n",
    "                            'max_features' : ['auto', 'sqrt', 'log2'],\n",
    "                            'bootstrap' : [True, False]\n",
    "\n",
    "                        }\n",
    "                    ]\n",
    "\n",
    "# specify model\n",
    "\n",
    "# THIS SECTION SHOULD BE CHANGED.\n",
    "# n_neighbors  SHOULD BE MODIFIED TO ANOTHER VALUE DEPENDING ON THE TARGET VALUE.\n",
    "rf_model = RandomForestClassifier(random_state=1)\n",
    "\n",
    "# set up GridSearchCV()\n",
    "rf_model_cv = GridSearchCV(estimator = rf_model, \n",
    "                            param_grid = rf_hyper_params, \n",
    "                            scoring= 'accuracy', \n",
    "                            cv = folds, \n",
    "                            verbose = 2,\n",
    "                            return_train_score=True,\n",
    "                            n_jobs=-1)      "
   ]
  },
  {
   "cell_type": "code",
   "execution_count": 43,
   "metadata": {},
   "outputs": [
    {
     "name": "stdout",
     "output_type": "stream",
     "text": [
      "Fitting 5 folds for each of 7500 candidates, totalling 37500 fits\n",
      "best hyper parameters {'bootstrap': True, 'criterion': 'gini', 'max_depth': 14, 'max_features': 'auto', 'min_samples_leaf': 2, 'min_samples_split': 2, 'n_estimators': 5}\n"
     ]
    }
   ],
   "source": [
    "# fit the model\n",
    "rf_model_cv.fit(X_train, y_train)\n",
    "print(\"best hyper parameters\", rf_model_cv.best_params_)\n",
    "rf_y_pred = rf_model_cv.predict(X_test)"
   ]
  },
  {
   "cell_type": "code",
   "execution_count": 44,
   "metadata": {},
   "outputs": [
    {
     "name": "stdout",
     "output_type": "stream",
     "text": [
      "Accuracy: 0.4948453608247423\n",
      "F1 score micro: 0.4948453608247423\n",
      "F1 score binary: 0.5288461538461539\n",
      "\n",
      "classification report:\n",
      "               precision    recall  f1-score   support\n",
      "\n",
      "         0.0       0.49      0.43      0.46        96\n",
      "         1.0       0.50      0.56      0.53        98\n",
      "\n",
      "    accuracy                           0.49       194\n",
      "   macro avg       0.49      0.49      0.49       194\n",
      "weighted avg       0.49      0.49      0.49       194\n",
      "\n"
     ]
    }
   ],
   "source": [
    "# accuracy \n",
    "print(\"Accuracy:\", metrics.accuracy_score(y_test, rf_y_pred))\n",
    "# f1 score \n",
    "print(\"F1 score micro:\", f1_score(y_test, rf_y_pred, average='micro'))\n",
    "print(\"F1 score binary:\", f1_score(y_test, rf_y_pred, average='binary'))\n",
    "\n",
    "print(\"\\nclassification report:\\n\", classification_report(y_test, rf_y_pred))"
   ]
  },
  {
   "cell_type": "code",
   "execution_count": 45,
   "metadata": {},
   "outputs": [
    {
     "name": "stdout",
     "output_type": "stream",
     "text": [
      "[learning_curve] Training set sizes: [  3  43  82 122 162 201 241 280 320 360]\n"
     ]
    },
    {
     "name": "stderr",
     "output_type": "stream",
     "text": [
      "[Parallel(n_jobs=-1)]: Using backend LokyBackend with 12 concurrent workers.\n",
      "[Parallel(n_jobs=-1)]: Done  25 out of  50 | elapsed:    0.1s remaining:    0.1s\n",
      "[Parallel(n_jobs=-1)]: Done  50 out of  50 | elapsed:    0.2s finished\n"
     ]
    },
    {
     "data": {
      "image/png": "[encoded data removed]",
      "text/plain": [
       "<Figure size 432x288 with 1 Axes>"
      ]
     },
     "metadata": {
      "needs_background": "light"
     },
     "output_type": "display_data"
    }
   ],
   "source": [
    "# ------ HERE ------\n",
    "\n",
    "# plug in suitable hyper-parameters\n",
    "\n",
    "\n",
    "# 여기만 바꾸면 된다. \n",
    "plot_model = RandomForestClassifier(bootstrap=True, criterion='entropy', max_depth=26, max_features='auto', min_samples_leaf=2, min_samples_split=2, n_estimators=16)\n",
    "\n",
    "train_sizes, train_scores, val_scores = learning_curve(plot_model, \n",
    "                                                       X_train, \n",
    "                                                       y_train, \n",
    "                                                       cv=5, \n",
    "                                                       scoring='accuracy', \n",
    "                                                       n_jobs=-1, # 이거 바꾸고 싶으면 바꾸고  \n",
    "                                                       train_sizes=np.linspace(0.01, 1, 10), \n",
    "                                                       verbose=2)\n",
    "# 여기만 바꾸면 된다. \n",
    "\n",
    "\n",
    "train_mean = np.mean(train_scores, axis = 1)\n",
    "train_std = np.std(train_scores, axis=1)\n",
    "val_mean = np.mean(val_scores, axis=1)\n",
    "val_std = np.std(val_scores, axis=1)\n",
    "\n",
    "plt.plot(train_sizes, train_mean, label='Training score')\n",
    "plt.plot(train_sizes, val_mean, label='Cross-validation score')\n",
    "plt.title('Learning curve')\n",
    "plt.xlabel('Training Size')\n",
    "plt.ylabel('Accuracy score')\n",
    "plt.legend(loc='best')\n",
    "plt.show()"
   ]
  },
  {
   "cell_type": "markdown",
   "metadata": {},
   "source": [
    "# Sampled Learning Curve"
   ]
  },
  {
   "cell_type": "code",
   "execution_count": 46,
   "metadata": {},
   "outputs": [
    {
     "name": "stdout",
     "output_type": "stream",
     "text": [
      "[learning_curve] Training set sizes: [  3  43  82 122 162 201 241 280 320 360]\n",
      "[learning_curve] Training set sizes: [  3  43  82 122 162 201 241 280 320 360]\n",
      "[learning_curve] Training set sizes: [  3  43  82 122 162 201 241 280 320 360]\n",
      "[learning_curve] Training set sizes: [  3  43  82 122 162 201 241 280 320 360]\n"
     ]
    },
    {
     "name": "stderr",
     "output_type": "stream",
     "text": [
      "[Parallel(n_jobs=-1)]: Using backend LokyBackend with 12 concurrent workers.\n",
      "[Parallel(n_jobs=-1)]: Done  25 out of  50 | elapsed:    0.0s remaining:    0.0s\n",
      "[Parallel(n_jobs=-1)]: Done  50 out of  50 | elapsed:    0.1s finished\n",
      "[Parallel(n_jobs=-1)]: Using backend LokyBackend with 12 concurrent workers.\n",
      "[Parallel(n_jobs=-1)]: Done  25 out of  50 | elapsed:    0.0s remaining:    0.0s\n",
      "[Parallel(n_jobs=-1)]: Done  50 out of  50 | elapsed:    0.0s finished\n",
      "[Parallel(n_jobs=-1)]: Using backend LokyBackend with 12 concurrent workers.\n",
      "[Parallel(n_jobs=-1)]: Done  25 out of  50 | elapsed:    0.0s remaining:    0.0s\n",
      "[Parallel(n_jobs=-1)]: Done  50 out of  50 | elapsed:    0.1s finished\n",
      "[Parallel(n_jobs=-1)]: Using backend LokyBackend with 12 concurrent workers.\n",
      "[Parallel(n_jobs=-1)]: Done  25 out of  50 | elapsed:    0.1s remaining:    0.1s\n",
      "[Parallel(n_jobs=-1)]: Done  50 out of  50 | elapsed:    0.1s finished\n"
     ]
    },
    {
     "data": {
      "text/plain": [
       "<matplotlib.legend.Legend at 0x7fb42954dac0>"
      ]
     },
     "execution_count": 46,
     "metadata": {},
     "output_type": "execute_result"
    },
    {
     "data": {
      "image/png": "[encoded data removed]",
      "text/plain": [
       "<Figure size 2016x504 with 4 Axes>"
      ]
     },
     "metadata": {
      "needs_background": "light"
     },
     "output_type": "display_data"
    }
   ],
   "source": [
    "fig, (ax1, ax2, ax3, ax4) = plt.subplots(1, 4, figsize=(28, 7))\n",
    "\n",
    "# SVM\n",
    "plot_model = svm.SVC(kernel='rbf', C=1.0, gamma=0.1)\n",
    "\n",
    "train_sizes, train_scores, val_scores = learning_curve(plot_model, \n",
    "                                                       X_train, \n",
    "                                                       y_train, \n",
    "                                                       cv=5, \n",
    "                                                       scoring='accuracy', \n",
    "                                                       n_jobs=-1, # 이거 바꾸고 싶으면 바꾸고  \n",
    "                                                       train_sizes=np.linspace(0.01, 1, 10), \n",
    "                                                       verbose=2)\n",
    "\n",
    "train_mean = np.mean(train_scores, axis = 1)\n",
    "train_std = np.std(train_scores, axis=1)\n",
    "val_mean = np.mean(val_scores, axis=1)\n",
    "val_std = np.std(val_scores, axis=1)\n",
    "\n",
    "ax1.plot(train_sizes, train_mean, label='Training Accuracy')\n",
    "ax1.plot(train_sizes, val_mean, label='Validation Accuracy')\n",
    "ax1.set_title('SVM Learning curve')\n",
    "ax1.set_xlabel('Training Size')\n",
    "ax1.set_ylabel('Accuracy')\n",
    "\n",
    "# Logistic Regression\n",
    "plot_model = LogisticRegression(C=1.0, multi_class='auto', penalty='l2', solver='liblinear')\n",
    "\n",
    "train_sizes, train_scores, val_scores = learning_curve(plot_model, \n",
    "                                                       X_train, \n",
    "                                                       y_train, \n",
    "                                                       cv=5, \n",
    "                                                       scoring='accuracy', \n",
    "                                                       n_jobs=-1, # 이거 바꾸고 싶으면 바꾸고  \n",
    "                                                       train_sizes=np.linspace(0.01, 1, 10), \n",
    "                                                       verbose=2)\n",
    "\n",
    "train_mean = np.mean(train_scores, axis = 1)\n",
    "train_std = np.std(train_scores, axis=1)\n",
    "val_mean = np.mean(val_scores, axis=1)\n",
    "val_std = np.std(val_scores, axis=1)\n",
    "\n",
    "ax2.plot(train_sizes, train_mean, label='Training Accuracy')\n",
    "ax2.plot(train_sizes, val_mean, label='Validation Accuracy')\n",
    "ax2.set_title('Logistic Regression Learning curve')\n",
    "ax2.set_xlabel('Training Size')\n",
    "ax2.set_ylabel('Accuracy')\n",
    "\n",
    "\n",
    "# KNN\n",
    "plot_model = KNeighborsClassifier(algorithm='auto', leaf_size=23, weights='uniform')\n",
    "\n",
    "\n",
    "train_sizes, train_scores, val_scores = learning_curve(plot_model, \n",
    "                                                       X_train, \n",
    "                                                       y_train, \n",
    "                                                       cv=5, \n",
    "                                                       scoring='accuracy', \n",
    "                                                       n_jobs=-1, # 이거 바꾸고 싶으면 바꾸고  \n",
    "                                                       train_sizes=np.linspace(0.01, 1, 10), \n",
    "                                                       verbose=2)\n",
    "\n",
    "train_mean = np.mean(train_scores, axis = 1)\n",
    "train_std = np.std(train_scores, axis=1)\n",
    "val_mean = np.mean(val_scores, axis=1)\n",
    "val_std = np.std(val_scores, axis=1)\n",
    "\n",
    "ax3.plot(train_sizes, train_mean, label='Training Accuracy')\n",
    "ax3.plot(train_sizes, val_mean, label='Validation Accuracy')\n",
    "ax3.set_title('KNN Learning curve')\n",
    "ax3.set_xlabel('Training Size')\n",
    "ax3.set_ylabel('Accuracy')\n",
    "\n",
    "# Random Forest\n",
    "plot_model = RandomForestClassifier(bootstrap=True, criterion='entropy', max_depth=26, max_features='auto', min_samples_leaf=2, min_samples_split=2, n_estimators=16)\n",
    "\n",
    "train_sizes, train_scores, val_scores = learning_curve(plot_model, \n",
    "                                                       X_train, \n",
    "                                                       y_train, \n",
    "                                                       cv=5, \n",
    "                                                       scoring='accuracy', \n",
    "                                                       n_jobs=-1, # 이거 바꾸고 싶으면 바꾸고  \n",
    "                                                       train_sizes=np.linspace(0.01, 1, 10), \n",
    "                                                       verbose=2)\n",
    "\n",
    "train_mean = np.mean(train_scores, axis = 1)\n",
    "train_std = np.std(train_scores, axis=1)\n",
    "val_mean = np.mean(val_scores, axis=1)\n",
    "val_std = np.std(val_scores, axis=1)\n",
    "\n",
    "ax4.plot(train_sizes, train_mean, label='Training Accuracy')\n",
    "ax4.plot(train_sizes, val_mean, label='Validation Accuracy')\n",
    "ax4.set_title('Random Forest Learning curve')\n",
    "ax4.set_xlabel('Training Size')\n",
    "ax4.set_ylabel('Accuracy')\n",
    "ax4.legend(loc='upper center', bbox_to_anchor=(-1.3, -0.1),\n",
    "          fancybox=True, shadow=True, ncol=2)"
   ]
  }
 ],
 "metadata": {
  "kernelspec": {
   "display_name": "Python 3",
   "language": "python",
   "name": "python3"
  },
  "language_info": {
   "codemirror_mode": {
    "name": "ipython",
    "version": 3
   },
   "file_extension": ".py",
   "mimetype": "text/x-python",
   "name": "python",
   "nbconvert_exporter": "python",
   "pygments_lexer": "ipython3",
   "version": "3.8.5"
  }
 },
 "nbformat": 4,
 "nbformat_minor": 4
}
