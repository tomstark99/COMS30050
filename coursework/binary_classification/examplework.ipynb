{
 "cells": [
  {
   "cell_type": "code",
   "execution_count": 1,
   "metadata": {},
   "outputs": [],
   "source": [
    "import numpy as np\n",
    "import pandas as pd\n",
    "from sklearn import datasets\n",
    "from sklearn.decomposition import KernelPCA\n",
    "import matplotlib.pyplot as plt"
   ]
  },
  {
   "cell_type": "code",
   "execution_count": 2,
   "metadata": {},
   "outputs": [],
   "source": [
    "iris = datasets.load_iris()\n",
    "X = iris.data\n",
    "y = iris.target"
   ]
  },
  {
   "cell_type": "code",
   "execution_count": 3,
   "metadata": {},
   "outputs": [
    {
     "data": {
      "text/plain": [
       "(150, 4)"
      ]
     },
     "execution_count": 3,
     "metadata": {},
     "output_type": "execute_result"
    }
   ],
   "source": [
    "X.shape"
   ]
  },
  {
   "cell_type": "code",
   "execution_count": 4,
   "metadata": {},
   "outputs": [],
   "source": [
    "iris = datasets.load_iris()"
   ]
  },
  {
   "cell_type": "code",
   "execution_count": 5,
   "metadata": {},
   "outputs": [],
   "source": [
    "df_X = pd.DataFrame(iris.data)\n",
    "df_X.columns = ['sepal_len', 'sepal_wid', 'petal_len', 'petal_wid']"
   ]
  },
  {
   "cell_type": "code",
   "execution_count": 6,
   "metadata": {},
   "outputs": [],
   "source": [
    "df_Y = pd.DataFrame(iris.target)\n",
    "df_Y.columns = ['class']"
   ]
  },
  {
   "cell_type": "code",
   "execution_count": 7,
   "metadata": {},
   "outputs": [
    {
     "data": {
      "text/html": [
       "<div>\n",
       "<style scoped>\n",
       "    .dataframe tbody tr th:only-of-type {\n",
       "        vertical-align: middle;\n",
       "    }\n",
       "\n",
       "    .dataframe tbody tr th {\n",
       "        vertical-align: top;\n",
       "    }\n",
       "\n",
       "    .dataframe thead th {\n",
       "        text-align: right;\n",
       "    }\n",
       "</style>\n",
       "<table border=\"1\" class=\"dataframe\">\n",
       "  <thead>\n",
       "    <tr style=\"text-align: right;\">\n",
       "      <th></th>\n",
       "      <th>class</th>\n",
       "    </tr>\n",
       "  </thead>\n",
       "  <tbody>\n",
       "    <tr>\n",
       "      <th>0</th>\n",
       "      <td>0</td>\n",
       "    </tr>\n",
       "    <tr>\n",
       "      <th>1</th>\n",
       "      <td>0</td>\n",
       "    </tr>\n",
       "    <tr>\n",
       "      <th>2</th>\n",
       "      <td>0</td>\n",
       "    </tr>\n",
       "    <tr>\n",
       "      <th>3</th>\n",
       "      <td>0</td>\n",
       "    </tr>\n",
       "    <tr>\n",
       "      <th>4</th>\n",
       "      <td>0</td>\n",
       "    </tr>\n",
       "    <tr>\n",
       "      <th>...</th>\n",
       "      <td>...</td>\n",
       "    </tr>\n",
       "    <tr>\n",
       "      <th>145</th>\n",
       "      <td>2</td>\n",
       "    </tr>\n",
       "    <tr>\n",
       "      <th>146</th>\n",
       "      <td>2</td>\n",
       "    </tr>\n",
       "    <tr>\n",
       "      <th>147</th>\n",
       "      <td>2</td>\n",
       "    </tr>\n",
       "    <tr>\n",
       "      <th>148</th>\n",
       "      <td>2</td>\n",
       "    </tr>\n",
       "    <tr>\n",
       "      <th>149</th>\n",
       "      <td>2</td>\n",
       "    </tr>\n",
       "  </tbody>\n",
       "</table>\n",
       "<p>150 rows × 1 columns</p>\n",
       "</div>"
      ],
      "text/plain": [
       "     class\n",
       "0        0\n",
       "1        0\n",
       "2        0\n",
       "3        0\n",
       "4        0\n",
       "..     ...\n",
       "145      2\n",
       "146      2\n",
       "147      2\n",
       "148      2\n",
       "149      2\n",
       "\n",
       "[150 rows x 1 columns]"
      ]
     },
     "execution_count": 7,
     "metadata": {},
     "output_type": "execute_result"
    }
   ],
   "source": [
    "df_Y"
   ]
  },
  {
   "cell_type": "code",
   "execution_count": 8,
   "metadata": {},
   "outputs": [],
   "source": [
    "df = pd.concat([df_X, df_Y], axis=1)"
   ]
  },
  {
   "cell_type": "code",
   "execution_count": 9,
   "metadata": {},
   "outputs": [
    {
     "data": {
      "text/html": [
       "<div>\n",
       "<style scoped>\n",
       "    .dataframe tbody tr th:only-of-type {\n",
       "        vertical-align: middle;\n",
       "    }\n",
       "\n",
       "    .dataframe tbody tr th {\n",
       "        vertical-align: top;\n",
       "    }\n",
       "\n",
       "    .dataframe thead th {\n",
       "        text-align: right;\n",
       "    }\n",
       "</style>\n",
       "<table border=\"1\" class=\"dataframe\">\n",
       "  <thead>\n",
       "    <tr style=\"text-align: right;\">\n",
       "      <th></th>\n",
       "      <th>sepal_len</th>\n",
       "      <th>sepal_wid</th>\n",
       "      <th>petal_len</th>\n",
       "      <th>petal_wid</th>\n",
       "      <th>class</th>\n",
       "    </tr>\n",
       "  </thead>\n",
       "  <tbody>\n",
       "    <tr>\n",
       "      <th>0</th>\n",
       "      <td>5.1</td>\n",
       "      <td>3.5</td>\n",
       "      <td>1.4</td>\n",
       "      <td>0.2</td>\n",
       "      <td>0</td>\n",
       "    </tr>\n",
       "    <tr>\n",
       "      <th>1</th>\n",
       "      <td>4.9</td>\n",
       "      <td>3.0</td>\n",
       "      <td>1.4</td>\n",
       "      <td>0.2</td>\n",
       "      <td>0</td>\n",
       "    </tr>\n",
       "    <tr>\n",
       "      <th>2</th>\n",
       "      <td>4.7</td>\n",
       "      <td>3.2</td>\n",
       "      <td>1.3</td>\n",
       "      <td>0.2</td>\n",
       "      <td>0</td>\n",
       "    </tr>\n",
       "    <tr>\n",
       "      <th>3</th>\n",
       "      <td>4.6</td>\n",
       "      <td>3.1</td>\n",
       "      <td>1.5</td>\n",
       "      <td>0.2</td>\n",
       "      <td>0</td>\n",
       "    </tr>\n",
       "    <tr>\n",
       "      <th>4</th>\n",
       "      <td>5.0</td>\n",
       "      <td>3.6</td>\n",
       "      <td>1.4</td>\n",
       "      <td>0.2</td>\n",
       "      <td>0</td>\n",
       "    </tr>\n",
       "    <tr>\n",
       "      <th>...</th>\n",
       "      <td>...</td>\n",
       "      <td>...</td>\n",
       "      <td>...</td>\n",
       "      <td>...</td>\n",
       "      <td>...</td>\n",
       "    </tr>\n",
       "    <tr>\n",
       "      <th>145</th>\n",
       "      <td>6.7</td>\n",
       "      <td>3.0</td>\n",
       "      <td>5.2</td>\n",
       "      <td>2.3</td>\n",
       "      <td>2</td>\n",
       "    </tr>\n",
       "    <tr>\n",
       "      <th>146</th>\n",
       "      <td>6.3</td>\n",
       "      <td>2.5</td>\n",
       "      <td>5.0</td>\n",
       "      <td>1.9</td>\n",
       "      <td>2</td>\n",
       "    </tr>\n",
       "    <tr>\n",
       "      <th>147</th>\n",
       "      <td>6.5</td>\n",
       "      <td>3.0</td>\n",
       "      <td>5.2</td>\n",
       "      <td>2.0</td>\n",
       "      <td>2</td>\n",
       "    </tr>\n",
       "    <tr>\n",
       "      <th>148</th>\n",
       "      <td>6.2</td>\n",
       "      <td>3.4</td>\n",
       "      <td>5.4</td>\n",
       "      <td>2.3</td>\n",
       "      <td>2</td>\n",
       "    </tr>\n",
       "    <tr>\n",
       "      <th>149</th>\n",
       "      <td>5.9</td>\n",
       "      <td>3.0</td>\n",
       "      <td>5.1</td>\n",
       "      <td>1.8</td>\n",
       "      <td>2</td>\n",
       "    </tr>\n",
       "  </tbody>\n",
       "</table>\n",
       "<p>150 rows × 5 columns</p>\n",
       "</div>"
      ],
      "text/plain": [
       "     sepal_len  sepal_wid  petal_len  petal_wid  class\n",
       "0          5.1        3.5        1.4        0.2      0\n",
       "1          4.9        3.0        1.4        0.2      0\n",
       "2          4.7        3.2        1.3        0.2      0\n",
       "3          4.6        3.1        1.5        0.2      0\n",
       "4          5.0        3.6        1.4        0.2      0\n",
       "..         ...        ...        ...        ...    ...\n",
       "145        6.7        3.0        5.2        2.3      2\n",
       "146        6.3        2.5        5.0        1.9      2\n",
       "147        6.5        3.0        5.2        2.0      2\n",
       "148        6.2        3.4        5.4        2.3      2\n",
       "149        5.9        3.0        5.1        1.8      2\n",
       "\n",
       "[150 rows x 5 columns]"
      ]
     },
     "execution_count": 9,
     "metadata": {},
     "output_type": "execute_result"
    }
   ],
   "source": [
    "df"
   ]
  },
  {
   "cell_type": "code",
   "execution_count": 10,
   "metadata": {},
   "outputs": [],
   "source": [
    "X = df.iloc[:,0:4].values\n",
    "y = df.iloc[:,4].values"
   ]
  },
  {
   "cell_type": "code",
   "execution_count": 11,
   "metadata": {},
   "outputs": [],
   "source": [
    "def kernel_matrix(x, kernel=None, d=3, sigma=None, C=1.0):\n",
    "    \n",
    "    n = x.shape[0]\n",
    "    \n",
    "    if sigma is None:\n",
    "        sigma = 1.0 / n \n",
    "    \n",
    "    xxt = x.dot(x.T)\n",
    "    \n",
    "    if kernel == 'polynomial':\n",
    "        return (C + xxt)**d"
   ]
  },
  {
   "cell_type": "code",
   "execution_count": 12,
   "metadata": {},
   "outputs": [
    {
     "name": "stdout",
     "output_type": "stream",
     "text": [
      "(150, 150)\n",
      "[[ 70240.512376  57022.169049  55002.062627 ... 143301.984337\n",
      "  145034.127064 118298.461429]\n",
      " [ 57022.169049  46694.890801  44701.078149 ... 121508.031177\n",
      "  122023.936     99961.946721]\n",
      " [ 55002.062627  44701.078149  43095.878216 ... 112748.588191\n",
      "  114084.125     93082.856768]\n",
      " ...\n",
      " [143301.984337 121508.031177 112748.588191 ... 577801.395289\n",
      "  596522.410632 483182.234423]\n",
      " [145034.127064 122023.936    114084.125    ... 596522.410632\n",
      "  623930.478625 501701.826536]\n",
      " [118298.461429  99961.946721  93082.856768 ... 483182.234423\n",
      "  501701.826536 406210.479416]]\n"
     ]
    }
   ],
   "source": [
    "K = kernel_matrix(X, kernel='polynomial', sigma=0.2)\n",
    "print(K.shape)\n",
    "print(K)"
   ]
  },
  {
   "cell_type": "code",
   "execution_count": 13,
   "metadata": {},
   "outputs": [],
   "source": [
    "n = K.shape[0]\n",
    "one_mat = np.repeat(1/n, n**2).reshape(n,n)\n",
    "gram = K - one_mat.dot(K) - K.dot(one_mat) + one_mat.dot(K).dot(one_mat)\n",
    "\n",
    "eigen_vals, eigen_vecs = np.linalg.eigh(gram)"
   ]
  },
  {
   "cell_type": "code",
   "execution_count": 14,
   "metadata": {},
   "outputs": [],
   "source": [
    "eigen_pairs = [(eigen_vals[i], eigen_vecs[:, i]) for i in range(len(eigen_vals))]\n",
    "eigen_pairs.sort(key = lambda x: x[0], reverse=True)"
   ]
  },
  {
   "cell_type": "code",
   "execution_count": 15,
   "metadata": {},
   "outputs": [
    {
     "name": "stdout",
     "output_type": "stream",
     "text": [
      "15101020.30428868\n",
      "[ 8.93625867e-02  9.38761869e-02  9.68298401e-02  9.57335822e-02\n",
      "  9.02780595e-02  7.68073843e-02  9.54639513e-02  8.95906115e-02\n",
      "  9.98902870e-02  9.26257375e-02  8.26510431e-02  9.07314407e-02\n",
      "  9.55747826e-02  1.04358502e-01  8.04520318e-02  7.30359451e-02\n",
      "  8.38607985e-02  8.87873799e-02  7.30248579e-02  8.59420128e-02\n",
      "  8.06374903e-02  8.57710196e-02  1.00386926e-01  8.37386409e-02\n",
      "  8.61978521e-02  8.97664732e-02  8.69089816e-02  8.64405952e-02\n",
      "  8.84326803e-02  9.27992575e-02  9.19419237e-02  8.27643641e-02\n",
      "  8.44424197e-02  8.05767057e-02  9.20947904e-02  9.46669061e-02\n",
      "  8.54241522e-02  9.21176933e-02  1.00739263e-01  8.82490874e-02\n",
      "  9.15917616e-02  1.01535414e-01  1.00100196e-01  8.52740575e-02\n",
      "  7.85325645e-02  9.45710381e-02  8.49297921e-02  9.66743979e-02\n",
      "  8.41276072e-02  9.14689377e-02 -5.84738190e-02 -2.92011832e-02\n",
      " -6.27089853e-02  2.72464776e-02 -3.12194793e-02  1.67031173e-03\n",
      " -3.56477987e-02  5.96243595e-02 -3.34906534e-02  3.29256837e-02\n",
      "  5.63603569e-02  2.91647277e-04  1.75622765e-02 -2.05528102e-02\n",
      "  2.95876503e-02 -3.37342920e-02  1.93604434e-04  1.51995475e-02\n",
      " -9.65658366e-03  2.73085434e-02 -2.61294011e-02  4.94009754e-03\n",
      " -3.08826255e-02 -1.67421572e-02 -1.56860704e-02 -2.87892868e-02\n",
      " -4.87643151e-02 -6.01787084e-02 -1.15544656e-02  3.52960025e-02\n",
      "  3.34891066e-02  3.69756756e-02  1.88472418e-02 -3.12456789e-02\n",
      "  6.36441178e-03 -1.89818482e-02 -4.66395759e-02 -8.43670421e-03\n",
      "  1.45995042e-02  2.52848244e-02  1.40236021e-02 -1.83327078e-02\n",
      "  1.69998799e-02  5.83183334e-02  1.48251794e-02  9.79974571e-03\n",
      "  9.76810745e-03 -9.01677935e-03  6.03160606e-02  1.38057883e-02\n",
      " -1.04190828e-01 -2.79396362e-02 -1.25868183e-01 -6.84147216e-02\n",
      " -9.39982866e-02 -1.90772377e-01  2.40177999e-02 -1.49188319e-01\n",
      " -8.79911197e-02 -1.60916962e-01 -6.36516293e-02 -5.86245637e-02\n",
      " -9.24477692e-02 -1.95139102e-02 -3.59764450e-02 -7.24809515e-02\n",
      " -7.42980248e-02 -2.23117058e-01 -2.09731269e-01 -1.97518008e-02\n",
      " -1.13451283e-01 -1.65117178e-02 -1.95939817e-01 -3.76872986e-02\n",
      " -1.02192094e-01 -1.34220810e-01 -3.16452564e-02 -3.43627617e-02\n",
      " -7.57476699e-02 -1.16855651e-01 -1.43932968e-01 -2.12465580e-01\n",
      " -7.73199408e-02 -4.24953334e-02 -4.97300585e-02 -1.72238510e-01\n",
      " -8.60101958e-02 -7.16042647e-02 -2.70728572e-02 -9.41560772e-02\n",
      " -9.91736713e-02 -8.39436613e-02 -2.79396362e-02 -1.18268661e-01\n",
      " -1.09111488e-01 -7.79248234e-02 -4.00256913e-02 -6.47369066e-02\n",
      " -7.13645294e-02 -3.43528330e-02]\n"
     ]
    }
   ],
   "source": [
    "print(eigen_pairs[0][0]) # 0 번쨰로 큰 eigen vector \n",
    "print(eigen_pairs[0][1]) # 0 번쨰로 큰 eigen values "
   ]
  },
  {
   "cell_type": "code",
   "execution_count": 16,
   "metadata": {},
   "outputs": [
    {
     "data": {
      "text/plain": [
       "KernelPCA(kernel='poly', n_components=3)"
      ]
     },
     "execution_count": 16,
     "metadata": {},
     "output_type": "execute_result"
    }
   ],
   "source": [
    "kpca = KernelPCA(n_components=3, kernel='poly')\n",
    "kpca.fit(X)"
   ]
  },
  {
   "cell_type": "code",
   "execution_count": 17,
   "metadata": {},
   "outputs": [],
   "source": [
    "# sklearn\n",
    "kpca_eigen_vecs = kpca.alphas_\n",
    "\n",
    "# mine \n",
    "eigen_vecs_mine = np.vstack([eigen_pairs[0][1], eigen_pairs[1][1], eigen_pairs[2][1]]).T"
   ]
  },
  {
   "cell_type": "code",
   "execution_count": 18,
   "metadata": {},
   "outputs": [
    {
     "data": {
      "text/plain": [
       "(150, 3)"
      ]
     },
     "execution_count": 18,
     "metadata": {},
     "output_type": "execute_result"
    }
   ],
   "source": [
    "kpca_eigen_vecs.shape"
   ]
  },
  {
   "cell_type": "code",
   "execution_count": 19,
   "metadata": {},
   "outputs": [],
   "source": [
    "assert kpca_eigen_vecs.shape == eigen_vecs_mine.shape"
   ]
  },
  {
   "cell_type": "code",
   "execution_count": 20,
   "metadata": {},
   "outputs": [
    {
     "data": {
      "text/plain": [
       "[<matplotlib.lines.Line2D at 0x7f84434e8580>]"
      ]
     },
     "execution_count": 20,
     "metadata": {},
     "output_type": "execute_result"
    },
    {
     "data": {
      "image/png": "[encoded data removed]",
      "text/plain": [
       "<Figure size 432x288 with 1 Axes>"
      ]
     },
     "metadata": {
      "needs_background": "light"
     },
     "output_type": "display_data"
    }
   ],
   "source": [
    "plt.plot(kpca_eigen_vecs[:,0])"
   ]
  },
  {
   "cell_type": "code",
   "execution_count": 21,
   "metadata": {},
   "outputs": [
    {
     "data": {
      "text/plain": [
       "[<matplotlib.lines.Line2D at 0x7f84433d27f0>]"
      ]
     },
     "execution_count": 21,
     "metadata": {},
     "output_type": "execute_result"
    },
    {
     "data": {
      "image/png": "[encoded data removed]",
      "text/plain": [
       "<Figure size 432x288 with 1 Axes>"
      ]
     },
     "metadata": {
      "needs_background": "light"
     },
     "output_type": "display_data"
    }
   ],
   "source": [
    "plt.plot(eigen_vecs_mine[:,0])"
   ]
  },
  {
   "cell_type": "code",
   "execution_count": 57,
   "metadata": {},
   "outputs": [],
   "source": [
    "n_components = 2\n",
    "\n",
    "transformed_data = []\n",
    "\n",
    "for j in range(n): \n",
    "    loc = np.zeros(n_components)  # 1 by 2 matrix \n",
    "    for k in range(n_components): \n",
    "        inner_prod_sum = 0\n",
    "        for i in range(n):\n",
    "            # eigen_pairs[k][1][i] == i 번째 eigen value \n",
    "            inner_prod_sum += eigen_pairs[k][1][i] * gram[j, i]\n",
    "        loc[k] = inner_prod_sum / np.sqrt(eigen_pairs[k][0])\n",
    "    transformed_data.append(loc)\n",
    "    \n",
    "transformed_data = np.array(transformed_data)"
   ]
  },
  {
   "cell_type": "code",
   "execution_count": 59,
   "metadata": {},
   "outputs": [
    {
     "data": {
      "text/plain": [
       "array([[ 3.47263291e+02,  3.61422714e+01],\n",
       "       [ 3.64803156e+02, -1.17936466e+01],\n",
       "       [ 3.76281061e+02, -1.34263901e+01],\n",
       "       [ 3.72021000e+02, -2.66644394e+01],\n",
       "       [ 3.50820821e+02,  3.49550090e+01],\n",
       "       [ 2.98473735e+02,  9.04326374e+01],\n",
       "       [ 3.70973213e+02, -9.33141978e+00],\n",
       "       [ 3.48149396e+02,  2.09143796e+01],\n",
       "       [ 3.88173968e+02, -4.97523448e+01],\n",
       "       [ 3.59943906e+02, -5.28402316e+00],\n",
       "       [ 3.21182212e+02,  7.68999135e+01],\n",
       "       [ 3.52582662e+02,  5.26136060e+00],\n",
       "       [ 3.71403904e+02, -1.80026768e+01],\n",
       "       [ 4.05537466e+02, -4.93068803e+01],\n",
       "       [ 3.12636847e+02,  1.42335318e+02],\n",
       "       [ 2.83817911e+02,  1.66240117e+02],\n",
       "       [ 3.25883325e+02,  9.16215577e+01],\n",
       "       [ 3.45028036e+02,  3.53619032e+01],\n",
       "       [ 2.83774826e+02,  1.12274402e+02],\n",
       "       [ 3.33970930e+02,  5.68455972e+01],\n",
       "       [ 3.13357539e+02,  5.30522620e+01],\n",
       "       [ 3.33306450e+02,  4.86140482e+01],\n",
       "       [ 3.90103907e+02,  4.10627120e+00],\n",
       "       [ 3.25408620e+02,  1.85048152e+01],\n",
       "       [ 3.34965123e+02,  3.83002510e+00],\n",
       "       [ 3.48832795e+02, -5.54534012e+00],\n",
       "       [ 3.37728574e+02,  1.88995659e+01],\n",
       "       [ 3.35908423e+02,  4.41773033e+01],\n",
       "       [ 3.43649672e+02,  3.73195411e+01],\n",
       "       [ 3.60618205e+02, -1.44098502e+01],\n",
       "       [ 3.57286603e+02, -1.35122330e+01],\n",
       "       [ 3.21622578e+02,  5.21614605e+01],\n",
       "       [ 3.28143507e+02,  9.09394610e+01],\n",
       "       [ 3.13121330e+02,  1.28442519e+02],\n",
       "       [ 3.57880644e+02, -6.03299359e+00],\n",
       "       [ 3.67875893e+02,  8.51244268e+00],\n",
       "       [ 3.31958523e+02,  7.09199776e+01],\n",
       "       [ 3.57969644e+02,  2.75944673e+01],\n",
       "       [ 3.91473092e+02, -4.42326257e+01],\n",
       "       [ 3.42936229e+02,  2.88600885e+01],\n",
       "       [ 3.55925872e+02,  2.75021713e+01],\n",
       "       [ 3.94566936e+02, -7.37477433e+01],\n",
       "       [ 3.88989675e+02, -3.34689900e+01],\n",
       "       [ 3.31375254e+02,  2.40346901e+01],\n",
       "       [ 3.05177791e+02,  5.42648024e+01],\n",
       "       [ 3.67503350e+02, -1.94147684e+01],\n",
       "       [ 3.30037438e+02,  5.73894617e+01],\n",
       "       [ 3.75677013e+02, -2.05519022e+01],\n",
       "       [ 3.26920145e+02,  6.78095082e+01],\n",
       "       [ 3.55448578e+02,  1.45436777e+01],\n",
       "       [-2.27229444e+02,  1.05194274e+02],\n",
       "       [-1.13475889e+02,  4.97899445e+01],\n",
       "       [-2.43687313e+02,  7.25503851e+01],\n",
       "       [ 1.05879897e+02, -7.12096669e+01],\n",
       "       [-1.21318994e+02,  1.73230996e+01],\n",
       "       [ 6.49083662e+00, -3.83122281e+01],\n",
       "       [-1.38527457e+02,  3.98147030e+01],\n",
       "       [ 2.31700448e+02, -7.77546438e+01],\n",
       "       [-1.30144784e+02,  4.09453100e+01],\n",
       "       [ 1.27949310e+02, -6.26369917e+01],\n",
       "       [ 2.19016523e+02, -9.87144435e+01],\n",
       "       [ 1.13334223e+00, -1.32896423e+00],\n",
       "       [ 6.82470616e+01, -3.93447510e+01],\n",
       "       [-7.98682848e+01, -9.02401093e+00],\n",
       "       [ 1.14977702e+02, -1.11502068e+01],\n",
       "       [-1.31091564e+02,  7.52836598e+01],\n",
       "       [ 7.52347437e-01, -3.46113509e+01],\n",
       "       [ 5.90654891e+01, -1.93927301e+01],\n",
       "       [-3.75255143e+01, -5.33004907e+01],\n",
       "       [ 1.06121085e+02, -4.45039481e+01],\n",
       "       [-1.01538935e+02, -1.33609575e+01],\n",
       "       [ 1.91972345e+01,  9.04093072e+00],\n",
       "       [-1.20009979e+02, -3.78946567e+01],\n",
       "       [-6.50600751e+01, -1.26706552e+01],\n",
       "       [-6.09561186e+01,  3.37118111e+01],\n",
       "       [-1.11875259e+02,  5.56212759e+01],\n",
       "       [-1.89498281e+02,  3.91487811e+01],\n",
       "       [-2.33854649e+02,  3.23363695e+01],\n",
       "       [-4.49006894e+01, -1.20274888e+01],\n",
       "       [ 1.37160376e+02, -1.80835599e+01],\n",
       "       [ 1.30138773e+02, -5.52102630e+01],\n",
       "       [ 1.43687591e+02, -5.08077169e+01],\n",
       "       [ 7.32404407e+01, -1.75086059e+01],\n",
       "       [-1.21420806e+02, -5.50727445e+01],\n",
       "       [ 2.47321241e+01, -4.89306098e+01],\n",
       "       [-7.37635213e+01,  2.94057854e+01],\n",
       "       [-1.81241538e+02,  6.09740256e+01],\n",
       "       [-3.27850589e+01, -2.96551873e+01],\n",
       "       [ 5.67337189e+01, -1.73893958e+01],\n",
       "       [ 9.82569067e+01, -5.78229327e+01],\n",
       "       [ 5.44957616e+01, -6.13378138e+01],\n",
       "       [-7.12409600e+01,  3.44278701e+00],\n",
       "       [ 6.60615865e+01, -2.80151673e+01],\n",
       "       [ 2.26625226e+02, -7.78305487e+01],\n",
       "       [ 5.76106934e+01, -4.30313422e+01],\n",
       "       [ 3.80818425e+01, -1.07177002e+01],\n",
       "       [ 3.79588961e+01, -2.06721253e+01],\n",
       "       [-3.50392328e+01,  1.62127479e+01],\n",
       "       [ 2.34388400e+02, -5.57223049e+01],\n",
       "       [ 5.36493364e+01, -2.52726774e+01],\n",
       "       [-4.04885883e+02, -5.15263110e+01],\n",
       "       [-1.08573514e+02, -7.71778116e+01],\n",
       "       [-4.89124153e+02,  1.02540563e+01],\n",
       "       [-2.65859822e+02, -4.41693175e+01],\n",
       "       [-3.65277636e+02, -4.19805931e+01],\n",
       "       [-7.41342054e+02,  1.48802168e+01],\n",
       "       [ 9.33332455e+01, -1.16428155e+02],\n",
       "       [-5.79746273e+02,  5.05592047e+00],\n",
       "       [-3.41933766e+02, -5.96790759e+01],\n",
       "       [-6.25323816e+02,  6.27920796e+01],\n",
       "       [-2.47350431e+02,  2.01686088e+01],\n",
       "       [-2.27815238e+02, -4.22013140e+01],\n",
       "       [-3.59252320e+02,  4.48774256e+00],\n",
       "       [-7.58311160e+01, -9.69748848e+01],\n",
       "       [-1.39804578e+02, -8.28788632e+01],\n",
       "       [-2.81661204e+02, -7.69818452e+00],\n",
       "       [-2.88722357e+02, -1.28941697e+01],\n",
       "       [-8.67033584e+02,  1.19858950e+02],\n",
       "       [-8.15016369e+02, -5.44344008e+01],\n",
       "       [-7.67555596e+01, -8.70939686e+01],\n",
       "       [-4.40872042e+02,  1.71679610e+01],\n",
       "       [-6.41645871e+01, -7.70403687e+01],\n",
       "       [-7.61422742e+02, -1.99268283e+00],\n",
       "       [-1.46452960e+02, -2.87930142e+01],\n",
       "       [-3.97118797e+02,  1.54505272e+01],\n",
       "       [-5.21582486e+02,  4.80134747e+01],\n",
       "       [-1.22973566e+02, -2.38173895e+01],\n",
       "       [-1.33533799e+02, -1.86731499e+01],\n",
       "       [-2.94355682e+02, -5.46884845e+01],\n",
       "       [-4.54101426e+02,  4.40228074e+01],\n",
       "       [-5.59323962e+02,  1.26918607e+01],\n",
       "       [-8.25641910e+02,  1.76235458e+02],\n",
       "       [-3.00465532e+02, -5.78775659e+01],\n",
       "       [-1.65136998e+02, -2.05823908e+01],\n",
       "       [-1.93251163e+02, -7.35691899e+01],\n",
       "       [-6.69319389e+02,  5.21991539e+01],\n",
       "       [-3.34235890e+02, -1.57191023e+01],\n",
       "       [-2.78254396e+02, -1.19617375e+01],\n",
       "       [-1.05205208e+02, -2.25550860e+01],\n",
       "       [-3.65890811e+02,  2.98089315e+01],\n",
       "       [-3.85389197e+02, -9.99970887e+00],\n",
       "       [-3.26205330e+02,  3.88252613e+01],\n",
       "       [-1.08573514e+02, -7.71778116e+01],\n",
       "       [-4.59592386e+02, -4.15045304e+00],\n",
       "       [-4.24007585e+02,  1.65740108e+00],\n",
       "       [-3.02816107e+02,  4.54727951e+00],\n",
       "       [-1.55539962e+02, -5.30684835e+01],\n",
       "       [-2.51567822e+02, -4.12359471e+00],\n",
       "       [-2.77322785e+02, -1.09260463e+01],\n",
       "       [-1.33495216e+02, -4.30261499e+01]])"
      ]
     },
     "execution_count": 59,
     "metadata": {},
     "output_type": "execute_result"
    }
   ],
   "source": [
    "transformed_data"
   ]
  },
  {
   "cell_type": "code",
   "execution_count": 58,
   "metadata": {},
   "outputs": [
    {
     "data": {
      "image/png": "[encoded data removed]",
      "text/plain": [
       "<Figure size 432x288 with 1 Axes>"
      ]
     },
     "metadata": {
      "needs_background": "light"
     },
     "output_type": "display_data"
    }
   ],
   "source": [
    "for l in zip(label):\n",
    "    plt.scatter(transformed_data[y==l, 0], transformed_data[y==l, 1], label=l)"
   ]
  },
  {
   "cell_type": "code",
   "execution_count": null,
   "metadata": {},
   "outputs": [],
   "source": []
  },
  {
   "cell_type": "code",
   "execution_count": null,
   "metadata": {},
   "outputs": [],
   "source": []
  }
 ],
 "metadata": {
  "kernelspec": {
   "display_name": "Python 3",
   "language": "python",
   "name": "python3"
  },
  "language_info": {
   "codemirror_mode": {
    "name": "ipython",
    "version": 3
   },
   "file_extension": ".py",
   "mimetype": "text/x-python",
   "name": "python",
   "nbconvert_exporter": "python",
   "pygments_lexer": "ipython3",
   "version": "3.8.5"
  }
 },
 "nbformat": 4,
 "nbformat_minor": 4
}
