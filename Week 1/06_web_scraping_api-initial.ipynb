{
 "cells": [
  {
   "cell_type": "markdown",
   "metadata": {},
   "source": [
    "# The Guardian API\n",
    "\n",
    "In the `05_web_scraping_beautiful_soup.ipynb` notebook, we saw examples on how BeautifulSoup can be used \n",
    "to parse messy HTML, to extract information, and to act as a rudimentary web crawler. \n",
    "We used The Guardian as an illustrative example about how this can be achieved. \n",
    "The reason for choosing The Guardian was because they provide a REST API to their servers. \n",
    "With the REST API it is possible to perform specific queries on their servers, and to receive \n",
    "current information from their servers according to their API guide (ie in JSON)\n",
    "\n",
    "http://open-platform.theguardian.com/\n",
    "\n",
    "In order to use their API, you will need to register for an API key. \n",
    "At the time of writing (Jan 28, 2020) this was an automated process that can be completed at \n",
    "\n",
    "https://bonobo.capi.gutools.co.uk/register/developer\n",
    "\n",
    "On registration you will receive an API key which will look like: 303qwe2k-xxxx-xxxx-xxxx-eff86a248059\n",
    "\n",
    "The API is documented here: \n",
    "\n",
    "http://open-platform.theguardian.com/documentation/\n",
    "\n",
    "and Python bindings to their API are provided by The Guardian here\n",
    "\n",
    "https://github.com/prabhath6/theguardian-api-python\n",
    "\n",
    "and these can easily be integrated into a web-crawler based on API calls, rather than being based \n",
    "on HTML parsing, etc. \n",
    "\n",
    "We use four parameters in our queries here: \n",
    "\n",
    "1. `section`: the section of the newspaper that we are interested in querying. In this case we will look at \n",
    "the technology section \n",
    "\n",
    "2. `order-by`: We have specified that the newest items should be closer to the front of the query list \n",
    "\n",
    "3. `api-key`: In this notebook, the api-key is left as `test` (works here), but for *real* deployment of such a spider an API key obtained from Guardian should be specified. For the lab tasks, you should replace `test` API key with your personal API key. \n",
    "\n",
    "4. `page-size`: The number of results to return. "
   ]
  },
  {
   "cell_type": "code",
   "execution_count": 40,
   "metadata": {},
   "outputs": [],
   "source": [
    "from __future__ import print_function\n",
    "\n",
    "import requests \n",
    "import json \n",
    "\n",
    "from bs4 import BeautifulSoup"
   ]
  },
  {
   "cell_type": "markdown",
   "metadata": {},
   "source": [
    "# Inspect all sections and search for technology-based sections"
   ]
  },
  {
   "cell_type": "code",
   "execution_count": 4,
   "metadata": {},
   "outputs": [],
   "source": [
    "# base url, setting section to technology\n",
    "url = 'https://content.guardianapis.com/search?api-key=cb2b9a64-0ab6-43a0-911f-3ee88d36c18e&section=technology'\n",
    "req = requests.get(url)\n",
    "src = req.text "
   ]
  },
  {
   "cell_type": "code",
   "execution_count": 6,
   "metadata": {
    "scrolled": true
   },
   "outputs": [
    {
     "data": {
      "text/plain": [
       "'ok'"
      ]
     },
     "execution_count": 6,
     "metadata": {},
     "output_type": "execute_result"
    }
   ],
   "source": [
    "json.loads(src)['response']['status']"
   ]
  },
  {
   "cell_type": "code",
   "execution_count": 7,
   "metadata": {},
   "outputs": [
    {
     "name": "stdout",
     "output_type": "stream",
     "text": [
      "dict_keys(['status', 'userTier', 'total', 'startIndex', 'pageSize', 'currentPage', 'pages', 'orderBy', 'results'])\n"
     ]
    }
   ],
   "source": [
    "sections = json.loads(src)['response']\n",
    "print(sections.keys())"
   ]
  },
  {
   "cell_type": "code",
   "execution_count": 11,
   "metadata": {},
   "outputs": [
    {
     "name": "stdout",
     "output_type": "stream",
     "text": [
      "53931 10 5394\n"
     ]
    }
   ],
   "source": [
    "# Task 6\n",
    "\n",
    "print(sections['total'],sections['pageSize'],sections['pages'])"
   ]
  },
  {
   "cell_type": "code",
   "execution_count": 8,
   "metadata": {},
   "outputs": [
    {
     "name": "stdout",
     "output_type": "stream",
     "text": [
      "{\n",
      "  \"apiUrl\": \"https://content.guardianapis.com/technology/2021/feb/04/facebook-groups-misinformation\",\n",
      "  \"id\": \"technology/2021/feb/04/facebook-groups-misinformation\",\n",
      "  \"isHosted\": false,\n",
      "  \"pillarId\": \"pillar/news\",\n",
      "  \"pillarName\": \"News\",\n",
      "  \"sectionId\": \"technology\",\n",
      "  \"sectionName\": \"Technology\",\n",
      "  \"type\": \"article\",\n",
      "  \"webPublicationDate\": \"2021-02-04T11:00:33Z\",\n",
      "  \"webTitle\": \"'It let white supremacists organize': the toxic legacy of Facebook's Groups\",\n",
      "  \"webUrl\": \"https://www.theguardian.com/technology/2021/feb/04/facebook-groups-misinformation\"\n",
      "}\n"
     ]
    }
   ],
   "source": [
    "# EXTRA USEFUL CODE, ALREADY HERE\n",
    "\n",
    "print(json.dumps(sections['results'][0], indent=2, sort_keys=True))"
   ]
  },
  {
   "cell_type": "code",
   "execution_count": 6,
   "metadata": {},
   "outputs": [
    {
     "name": "stdout",
     "output_type": "stream",
     "text": [
      "Technology https://content.guardianapis.com/technology\n"
     ]
    }
   ],
   "source": [
    "# EXTRA USEFUL CODE, ALREADY HERE\n",
    "\n",
    "for result in sections['results']: \n",
    "    if 'tech' in result['id'].lower(): \n",
    "        print(result['webTitle'], result['apiUrl'])"
   ]
  },
  {
   "cell_type": "markdown",
   "metadata": {},
   "source": [
    "# Manual query on whole API"
   ]
  },
  {
   "cell_type": "code",
   "execution_count": 17,
   "metadata": {},
   "outputs": [
    {
     "name": "stdout",
     "output_type": "stream",
     "text": [
      "34\n"
     ]
    }
   ],
   "source": [
    "# Specify the arguments\n",
    "\n",
    "# Task 7: News stories about a specific topic\n",
    "\n",
    "args = {\n",
    "    'section': 'technology', \n",
    "    'order-by': 'newest', \n",
    "    'api-key': 'cb2b9a64-0ab6-43a0-911f-3ee88d36c18e', \n",
    "    'page-size': '100',\n",
    "    'q' : 'privacy%20AND%20signal%20AND%20whatsapp%20AND%20NOT%20ai%20AND%20NOT%20artificial%20intelligence'\n",
    "}\n",
    "\n",
    "# Construct the URL\n",
    "base_url = 'http://content.guardianapis.com/search'\n",
    "url = '{}?{}'.format(\n",
    "    base_url, \n",
    "    '&'.join([\"{}={}\".format(kk, vv) for kk, vv in args.items()])\n",
    ")\n",
    "\n",
    "# Make the request and extract the source\n",
    "req = requests.get(url) \n",
    "src = req.text\n",
    "\n",
    "sections = json.loads(src)['response']\n",
    "\n",
    "print(sections['total'])"
   ]
  },
  {
   "cell_type": "code",
   "execution_count": 27,
   "metadata": {},
   "outputs": [
    {
     "name": "stdout",
     "output_type": "stream",
     "text": [
      "http://content.guardianapis.com/search?ids=technology/2021/jan/26/uk-regulator-to-write-to-whatsapp-over-facebook-data-sharing&api-key=cb2b9a64-0ab6-43a0-911f-3ee88d36c18e&show-fields=headline,body\n"
     ]
    }
   ],
   "source": [
    "# Task 8\n",
    "\n",
    "i = 0\n",
    "\n",
    "article = sections['results'][i]\n",
    "\n",
    "api_key = 'cb2b9a64-0ab6-43a0-911f-3ee88d36c18e'\n",
    "\n",
    "api_url = article['apiUrl']\n",
    "api_id = article['id']\n",
    "\n",
    "search_string = \"ids=%s&api-key=%s&show-fields=headline,body\" %(api_id, api_key)\n",
    "\n",
    "url = base_url + '?' + search_string\n",
    "\n",
    "print(url)"
   ]
  },
  {
   "cell_type": "code",
   "execution_count": 41,
   "metadata": {},
   "outputs": [
    {
     "name": "stdout",
     "output_type": "stream",
     "text": [
      "The UK’s data regulator is writing to WhatsApp to demand that the chat app does not hand user data to Facebook, as millions worldwide continue to sign up for alternatives such as Signal and Telegram to avoid forthcoming changes to its terms of service. Elizabeth Denham, the information commissioner, told a parliamentary committee that in 2017, WhatsApp had committed not to hand any user information over to Facebook until it could prove that doing so respected GDPR. But, she said, that agreement was enforced by the Irish data protection authority until the Brexit transition period ended on 1 January. Now that Britain is fully outside the EU, ensuring that those promises are being kept falls to the Information Commissioner’s Office. “The change in the terms of service, and the requirement of users to share information with Facebook, does not apply to UK users or to users in the EU,” Denham told the digital, culture, media and sport sub-committee on online harms and disinformation, “and that’s because in 2017 my office negotiated with WhatsApp so that they agreed not to share user information and contact information until they could show that they complied with the GDPR.” Asked by the committee chair whether there was any more recent agreement than the 2017 one, however, Denham said there was not. “Up until 1 January, it was the Irish data protection authority’s job to oversee the activity of WhatsApp. As long as we were in the transition period, the one-stop-shop meant it was my Irish colleague who was responsible for WhatsApp. That’s changed now.” The information commissioner also revealed that she uses Signal, a privacy-focused competitor to WhatsApp, for her personal messaging, and does not have an account with either Facebook or WhatsApp. “What’s really interesting about WhatsApp’s announcement on its ongoing sharing with Facebook is how many users voted with their virtual feet and left the platform to take up membership with Telegram or Signal,” she added. “Users expect companies to maintain their trust and not to suddenly change the contract that they have with the users, and I think it’s an example of users being concerned about the trustworthiness and the sustainability of the promises made to users.”   Related: Should you keep using WhatsApp? Plus five tips to start the year with your digital privacy intact   The user exodus from WhatsApp began in early July, when the company announced plans to implement a new privacy policy on 8 February. Those plans, which have now been delayed to early summer, caused substantial panic among the app’s users. Some of the concern was around changes that explicitly spelled out, for the first time, the existing data-sharing arrangements between WhatsApp and Facebook outside the “European region”, which includes the EU and UK. Others were concerned by misinformation, ironically spread on WhatsApp itself, that the new terms of service would allow Facebook to read user messages. That is not the case – the end-to-end encryption applied by WhatsApp prevents Facebook from accessing message contents even if it desired, but the claim spread far enough for WhatsApp to buy advertising declaring: “Neither WhatsApp nor Facebook can read your messages or hear your calls.” Signal and Telegram, the two big beneficiaries of the panic, have added millions of users each in the first three weeks of January. Signal, which was not in the top 1,000 apps in Britain at the beginning of the year, spent several days as the most downloaded app in the country, and has gained 7.5 million users globally.\n"
     ]
    }
   ],
   "source": [
    "req = requests.get(url) \n",
    "src = req.text\n",
    "\n",
    "article = json.loads(src)['response']['results'][0]\n",
    "\n",
    "body = article['fields']['body']\n",
    "\n",
    "cleantext = BeautifulSoup(body, \"lxml\").text\n",
    "\n",
    "print(cleantext)"
   ]
  },
  {
   "cell_type": "code",
   "execution_count": 91,
   "metadata": {},
   "outputs": [
    {
     "name": "stdout",
     "output_type": "stream",
     "text": [
      "                   0   1\n",
      "0                The   4\n",
      "1                 UK   3\n",
      "2                  s   9\n",
      "3               data   5\n",
      "4          regulator   1\n",
      "5                 is   4\n",
      "6            writing   1\n",
      "7                 to  25\n",
      "8           WhatsApp  15\n",
      "9             demand   1\n",
      "10              that  13\n",
      "11               the  43\n",
      "12              chat   1\n",
      "13               app   3\n",
      "14              does   3\n",
      "15               not   9\n",
      "16              hand   2\n",
      "17              user   5\n",
      "18          Facebook   9\n",
      "19                as   4\n",
      "20          millions   2\n",
      "21         worldwide   1\n",
      "22          continue   1\n",
      "23              sign   1\n",
      "24                up   2\n",
      "25               for   5\n",
      "26      alternatives   1\n",
      "27              such   1\n",
      "28            Signal   5\n",
      "29               and  15\n",
      "30          Telegram   3\n",
      "31             avoid   1\n",
      "32       forthcoming   1\n",
      "33           changes   2\n",
      "34               its   2\n",
      "35             terms   3\n",
      "36                of  12\n",
      "37           service   3\n",
      "38         Elizabeth   1\n",
      "39            Denham   3\n",
      "40       information   6\n",
      "41      commissioner   2\n",
      "42              told   2\n",
      "43                 a   3\n",
      "44     parliamentary   1\n",
      "45         committee   3\n",
      "46                in  10\n",
      "47               had   1\n",
      "48         committed   1\n",
      "49               any   2\n",
      "50              over   1\n",
      "51             until   4\n",
      "52                it   5\n",
      "53             could   2\n",
      "54             prove   1\n",
      "55             doing   1\n",
      "56                so   2\n",
      "57         respected   1\n",
      "58              GDPR   2\n",
      "59               But   1\n",
      "60               she   3\n",
      "61              said   2\n",
      "62         agreement   2\n",
      "63               was   8\n",
      "64          enforced   1\n",
      "65                by   4\n",
      "66             Irish   3\n",
      "67        protection   2\n",
      "68         authority   2\n",
      "69            Brexit   1\n",
      "70        transition   2\n",
      "71            period   2\n",
      "72             ended   1\n",
      "73                on   5\n",
      "74           January   3\n",
      "75               Now   1\n",
      "76           Britain   2\n",
      "77             fully   1\n",
      "78           outside   2\n",
      "79                EU   3\n",
      "80          ensuring   1\n",
      "81             those   1\n",
      "82          promises   2\n",
      "83               are   1\n",
      "84             being   2\n",
      "85              kept   1\n",
      "86             falls   1\n",
      "87       Information   1\n",
      "88      Commissioner   1\n",
      "89            Office   1\n",
      "90            change   2\n",
      "91       requirement   1\n",
      "92             users  10\n",
      "93             share   2\n",
      "94              with   9\n",
      "95             apply   1\n",
      "96                or   4\n",
      "97           digital   2\n",
      "98           culture   1\n",
      "99             media   1\n",
      "100            sport   1\n",
      "101              sub   1\n",
      "102           online   1\n",
      "103            harms   1\n",
      "104   disinformation   1\n",
      "105          because   1\n",
      "106               my   2\n",
      "107           office   1\n",
      "108       negotiated   1\n",
      "109             they   4\n",
      "110           agreed   1\n",
      "111          contact   1\n",
      "112             show   1\n",
      "113         complied   1\n",
      "114            Asked   1\n",
      "115            chair   1\n",
      "116          whether   1\n",
      "117            there   2\n",
      "118             more   1\n",
      "119           recent   1\n",
      "120             than   1\n",
      "121              one   2\n",
      "122          however   1\n",
      "123               Up   1\n",
      "124              job   1\n",
      "125          oversee   1\n",
      "126         activity   1\n",
      "127               As   1\n",
      "128             long   1\n",
      "129               we   1\n",
      "130             were   2\n",
      "131             stop   1\n",
      "132             shop   1\n",
      "133            meant   1\n",
      "134        colleague   1\n",
      "135              who   1\n",
      "136      responsible   1\n",
      "137             That   2\n",
      "138          changed   1\n",
      "139              now   2\n",
      "140             also   1\n",
      "141         revealed   1\n",
      "142             uses   1\n",
      "143          privacy   3\n",
      "144          focused   1\n",
      "145       competitor   1\n",
      "146              her   1\n",
      "147         personal   1\n",
      "148        messaging   1\n",
      "149             have   4\n",
      "150               an   2\n",
      "151          account   1\n",
      "152           either   1\n",
      "153             What   1\n",
      "154           really   1\n",
      "155      interesting   1\n",
      "156            about   2\n",
      "157     announcement   1\n",
      "158          ongoing   1\n",
      "159          sharing   2\n",
      "160              how   1\n",
      "161             many   1\n",
      "162            voted   1\n",
      "163            their   2\n",
      "164          virtual   1\n",
      "165             feet   1\n",
      "166             left   1\n",
      "167         platform   1\n",
      "168             take   1\n",
      "169       membership   1\n",
      "170            added   2\n",
      "171            Users   1\n",
      "172           expect   1\n",
      "173        companies   1\n",
      "174         maintain   1\n",
      "175            trust   1\n",
      "176         suddenly   1\n",
      "177         contract   1\n",
      "178                I   1\n",
      "179            think   1\n",
      "180          example   1\n",
      "181        concerned   2\n",
      "182  trustworthiness   1\n",
      "183   sustainability   1\n",
      "184             made   1\n",
      "185          Related   1\n",
      "186           Should   1\n",
      "187              you   1\n",
      "188             keep   1\n",
      "189            using   1\n",
      "190             Plus   1\n",
      "191             five   1\n",
      "192             tips   1\n",
      "193            start   1\n",
      "194             year   2\n",
      "195             your   3\n",
      "196           intact   1\n",
      "197           exodus   1\n",
      "198             from   2\n",
      "199            began   1\n",
      "200            early   2\n",
      "201             July   1\n",
      "202             when   1\n",
      "203          company   1\n",
      "204        announced   1\n",
      "205            plans   2\n",
      "206        implement   1\n",
      "207              new   2\n",
      "208           policy   1\n",
      "209         February   1\n",
      "210            Those   1\n",
      "211            which   3\n",
      "212             been   1\n",
      "213          delayed   1\n",
      "214           summer   1\n",
      "215           caused   1\n",
      "216      substantial   1\n",
      "217            panic   2\n",
      "218            among   1\n",
      "219             Some   1\n",
      "220          concern   1\n",
      "221           around   1\n",
      "222       explicitly   1\n",
      "223          spelled   1\n",
      "224              out   1\n",
      "225            first   2\n",
      "226             time   1\n",
      "227         existing   1\n",
      "228     arrangements   1\n",
      "229          between   1\n",
      "230         European   1\n",
      "231           region   1\n",
      "232         includes   1\n",
      "233           Others   1\n",
      "234   misinformation   1\n",
      "235       ironically   1\n",
      "236           spread   2\n",
      "237           itself   1\n",
      "238            would   1\n",
      "239            allow   1\n",
      "240             read   2\n",
      "241         messages   2\n",
      "242             case   1\n",
      "243              end   2\n",
      "244       encryption   1\n",
      "245          applied   1\n",
      "246         prevents   1\n",
      "247        accessing   1\n",
      "248          message   1\n",
      "249         contents   1\n",
      "250             even   1\n",
      "251               if   1\n",
      "252          desired   1\n",
      "253              but   1\n",
      "254            claim   1\n",
      "255              far   1\n",
      "256           enough   1\n",
      "257              buy   1\n",
      "258      advertising   1\n",
      "259        declaring   1\n",
      "260          Neither   1\n",
      "261              nor   1\n",
      "262              can   1\n",
      "263             hear   1\n",
      "264            calls   1\n",
      "265              two   1\n",
      "266              big   1\n",
      "267    beneficiaries   1\n",
      "268             each   1\n",
      "269            three   1\n",
      "270            weeks   1\n",
      "271              top   1\n",
      "272             apps   1\n",
      "273               at   1\n",
      "274        beginning   1\n",
      "275            spent   1\n",
      "276          several   1\n",
      "277             days   1\n",
      "278             most   1\n",
      "279       downloaded   1\n",
      "280          country   1\n",
      "281              has   1\n",
      "282           gained   1\n",
      "283          million   1\n",
      "284         globally   1\n",
      "591 285\n",
      "584 304\n",
      "584 304\n",
      "Number of byes received: 4864\n"
     ]
    }
   ],
   "source": [
    "import re\n",
    "import pandas as pd\n",
    "pd.set_option(\"display.max_rows\", None, \"display.max_columns\", None)\n",
    "from collections import Counter\n",
    "d = dict(Counter(words))\n",
    "df = pd.DataFrame(d.items())\n",
    "import string\n",
    "\n",
    "print(df)\n",
    "\n",
    "words = re.findall(\"[a-zA-Z_]+\", cleantext)\n",
    "\n",
    "words2 = re.sub('['+string.punctuation+']', '', cleantext).split()\n",
    "\n",
    "words3 = [i.strip(string.punctuation) for i in cleantext.split()]\n",
    "\n",
    "\n",
    "print(len(words),len(set(words)))\n",
    "print(len(words2),len(set(words2)))\n",
    "print(len(words3),len(set(words3)))\n",
    "\n",
    "print('Number of byes received:', len(src))"
   ]
  },
  {
   "cell_type": "markdown",
   "metadata": {},
   "source": [
    "The API returns JSON, so we parse this using the in-built JSON library. \n",
    "The API specifies that all data are returned within the `response` key, even under failure. \n",
    "Thereofre, I have immediately descended to the response field "
   ]
  },
  {
   "cell_type": "markdown",
   "metadata": {},
   "source": [
    "# Parsing the JSON"
   ]
  },
  {
   "cell_type": "code",
   "execution_count": 9,
   "metadata": {},
   "outputs": [
    {
     "name": "stdout",
     "output_type": "stream",
     "text": [
      "The following are available:\n",
      "  ['currentPage', 'orderBy', 'pageSize', 'pages', 'results', 'startIndex', 'status', 'total', 'userTier']\n"
     ]
    }
   ],
   "source": [
    "response = json.loads(src)['response']\n",
    "print('The following are available:\\n ', sorted(response.keys()))"
   ]
  },
  {
   "cell_type": "markdown",
   "metadata": {},
   "source": [
    "# Verifying the status code\n",
    "\n",
    "It is important to verify that the status message is `ok` before continuing - if it is not `ok` no 'real' data \n",
    "will have been received. "
   ]
  },
  {
   "cell_type": "code",
   "execution_count": 10,
   "metadata": {},
   "outputs": [],
   "source": [
    "assert response['status'] == 'ok'"
   ]
  },
  {
   "cell_type": "markdown",
   "metadata": {},
   "source": [
    "# Listing the results \n",
    "\n",
    "The API standard states that the results will be found in the `results` field under the `response` field. \n",
    "Furthermore, the URLs will be found in the `webUrl` field, and the title will be found in the `webTitle` \n",
    "field. \n",
    "\n",
    "First let's look to see what a single result looks like in full, and then I will print a restricted \n",
    "set of parameters on the full set of results ."
   ]
  },
  {
   "cell_type": "code",
   "execution_count": 11,
   "metadata": {},
   "outputs": [
    {
     "name": "stdout",
     "output_type": "stream",
     "text": [
      "{\n",
      "  \"apiUrl\": \"https://content.guardianapis.com/technology/2021/jan/27/facebook-earnings-stocks-revenue-fourth-quarter\",\n",
      "  \"id\": \"technology/2021/jan/27/facebook-earnings-stocks-revenue-fourth-quarter\",\n",
      "  \"isHosted\": false,\n",
      "  \"pillarId\": \"pillar/news\",\n",
      "  \"pillarName\": \"News\",\n",
      "  \"sectionId\": \"technology\",\n",
      "  \"sectionName\": \"Technology\",\n",
      "  \"type\": \"article\",\n",
      "  \"webPublicationDate\": \"2021-01-27T22:12:01Z\",\n",
      "  \"webTitle\": \"Facebook CEO Mark Zuckerberg says platform will halt political suggestions\",\n",
      "  \"webUrl\": \"https://www.theguardian.com/technology/2021/jan/27/facebook-earnings-stocks-revenue-fourth-quarter\"\n",
      "}\n"
     ]
    }
   ],
   "source": [
    "print(json.dumps(response['results'][0], indent=2, sort_keys=True))"
   ]
  },
  {
   "cell_type": "code",
   "execution_count": 12,
   "metadata": {},
   "outputs": [
    {
     "name": "stdout",
     "output_type": "stream",
     "text": [
      "https://www.theguardian.com/technology/2021/jan/27/facebook-earnings-s Facebook CEO Mark Zu\n",
      "https://www.theguardian.com/technology/2021/jan/26/uk-regulator-to-wri UK regulator to writ\n",
      "https://www.theguardian.com/technology/2021/jan/26/grindr-fined-norway Grindr fined £8.6m i\n",
      "https://www.theguardian.com/technology/2021/jan/25/google-announces-pl Google announces pla\n",
      "https://www.theguardian.com/technology/2021/jan/24/whatsapp-loses-mill WhatsApp loses milli\n",
      "https://www.theguardian.com/technology/2021/jan/24/is-it-time-to-leave Is it time to leave \n",
      "https://www.theguardian.com/technology/2021/jan/21/samsung-galaxy-s21- Samsung Galaxy S21 U\n",
      "https://www.theguardian.com/technology/2021/jan/21/facebook-admits-enc Facebook admits encr\n",
      "https://www.theguardian.com/technology/2021/jan/20/facebook-under-pres Facebook under press\n",
      "https://www.theguardian.com/technology/2021/jan/19/facebook-asks-to-ap Facebook claims it d\n",
      "https://www.theguardian.com/technology/2021/jan/16/should-you-keep-usi Should you keep usin\n",
      "https://www.theguardian.com/technology/2021/jan/14/one-third-of-austra One third of Austral\n",
      "https://www.theguardian.com/technology/2020/dec/23/amazon-ring-camera- Dozens sue Amazon's \n",
      "https://www.theguardian.com/technology/2020/dec/20/iphones-vulnerable- iPhones vulnerable t\n",
      "https://www.theguardian.com/technology/2020/dec/18/pinterest-gender-di Pinterest's $22m set\n",
      "https://www.theguardian.com/technology/2020/dec/17/us-government-cyber Hacking campaign tar\n",
      "https://www.theguardian.com/technology/2020/dec/17/google-antitrust-la More than 30 US stat\n",
      "https://www.theguardian.com/technology/2020/dec/16/facebooks-attempt-t Facebook's attempt t\n",
      "https://www.theguardian.com/technology/2020/dec/10/facebook-lawsuits-t Facebook lawsuits: t\n",
      "https://www.theguardian.com/technology/2020/dec/08/facebook-antitrust- Facebook faces antit\n",
      "https://www.theguardian.com/technology/2020/dec/08/zuckerberg-threaten Zuckerberg threatene\n",
      "https://www.theguardian.com/technology/2020/dec/07/amazon-echo-2020-re Amazon Echo 2020 rev\n",
      "https://www.theguardian.com/technology/2020/dec/02/microsoft-apologise Microsoft apologises\n",
      "https://www.theguardian.com/technology/2020/nov/26/international-campa Yanis Varoufakis cal\n",
      "https://www.theguardian.com/technology/2020/nov/26/microsoft-productiv Microsoft productivi\n",
      "https://www.theguardian.com/technology/2020/nov/26/iphone-12-pro-max-r iPhone 12 Pro Max re\n",
      "https://www.theguardian.com/technology/2020/nov/25/part-human-part-mac Part human, part mac\n",
      "https://www.theguardian.com/technology/2020/nov/24/antiquated-process- 'Antiquated process'\n",
      "https://www.theguardian.com/technology/2020/nov/20/apple-accuses-faceb Apple accuses Facebo\n",
      "https://www.theguardian.com/technology/2020/nov/19/iphone-12-mini-revi iPhone 12 mini revie\n",
      "https://www.theguardian.com/technology/2020/nov/17/google-adds-opt-out Google adds opt-out \n",
      "https://www.theguardian.com/technology/2020/nov/17/apple-faces-privacy Apple faces privacy \n",
      "https://www.theguardian.com/technology/2020/nov/13/macos-11-big-sur-re macOS 11 Big Sur rev\n",
      "https://www.theguardian.com/technology/2020/nov/12/homepod-mini-review HomePod mini review:\n",
      "https://www.theguardian.com/technology/2020/nov/04/iphone-12-pro-revie iPhone 12 Pro review\n",
      "https://www.theguardian.com/technology/2020/oct/30/privacy-concerns-as Uber Eats drivers to\n",
      "https://www.theguardian.com/technology/2020/oct/29/iphone-12-review-ap iPhone 12 review: Ap\n",
      "https://www.theguardian.com/technology/live/2020/oct/28/section-230-he Section 230 hearings\n",
      "https://www.theguardian.com/technology/2020/oct/26/apple-ipad-air-2020 Apple iPad Air 2020 \n",
      "https://www.theguardian.com/technology/2020/oct/20/google-antitrust-ch Washington's crackdo\n",
      "https://www.theguardian.com/technology/commentisfree/2020/oct/15/cambr Behind Cambridge Ana\n",
      "https://www.theguardian.com/technology/live/2020/oct/13/iphone-12-laun iPhone 12 launch: Ap\n",
      "https://www.theguardian.com/technology/2020/oct/12/google-nest-audio-r Google Nest Audio re\n",
      "https://www.theguardian.com/technology/2020/oct/06/amazon-google-faceb Congress should rein\n",
      "https://www.theguardian.com/technology/2020/oct/05/apple-watch-series- Apple Watch Series 6\n",
      "https://www.theguardian.com/technology/2020/sep/30/trade-unions-urge-e Trade unions urge EU\n",
      "https://www.theguardian.com/technology/2020/sep/30/apple-ipad-2020-rev Apple iPad 2020 revi\n",
      "https://www.theguardian.com/technology/2020/sep/24/amazon-launches-sph Amazon launches sphe\n",
      "https://www.theguardian.com/technology/2020/sep/24/facebook-oversight- Facebook's long-awai\n",
      "https://www.theguardian.com/technology/2020/sep/24/how-to-download-the How to download the \n",
      "https://www.theguardian.com/technology/2020/sep/22/facebook-says-it-ma Facebook says it may\n",
      "https://www.theguardian.com/technology/2020/sep/22/tiktok-sale-the-rea TikTok: why it is be\n",
      "https://www.theguardian.com/technology/2020/sep/17/apples-surprise-os- Apple's surprise OS \n",
      "https://www.theguardian.com/technology/2020/sep/14/tiktok-bytedance-to Oracle confirms it w\n",
      "https://www.theguardian.com/technology/2020/sep/14/facebook-suffers-bl Facebook suffers blo\n",
      "https://www.theguardian.com/technology/2020/sep/09/android-11-release- Android 11 release: \n",
      "https://www.theguardian.com/technology/2020/sep/08/wheely-ride-hailing Wheely ride-hailing \n",
      "https://www.theguardian.com/technology/2020/aug/31/zoom-shares-record- Zoom shares hit reco\n",
      "https://www.theguardian.com/technology/2020/aug/28/amazons-halo-wristb Amazon's Halo wristb\n",
      "https://www.theguardian.com/technology/2020/aug/27/google-and-apple-to Google and Apple to \n",
      "https://www.theguardian.com/technology/2020/aug/24/zoom-apologises-aft Zoom apologises afte\n",
      "https://www.theguardian.com/technology/2020/aug/24/tiktok-lawsuit-trum TikTok suing Trump a\n",
      "https://www.theguardian.com/technology/2020/aug/17/google-giving-user- Google giving far-ri\n",
      "https://www.theguardian.com/technology/2020/aug/11/south-wales-police- South Wales police l\n",
      "https://www.theguardian.com/world/2020/aug/10/government-paid-vote-lea Government paid Vote\n",
      "https://www.theguardian.com/technology/2020/aug/07/donald-trump-tiktok Can Trump ban TikTok\n",
      "https://www.theguardian.com/technology/2020/aug/07/instagram-reels-fac Instagram Reels: Fac\n",
      "https://www.theguardian.com/technology/2020/aug/07/what-is-wechat-and- What is WeChat and w\n",
      "https://www.theguardian.com/technology/2020/aug/05/tiktok-gen-z-millen 'I don't care': youn\n",
      "https://www.theguardian.com/technology/2020/aug/04/pixel-4a-review-the Pixel 4a review: the\n",
      "https://www.theguardian.com/technology/2020/aug/03/tiktok-row-trump-to TikTok sale: Trump a\n",
      "https://www.theguardian.com/technology/2020/aug/01/boris-johnson-zoom- ‘After Boris Johnson\n",
      "https://www.theguardian.com/technology/2020/aug/01/best-smart-speakers The best smart speak\n",
      "https://www.theguardian.com/technology/2020/jul/31/tiktok-ban-us-trump TikTok: Trump report\n",
      "https://www.theguardian.com/technology/live/2020/jul/29/tech-congress- ‘This should never h\n",
      "https://www.theguardian.com/technology/2020/jul/26/roger-mcnamee-faceb Roger McNamee: ‘Face\n",
      "https://www.theguardian.com/technology/2020/jul/20/tiktok-fails-to-sha TikTok fails to shak\n",
      "https://www.theguardian.com/technology/2020/jul/20/uk-government-admit Government admits br\n",
      "https://www.theguardian.com/technology/2020/jul/20/uber-drivers-to-lau Uber drivers to laun\n",
      "https://www.theguardian.com/technology/2020/jul/17/us-judge-whatsapp-l US judge: WhatsApp l\n",
      "https://www.theguardian.com/technology/2020/jul/16/tiktok-video-sharin Should you delete Ti\n",
      "https://www.theguardian.com/technology/2020/jul/16/the-background-to-e The background to EU\n",
      "https://www.theguardian.com/technology/2020/jul/16/tech-firms-like-fac Tech firms like Face\n",
      "https://www.theguardian.com/technology/2020/jul/16/there-are-calls-to- There are calls to b\n",
      "https://www.theguardian.com/technology/2020/jul/14/huawei-decision-may Huawei decision 'may\n",
      "https://www.theguardian.com/technology/2020/jul/14/tiktok-tells-austra TikTok tells Austral\n",
      "https://www.theguardian.com/technology/2020/jul/10/tiktok-amazon-secur Amazon tells employe\n",
      "https://www.theguardian.com/technology/2020/jul/06/tiktok-may-be-data- TikTok may be 'data \n",
      "https://www.theguardian.com/technology/2020/jul/02/earn-it-act-online- Online privacy exper\n",
      "https://www.theguardian.com/technology/2020/jul/02/whatsapp-groups-con What's wrong with Wh\n",
      "https://www.theguardian.com/technology/2020/jun/24/google-says-it-will Google says it will \n",
      "https://www.theguardian.com/technology/2020/jun/24/businesses-face-pri Businesses face priv\n",
      "https://www.theguardian.com/technology/2020/jun/23/uks-facial-recognit UK’s facial recognit\n",
      "https://www.theguardian.com/technology/2020/jun/22/apple-ditches-intel Apple ditches Intel \n",
      "https://www.theguardian.com/technology/live/2020/jun/22/apple-expected WWDC 2020: Apple lea\n",
      "https://www.theguardian.com/technology/2020/jun/22/apple-ios-14-new-fe Apple iOS 14: new fe\n",
      "https://www.theguardian.com/technology/2020/jun/17/zoom-encryption-fre Zoom will provide en\n",
      "https://www.theguardian.com/technology/2020/jun/16/apple-pay-and-app-s Apple Pay and App St\n",
      "https://www.theguardian.com/technology/2020/jun/10/amazon-rekognition- Amazon to ban police\n",
      "https://www.theguardian.com/technology/2020/jun/09/ibm-quits-facial-re IBM quits facial-rec\n"
     ]
    }
   ],
   "source": [
    "for result in response['results']: \n",
    "    print(result['webUrl'][:70], result['webTitle'][:20])"
   ]
  }
 ],
 "metadata": {
  "kernelspec": {
   "display_name": "Python 3",
   "language": "python",
   "name": "python3"
  },
  "language_info": {
   "codemirror_mode": {
    "name": "ipython",
    "version": 3
   },
   "file_extension": ".py",
   "mimetype": "text/x-python",
   "name": "python",
   "nbconvert_exporter": "python",
   "pygments_lexer": "ipython3",
   "version": "3.7.6"
  }
 },
 "nbformat": 4,
 "nbformat_minor": 4
}
